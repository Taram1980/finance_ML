{
 "cells": [
  {
   "cell_type": "code",
   "execution_count": 1,
   "metadata": {},
   "outputs": [
    {
     "data": {
      "text/html": [
       "<style>.container { width:100% !important; }</style>"
      ],
      "text/plain": [
       "<IPython.core.display.HTML object>"
      ]
     },
     "metadata": {},
     "output_type": "display_data"
    }
   ],
   "source": [
    "from IPython.core.display import display, HTML\n",
    "display(HTML(\"<style>.container { width:100% !important; }</style>\"))\n",
    "import requests, json, os, datetime, traceback, bs4, webbrowser\n",
    "import pandas as pd\n",
    "import numpy  as np\n",
    "from time import sleep\n"
   ]
  },
  {
   "cell_type": "code",
   "execution_count": 2,
   "metadata": {},
   "outputs": [],
   "source": [
    "headers = {\n",
    "    \"Host\": \"egrul.nalog.ru\",\n",
    "    \"User-Agent\": \"Mozilla/5.0 (Windows NT 10.0; Win64; x64; rv:66.0) Gecko/20100101 Firefox/66.0\",\n",
    "    \"Accept\": \"application/json, text/javascript, */*; q=0.01\",\n",
    "    \"Accept-Language\": \"ru-RU,ru;q=0.8,en-US;q=0.5,en;q=0.3\",\n",
    "    \"Accept-Encoding\": \"gzip, deflate, br\",\n",
    "    \"Referer\": \"https://egrul.nalog.ru/index.html\",\n",
    "    \"Content-Type\": \"application/x-www-form-urlencoded\",\n",
    "    \"X-Requested-With\": \"XMLHttpRequest\"\n",
    "    }"
   ]
  },
  {
   "cell_type": "code",
   "execution_count": 155,
   "metadata": {},
   "outputs": [
    {
     "data": {
      "text/html": [
       "<div>\n",
       "<style scoped>\n",
       "    .dataframe tbody tr th:only-of-type {\n",
       "        vertical-align: middle;\n",
       "    }\n",
       "\n",
       "    .dataframe tbody tr th {\n",
       "        vertical-align: top;\n",
       "    }\n",
       "\n",
       "    .dataframe thead th {\n",
       "        text-align: right;\n",
       "    }\n",
       "</style>\n",
       "<table border=\"1\" class=\"dataframe\">\n",
       "  <thead>\n",
       "    <tr style=\"text-align: right;\">\n",
       "      <th></th>\n",
       "      <th>inn</th>\n",
       "    </tr>\n",
       "  </thead>\n",
       "  <tbody>\n",
       "    <tr>\n",
       "      <th>0</th>\n",
       "      <td>7736207543</td>\n",
       "    </tr>\n",
       "    <tr>\n",
       "      <th>1</th>\n",
       "      <td>23</td>\n",
       "    </tr>\n",
       "    <tr>\n",
       "      <th>2</th>\n",
       "      <td>1661056318</td>\n",
       "    </tr>\n",
       "    <tr>\n",
       "      <th>3</th>\n",
       "      <td>111111111111111</td>\n",
       "    </tr>\n",
       "    <tr>\n",
       "      <th>4</th>\n",
       "      <td>5752030868</td>\n",
       "    </tr>\n",
       "    <tr>\n",
       "      <th>5</th>\n",
       "      <td>6732161906</td>\n",
       "    </tr>\n",
       "  </tbody>\n",
       "</table>\n",
       "</div>"
      ],
      "text/plain": [
       "               inn\n",
       "0       7736207543\n",
       "1               23\n",
       "2       1661056318\n",
       "3  111111111111111\n",
       "4       5752030868\n",
       "5       6732161906"
      ]
     },
     "execution_count": 155,
     "metadata": {},
     "output_type": "execute_result"
    }
   ],
   "source": [
    "ff = [\n",
    "#1000000000,\n",
    "7736207543,\n",
    "23,\n",
    "1661056318,\n",
    "111111111111111,\n",
    "5752030868,\n",
    "6732161906,\n",
    "]\n",
    "gg = pd.DataFrame(ff, columns=['inn'])\n",
    "gg.to_excel('gg.xlsx', index=False)\n",
    "gg = pd.read_excel('gg.xlsx')\n",
    "gg\n",
    "#gg['inn'].values.tolist()\n",
    "#str(np.array(gg['inn']))"
   ]
  },
  {
   "cell_type": "code",
   "execution_count": null,
   "metadata": {},
   "outputs": [],
   "source": []
  },
  {
   "cell_type": "code",
   "execution_count": 156,
   "metadata": {},
   "outputs": [
    {
     "name": "stderr",
     "output_type": "stream",
     "text": [
      "Traceback (most recent call last):\n",
      "  File \"<ipython-input-156-86df49ea7627>\", line 105, in <module>\n",
      "    st = json.loads(r.text)['status']\n",
      "  File \"C:\\Users\\afecn\\anaconda3.1\\lib\\json\\__init__.py\", line 348, in loads\n",
      "    return _default_decoder.decode(s)\n",
      "  File \"C:\\Users\\afecn\\anaconda3.1\\lib\\json\\decoder.py\", line 337, in decode\n",
      "    obj, end = self.raw_decode(s, idx=_w(s, 0).end())\n",
      "  File \"C:\\Users\\afecn\\anaconda3.1\\lib\\json\\decoder.py\", line 355, in raw_decode\n",
      "    raise JSONDecodeError(\"Expecting value\", s, err.value) from None\n",
      "json.decoder.JSONDecodeError: Expecting value: line 3 column 1 (char 2)\n"
     ]
    }
   ],
   "source": [
    "querys = gg['inn'].values.tolist()\n",
    "#querys = ['7707510023', 'ООО Яндекс', '1057749528100', '7736207543', '1661056318','5752030868','6732161906']\n",
    "s = requests.Session()\n",
    "n = 0\n",
    "\n",
    "for item in querys:\n",
    "    query = querys[n]\n",
    "    r = s.get(\"https://egrul.nalog.ru/index.html\",\n",
    "        headers=headers\n",
    "        )\n",
    "\n",
    "#запроси по ИНН\n",
    "    req = requests.Request(\n",
    "        'POST',\n",
    "        'https://egrul.nalog.ru/',\n",
    "        data=b'vyp3CaptchaToken=&page=&query='+str(query).encode()+b'&region=&PreventChromeAutocomplete=', \n",
    "        headers = headers\n",
    "        )\n",
    "    r = s.prepare_request(req)\n",
    "    r = s.send(r)\n",
    "    item = json.loads(r.text)\n",
    "    \n",
    "# работа с капчей \n",
    "    try:\n",
    "        if item[\"ERRORS\"] != '' and (item[\"ERRORS\"])[\"captchaSearch\"] != '':\n",
    "            while True:\n",
    "                r = s.get('https://egrul.nalog.ru/captcha-dialog.html',\n",
    "                headers = {\n",
    "                    \"Host\": \"egrul.nalog.ru\",\n",
    "                    \"User-Agent\": \"Mozilla/5.0 (Windows NT 10.0; Win64; x64; rv:66.0) Gecko/20100101 Firefox/66.0\",\n",
    "                    \"Accept-Language\": \"ru-RU,ru;q=0.8,en-US;q=0.5,en;q=0.3\",\n",
    "                    \"Referer\": \"https://egrul.nalog.ru/index.html\",\n",
    "                    \"Pragma\": \"no-cache\",\n",
    "                    \"Cache-Control\": \"no-cache\"\n",
    "                })\n",
    "                b = bs4.BeautifulSoup(r.content.decode(),features=\"lxml\").find('div',class_='field-data').find('img').get('src')\n",
    "                webbrowser.open('https://egrul.nalog.ru' + b)\n",
    "                ct = b.split('?a=')[1].split('&')[0]\n",
    "                captcha = input('Введите капчу: ')\n",
    "\n",
    "                r = requests.Request(\n",
    "                'POST',\n",
    "                'https://egrul.nalog.ru/captcha-proc.json',\n",
    "                data=b'captcha='+captcha.encode()+b'&captchaToken='+ct.encode(), \n",
    "                headers = {\n",
    "                    \"Host\": \"egrul.nalog.ru\",\n",
    "                    \"User-Agent\": \"Mozilla/5.0 (Windows NT 10.0; Win64; x64; rv:66.0) Gecko/20100101 Firefox/66.0\",\n",
    "                    \"Accept\": \"application/json, text/javascript, */*; q=0.01\",\n",
    "                    \"Accept-Language\": \"ru-RU,ru;q=0.8,en-US;q=0.5,en;q=0.3\",\n",
    "                    \"Accept-Encoding\": \"gzip, deflate\",\n",
    "                    \"Referer\": \"https://egrul.nalog.ru/index.html\"\n",
    "                    }\n",
    "                )\n",
    "\n",
    "                r = s.prepare_request(req)\n",
    "                r = s.send(r)\n",
    "                item = json.loads(r.text)\n",
    "\n",
    "                try:\n",
    "                    tr = False\n",
    "                    if item[\"ERRORS\"] != '':\n",
    "                        tr = True\n",
    "                except Exception as e:\n",
    "                    print(e)\n",
    "                    pass\n",
    "                if tr == False: break\n",
    "                \n",
    "\n",
    "    except Exception as e:\n",
    "        pass\n",
    "\n",
    "#работа капчей\n",
    "\n",
    "    \n",
    "    t = json.loads(r.text)['t']\n",
    "\n",
    "    sleep(0.5)\n",
    "\n",
    "    r = s.get(\"https://egrul.nalog.ru/search-result/\"+str(t),\n",
    "        headers = headers\n",
    "        )\n",
    "\n",
    "    jsn = json.loads(r.text) #словарь \n",
    "\n",
    "    try:\n",
    "        while True:\n",
    "            if jsn['status'] != 'wait': break\n",
    "            sleep(0.2)\n",
    "    except Exception:\n",
    "        pass\n",
    "\n",
    "    try:\n",
    "        item = (jsn[\"rows\"])[0]  #ключ\n",
    "                \n",
    "        t = item['t']\n",
    "\n",
    "        r = s.get(\"https://egrul.nalog.ru/vyp-request/\"+str(t),  #загрузочная URL\n",
    "            headers=headers\n",
    "            )\n",
    "        sleep(0.5)\n",
    "        while True:\n",
    "            r = s.get(\"https://egrul.nalog.ru/vyp-status/\"+str(t),\n",
    "                headers = headers\n",
    "                )\n",
    "            st = json.loads(r.text)['status']\n",
    "            if st == 'ready': break\n",
    "            sleep(0.5)\n",
    "\n",
    "        r = s.get(\"https://egrul.nalog.ru/vyp-download/\"+str(t),\n",
    "                headers = headers\n",
    "                )\n",
    "\n",
    "\n",
    "        f = open(str(query) + '.pdf','wb+')\n",
    "        f.write(r.content)\n",
    "        f.close()\n",
    "        n += 1\n",
    "#        sleep(5)\n",
    "\n",
    "    except Exception as e:\n",
    "        traceback.print_exc()\n",
    "        pass\n"
   ]
  },
  {
   "cell_type": "code",
   "execution_count": 48,
   "metadata": {},
   "outputs": [
    {
     "data": {
      "text/plain": [
       "'https://egrul.nalog.ru/vyp-download/21EB7609794A3184E83FDD9890897128582901E5B498BC6D36DA64A9FD1722D22D3CC74FADF2EDE6A2BD1BEE5153B77B7390D4E3BDD4B2570DB7102265B9685D'"
      ]
     },
     "execution_count": 48,
     "metadata": {},
     "output_type": "execute_result"
    }
   ],
   "source": [
    "\"https://egrul.nalog.ru/vyp-download/\"+str(t)"
   ]
  },
  {
   "cell_type": "code",
   "execution_count": null,
   "metadata": {},
   "outputs": [],
   "source": []
  }
 ],
 "metadata": {
  "kernelspec": {
   "display_name": "Python 3",
   "language": "python",
   "name": "python3"
  },
  "language_info": {
   "codemirror_mode": {
    "name": "ipython",
    "version": 3
   },
   "file_extension": ".py",
   "mimetype": "text/x-python",
   "name": "python",
   "nbconvert_exporter": "python",
   "pygments_lexer": "ipython3",
   "version": "3.7.6"
  }
 },
 "nbformat": 4,
 "nbformat_minor": 4
}
