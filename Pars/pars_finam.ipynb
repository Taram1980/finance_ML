{
 "cells": [
  {
   "cell_type": "code",
   "execution_count": 390,
   "metadata": {},
   "outputs": [],
   "source": [
    "import pandas as pd\n",
    "import numpy as np\n",
    "from selenium import webdriver\n",
    "from selenium.webdriver.common.keys import Keys\n",
    "import time\n",
    "from selenium.webdriver.support import expected_conditions as EC\n",
    "from selenium.webdriver.support.ui import WebDriverWait\n",
    "from selenium.webdriver.common.by import By\n",
    "from selenium.webdriver.common.action_chains import ActionChains\n",
    "from selenium.webdriver.firefox.options import Options\n",
    "from selenium.webdriver.support.ui import Select\n",
    "from selenium.common.exceptions import TimeoutException"
   ]
  },
  {
   "cell_type": "code",
   "execution_count": 26,
   "metadata": {},
   "outputs": [
    {
     "data": {
      "text/html": [
       "<style>.container { width:100% !important; }</style>"
      ],
      "text/plain": [
       "<IPython.core.display.HTML object>"
      ]
     },
     "metadata": {},
     "output_type": "display_data"
    }
   ],
   "source": [
    "from IPython.core.display import display, HTML\n",
    "display(HTML(\"<style>.container { width:100% !important; }</style>\"))\n"
   ]
  },
  {
   "cell_type": "code",
   "execution_count": 364,
   "metadata": {},
   "outputs": [],
   "source": [
    "#options = Options()\n",
    "#options.add_argument(\"--headless\")\n",
    "#options.set_headless(headless=True)\n",
    "Firefox = webdriver.Firefox(executable_path = \"C:\\Program Files\\Mozilla Firefox\\geckodriver.exe\")\n"
   ]
  },
  {
   "cell_type": "code",
   "execution_count": 506,
   "metadata": {},
   "outputs": [],
   "source": [
    "dic = [\n",
    "# #     'pllc-yandex-n-v',\n",
    "# #     'alrosa-ao',\n",
    "#     'aeroflot',\n",
    "#     'bashneft-ank-ao',\n",
    "     'vtb',\n",
    "     'gazprom',\n",
    "# #     'nornickel-gmk',\n",
    "     'gazprom-neft',\n",
    "     'inter-rao-ao',\n",
    "# #     'lukoil',\n",
    "#     'mts',\n",
    "#     'magnit',\n",
    "#     'mechel',\n",
    "#     'moscowexchange',\n",
    "#     'novatek',\n",
    "#     'polus-zoloto',\n",
    "#     'raspadskaya',\n",
    "# #     'rosneft',\n",
    "#     'rosseti-ao',\n",
    "#     'rostelecom',\n",
    "#      'rusgidro',\n",
    "# #      'sberbank',\n",
    "#     'sberbank-pref',\n",
    "#     'afk-sistema',\n",
    "#     'surgut',\n",
    "#     'tatneft-3',\n",
    "#     'transneft-pref',\n",
    "#     'fsk-ees',\n",
    "     \n",
    "]"
   ]
  },
  {
   "cell_type": "code",
   "execution_count": null,
   "metadata": {},
   "outputs": [],
   "source": [
    ".finam-ui-dialog-button-cancel > span:nth-child(1)"
   ]
  },
  {
   "cell_type": "code",
   "execution_count": 469,
   "metadata": {},
   "outputs": [],
   "source": [
    "Firefox = webdriver.Firefox(executable_path = \"C:\\Program Files\\Mozilla Firefox\\geckodriver.exe\")\n",
    "# time.sleep(5)"
   ]
  },
  {
   "cell_type": "code",
   "execution_count": 507,
   "metadata": {
    "scrolled": true
   },
   "outputs": [
    {
     "data": {
      "text/plain": [
       "2012"
      ]
     },
     "metadata": {},
     "output_type": "display_data"
    },
    {
     "data": {
      "text/plain": [
       "'vtb'"
      ]
     },
     "metadata": {},
     "output_type": "display_data"
    },
    {
     "data": {
      "text/plain": [
       "2012"
      ]
     },
     "metadata": {},
     "output_type": "display_data"
    },
    {
     "data": {
      "text/plain": [
       "'gazprom'"
      ]
     },
     "metadata": {},
     "output_type": "display_data"
    },
    {
     "data": {
      "text/plain": [
       "2012"
      ]
     },
     "metadata": {},
     "output_type": "display_data"
    },
    {
     "data": {
      "text/plain": [
       "'gazprom-neft'"
      ]
     },
     "metadata": {},
     "output_type": "display_data"
    },
    {
     "data": {
      "text/plain": [
       "2012"
      ]
     },
     "metadata": {},
     "output_type": "display_data"
    },
    {
     "data": {
      "text/plain": [
       "'inter-rao-ao'"
      ]
     },
     "metadata": {},
     "output_type": "display_data"
    },
    {
     "name": "stdout",
     "output_type": "stream",
     "text": [
      "Wall time: 33min 41s\n"
     ]
    }
   ],
   "source": [
    "%%time\n",
    "# Firefox = webdriver.Firefox(executable_path = \"C:\\Program Files\\Mozilla Firefox\\geckodriver.exe\")\n",
    "# time.sleep(5)\n",
    "for name in dic:\n",
    "    Firefox.get('https://www.finam.ru/profile/moex-akcii/' + name + '/export/')\n",
    "    time.sleep (1)\n",
    "    \n",
    "    for year in range(2005,2013, 1):\n",
    "\n",
    "    #fitst windows\n",
    "        (Firefox.find_element_by_xpath('//*[@id=\"issuer-profile-export-from\"]')).click()\n",
    "        \n",
    "        time.sleep (10)\n",
    "      #  s = Select(Firefox.find_element_by_css_selector('.ui-datepicker-year'))\n",
    "        s = Select(Firefox.find_element_by_class_name('ui-datepicker-year'))\n",
    "      #  s = Select(Firefox.find_element_by_xpath('/html/body/div[16]/div/div/select[2]'))\n",
    "      #  WebDriverWait(Firefox, 20).until(EC.element_to_be_clickable((By.XPATH, '//*[@id=\"issuer-profile-export-from\"]')))\n",
    "        WebDriverWait(Firefox, 5).until(EC.element_to_be_clickable((By.XPATH, '//*[@id=\"issuer-profile-export-from\"]')))\n",
    "        \n",
    "        time.sleep(10)\n",
    "        s.select_by_value(str(year))\n",
    "#        display(len(s.options))\n",
    "        \n",
    "        time.sleep(10)\n",
    "        for i in range(1, 8, 1):\n",
    "            try:\n",
    "                (Firefox.find_element_by_xpath('/html/body/div[17]/table/tbody/tr[1]/td[' + str(i) + ']/a')).click()\n",
    "    #            print(f\"right_namber{i}\")\n",
    "            except:\n",
    "                continue\n",
    "\n",
    "    #second windows\n",
    "        (Firefox.find_element_by_xpath('//*[@id=\"issuer-profile-export-to\"]')).click()\n",
    "        WebDriverWait(Firefox, 20).until(EC.element_to_be_clickable((By.XPATH, '//*[@id=\"issuer-profile-export-to\"]')))\n",
    "        s = Select(Firefox.find_element_by_css_selector('.ui-datepicker-year'))\n",
    "        \n",
    "        time.sleep(5)\n",
    "        s.select_by_value(str(year+1))\n",
    "#        time.sleep(1)\n",
    "        for i in range(1, 8, 1):\n",
    "            try:\n",
    "                (Firefox.find_element_by_xpath('/html/body/div[17]/table/tbody/tr[1]/td[' + str(i) + ']/a')).click()\n",
    "    #            print(f\"right_namber{i}\")\n",
    "            except:\n",
    "                continue    \n",
    "\n",
    "    #click download\n",
    "        do = Firefox.find_element_by_css_selector('.finam-ui-dialog-button-cancel') \n",
    "        do.click()\n",
    "        try:\n",
    "            WebDriverWait(Firefox, 10).until(EC.alert_is_present(),\n",
    "                                           'Timed out waiting for PA creation ' +\n",
    "                                           'confirmation popup to appear.')\n",
    "            time.sleep(3)\n",
    "            alert = Firefox.switch_to.alert\n",
    "            alert.accept()\n",
    "    #        print(\"alert accepted\")\n",
    "        except TimeoutException:\n",
    "            print(\"no alert\")\n",
    "        time.sleep(20)\n",
    "        display()\n",
    "    display(year, name)"
   ]
  },
  {
   "cell_type": "code",
   "execution_count": null,
   "metadata": {},
   "outputs": [],
   "source": []
  },
  {
   "cell_type": "code",
   "execution_count": null,
   "metadata": {},
   "outputs": [],
   "source": []
  },
  {
   "cell_type": "code",
   "execution_count": null,
   "metadata": {},
   "outputs": [],
   "source": []
  },
  {
   "cell_type": "code",
   "execution_count": null,
   "metadata": {},
   "outputs": [],
   "source": []
  },
  {
   "cell_type": "code",
   "execution_count": 204,
   "metadata": {},
   "outputs": [
    {
     "name": "stdout",
     "output_type": "stream",
     "text": [
      "alert accepted\n"
     ]
    }
   ],
   "source": [
    "#стерли добавили фишку\n",
    "do = Firefox.find_element_by_xpath('//*[@id=\"issuer-profile-export-contract\"]') \n",
    "\n",
    "#click download\n",
    "do = Firefox.find_element_by_css_selector('.finam-ui-dialog-button-cancel') \n",
    "do.click()\n",
    "try:\n",
    "    WebDriverWait(Firefox, 3).until(EC.alert_is_present(),\n",
    "                                   'Timed out waiting for PA creation ' +\n",
    "                                   'confirmation popup to appear.')\n",
    "#    time.sleep(2)\n",
    "    alert = Firefox.switch_to.alert\n",
    "    alert.accept()\n",
    "    print(\"alert accepted\")\n",
    "except TimeoutException:\n",
    "    print(\"no alert\")\n",
    " "
   ]
  },
  
