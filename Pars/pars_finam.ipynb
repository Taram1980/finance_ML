{
 "cells": [
  {
   "cell_type": "code",
   "execution_count": 390,
   "metadata": {},
   "outputs": [],
   "source": [
    "import pandas as pd\n",
    "import numpy as np\n",
    "from selenium import webdriver\n",
    "from selenium.webdriver.common.keys import Keys\n",
    "import time\n",
    "from selenium.webdriver.support import expected_conditions as EC\n",
    "from selenium.webdriver.support.ui import WebDriverWait\n",
    "from selenium.webdriver.common.by import By\n",
    "from selenium.webdriver.common.action_chains import ActionChains\n",
    "from selenium.webdriver.firefox.options import Options\n",
    "from selenium.webdriver.support.ui import Select\n",
    "from selenium.common.exceptions import TimeoutException"
   ]
  },
  {
   "cell_type": "code",
   "execution_count": 26,
   "metadata": {},
   "outputs": [
    {
     "data": {
      "text/html": [
       "<style>.container { width:100% !important; }</style>"
      ],
      "text/plain": [
       "<IPython.core.display.HTML object>"
      ]
     },
     "metadata": {},
     "output_type": "display_data"
    }
   ],
   "source": [
    "from IPython.core.display import display, HTML\n",
    "display(HTML(\"<style>.container { width:100% !important; }</style>\"))\n"
   ]
  },
  {
   "cell_type": "code",
   "execution_count": 364,
   "metadata": {},
   "outputs": [],
   "source": [
    "#options = Options()\n",
    "#options.add_argument(\"--headless\")\n",
    "#options.set_headless(headless=True)\n",
    "Firefox = webdriver.Firefox(executable_path = \"C:\\Program Files\\Mozilla Firefox\\geckodriver.exe\")\n"
   ]
  },
  {
   "cell_type": "code",
   "execution_count": 506,
   "metadata": {},
   "outputs": [],
   "source": [
    "dic = [\n",
    "# #     'pllc-yandex-n-v',\n",
    "# #     'alrosa-ao',\n",
    "#     'aeroflot',\n",
    "#     'bashneft-ank-ao',\n",
    "     'vtb',\n",
    "     'gazprom',\n",
    "# #     'nornickel-gmk',\n",
    "     'gazprom-neft',\n",
    "     'inter-rao-ao',\n",
    "# #     'lukoil',\n",
    "#     'mts',\n",
    "#     'magnit',\n",
    "#     'mechel',\n",
    "#     'moscowexchange',\n",
    "#     'novatek',\n",
    "#     'polus-zoloto',\n",
    "#     'raspadskaya',\n",
    "# #     'rosneft',\n",
    "#     'rosseti-ao',\n",
    "#     'rostelecom',\n",
    "#      'rusgidro',\n",
    "# #      'sberbank',\n",
    "#     'sberbank-pref',\n",
    "#     'afk-sistema',\n",
    "#     'surgut',\n",
    "#     'tatneft-3',\n",
    "#     'transneft-pref',\n",
    "#     'fsk-ees',\n",
    "     \n",
    "]"
   ]
  },
  {
   "cell_type": "code",
   "execution_count": null,
   "metadata": {},
   "outputs": [],
   "source": [
    ".finam-ui-dialog-button-cancel > span:nth-child(1)"
   ]
  },
  {
   "cell_type": "code",
   "execution_count": 469,
   "metadata": {},
   "outputs": [],
   "source": [
    "Firefox = webdriver.Firefox(executable_path = \"C:\\Program Files\\Mozilla Firefox\\geckodriver.exe\")\n",
    "# time.sleep(5)"
   ]
  },
  {
   "cell_type": "code",
   "execution_count": 507,
   "metadata": {
    "scrolled": true
   },
   "outputs": [
    {
     "data": {
      "text/plain": [
       "2012"
      ]
     },
     "metadata": {},
     "output_type": "display_data"
    },
    {
     "data": {
      "text/plain": [
       "'vtb'"
      ]
     },
     "metadata": {},
     "output_type": "display_data"
    },
    {
     "data": {
      "text/plain": [
       "2012"
      ]
     },
     "metadata": {},
     "output_type": "display_data"
    },
    {
     "data": {
      "text/plain": [
       "'gazprom'"
      ]
     },
     "metadata": {},
     "output_type": "display_data"
    },
    {
     "data": {
      "text/plain": [
       "2012"
      ]
     },
     "metadata": {},
     "output_type": "display_data"
    },
    {
     "data": {
      "text/plain": [
       "'gazprom-neft'"
      ]
     },
     "metadata": {},
     "output_type": "display_data"
    },
    {
     "data": {
      "text/plain": [
       "2012"
      ]
     },
     "metadata": {},
     "output_type": "display_data"
    },
    {
     "data": {
      "text/plain": [
       "'inter-rao-ao'"
      ]
     },
     "metadata": {},
     "output_type": "display_data"
    },
    {
     "name": "stdout",
     "output_type": "stream",
     "text": [
      "Wall time: 33min 41s\n"
     ]
    }
   ],
   "source": [
    "%%time\n",
    "# Firefox = webdriver.Firefox(executable_path = \"C:\\Program Files\\Mozilla Firefox\\geckodriver.exe\")\n",
    "# time.sleep(5)\n",
    "for name in dic:\n",
    "    Firefox.get('https://www.finam.ru/profile/moex-akcii/' + name + '/export/')\n",
    "    time.sleep (1)\n",
    "    \n",
    "    for year in range(2005,2013, 1):\n",
    "\n",
    "    #fitst windows\n",
    "        (Firefox.find_element_by_xpath('//*[@id=\"issuer-profile-export-from\"]')).click()\n",
    "        \n",
    "        time.sleep (10)\n",
    "      #  s = Select(Firefox.find_element_by_css_selector('.ui-datepicker-year'))\n",
    "        s = Select(Firefox.find_element_by_class_name('ui-datepicker-year'))\n",
    "      #  s = Select(Firefox.find_element_by_xpath('/html/body/div[16]/div/div/select[2]'))\n",
    "      #  WebDriverWait(Firefox, 20).until(EC.element_to_be_clickable((By.XPATH, '//*[@id=\"issuer-profile-export-from\"]')))\n",
    "        WebDriverWait(Firefox, 5).until(EC.element_to_be_clickable((By.XPATH, '//*[@id=\"issuer-profile-export-from\"]')))\n",
    "        \n",
    "        time.sleep(10)\n",
    "        s.select_by_value(str(year))\n",
    "#        display(len(s.options))\n",
    "        \n",
    "        time.sleep(10)\n",
    "        for i in range(1, 8, 1):\n",
    "            try:\n",
    "                (Firefox.find_element_by_xpath('/html/body/div[17]/table/tbody/tr[1]/td[' + str(i) + ']/a')).click()\n",
    "    #            print(f\"right_namber{i}\")\n",
    "            except:\n",
    "                continue\n",
    "\n",
    "    #second windows\n",
    "        (Firefox.find_element_by_xpath('//*[@id=\"issuer-profile-export-to\"]')).click()\n",
    "        WebDriverWait(Firefox, 20).until(EC.element_to_be_clickable((By.XPATH, '//*[@id=\"issuer-profile-export-to\"]')))\n",
    "        s = Select(Firefox.find_element_by_css_selector('.ui-datepicker-year'))\n",
    "        \n",
    "        time.sleep(5)\n",
    "        s.select_by_value(str(year+1))\n",
    "#        time.sleep(1)\n",
    "        for i in range(1, 8, 1):\n",
    "            try:\n",
    "                (Firefox.find_element_by_xpath('/html/body/div[17]/table/tbody/tr[1]/td[' + str(i) + ']/a')).click()\n",
    "    #            print(f\"right_namber{i}\")\n",
    "            except:\n",
    "                continue    \n",
    "\n",
    "    #click download\n",
    "        do = Firefox.find_element_by_css_selector('.finam-ui-dialog-button-cancel') \n",
    "        do.click()\n",
    "        try:\n",
    "            WebDriverWait(Firefox, 10).until(EC.alert_is_present(),\n",
    "                                           'Timed out waiting for PA creation ' +\n",
    "                                           'confirmation popup to appear.')\n",
    "            time.sleep(3)\n",
    "            alert = Firefox.switch_to.alert\n",
    "            alert.accept()\n",
    "    #        print(\"alert accepted\")\n",
    "        except TimeoutException:\n",
    "            print(\"no alert\")\n",
    "        time.sleep(20)\n",
    "        display()\n",
    "    display(year, name)"
   ]
  },
  {
   "cell_type": "code",
   "execution_count": null,
   "metadata": {},
   "outputs": [],
   "source": []
  },
  {
   "cell_type": "code",
   "execution_count": null,
   "metadata": {},
   "outputs": [],
   "source": []
  },
  {
   "cell_type": "code",
   "execution_count": null,
   "metadata": {},
   "outputs": [],
   "source": []
  },
  {
   "cell_type": "code",
   "execution_count": null,
   "metadata": {},
   "outputs": [],
   "source": []
  },
  {
   "cell_type": "code",
   "execution_count": 204,
   "metadata": {},
   "outputs": [
    {
     "name": "stdout",
     "output_type": "stream",
     "text": [
      "alert accepted\n"
     ]
    }
   ],
   "source": [
    "#стерли добавили фишку\n",
    "do = Firefox.find_element_by_xpath('//*[@id=\"issuer-profile-export-contract\"]') \n",
    "\n",
    "#click download\n",
    "do = Firefox.find_element_by_css_selector('.finam-ui-dialog-button-cancel') \n",
    "do.click()\n",
    "try:\n",
    "    WebDriverWait(Firefox, 3).until(EC.alert_is_present(),\n",
    "                                   'Timed out waiting for PA creation ' +\n",
    "                                   'confirmation popup to appear.')\n",
    "#    time.sleep(2)\n",
    "    alert = Firefox.switch_to.alert\n",
    "    alert.accept()\n",
    "    print(\"alert accepted\")\n",
    "except TimeoutException:\n",
    "    print(\"no alert\")\n",
    " "
   ]
  },
  {
   "cell_type": "code",
   "execution_count": 201,
   "metadata": {},
   "outputs": [],
   "source": []
  },
  {
   "cell_type": "code",
   "execution_count": null,
   "metadata": {},
   "outputs": [],
   "source": []
  },
  {
   "cell_type": "code",
   "execution_count": null,
   "metadata": {},
   "outputs": [],
   "source": []
  },
  {
   "cell_type": "code",
   "execution_count": 84,
   "metadata": {},
   "outputs": [
    {
     "data": {
      "text/plain": [
       "[7, 7, 3, 6, 2, 0, 7, 5, 4, 3]"
      ]
     },
     "metadata": {},
     "output_type": "display_data"
    },
    {
     "data": {
      "text/plain": [
       "'count'"
      ]
     },
     "metadata": {},
     "output_type": "display_data"
    },
    {
     "data": {
      "text/plain": [
       "'download'"
      ]
     },
     "metadata": {},
     "output_type": "display_data"
    },
    {
     "data": {
      "text/plain": [
       "[1, 6, 6, 1, 0, 5, 6, 3, 1, 8]"
      ]
     },
     "metadata": {},
     "output_type": "display_data"
    },
    {
     "data": {
      "text/plain": [
       "'count'"
      ]
     },
     "metadata": {},
     "output_type": "display_data"
    },
    {
     "data": {
      "text/plain": [
       "'download'"
      ]
     },
     "metadata": {},
     "output_type": "display_data"
    },
    {
     "data": {
      "text/plain": [
       "[5, 7, 5, 2, 0, 3, 0, 8, 6, 8]"
      ]
     },
     "metadata": {},
     "output_type": "display_data"
    },
    {
     "data": {
      "text/plain": [
       "'count'"
      ]
     },
     "metadata": {},
     "output_type": "display_data"
    },
    {
     "data": {
      "text/plain": [
       "'download'"
      ]
     },
     "metadata": {},
     "output_type": "display_data"
    },
    {
     "data": {
      "text/plain": [
       "[6, 7, 3, 2, 1, 6, 1, 9, 0, 6]"
      ]
     },
     "metadata": {},
     "output_type": "display_data"
    },
    {
     "data": {
      "text/plain": [
       "'count'"
      ]
     },
     "metadata": {},
     "output_type": "display_data"
    },
    {
     "data": {
      "text/plain": [
       "'download'"
      ]
     },
     "metadata": {},
     "output_type": "display_data"
    },
    {
     "name": "stdout",
     "output_type": "stream",
     "text": [
      "Wall time: 12.9 s\n"
     ]
    }
   ],
   "source": [
    "%%time\n",
    "\n",
    "list = []\n",
    "for i in gg['inn']:\n",
    "    if (len(str(i))) == 10:  # корректные ИНН если 10 значные\n",
    "        for ii in range (9, -1, -1):\n",
    "            z = i//10**ii\n",
    "            i = i-z*10**(ii)\n",
    "            list.append(z)\n",
    "        display(list)\n",
    "        \n",
    "     \n",
    "        pars(list)\n",
    "    \n",
    "        list = []\n",
    "\n",
    "    \n"
   ]
  },
  {
   "cell_type": "markdown",
   "metadata": {},
   "source": [
    "## Tabula"
   ]
  },
  {
   "cell_type": "code",
   "execution_count": 116,
   "metadata": {},
   "outputs": [],
   "source": [
    "import tabula\n",
    "#tabula.environment_info()"
   ]
  },
  {
   "cell_type": "code",
   "execution_count": 117,
   "metadata": {},
   "outputs": [
    {
     "data": {
      "text/plain": [
       "'ul-1027700229193-20201001123319.pdf'"
      ]
     },
     "metadata": {},
     "output_type": "display_data"
    },
    {
     "data": {
      "text/plain": [
       "'end'"
      ]
     },
     "metadata": {},
     "output_type": "display_data"
    },
    {
     "data": {
      "text/plain": [
       "'ul-1035752001306-20201001123210.pdf'"
      ]
     },
     "metadata": {},
     "output_type": "display_data"
    },
    {
     "data": {
      "text/plain": [
       "'end'"
      ]
     },
     "metadata": {},
     "output_type": "display_data"
    },
    {
     "data": {
      "text/plain": [
       "'ul-1181690033315-20201001123159.pdf'"
      ]
     },
     "metadata": {},
     "output_type": "display_data"
    },
    {
     "data": {
      "text/plain": [
       "'end'"
      ]
     },
     "metadata": {},
     "output_type": "display_data"
    },
    {
     "data": {
      "text/plain": [
       "'ul-1186733007230-20201001123221.pdf'"
      ]
     },
     "metadata": {},
     "output_type": "display_data"
    },
    {
     "data": {
      "text/plain": [
       "'end'"
      ]
     },
     "metadata": {},
     "output_type": "display_data"
    }
   ],
   "source": [
    "# экспорт pdf в xlsx\n",
    "\n",
    "files = []\n",
    "import os\n",
    "for file in os.listdir('.'):\n",
    "    if file.endswith(\".pdf\"):\n",
    "        files = (os.path.join('', file))\n",
    "        display(files)\n",
    "        dfs = tabula.read_pdf(files, encoding='utf-8', stream=True, pages=\"all\")\n",
    "        pd.DataFrame(dfs).to_excel(str.split(files, sep = '.')[0] + '.xlsx')\n",
    "        display('end')"
   ]
  },
  {
   "cell_type": "markdown",
   "metadata": {},
   "source": [
    "### Camelot\n"
   ]
  },
  {
   "cell_type": "code",
   "execution_count": 5,
   "metadata": {},
   "outputs": [
    {
     "data": {
      "text/plain": [
       "'ul-1027700229193-20201001123319.pdf'"
      ]
     },
     "metadata": {},
     "output_type": "display_data"
    },
    {
     "data": {
      "text/plain": [
       "'ul-1035752001306-20201001123210.pdf'"
      ]
     },
     "metadata": {},
     "output_type": "display_data"
    },
    {
     "data": {
      "text/plain": [
       "'ul-1181690033315-20201001123159.pdf'"
      ]
     },
     "metadata": {},
     "output_type": "display_data"
    },
    {
     "data": {
      "text/plain": [
       "'ul-1186733007230-20201001123221.pdf'"
      ]
     },
     "metadata": {},
     "output_type": "display_data"
    },
    {
     "name": "stdout",
     "output_type": "stream",
     "text": [
      "Wall time: 18.6 s\n"
     ]
    }
   ],
   "source": [
    "%%time\n",
    "\n",
    "import camelot\n",
    "#выгрузка camelot to xlsx\n",
    "\n",
    "dfs = {}\n",
    "files = []\n",
    "import os\n",
    "for file in os.listdir('.'):\n",
    "    if file.endswith(\".pdf\"):\n",
    "        files = (os.path.join('', file))\n",
    "        display(files)\n",
    "        dfs[file] = camelot.read_pdf(files, flavor='stream', pages = 'all')\n",
    "        pd.DataFrame(dfs[file][0].df).to_excel(str.split(files, sep = '.')[0] + '_from_camelot' + '.xlsx')\n",
    "  #      display('end')"
   ]
  },
  {
   "cell_type": "code",
   "execution_count": 42,
   "metadata": {
    "scrolled": true
   },
   "outputs": [],
   "source": [
    "#cоздали перечень уникальных значений\n",
    "dfs_all        = pd.DataFrame()\n",
    "dfs_all_concat = pd.DataFrame()\n",
    "for z in dfs.keys():\n",
    "    for n in range(30):\n",
    "        try:\n",
    "            #display(n)\n",
    "            df_n_z = dfs[z][n].df\n",
    "        #    df_n_z['inn'] = \n",
    "            dfs_all = dfs_all.append(df_n_z)\n",
    "        except:\n",
    "            pass\n",
    "    dfs_all_concat = pd.concat([dfs_all_concat, dfs_all], axis=0)\n",
    "    dfs_all        = pd.DataFrame()\n",
    "dfs_all_concat        = pd.DataFrame(dfs_all_concat[1].unique(), columns = [1])\n",
    "#dfs_all_concat.colum = ['merg']\n",
    "dfs_all_concat   \n",
    "\n",
    "#merg \n",
    "\n",
    "dfs_all        = pd.DataFrame()\n",
    "for z in dfs.keys():\n",
    "    for n in range(2):  \n",
    "        try:\n",
    "            #display(n)\n",
    "            df_n_z = dfs[z][n].df\n",
    "        #    df_n_z['inn'] = \n",
    "            dfs_all = dfs_all.append(df_n_z)\n",
    "        except:\n",
    "            pass\n",
    "    dfs_all_concat = pd.merge(dfs_all_concat, dfs_all, on = [1], how = 'right')\n",
    "    dfs_all        = pd.DataFrame()"
   ]
  },
  {
   "cell_type": "code",
   "execution_count": 44,
   "metadata": {},
   "outputs": [
    {
     "data": {
      "text/html": [
       "<div>\n",
       "<style scoped>\n",
       "    .dataframe tbody tr th:only-of-type {\n",
       "        vertical-align: middle;\n",
       "    }\n",
       "\n",
       "    .dataframe tbody tr th {\n",
       "        vertical-align: top;\n",
       "    }\n",
       "\n",
       "    .dataframe thead th {\n",
       "        text-align: right;\n",
       "    }\n",
       "</style>\n",
       "<table border=\"1\" class=\"dataframe\">\n",
       "  <thead>\n",
       "    <tr style=\"text-align: right;\">\n",
       "      <th></th>\n",
       "      <th>1</th>\n",
       "      <th>0_x</th>\n",
       "      <th>2_x</th>\n",
       "      <th>0_y</th>\n",
       "      <th>2_y</th>\n",
       "      <th>0_x</th>\n",
       "      <th>2_x</th>\n",
       "      <th>0_y</th>\n",
       "      <th>2_y</th>\n",
       "    </tr>\n",
       "  </thead>\n",
       "  <tbody>\n",
       "    <tr>\n",
       "      <th>20404</th>\n",
       "      <td>Сокращенное наименование</td>\n",
       "      <td>2</td>\n",
       "      <td>ООО \"ЯНДЕКС\"</td>\n",
       "      <td>2</td>\n",
       "      <td>ООО \"ЧОП \"ШТОРМ\"</td>\n",
       "      <td>2</td>\n",
       "      <td>ООО \"УНИСТРОЙ\"</td>\n",
       "      <td>2</td>\n",
       "      <td>ООО \"СТК\"</td>\n",
       "    </tr>\n",
       "    <tr>\n",
       "      <th>36606</th>\n",
       "      <td>Почтовый индекс</td>\n",
       "      <td>4</td>\n",
       "      <td>119021</td>\n",
       "      <td>4</td>\n",
       "      <td>302042</td>\n",
       "      <td>4</td>\n",
       "      <td>420127</td>\n",
       "      <td>4</td>\n",
       "      <td>214032</td>\n",
       "    </tr>\n",
       "    <tr>\n",
       "      <th>36607</th>\n",
       "      <td>Субъект Российской Федерации</td>\n",
       "      <td>5</td>\n",
       "      <td>ГОРОД МОСКВА</td>\n",
       "      <td>5</td>\n",
       "      <td>ОБЛАСТЬ ОРЛОВСКАЯ</td>\n",
       "      <td>5</td>\n",
       "      <td>РЕСПУБЛИКА ТАТАРСТАН</td>\n",
       "      <td>5</td>\n",
       "      <td>ОБЛАСТЬ СМОЛЕНСКАЯ</td>\n",
       "    </tr>\n",
       "    <tr>\n",
       "      <th>36608</th>\n",
       "      <td>Улица (проспект, переулок и т.д.)</td>\n",
       "      <td>6</td>\n",
       "      <td>УЛИЦА ЛЬВА ТОЛСТОГО</td>\n",
       "      <td>7</td>\n",
       "      <td>ШОССЕ КРОМСКОЕ</td>\n",
       "      <td>7</td>\n",
       "      <td>УЛИЦА ДЕМЕНТЬЕВА</td>\n",
       "      <td>7</td>\n",
       "      <td>УЛИЦА ЛАВОЧКИНА</td>\n",
       "    </tr>\n",
       "    <tr>\n",
       "      <th>36609</th>\n",
       "      <td>Дом (владение и т.п.)</td>\n",
       "      <td>7</td>\n",
       "      <td>16</td>\n",
       "      <td>8</td>\n",
       "      <td>ДОМ 8</td>\n",
       "      <td>8</td>\n",
       "      <td>ДОМ 72 А</td>\n",
       "      <td>8</td>\n",
       "      <td>ДОМ 107А</td>\n",
       "    </tr>\n",
       "    <tr>\n",
       "      <th>36621</th>\n",
       "      <td>КПП</td>\n",
       "      <td>22</td>\n",
       "      <td>770401001</td>\n",
       "      <td>20</td>\n",
       "      <td>575201001</td>\n",
       "      <td>25</td>\n",
       "      <td>166101001</td>\n",
       "      <td>19</td>\n",
       "      <td>673201001</td>\n",
       "    </tr>\n",
       "    <tr>\n",
       "      <th>36702</th>\n",
       "      <td>Вид</td>\n",
       "      <td>34</td>\n",
       "      <td>УСТАВНЫЙ КАПИТАЛ</td>\n",
       "      <td>32</td>\n",
       "      <td>УСТАВНЫЙ КАПИТАЛ</td>\n",
       "      <td>37</td>\n",
       "      <td>УСТАВНЫЙ КАПИТАЛ</td>\n",
       "      <td>31</td>\n",
       "      <td>УСТАВНЫЙ КАПИТАЛ</td>\n",
       "    </tr>\n",
       "  </tbody>\n",
       "</table>\n",
       "</div>"
      ],
      "text/plain": [
       "                                       1 0_x                  2_x 0_y  \\\n",
       "20404           Сокращенное наименование   2         ООО \"ЯНДЕКС\"   2   \n",
       "36606                    Почтовый индекс   4               119021   4   \n",
       "36607       Субъект Российской Федерации   5         ГОРОД МОСКВА   5   \n",
       "36608  Улица (проспект, переулок и т.д.)   6  УЛИЦА ЛЬВА ТОЛСТОГО   7   \n",
       "36609              Дом (владение и т.п.)   7                   16   8   \n",
       "36621                                КПП  22            770401001  20   \n",
       "36702                                Вид  34     УСТАВНЫЙ КАПИТАЛ  32   \n",
       "\n",
       "                     2_y 0_x                   2_x 0_y                 2_y  \n",
       "20404   ООО \"ЧОП \"ШТОРМ\"   2        ООО \"УНИСТРОЙ\"   2           ООО \"СТК\"  \n",
       "36606             302042   4                420127   4              214032  \n",
       "36607  ОБЛАСТЬ ОРЛОВСКАЯ   5  РЕСПУБЛИКА ТАТАРСТАН   5  ОБЛАСТЬ СМОЛЕНСКАЯ  \n",
       "36608     ШОССЕ КРОМСКОЕ   7      УЛИЦА ДЕМЕНТЬЕВА   7     УЛИЦА ЛАВОЧКИНА  \n",
       "36609              ДОМ 8   8              ДОМ 72 А   8            ДОМ 107А  \n",
       "36621          575201001  25             166101001  19           673201001  \n",
       "36702   УСТАВНЫЙ КАПИТАЛ  37      УСТАВНЫЙ КАПИТАЛ  31    УСТАВНЫЙ КАПИТАЛ  "
      ]
     },
     "execution_count": 44,
     "metadata": {},
     "output_type": "execute_result"
    }
   ],
   "source": [
    "dfs_all_concat[dfs_all_concat[1]. isin(['Сокращенное наименование', 'Улица (проспект, переулок и т.д.)', \\\n",
    "'Дом (владение и т.п.)', 'Почтовый индекс', 'Субъект Российской Федерации', 'КПП', 'Вид'])]\n"
   ]
  },
  {
   "cell_type": "code",
   "execution_count": null,
   "metadata": {},
   "outputs": [],
   "source": []
  }
 ],
 "metadata": {
  "kernelspec": {
   "display_name": "Python 3",
   "language": "python",
   "name": "python3"
  },
  "language_info": {
   "codemirror_mode": {
    "name": "ipython",
    "version": 3
   },
   "file_extension": ".py",
   "mimetype": "text/x-python",
   "name": "python",
   "nbconvert_exporter": "python",
   "pygments_lexer": "ipython3",
   "version": "3.7.6"
  }
 },
 "nbformat": 4,
 "nbformat_minor": 4
}
