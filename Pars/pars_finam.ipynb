import pandas as pd
import numpy as np
from selenium import webdriver
from selenium.webdriver.common.keys import Keys
import time
from selenium.webdriver.support import expected_conditions as EC
from selenium.webdriver.support.ui import WebDriverWait
from selenium.webdriver.common.by import By
from selenium.webdriver.common.action_chains import ActionChains
from selenium.webdriver.firefox.options import Options
from selenium.webdriver.support.ui import Select
from selenium.common.exceptions import TimeoutException

#options = Options()
#options.add_argument("--headless")
#options.set_headless(headless=True)
Firefox = webdriver.Firefox(executable_path = "C:\Program Files\Mozilla Firefox\geckodriver.exe")

dic = [
# #     'pllc-yandex-n-v',
# #     'alrosa-ao',
#     'aeroflot',
#     'bashneft-ank-ao',
     'vtb',
     'gazprom',
# #     'nornickel-gmk',
     'gazprom-neft',
     'inter-rao-ao',
# #     'lukoil',
#     'mts',
#     'magnit',
#     'mechel',
#     'moscowexchange',
#     'novatek',
#     'polus-zoloto',
#     'raspadskaya',
# #     'rosneft',
#     'rosseti-ao',
#     'rostelecom',
#      'rusgidro',
# #      'sberbank',
#     'sberbank-pref',
#     'afk-sistema',
#     'surgut',
#     'tatneft-3',
#     'transneft-pref',
#     'fsk-ees',
     
]

Firefox = webdriver.Firefox(executable_path = "C:\Program Files\Mozilla Firefox\geckodriver.exe")
# time.sleep(5)

%%time
# Firefox = webdriver.Firefox(executable_path = "C:\Program Files\Mozilla Firefox\geckodriver.exe")
# time.sleep(5)
for name in dic:
    Firefox.get('https://www.finam.ru/profile/moex-akcii/' + name + '/export/')
    time.sleep (1)
    
    for year in range(2005,2013, 1):

    #fitst windows
        (Firefox.find_element_by_xpath('//*[@id="issuer-profile-export-from"]')).click()
        
        time.sleep (10)
      #  s = Select(Firefox.find_element_by_css_selector('.ui-datepicker-year'))
        s = Select(Firefox.find_element_by_class_name('ui-datepicker-year'))
      #  s = Select(Firefox.find_element_by_xpath('/html/body/div[16]/div/div/select[2]'))
      #  WebDriverWait(Firefox, 20).until(EC.element_to_be_clickable((By.XPATH, '//*[@id="issuer-profile-export-from"]')))
        WebDriverWait(Firefox, 5).until(EC.element_to_be_clickable((By.XPATH, '//*[@id="issuer-profile-export-from"]')))
        
        time.sleep(10)
        s.select_by_value(str(year))
#        display(len(s.options))
        
        time.sleep(10)
        for i in range(1, 8, 1):
            try:
                (Firefox.find_element_by_xpath('/html/body/div[17]/table/tbody/tr[1]/td[' + str(i) + ']/a')).click()
    #            print(f"right_namber{i}")
            except:
                continue

    #second windows
        (Firefox.find_element_by_xpath('//*[@id="issuer-profile-export-to"]')).click()
        WebDriverWait(Firefox, 20).until(EC.element_to_be_clickable((By.XPATH, '//*[@id="issuer-profile-export-to"]')))
        s = Select(Firefox.find_element_by_css_selector('.ui-datepicker-year'))
        
        time.sleep(5)
        s.select_by_value(str(year+1))
#        time.sleep(1)
        for i in range(1, 8, 1):
            try:
                (Firefox.find_element_by_xpath('/html/body/div[17]/table/tbody/tr[1]/td[' + str(i) + ']/a')).click()
    #            print(f"right_namber{i}")
            except:
                continue    

    #click download
        do = Firefox.find_element_by_css_selector('.finam-ui-dialog-button-cancel') 
        do.click()
        try:
            WebDriverWait(Firefox, 10).until(EC.alert_is_present(),
                                           'Timed out waiting for PA creation ' +
                                           'confirmation popup to appear.')
            time.sleep(3)
            alert = Firefox.switch_to.alert
            alert.accept()
    #        print("alert accepted")
        except TimeoutException:
            print("no alert")
        time.sleep(20)
        display()
    display(year, name)
