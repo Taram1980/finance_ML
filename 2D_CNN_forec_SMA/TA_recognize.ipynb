{
 "cells": [
  {
   "cell_type": "code",
   "execution_count": 1,
   "metadata": {},
   "outputs": [],
   "source": [
    "import pandas as pd\n",
    "import numpy  as np"
   ]
  },
  {
   "cell_type": "code",
   "execution_count": 2,
   "metadata": {},
   "outputs": [
    {
     "data": {
      "text/html": [
       "<style>.container { width:100% !important; }</style>"
      ],
      "text/plain": [
       "<IPython.core.display.HTML object>"
      ]
     },
     "metadata": {},
     "output_type": "display_data"
    }
   ],
   "source": [
    "from IPython.core.display import display, HTML\n",
    "display(HTML(\"<style>.container { width:100% !important; }</style>\"))"
   ]
  },
  {
   "cell_type": "code",
   "execution_count": 3,
   "metadata": {},
   "outputs": [],
   "source": [
    "df = pd.read_csv('TA_day.csv', parse_dates=['Date'])"
   ]
  },
  {
   "cell_type": "code",
   "execution_count": 13,
   "metadata": {
    "scrolled": true
   },
   "outputs": [
    {
     "data": {
      "text/html": [
       "<div>\n",
       "<style scoped>\n",
       "    .dataframe tbody tr th:only-of-type {\n",
       "        vertical-align: middle;\n",
       "    }\n",
       "\n",
       "    .dataframe tbody tr th {\n",
       "        vertical-align: top;\n",
       "    }\n",
       "\n",
       "    .dataframe thead th {\n",
       "        text-align: right;\n",
       "    }\n",
       "</style>\n",
       "<table border=\"1\" class=\"dataframe\">\n",
       "  <thead>\n",
       "    <tr style=\"text-align: right;\">\n",
       "      <th></th>\n",
       "      <th>Unnamed: 0</th>\n",
       "      <th>Date</th>\n",
       "      <th>Open</th>\n",
       "      <th>High</th>\n",
       "      <th>Low</th>\n",
       "      <th>Close</th>\n",
       "      <th>Volume</th>\n",
       "      <th>Symbol</th>\n",
       "      <th>ADX_25</th>\n",
       "      <th>ADX_36</th>\n",
       "      <th>...</th>\n",
       "      <th>HT_SINE_sine</th>\n",
       "      <th>HT_SINE_leadsine</th>\n",
       "      <th>BBANDS_upperband</th>\n",
       "      <th>BBANDS_middleband</th>\n",
       "      <th>BBANDS_lowerband</th>\n",
       "      <th>MAMA_mama</th>\n",
       "      <th>MAMA_fama</th>\n",
       "      <th>dif_25</th>\n",
       "      <th>dif_SMA_25</th>\n",
       "      <th>cross_SMA_25</th>\n",
       "    </tr>\n",
       "  </thead>\n",
       "  <tbody>\n",
       "    <tr>\n",
       "      <th>0</th>\n",
       "      <td>0</td>\n",
       "      <td>2006-01-23</td>\n",
       "      <td>239.50</td>\n",
       "      <td>239.50</td>\n",
       "      <td>218.49</td>\n",
       "      <td>218.89</td>\n",
       "      <td>1.130995e+09</td>\n",
       "      <td>GAZP</td>\n",
       "      <td>NaN</td>\n",
       "      <td>NaN</td>\n",
       "      <td>...</td>\n",
       "      <td>NaN</td>\n",
       "      <td>NaN</td>\n",
       "      <td>NaN</td>\n",
       "      <td>NaN</td>\n",
       "      <td>NaN</td>\n",
       "      <td>NaN</td>\n",
       "      <td>NaN</td>\n",
       "      <td>1</td>\n",
       "      <td>NaN</td>\n",
       "      <td>1</td>\n",
       "    </tr>\n",
       "    <tr>\n",
       "      <th>1</th>\n",
       "      <td>1</td>\n",
       "      <td>2006-01-24</td>\n",
       "      <td>221.00</td>\n",
       "      <td>224.68</td>\n",
       "      <td>219.66</td>\n",
       "      <td>224.00</td>\n",
       "      <td>1.991942e+09</td>\n",
       "      <td>GAZP</td>\n",
       "      <td>NaN</td>\n",
       "      <td>NaN</td>\n",
       "      <td>...</td>\n",
       "      <td>NaN</td>\n",
       "      <td>NaN</td>\n",
       "      <td>NaN</td>\n",
       "      <td>NaN</td>\n",
       "      <td>NaN</td>\n",
       "      <td>NaN</td>\n",
       "      <td>NaN</td>\n",
       "      <td>1</td>\n",
       "      <td>NaN</td>\n",
       "      <td>1</td>\n",
       "    </tr>\n",
       "    <tr>\n",
       "      <th>2</th>\n",
       "      <td>2</td>\n",
       "      <td>2006-01-25</td>\n",
       "      <td>225.50</td>\n",
       "      <td>231.00</td>\n",
       "      <td>225.00</td>\n",
       "      <td>228.38</td>\n",
       "      <td>3.534137e+09</td>\n",
       "      <td>GAZP</td>\n",
       "      <td>NaN</td>\n",
       "      <td>NaN</td>\n",
       "      <td>...</td>\n",
       "      <td>NaN</td>\n",
       "      <td>NaN</td>\n",
       "      <td>NaN</td>\n",
       "      <td>NaN</td>\n",
       "      <td>NaN</td>\n",
       "      <td>NaN</td>\n",
       "      <td>NaN</td>\n",
       "      <td>1</td>\n",
       "      <td>NaN</td>\n",
       "      <td>1</td>\n",
       "    </tr>\n",
       "    <tr>\n",
       "      <th>3</th>\n",
       "      <td>3</td>\n",
       "      <td>2006-01-26</td>\n",
       "      <td>228.20</td>\n",
       "      <td>229.41</td>\n",
       "      <td>223.51</td>\n",
       "      <td>224.47</td>\n",
       "      <td>1.721376e+09</td>\n",
       "      <td>GAZP</td>\n",
       "      <td>NaN</td>\n",
       "      <td>NaN</td>\n",
       "      <td>...</td>\n",
       "      <td>NaN</td>\n",
       "      <td>NaN</td>\n",
       "      <td>NaN</td>\n",
       "      <td>NaN</td>\n",
       "      <td>NaN</td>\n",
       "      <td>NaN</td>\n",
       "      <td>NaN</td>\n",
       "      <td>1</td>\n",
       "      <td>NaN</td>\n",
       "      <td>1</td>\n",
       "    </tr>\n",
       "    <tr>\n",
       "      <th>4</th>\n",
       "      <td>4</td>\n",
       "      <td>2006-01-27</td>\n",
       "      <td>225.75</td>\n",
       "      <td>231.50</td>\n",
       "      <td>224.00</td>\n",
       "      <td>228.75</td>\n",
       "      <td>2.901323e+09</td>\n",
       "      <td>GAZP</td>\n",
       "      <td>NaN</td>\n",
       "      <td>NaN</td>\n",
       "      <td>...</td>\n",
       "      <td>NaN</td>\n",
       "      <td>NaN</td>\n",
       "      <td>232.056094</td>\n",
       "      <td>224.898</td>\n",
       "      <td>217.739906</td>\n",
       "      <td>NaN</td>\n",
       "      <td>NaN</td>\n",
       "      <td>1</td>\n",
       "      <td>NaN</td>\n",
       "      <td>1</td>\n",
       "    </tr>\n",
       "    <tr>\n",
       "      <th>...</th>\n",
       "      <td>...</td>\n",
       "      <td>...</td>\n",
       "      <td>...</td>\n",
       "      <td>...</td>\n",
       "      <td>...</td>\n",
       "      <td>...</td>\n",
       "      <td>...</td>\n",
       "      <td>...</td>\n",
       "      <td>...</td>\n",
       "      <td>...</td>\n",
       "      <td>...</td>\n",
       "      <td>...</td>\n",
       "      <td>...</td>\n",
       "      <td>...</td>\n",
       "      <td>...</td>\n",
       "      <td>...</td>\n",
       "      <td>...</td>\n",
       "      <td>...</td>\n",
       "      <td>...</td>\n",
       "      <td>...</td>\n",
       "      <td>...</td>\n",
       "    </tr>\n",
       "    <tr>\n",
       "      <th>122158</th>\n",
       "      <td>122158</td>\n",
       "      <td>2019-05-23</td>\n",
       "      <td>651.20</td>\n",
       "      <td>653.00</td>\n",
       "      <td>650.40</td>\n",
       "      <td>652.80</td>\n",
       "      <td>3.124316e+06</td>\n",
       "      <td>MFON</td>\n",
       "      <td>23.214150</td>\n",
       "      <td>18.487554</td>\n",
       "      <td>...</td>\n",
       "      <td>-0.712080</td>\n",
       "      <td>-0.999975</td>\n",
       "      <td>652.800000</td>\n",
       "      <td>652.640</td>\n",
       "      <td>652.480000</td>\n",
       "      <td>652.578028</td>\n",
       "      <td>651.066056</td>\n",
       "      <td>1</td>\n",
       "      <td>-1.096</td>\n",
       "      <td>0</td>\n",
       "    </tr>\n",
       "    <tr>\n",
       "      <th>122159</th>\n",
       "      <td>122159</td>\n",
       "      <td>2019-05-24</td>\n",
       "      <td>650.60</td>\n",
       "      <td>654.40</td>\n",
       "      <td>650.60</td>\n",
       "      <td>654.40</td>\n",
       "      <td>5.298356e+06</td>\n",
       "      <td>MFON</td>\n",
       "      <td>23.959622</td>\n",
       "      <td>18.729043</td>\n",
       "      <td>...</td>\n",
       "      <td>-0.665884</td>\n",
       "      <td>-0.998392</td>\n",
       "      <td>654.408545</td>\n",
       "      <td>653.000</td>\n",
       "      <td>651.591455</td>\n",
       "      <td>652.906559</td>\n",
       "      <td>651.231993</td>\n",
       "      <td>1</td>\n",
       "      <td>-2.440</td>\n",
       "      <td>0</td>\n",
       "    </tr>\n",
       "    <tr>\n",
       "      <th>122160</th>\n",
       "      <td>122160</td>\n",
       "      <td>2019-05-27</td>\n",
       "      <td>650.60</td>\n",
       "      <td>653.80</td>\n",
       "      <td>650.40</td>\n",
       "      <td>653.20</td>\n",
       "      <td>9.374714e+06</td>\n",
       "      <td>MFON</td>\n",
       "      <td>24.684299</td>\n",
       "      <td>18.969202</td>\n",
       "      <td>...</td>\n",
       "      <td>-0.640195</td>\n",
       "      <td>-0.995894</td>\n",
       "      <td>654.472923</td>\n",
       "      <td>653.120</td>\n",
       "      <td>651.767077</td>\n",
       "      <td>652.935060</td>\n",
       "      <td>651.314700</td>\n",
       "      <td>1</td>\n",
       "      <td>-1.120</td>\n",
       "      <td>0</td>\n",
       "    </tr>\n",
       "    <tr>\n",
       "      <th>122161</th>\n",
       "      <td>122161</td>\n",
       "      <td>2019-05-28</td>\n",
       "      <td>653.40</td>\n",
       "      <td>653.40</td>\n",
       "      <td>651.20</td>\n",
       "      <td>652.80</td>\n",
       "      <td>7.370344e+06</td>\n",
       "      <td>MFON</td>\n",
       "      <td>25.379988</td>\n",
       "      <td>19.202689</td>\n",
       "      <td>...</td>\n",
       "      <td>-0.656501</td>\n",
       "      <td>-0.997605</td>\n",
       "      <td>654.459846</td>\n",
       "      <td>653.160</td>\n",
       "      <td>651.860154</td>\n",
       "      <td>652.867530</td>\n",
       "      <td>651.702908</td>\n",
       "      <td>1</td>\n",
       "      <td>-0.624</td>\n",
       "      <td>0</td>\n",
       "    </tr>\n",
       "    <tr>\n",
       "      <th>122162</th>\n",
       "      <td>122162</td>\n",
       "      <td>2019-05-29</td>\n",
       "      <td>650.80</td>\n",
       "      <td>653.20</td>\n",
       "      <td>650.60</td>\n",
       "      <td>650.60</td>\n",
       "      <td>5.456527e+07</td>\n",
       "      <td>MFON</td>\n",
       "      <td>26.076742</td>\n",
       "      <td>19.446569</td>\n",
       "      <td>...</td>\n",
       "      <td>-0.701346</td>\n",
       "      <td>-0.999967</td>\n",
       "      <td>655.217967</td>\n",
       "      <td>652.760</td>\n",
       "      <td>650.302033</td>\n",
       "      <td>652.754154</td>\n",
       "      <td>651.729189</td>\n",
       "      <td>-1</td>\n",
       "      <td>1.592</td>\n",
       "      <td>-1</td>\n",
       "    </tr>\n",
       "  </tbody>\n",
       "</table>\n",
       "<p>122163 rows × 125 columns</p>\n",
       "</div>"
      ],
      "text/plain": [
       "        Unnamed: 0       Date    Open    High     Low   Close        Volume  \\\n",
       "0                0 2006-01-23  239.50  239.50  218.49  218.89  1.130995e+09   \n",
       "1                1 2006-01-24  221.00  224.68  219.66  224.00  1.991942e+09   \n",
       "2                2 2006-01-25  225.50  231.00  225.00  228.38  3.534137e+09   \n",
       "3                3 2006-01-26  228.20  229.41  223.51  224.47  1.721376e+09   \n",
       "4                4 2006-01-27  225.75  231.50  224.00  228.75  2.901323e+09   \n",
       "...            ...        ...     ...     ...     ...     ...           ...   \n",
       "122158      122158 2019-05-23  651.20  653.00  650.40  652.80  3.124316e+06   \n",
       "122159      122159 2019-05-24  650.60  654.40  650.60  654.40  5.298356e+06   \n",
       "122160      122160 2019-05-27  650.60  653.80  650.40  653.20  9.374714e+06   \n",
       "122161      122161 2019-05-28  653.40  653.40  651.20  652.80  7.370344e+06   \n",
       "122162      122162 2019-05-29  650.80  653.20  650.60  650.60  5.456527e+07   \n",
       "\n",
       "       Symbol     ADX_25     ADX_36  ...  HT_SINE_sine  HT_SINE_leadsine  \\\n",
       "0        GAZP        NaN        NaN  ...           NaN               NaN   \n",
       "1        GAZP        NaN        NaN  ...           NaN               NaN   \n",
       "2        GAZP        NaN        NaN  ...           NaN               NaN   \n",
       "3        GAZP        NaN        NaN  ...           NaN               NaN   \n",
       "4        GAZP        NaN        NaN  ...           NaN               NaN   \n",
       "...       ...        ...        ...  ...           ...               ...   \n",
       "122158   MFON  23.214150  18.487554  ...     -0.712080         -0.999975   \n",
       "122159   MFON  23.959622  18.729043  ...     -0.665884         -0.998392   \n",
       "122160   MFON  24.684299  18.969202  ...     -0.640195         -0.995894   \n",
       "122161   MFON  25.379988  19.202689  ...     -0.656501         -0.997605   \n",
       "122162   MFON  26.076742  19.446569  ...     -0.701346         -0.999967   \n",
       "\n",
       "        BBANDS_upperband  BBANDS_middleband  BBANDS_lowerband   MAMA_mama  \\\n",
       "0                    NaN                NaN               NaN         NaN   \n",
       "1                    NaN                NaN               NaN         NaN   \n",
       "2                    NaN                NaN               NaN         NaN   \n",
       "3                    NaN                NaN               NaN         NaN   \n",
       "4             232.056094            224.898        217.739906         NaN   \n",
       "...                  ...                ...               ...         ...   \n",
       "122158        652.800000            652.640        652.480000  652.578028   \n",
       "122159        654.408545            653.000        651.591455  652.906559   \n",
       "122160        654.472923            653.120        651.767077  652.935060   \n",
       "122161        654.459846            653.160        651.860154  652.867530   \n",
       "122162        655.217967            652.760        650.302033  652.754154   \n",
       "\n",
       "         MAMA_fama  dif_25  dif_SMA_25  cross_SMA_25  \n",
       "0              NaN       1         NaN             1  \n",
       "1              NaN       1         NaN             1  \n",
       "2              NaN       1         NaN             1  \n",
       "3              NaN       1         NaN             1  \n",
       "4              NaN       1         NaN             1  \n",
       "...            ...     ...         ...           ...  \n",
       "122158  651.066056       1      -1.096             0  \n",
       "122159  651.231993       1      -2.440             0  \n",
       "122160  651.314700       1      -1.120             0  \n",
       "122161  651.702908       1      -0.624             0  \n",
       "122162  651.729189      -1       1.592            -1  \n",
       "\n",
       "[122163 rows x 125 columns]"
      ]
     },
     "execution_count": 13,
     "metadata": {},
     "output_type": "execute_result"
    }
   ],
   "source": [
    "# df[['Close', sma, 'cross_SMA_5', 'dif_SMA_5', 'dif']].iloc[:-500000,:].to_excel('dfdf.xlsx')\n",
    "# df[['Close', sma, 'cross_SMA_5', 'dif_SMA_5', 'dif']].iloc[200:300,:]\n",
    "df"
   ]
  },
  {
   "cell_type": "code",
   "execution_count": 42,
   "metadata": {},
   "outputs": [
    {
     "data": {
      "text/plain": [
       "['Unnamed: 0',\n",
       " 'Date',\n",
       " 'Open',\n",
       " 'High',\n",
       " 'Low',\n",
       " 'Close',\n",
       " 'Volume',\n",
       " 'Symbol',\n",
       " 'ADX_25',\n",
       " 'ADX_36',\n",
       " 'ADXR_25',\n",
       " 'ADXR_36',\n",
       " 'APO_25',\n",
       " 'APO_36',\n",
       " 'AROONOSC_25',\n",
       " 'AROONOSC_36',\n",
       " 'BOP_25',\n",
       " 'BOP_36',\n",
       " 'CCI_25',\n",
       " 'CCI_36',\n",
       " 'CMO_25',\n",
       " 'CMO_36',\n",
       " 'DX_25',\n",
       " 'DX_36',\n",
       " 'MFI_25',\n",
       " 'MFI_36',\n",
       " 'MINUS_DI_25',\n",
       " 'MINUS_DI_36',\n",
       " 'MINUS_DM_25',\n",
       " 'MINUS_DM_36',\n",
       " 'MOM_25',\n",
       " 'MOM_36',\n",
       " 'PLUS_DI_25',\n",
       " 'PLUS_DI_36',\n",
       " 'PLUS_DM_25',\n",
       " 'PLUS_DM_36',\n",
       " 'PPO_25',\n",
       " 'PPO_36',\n",
       " 'ROC_25',\n",
       " 'ROC_36',\n",
       " 'ROCP_25',\n",
       " 'ROCP_36',\n",
       " 'ROCR_25',\n",
       " 'ROCR_36',\n",
       " 'ROCR100_25',\n",
       " 'ROCR100_36',\n",
       " 'RSI_25',\n",
       " 'RSI_36',\n",
       " 'TRIX_25',\n",
       " 'TRIX_36',\n",
       " 'ULTOSC_25',\n",
       " 'ULTOSC_36',\n",
       " 'WILLR_25',\n",
       " 'WILLR_36',\n",
       " 'HT_DCPERIOD_25',\n",
       " 'HT_DCPERIOD_36',\n",
       " 'HT_DCPHASE_25',\n",
       " 'HT_DCPHASE_36',\n",
       " 'HT_TRENDMODE_25',\n",
       " 'HT_TRENDMODE_36',\n",
       " 'DEMA_25',\n",
       " 'DEMA_36',\n",
       " 'EMA_25',\n",
       " 'EMA_36',\n",
       " 'HT_TRENDLINE_25',\n",
       " 'HT_TRENDLINE_36',\n",
       " 'KAMA_25',\n",
       " 'KAMA_36',\n",
       " 'MA_25',\n",
       " 'MA_36',\n",
       " 'MIDPOINT_25',\n",
       " 'MIDPOINT_36',\n",
       " 'MIDPRICE_25',\n",
       " 'MIDPRICE_36',\n",
       " 'SMA_25',\n",
       " 'SMA_36',\n",
       " 'T3_25',\n",
       " 'T3_36',\n",
       " 'TEMA_25',\n",
       " 'TEMA_36',\n",
       " 'TRIMA_25',\n",
       " 'TRIMA_36',\n",
       " 'WMA_25',\n",
       " 'WMA_36',\n",
       " 'ATR_25',\n",
       " 'ATR_36',\n",
       " 'NATR_25',\n",
       " 'NATR_36',\n",
       " 'TRANGE_25',\n",
       " 'TRANGE_36',\n",
       " 'AD_25',\n",
       " 'AD_36',\n",
       " 'ADOSC_25',\n",
       " 'ADOSC_36',\n",
       " 'OBV_25',\n",
       " 'OBV_36',\n",
       " 'AROON_aroondown',\n",
       " 'AROON_aroonup',\n",
       " 'MACD_macd',\n",
       " 'MACD_macdsignal',\n",
       " 'MACD_macdhist',\n",
       " 'MACDEXT_macd',\n",
       " 'MACDEXT_macdsignal',\n",
       " 'MACDEXT_macdhist',\n",
       " 'MACDFIX_macd',\n",
       " 'MACDFIX_macdsignal',\n",
       " 'MACDFIX_macdhist',\n",
       " 'STOCH_slowk',\n",
       " 'STOCH_slowd',\n",
       " 'STOCHF_fastk',\n",
       " 'STOCHF_fastd',\n",
       " 'STOCHRSI_fastk',\n",
       " 'STOCHRSI_fastd',\n",
       " 'HT_PHASOR_inphase',\n",
       " 'HT_PHASOR_quadrature',\n",
       " 'HT_SINE_sine',\n",
       " 'HT_SINE_leadsine',\n",
       " 'BBANDS_upperband',\n",
       " 'BBANDS_middleband',\n",
       " 'BBANDS_lowerband',\n",
       " 'MAMA_mama',\n",
       " 'MAMA_fama',\n",
       " 'dif_25',\n",
       " 'dif_SMA_25',\n",
       " 'cross_SMA_25',\n",
       " 'max_close',\n",
       " 'max_MACD',\n",
       " 'con_div_MACD']"
      ]
     },
     "execution_count": 42,
     "metadata": {},
     "output_type": "execute_result"
    }
   ],
   "source": [
    "list(df)"
   ]
  },
  {
   "cell_type": "code",
   "execution_count": 52,
   "metadata": {},
   "outputs": [],
   "source": [
    "# import talib\n",
    "# from talib import abstract\n",
    "# from sklearn.preprocessing import MinMaxScaler\n",
    "# import mplfinance as mpf\n",
    "# import numpy as np\n",
    "# import pandas as pd\n",
    "# import matplotlib.pyplot as plt\n",
    "# #import labeling.ipynb\n",
    "# from tqdm import tqdm_notebook as tqdm\n",
    "# display(len(talib.get_functions()))\n",
    "# display((talib.get_functions()))\n",
    "# display(talib.get_function_groups())\n",
    "# upperband, middleband, lowerband = BBANDS(mer['Close'], timeperiod=5, nbdevup=2, nbdevdn=2, matype=0)\n",
    "# upperband"
   ]
  },
  {
   "cell_type": "code",
   "execution_count": 40,
   "metadata": {},
   "outputs": [],
   "source": [
    "\n"
   ]
  },
  {
   "cell_type": "code",
   "execution_count": 53,
   "metadata": {},
   "outputs": [
    {
     "data": {
      "text/plain": [
       "'con_div_MACD'"
      ]
     },
     "metadata": {},
     "output_type": "display_data"
    },
    {
     "data": {
      "text/plain": [
       "(array([-1,  0,  1], dtype=int64), array([15160, 84441, 14792], dtype=int64))"
      ]
     },
     "metadata": {},
     "output_type": "display_data"
    },
    {
     "data": {
      "text/plain": [
       "'cross_SMA_25'"
      ]
     },
     "metadata": {},
     "output_type": "display_data"
    },
    {
     "data": {
      "text/plain": [
       "(array([-1,  0,  1], dtype=int64),\n",
       " array([  5743, 102896,   5754], dtype=int64))"
      ]
     },
     "metadata": {},
     "output_type": "display_data"
    },
    {
     "data": {
      "text/plain": [
       "'BB'"
      ]
     },
     "metadata": {},
     "output_type": "display_data"
    },
    {
     "data": {
      "text/plain": [
       "(array([-1,  0,  1]), array([10300, 93246, 10847], dtype=int64))"
      ]
     },
     "metadata": {},
     "output_type": "display_data"
    }
   ],
   "source": [
    "labels = ['con_div_MACD', 'cross_SMA_25', 'BB']\n",
    "for i in labels:\n",
    "    display(i)\n",
    "    display(np.unique(np.array(mer[i]), return_counts=True))"
   ]
  },
  {
   "cell_type": "code",
   "execution_count": 32,
   "metadata": {},
   "outputs": [
    {
     "data": {
      "text/html": [
       "<div>\n",
       "<style scoped>\n",
       "    .dataframe tbody tr th:only-of-type {\n",
       "        vertical-align: middle;\n",
       "    }\n",
       "\n",
       "    .dataframe tbody tr th {\n",
       "        vertical-align: top;\n",
       "    }\n",
       "\n",
       "    .dataframe thead th {\n",
       "        text-align: right;\n",
       "    }\n",
       "</style>\n",
       "<table border=\"1\" class=\"dataframe\">\n",
       "  <thead>\n",
       "    <tr style=\"text-align: right;\">\n",
       "      <th></th>\n",
       "      <th>Date</th>\n",
       "      <th>Symbol</th>\n",
       "      <th>MACD_macd</th>\n",
       "      <th>MACD_macdsignal</th>\n",
       "      <th>MACD_macdhist</th>\n",
       "      <th>Close</th>\n",
       "      <th>max_close</th>\n",
       "      <th>max_MACD</th>\n",
       "      <th>con_div_MACD</th>\n",
       "    </tr>\n",
       "  </thead>\n",
       "  <tbody>\n",
       "    <tr>\n",
       "      <th>0</th>\n",
       "      <td>2006-01-23</td>\n",
       "      <td>GAZP</td>\n",
       "      <td>NaN</td>\n",
       "      <td>NaN</td>\n",
       "      <td>NaN</td>\n",
       "      <td>218.89</td>\n",
       "      <td>-1</td>\n",
       "      <td>-1</td>\n",
       "      <td>0</td>\n",
       "    </tr>\n",
       "    <tr>\n",
       "      <th>1</th>\n",
       "      <td>2006-01-24</td>\n",
       "      <td>GAZP</td>\n",
       "      <td>NaN</td>\n",
       "      <td>NaN</td>\n",
       "      <td>NaN</td>\n",
       "      <td>224.00</td>\n",
       "      <td>1</td>\n",
       "      <td>-1</td>\n",
       "      <td>-1</td>\n",
       "    </tr>\n",
       "    <tr>\n",
       "      <th>2</th>\n",
       "      <td>2006-01-25</td>\n",
       "      <td>GAZP</td>\n",
       "      <td>NaN</td>\n",
       "      <td>NaN</td>\n",
       "      <td>NaN</td>\n",
       "      <td>228.38</td>\n",
       "      <td>1</td>\n",
       "      <td>-1</td>\n",
       "      <td>-1</td>\n",
       "    </tr>\n",
       "    <tr>\n",
       "      <th>3</th>\n",
       "      <td>2006-01-26</td>\n",
       "      <td>GAZP</td>\n",
       "      <td>NaN</td>\n",
       "      <td>NaN</td>\n",
       "      <td>NaN</td>\n",
       "      <td>224.47</td>\n",
       "      <td>-1</td>\n",
       "      <td>-1</td>\n",
       "      <td>0</td>\n",
       "    </tr>\n",
       "    <tr>\n",
       "      <th>4</th>\n",
       "      <td>2006-01-27</td>\n",
       "      <td>GAZP</td>\n",
       "      <td>NaN</td>\n",
       "      <td>NaN</td>\n",
       "      <td>NaN</td>\n",
       "      <td>228.75</td>\n",
       "      <td>1</td>\n",
       "      <td>-1</td>\n",
       "      <td>-1</td>\n",
       "    </tr>\n",
       "    <tr>\n",
       "      <th>...</th>\n",
       "      <td>...</td>\n",
       "      <td>...</td>\n",
       "      <td>...</td>\n",
       "      <td>...</td>\n",
       "      <td>...</td>\n",
       "      <td>...</td>\n",
       "      <td>...</td>\n",
       "      <td>...</td>\n",
       "      <td>...</td>\n",
       "    </tr>\n",
       "    <tr>\n",
       "      <th>122158</th>\n",
       "      <td>2019-05-23</td>\n",
       "      <td>MFON</td>\n",
       "      <td>1.700179</td>\n",
       "      <td>2.062271</td>\n",
       "      <td>-0.362092</td>\n",
       "      <td>652.80</td>\n",
       "      <td>1</td>\n",
       "      <td>1</td>\n",
       "      <td>0</td>\n",
       "    </tr>\n",
       "    <tr>\n",
       "      <th>122159</th>\n",
       "      <td>2019-05-24</td>\n",
       "      <td>MFON</td>\n",
       "      <td>1.737581</td>\n",
       "      <td>1.997333</td>\n",
       "      <td>-0.259753</td>\n",
       "      <td>654.40</td>\n",
       "      <td>1</td>\n",
       "      <td>1</td>\n",
       "      <td>0</td>\n",
       "    </tr>\n",
       "    <tr>\n",
       "      <th>122160</th>\n",
       "      <td>2019-05-27</td>\n",
       "      <td>MFON</td>\n",
       "      <td>1.651355</td>\n",
       "      <td>1.928138</td>\n",
       "      <td>-0.276782</td>\n",
       "      <td>653.20</td>\n",
       "      <td>-1</td>\n",
       "      <td>-1</td>\n",
       "      <td>0</td>\n",
       "    </tr>\n",
       "    <tr>\n",
       "      <th>122161</th>\n",
       "      <td>2019-05-28</td>\n",
       "      <td>MFON</td>\n",
       "      <td>1.533072</td>\n",
       "      <td>1.849125</td>\n",
       "      <td>-0.316052</td>\n",
       "      <td>652.80</td>\n",
       "      <td>-1</td>\n",
       "      <td>-1</td>\n",
       "      <td>0</td>\n",
       "    </tr>\n",
       "    <tr>\n",
       "      <th>122162</th>\n",
       "      <td>2019-05-29</td>\n",
       "      <td>MFON</td>\n",
       "      <td>1.247431</td>\n",
       "      <td>1.728786</td>\n",
       "      <td>-0.481355</td>\n",
       "      <td>650.60</td>\n",
       "      <td>-1</td>\n",
       "      <td>-1</td>\n",
       "      <td>0</td>\n",
       "    </tr>\n",
       "  </tbody>\n",
       "</table>\n",
       "<p>122163 rows × 9 columns</p>\n",
       "</div>"
      ],
      "text/plain": [
       "             Date Symbol  MACD_macd  MACD_macdsignal  MACD_macdhist   Close  \\\n",
       "0      2006-01-23   GAZP        NaN              NaN            NaN  218.89   \n",
       "1      2006-01-24   GAZP        NaN              NaN            NaN  224.00   \n",
       "2      2006-01-25   GAZP        NaN              NaN            NaN  228.38   \n",
       "3      2006-01-26   GAZP        NaN              NaN            NaN  224.47   \n",
       "4      2006-01-27   GAZP        NaN              NaN            NaN  228.75   \n",
       "...           ...    ...        ...              ...            ...     ...   \n",
       "122158 2019-05-23   MFON   1.700179         2.062271      -0.362092  652.80   \n",
       "122159 2019-05-24   MFON   1.737581         1.997333      -0.259753  654.40   \n",
       "122160 2019-05-27   MFON   1.651355         1.928138      -0.276782  653.20   \n",
       "122161 2019-05-28   MFON   1.533072         1.849125      -0.316052  652.80   \n",
       "122162 2019-05-29   MFON   1.247431         1.728786      -0.481355  650.60   \n",
       "\n",
       "        max_close  max_MACD  con_div_MACD  \n",
       "0              -1        -1             0  \n",
       "1               1        -1            -1  \n",
       "2               1        -1            -1  \n",
       "3              -1        -1             0  \n",
       "4               1        -1            -1  \n",
       "...           ...       ...           ...  \n",
       "122158          1         1             0  \n",
       "122159          1         1             0  \n",
       "122160         -1        -1             0  \n",
       "122161         -1        -1             0  \n",
       "122162         -1        -1             0  \n",
       "\n",
       "[122163 rows x 9 columns]"
      ]
     },
     "execution_count": 32,
     "metadata": {},
     "output_type": "execute_result"
    }
   ],
   "source": [
    "#make labels\n",
    "\n",
    "#make MACD\n",
    "df['max_close']    = np.where(df['Close']         > df['Close'].shift(1), 1, -1)\n",
    "df['max_MACD']     = np.where(df['MACD_macdhist'] > df['MACD_macdhist'].shift(1), 1, -1)\n",
    "df['con_div_MACD'] = np.where(df['max_close'] == -1,  \n",
    "                              np.where(df['max_MACD'] ==  1,  1, 0), \n",
    "                              np.where(df['max_MACD'] == -1, -1, 0)\n",
    "                             )\n",
    "df[['Date', \"Symbol\", 'MACD_macd', 'MACD_macdsignal', 'MACD_macdhist', 'Close', 'max_close', 'max_MACD', 'con_div_MACD']] \n",
    "\n",
    "#make sma\n",
    "sma = 'SMA_25'\n",
    "df['dif_25'] = np.where(df[sma] > df['Close'], -1, 1)\n",
    "df['dif_SMA_25']   = df[sma] - df['Close']\n",
    "df['cross_SMA_25'] = np.where(\n",
    "    df['dif_SMA_25'] * df['dif_SMA_25'].shift(1)>0, \n",
    "    0, \n",
    "    np.where(df[sma]>df['Close'], -1, 1))\n",
    "\n",
    "#make RSI\n",
    "rsi = 'RSI_25'\n",
    "df['rsi_max'] = np.where(df['RSI_25']>df['RSI_25'].shift(1), 1, -1)\n",
    "\n",
    "df['RSI_25_div'] = np. where(df['rsi_max']*df['max_close'] > 0, 0, np.where(df['rsi_max']>0, 1, -1) )\n",
    "df[['RSI_25_div', 'rsi_max', 'Close', 'RSI_25', 'max_close']]\n",
    "\n",
    "\n",
    "#make BB\n",
    "df['BB_up_Close'] = df['Close'] - df['BBANDS_upperband'].shift(1)\n",
    "df['BB_do_Close'] = df['Close'] - df['BBANDS_lowerband'].shift(1)\n",
    "df['BB_mi_Close'] = df['Close'] - df['BBANDS_middleband'].shift(1)\n",
    "\n",
    "df['cross_BB_up'] = np.where(df['BB_up_Close']>0, \n",
    "                              np.where(df['BB_up_Close'].shift(1)<0,1,0),0\n",
    "                             )\n",
    "\n",
    "df['cross_BB_do'] = np.where(df['BB_do_Close']<0, \n",
    "                              np.where(df['BB_do_Close'].shift(1)>0,-1,0),0\n",
    "                             )\n",
    "\n",
    "df['cross_MI_do'] = np.where(df['BB_mi_Close']*df['BB_mi_Close'].shift(1), 0, 10)\n",
    "df['BB'] = df['cross_BB_up'] + df['cross_BB_do']# + mer['cross_MI_do']"
   ]
  },
  {
   "cell_type": "code",
   "execution_count": 9,
   "metadata": {
    "scrolled": true
   },
   "outputs": [
    {
     "data": {
      "text/plain": [
       "(543600,)"
      ]
     },
     "metadata": {},
     "output_type": "display_data"
    },
    {
     "data": {
      "text/plain": [
       "10872.0"
      ]
     },
     "metadata": {},
     "output_type": "display_data"
    },
    {
     "data": {
      "text/plain": [
       "(508350,)"
      ]
     },
     "metadata": {},
     "output_type": "display_data"
    },
    {
     "data": {
      "text/plain": [
       "10167.0"
      ]
     },
     "metadata": {},
     "output_type": "display_data"
    },
    {
     "data": {
      "text/plain": [
       "(633600,)"
      ]
     },
     "metadata": {},
     "output_type": "display_data"
    },
    {
     "data": {
      "text/plain": [
       "12672.0"
      ]
     },
     "metadata": {},
     "output_type": "display_data"
    },
    {
     "data": {
      "text/plain": [
       "(525300,)"
      ]
     },
     "metadata": {},
     "output_type": "display_data"
    },
    {
     "data": {
      "text/plain": [
       "10506.0"
      ]
     },
     "metadata": {},
     "output_type": "display_data"
    },
    {
     "data": {
      "text/plain": [
       "(487800,)"
      ]
     },
     "metadata": {},
     "output_type": "display_data"
    },
    {
     "data": {
      "text/plain": [
       "9756.0"
      ]
     },
     "metadata": {},
     "output_type": "display_data"
    },
    {
     "data": {
      "text/plain": [
       "(481800,)"
      ]
     },
     "metadata": {},
     "output_type": "display_data"
    },
    {
     "data": {
      "text/plain": [
       "9636.0"
      ]
     },
     "metadata": {},
     "output_type": "display_data"
    },
    {
     "data": {
      "text/plain": [
       "(325350,)"
      ]
     },
     "metadata": {},
     "output_type": "display_data"
    },
    {
     "data": {
      "text/plain": [
       "6507.0"
      ]
     },
     "metadata": {},
     "output_type": "display_data"
    },
    {
     "data": {
      "text/plain": [
       "(471750,)"
      ]
     },
     "metadata": {},
     "output_type": "display_data"
    },
    {
     "data": {
      "text/plain": [
       "9435.0"
      ]
     },
     "metadata": {},
     "output_type": "display_data"
    },
    {
     "data": {
      "text/plain": [
       "(230550,)"
      ]
     },
     "metadata": {},
     "output_type": "display_data"
    },
    {
     "data": {
      "text/plain": [
       "4611.0"
      ]
     },
     "metadata": {},
     "output_type": "display_data"
    },
    {
     "data": {
      "text/plain": [
       "(515100,)"
      ]
     },
     "metadata": {},
     "output_type": "display_data"
    },
    {
     "data": {
      "text/plain": [
       "10302.0"
      ]
     },
     "metadata": {},
     "output_type": "display_data"
    },
    {
     "data": {
      "text/plain": [
       "(615450,)"
      ]
     },
     "metadata": {},
     "output_type": "display_data"
    },
    {
     "data": {
      "text/plain": [
       "12309.0"
      ]
     },
     "metadata": {},
     "output_type": "display_data"
    },
    {
     "data": {
      "text/plain": [
       "(396900,)"
      ]
     },
     "metadata": {},
     "output_type": "display_data"
    },
    {
     "data": {
      "text/plain": [
       "7938.0"
      ]
     },
     "metadata": {},
     "output_type": "display_data"
    },
    {
     "data": {
      "text/plain": [
       "(522150,)"
      ]
     },
     "metadata": {},
     "output_type": "display_data"
    },
    {
     "data": {
      "text/plain": [
       "10443.0"
      ]
     },
     "metadata": {},
     "output_type": "display_data"
    },
    {
     "data": {
      "text/plain": [
       "(543900,)"
      ]
     },
     "metadata": {},
     "output_type": "display_data"
    },
    {
     "data": {
      "text/plain": [
       "10878.0"
      ]
     },
     "metadata": {},
     "output_type": "display_data"
    },
    {
     "data": {
      "text/plain": [
       "(434100,)"
      ]
     },
     "metadata": {},
     "output_type": "display_data"
    },
    {
     "data": {
      "text/plain": [
       "8682.0"
      ]
     },
     "metadata": {},
     "output_type": "display_data"
    },
    {
     "data": {
      "text/plain": [
       "(614400,)"
      ]
     },
     "metadata": {},
     "output_type": "display_data"
    },
    {
     "data": {
      "text/plain": [
       "12288.0"
      ]
     },
     "metadata": {},
     "output_type": "display_data"
    },
    {
     "data": {
      "text/plain": [
       "(279300,)"
      ]
     },
     "metadata": {},
     "output_type": "display_data"
    },
    {
     "data": {
      "text/plain": [
       "5586.0"
      ]
     },
     "metadata": {},
     "output_type": "display_data"
    },
    {
     "data": {
      "text/plain": [
       "(534600,)"
      ]
     },
     "metadata": {},
     "output_type": "display_data"
    },
    {
     "data": {
      "text/plain": [
       "10692.0"
      ]
     },
     "metadata": {},
     "output_type": "display_data"
    },
    {
     "data": {
      "text/plain": [
       "(532350,)"
      ]
     },
     "metadata": {},
     "output_type": "display_data"
    },
    {
     "data": {
      "text/plain": [
       "10647.0"
      ]
     },
     "metadata": {},
     "output_type": "display_data"
    },
    {
     "data": {
      "text/plain": [
       "(246000,)"
      ]
     },
     "metadata": {},
     "output_type": "display_data"
    },
    {
     "data": {
      "text/plain": [
       "4920.0"
      ]
     },
     "metadata": {},
     "output_type": "display_data"
    },
    {
     "data": {
      "text/plain": [
       "(627600,)"
      ]
     },
     "metadata": {},
     "output_type": "display_data"
    },
    {
     "data": {
      "text/plain": [
       "12552.0"
      ]
     },
     "metadata": {},
     "output_type": "display_data"
    },
    {
     "data": {
      "text/plain": [
       "(627600,)"
      ]
     },
     "metadata": {},
     "output_type": "display_data"
    },
    {
     "data": {
      "text/plain": [
       "12552.0"
      ]
     },
     "metadata": {},
     "output_type": "display_data"
    },
    {
     "data": {
      "text/plain": [
       "(487800,)"
      ]
     },
     "metadata": {},
     "output_type": "display_data"
    },
    {
     "data": {
      "text/plain": [
       "9756.0"
      ]
     },
     "metadata": {},
     "output_type": "display_data"
    },
    {
     "data": {
      "text/plain": [
       "(565200,)"
      ]
     },
     "metadata": {},
     "output_type": "display_data"
    },
    {
     "data": {
      "text/plain": [
       "11304.0"
      ]
     },
     "metadata": {},
     "output_type": "display_data"
    },
    {
     "data": {
      "text/plain": [
       "(696600,)"
      ]
     },
     "metadata": {},
     "output_type": "display_data"
    },
    {
     "data": {
      "text/plain": [
       "13932.0"
      ]
     },
     "metadata": {},
     "output_type": "display_data"
    },
    {
     "data": {
      "text/plain": [
       "(470100,)"
      ]
     },
     "metadata": {},
     "output_type": "display_data"
    },
    {
     "data": {
      "text/plain": [
       "9402.0"
      ]
     },
     "metadata": {},
     "output_type": "display_data"
    },
    {
     "data": {
      "text/plain": [
       "(456000,)"
      ]
     },
     "metadata": {},
     "output_type": "display_data"
    },
    {
     "data": {
      "text/plain": [
       "9120.0"
      ]
     },
     "metadata": {},
     "output_type": "display_data"
    },
    {
     "data": {
      "text/plain": [
       "(450900,)"
      ]
     },
     "metadata": {},
     "output_type": "display_data"
    },
    {
     "data": {
      "text/plain": [
       "9018.0"
      ]
     },
     "metadata": {},
     "output_type": "display_data"
    },
    {
     "data": {
      "text/plain": [
       "(199350,)"
      ]
     },
     "metadata": {},
     "output_type": "display_data"
    },
    {
     "data": {
      "text/plain": [
       "3987.0"
      ]
     },
     "metadata": {},
     "output_type": "display_data"
    },
    {
     "data": {
      "text/plain": [
       "(522000,)"
      ]
     },
     "metadata": {},
     "output_type": "display_data"
    },
    {
     "data": {
      "text/plain": [
       "10440.0"
      ]
     },
     "metadata": {},
     "output_type": "display_data"
    },
    {
     "data": {
      "text/plain": [
       "(490500,)"
      ]
     },
     "metadata": {},
     "output_type": "display_data"
    },
    {
     "data": {
      "text/plain": [
       "9810.0"
      ]
     },
     "metadata": {},
     "output_type": "display_data"
    },
    {
     "data": {
      "text/plain": [
       "(512250,)"
      ]
     },
     "metadata": {},
     "output_type": "display_data"
    },
    {
     "data": {
      "text/plain": [
       "10245.0"
      ]
     },
     "metadata": {},
     "output_type": "display_data"
    },
    {
     "data": {
      "text/plain": [
       "(635700,)"
      ]
     },
     "metadata": {},
     "output_type": "display_data"
    },
    {
     "data": {
      "text/plain": [
       "12714.0"
      ]
     },
     "metadata": {},
     "output_type": "display_data"
    },
    {
     "data": {
      "text/plain": [
       "(635700,)"
      ]
     },
     "metadata": {},
     "output_type": "display_data"
    },
    {
     "data": {
      "text/plain": [
       "12714.0"
      ]
     },
     "metadata": {},
     "output_type": "display_data"
    },
    {
     "data": {
      "text/plain": [
       "(325050,)"
      ]
     },
     "metadata": {},
     "output_type": "display_data"
    },
    {
     "data": {
      "text/plain": [
       "6501.0"
      ]
     },
     "metadata": {},
     "output_type": "display_data"
    },
    {
     "data": {
      "text/plain": [
       "(637950,)"
      ]
     },
     "metadata": {},
     "output_type": "display_data"
    },
    {
     "data": {
      "text/plain": [
       "12759.0"
      ]
     },
     "metadata": {},
     "output_type": "display_data"
    },
    {
     "data": {
      "text/plain": [
       "(236550,)"
      ]
     },
     "metadata": {},
     "output_type": "display_data"
    },
    {
     "data": {
      "text/plain": [
       "4731.0"
      ]
     },
     "metadata": {},
     "output_type": "display_data"
    },
    {
     "name": "stdout",
     "output_type": "stream",
     "text": [
      "Wall time: 5min 42s\n"
     ]
    },
    {
     "data": {
      "text/html": [
       "<div>\n",
       "<style scoped>\n",
       "    .dataframe tbody tr th:only-of-type {\n",
       "        vertical-align: middle;\n",
       "    }\n",
       "\n",
       "    .dataframe tbody tr th {\n",
       "        vertical-align: top;\n",
       "    }\n",
       "\n",
       "    .dataframe thead th {\n",
       "        text-align: right;\n",
       "    }\n",
       "</style>\n",
       "<table border=\"1\" class=\"dataframe\">\n",
       "  <thead>\n",
       "    <tr style=\"text-align: right;\">\n",
       "      <th></th>\n",
       "      <th>Date</th>\n",
       "      <th>Symbol</th>\n",
       "      <th>Close</th>\n",
       "      <th>0</th>\n",
       "      <th>1</th>\n",
       "      <th>2</th>\n",
       "      <th>3</th>\n",
       "      <th>4</th>\n",
       "      <th>5</th>\n",
       "      <th>6</th>\n",
       "      <th>...</th>\n",
       "      <th>40</th>\n",
       "      <th>41</th>\n",
       "      <th>42</th>\n",
       "      <th>43</th>\n",
       "      <th>44</th>\n",
       "      <th>45</th>\n",
       "      <th>46</th>\n",
       "      <th>47</th>\n",
       "      <th>48</th>\n",
       "      <th>49</th>\n",
       "    </tr>\n",
       "  </thead>\n",
       "  <tbody>\n",
       "    <tr>\n",
       "      <th>0</th>\n",
       "      <td>2006-04-12</td>\n",
       "      <td>GAZP</td>\n",
       "      <td>264.7</td>\n",
       "      <td>219.02</td>\n",
       "      <td>223.99</td>\n",
       "      <td>221.5</td>\n",
       "      <td>221.01</td>\n",
       "      <td>220.45</td>\n",
       "      <td>220.5</td>\n",
       "      <td>221</td>\n",
       "      <td>...</td>\n",
       "      <td>230.4</td>\n",
       "      <td>230.15</td>\n",
       "      <td>230.5</td>\n",
       "      <td>231.52</td>\n",
       "      <td>238.5</td>\n",
       "      <td>243.3</td>\n",
       "      <td>250.29</td>\n",
       "      <td>268.7</td>\n",
       "      <td>262.5</td>\n",
       "      <td>264.7</td>\n",
       "    </tr>\n",
       "    <tr>\n",
       "      <th>1</th>\n",
       "      <td>2006-04-13</td>\n",
       "      <td>GAZP</td>\n",
       "      <td>263.49</td>\n",
       "      <td>223.99</td>\n",
       "      <td>221.5</td>\n",
       "      <td>221.01</td>\n",
       "      <td>220.45</td>\n",
       "      <td>220.5</td>\n",
       "      <td>221</td>\n",
       "      <td>222</td>\n",
       "      <td>...</td>\n",
       "      <td>230.15</td>\n",
       "      <td>230.5</td>\n",
       "      <td>231.52</td>\n",
       "      <td>238.5</td>\n",
       "      <td>243.3</td>\n",
       "      <td>250.29</td>\n",
       "      <td>268.7</td>\n",
       "      <td>262.5</td>\n",
       "      <td>264.7</td>\n",
       "      <td>263.49</td>\n",
       "    </tr>\n",
       "    <tr>\n",
       "      <th>2</th>\n",
       "      <td>2006-04-14</td>\n",
       "      <td>GAZP</td>\n",
       "      <td>267.9</td>\n",
       "      <td>221.5</td>\n",
       "      <td>221.01</td>\n",
       "      <td>220.45</td>\n",
       "      <td>220.5</td>\n",
       "      <td>221</td>\n",
       "      <td>222</td>\n",
       "      <td>222</td>\n",
       "      <td>...</td>\n",
       "      <td>230.5</td>\n",
       "      <td>231.52</td>\n",
       "      <td>238.5</td>\n",
       "      <td>243.3</td>\n",
       "      <td>250.29</td>\n",
       "      <td>268.7</td>\n",
       "      <td>262.5</td>\n",
       "      <td>264.7</td>\n",
       "      <td>263.49</td>\n",
       "      <td>267.9</td>\n",
       "    </tr>\n",
       "    <tr>\n",
       "      <th>3</th>\n",
       "      <td>2006-04-17</td>\n",
       "      <td>GAZP</td>\n",
       "      <td>269.45</td>\n",
       "      <td>221.01</td>\n",
       "      <td>220.45</td>\n",
       "      <td>220.5</td>\n",
       "      <td>221</td>\n",
       "      <td>222</td>\n",
       "      <td>222</td>\n",
       "      <td>219.95</td>\n",
       "      <td>...</td>\n",
       "      <td>231.52</td>\n",
       "      <td>238.5</td>\n",
       "      <td>243.3</td>\n",
       "      <td>250.29</td>\n",
       "      <td>268.7</td>\n",
       "      <td>262.5</td>\n",
       "      <td>264.7</td>\n",
       "      <td>263.49</td>\n",
       "      <td>267.9</td>\n",
       "      <td>269.45</td>\n",
       "    </tr>\n",
       "    <tr>\n",
       "      <th>4</th>\n",
       "      <td>2006-04-18</td>\n",
       "      <td>GAZP</td>\n",
       "      <td>271.69</td>\n",
       "      <td>220.45</td>\n",
       "      <td>220.5</td>\n",
       "      <td>221</td>\n",
       "      <td>222</td>\n",
       "      <td>222</td>\n",
       "      <td>219.95</td>\n",
       "      <td>219.89</td>\n",
       "      <td>...</td>\n",
       "      <td>238.5</td>\n",
       "      <td>243.3</td>\n",
       "      <td>250.29</td>\n",
       "      <td>268.7</td>\n",
       "      <td>262.5</td>\n",
       "      <td>264.7</td>\n",
       "      <td>263.49</td>\n",
       "      <td>267.9</td>\n",
       "      <td>269.45</td>\n",
       "      <td>271.69</td>\n",
       "    </tr>\n",
       "    <tr>\n",
       "      <th>...</th>\n",
       "      <td>...</td>\n",
       "      <td>...</td>\n",
       "      <td>...</td>\n",
       "      <td>...</td>\n",
       "      <td>...</td>\n",
       "      <td>...</td>\n",
       "      <td>...</td>\n",
       "      <td>...</td>\n",
       "      <td>...</td>\n",
       "      <td>...</td>\n",
       "      <td>...</td>\n",
       "      <td>...</td>\n",
       "      <td>...</td>\n",
       "      <td>...</td>\n",
       "      <td>...</td>\n",
       "      <td>...</td>\n",
       "      <td>...</td>\n",
       "      <td>...</td>\n",
       "      <td>...</td>\n",
       "      <td>...</td>\n",
       "      <td>...</td>\n",
       "    </tr>\n",
       "    <tr>\n",
       "      <th>1572</th>\n",
       "      <td>2019-05-23</td>\n",
       "      <td>MFON</td>\n",
       "      <td>652.8</td>\n",
       "      <td>632.2</td>\n",
       "      <td>634.2</td>\n",
       "      <td>635.2</td>\n",
       "      <td>634.4</td>\n",
       "      <td>633.2</td>\n",
       "      <td>636.2</td>\n",
       "      <td>634.2</td>\n",
       "      <td>...</td>\n",
       "      <td>652.6</td>\n",
       "      <td>652.6</td>\n",
       "      <td>652.6</td>\n",
       "      <td>652.6</td>\n",
       "      <td>652.6</td>\n",
       "      <td>652.6</td>\n",
       "      <td>652.6</td>\n",
       "      <td>652.6</td>\n",
       "      <td>652.6</td>\n",
       "      <td>652.8</td>\n",
       "    </tr>\n",
       "    <tr>\n",
       "      <th>1573</th>\n",
       "      <td>2019-05-24</td>\n",
       "      <td>MFON</td>\n",
       "      <td>654.4</td>\n",
       "      <td>634.2</td>\n",
       "      <td>635.2</td>\n",
       "      <td>634.4</td>\n",
       "      <td>633.2</td>\n",
       "      <td>636.2</td>\n",
       "      <td>634.2</td>\n",
       "      <td>639.4</td>\n",
       "      <td>...</td>\n",
       "      <td>652.6</td>\n",
       "      <td>652.6</td>\n",
       "      <td>652.6</td>\n",
       "      <td>652.6</td>\n",
       "      <td>652.6</td>\n",
       "      <td>652.6</td>\n",
       "      <td>652.6</td>\n",
       "      <td>652.6</td>\n",
       "      <td>652.8</td>\n",
       "      <td>654.4</td>\n",
       "    </tr>\n",
       "    <tr>\n",
       "      <th>1574</th>\n",
       "      <td>2019-05-27</td>\n",
       "      <td>MFON</td>\n",
       "      <td>653.2</td>\n",
       "      <td>635.2</td>\n",
       "      <td>634.4</td>\n",
       "      <td>633.2</td>\n",
       "      <td>636.2</td>\n",
       "      <td>634.2</td>\n",
       "      <td>639.4</td>\n",
       "      <td>639.6</td>\n",
       "      <td>...</td>\n",
       "      <td>652.6</td>\n",
       "      <td>652.6</td>\n",
       "      <td>652.6</td>\n",
       "      <td>652.6</td>\n",
       "      <td>652.6</td>\n",
       "      <td>652.6</td>\n",
       "      <td>652.6</td>\n",
       "      <td>652.8</td>\n",
       "      <td>654.4</td>\n",
       "      <td>653.2</td>\n",
       "    </tr>\n",
       "    <tr>\n",
       "      <th>1575</th>\n",
       "      <td>2019-05-28</td>\n",
       "      <td>MFON</td>\n",
       "      <td>652.8</td>\n",
       "      <td>634.4</td>\n",
       "      <td>633.2</td>\n",
       "      <td>636.2</td>\n",
       "      <td>634.2</td>\n",
       "      <td>639.4</td>\n",
       "      <td>639.6</td>\n",
       "      <td>640.4</td>\n",
       "      <td>...</td>\n",
       "      <td>652.6</td>\n",
       "      <td>652.6</td>\n",
       "      <td>652.6</td>\n",
       "      <td>652.6</td>\n",
       "      <td>652.6</td>\n",
       "      <td>652.6</td>\n",
       "      <td>652.8</td>\n",
       "      <td>654.4</td>\n",
       "      <td>653.2</td>\n",
       "      <td>652.8</td>\n",
       "    </tr>\n",
       "    <tr>\n",
       "      <th>1576</th>\n",
       "      <td>2019-05-29</td>\n",
       "      <td>MFON</td>\n",
       "      <td>650.6</td>\n",
       "      <td>633.2</td>\n",
       "      <td>636.2</td>\n",
       "      <td>634.2</td>\n",
       "      <td>639.4</td>\n",
       "      <td>639.6</td>\n",
       "      <td>640.4</td>\n",
       "      <td>639.8</td>\n",
       "      <td>...</td>\n",
       "      <td>652.6</td>\n",
       "      <td>652.6</td>\n",
       "      <td>652.6</td>\n",
       "      <td>652.6</td>\n",
       "      <td>652.6</td>\n",
       "      <td>652.8</td>\n",
       "      <td>654.4</td>\n",
       "      <td>653.2</td>\n",
       "      <td>652.8</td>\n",
       "      <td>650.6</td>\n",
       "    </tr>\n",
       "  </tbody>\n",
       "</table>\n",
       "<p>120128 rows × 53 columns</p>\n",
       "</div>"
      ],
      "text/plain": [
       "           Date Symbol   Close       0       1       2       3       4  \\\n",
       "0    2006-04-12   GAZP   264.7  219.02  223.99   221.5  221.01  220.45   \n",
       "1    2006-04-13   GAZP  263.49  223.99   221.5  221.01  220.45   220.5   \n",
       "2    2006-04-14   GAZP   267.9   221.5  221.01  220.45   220.5     221   \n",
       "3    2006-04-17   GAZP  269.45  221.01  220.45   220.5     221     222   \n",
       "4    2006-04-18   GAZP  271.69  220.45   220.5     221     222     222   \n",
       "...         ...    ...     ...     ...     ...     ...     ...     ...   \n",
       "1572 2019-05-23   MFON   652.8   632.2   634.2   635.2   634.4   633.2   \n",
       "1573 2019-05-24   MFON   654.4   634.2   635.2   634.4   633.2   636.2   \n",
       "1574 2019-05-27   MFON   653.2   635.2   634.4   633.2   636.2   634.2   \n",
       "1575 2019-05-28   MFON   652.8   634.4   633.2   636.2   634.2   639.4   \n",
       "1576 2019-05-29   MFON   650.6   633.2   636.2   634.2   639.4   639.6   \n",
       "\n",
       "           5       6  ...      40      41      42      43      44      45  \\\n",
       "0      220.5     221  ...   230.4  230.15   230.5  231.52   238.5   243.3   \n",
       "1        221     222  ...  230.15   230.5  231.52   238.5   243.3  250.29   \n",
       "2        222     222  ...   230.5  231.52   238.5   243.3  250.29   268.7   \n",
       "3        222  219.95  ...  231.52   238.5   243.3  250.29   268.7   262.5   \n",
       "4     219.95  219.89  ...   238.5   243.3  250.29   268.7   262.5   264.7   \n",
       "...      ...     ...  ...     ...     ...     ...     ...     ...     ...   \n",
       "1572   636.2   634.2  ...   652.6   652.6   652.6   652.6   652.6   652.6   \n",
       "1573   634.2   639.4  ...   652.6   652.6   652.6   652.6   652.6   652.6   \n",
       "1574   639.4   639.6  ...   652.6   652.6   652.6   652.6   652.6   652.6   \n",
       "1575   639.6   640.4  ...   652.6   652.6   652.6   652.6   652.6   652.6   \n",
       "1576   640.4   639.8  ...   652.6   652.6   652.6   652.6   652.6   652.8   \n",
       "\n",
       "          46      47      48      49  \n",
       "0     250.29   268.7   262.5   264.7  \n",
       "1      268.7   262.5   264.7  263.49  \n",
       "2      262.5   264.7  263.49   267.9  \n",
       "3      264.7  263.49   267.9  269.45  \n",
       "4     263.49   267.9  269.45  271.69  \n",
       "...      ...     ...     ...     ...  \n",
       "1572   652.6   652.6   652.6   652.8  \n",
       "1573   652.6   652.6   652.8   654.4  \n",
       "1574   652.6   652.8   654.4   653.2  \n",
       "1575   652.8   654.4   653.2   652.8  \n",
       "1576   654.4   653.2   652.8   650.6  \n",
       "\n",
       "[120128 rows x 53 columns]"
      ]
     },
     "execution_count": 9,
     "metadata": {},
     "output_type": "execute_result"
    }
   ],
   "source": [
    "%%time\n",
    "n = 50\n",
    "t = 55\n",
    "\n",
    "last_n_bar_all = pd.DataFrame()\n",
    "\n",
    "for ii in df['Symbol'].unique():\n",
    "    test = df[df['Symbol'] == ii][['Date', 'Symbol', 'Close']]\n",
    "    test = np.array(test)\n",
    "    \n",
    "    all_15 = np.zeros(0)\n",
    "    for i in range(t, len(test)):\n",
    "        df_15 = test[i-n+1:i+1]\n",
    "        all_15 = np.append(all_15, df_15)\n",
    "    #    display(i)\n",
    "    display(all_15.shape)        \n",
    "    display(len(all_15)/n)   \n",
    "    zz = np.reshape(all_15, (int(len(all_15)/3), 3))\n",
    "    ss = np.reshape(zz[:,-1], (int(len(zz)/n), n))\n",
    "    last_n_bar = pd.DataFrame(np.concatenate([test[t:,:], ss], axis=1))\n",
    "    last_n_bar.columns = [ 'Date', 'Symbol', 'Close'] + list(range(n))\n",
    "    last_n_bar_all = last_n_bar_all.append(last_n_bar)\n",
    "last_n_bar_all"
   ]
  },
  {
   "cell_type": "code",
   "execution_count": 43,
   "metadata": {},
   "outputs": [
    {
     "data": {
      "text/plain": [
       "(122163, 128)"
      ]
     },
     "metadata": {},
     "output_type": "display_data"
    },
    {
     "data": {
      "text/plain": [
       "(120128, 53)"
      ]
     },
     "metadata": {},
     "output_type": "display_data"
    },
    {
     "data": {
      "text/plain": [
       "(120128, 178)"
      ]
     },
     "metadata": {},
     "output_type": "display_data"
    },
    {
     "data": {
      "text/plain": [
       "(114393, 178)"
      ]
     },
     "metadata": {},
     "output_type": "display_data"
    },
    {
     "data": {
      "text/html": [
       "<div>\n",
       "<style scoped>\n",
       "    .dataframe tbody tr th:only-of-type {\n",
       "        vertical-align: middle;\n",
       "    }\n",
       "\n",
       "    .dataframe tbody tr th {\n",
       "        vertical-align: top;\n",
       "    }\n",
       "\n",
       "    .dataframe thead th {\n",
       "        text-align: right;\n",
       "    }\n",
       "</style>\n",
       "<table border=\"1\" class=\"dataframe\">\n",
       "  <thead>\n",
       "    <tr style=\"text-align: right;\">\n",
       "      <th></th>\n",
       "      <th>Date</th>\n",
       "      <th>Symbol</th>\n",
       "      <th>Close</th>\n",
       "      <th>0</th>\n",
       "      <th>1</th>\n",
       "      <th>2</th>\n",
       "      <th>3</th>\n",
       "      <th>4</th>\n",
       "      <th>5</th>\n",
       "      <th>6</th>\n",
       "      <th>...</th>\n",
       "      <th>BBANDS_middleband</th>\n",
       "      <th>BBANDS_lowerband</th>\n",
       "      <th>MAMA_mama</th>\n",
       "      <th>MAMA_fama</th>\n",
       "      <th>dif_25</th>\n",
       "      <th>dif_SMA_25</th>\n",
       "      <th>cross_SMA_25</th>\n",
       "      <th>max_close</th>\n",
       "      <th>max_MACD</th>\n",
       "      <th>con_div_MACD</th>\n",
       "    </tr>\n",
       "  </thead>\n",
       "  <tbody>\n",
       "    <tr>\n",
       "      <th>155</th>\n",
       "      <td>2006-11-21</td>\n",
       "      <td>GAZP</td>\n",
       "      <td>291.4</td>\n",
       "      <td>289.9</td>\n",
       "      <td>293.99</td>\n",
       "      <td>292.18</td>\n",
       "      <td>291.75</td>\n",
       "      <td>293.82</td>\n",
       "      <td>294.75</td>\n",
       "      <td>288.01</td>\n",
       "      <td>...</td>\n",
       "      <td>290.552</td>\n",
       "      <td>284.093326</td>\n",
       "      <td>290.600826</td>\n",
       "      <td>290.386593</td>\n",
       "      <td>-1</td>\n",
       "      <td>0.0224</td>\n",
       "      <td>0</td>\n",
       "      <td>1</td>\n",
       "      <td>1</td>\n",
       "      <td>0</td>\n",
       "    </tr>\n",
       "    <tr>\n",
       "      <th>156</th>\n",
       "      <td>2006-11-22</td>\n",
       "      <td>GAZP</td>\n",
       "      <td>288.01</td>\n",
       "      <td>293.99</td>\n",
       "      <td>292.18</td>\n",
       "      <td>291.75</td>\n",
       "      <td>293.82</td>\n",
       "      <td>294.75</td>\n",
       "      <td>288.01</td>\n",
       "      <td>280.8</td>\n",
       "      <td>...</td>\n",
       "      <td>289.354</td>\n",
       "      <td>283.729758</td>\n",
       "      <td>290.471285</td>\n",
       "      <td>290.388710</td>\n",
       "      <td>-1</td>\n",
       "      <td>3.1728</td>\n",
       "      <td>0</td>\n",
       "      <td>-1</td>\n",
       "      <td>-1</td>\n",
       "      <td>0</td>\n",
       "    </tr>\n",
       "    <tr>\n",
       "      <th>157</th>\n",
       "      <td>2006-11-23</td>\n",
       "      <td>GAZP</td>\n",
       "      <td>289.7</td>\n",
       "      <td>292.18</td>\n",
       "      <td>291.75</td>\n",
       "      <td>293.82</td>\n",
       "      <td>294.75</td>\n",
       "      <td>288.01</td>\n",
       "      <td>280.8</td>\n",
       "      <td>272</td>\n",
       "      <td>...</td>\n",
       "      <td>288.566</td>\n",
       "      <td>284.751782</td>\n",
       "      <td>290.432721</td>\n",
       "      <td>290.389811</td>\n",
       "      <td>-1</td>\n",
       "      <td>1.0832</td>\n",
       "      <td>0</td>\n",
       "      <td>1</td>\n",
       "      <td>1</td>\n",
       "      <td>0</td>\n",
       "    </tr>\n",
       "    <tr>\n",
       "      <th>158</th>\n",
       "      <td>2006-11-24</td>\n",
       "      <td>GAZP</td>\n",
       "      <td>289.99</td>\n",
       "      <td>291.75</td>\n",
       "      <td>293.82</td>\n",
       "      <td>294.75</td>\n",
       "      <td>288.01</td>\n",
       "      <td>280.8</td>\n",
       "      <td>272</td>\n",
       "      <td>262.1</td>\n",
       "      <td>...</td>\n",
       "      <td>288.958</td>\n",
       "      <td>285.043158</td>\n",
       "      <td>290.211360</td>\n",
       "      <td>290.345198</td>\n",
       "      <td>-1</td>\n",
       "      <td>0.3888</td>\n",
       "      <td>0</td>\n",
       "      <td>1</td>\n",
       "      <td>1</td>\n",
       "      <td>0</td>\n",
       "    </tr>\n",
       "    <tr>\n",
       "      <th>159</th>\n",
       "      <td>2006-11-27</td>\n",
       "      <td>GAZP</td>\n",
       "      <td>288.75</td>\n",
       "      <td>293.82</td>\n",
       "      <td>294.75</td>\n",
       "      <td>288.01</td>\n",
       "      <td>280.8</td>\n",
       "      <td>272</td>\n",
       "      <td>262.1</td>\n",
       "      <td>273.91</td>\n",
       "      <td>...</td>\n",
       "      <td>289.570</td>\n",
       "      <td>287.263800</td>\n",
       "      <td>290.138292</td>\n",
       "      <td>290.340025</td>\n",
       "      <td>-1</td>\n",
       "      <td>1.2908</td>\n",
       "      <td>0</td>\n",
       "      <td>-1</td>\n",
       "      <td>-1</td>\n",
       "      <td>0</td>\n",
       "    </tr>\n",
       "    <tr>\n",
       "      <th>...</th>\n",
       "      <td>...</td>\n",
       "      <td>...</td>\n",
       "      <td>...</td>\n",
       "      <td>...</td>\n",
       "      <td>...</td>\n",
       "      <td>...</td>\n",
       "      <td>...</td>\n",
       "      <td>...</td>\n",
       "      <td>...</td>\n",
       "      <td>...</td>\n",
       "      <td>...</td>\n",
       "      <td>...</td>\n",
       "      <td>...</td>\n",
       "      <td>...</td>\n",
       "      <td>...</td>\n",
       "      <td>...</td>\n",
       "      <td>...</td>\n",
       "      <td>...</td>\n",
       "      <td>...</td>\n",
       "      <td>...</td>\n",
       "      <td>...</td>\n",
       "    </tr>\n",
       "    <tr>\n",
       "      <th>120123</th>\n",
       "      <td>2019-05-23</td>\n",
       "      <td>MFON</td>\n",
       "      <td>652.8</td>\n",
       "      <td>632.2</td>\n",
       "      <td>634.2</td>\n",
       "      <td>635.2</td>\n",
       "      <td>634.4</td>\n",
       "      <td>633.2</td>\n",
       "      <td>636.2</td>\n",
       "      <td>634.2</td>\n",
       "      <td>...</td>\n",
       "      <td>652.640</td>\n",
       "      <td>652.480000</td>\n",
       "      <td>652.578028</td>\n",
       "      <td>651.066056</td>\n",
       "      <td>1</td>\n",
       "      <td>-1.0960</td>\n",
       "      <td>0</td>\n",
       "      <td>1</td>\n",
       "      <td>1</td>\n",
       "      <td>0</td>\n",
       "    </tr>\n",
       "    <tr>\n",
       "      <th>120124</th>\n",
       "      <td>2019-05-24</td>\n",
       "      <td>MFON</td>\n",
       "      <td>654.4</td>\n",
       "      <td>634.2</td>\n",
       "      <td>635.2</td>\n",
       "      <td>634.4</td>\n",
       "      <td>633.2</td>\n",
       "      <td>636.2</td>\n",
       "      <td>634.2</td>\n",
       "      <td>639.4</td>\n",
       "      <td>...</td>\n",
       "      <td>653.000</td>\n",
       "      <td>651.591455</td>\n",
       "      <td>652.906559</td>\n",
       "      <td>651.231993</td>\n",
       "      <td>1</td>\n",
       "      <td>-2.4400</td>\n",
       "      <td>0</td>\n",
       "      <td>1</td>\n",
       "      <td>1</td>\n",
       "      <td>0</td>\n",
       "    </tr>\n",
       "    <tr>\n",
       "      <th>120125</th>\n",
       "      <td>2019-05-27</td>\n",
       "      <td>MFON</td>\n",
       "      <td>653.2</td>\n",
       "      <td>635.2</td>\n",
       "      <td>634.4</td>\n",
       "      <td>633.2</td>\n",
       "      <td>636.2</td>\n",
       "      <td>634.2</td>\n",
       "      <td>639.4</td>\n",
       "      <td>639.6</td>\n",
       "      <td>...</td>\n",
       "      <td>653.120</td>\n",
       "      <td>651.767077</td>\n",
       "      <td>652.935060</td>\n",
       "      <td>651.314700</td>\n",
       "      <td>1</td>\n",
       "      <td>-1.1200</td>\n",
       "      <td>0</td>\n",
       "      <td>-1</td>\n",
       "      <td>-1</td>\n",
       "      <td>0</td>\n",
       "    </tr>\n",
       "    <tr>\n",
       "      <th>120126</th>\n",
       "      <td>2019-05-28</td>\n",
       "      <td>MFON</td>\n",
       "      <td>652.8</td>\n",
       "      <td>634.4</td>\n",
       "      <td>633.2</td>\n",
       "      <td>636.2</td>\n",
       "      <td>634.2</td>\n",
       "      <td>639.4</td>\n",
       "      <td>639.6</td>\n",
       "      <td>640.4</td>\n",
       "      <td>...</td>\n",
       "      <td>653.160</td>\n",
       "      <td>651.860154</td>\n",
       "      <td>652.867530</td>\n",
       "      <td>651.702908</td>\n",
       "      <td>1</td>\n",
       "      <td>-0.6240</td>\n",
       "      <td>0</td>\n",
       "      <td>-1</td>\n",
       "      <td>-1</td>\n",
       "      <td>0</td>\n",
       "    </tr>\n",
       "    <tr>\n",
       "      <th>120127</th>\n",
       "      <td>2019-05-29</td>\n",
       "      <td>MFON</td>\n",
       "      <td>650.6</td>\n",
       "      <td>633.2</td>\n",
       "      <td>636.2</td>\n",
       "      <td>634.2</td>\n",
       "      <td>639.4</td>\n",
       "      <td>639.6</td>\n",
       "      <td>640.4</td>\n",
       "      <td>639.8</td>\n",
       "      <td>...</td>\n",
       "      <td>652.760</td>\n",
       "      <td>650.302033</td>\n",
       "      <td>652.754154</td>\n",
       "      <td>651.729189</td>\n",
       "      <td>-1</td>\n",
       "      <td>1.5920</td>\n",
       "      <td>-1</td>\n",
       "      <td>-1</td>\n",
       "      <td>-1</td>\n",
       "      <td>0</td>\n",
       "    </tr>\n",
       "  </tbody>\n",
       "</table>\n",
       "<p>114393 rows × 178 columns</p>\n",
       "</div>"
      ],
      "text/plain": [
       "             Date Symbol   Close       0       1       2       3       4  \\\n",
       "155    2006-11-21   GAZP   291.4   289.9  293.99  292.18  291.75  293.82   \n",
       "156    2006-11-22   GAZP  288.01  293.99  292.18  291.75  293.82  294.75   \n",
       "157    2006-11-23   GAZP   289.7  292.18  291.75  293.82  294.75  288.01   \n",
       "158    2006-11-24   GAZP  289.99  291.75  293.82  294.75  288.01   280.8   \n",
       "159    2006-11-27   GAZP  288.75  293.82  294.75  288.01   280.8     272   \n",
       "...           ...    ...     ...     ...     ...     ...     ...     ...   \n",
       "120123 2019-05-23   MFON   652.8   632.2   634.2   635.2   634.4   633.2   \n",
       "120124 2019-05-24   MFON   654.4   634.2   635.2   634.4   633.2   636.2   \n",
       "120125 2019-05-27   MFON   653.2   635.2   634.4   633.2   636.2   634.2   \n",
       "120126 2019-05-28   MFON   652.8   634.4   633.2   636.2   634.2   639.4   \n",
       "120127 2019-05-29   MFON   650.6   633.2   636.2   634.2   639.4   639.6   \n",
       "\n",
       "             5       6  ... BBANDS_middleband BBANDS_lowerband   MAMA_mama  \\\n",
       "155     294.75  288.01  ...           290.552       284.093326  290.600826   \n",
       "156     288.01   280.8  ...           289.354       283.729758  290.471285   \n",
       "157      280.8     272  ...           288.566       284.751782  290.432721   \n",
       "158        272   262.1  ...           288.958       285.043158  290.211360   \n",
       "159      262.1  273.91  ...           289.570       287.263800  290.138292   \n",
       "...        ...     ...  ...               ...              ...         ...   \n",
       "120123   636.2   634.2  ...           652.640       652.480000  652.578028   \n",
       "120124   634.2   639.4  ...           653.000       651.591455  652.906559   \n",
       "120125   639.4   639.6  ...           653.120       651.767077  652.935060   \n",
       "120126   639.6   640.4  ...           653.160       651.860154  652.867530   \n",
       "120127   640.4   639.8  ...           652.760       650.302033  652.754154   \n",
       "\n",
       "         MAMA_fama dif_25 dif_SMA_25 cross_SMA_25 max_close max_MACD  \\\n",
       "155     290.386593     -1     0.0224            0         1        1   \n",
       "156     290.388710     -1     3.1728            0        -1       -1   \n",
       "157     290.389811     -1     1.0832            0         1        1   \n",
       "158     290.345198     -1     0.3888            0         1        1   \n",
       "159     290.340025     -1     1.2908            0        -1       -1   \n",
       "...            ...    ...        ...          ...       ...      ...   \n",
       "120123  651.066056      1    -1.0960            0         1        1   \n",
       "120124  651.231993      1    -2.4400            0         1        1   \n",
       "120125  651.314700      1    -1.1200            0        -1       -1   \n",
       "120126  651.702908      1    -0.6240            0        -1       -1   \n",
       "120127  651.729189     -1     1.5920           -1        -1       -1   \n",
       "\n",
       "       con_div_MACD  \n",
       "155               0  \n",
       "156               0  \n",
       "157               0  \n",
       "158               0  \n",
       "159               0  \n",
       "...             ...  \n",
       "120123            0  \n",
       "120124            0  \n",
       "120125            0  \n",
       "120126            0  \n",
       "120127            0  \n",
       "\n",
       "[114393 rows x 178 columns]"
      ]
     },
     "execution_count": 43,
     "metadata": {},
     "output_type": "execute_result"
    }
   ],
   "source": [
    "mer = pd.merge(last_n_bar_all, df, on = ['Date', 'Symbol', 'Close'], how = 'inner')\n",
    "display(df.shape, last_n_bar_all.shape, mer.shape)\n",
    "mer.dropna(inplace=True)\n",
    "display(mer.shape)\n",
    "mer"
   ]
  },
  {
   "cell_type": "code",
   "execution_count": 54,
   "metadata": {},
   "outputs": [],
   "source": [
    "mer.to_csv('mer.csv')"
   ]
  },
  {
   "cell_type": "code",
   "execution_count": 6,
   "metadata": {},
   "outputs": [],
   "source": [
    "mer = pd.read_csv('mer.csv', parse_dates=['Date'])"
   ]
  },
  {
   "cell_type": "code",
   "execution_count": 8,
   "metadata": {},
   "outputs": [
    {
     "data": {
      "text/html": [
       "<div>\n",
       "<style scoped>\n",
       "    .dataframe tbody tr th:only-of-type {\n",
       "        vertical-align: middle;\n",
       "    }\n",
       "\n",
       "    .dataframe tbody tr th {\n",
       "        vertical-align: top;\n",
       "    }\n",
       "\n",
       "    .dataframe thead th {\n",
       "        text-align: right;\n",
       "    }\n",
       "</style>\n",
       "<table border=\"1\" class=\"dataframe\">\n",
       "  <thead>\n",
       "    <tr style=\"text-align: right;\">\n",
       "      <th></th>\n",
       "      <th>Date</th>\n",
       "      <th>Symbol</th>\n",
       "      <th>Close</th>\n",
       "      <th>0</th>\n",
       "      <th>1</th>\n",
       "      <th>2</th>\n",
       "      <th>3</th>\n",
       "      <th>4</th>\n",
       "      <th>5</th>\n",
       "      <th>6</th>\n",
       "      <th>...</th>\n",
       "      <th>BBANDS_middleband</th>\n",
       "      <th>BBANDS_lowerband</th>\n",
       "      <th>MAMA_mama</th>\n",
       "      <th>MAMA_fama</th>\n",
       "      <th>dif_25</th>\n",
       "      <th>dif_SMA_25</th>\n",
       "      <th>cross_SMA_25</th>\n",
       "      <th>max_close</th>\n",
       "      <th>max_MACD</th>\n",
       "      <th>con_div_MACD</th>\n",
       "    </tr>\n",
       "  </thead>\n",
       "  <tbody>\n",
       "    <tr>\n",
       "      <th>0</th>\n",
       "      <td>2006-11-21</td>\n",
       "      <td>GAZP</td>\n",
       "      <td>291.40</td>\n",
       "      <td>289.90</td>\n",
       "      <td>293.99</td>\n",
       "      <td>292.18</td>\n",
       "      <td>291.75</td>\n",
       "      <td>293.82</td>\n",
       "      <td>294.75</td>\n",
       "      <td>288.01</td>\n",
       "      <td>...</td>\n",
       "      <td>290.552</td>\n",
       "      <td>284.093326</td>\n",
       "      <td>290.600826</td>\n",
       "      <td>290.386593</td>\n",
       "      <td>-1</td>\n",
       "      <td>0.0224</td>\n",
       "      <td>0</td>\n",
       "      <td>1</td>\n",
       "      <td>1</td>\n",
       "      <td>0</td>\n",
       "    </tr>\n",
       "    <tr>\n",
       "      <th>1</th>\n",
       "      <td>2006-11-22</td>\n",
       "      <td>GAZP</td>\n",
       "      <td>288.01</td>\n",
       "      <td>293.99</td>\n",
       "      <td>292.18</td>\n",
       "      <td>291.75</td>\n",
       "      <td>293.82</td>\n",
       "      <td>294.75</td>\n",
       "      <td>288.01</td>\n",
       "      <td>280.80</td>\n",
       "      <td>...</td>\n",
       "      <td>289.354</td>\n",
       "      <td>283.729758</td>\n",
       "      <td>290.471285</td>\n",
       "      <td>290.388710</td>\n",
       "      <td>-1</td>\n",
       "      <td>3.1728</td>\n",
       "      <td>0</td>\n",
       "      <td>-1</td>\n",
       "      <td>-1</td>\n",
       "      <td>0</td>\n",
       "    </tr>\n",
       "    <tr>\n",
       "      <th>2</th>\n",
       "      <td>2006-11-23</td>\n",
       "      <td>GAZP</td>\n",
       "      <td>289.70</td>\n",
       "      <td>292.18</td>\n",
       "      <td>291.75</td>\n",
       "      <td>293.82</td>\n",
       "      <td>294.75</td>\n",
       "      <td>288.01</td>\n",
       "      <td>280.80</td>\n",
       "      <td>272.00</td>\n",
       "      <td>...</td>\n",
       "      <td>288.566</td>\n",
       "      <td>284.751782</td>\n",
       "      <td>290.432721</td>\n",
       "      <td>290.389811</td>\n",
       "      <td>-1</td>\n",
       "      <td>1.0832</td>\n",
       "      <td>0</td>\n",
       "      <td>1</td>\n",
       "      <td>1</td>\n",
       "      <td>0</td>\n",
       "    </tr>\n",
       "    <tr>\n",
       "      <th>3</th>\n",
       "      <td>2006-11-24</td>\n",
       "      <td>GAZP</td>\n",
       "      <td>289.99</td>\n",
       "      <td>291.75</td>\n",
       "      <td>293.82</td>\n",
       "      <td>294.75</td>\n",
       "      <td>288.01</td>\n",
       "      <td>280.80</td>\n",
       "      <td>272.00</td>\n",
       "      <td>262.10</td>\n",
       "      <td>...</td>\n",
       "      <td>288.958</td>\n",
       "      <td>285.043158</td>\n",
       "      <td>290.211360</td>\n",
       "      <td>290.345198</td>\n",
       "      <td>-1</td>\n",
       "      <td>0.3888</td>\n",
       "      <td>0</td>\n",
       "      <td>1</td>\n",
       "      <td>1</td>\n",
       "      <td>0</td>\n",
       "    </tr>\n",
       "    <tr>\n",
       "      <th>4</th>\n",
       "      <td>2006-11-27</td>\n",
       "      <td>GAZP</td>\n",
       "      <td>288.75</td>\n",
       "      <td>293.82</td>\n",
       "      <td>294.75</td>\n",
       "      <td>288.01</td>\n",
       "      <td>280.80</td>\n",
       "      <td>272.00</td>\n",
       "      <td>262.10</td>\n",
       "      <td>273.91</td>\n",
       "      <td>...</td>\n",
       "      <td>289.570</td>\n",
       "      <td>287.263800</td>\n",
       "      <td>290.138292</td>\n",
       "      <td>290.340025</td>\n",
       "      <td>-1</td>\n",
       "      <td>1.2908</td>\n",
       "      <td>0</td>\n",
       "      <td>-1</td>\n",
       "      <td>-1</td>\n",
       "      <td>0</td>\n",
       "    </tr>\n",
       "    <tr>\n",
       "      <th>...</th>\n",
       "      <td>...</td>\n",
       "      <td>...</td>\n",
       "      <td>...</td>\n",
       "      <td>...</td>\n",
       "      <td>...</td>\n",
       "      <td>...</td>\n",
       "      <td>...</td>\n",
       "      <td>...</td>\n",
       "      <td>...</td>\n",
       "      <td>...</td>\n",
       "      <td>...</td>\n",
       "      <td>...</td>\n",
       "      <td>...</td>\n",
       "      <td>...</td>\n",
       "      <td>...</td>\n",
       "      <td>...</td>\n",
       "      <td>...</td>\n",
       "      <td>...</td>\n",
       "      <td>...</td>\n",
       "      <td>...</td>\n",
       "      <td>...</td>\n",
       "    </tr>\n",
       "    <tr>\n",
       "      <th>114388</th>\n",
       "      <td>2019-05-23</td>\n",
       "      <td>MFON</td>\n",
       "      <td>652.80</td>\n",
       "      <td>632.20</td>\n",
       "      <td>634.20</td>\n",
       "      <td>635.20</td>\n",
       "      <td>634.40</td>\n",
       "      <td>633.20</td>\n",
       "      <td>636.20</td>\n",
       "      <td>634.20</td>\n",
       "      <td>...</td>\n",
       "      <td>652.640</td>\n",
       "      <td>652.480000</td>\n",
       "      <td>652.578028</td>\n",
       "      <td>651.066056</td>\n",
       "      <td>1</td>\n",
       "      <td>-1.0960</td>\n",
       "      <td>0</td>\n",
       "      <td>1</td>\n",
       "      <td>1</td>\n",
       "      <td>0</td>\n",
       "    </tr>\n",
       "    <tr>\n",
       "      <th>114389</th>\n",
       "      <td>2019-05-24</td>\n",
       "      <td>MFON</td>\n",
       "      <td>654.40</td>\n",
       "      <td>634.20</td>\n",
       "      <td>635.20</td>\n",
       "      <td>634.40</td>\n",
       "      <td>633.20</td>\n",
       "      <td>636.20</td>\n",
       "      <td>634.20</td>\n",
       "      <td>639.40</td>\n",
       "      <td>...</td>\n",
       "      <td>653.000</td>\n",
       "      <td>651.591455</td>\n",
       "      <td>652.906559</td>\n",
       "      <td>651.231993</td>\n",
       "      <td>1</td>\n",
       "      <td>-2.4400</td>\n",
       "      <td>0</td>\n",
       "      <td>1</td>\n",
       "      <td>1</td>\n",
       "      <td>0</td>\n",
       "    </tr>\n",
       "    <tr>\n",
       "      <th>114390</th>\n",
       "      <td>2019-05-27</td>\n",
       "      <td>MFON</td>\n",
       "      <td>653.20</td>\n",
       "      <td>635.20</td>\n",
       "      <td>634.40</td>\n",
       "      <td>633.20</td>\n",
       "      <td>636.20</td>\n",
       "      <td>634.20</td>\n",
       "      <td>639.40</td>\n",
       "      <td>639.60</td>\n",
       "      <td>...</td>\n",
       "      <td>653.120</td>\n",
       "      <td>651.767077</td>\n",
       "      <td>652.935060</td>\n",
       "      <td>651.314700</td>\n",
       "      <td>1</td>\n",
       "      <td>-1.1200</td>\n",
       "      <td>0</td>\n",
       "      <td>-1</td>\n",
       "      <td>-1</td>\n",
       "      <td>0</td>\n",
       "    </tr>\n",
       "    <tr>\n",
       "      <th>114391</th>\n",
       "      <td>2019-05-28</td>\n",
       "      <td>MFON</td>\n",
       "      <td>652.80</td>\n",
       "      <td>634.40</td>\n",
       "      <td>633.20</td>\n",
       "      <td>636.20</td>\n",
       "      <td>634.20</td>\n",
       "      <td>639.40</td>\n",
       "      <td>639.60</td>\n",
       "      <td>640.40</td>\n",
       "      <td>...</td>\n",
       "      <td>653.160</td>\n",
       "      <td>651.860154</td>\n",
       "      <td>652.867530</td>\n",
       "      <td>651.702908</td>\n",
       "      <td>1</td>\n",
       "      <td>-0.6240</td>\n",
       "      <td>0</td>\n",
       "      <td>-1</td>\n",
       "      <td>-1</td>\n",
       "      <td>0</td>\n",
       "    </tr>\n",
       "    <tr>\n",
       "      <th>114392</th>\n",
       "      <td>2019-05-29</td>\n",
       "      <td>MFON</td>\n",
       "      <td>650.60</td>\n",
       "      <td>633.20</td>\n",
       "      <td>636.20</td>\n",
       "      <td>634.20</td>\n",
       "      <td>639.40</td>\n",
       "      <td>639.60</td>\n",
       "      <td>640.40</td>\n",
       "      <td>639.80</td>\n",
       "      <td>...</td>\n",
       "      <td>652.760</td>\n",
       "      <td>650.302033</td>\n",
       "      <td>652.754154</td>\n",
       "      <td>651.729189</td>\n",
       "      <td>-1</td>\n",
       "      <td>1.5920</td>\n",
       "      <td>-1</td>\n",
       "      <td>-1</td>\n",
       "      <td>-1</td>\n",
       "      <td>0</td>\n",
       "    </tr>\n",
       "  </tbody>\n",
       "</table>\n",
       "<p>114393 rows × 178 columns</p>\n",
       "</div>"
      ],
      "text/plain": [
       "             Date Symbol   Close       0       1       2       3       4  \\\n",
       "0      2006-11-21   GAZP  291.40  289.90  293.99  292.18  291.75  293.82   \n",
       "1      2006-11-22   GAZP  288.01  293.99  292.18  291.75  293.82  294.75   \n",
       "2      2006-11-23   GAZP  289.70  292.18  291.75  293.82  294.75  288.01   \n",
       "3      2006-11-24   GAZP  289.99  291.75  293.82  294.75  288.01  280.80   \n",
       "4      2006-11-27   GAZP  288.75  293.82  294.75  288.01  280.80  272.00   \n",
       "...           ...    ...     ...     ...     ...     ...     ...     ...   \n",
       "114388 2019-05-23   MFON  652.80  632.20  634.20  635.20  634.40  633.20   \n",
       "114389 2019-05-24   MFON  654.40  634.20  635.20  634.40  633.20  636.20   \n",
       "114390 2019-05-27   MFON  653.20  635.20  634.40  633.20  636.20  634.20   \n",
       "114391 2019-05-28   MFON  652.80  634.40  633.20  636.20  634.20  639.40   \n",
       "114392 2019-05-29   MFON  650.60  633.20  636.20  634.20  639.40  639.60   \n",
       "\n",
       "             5       6  ...  BBANDS_middleband  BBANDS_lowerband   MAMA_mama  \\\n",
       "0       294.75  288.01  ...            290.552        284.093326  290.600826   \n",
       "1       288.01  280.80  ...            289.354        283.729758  290.471285   \n",
       "2       280.80  272.00  ...            288.566        284.751782  290.432721   \n",
       "3       272.00  262.10  ...            288.958        285.043158  290.211360   \n",
       "4       262.10  273.91  ...            289.570        287.263800  290.138292   \n",
       "...        ...     ...  ...                ...               ...         ...   \n",
       "114388  636.20  634.20  ...            652.640        652.480000  652.578028   \n",
       "114389  634.20  639.40  ...            653.000        651.591455  652.906559   \n",
       "114390  639.40  639.60  ...            653.120        651.767077  652.935060   \n",
       "114391  639.60  640.40  ...            653.160        651.860154  652.867530   \n",
       "114392  640.40  639.80  ...            652.760        650.302033  652.754154   \n",
       "\n",
       "         MAMA_fama  dif_25  dif_SMA_25  cross_SMA_25  max_close  max_MACD  \\\n",
       "0       290.386593      -1      0.0224             0          1         1   \n",
       "1       290.388710      -1      3.1728             0         -1        -1   \n",
       "2       290.389811      -1      1.0832             0          1         1   \n",
       "3       290.345198      -1      0.3888             0          1         1   \n",
       "4       290.340025      -1      1.2908             0         -1        -1   \n",
       "...            ...     ...         ...           ...        ...       ...   \n",
       "114388  651.066056       1     -1.0960             0          1         1   \n",
       "114389  651.231993       1     -2.4400             0          1         1   \n",
       "114390  651.314700       1     -1.1200             0         -1        -1   \n",
       "114391  651.702908       1     -0.6240             0         -1        -1   \n",
       "114392  651.729189      -1      1.5920            -1         -1        -1   \n",
       "\n",
       "        con_div_MACD  \n",
       "0                  0  \n",
       "1                  0  \n",
       "2                  0  \n",
       "3                  0  \n",
       "4                  0  \n",
       "...              ...  \n",
       "114388             0  \n",
       "114389             0  \n",
       "114390             0  \n",
       "114391             0  \n",
       "114392             0  \n",
       "\n",
       "[114393 rows x 178 columns]"
      ]
     },
     "execution_count": 8,
     "metadata": {},
     "output_type": "execute_result"
    }
   ],
   "source": [
    "mer = mer.drop(columns = 'Unnamed: 0')\n",
    "mer"
   ]
  },
  {
   "cell_type": "code",
   "execution_count": null,
   "metadata": {},
   "outputs": [],
   "source": [
    "d\n"
   ]
  },
  {
   "cell_type": "code",
   "execution_count": null,
   "metadata": {},
   "outputs": [],
   "source": []
  },
  {
   "cell_type": "code",
   "execution_count": null,
   "metadata": {},
   "outputs": [],
   "source": []
  }
 ],
 "metadata": {
  "kernelspec": {
   "display_name": "Python 3",
   "language": "python",
   "name": "python3"
  },
  "language_info": {
   "codemirror_mode": {
    "name": "ipython",
    "version": 3
   },
   "file_extension": ".py",
   "mimetype": "text/x-python",
   "name": "python",
   "nbconvert_exporter": "python",
   "pygments_lexer": "ipython3",
   "version": "3.7.8"
  }
 },
 "nbformat": 4,
 "nbformat_minor": 4
}
