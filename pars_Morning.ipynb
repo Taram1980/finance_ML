{
  "nbformat": 4,
  "nbformat_minor": 0,
  "metadata": {
    "kernelspec": {
      "display_name": "Python 3",
      "language": "python",
      "name": "python3"
    },
    "language_info": {
      "codemirror_mode": {
        "name": "ipython",
        "version": 3
      },
      "file_extension": ".py",
      "mimetype": "text/x-python",
      "name": "python",
      "nbconvert_exporter": "python",
      "pygments_lexer": "ipython3",
      "version": "3.7.8"
    },
    "colab": {
      "name": "pars_Morning.ipynb",
      "provenance": [],
      "collapsed_sections": [
        "qgiq664FDdzK",
        "xAvJJgeGHE6A"
      ],
      "toc_visible": true,
      "include_colab_link": true
    }
  },
  "cells": [
    {
      "cell_type": "markdown",
      "metadata": {
        "id": "view-in-github",
        "colab_type": "text"
      },
      "source": [
        "<a href=\"https://colab.research.google.com/github/Taram1980/finance_ML/blob/master/pars_Morning.ipynb\" target=\"_parent\"><img src=\"https://colab.research.google.com/assets/colab-badge.svg\" alt=\"Open In Colab\"/></a>"
      ]
    },
    {
      "cell_type": "markdown",
      "metadata": {
        "id": "nb809WkVGq8j"
      },
      "source": [
        "# Library"
      ]
    },
    {
      "cell_type": "code",
      "metadata": {
        "colab": {
          "base_uri": "https://localhost:8080/",
          "height": 17
        },
        "id": "48FYJxvtDEki",
        "outputId": "6ed479d0-6400-4662-bd42-3373c5c2f673"
      },
      "source": [
        "import pandas as pd\n",
        "import numpy as np\n",
        "import time\n",
        "import os\n",
        "\n",
        "# from alpha_vantage.timeseries import TimeSeries\n",
        "\n",
        "from tqdm import tqdm\n",
        "\n",
        "from IPython.core.display import display, HTML\n",
        "display(HTML(\"<style>.container { width:100% !important; }</style>\"))\n",
        "pd.set_option('display.max_rows', 200)\n",
        "pd.set_option('display.max_columns', 200)"
      ],
      "execution_count": 1,
      "outputs": [
        {
          "output_type": "display_data",
          "data": {
            "text/plain": [
              "<IPython.core.display.HTML object>"
            ],
            "text/html": [
              "<style>.container { width:100% !important; }</style>"
            ]
          },
          "metadata": {
            "tags": []
          }
        }
      ]
    },
    {
      "cell_type": "markdown",
      "metadata": {
        "id": "GqAtFEuMGwXl"
      },
      "source": [
        "# My_dir"
      ]
    },
    {
      "cell_type": "code",
      "metadata": {
        "id": "UyDFW5w_ya30"
      },
      "source": [
        "# from google.colab import drive\n",
        "# drive.mount('/content/drive')\n",
        "my_dir = u\"F:/Мой диск/fund_data\""
      ],
      "execution_count": 2,
      "outputs": []
    },
    {
      "cell_type": "markdown",
      "metadata": {
        "id": "qgiq664FDdzK"
      },
      "source": [
        "# Selenium"
      ]
    },
    {
      "cell_type": "code",
      "metadata": {
        "id": "z0p-bl1qN9Mj"
      },
      "source": [
        "from selenium import webdriver\n",
        "from selenium.webdriver.common.keys import Keys\n",
        "from selenium.webdriver.support import expected_conditions as EC\n",
        "from selenium.webdriver.support.ui import WebDriverWait\n",
        "from selenium.webdriver.common.by import By\n",
        "from selenium.webdriver.common.action_chains import ActionChains\n",
        "from selenium.webdriver.firefox.options import Options\n",
        "from selenium.webdriver.support.ui import Select\n",
        "from selenium.common.exceptions import TimeoutException\n"
      ],
      "execution_count": null,
      "outputs": []
    },
    {
      "cell_type": "code",
      "metadata": {
        "id": "oxk8mS9qLvSd"
      },
      "source": [
        "list2000 = pd.read_csv(my_dir + '/S&P 500 Historical Components & Changes(03-01-2021).csv', index_col='date')\n",
        "list2000['tickers'] = list2000['tickers'].apply(lambda x: sorted(x.split(',')))\n",
        "# list2000 = list2000[list2000.index < '2010-01-01'].tail(1)\n",
        "# # last_row = df2.tail(1)\n",
        "# list2000['tickers']"
      ],
      "execution_count": null,
      "outputs": []
    },
    {
      "cell_type": "code",
      "metadata": {
        "id": "36rDhUpHOAb0"
      },
      "source": [
        "# options = Options()\n",
        "# options.add_argument(\"--headless\")\n",
        "# options.set_headless(headless=False)\n",
        "Firefox = webdriver.Firefox(executable_path = \"C:\\Program Files\\Mozilla Firefox\\geckodriver.exe\", #options=opts,\n",
        "                            firefox_profile = 'C:/Users/afecn/AppData/Roaming/Mozilla/Firefox/Profiles/jz17nv51.default-release')\n",
        "\n",
        "Firefox.get('http://financials.morningstar.com/ratios/r.html?t=AAPL&region=usa&culture=en-US')  # НАСТРОИТЬ ПАРАМЕТРЫ ЗАГРУЗКИ"
      ],
      "execution_count": null,
      "outputs": []
    },
    {
      "cell_type": "code",
      "metadata": {
        "colab": {
          "base_uri": "https://localhost:8080/",
          "height": 34
        },
        "id": "bIlMBN1kgiYh",
        "outputId": "42d6d091-e143-482f-e289-82dd36e77869"
      },
      "source": [
        "list_all = []\n",
        "for i in range(1, len(list2000)):\n",
        "  list_all = list_all + list2000['tickers'][i]\n",
        "list_all = list(set(list_all))\n",
        "display(pd.Series(list_all).shape)"
      ],
      "execution_count": null,
      "outputs": [
        {
          "output_type": "display_data",
          "data": {
            "text/plain": [
              "(1104,)"
            ]
          },
          "metadata": {
            "tags": []
          }
        }
      ]
    },
    {
      "cell_type": "code",
      "metadata": {
        "colab": {
          "base_uri": "https://localhost:8080/"
        },
        "id": "365EkseDDjR9",
        "outputId": "481965ff-ff4e-49de-e982-f699e7167ca3"
      },
      "source": [
        "# error\n",
        "# absenсe\n",
        "error_count\n",
        "len(list_all)"
      ],
      "execution_count": null,
      "outputs": [
        {
          "output_type": "execute_result",
          "data": {
            "text/plain": [
              "1104"
            ]
          },
          "metadata": {
            "tags": []
          },
          "execution_count": 33
        }
      ]
    },
    {
      "cell_type": "code",
      "metadata": {
        "id": "AssVx_02DEkb"
      },
      "source": [
        "%%time\n",
        "\n",
        "error_count = 0\n",
        "error = []\n",
        "absenсe = []\n",
        "namber = len(os.listdir('E:/Mozila/5min_fill/'))\n",
        "for name in list_all[:]:#list2000['tickers'][0][:]:#list(tickerandsector['ticker'])[:]:\n",
        "  # try:\n",
        "    display(name, namber)\n",
        "    Firefox.get('http://financials.morningstar.com/ratios/r.html?t=' + name + '&region=usa&culture=en-US')\n",
        "    if (Firefox.current_url != 'https://www.morningstar.com/back_soon.html'):\n",
        "      # display('cont')\n",
        "      try:\n",
        "        WebDriverWait(Firefox, 10).until(EC.element_to_be_clickable((By.XPATH, '/html/body/div[1]/div[3]/div[2]/div[1]/div/div/div[2]/div/a/div')))\n",
        "        Firefox.find_element_by_xpath('/html/body/div[1]/div[3]/div[2]/div[1]/div/div/div[2]/div/a/div').click()\n",
        "        namber +=1\n",
        "        while len(os.listdir('E:/Mozila/5min_fill/')) != namber:\n",
        "          display('here', namber)\n",
        "          time.sleep(0.1)\n",
        "      except TimeoutException:\n",
        "        absenсe.append(name)\n",
        "        error_count+=1\n",
        "        continue\n",
        "  \n",
        "    else:\n",
        "      error.append(name)\n",
        "      error_count+=1\n",
        "      # display('next')\n",
        "      continue\n",
        "    \n"
      ],
      "execution_count": null,
      "outputs": []
    },
    {
      "cell_type": "code",
      "metadata": {
        "id": "xL_zNT9nD84z"
      },
      "source": [
        "# Compare\n",
        "\n",
        "list1 = pd.DataFrame(os.listdir(u\"F:/Мой диск/fund_data/Date2010\"))[0]\n",
        "list2 = pd.DataFrame(os.listdir(u\"F:/Мой диск/fund_data/Date\"))[0]\n",
        "list3 = pd.DataFrame(os.listdir(u\"F:/Мой диск/fund_data/Date_all\"))[0]\n",
        "  \n",
        "# display(len(list2[~list2.isin(list1)]), len(list1[~list1.isin(list2)]))\n",
        "li3 = []\n",
        "li2 = []\n",
        "li1 = []\n",
        "\n",
        "for i in range(len(list3)):\n",
        "  li3.append(str.split(str(list3[i]), ' ')[0])\n",
        "for i in range(len(list2)):\n",
        "  li2.append(str.split(str(list2[i]), ' ')[0])\n",
        "for i in range(len(list1)):\n",
        "  li1.append(str.split(str(list1[i]), ' ')[0])\n",
        "display(pd.Series(li1).size, pd.Series(li2).size, pd.Series(li3).size)"
      ],
      "execution_count": null,
      "outputs": []
    },
    {
      "cell_type": "code",
      "metadata": {
        "id": "sr-RvGvKwbEk"
      },
      "source": [
        "not_in_2020 = list(pd.DataFrame(li3)[~pd.DataFrame(li3)[0].isin(pd.DataFrame(li2)[0])][0])\n",
        "# pd.Series(not_in_2020).to_csv(my_dir + '/not_in_2020.csv')\n",
        "not_in_2020"
      ],
      "execution_count": null,
      "outputs": []
    },
    {
      "cell_type": "code",
      "metadata": {
        "id": "A2-GaQ1jDEkm",
        "colab": {
          "base_uri": "https://localhost:8080/"
        },
        "outputId": "3c847854-9fb2-4eaa-d627-e23a1bc83b84"
      },
      "source": [
        "%%time\n",
        "df_all = pd.DataFrame()\n",
        "for file in os.listdir(u\"F:/Мой диск/fund_data/Date_all\")[:]:\n",
        "#     display(file)\n",
        "    df = pd.read_csv(u\"F:/Мой диск/fund_data/Date_all/\" + file, sep=',', skiprows=2, engine=\"python\", thousands=',')\n",
        "    df = df.drop_duplicates(subset=['Unnamed: 0'])\n",
        "    df['Symbol'] = file.split(' ')[0]\n",
        "    df_all = df_all.append(df)\n",
        "# df_all"
      ],
      "execution_count": null,
      "outputs": [
        {
          "output_type": "stream",
          "text": [
            "Wall time: 1min 46s\n"
          ],
          "name": "stdout"
        }
      ]
    },
    {
      "cell_type": "code",
      "metadata": {
        "colab": {
          "base_uri": "https://localhost:8080/",
          "height": 453
        },
        "id": "hwP5jCiQDEkm",
        "outputId": "f859b4f1-dbf4-4c77-f9f2-35b2e3d2d723"
      },
      "source": [
        "display(df_all.shape)\n",
        "df_for_analyze = df_all[['Unnamed: 0',\t'2011-12',\t'2012-12',\t'2013-12',\t'2014-12',\t'2015-12',\t'2016-12',\t'2017-12',\t'2018-12',\t'2019-12',\t'2020-12',\t'TTM',\t'Symbol']].dropna()\n",
        "display(df_for_analyze.shape)\n",
        "df_for_analyze"
      ],
      "execution_count": null,
      "outputs": [
        {
          "output_type": "display_data",
          "data": {
            "text/plain": [
              "(64080, 138)"
            ]
          },
          "metadata": {
            "tags": []
          }
        },
        {
          "output_type": "display_data",
          "data": {
            "text/plain": [
              "(29387, 13)"
            ]
          },
          "metadata": {
            "tags": []
          }
        },
        {
          "output_type": "execute_result",
          "data": {
            "text/plain": [
              "                   Unnamed: 0 2011-12 2012-12 2013-12 2014-12 2015-12 2016-12  \\\n",
              "0             Revenue USD Mil    2280    2730    2973    3334    3485    3604   \n",
              "1              Gross Margin %    70.0    70.9    72.3    72.1    72.0    71.5   \n",
              "2    Operating Income USD Mil     888    1102    1253    1446    1479    1516   \n",
              "3          Operating Margin %    39.0    40.4    42.2    43.4    42.5    42.1   \n",
              "4          Net Income USD Mil     571     690     805     989     941     267   \n",
              "..                        ...     ...     ...     ...     ...     ...     ...   \n",
              "96      Cash Conversion Cycle   -2.96  -22.08  -37.51  -23.38  -15.17   -9.67   \n",
              "97       Receivables Turnover   10.60   11.30   10.65    9.72    7.34    7.61   \n",
              "98         Inventory Turnover   23.52   24.72   20.82   19.73   19.64   26.32   \n",
              "99      Fixed Assets Turnover    0.48    0.53    0.41    0.33    0.26    0.26   \n",
              "100            Asset Turnover    0.38    0.37    0.27    0.20    0.15    0.16   \n",
              "\n",
              "    2017-12 2018-12 2019-12 2020-12    TTM Symbol  \n",
              "0      4204    4442    4829    5371   5371    MCO  \n",
              "1      70.9    72.0    71.3    72.5   72.5    MCO  \n",
              "2      1831    1925    2075    2447   2447    MCO  \n",
              "3      43.6    43.3    43.0    45.6   45.6    MCO  \n",
              "4      1001    1309    1422    1778   1778    MCO  \n",
              "..      ...     ...     ...     ...    ...    ...  \n",
              "96   -17.55  -17.27   -7.40   -0.18  -0.18    WMB  \n",
              "97     8.39    9.47    9.38    8.66   8.66    WMB  \n",
              "98    32.16   37.60   29.65   25.55  25.55    WMB  \n",
              "99     0.28    0.31    0.29    0.27   0.27    WMB  \n",
              "100    0.17    0.19    0.18    0.17   0.17    WMB  \n",
              "\n",
              "[29387 rows x 13 columns]"
            ],
            "text/html": [
              "<div>\n",
              "<style scoped>\n",
              "    .dataframe tbody tr th:only-of-type {\n",
              "        vertical-align: middle;\n",
              "    }\n",
              "\n",
              "    .dataframe tbody tr th {\n",
              "        vertical-align: top;\n",
              "    }\n",
              "\n",
              "    .dataframe thead th {\n",
              "        text-align: right;\n",
              "    }\n",
              "</style>\n",
              "<table border=\"1\" class=\"dataframe\">\n",
              "  <thead>\n",
              "    <tr style=\"text-align: right;\">\n",
              "      <th></th>\n",
              "      <th>Unnamed: 0</th>\n",
              "      <th>2011-12</th>\n",
              "      <th>2012-12</th>\n",
              "      <th>2013-12</th>\n",
              "      <th>2014-12</th>\n",
              "      <th>2015-12</th>\n",
              "      <th>2016-12</th>\n",
              "      <th>2017-12</th>\n",
              "      <th>2018-12</th>\n",
              "      <th>2019-12</th>\n",
              "      <th>2020-12</th>\n",
              "      <th>TTM</th>\n",
              "      <th>Symbol</th>\n",
              "    </tr>\n",
              "  </thead>\n",
              "  <tbody>\n",
              "    <tr>\n",
              "      <th>0</th>\n",
              "      <td>Revenue USD Mil</td>\n",
              "      <td>2280</td>\n",
              "      <td>2730</td>\n",
              "      <td>2973</td>\n",
              "      <td>3334</td>\n",
              "      <td>3485</td>\n",
              "      <td>3604</td>\n",
              "      <td>4204</td>\n",
              "      <td>4442</td>\n",
              "      <td>4829</td>\n",
              "      <td>5371</td>\n",
              "      <td>5371</td>\n",
              "      <td>MCO</td>\n",
              "    </tr>\n",
              "    <tr>\n",
              "      <th>1</th>\n",
              "      <td>Gross Margin %</td>\n",
              "      <td>70.0</td>\n",
              "      <td>70.9</td>\n",
              "      <td>72.3</td>\n",
              "      <td>72.1</td>\n",
              "      <td>72.0</td>\n",
              "      <td>71.5</td>\n",
              "      <td>70.9</td>\n",
              "      <td>72.0</td>\n",
              "      <td>71.3</td>\n",
              "      <td>72.5</td>\n",
              "      <td>72.5</td>\n",
              "      <td>MCO</td>\n",
              "    </tr>\n",
              "    <tr>\n",
              "      <th>2</th>\n",
              "      <td>Operating Income USD Mil</td>\n",
              "      <td>888</td>\n",
              "      <td>1102</td>\n",
              "      <td>1253</td>\n",
              "      <td>1446</td>\n",
              "      <td>1479</td>\n",
              "      <td>1516</td>\n",
              "      <td>1831</td>\n",
              "      <td>1925</td>\n",
              "      <td>2075</td>\n",
              "      <td>2447</td>\n",
              "      <td>2447</td>\n",
              "      <td>MCO</td>\n",
              "    </tr>\n",
              "    <tr>\n",
              "      <th>3</th>\n",
              "      <td>Operating Margin %</td>\n",
              "      <td>39.0</td>\n",
              "      <td>40.4</td>\n",
              "      <td>42.2</td>\n",
              "      <td>43.4</td>\n",
              "      <td>42.5</td>\n",
              "      <td>42.1</td>\n",
              "      <td>43.6</td>\n",
              "      <td>43.3</td>\n",
              "      <td>43.0</td>\n",
              "      <td>45.6</td>\n",
              "      <td>45.6</td>\n",
              "      <td>MCO</td>\n",
              "    </tr>\n",
              "    <tr>\n",
              "      <th>4</th>\n",
              "      <td>Net Income USD Mil</td>\n",
              "      <td>571</td>\n",
              "      <td>690</td>\n",
              "      <td>805</td>\n",
              "      <td>989</td>\n",
              "      <td>941</td>\n",
              "      <td>267</td>\n",
              "      <td>1001</td>\n",
              "      <td>1309</td>\n",
              "      <td>1422</td>\n",
              "      <td>1778</td>\n",
              "      <td>1778</td>\n",
              "      <td>MCO</td>\n",
              "    </tr>\n",
              "    <tr>\n",
              "      <th>...</th>\n",
              "      <td>...</td>\n",
              "      <td>...</td>\n",
              "      <td>...</td>\n",
              "      <td>...</td>\n",
              "      <td>...</td>\n",
              "      <td>...</td>\n",
              "      <td>...</td>\n",
              "      <td>...</td>\n",
              "      <td>...</td>\n",
              "      <td>...</td>\n",
              "      <td>...</td>\n",
              "      <td>...</td>\n",
              "      <td>...</td>\n",
              "    </tr>\n",
              "    <tr>\n",
              "      <th>96</th>\n",
              "      <td>Cash Conversion Cycle</td>\n",
              "      <td>-2.96</td>\n",
              "      <td>-22.08</td>\n",
              "      <td>-37.51</td>\n",
              "      <td>-23.38</td>\n",
              "      <td>-15.17</td>\n",
              "      <td>-9.67</td>\n",
              "      <td>-17.55</td>\n",
              "      <td>-17.27</td>\n",
              "      <td>-7.40</td>\n",
              "      <td>-0.18</td>\n",
              "      <td>-0.18</td>\n",
              "      <td>WMB</td>\n",
              "    </tr>\n",
              "    <tr>\n",
              "      <th>97</th>\n",
              "      <td>Receivables Turnover</td>\n",
              "      <td>10.60</td>\n",
              "      <td>11.30</td>\n",
              "      <td>10.65</td>\n",
              "      <td>9.72</td>\n",
              "      <td>7.34</td>\n",
              "      <td>7.61</td>\n",
              "      <td>8.39</td>\n",
              "      <td>9.47</td>\n",
              "      <td>9.38</td>\n",
              "      <td>8.66</td>\n",
              "      <td>8.66</td>\n",
              "      <td>WMB</td>\n",
              "    </tr>\n",
              "    <tr>\n",
              "      <th>98</th>\n",
              "      <td>Inventory Turnover</td>\n",
              "      <td>23.52</td>\n",
              "      <td>24.72</td>\n",
              "      <td>20.82</td>\n",
              "      <td>19.73</td>\n",
              "      <td>19.64</td>\n",
              "      <td>26.32</td>\n",
              "      <td>32.16</td>\n",
              "      <td>37.60</td>\n",
              "      <td>29.65</td>\n",
              "      <td>25.55</td>\n",
              "      <td>25.55</td>\n",
              "      <td>WMB</td>\n",
              "    </tr>\n",
              "    <tr>\n",
              "      <th>99</th>\n",
              "      <td>Fixed Assets Turnover</td>\n",
              "      <td>0.48</td>\n",
              "      <td>0.53</td>\n",
              "      <td>0.41</td>\n",
              "      <td>0.33</td>\n",
              "      <td>0.26</td>\n",
              "      <td>0.26</td>\n",
              "      <td>0.28</td>\n",
              "      <td>0.31</td>\n",
              "      <td>0.29</td>\n",
              "      <td>0.27</td>\n",
              "      <td>0.27</td>\n",
              "      <td>WMB</td>\n",
              "    </tr>\n",
              "    <tr>\n",
              "      <th>100</th>\n",
              "      <td>Asset Turnover</td>\n",
              "      <td>0.38</td>\n",
              "      <td>0.37</td>\n",
              "      <td>0.27</td>\n",
              "      <td>0.20</td>\n",
              "      <td>0.15</td>\n",
              "      <td>0.16</td>\n",
              "      <td>0.17</td>\n",
              "      <td>0.19</td>\n",
              "      <td>0.18</td>\n",
              "      <td>0.17</td>\n",
              "      <td>0.17</td>\n",
              "      <td>WMB</td>\n",
              "    </tr>\n",
              "  </tbody>\n",
              "</table>\n",
              "<p>29387 rows × 13 columns</p>\n",
              "</div>"
            ]
          },
          "metadata": {
            "tags": []
          },
          "execution_count": 17
        }
      ]
    },
    {
      "cell_type": "code",
      "metadata": {
        "colab": {
          "base_uri": "https://localhost:8080/",
          "height": 419
        },
        "id": "pOsp3TuEDEkn",
        "outputId": "1e81d38d-2b61-4d9b-99a0-ea764263bf96"
      },
      "source": [
        "cols = df_for_analyze.columns.drop(['Unnamed: 0', 'Symbol'])\n",
        "df_for_analyze[cols]\n",
        "df_for_analyze[cols] = df_for_analyze[cols].apply(pd.to_numeric, errors='coerce')\n",
        "df_for_analyze = df_for_analyze.dropna()\n",
        "df_for_analyze\n",
        "# cols"
      ],
      "execution_count": null,
      "outputs": [
        {
          "output_type": "execute_result",
          "data": {
            "text/plain": [
              "                   Unnamed: 0  2011-12  2012-12  2013-12  2014-12  2015-12  \\\n",
              "0             Revenue USD Mil  2280.00  2730.00  2973.00  3334.00  3485.00   \n",
              "1              Gross Margin %    70.00    70.90    72.30    72.10    72.00   \n",
              "2    Operating Income USD Mil   888.00  1102.00  1253.00  1446.00  1479.00   \n",
              "3          Operating Margin %    39.00    40.40    42.20    43.40    42.50   \n",
              "4          Net Income USD Mil   571.00   690.00   805.00   989.00   941.00   \n",
              "..                        ...      ...      ...      ...      ...      ...   \n",
              "96      Cash Conversion Cycle    -2.96   -22.08   -37.51   -23.38   -15.17   \n",
              "97       Receivables Turnover    10.60    11.30    10.65     9.72     7.34   \n",
              "98         Inventory Turnover    23.52    24.72    20.82    19.73    19.64   \n",
              "99      Fixed Assets Turnover     0.48     0.53     0.41     0.33     0.26   \n",
              "100            Asset Turnover     0.38     0.37     0.27     0.20     0.15   \n",
              "\n",
              "     2016-12  2017-12  2018-12  2019-12  2020-12      TTM Symbol  \n",
              "0    3604.00  4204.00  4442.00  4829.00  5371.00  5371.00    MCO  \n",
              "1      71.50    70.90    72.00    71.30    72.50    72.50    MCO  \n",
              "2    1516.00  1831.00  1925.00  2075.00  2447.00  2447.00    MCO  \n",
              "3      42.10    43.60    43.30    43.00    45.60    45.60    MCO  \n",
              "4     267.00  1001.00  1309.00  1422.00  1778.00  1778.00    MCO  \n",
              "..       ...      ...      ...      ...      ...      ...    ...  \n",
              "96     -9.67   -17.55   -17.27    -7.40    -0.18    -0.18    WMB  \n",
              "97      7.61     8.39     9.47     9.38     8.66     8.66    WMB  \n",
              "98     26.32    32.16    37.60    29.65    25.55    25.55    WMB  \n",
              "99      0.26     0.28     0.31     0.29     0.27     0.27    WMB  \n",
              "100     0.16     0.17     0.19     0.18     0.17     0.17    WMB  \n",
              "\n",
              "[26339 rows x 13 columns]"
            ],
            "text/html": [
              "<div>\n",
              "<style scoped>\n",
              "    .dataframe tbody tr th:only-of-type {\n",
              "        vertical-align: middle;\n",
              "    }\n",
              "\n",
              "    .dataframe tbody tr th {\n",
              "        vertical-align: top;\n",
              "    }\n",
              "\n",
              "    .dataframe thead th {\n",
              "        text-align: right;\n",
              "    }\n",
              "</style>\n",
              "<table border=\"1\" class=\"dataframe\">\n",
              "  <thead>\n",
              "    <tr style=\"text-align: right;\">\n",
              "      <th></th>\n",
              "      <th>Unnamed: 0</th>\n",
              "      <th>2011-12</th>\n",
              "      <th>2012-12</th>\n",
              "      <th>2013-12</th>\n",
              "      <th>2014-12</th>\n",
              "      <th>2015-12</th>\n",
              "      <th>2016-12</th>\n",
              "      <th>2017-12</th>\n",
              "      <th>2018-12</th>\n",
              "      <th>2019-12</th>\n",
              "      <th>2020-12</th>\n",
              "      <th>TTM</th>\n",
              "      <th>Symbol</th>\n",
              "    </tr>\n",
              "  </thead>\n",
              "  <tbody>\n",
              "    <tr>\n",
              "      <th>0</th>\n",
              "      <td>Revenue USD Mil</td>\n",
              "      <td>2280.00</td>\n",
              "      <td>2730.00</td>\n",
              "      <td>2973.00</td>\n",
              "      <td>3334.00</td>\n",
              "      <td>3485.00</td>\n",
              "      <td>3604.00</td>\n",
              "      <td>4204.00</td>\n",
              "      <td>4442.00</td>\n",
              "      <td>4829.00</td>\n",
              "      <td>5371.00</td>\n",
              "      <td>5371.00</td>\n",
              "      <td>MCO</td>\n",
              "    </tr>\n",
              "    <tr>\n",
              "      <th>1</th>\n",
              "      <td>Gross Margin %</td>\n",
              "      <td>70.00</td>\n",
              "      <td>70.90</td>\n",
              "      <td>72.30</td>\n",
              "      <td>72.10</td>\n",
              "      <td>72.00</td>\n",
              "      <td>71.50</td>\n",
              "      <td>70.90</td>\n",
              "      <td>72.00</td>\n",
              "      <td>71.30</td>\n",
              "      <td>72.50</td>\n",
              "      <td>72.50</td>\n",
              "      <td>MCO</td>\n",
              "    </tr>\n",
              "    <tr>\n",
              "      <th>2</th>\n",
              "      <td>Operating Income USD Mil</td>\n",
              "      <td>888.00</td>\n",
              "      <td>1102.00</td>\n",
              "      <td>1253.00</td>\n",
              "      <td>1446.00</td>\n",
              "      <td>1479.00</td>\n",
              "      <td>1516.00</td>\n",
              "      <td>1831.00</td>\n",
              "      <td>1925.00</td>\n",
              "      <td>2075.00</td>\n",
              "      <td>2447.00</td>\n",
              "      <td>2447.00</td>\n",
              "      <td>MCO</td>\n",
              "    </tr>\n",
              "    <tr>\n",
              "      <th>3</th>\n",
              "      <td>Operating Margin %</td>\n",
              "      <td>39.00</td>\n",
              "      <td>40.40</td>\n",
              "      <td>42.20</td>\n",
              "      <td>43.40</td>\n",
              "      <td>42.50</td>\n",
              "      <td>42.10</td>\n",
              "      <td>43.60</td>\n",
              "      <td>43.30</td>\n",
              "      <td>43.00</td>\n",
              "      <td>45.60</td>\n",
              "      <td>45.60</td>\n",
              "      <td>MCO</td>\n",
              "    </tr>\n",
              "    <tr>\n",
              "      <th>4</th>\n",
              "      <td>Net Income USD Mil</td>\n",
              "      <td>571.00</td>\n",
              "      <td>690.00</td>\n",
              "      <td>805.00</td>\n",
              "      <td>989.00</td>\n",
              "      <td>941.00</td>\n",
              "      <td>267.00</td>\n",
              "      <td>1001.00</td>\n",
              "      <td>1309.00</td>\n",
              "      <td>1422.00</td>\n",
              "      <td>1778.00</td>\n",
              "      <td>1778.00</td>\n",
              "      <td>MCO</td>\n",
              "    </tr>\n",
              "    <tr>\n",
              "      <th>...</th>\n",
              "      <td>...</td>\n",
              "      <td>...</td>\n",
              "      <td>...</td>\n",
              "      <td>...</td>\n",
              "      <td>...</td>\n",
              "      <td>...</td>\n",
              "      <td>...</td>\n",
              "      <td>...</td>\n",
              "      <td>...</td>\n",
              "      <td>...</td>\n",
              "      <td>...</td>\n",
              "      <td>...</td>\n",
              "      <td>...</td>\n",
              "    </tr>\n",
              "    <tr>\n",
              "      <th>96</th>\n",
              "      <td>Cash Conversion Cycle</td>\n",
              "      <td>-2.96</td>\n",
              "      <td>-22.08</td>\n",
              "      <td>-37.51</td>\n",
              "      <td>-23.38</td>\n",
              "      <td>-15.17</td>\n",
              "      <td>-9.67</td>\n",
              "      <td>-17.55</td>\n",
              "      <td>-17.27</td>\n",
              "      <td>-7.40</td>\n",
              "      <td>-0.18</td>\n",
              "      <td>-0.18</td>\n",
              "      <td>WMB</td>\n",
              "    </tr>\n",
              "    <tr>\n",
              "      <th>97</th>\n",
              "      <td>Receivables Turnover</td>\n",
              "      <td>10.60</td>\n",
              "      <td>11.30</td>\n",
              "      <td>10.65</td>\n",
              "      <td>9.72</td>\n",
              "      <td>7.34</td>\n",
              "      <td>7.61</td>\n",
              "      <td>8.39</td>\n",
              "      <td>9.47</td>\n",
              "      <td>9.38</td>\n",
              "      <td>8.66</td>\n",
              "      <td>8.66</td>\n",
              "      <td>WMB</td>\n",
              "    </tr>\n",
              "    <tr>\n",
              "      <th>98</th>\n",
              "      <td>Inventory Turnover</td>\n",
              "      <td>23.52</td>\n",
              "      <td>24.72</td>\n",
              "      <td>20.82</td>\n",
              "      <td>19.73</td>\n",
              "      <td>19.64</td>\n",
              "      <td>26.32</td>\n",
              "      <td>32.16</td>\n",
              "      <td>37.60</td>\n",
              "      <td>29.65</td>\n",
              "      <td>25.55</td>\n",
              "      <td>25.55</td>\n",
              "      <td>WMB</td>\n",
              "    </tr>\n",
              "    <tr>\n",
              "      <th>99</th>\n",
              "      <td>Fixed Assets Turnover</td>\n",
              "      <td>0.48</td>\n",
              "      <td>0.53</td>\n",
              "      <td>0.41</td>\n",
              "      <td>0.33</td>\n",
              "      <td>0.26</td>\n",
              "      <td>0.26</td>\n",
              "      <td>0.28</td>\n",
              "      <td>0.31</td>\n",
              "      <td>0.29</td>\n",
              "      <td>0.27</td>\n",
              "      <td>0.27</td>\n",
              "      <td>WMB</td>\n",
              "    </tr>\n",
              "    <tr>\n",
              "      <th>100</th>\n",
              "      <td>Asset Turnover</td>\n",
              "      <td>0.38</td>\n",
              "      <td>0.37</td>\n",
              "      <td>0.27</td>\n",
              "      <td>0.20</td>\n",
              "      <td>0.15</td>\n",
              "      <td>0.16</td>\n",
              "      <td>0.17</td>\n",
              "      <td>0.19</td>\n",
              "      <td>0.18</td>\n",
              "      <td>0.17</td>\n",
              "      <td>0.17</td>\n",
              "      <td>WMB</td>\n",
              "    </tr>\n",
              "  </tbody>\n",
              "</table>\n",
              "<p>26339 rows × 13 columns</p>\n",
              "</div>"
            ]
          },
          "metadata": {
            "tags": []
          },
          "execution_count": 18
        }
      ]
    },
    {
      "cell_type": "code",
      "metadata": {
        "id": "ZucF8qCvSxX1"
      },
      "source": [
        "df_for_analyze = df_for_analyze.pivot(index='Unnamed: 0', columns='Symbol').T\n",
        "df_for_analyze = df_for_analyze.reset_index()\n",
        "df_for_analyze = df_for_analyze.rename(columns = {'level_0':'Date'})\n",
        "df_for_analyze = df_for_analyze[df_for_analyze['Date'] != 'TTM']\n",
        "df_for_analyze['Date'] = pd.to_datetime(df_for_analyze['Date'])"
      ],
      "execution_count": null,
      "outputs": []
    },
    {
      "cell_type": "code",
      "metadata": {
        "id": "Jhh3iZoF2SOD"
      },
      "source": [
        "label = pd.read_csv(u\"F:/Мой диск/fund_data/Date/\" + 'IBM Key Ratios.csv', sep=',', skiprows=2, engine=\"python\", thousands=',')\n",
        "Profitability    = \\\n",
        "list(label['Unnamed: 0'][16:35])\n",
        "Growth = \\\n",
        "list(label['Unnamed: 0'][37:57])\n",
        "Cash_Flow = \\\n",
        "list(label['Unnamed: 0'][58:64])\n",
        "Financial_Health = \\\n",
        "list(label['Unnamed: 0'][65:86])\n",
        "Liquidity_Financial_Health = \\\n",
        "list(label['Unnamed: 0'][87:91])\n",
        "Efficiency_Ratios = \\\n",
        "list(label['Unnamed: 0'][92:])\n",
        "all_ind = [Profitability, Growth, Cash_Flow, Financial_Health, Liquidity_Financial_Health, Efficiency_Ratios]"
      ],
      "execution_count": null,
      "outputs": []
    },
    {
      "cell_type": "markdown",
      "metadata": {
        "id": "xAvJJgeGHE6A"
      },
      "source": [
        "# List of Symbol > 50"
      ]
    },
    {
      "cell_type": "code",
      "metadata": {
        "id": "j8zhmxW7DEko"
      },
      "source": [
        "pi = pd.pivot_table(df_for_analyze,\n",
        "              index = 'Sumbol',\n",
        "               values = '2011-12',\n",
        "               aggfunc=['count']\n",
        "              )\n",
        "pi = pi.reset_index()\n",
        "symbol_for_job = list(pi[pi[('count', '2011-12')]>50]['Sumbol'])"
      ],
      "execution_count": null,
      "outputs": []
    },
    {
      "cell_type": "code",
      "metadata": {
        "colab": {
          "base_uri": "https://localhost:8080/"
        },
        "id": "cpdWKq78DEko",
        "outputId": "78d893ba-358c-4fb6-9a7c-cad1790f2aae"
      },
      "source": [
        "np.array(symbol_for_job).size"
      ],
      "execution_count": null,
      "outputs": [
        {
          "output_type": "execute_result",
          "data": {
            "text/plain": [
              "306"
            ]
          },
          "metadata": {
            "tags": []
          },
          "execution_count": 27
        }
      ]
    },
    {
      "cell_type": "markdown",
      "metadata": {
        "id": "8LO3OQMUpwHG"
      },
      "source": [
        "# Resample to Year"
      ]
    },
    {
      "cell_type": "code",
      "metadata": {
        "id": "8Tbpq7ingGmg",
        "colab": {
          "base_uri": "https://localhost:8080/"
        },
        "outputId": "16b9305a-2f9d-421a-8d89-b26f1363f5ec"
      },
      "source": [
        "%%time\n",
        "\n",
        "# df_for_analyze_year = pd.DataFrame() #change\n",
        "df_for_analyze_mnth = pd.DataFrame()\n",
        "ohlc_dict = {                                                                                                             \n",
        "'1. open':'first',                                                                                                    \n",
        "'2. high':'max',                                                                                                       \n",
        "'3. low':'min',                                                                                                        \n",
        "'4. close': 'last',\n",
        "'5. adjusted close': 'last',                                                                                                    \n",
        "'6. volume': 'sum',\n",
        "'7. dividend amount': 'sum',\n",
        "\n",
        "# 'Symbol':'mean'\n",
        "}\n",
        "for i in tqdm(list(stock['Symbol'].unique())[:]):\n",
        "  # display(i)\n",
        "  df_year = (stock[stock['Symbol'] == i].resample('M', closed='right', label='left', on='Date').apply(ohlc_dict))         # Y versus M\n",
        "  df_year['Symbol'] = i\n",
        "  df_year['%_1'] = (df_year['4. close'].shift(-1)/df_year['4. close'].shift(0) - 1)*100\n",
        "  df_year['%ad_1'] = (df_year['5. adjusted close'].shift(-1)/df_year['5. adjusted close'].shift(0) - 1)*100\n",
        "  df_year['%_0'] = (df_year['4. close'].shift(0) /df_year['4. close'].shift(1) - 1)*100\n",
        "  df_year['div_1'] = (df_year['7. dividend amount'].shift(-1)/df_year['4. close'].shift(0))*100\n",
        "\n",
        "  # df_for_analyze_year = df_for_analyze_year.append(df_year)                                                               #change\n",
        "  df_for_analyze_mnth = df_for_analyze_mnth.append(df_year)\n",
        "# df_for_analyze_year.reset_index(inplace=True)                                                                             #change\n",
        "df_for_analyze_mnth.reset_index(inplace=True)\n",
        "# df_for_analyze_year.dropna(inplace=True)\n",
        "# df_for_analyze_mnth"
      ],
      "execution_count": 10,
      "outputs": [
        {
          "output_type": "stream",
          "text": [
            "100%|████████████████████████████████████████████████████████████████████████████████| 610/610 [02:11<00:00,  4.64it/s]"
          ],
          "name": "stderr"
        },
        {
          "output_type": "stream",
          "text": [
            "Wall time: 2min 11s\n"
          ],
          "name": "stdout"
        },
        {
          "output_type": "stream",
          "text": [
            "\n"
          ],
          "name": "stderr"
        }
      ]
    },
    {
      "cell_type": "code",
      "metadata": {
        "colab": {
          "base_uri": "https://localhost:8080/",
          "height": 419
        },
        "id": "b5Yq468GT8au",
        "outputId": "e58b8f4e-08c1-4d8e-fd8e-eefab4698ac0"
      },
      "source": [
        "df_for_analyze_year"
      ],
      "execution_count": 11,
      "outputs": [
        {
          "output_type": "execute_result",
          "data": {
            "text/plain": [
              "            Date  1. open  2. high   3. low  4. close  5. adjusted close  \\\n",
              "0     1998-12-31    46.75   51.750   43.690     50.31          17.509304   \n",
              "1     1999-12-31    50.31   54.940   30.310     44.38          15.691822   \n",
              "2     2000-12-31    43.63   55.920   36.500     55.25          19.804714   \n",
              "3     2001-12-31    55.75   61.110   44.550     57.77          20.989528   \n",
              "4     2002-12-31    58.00   75.250   36.490     38.20          28.167014   \n",
              "...          ...      ...      ...      ...       ...                ...   \n",
              "11831 2016-12-31    75.31  131.260   74.630    130.39         130.390000   \n",
              "11832 2017-12-31   131.00  206.295  130.140    178.05         178.050000   \n",
              "11833 2018-12-31   174.12  303.170  168.470    282.32         282.320000   \n",
              "11834 2019-12-31   284.96  566.740  238.930    550.43         550.430000   \n",
              "11835 2020-12-31   556.94  598.370  462.505    478.17         478.170000   \n",
              "\n",
              "         6. volume  7. dividend amount Symbol        %_1      %ad_1  \\\n",
              "0       20416200.0               0.140     PX -11.786921 -10.380096   \n",
              "1      230692000.0               0.620     PX  24.493015  26.210420   \n",
              "2      211230400.0               0.680     PX   4.561086   5.982484   \n",
              "3      257450500.0               0.760     PX -33.875714  34.195559   \n",
              "4      234874100.0               0.915     PX  15.575916  17.321982   \n",
              "...            ...                 ...    ...        ...        ...   \n",
              "11831  396638894.0               0.000    NOW  36.551883  36.551883   \n",
              "11832  496712539.0               0.000    NOW  58.562202  58.562202   \n",
              "11833  536892552.0               0.000    NOW  94.966704  94.966704   \n",
              "11834  465264044.0               0.000    NOW -13.127918 -13.127918   \n",
              "11835   85937849.0               0.000    NOW        NaN        NaN   \n",
              "\n",
              "             %_0     div_1  \n",
              "0            NaN  1.232359  \n",
              "1     -11.786921  1.532222  \n",
              "2      24.493015  1.375566  \n",
              "3       4.561086  1.583867  \n",
              "4     -33.875714  1.570681  \n",
              "...          ...       ...  \n",
              "11831  75.396825  0.000000  \n",
              "11832  36.551883  0.000000  \n",
              "11833  58.562202  0.000000  \n",
              "11834  94.966704  0.000000  \n",
              "11835 -13.127918       NaN  \n",
              "\n",
              "[11836 rows x 13 columns]"
            ],
            "text/html": [
              "<div>\n",
              "<style scoped>\n",
              "    .dataframe tbody tr th:only-of-type {\n",
              "        vertical-align: middle;\n",
              "    }\n",
              "\n",
              "    .dataframe tbody tr th {\n",
              "        vertical-align: top;\n",
              "    }\n",
              "\n",
              "    .dataframe thead th {\n",
              "        text-align: right;\n",
              "    }\n",
              "</style>\n",
              "<table border=\"1\" class=\"dataframe\">\n",
              "  <thead>\n",
              "    <tr style=\"text-align: right;\">\n",
              "      <th></th>\n",
              "      <th>Date</th>\n",
              "      <th>1. open</th>\n",
              "      <th>2. high</th>\n",
              "      <th>3. low</th>\n",
              "      <th>4. close</th>\n",
              "      <th>5. adjusted close</th>\n",
              "      <th>6. volume</th>\n",
              "      <th>7. dividend amount</th>\n",
              "      <th>Symbol</th>\n",
              "      <th>%_1</th>\n",
              "      <th>%ad_1</th>\n",
              "      <th>%_0</th>\n",
              "      <th>div_1</th>\n",
              "    </tr>\n",
              "  </thead>\n",
              "  <tbody>\n",
              "    <tr>\n",
              "      <th>0</th>\n",
              "      <td>1998-12-31</td>\n",
              "      <td>46.75</td>\n",
              "      <td>51.750</td>\n",
              "      <td>43.690</td>\n",
              "      <td>50.31</td>\n",
              "      <td>17.509304</td>\n",
              "      <td>20416200.0</td>\n",
              "      <td>0.140</td>\n",
              "      <td>PX</td>\n",
              "      <td>-11.786921</td>\n",
              "      <td>-10.380096</td>\n",
              "      <td>NaN</td>\n",
              "      <td>1.232359</td>\n",
              "    </tr>\n",
              "    <tr>\n",
              "      <th>1</th>\n",
              "      <td>1999-12-31</td>\n",
              "      <td>50.31</td>\n",
              "      <td>54.940</td>\n",
              "      <td>30.310</td>\n",
              "      <td>44.38</td>\n",
              "      <td>15.691822</td>\n",
              "      <td>230692000.0</td>\n",
              "      <td>0.620</td>\n",
              "      <td>PX</td>\n",
              "      <td>24.493015</td>\n",
              "      <td>26.210420</td>\n",
              "      <td>-11.786921</td>\n",
              "      <td>1.532222</td>\n",
              "    </tr>\n",
              "    <tr>\n",
              "      <th>2</th>\n",
              "      <td>2000-12-31</td>\n",
              "      <td>43.63</td>\n",
              "      <td>55.920</td>\n",
              "      <td>36.500</td>\n",
              "      <td>55.25</td>\n",
              "      <td>19.804714</td>\n",
              "      <td>211230400.0</td>\n",
              "      <td>0.680</td>\n",
              "      <td>PX</td>\n",
              "      <td>4.561086</td>\n",
              "      <td>5.982484</td>\n",
              "      <td>24.493015</td>\n",
              "      <td>1.375566</td>\n",
              "    </tr>\n",
              "    <tr>\n",
              "      <th>3</th>\n",
              "      <td>2001-12-31</td>\n",
              "      <td>55.75</td>\n",
              "      <td>61.110</td>\n",
              "      <td>44.550</td>\n",
              "      <td>57.77</td>\n",
              "      <td>20.989528</td>\n",
              "      <td>257450500.0</td>\n",
              "      <td>0.760</td>\n",
              "      <td>PX</td>\n",
              "      <td>-33.875714</td>\n",
              "      <td>34.195559</td>\n",
              "      <td>4.561086</td>\n",
              "      <td>1.583867</td>\n",
              "    </tr>\n",
              "    <tr>\n",
              "      <th>4</th>\n",
              "      <td>2002-12-31</td>\n",
              "      <td>58.00</td>\n",
              "      <td>75.250</td>\n",
              "      <td>36.490</td>\n",
              "      <td>38.20</td>\n",
              "      <td>28.167014</td>\n",
              "      <td>234874100.0</td>\n",
              "      <td>0.915</td>\n",
              "      <td>PX</td>\n",
              "      <td>15.575916</td>\n",
              "      <td>17.321982</td>\n",
              "      <td>-33.875714</td>\n",
              "      <td>1.570681</td>\n",
              "    </tr>\n",
              "    <tr>\n",
              "      <th>...</th>\n",
              "      <td>...</td>\n",
              "      <td>...</td>\n",
              "      <td>...</td>\n",
              "      <td>...</td>\n",
              "      <td>...</td>\n",
              "      <td>...</td>\n",
              "      <td>...</td>\n",
              "      <td>...</td>\n",
              "      <td>...</td>\n",
              "      <td>...</td>\n",
              "      <td>...</td>\n",
              "      <td>...</td>\n",
              "      <td>...</td>\n",
              "    </tr>\n",
              "    <tr>\n",
              "      <th>11831</th>\n",
              "      <td>2016-12-31</td>\n",
              "      <td>75.31</td>\n",
              "      <td>131.260</td>\n",
              "      <td>74.630</td>\n",
              "      <td>130.39</td>\n",
              "      <td>130.390000</td>\n",
              "      <td>396638894.0</td>\n",
              "      <td>0.000</td>\n",
              "      <td>NOW</td>\n",
              "      <td>36.551883</td>\n",
              "      <td>36.551883</td>\n",
              "      <td>75.396825</td>\n",
              "      <td>0.000000</td>\n",
              "    </tr>\n",
              "    <tr>\n",
              "      <th>11832</th>\n",
              "      <td>2017-12-31</td>\n",
              "      <td>131.00</td>\n",
              "      <td>206.295</td>\n",
              "      <td>130.140</td>\n",
              "      <td>178.05</td>\n",
              "      <td>178.050000</td>\n",
              "      <td>496712539.0</td>\n",
              "      <td>0.000</td>\n",
              "      <td>NOW</td>\n",
              "      <td>58.562202</td>\n",
              "      <td>58.562202</td>\n",
              "      <td>36.551883</td>\n",
              "      <td>0.000000</td>\n",
              "    </tr>\n",
              "    <tr>\n",
              "      <th>11833</th>\n",
              "      <td>2018-12-31</td>\n",
              "      <td>174.12</td>\n",
              "      <td>303.170</td>\n",
              "      <td>168.470</td>\n",
              "      <td>282.32</td>\n",
              "      <td>282.320000</td>\n",
              "      <td>536892552.0</td>\n",
              "      <td>0.000</td>\n",
              "      <td>NOW</td>\n",
              "      <td>94.966704</td>\n",
              "      <td>94.966704</td>\n",
              "      <td>58.562202</td>\n",
              "      <td>0.000000</td>\n",
              "    </tr>\n",
              "    <tr>\n",
              "      <th>11834</th>\n",
              "      <td>2019-12-31</td>\n",
              "      <td>284.96</td>\n",
              "      <td>566.740</td>\n",
              "      <td>238.930</td>\n",
              "      <td>550.43</td>\n",
              "      <td>550.430000</td>\n",
              "      <td>465264044.0</td>\n",
              "      <td>0.000</td>\n",
              "      <td>NOW</td>\n",
              "      <td>-13.127918</td>\n",
              "      <td>-13.127918</td>\n",
              "      <td>94.966704</td>\n",
              "      <td>0.000000</td>\n",
              "    </tr>\n",
              "    <tr>\n",
              "      <th>11835</th>\n",
              "      <td>2020-12-31</td>\n",
              "      <td>556.94</td>\n",
              "      <td>598.370</td>\n",
              "      <td>462.505</td>\n",
              "      <td>478.17</td>\n",
              "      <td>478.170000</td>\n",
              "      <td>85937849.0</td>\n",
              "      <td>0.000</td>\n",
              "      <td>NOW</td>\n",
              "      <td>NaN</td>\n",
              "      <td>NaN</td>\n",
              "      <td>-13.127918</td>\n",
              "      <td>NaN</td>\n",
              "    </tr>\n",
              "  </tbody>\n",
              "</table>\n",
              "<p>11836 rows × 13 columns</p>\n",
              "</div>"
            ]
          },
          "metadata": {
            "tags": []
          },
          "execution_count": 11
        }
      ]
    },
    {
      "cell_type": "markdown",
      "metadata": {
        "id": "aD9QEH7Si-4P"
      },
      "source": [
        "# Merg, Industry, result_all, pivot"
      ]
    },
    {
      "cell_type": "code",
      "metadata": {
        "colab": {
          "base_uri": "https://localhost:8080/",
          "height": 51
        },
        "id": "X5FgjiIejIBc",
        "outputId": "651e02d1-6106-4031-bc2f-26b7152773ef"
      },
      "source": [
        "df_for_analyze['YM'] = pd.to_datetime(df_for_analyze[\"Date\"].dt.strftime('%Y-%m'))\n",
        "df_for_analyze_year['YM'] = pd.to_datetime(df_for_analyze_year[\"Date\"].dt.strftime('%Y-%m'))\n",
        "display(stock.shape, df_for_analyze_year.shape)\n",
        "merg = pd.merge(df_for_analyze, df_for_analyze_year, on = ['YM', 'Symbol'], how = 'inner')\n",
        "# merg['Year'] = merg['Date'].dt.year\n",
        "\n",
        "# Add month\n",
        "df_for_analyze_mnth['YM'] = pd.to_datetime(df_for_analyze_mnth[\"Date\"].dt.strftime('%Y-%m'))\n",
        "merg = pd.merge(merg, df_for_analyze_mnth, on = ['YM', 'Symbol'], how = 'left', suffixes=('', 'mnth'))"
      ],
      "execution_count": 12,
      "outputs": [
        {
          "output_type": "display_data",
          "data": {
            "text/plain": [
              "(2747373, 11)"
            ]
          },
          "metadata": {
            "tags": []
          }
        },
        {
          "output_type": "display_data",
          "data": {
            "text/plain": [
              "(11836, 14)"
            ]
          },
          "metadata": {
            "tags": []
          }
        }
      ]
    },
    {
      "cell_type": "code",
      "metadata": {
        "id": "0_MOfVTsimiI"
      },
      "source": [
        "k = []\n",
        "for i, s in zip(list(range(len(merg))), merg['Symbol']):\n",
        "  if str(s) in tickerandsector.ticker.values:\n",
        "    k.append(dict(tickerandsector[['ticker', 'industry']].values)[s])\n",
        "  else:\n",
        "    k.append('None')\n",
        "merg['Industry'] = k"
      ],
      "execution_count": 13,
      "outputs": []
    },
    {
      "cell_type": "markdown",
      "metadata": {
        "id": "0K0zc7mvQNn7"
      },
      "source": [
        "# New Section"
      ]
    },
    {
      "cell_type": "code",
      "metadata": {
        "id": "NzWOicVNk56x",
        "colab": {
          "base_uri": "https://localhost:8080/",
          "height": 425
        },
        "outputId": "7711e2f3-2527-4304-d14b-20dd44892c71"
      },
      "source": [
        "mt = list(df_for_analyze.columns[3:-1])\n",
        "mt = list(merg.columns[2:100])\n",
        "quan = []\n",
        "for item in mt:\n",
        "    merg[str(item) + '_L'] =  np.where(merg[item] < merg[item].quantile([1/3]).values[0], 0.1, \\\n",
        "            np.where(merg[item] > merg[item].quantile([2/3]).values[0], 0.2, 0.15))\n",
        "    quan.append(str(item) + '_L')\n",
        "\n",
        "result_all = pd.DataFrame()\n",
        "for ie in merg['Industry'].unique():\n",
        "    display(ie)\n",
        "    result_9999 = merg[merg['Industry'] == ie].copy()\n",
        "    display((result_9999).shape)\n",
        "    for item in mt:\n",
        "        result_9999[str(item) + '_L'] =  np.where(result_9999[item] < result_9999[item].quantile([1/3]).values[0], 0.1, \\\n",
        "                np.where(result_9999[item] > result_9999[item].quantile([2/3]).values[0], 0.2, 0.15))\n",
        "        quan.append(str(item) + '_L')\n",
        "    result_all = result_all.append(result_9999)\n",
        "#     result_9999 = pd.DataFrame()"
      ],
      "execution_count": 14,
      "outputs": [
        {
          "output_type": "display_data",
          "data": {
            "text/plain": [
              "'Industrials'"
            ]
          },
          "metadata": {
            "tags": []
          }
        },
        {
          "output_type": "display_data",
          "data": {
            "text/plain": [
              "(434, 225)"
            ]
          },
          "metadata": {
            "tags": []
          }
        },
        {
          "output_type": "display_data",
          "data": {
            "text/plain": [
              "'Consumer Discretionary'"
            ]
          },
          "metadata": {
            "tags": []
          }
        },
        {
          "output_type": "display_data",
          "data": {
            "text/plain": [
              "(305, 225)"
            ]
          },
          "metadata": {
            "tags": []
          }
        },
        {
          "output_type": "display_data",
          "data": {
            "text/plain": [
              "'Health Care'"
            ]
          },
          "metadata": {
            "tags": []
          }
        },
        {
          "output_type": "display_data",
          "data": {
            "text/plain": [
              "(378, 225)"
            ]
          },
          "metadata": {
            "tags": []
          }
        },
        {
          "output_type": "display_data",
          "data": {
            "text/plain": [
              "'None'"
            ]
          },
          "metadata": {
            "tags": []
          }
        },
        {
          "output_type": "display_data",
          "data": {
            "text/plain": [
              "(1073, 225)"
            ]
          },
          "metadata": {
            "tags": []
          }
        },
        {
          "output_type": "display_data",
          "data": {
            "text/plain": [
              "'Utilities'"
            ]
          },
          "metadata": {
            "tags": []
          }
        },
        {
          "output_type": "display_data",
          "data": {
            "text/plain": [
              "(234, 225)"
            ]
          },
          "metadata": {
            "tags": []
          }
        },
        {
          "output_type": "display_data",
          "data": {
            "text/plain": [
              "'Financials'"
            ]
          },
          "metadata": {
            "tags": []
          }
        },
        {
          "output_type": "display_data",
          "data": {
            "text/plain": [
              "(498, 225)"
            ]
          },
          "metadata": {
            "tags": []
          }
        },
        {
          "output_type": "display_data",
          "data": {
            "text/plain": [
              "'Information Technology'"
            ]
          },
          "metadata": {
            "tags": []
          }
        },
        {
          "output_type": "display_data",
          "data": {
            "text/plain": [
              "(252, 225)"
            ]
          },
          "metadata": {
            "tags": []
          }
        },
        {
          "output_type": "display_data",
          "data": {
            "text/plain": [
              "'Materials'"
            ]
          },
          "metadata": {
            "tags": []
          }
        },
        {
          "output_type": "display_data",
          "data": {
            "text/plain": [
              "(200, 225)"
            ]
          },
          "metadata": {
            "tags": []
          }
        },
        {
          "output_type": "display_data",
          "data": {
            "text/plain": [
              "'Real Estate'"
            ]
          },
          "metadata": {
            "tags": []
          }
        },
        {
          "output_type": "display_data",
          "data": {
            "text/plain": [
              "(230, 225)"
            ]
          },
          "metadata": {
            "tags": []
          }
        },
        {
          "output_type": "display_data",
          "data": {
            "text/plain": [
              "'Energy'"
            ]
          },
          "metadata": {
            "tags": []
          }
        },
        {
          "output_type": "display_data",
          "data": {
            "text/plain": [
              "(205, 225)"
            ]
          },
          "metadata": {
            "tags": []
          }
        },
        {
          "output_type": "display_data",
          "data": {
            "text/plain": [
              "'Communication Services'"
            ]
          },
          "metadata": {
            "tags": []
          }
        },
        {
          "output_type": "display_data",
          "data": {
            "text/plain": [
              "(148, 225)"
            ]
          },
          "metadata": {
            "tags": []
          }
        },
        {
          "output_type": "display_data",
          "data": {
            "text/plain": [
              "'Consumer Staples'"
            ]
          },
          "metadata": {
            "tags": []
          }
        },
        {
          "output_type": "display_data",
          "data": {
            "text/plain": [
              "(127, 225)"
            ]
          },
          "metadata": {
            "tags": []
          }
        }
      ]
    },
    {
      "cell_type": "markdown",
      "metadata": {
        "id": "dh3xMixUHQIl"
      },
      "source": [
        "# Download stock and df_for_analyze and merg"
      ]
    },
    {
      "cell_type": "code",
      "metadata": {
        "id": "rm172bkwDEkp"
      },
      "source": [
        "# df_for_analyze.to_excel(my_dir + '/df_for_analyze.xlsx')\n",
        "df_for_analyze = pd.read_excel(my_dir + '/df_for_analyze.xlsx', index_col=0)\n",
        "\n",
        "stock   = pd.read_csv('F:/Мой диск/Marat/' + 'all_stocks.csv') \n",
        "stock   = pd.read_csv('F:/Мой диск/Marat/' + 'stock_2403.csv', parse_dates=['Date']) \n",
        "stock_not_2020   = pd.read_csv('F:/Мой диск/fund_data' + '/stock_not_in2020.csv', parse_dates=['Date']) \n",
        "stock = stock_not_2020.append(stock)\n",
        "\n",
        "# merg.to_excel(my_dir + '/merg_.xlsx')\n",
        "# result_all.to_excel(my_dir + '/result_all.xlsx')\n",
        "merg = pd.read_excel(my_dir + '/merg_.xlsx', index_col=0)\n",
        "result_all = pd.read_excel(my_dir + '/result_all.xlsx', index_col=0)\n"
      ],
      "execution_count": 15,
      "outputs": []
    },
    {
      "cell_type": "markdown",
      "metadata": {
        "id": "0LowHcmpzXAo"
      },
      "source": [
        "# Pivot"
      ]
    },
    {
      "cell_type": "code",
      "metadata": {
        "id": "wykxTJQCoJ30"
      },
      "source": [
        "on = result_all[result_all['%_1'] < -50][merg.columns[2:100]].agg(['mean', 'count']).round(2).T\n",
        "tw = result_all[result_all['%_1'] != -50][merg.columns[2:100]].agg(['mean', 'count']).round(2).T"
      ],
      "execution_count": 68,
      "outputs": []
    },
    {
      "cell_type": "code",
      "metadata": {
        "id": "y4vTtPGWZzKU"
      },
      "source": [
        "mer = pd.merge(on, tw, left_index=True,right_index=True)\n",
        "mer[mer['count_y'] > 1000]"
      ],
      "execution_count": null,
      "outputs": []
    },
    {
      "cell_type": "code",
      "metadata": {
        "id": "ihIj4t9qtCc2"
      },
      "source": [
        "mer[mer['count_y'] > 1000].to_excel(my_dir + '/min50.xlsx')"
      ],
      "execution_count": 73,
      "outputs": []
    },
    {
      "cell_type": "code",
      "metadata": {
        "id": "e5TLBum13mFN"
      },
      "source": [
        ""
      ],
      "execution_count": null,
      "outputs": []
    },
    {
      "cell_type": "code",
      "metadata": {
        "id": "PoNZkwF7aY2K"
      },
      "source": [
        "all_one = pd.DataFrame()\n",
        "all_two = pd.DataFrame()\n",
        "for i in list(merg.columns[2:100])[:]:\n",
        "  one = (pd.pivot_table(result_all[(~result_all[i].isnull())\n",
        "                          &(~result_all['%_1'].isnull())\n",
        "                          # &(result_all['%_1'] <= -30)\n",
        "                          # &(result_all['Industry'] != 'None')\n",
        "                          # &(result_all['YM'].dt.year == 2019)\n",
        "                          # &(result_all['%_1'] > -50)\n",
        "                          # &(result_all['%_1'] < 100)\n",
        "                          ],\n",
        "              #  index = i + str('_L'),\n",
        "               columns = [i + str('_L')],\n",
        "               values = [i],\n",
        "              #  aggfunc=['count', 'mean'],\n",
        "              #  margins=True\n",
        "               ))\n",
        "  # display(one)\n",
        "  # c_name = []\n",
        "  # for zz in range(len(one.columns)):\n",
        "  #     c_name.append(str(one.columns[zz][0]) + '_' + str(one.columns[zz][1]))\n",
        "  # one.columns = c_name\n",
        "  # one.rename(index={'%_1':i}, inplace=True)\n",
        "  # display(one)\n",
        "  all_one = all_one.append(one)\n",
        "\n",
        "for i in list(merg.columns[2:100])[:]:\n",
        "  one = (pd.pivot_table(result_all[(~result_all[i].isnull())\n",
        "                          &(~result_all['%_1'].isnull())\n",
        "                          # &(result_all['%_1'] <= -30)\n",
        "                          # &(result_all['Industry'] != 'None')\n",
        "                          # &(result_all['YM'].dt.year == 2019)\n",
        "                          # &(result_all['%_1'] > -50)\n",
        "                          # &(result_all['%_1'] < 50)\n",
        "                          ],\n",
        "              #  index = i + str('_L'),\n",
        "               columns = [i + str('_L')],\n",
        "               values = ['%_1', 'div_1'],\n",
        "               aggfunc=['count', 'mean'],\n",
        "              #  margins=True\n",
        "               ))\n",
        "  # display(one)\n",
        "  c_name = []\n",
        "  for zz in range(len(one.columns)):\n",
        "      c_name.append(str(one.columns[zz][0]) + '_' + str(one.columns[zz][1]))\n",
        "  one.columns = c_name\n",
        "  one.rename(index={'%_1':i}, inplace=True)               #change\n",
        "  # one.rename(index={'div_1':i}, inplace=True)\n",
        "  # display(one)\n",
        "  all_two = all_two.append(one)\n"
      ],
      "execution_count": 191,
      "outputs": []
    },
    {
      "cell_type": "code",
      "metadata": {
        "colab": {
          "base_uri": "https://localhost:8080/",
          "height": 1000
        },
        "id": "mFr0-oEYNrjr",
        "outputId": "409fa875-195e-4446-d53e-6605696c1c62"
      },
      "source": [
        "merg_all = pd.merge(all_one, all_two, left_index=True,right_index=True)\n",
        "# merg_all.to_excel(my_dir + '/merg_all.xlsx')\n",
        "merg_all['dif'] = merg_all['mean_0.2'] - merg_all['mean_0.1']\n",
        "merg_all = merg_all.sort_values('dif') \n",
        "merg_all = merg_all.dropna()\n",
        "merg_all = merg_all[merg_all['count_0.1'] > 50]\n",
        "merg_all.round(2)"
      ],
      "execution_count": 192,
      "outputs": [
        {
          "output_type": "execute_result",
          "data": {
            "text/plain": [
              "                                   0.1     0.15       0.2  count_0.1  \\\n",
              "Operating Income USD Mil        272.43  1105.01   5371.05     1001.0   \n",
              "Net Income USD Mil             -187.47   719.46   4548.82     1153.0   \n",
              "Net Margin %                     -4.34     9.84     22.53     1133.0   \n",
              "Interest Coverage                 0.67     6.74     29.74      886.0   \n",
              "Operating Margin                  5.05    15.85     28.84      991.0   \n",
              "Operating Margin %                5.01    15.78     28.86      982.0   \n",
              "Free Cash Flow USD Mil         -333.70   736.63   5161.24     1191.0   \n",
              "EBT Margin                       -3.00    13.05     29.50     1100.0   \n",
              "Operating Cash Flow USD Mil     330.24  1404.70   7757.39     1176.0   \n",
              "Earnings Per Share USD           -0.96     2.58      8.67     1145.0   \n",
              "Total Stockholders' Equity       10.11    32.99     54.30     1141.0   \n",
              "Shares Mil                      112.06   287.30   1289.26     1159.0   \n",
              "Free Cash Flow/Sales %           -8.06    11.42     26.57     1193.0   \n",
              "Return on Assets %               -1.28     4.82     11.40     1093.0   \n",
              "Dividends USD                     0.56     1.36      3.00      719.0   \n",
              "Return on Invested Capital %      1.00     9.20     19.01      830.0   \n",
              "Net Int Inc & Other             -13.34    -0.80      9.57     1110.0   \n",
              "Days Inventory                   21.35    58.52    132.26      725.0   \n",
              "Return on Equity %               -1.55    13.51     34.92      976.0   \n",
              "Payables Period                  24.09    49.22    129.42      947.0   \n",
              "Gross Margin                     24.19    42.30     63.29     1009.0   \n",
              "Gross Margin %                   24.17    42.23     63.42     1003.0   \n",
              "Intangibles                       8.05    23.65     50.60      933.0   \n",
              "Book Value Per Share * USD        3.86    20.37     63.29     1110.0   \n",
              "Days Sales Outstanding           24.84    46.13     82.98     1004.0   \n",
              "Revenue USD Mil                2752.25  8120.09  40368.38     1173.0   \n",
              "Free Cash Flow/Net Income        -2.50     0.90      4.30     1151.0   \n",
              "Other                            -7.34     3.12     20.52      699.0   \n",
              "Cap Ex as a % of Sales            3.04     6.79     26.51     1056.0   \n",
              "Taxes Payable                     0.31     0.86      2.42      445.0   \n",
              "Payout Ratio % *                 27.78    45.92     93.71      460.0   \n",
              "Cash Conversion Cycle            -3.74    51.92    126.25      709.0   \n",
              "Other Long-Term Liabilities       1.03    10.67     22.83     1148.0   \n",
              "Quick Ratio                       0.52     0.97      2.37     1009.0   \n",
              "Cash & Short-Term Investments     2.55    10.18     28.05     1173.0   \n",
              "SG&A                              8.16    17.73     34.43     1016.0   \n",
              "Accounts Receivable               3.62     8.71     18.66     1096.0   \n",
              "Short-Term Debt                   0.71     2.47      9.17      625.0   \n",
              "Other Long-Term Assets            0.58    10.59     26.18     1162.0   \n",
              "Current Ratio                     0.87     1.44      3.02      998.0   \n",
              "Fixed Assets Turnover             1.81     4.93     23.14      995.0   \n",
              "Financial Leverage (Average)      2.02     3.41      7.30     1007.0   \n",
              "Financial Leverage                2.02     3.41      7.30     1007.0   \n",
              "Long-Term Debt                   14.72    27.88     49.11     1045.0   \n",
              "Inventory                         1.76     6.15     17.21      723.0   \n",
              "Debt/Equity                       0.37     0.76      2.21      897.0   \n",
              "Other Short-Term Liabilities     -0.52     4.06     13.99      955.0   \n",
              "Net PP&E                         11.04    22.90     48.52     1075.0   \n",
              "Accrued Liabilities               1.60     3.83      8.69      807.0   \n",
              "Accounts Payable                  1.67     4.70     13.31      986.0   \n",
              "Other Current Assets             -9.69    -0.84      6.97     1072.0   \n",
              "Receivables Turnover              5.11     8.40     29.01      945.0   \n",
              "Total Current Liabilities         9.77    17.93     33.36     1011.0   \n",
              "R&D                               4.79     9.49     29.49      264.0   \n",
              "Tax Rate %                       16.20    26.32     41.52      378.0   \n",
              "COGS                             37.66    58.16     76.00      986.0   \n",
              "Inventory Turnover                3.75     7.50     45.81      694.0   \n",
              "Total Current Assets             13.63    29.89     51.33     1004.0   \n",
              "Asset Turnover (Average)          0.28     0.54      1.23     1052.0   \n",
              "Asset Turnover                    0.28     0.54      1.23     1052.0   \n",
              "Cap Spending USD Mil          -3462.51  -641.81   -204.83     1065.0   \n",
              "Total Liabilities                45.66    67.04     89.97     1173.0   \n",
              "\n",
              "                               count_0.15  count_0.2  mean_0.1  mean_0.15  \\\n",
              "Operating Income USD Mil           1005.0     1037.0     21.98       9.22   \n",
              "Net Income USD Mil                 1164.0     1174.0     21.71      11.94   \n",
              "Net Margin %                       1183.0     1162.0     21.77      10.84   \n",
              "Interest Coverage                   943.0      958.0     19.89      10.75   \n",
              "Operating Margin                   1026.0     1040.0     20.59       9.93   \n",
              "Operating Margin %                 1036.0     1039.0     20.60       9.98   \n",
              "Free Cash Flow USD Mil             1158.0     1142.0     21.19      10.14   \n",
              "EBT Margin                         1158.0     1175.0     21.08       9.17   \n",
              "Operating Cash Flow USD Mil        1162.0     1153.0     20.06      11.73   \n",
              "Earnings Per Share USD             1185.0     1144.0     19.22      12.25   \n",
              "Total Stockholders' Equity         1169.0     1176.0     18.99      12.65   \n",
              "Shares Mil                         1191.0     1174.0     19.86      10.76   \n",
              "Free Cash Flow/Sales %             1183.0     1130.0     18.67      12.54   \n",
              "Return on Assets %                 1163.0     1167.0     17.54      12.41   \n",
              "Dividends USD                       725.0      669.0     13.31       9.14   \n",
              "Return on Invested Capital %        910.0      928.0     15.74       9.98   \n",
              "Net Int Inc & Other                1151.0     1172.0     17.28      13.66   \n",
              "Days Inventory                      731.0      697.0     15.06      15.60   \n",
              "Return on Equity %                 1044.0     1053.0     15.98       9.68   \n",
              "Payables Period                     933.0      897.0     13.76      15.99   \n",
              "Gross Margin                       1013.0     1018.0     16.31      11.88   \n",
              "Gross Margin %                     1026.0     1011.0     16.25      11.94   \n",
              "Intangibles                         938.0      932.0     15.83      11.63   \n",
              "Book Value Per Share * USD         1119.0     1076.0     17.73       9.33   \n",
              "Days Sales Outstanding              991.0      951.0     15.54      11.81   \n",
              "Revenue USD Mil                    1151.0     1167.0     16.42      12.86   \n",
              "Free Cash Flow/Net Income          1180.0     1139.0     16.24      13.28   \n",
              "Other                               706.0      674.0     14.83      11.21   \n",
              "Cap Ex as a % of Sales             1108.0     1072.0     16.47      12.28   \n",
              "Taxes Payable                       466.0      455.0     12.29      14.17   \n",
              "Payout Ratio % *                    459.0      427.0     11.73      13.03   \n",
              "Cash Conversion Cycle               719.0      707.0     10.61      20.16   \n",
              "Other Long-Term Liabilities        1135.0     1113.0     16.46      10.69   \n",
              "Quick Ratio                        1022.0     1005.0     13.81      12.41   \n",
              "Cash & Short-Term Investments      1149.0     1132.0     14.36      14.18   \n",
              "SG&A                               1030.0     1033.0     14.03      15.66   \n",
              "Accounts Receivable                1103.0     1143.0     12.84      15.74   \n",
              "Short-Term Debt                     632.0      661.0     10.32      12.56   \n",
              "Other Long-Term Assets             1125.0     1126.0     12.29      15.05   \n",
              "Current Ratio                      1020.0     1018.0     11.99      14.14   \n",
              "Fixed Assets Turnover              1063.0     1103.0     12.36      14.16   \n",
              "Financial Leverage (Average)       1033.0      988.0     10.55      12.20   \n",
              "Financial Leverage                 1033.0      988.0     10.55      12.20   \n",
              "Long-Term Debt                     1034.0     1002.0     13.93       8.26   \n",
              "Inventory                           725.0      750.0     12.55      12.24   \n",
              "Debt/Equity                         930.0      862.0     10.08      10.91   \n",
              "Other Short-Term Liabilities        946.0      952.0     12.49      13.89   \n",
              "Net PP&E                           1065.0     1048.0     11.79      14.51   \n",
              "Accrued Liabilities                 813.0      808.0     12.88      12.28   \n",
              "Accounts Payable                   1009.0     1021.0     12.18      13.42   \n",
              "Other Current Assets               1124.0     1146.0     12.23      12.96   \n",
              "Receivables Turnover                994.0     1007.0     11.29      11.79   \n",
              "Total Current Liabilities          1004.0     1039.0     11.80      10.98   \n",
              "R&D                                 269.0      263.0     14.51      17.86   \n",
              "Tax Rate %                          430.0      463.0     11.92      11.41   \n",
              "COGS                                991.0      986.0     10.98      11.40   \n",
              "Inventory Turnover                  732.0      727.0      9.00      15.37   \n",
              "Total Current Assets               1005.0     1045.0      8.89      14.77   \n",
              "Asset Turnover (Average)           1223.0     1166.0      9.97      12.32   \n",
              "Asset Turnover                     1223.0     1166.0      9.97      12.32   \n",
              "Cap Spending USD Mil               1074.0     1073.0     10.52      12.61   \n",
              "Total Liabilities                  1176.0     1146.0     10.20      12.69   \n",
              "\n",
              "                               mean_0.2    dif  \n",
              "Operating Income USD Mil           8.54 -13.44  \n",
              "Net Income USD Mil                 8.33 -13.38  \n",
              "Net Margin %                       9.33 -12.44  \n",
              "Interest Coverage                  7.81 -12.08  \n",
              "Operating Margin                   9.33 -11.26  \n",
              "Operating Margin %                 9.36 -11.23  \n",
              "Free Cash Flow USD Mil            10.27 -10.93  \n",
              "EBT Margin                        10.55 -10.53  \n",
              "Operating Cash Flow USD Mil        9.96 -10.09  \n",
              "Earnings Per Share USD             9.47  -9.75  \n",
              "Total Stockholders' Equity        10.18  -8.81  \n",
              "Shares Mil                        11.43  -8.44  \n",
              "Free Cash Flow/Sales %            10.45  -8.23  \n",
              "Return on Assets %                 9.95  -7.59  \n",
              "Dividends USD                      6.58  -6.73  \n",
              "Return on Invested Capital %       9.27  -6.47  \n",
              "Net Int Inc & Other               11.07  -6.21  \n",
              "Days Inventory                     8.93  -6.13  \n",
              "Return on Equity %                10.36  -5.62  \n",
              "Payables Period                    8.59  -5.17  \n",
              "Gross Margin                      11.39  -4.91  \n",
              "Gross Margin %                    11.42  -4.83  \n",
              "Intangibles                       11.58  -4.25  \n",
              "Book Value Per Share * USD        13.54  -4.19  \n",
              "Days Sales Outstanding            11.37  -4.17  \n",
              "Revenue USD Mil                   12.56  -3.86  \n",
              "Free Cash Flow/Net Income         12.60  -3.64  \n",
              "Other                             11.19  -3.64  \n",
              "Cap Ex as a % of Sales            12.91  -3.56  \n",
              "Taxes Payable                      9.81  -2.48  \n",
              "Payout Ratio % *                   9.30  -2.43  \n",
              "Cash Conversion Cycle              8.65  -1.96  \n",
              "Other Long-Term Liabilities       14.55  -1.91  \n",
              "Quick Ratio                       12.81  -1.00  \n",
              "Cash & Short-Term Investments     13.54  -0.81  \n",
              "SG&A                              13.67  -0.36  \n",
              "Accounts Receivable               12.50  -0.34  \n",
              "Short-Term Debt                   10.58   0.26  \n",
              "Other Long-Term Assets            12.57   0.28  \n",
              "Current Ratio                     12.86   0.88  \n",
              "Fixed Assets Turnover             14.58   2.21  \n",
              "Financial Leverage (Average)      12.86   2.31  \n",
              "Financial Leverage                12.86   2.31  \n",
              "Long-Term Debt                    16.52   2.58  \n",
              "Inventory                         15.16   2.61  \n",
              "Debt/Equity                       12.75   2.67  \n",
              "Other Short-Term Liabilities      15.43   2.94  \n",
              "Net PP&E                          15.11   3.32  \n",
              "Accrued Liabilities               16.40   3.52  \n",
              "Accounts Payable                  15.80   3.62  \n",
              "Other Current Assets              16.30   4.07  \n",
              "Receivables Turnover              15.62   4.33  \n",
              "Total Current Liabilities         16.37   4.56  \n",
              "R&D                               19.67   5.16  \n",
              "Tax Rate %                        17.12   5.20  \n",
              "COGS                              16.91   5.94  \n",
              "Inventory Turnover                15.20   6.20  \n",
              "Total Current Assets              15.50   6.61  \n",
              "Asset Turnover (Average)          17.11   7.14  \n",
              "Asset Turnover                    17.11   7.14  \n",
              "Cap Spending USD Mil              18.27   7.75  \n",
              "Total Liabilities                 18.83   8.63  "
            ],
            "text/html": [
              "<div>\n",
              "<style scoped>\n",
              "    .dataframe tbody tr th:only-of-type {\n",
              "        vertical-align: middle;\n",
              "    }\n",
              "\n",
              "    .dataframe tbody tr th {\n",
              "        vertical-align: top;\n",
              "    }\n",
              "\n",
              "    .dataframe thead th {\n",
              "        text-align: right;\n",
              "    }\n",
              "</style>\n",
              "<table border=\"1\" class=\"dataframe\">\n",
              "  <thead>\n",
              "    <tr style=\"text-align: right;\">\n",
              "      <th></th>\n",
              "      <th>0.1</th>\n",
              "      <th>0.15</th>\n",
              "      <th>0.2</th>\n",
              "      <th>count_0.1</th>\n",
              "      <th>count_0.15</th>\n",
              "      <th>count_0.2</th>\n",
              "      <th>mean_0.1</th>\n",
              "      <th>mean_0.15</th>\n",
              "      <th>mean_0.2</th>\n",
              "      <th>dif</th>\n",
              "    </tr>\n",
              "  </thead>\n",
              "  <tbody>\n",
              "    <tr>\n",
              "      <th>Operating Income USD Mil</th>\n",
              "      <td>272.43</td>\n",
              "      <td>1105.01</td>\n",
              "      <td>5371.05</td>\n",
              "      <td>1001.0</td>\n",
              "      <td>1005.0</td>\n",
              "      <td>1037.0</td>\n",
              "      <td>21.98</td>\n",
              "      <td>9.22</td>\n",
              "      <td>8.54</td>\n",
              "      <td>-13.44</td>\n",
              "    </tr>\n",
              "    <tr>\n",
              "      <th>Net Income USD Mil</th>\n",
              "      <td>-187.47</td>\n",
              "      <td>719.46</td>\n",
              "      <td>4548.82</td>\n",
              "      <td>1153.0</td>\n",
              "      <td>1164.0</td>\n",
              "      <td>1174.0</td>\n",
              "      <td>21.71</td>\n",
              "      <td>11.94</td>\n",
              "      <td>8.33</td>\n",
              "      <td>-13.38</td>\n",
              "    </tr>\n",
              "    <tr>\n",
              "      <th>Net Margin %</th>\n",
              "      <td>-4.34</td>\n",
              "      <td>9.84</td>\n",
              "      <td>22.53</td>\n",
              "      <td>1133.0</td>\n",
              "      <td>1183.0</td>\n",
              "      <td>1162.0</td>\n",
              "      <td>21.77</td>\n",
              "      <td>10.84</td>\n",
              "      <td>9.33</td>\n",
              "      <td>-12.44</td>\n",
              "    </tr>\n",
              "    <tr>\n",
              "      <th>Interest Coverage</th>\n",
              "      <td>0.67</td>\n",
              "      <td>6.74</td>\n",
              "      <td>29.74</td>\n",
              "      <td>886.0</td>\n",
              "      <td>943.0</td>\n",
              "      <td>958.0</td>\n",
              "      <td>19.89</td>\n",
              "      <td>10.75</td>\n",
              "      <td>7.81</td>\n",
              "      <td>-12.08</td>\n",
              "    </tr>\n",
              "    <tr>\n",
              "      <th>Operating Margin</th>\n",
              "      <td>5.05</td>\n",
              "      <td>15.85</td>\n",
              "      <td>28.84</td>\n",
              "      <td>991.0</td>\n",
              "      <td>1026.0</td>\n",
              "      <td>1040.0</td>\n",
              "      <td>20.59</td>\n",
              "      <td>9.93</td>\n",
              "      <td>9.33</td>\n",
              "      <td>-11.26</td>\n",
              "    </tr>\n",
              "    <tr>\n",
              "      <th>Operating Margin %</th>\n",
              "      <td>5.01</td>\n",
              "      <td>15.78</td>\n",
              "      <td>28.86</td>\n",
              "      <td>982.0</td>\n",
              "      <td>1036.0</td>\n",
              "      <td>1039.0</td>\n",
              "      <td>20.60</td>\n",
              "      <td>9.98</td>\n",
              "      <td>9.36</td>\n",
              "      <td>-11.23</td>\n",
              "    </tr>\n",
              "    <tr>\n",
              "      <th>Free Cash Flow USD Mil</th>\n",
              "      <td>-333.70</td>\n",
              "      <td>736.63</td>\n",
              "      <td>5161.24</td>\n",
              "      <td>1191.0</td>\n",
              "      <td>1158.0</td>\n",
              "      <td>1142.0</td>\n",
              "      <td>21.19</td>\n",
              "      <td>10.14</td>\n",
              "      <td>10.27</td>\n",
              "      <td>-10.93</td>\n",
              "    </tr>\n",
              "    <tr>\n",
              "      <th>EBT Margin</th>\n",
              "      <td>-3.00</td>\n",
              "      <td>13.05</td>\n",
              "      <td>29.50</td>\n",
              "      <td>1100.0</td>\n",
              "      <td>1158.0</td>\n",
              "      <td>1175.0</td>\n",
              "      <td>21.08</td>\n",
              "      <td>9.17</td>\n",
              "      <td>10.55</td>\n",
              "      <td>-10.53</td>\n",
              "    </tr>\n",
              "    <tr>\n",
              "      <th>Operating Cash Flow USD Mil</th>\n",
              "      <td>330.24</td>\n",
              "      <td>1404.70</td>\n",
              "      <td>7757.39</td>\n",
              "      <td>1176.0</td>\n",
              "      <td>1162.0</td>\n",
              "      <td>1153.0</td>\n",
              "      <td>20.06</td>\n",
              "      <td>11.73</td>\n",
              "      <td>9.96</td>\n",
              "      <td>-10.09</td>\n",
              "    </tr>\n",
              "    <tr>\n",
              "      <th>Earnings Per Share USD</th>\n",
              "      <td>-0.96</td>\n",
              "      <td>2.58</td>\n",
              "      <td>8.67</td>\n",
              "      <td>1145.0</td>\n",
              "      <td>1185.0</td>\n",
              "      <td>1144.0</td>\n",
              "      <td>19.22</td>\n",
              "      <td>12.25</td>\n",
              "      <td>9.47</td>\n",
              "      <td>-9.75</td>\n",
              "    </tr>\n",
              "    <tr>\n",
              "      <th>Total Stockholders' Equity</th>\n",
              "      <td>10.11</td>\n",
              "      <td>32.99</td>\n",
              "      <td>54.30</td>\n",
              "      <td>1141.0</td>\n",
              "      <td>1169.0</td>\n",
              "      <td>1176.0</td>\n",
              "      <td>18.99</td>\n",
              "      <td>12.65</td>\n",
              "      <td>10.18</td>\n",
              "      <td>-8.81</td>\n",
              "    </tr>\n",
              "    <tr>\n",
              "      <th>Shares Mil</th>\n",
              "      <td>112.06</td>\n",
              "      <td>287.30</td>\n",
              "      <td>1289.26</td>\n",
              "      <td>1159.0</td>\n",
              "      <td>1191.0</td>\n",
              "      <td>1174.0</td>\n",
              "      <td>19.86</td>\n",
              "      <td>10.76</td>\n",
              "      <td>11.43</td>\n",
              "      <td>-8.44</td>\n",
              "    </tr>\n",
              "    <tr>\n",
              "      <th>Free Cash Flow/Sales %</th>\n",
              "      <td>-8.06</td>\n",
              "      <td>11.42</td>\n",
              "      <td>26.57</td>\n",
              "      <td>1193.0</td>\n",
              "      <td>1183.0</td>\n",
              "      <td>1130.0</td>\n",
              "      <td>18.67</td>\n",
              "      <td>12.54</td>\n",
              "      <td>10.45</td>\n",
              "      <td>-8.23</td>\n",
              "    </tr>\n",
              "    <tr>\n",
              "      <th>Return on Assets %</th>\n",
              "      <td>-1.28</td>\n",
              "      <td>4.82</td>\n",
              "      <td>11.40</td>\n",
              "      <td>1093.0</td>\n",
              "      <td>1163.0</td>\n",
              "      <td>1167.0</td>\n",
              "      <td>17.54</td>\n",
              "      <td>12.41</td>\n",
              "      <td>9.95</td>\n",
              "      <td>-7.59</td>\n",
              "    </tr>\n",
              "    <tr>\n",
              "      <th>Dividends USD</th>\n",
              "      <td>0.56</td>\n",
              "      <td>1.36</td>\n",
              "      <td>3.00</td>\n",
              "      <td>719.0</td>\n",
              "      <td>725.0</td>\n",
              "      <td>669.0</td>\n",
              "      <td>13.31</td>\n",
              "      <td>9.14</td>\n",
              "      <td>6.58</td>\n",
              "      <td>-6.73</td>\n",
              "    </tr>\n",
              "    <tr>\n",
              "      <th>Return on Invested Capital %</th>\n",
              "      <td>1.00</td>\n",
              "      <td>9.20</td>\n",
              "      <td>19.01</td>\n",
              "      <td>830.0</td>\n",
              "      <td>910.0</td>\n",
              "      <td>928.0</td>\n",
              "      <td>15.74</td>\n",
              "      <td>9.98</td>\n",
              "      <td>9.27</td>\n",
              "      <td>-6.47</td>\n",
              "    </tr>\n",
              "    <tr>\n",
              "      <th>Net Int Inc &amp; Other</th>\n",
              "      <td>-13.34</td>\n",
              "      <td>-0.80</td>\n",
              "      <td>9.57</td>\n",
              "      <td>1110.0</td>\n",
              "      <td>1151.0</td>\n",
              "      <td>1172.0</td>\n",
              "      <td>17.28</td>\n",
              "      <td>13.66</td>\n",
              "      <td>11.07</td>\n",
              "      <td>-6.21</td>\n",
              "    </tr>\n",
              "    <tr>\n",
              "      <th>Days Inventory</th>\n",
              "      <td>21.35</td>\n",
              "      <td>58.52</td>\n",
              "      <td>132.26</td>\n",
              "      <td>725.0</td>\n",
              "      <td>731.0</td>\n",
              "      <td>697.0</td>\n",
              "      <td>15.06</td>\n",
              "      <td>15.60</td>\n",
              "      <td>8.93</td>\n",
              "      <td>-6.13</td>\n",
              "    </tr>\n",
              "    <tr>\n",
              "      <th>Return on Equity %</th>\n",
              "      <td>-1.55</td>\n",
              "      <td>13.51</td>\n",
              "      <td>34.92</td>\n",
              "      <td>976.0</td>\n",
              "      <td>1044.0</td>\n",
              "      <td>1053.0</td>\n",
              "      <td>15.98</td>\n",
              "      <td>9.68</td>\n",
              "      <td>10.36</td>\n",
              "      <td>-5.62</td>\n",
              "    </tr>\n",
              "    <tr>\n",
              "      <th>Payables Period</th>\n",
              "      <td>24.09</td>\n",
              "      <td>49.22</td>\n",
              "      <td>129.42</td>\n",
              "      <td>947.0</td>\n",
              "      <td>933.0</td>\n",
              "      <td>897.0</td>\n",
              "      <td>13.76</td>\n",
              "      <td>15.99</td>\n",
              "      <td>8.59</td>\n",
              "      <td>-5.17</td>\n",
              "    </tr>\n",
              "    <tr>\n",
              "      <th>Gross Margin</th>\n",
              "      <td>24.19</td>\n",
              "      <td>42.30</td>\n",
              "      <td>63.29</td>\n",
              "      <td>1009.0</td>\n",
              "      <td>1013.0</td>\n",
              "      <td>1018.0</td>\n",
              "      <td>16.31</td>\n",
              "      <td>11.88</td>\n",
              "      <td>11.39</td>\n",
              "      <td>-4.91</td>\n",
              "    </tr>\n",
              "    <tr>\n",
              "      <th>Gross Margin %</th>\n",
              "      <td>24.17</td>\n",
              "      <td>42.23</td>\n",
              "      <td>63.42</td>\n",
              "      <td>1003.0</td>\n",
              "      <td>1026.0</td>\n",
              "      <td>1011.0</td>\n",
              "      <td>16.25</td>\n",
              "      <td>11.94</td>\n",
              "      <td>11.42</td>\n",
              "      <td>-4.83</td>\n",
              "    </tr>\n",
              "    <tr>\n",
              "      <th>Intangibles</th>\n",
              "      <td>8.05</td>\n",
              "      <td>23.65</td>\n",
              "      <td>50.60</td>\n",
              "      <td>933.0</td>\n",
              "      <td>938.0</td>\n",
              "      <td>932.0</td>\n",
              "      <td>15.83</td>\n",
              "      <td>11.63</td>\n",
              "      <td>11.58</td>\n",
              "      <td>-4.25</td>\n",
              "    </tr>\n",
              "    <tr>\n",
              "      <th>Book Value Per Share * USD</th>\n",
              "      <td>3.86</td>\n",
              "      <td>20.37</td>\n",
              "      <td>63.29</td>\n",
              "      <td>1110.0</td>\n",
              "      <td>1119.0</td>\n",
              "      <td>1076.0</td>\n",
              "      <td>17.73</td>\n",
              "      <td>9.33</td>\n",
              "      <td>13.54</td>\n",
              "      <td>-4.19</td>\n",
              "    </tr>\n",
              "    <tr>\n",
              "      <th>Days Sales Outstanding</th>\n",
              "      <td>24.84</td>\n",
              "      <td>46.13</td>\n",
              "      <td>82.98</td>\n",
              "      <td>1004.0</td>\n",
              "      <td>991.0</td>\n",
              "      <td>951.0</td>\n",
              "      <td>15.54</td>\n",
              "      <td>11.81</td>\n",
              "      <td>11.37</td>\n",
              "      <td>-4.17</td>\n",
              "    </tr>\n",
              "    <tr>\n",
              "      <th>Revenue USD Mil</th>\n",
              "      <td>2752.25</td>\n",
              "      <td>8120.09</td>\n",
              "      <td>40368.38</td>\n",
              "      <td>1173.0</td>\n",
              "      <td>1151.0</td>\n",
              "      <td>1167.0</td>\n",
              "      <td>16.42</td>\n",
              "      <td>12.86</td>\n",
              "      <td>12.56</td>\n",
              "      <td>-3.86</td>\n",
              "    </tr>\n",
              "    <tr>\n",
              "      <th>Free Cash Flow/Net Income</th>\n",
              "      <td>-2.50</td>\n",
              "      <td>0.90</td>\n",
              "      <td>4.30</td>\n",
              "      <td>1151.0</td>\n",
              "      <td>1180.0</td>\n",
              "      <td>1139.0</td>\n",
              "      <td>16.24</td>\n",
              "      <td>13.28</td>\n",
              "      <td>12.60</td>\n",
              "      <td>-3.64</td>\n",
              "    </tr>\n",
              "    <tr>\n",
              "      <th>Other</th>\n",
              "      <td>-7.34</td>\n",
              "      <td>3.12</td>\n",
              "      <td>20.52</td>\n",
              "      <td>699.0</td>\n",
              "      <td>706.0</td>\n",
              "      <td>674.0</td>\n",
              "      <td>14.83</td>\n",
              "      <td>11.21</td>\n",
              "      <td>11.19</td>\n",
              "      <td>-3.64</td>\n",
              "    </tr>\n",
              "    <tr>\n",
              "      <th>Cap Ex as a % of Sales</th>\n",
              "      <td>3.04</td>\n",
              "      <td>6.79</td>\n",
              "      <td>26.51</td>\n",
              "      <td>1056.0</td>\n",
              "      <td>1108.0</td>\n",
              "      <td>1072.0</td>\n",
              "      <td>16.47</td>\n",
              "      <td>12.28</td>\n",
              "      <td>12.91</td>\n",
              "      <td>-3.56</td>\n",
              "    </tr>\n",
              "    <tr>\n",
              "      <th>Taxes Payable</th>\n",
              "      <td>0.31</td>\n",
              "      <td>0.86</td>\n",
              "      <td>2.42</td>\n",
              "      <td>445.0</td>\n",
              "      <td>466.0</td>\n",
              "      <td>455.0</td>\n",
              "      <td>12.29</td>\n",
              "      <td>14.17</td>\n",
              "      <td>9.81</td>\n",
              "      <td>-2.48</td>\n",
              "    </tr>\n",
              "    <tr>\n",
              "      <th>Payout Ratio % *</th>\n",
              "      <td>27.78</td>\n",
              "      <td>45.92</td>\n",
              "      <td>93.71</td>\n",
              "      <td>460.0</td>\n",
              "      <td>459.0</td>\n",
              "      <td>427.0</td>\n",
              "      <td>11.73</td>\n",
              "      <td>13.03</td>\n",
              "      <td>9.30</td>\n",
              "      <td>-2.43</td>\n",
              "    </tr>\n",
              "    <tr>\n",
              "      <th>Cash Conversion Cycle</th>\n",
              "      <td>-3.74</td>\n",
              "      <td>51.92</td>\n",
              "      <td>126.25</td>\n",
              "      <td>709.0</td>\n",
              "      <td>719.0</td>\n",
              "      <td>707.0</td>\n",
              "      <td>10.61</td>\n",
              "      <td>20.16</td>\n",
              "      <td>8.65</td>\n",
              "      <td>-1.96</td>\n",
              "    </tr>\n",
              "    <tr>\n",
              "      <th>Other Long-Term Liabilities</th>\n",
              "      <td>1.03</td>\n",
              "      <td>10.67</td>\n",
              "      <td>22.83</td>\n",
              "      <td>1148.0</td>\n",
              "      <td>1135.0</td>\n",
              "      <td>1113.0</td>\n",
              "      <td>16.46</td>\n",
              "      <td>10.69</td>\n",
              "      <td>14.55</td>\n",
              "      <td>-1.91</td>\n",
              "    </tr>\n",
              "    <tr>\n",
              "      <th>Quick Ratio</th>\n",
              "      <td>0.52</td>\n",
              "      <td>0.97</td>\n",
              "      <td>2.37</td>\n",
              "      <td>1009.0</td>\n",
              "      <td>1022.0</td>\n",
              "      <td>1005.0</td>\n",
              "      <td>13.81</td>\n",
              "      <td>12.41</td>\n",
              "      <td>12.81</td>\n",
              "      <td>-1.00</td>\n",
              "    </tr>\n",
              "    <tr>\n",
              "      <th>Cash &amp; Short-Term Investments</th>\n",
              "      <td>2.55</td>\n",
              "      <td>10.18</td>\n",
              "      <td>28.05</td>\n",
              "      <td>1173.0</td>\n",
              "      <td>1149.0</td>\n",
              "      <td>1132.0</td>\n",
              "      <td>14.36</td>\n",
              "      <td>14.18</td>\n",
              "      <td>13.54</td>\n",
              "      <td>-0.81</td>\n",
              "    </tr>\n",
              "    <tr>\n",
              "      <th>SG&amp;A</th>\n",
              "      <td>8.16</td>\n",
              "      <td>17.73</td>\n",
              "      <td>34.43</td>\n",
              "      <td>1016.0</td>\n",
              "      <td>1030.0</td>\n",
              "      <td>1033.0</td>\n",
              "      <td>14.03</td>\n",
              "      <td>15.66</td>\n",
              "      <td>13.67</td>\n",
              "      <td>-0.36</td>\n",
              "    </tr>\n",
              "    <tr>\n",
              "      <th>Accounts Receivable</th>\n",
              "      <td>3.62</td>\n",
              "      <td>8.71</td>\n",
              "      <td>18.66</td>\n",
              "      <td>1096.0</td>\n",
              "      <td>1103.0</td>\n",
              "      <td>1143.0</td>\n",
              "      <td>12.84</td>\n",
              "      <td>15.74</td>\n",
              "      <td>12.50</td>\n",
              "      <td>-0.34</td>\n",
              "    </tr>\n",
              "    <tr>\n",
              "      <th>Short-Term Debt</th>\n",
              "      <td>0.71</td>\n",
              "      <td>2.47</td>\n",
              "      <td>9.17</td>\n",
              "      <td>625.0</td>\n",
              "      <td>632.0</td>\n",
              "      <td>661.0</td>\n",
              "      <td>10.32</td>\n",
              "      <td>12.56</td>\n",
              "      <td>10.58</td>\n",
              "      <td>0.26</td>\n",
              "    </tr>\n",
              "    <tr>\n",
              "      <th>Other Long-Term Assets</th>\n",
              "      <td>0.58</td>\n",
              "      <td>10.59</td>\n",
              "      <td>26.18</td>\n",
              "      <td>1162.0</td>\n",
              "      <td>1125.0</td>\n",
              "      <td>1126.0</td>\n",
              "      <td>12.29</td>\n",
              "      <td>15.05</td>\n",
              "      <td>12.57</td>\n",
              "      <td>0.28</td>\n",
              "    </tr>\n",
              "    <tr>\n",
              "      <th>Current Ratio</th>\n",
              "      <td>0.87</td>\n",
              "      <td>1.44</td>\n",
              "      <td>3.02</td>\n",
              "      <td>998.0</td>\n",
              "      <td>1020.0</td>\n",
              "      <td>1018.0</td>\n",
              "      <td>11.99</td>\n",
              "      <td>14.14</td>\n",
              "      <td>12.86</td>\n",
              "      <td>0.88</td>\n",
              "    </tr>\n",
              "    <tr>\n",
              "      <th>Fixed Assets Turnover</th>\n",
              "      <td>1.81</td>\n",
              "      <td>4.93</td>\n",
              "      <td>23.14</td>\n",
              "      <td>995.0</td>\n",
              "      <td>1063.0</td>\n",
              "      <td>1103.0</td>\n",
              "      <td>12.36</td>\n",
              "      <td>14.16</td>\n",
              "      <td>14.58</td>\n",
              "      <td>2.21</td>\n",
              "    </tr>\n",
              "    <tr>\n",
              "      <th>Financial Leverage (Average)</th>\n",
              "      <td>2.02</td>\n",
              "      <td>3.41</td>\n",
              "      <td>7.30</td>\n",
              "      <td>1007.0</td>\n",
              "      <td>1033.0</td>\n",
              "      <td>988.0</td>\n",
              "      <td>10.55</td>\n",
              "      <td>12.20</td>\n",
              "      <td>12.86</td>\n",
              "      <td>2.31</td>\n",
              "    </tr>\n",
              "    <tr>\n",
              "      <th>Financial Leverage</th>\n",
              "      <td>2.02</td>\n",
              "      <td>3.41</td>\n",
              "      <td>7.30</td>\n",
              "      <td>1007.0</td>\n",
              "      <td>1033.0</td>\n",
              "      <td>988.0</td>\n",
              "      <td>10.55</td>\n",
              "      <td>12.20</td>\n",
              "      <td>12.86</td>\n",
              "      <td>2.31</td>\n",
              "    </tr>\n",
              "    <tr>\n",
              "      <th>Long-Term Debt</th>\n",
              "      <td>14.72</td>\n",
              "      <td>27.88</td>\n",
              "      <td>49.11</td>\n",
              "      <td>1045.0</td>\n",
              "      <td>1034.0</td>\n",
              "      <td>1002.0</td>\n",
              "      <td>13.93</td>\n",
              "      <td>8.26</td>\n",
              "      <td>16.52</td>\n",
              "      <td>2.58</td>\n",
              "    </tr>\n",
              "    <tr>\n",
              "      <th>Inventory</th>\n",
              "      <td>1.76</td>\n",
              "      <td>6.15</td>\n",
              "      <td>17.21</td>\n",
              "      <td>723.0</td>\n",
              "      <td>725.0</td>\n",
              "      <td>750.0</td>\n",
              "      <td>12.55</td>\n",
              "      <td>12.24</td>\n",
              "      <td>15.16</td>\n",
              "      <td>2.61</td>\n",
              "    </tr>\n",
              "    <tr>\n",
              "      <th>Debt/Equity</th>\n",
              "      <td>0.37</td>\n",
              "      <td>0.76</td>\n",
              "      <td>2.21</td>\n",
              "      <td>897.0</td>\n",
              "      <td>930.0</td>\n",
              "      <td>862.0</td>\n",
              "      <td>10.08</td>\n",
              "      <td>10.91</td>\n",
              "      <td>12.75</td>\n",
              "      <td>2.67</td>\n",
              "    </tr>\n",
              "    <tr>\n",
              "      <th>Other Short-Term Liabilities</th>\n",
              "      <td>-0.52</td>\n",
              "      <td>4.06</td>\n",
              "      <td>13.99</td>\n",
              "      <td>955.0</td>\n",
              "      <td>946.0</td>\n",
              "      <td>952.0</td>\n",
              "      <td>12.49</td>\n",
              "      <td>13.89</td>\n",
              "      <td>15.43</td>\n",
              "      <td>2.94</td>\n",
              "    </tr>\n",
              "    <tr>\n",
              "      <th>Net PP&amp;E</th>\n",
              "      <td>11.04</td>\n",
              "      <td>22.90</td>\n",
              "      <td>48.52</td>\n",
              "      <td>1075.0</td>\n",
              "      <td>1065.0</td>\n",
              "      <td>1048.0</td>\n",
              "      <td>11.79</td>\n",
              "      <td>14.51</td>\n",
              "      <td>15.11</td>\n",
              "      <td>3.32</td>\n",
              "    </tr>\n",
              "    <tr>\n",
              "      <th>Accrued Liabilities</th>\n",
              "      <td>1.60</td>\n",
              "      <td>3.83</td>\n",
              "      <td>8.69</td>\n",
              "      <td>807.0</td>\n",
              "      <td>813.0</td>\n",
              "      <td>808.0</td>\n",
              "      <td>12.88</td>\n",
              "      <td>12.28</td>\n",
              "      <td>16.40</td>\n",
              "      <td>3.52</td>\n",
              "    </tr>\n",
              "    <tr>\n",
              "      <th>Accounts Payable</th>\n",
              "      <td>1.67</td>\n",
              "      <td>4.70</td>\n",
              "      <td>13.31</td>\n",
              "      <td>986.0</td>\n",
              "      <td>1009.0</td>\n",
              "      <td>1021.0</td>\n",
              "      <td>12.18</td>\n",
              "      <td>13.42</td>\n",
              "      <td>15.80</td>\n",
              "      <td>3.62</td>\n",
              "    </tr>\n",
              "    <tr>\n",
              "      <th>Other Current Assets</th>\n",
              "      <td>-9.69</td>\n",
              "      <td>-0.84</td>\n",
              "      <td>6.97</td>\n",
              "      <td>1072.0</td>\n",
              "      <td>1124.0</td>\n",
              "      <td>1146.0</td>\n",
              "      <td>12.23</td>\n",
              "      <td>12.96</td>\n",
              "      <td>16.30</td>\n",
              "      <td>4.07</td>\n",
              "    </tr>\n",
              "    <tr>\n",
              "      <th>Receivables Turnover</th>\n",
              "      <td>5.11</td>\n",
              "      <td>8.40</td>\n",
              "      <td>29.01</td>\n",
              "      <td>945.0</td>\n",
              "      <td>994.0</td>\n",
              "      <td>1007.0</td>\n",
              "      <td>11.29</td>\n",
              "      <td>11.79</td>\n",
              "      <td>15.62</td>\n",
              "      <td>4.33</td>\n",
              "    </tr>\n",
              "    <tr>\n",
              "      <th>Total Current Liabilities</th>\n",
              "      <td>9.77</td>\n",
              "      <td>17.93</td>\n",
              "      <td>33.36</td>\n",
              "      <td>1011.0</td>\n",
              "      <td>1004.0</td>\n",
              "      <td>1039.0</td>\n",
              "      <td>11.80</td>\n",
              "      <td>10.98</td>\n",
              "      <td>16.37</td>\n",
              "      <td>4.56</td>\n",
              "    </tr>\n",
              "    <tr>\n",
              "      <th>R&amp;D</th>\n",
              "      <td>4.79</td>\n",
              "      <td>9.49</td>\n",
              "      <td>29.49</td>\n",
              "      <td>264.0</td>\n",
              "      <td>269.0</td>\n",
              "      <td>263.0</td>\n",
              "      <td>14.51</td>\n",
              "      <td>17.86</td>\n",
              "      <td>19.67</td>\n",
              "      <td>5.16</td>\n",
              "    </tr>\n",
              "    <tr>\n",
              "      <th>Tax Rate %</th>\n",
              "      <td>16.20</td>\n",
              "      <td>26.32</td>\n",
              "      <td>41.52</td>\n",
              "      <td>378.0</td>\n",
              "      <td>430.0</td>\n",
              "      <td>463.0</td>\n",
              "      <td>11.92</td>\n",
              "      <td>11.41</td>\n",
              "      <td>17.12</td>\n",
              "      <td>5.20</td>\n",
              "    </tr>\n",
              "    <tr>\n",
              "      <th>COGS</th>\n",
              "      <td>37.66</td>\n",
              "      <td>58.16</td>\n",
              "      <td>76.00</td>\n",
              "      <td>986.0</td>\n",
              "      <td>991.0</td>\n",
              "      <td>986.0</td>\n",
              "      <td>10.98</td>\n",
              "      <td>11.40</td>\n",
              "      <td>16.91</td>\n",
              "      <td>5.94</td>\n",
              "    </tr>\n",
              "    <tr>\n",
              "      <th>Inventory Turnover</th>\n",
              "      <td>3.75</td>\n",
              "      <td>7.50</td>\n",
              "      <td>45.81</td>\n",
              "      <td>694.0</td>\n",
              "      <td>732.0</td>\n",
              "      <td>727.0</td>\n",
              "      <td>9.00</td>\n",
              "      <td>15.37</td>\n",
              "      <td>15.20</td>\n",
              "      <td>6.20</td>\n",
              "    </tr>\n",
              "    <tr>\n",
              "      <th>Total Current Assets</th>\n",
              "      <td>13.63</td>\n",
              "      <td>29.89</td>\n",
              "      <td>51.33</td>\n",
              "      <td>1004.0</td>\n",
              "      <td>1005.0</td>\n",
              "      <td>1045.0</td>\n",
              "      <td>8.89</td>\n",
              "      <td>14.77</td>\n",
              "      <td>15.50</td>\n",
              "      <td>6.61</td>\n",
              "    </tr>\n",
              "    <tr>\n",
              "      <th>Asset Turnover (Average)</th>\n",
              "      <td>0.28</td>\n",
              "      <td>0.54</td>\n",
              "      <td>1.23</td>\n",
              "      <td>1052.0</td>\n",
              "      <td>1223.0</td>\n",
              "      <td>1166.0</td>\n",
              "      <td>9.97</td>\n",
              "      <td>12.32</td>\n",
              "      <td>17.11</td>\n",
              "      <td>7.14</td>\n",
              "    </tr>\n",
              "    <tr>\n",
              "      <th>Asset Turnover</th>\n",
              "      <td>0.28</td>\n",
              "      <td>0.54</td>\n",
              "      <td>1.23</td>\n",
              "      <td>1052.0</td>\n",
              "      <td>1223.0</td>\n",
              "      <td>1166.0</td>\n",
              "      <td>9.97</td>\n",
              "      <td>12.32</td>\n",
              "      <td>17.11</td>\n",
              "      <td>7.14</td>\n",
              "    </tr>\n",
              "    <tr>\n",
              "      <th>Cap Spending USD Mil</th>\n",
              "      <td>-3462.51</td>\n",
              "      <td>-641.81</td>\n",
              "      <td>-204.83</td>\n",
              "      <td>1065.0</td>\n",
              "      <td>1074.0</td>\n",
              "      <td>1073.0</td>\n",
              "      <td>10.52</td>\n",
              "      <td>12.61</td>\n",
              "      <td>18.27</td>\n",
              "      <td>7.75</td>\n",
              "    </tr>\n",
              "    <tr>\n",
              "      <th>Total Liabilities</th>\n",
              "      <td>45.66</td>\n",
              "      <td>67.04</td>\n",
              "      <td>89.97</td>\n",
              "      <td>1173.0</td>\n",
              "      <td>1176.0</td>\n",
              "      <td>1146.0</td>\n",
              "      <td>10.20</td>\n",
              "      <td>12.69</td>\n",
              "      <td>18.83</td>\n",
              "      <td>8.63</td>\n",
              "    </tr>\n",
              "  </tbody>\n",
              "</table>\n",
              "</div>"
            ]
          },
          "metadata": {
            "tags": []
          },
          "execution_count": 192
        }
      ]
    },
    {
      "cell_type": "code",
      "metadata": {
        "colab": {
          "base_uri": "https://localhost:8080/",
          "height": 1000
        },
        "id": "C3xhwoDDBNAz",
        "outputId": "7b5845e3-b8b2-4390-808f-6bcdbbb263af"
      },
      "source": [
        "for i in merg.columns[2:100][:]:\n",
        "  display(i, \\\n",
        "          result_all[(result_all['Days Inventory_L'] == 0.1)&(result_all[str(i) + '_L'] == 0.2)]['%ad_1'].agg(['mean']).round(2) - \\\n",
        "          result_all[(result_all['Days Inventory_L'] == 0.2)&(result_all[str(i) + '_L'] == 0.15)]['%ad_1'].agg(['mean']).round(2),\\\n",
        "          # result_all[(result_all['Days Inventory_L'] == 0.1)&(result_all[str(i) + '_L'] == 0.15)]['%ad_1'].agg(['mean']).round(2)\n",
        "          )"
      ],
      "execution_count": 216,
      "outputs": [
        {
          "output_type": "display_data",
          "data": {
            "text/plain": [
              "'Accounts Payable'"
            ]
          },
          "metadata": {
            "tags": []
          }
        },
        {
          "output_type": "display_data",
          "data": {
            "text/plain": [
              "mean    6.28\n",
              "Name: %ad_1, dtype: float64"
            ]
          },
          "metadata": {
            "tags": []
          }
        },
        {
          "output_type": "display_data",
          "data": {
            "text/plain": [
              "'Accounts Receivable'"
            ]
          },
          "metadata": {
            "tags": []
          }
        },
        {
          "output_type": "display_data",
          "data": {
            "text/plain": [
              "mean    4.21\n",
              "Name: %ad_1, dtype: float64"
            ]
          },
          "metadata": {
            "tags": []
          }
        },
        {
          "output_type": "display_data",
          "data": {
            "text/plain": [
              "'Accrued Liabilities'"
            ]
          },
          "metadata": {
            "tags": []
          }
        },
        {
          "output_type": "display_data",
          "data": {
            "text/plain": [
              "mean    11.47\n",
              "Name: %ad_1, dtype: float64"
            ]
          },
          "metadata": {
            "tags": []
          }
        },
        {
          "output_type": "display_data",
          "data": {
            "text/plain": [
              "'Asset Turnover'"
            ]
          },
          "metadata": {
            "tags": []
          }
        },
        {
          "output_type": "display_data",
          "data": {
            "text/plain": [
              "mean    7.22\n",
              "Name: %ad_1, dtype: float64"
            ]
          },
          "metadata": {
            "tags": []
          }
        },
        {
          "output_type": "display_data",
          "data": {
            "text/plain": [
              "'Asset Turnover (Average)'"
            ]
          },
          "metadata": {
            "tags": []
          }
        },
        {
          "output_type": "display_data",
          "data": {
            "text/plain": [
              "mean    7.22\n",
              "Name: %ad_1, dtype: float64"
            ]
          },
          "metadata": {
            "tags": []
          }
        },
        {
          "output_type": "display_data",
          "data": {
            "text/plain": [
              "'Book Value Per Share * AUD'"
            ]
          },
          "metadata": {
            "tags": []
          }
        },
        {
          "output_type": "display_data",
          "data": {
            "text/plain": [
              "mean   NaN\n",
              "Name: %ad_1, dtype: float64"
            ]
          },
          "metadata": {
            "tags": []
          }
        },
        {
          "output_type": "display_data",
          "data": {
            "text/plain": [
              "'Book Value Per Share * EUR'"
            ]
          },
          "metadata": {
            "tags": []
          }
        },
        {
          "output_type": "display_data",
          "data": {
            "text/plain": [
              "mean   NaN\n",
              "Name: %ad_1, dtype: float64"
            ]
          },
          "metadata": {
            "tags": []
          }
        },
        {
          "output_type": "display_data",
          "data": {
            "text/plain": [
              "'Book Value Per Share * RUB'"
            ]
          },
          "metadata": {
            "tags": []
          }
        },
        {
          "output_type": "display_data",
          "data": {
            "text/plain": [
              "mean   NaN\n",
              "Name: %ad_1, dtype: float64"
            ]
          },
          "metadata": {
            "tags": []
          }
        },
        {
          "output_type": "display_data",
          "data": {
            "text/plain": [
              "'Book Value Per Share * THB'"
            ]
          },
          "metadata": {
            "tags": []
          }
        },
        {
          "output_type": "display_data",
          "data": {
            "text/plain": [
              "mean   NaN\n",
              "Name: %ad_1, dtype: float64"
            ]
          },
          "metadata": {
            "tags": []
          }
        },
        {
          "output_type": "display_data",
          "data": {
            "text/plain": [
              "'Book Value Per Share * USD'"
            ]
          },
          "metadata": {
            "tags": []
          }
        },
        {
          "output_type": "display_data",
          "data": {
            "text/plain": [
              "mean    0.7\n",
              "Name: %ad_1, dtype: float64"
            ]
          },
          "metadata": {
            "tags": []
          }
        },
        {
          "output_type": "display_data",
          "data": {
            "text/plain": [
              "'COGS'"
            ]
          },
          "metadata": {
            "tags": []
          }
        },
        {
          "output_type": "display_data",
          "data": {
            "text/plain": [
              "mean    4.22\n",
              "Name: %ad_1, dtype: float64"
            ]
          },
          "metadata": {
            "tags": []
          }
        },
        {
          "output_type": "display_data",
          "data": {
            "text/plain": [
              "'Cap Ex as a % of Sales'"
            ]
          },
          "metadata": {
            "tags": []
          }
        },
        {
          "output_type": "display_data",
          "data": {
            "text/plain": [
              "mean   -3.07\n",
              "Name: %ad_1, dtype: float64"
            ]
          },
          "metadata": {
            "tags": []
          }
        },
        {
          "output_type": "display_data",
          "data": {
            "text/plain": [
              "'Cap Spending AUD Mil'"
            ]
          },
          "metadata": {
            "tags": []
          }
        },
        {
          "output_type": "display_data",
          "data": {
            "text/plain": [
              "mean   NaN\n",
              "Name: %ad_1, dtype: float64"
            ]
          },
          "metadata": {
            "tags": []
          }
        },
        {
          "output_type": "display_data",
          "data": {
            "text/plain": [
              "'Cap Spending EUR Mil'"
            ]
          },
          "metadata": {
            "tags": []
          }
        },
        {
          "output_type": "display_data",
          "data": {
            "text/plain": [
              "mean   -18.02\n",
              "Name: %ad_1, dtype: float64"
            ]
          },
          "metadata": {
            "tags": []
          }
        },
        {
          "output_type": "display_data",
          "data": {
            "text/plain": [
              "'Cap Spending RUB Mil'"
            ]
          },
          "metadata": {
            "tags": []
          }
        },
        {
          "output_type": "display_data",
          "data": {
            "text/plain": [
              "mean   NaN\n",
              "Name: %ad_1, dtype: float64"
            ]
          },
          "metadata": {
            "tags": []
          }
        },
        {
          "output_type": "display_data",
          "data": {
            "text/plain": [
              "'Cap Spending THB Mil'"
            ]
          },
          "metadata": {
            "tags": []
          }
        },
        {
          "output_type": "display_data",
          "data": {
            "text/plain": [
              "mean   NaN\n",
              "Name: %ad_1, dtype: float64"
            ]
          },
          "metadata": {
            "tags": []
          }
        },
        {
          "output_type": "display_data",
          "data": {
            "text/plain": [
              "'Cap Spending USD Mil'"
            ]
          },
          "metadata": {
            "tags": []
          }
        },
        {
          "output_type": "display_data",
          "data": {
            "text/plain": [
              "mean    14.15\n",
              "Name: %ad_1, dtype: float64"
            ]
          },
          "metadata": {
            "tags": []
          }
        },
        {
          "output_type": "display_data",
          "data": {
            "text/plain": [
              "'Cash & Short-Term Investments'"
            ]
          },
          "metadata": {
            "tags": []
          }
        },
        {
          "output_type": "display_data",
          "data": {
            "text/plain": [
              "mean    5.86\n",
              "Name: %ad_1, dtype: float64"
            ]
          },
          "metadata": {
            "tags": []
          }
        },
        {
          "output_type": "display_data",
          "data": {
            "text/plain": [
              "'Cash Conversion Cycle'"
            ]
          },
          "metadata": {
            "tags": []
          }
        },
        {
          "output_type": "display_data",
          "data": {
            "text/plain": [
              "mean   -13.82\n",
              "Name: %ad_1, dtype: float64"
            ]
          },
          "metadata": {
            "tags": []
          }
        },
        {
          "output_type": "display_data",
          "data": {
            "text/plain": [
              "'Current Ratio'"
            ]
          },
          "metadata": {
            "tags": []
          }
        },
        {
          "output_type": "display_data",
          "data": {
            "text/plain": [
              "mean    3.02\n",
              "Name: %ad_1, dtype: float64"
            ]
          },
          "metadata": {
            "tags": []
          }
        },
        {
          "output_type": "display_data",
          "data": {
            "text/plain": [
              "'Days Inventory'"
            ]
          },
          "metadata": {
            "tags": []
          }
        },
        {
          "output_type": "display_data",
          "data": {
            "text/plain": [
              "mean   NaN\n",
              "Name: %ad_1, dtype: float64"
            ]
          },
          "metadata": {
            "tags": []
          }
        },
        {
          "output_type": "display_data",
          "data": {
            "text/plain": [
              "'Days Sales Outstanding'"
            ]
          },
          "metadata": {
            "tags": []
          }
        },
        {
          "output_type": "display_data",
          "data": {
            "text/plain": [
              "mean    2.31\n",
              "Name: %ad_1, dtype: float64"
            ]
          },
          "metadata": {
            "tags": []
          }
        },
        {
          "output_type": "display_data",
          "data": {
            "text/plain": [
              "'Debt/Equity'"
            ]
          },
          "metadata": {
            "tags": []
          }
        },
        {
          "output_type": "display_data",
          "data": {
            "text/plain": [
              "mean    1.34\n",
              "Name: %ad_1, dtype: float64"
            ]
          },
          "metadata": {
            "tags": []
          }
        },
        {
          "output_type": "display_data",
          "data": {
            "text/plain": [
              "'Dividends EUR'"
            ]
          },
          "metadata": {
            "tags": []
          }
        },
        {
          "output_type": "display_data",
          "data": {
            "text/plain": [
              "mean    18.86\n",
              "Name: %ad_1, dtype: float64"
            ]
          },
          "metadata": {
            "tags": []
          }
        },
        {
          "output_type": "display_data",
          "data": {
            "text/plain": [
              "'Dividends THB'"
            ]
          },
          "metadata": {
            "tags": []
          }
        },
        {
          "output_type": "display_data",
          "data": {
            "text/plain": [
              "mean   NaN\n",
              "Name: %ad_1, dtype: float64"
            ]
          },
          "metadata": {
            "tags": []
          }
        },
        {
          "output_type": "display_data",
          "data": {
            "text/plain": [
              "'Dividends USD'"
            ]
          },
          "metadata": {
            "tags": []
          }
        },
        {
          "output_type": "display_data",
          "data": {
            "text/plain": [
              "mean    2.3\n",
              "Name: %ad_1, dtype: float64"
            ]
          },
          "metadata": {
            "tags": []
          }
        },
        {
          "output_type": "display_data",
          "data": {
            "text/plain": [
              "'EBT Margin'"
            ]
          },
          "metadata": {
            "tags": []
          }
        },
        {
          "output_type": "display_data",
          "data": {
            "text/plain": [
              "mean    1.83\n",
              "Name: %ad_1, dtype: float64"
            ]
          },
          "metadata": {
            "tags": []
          }
        },
        {
          "output_type": "display_data",
          "data": {
            "text/plain": [
              "'Earnings Per Share AUD'"
            ]
          },
          "metadata": {
            "tags": []
          }
        },
        {
          "output_type": "display_data",
          "data": {
            "text/plain": [
              "mean   NaN\n",
              "Name: %ad_1, dtype: float64"
            ]
          },
          "metadata": {
            "tags": []
          }
        },
        {
          "output_type": "display_data",
          "data": {
            "text/plain": [
              "'Earnings Per Share EUR'"
            ]
          },
          "metadata": {
            "tags": []
          }
        },
        {
          "output_type": "display_data",
          "data": {
            "text/plain": [
              "mean   -13.91\n",
              "Name: %ad_1, dtype: float64"
            ]
          },
          "metadata": {
            "tags": []
          }
        },
        {
          "output_type": "display_data",
          "data": {
            "text/plain": [
              "'Earnings Per Share RUB'"
            ]
          },
          "metadata": {
            "tags": []
          }
        },
        {
          "output_type": "display_data",
          "data": {
            "text/plain": [
              "mean   NaN\n",
              "Name: %ad_1, dtype: float64"
            ]
          },
          "metadata": {
            "tags": []
          }
        },
        {
          "output_type": "display_data",
          "data": {
            "text/plain": [
              "'Earnings Per Share THB'"
            ]
          },
          "metadata": {
            "tags": []
          }
        },
        {
          "output_type": "display_data",
          "data": {
            "text/plain": [
              "mean   NaN\n",
              "Name: %ad_1, dtype: float64"
            ]
          },
          "metadata": {
            "tags": []
          }
        },
        {
          "output_type": "display_data",
          "data": {
            "text/plain": [
              "'Earnings Per Share USD'"
            ]
          },
          "metadata": {
            "tags": []
          }
        },
        {
          "output_type": "display_data",
          "data": {
            "text/plain": [
              "mean    0.09\n",
              "Name: %ad_1, dtype: float64"
            ]
          },
          "metadata": {
            "tags": []
          }
        },
        {
          "output_type": "display_data",
          "data": {
            "text/plain": [
              "'Financial Leverage'"
            ]
          },
          "metadata": {
            "tags": []
          }
        },
        {
          "output_type": "display_data",
          "data": {
            "text/plain": [
              "mean    1.3\n",
              "Name: %ad_1, dtype: float64"
            ]
          },
          "metadata": {
            "tags": []
          }
        },
        {
          "output_type": "display_data",
          "data": {
            "text/plain": [
              "'Financial Leverage (Average)'"
            ]
          },
          "metadata": {
            "tags": []
          }
        },
        {
          "output_type": "display_data",
          "data": {
            "text/plain": [
              "mean    1.3\n",
              "Name: %ad_1, dtype: float64"
            ]
          },
          "metadata": {
            "tags": []
          }
        },
        {
          "output_type": "display_data",
          "data": {
            "text/plain": [
              "'Fixed Assets Turnover'"
            ]
          },
          "metadata": {
            "tags": []
          }
        },
        {
          "output_type": "display_data",
          "data": {
            "text/plain": [
              "mean    1.11\n",
              "Name: %ad_1, dtype: float64"
            ]
          },
          "metadata": {
            "tags": []
          }
        },
        {
          "output_type": "display_data",
          "data": {
            "text/plain": [
              "'Free Cash Flow AUD Mil'"
            ]
          },
          "metadata": {
            "tags": []
          }
        },
        {
          "output_type": "display_data",
          "data": {
            "text/plain": [
              "mean   NaN\n",
              "Name: %ad_1, dtype: float64"
            ]
          },
          "metadata": {
            "tags": []
          }
        },
        {
          "output_type": "display_data",
          "data": {
            "text/plain": [
              "'Free Cash Flow EUR Mil'"
            ]
          },
          "metadata": {
            "tags": []
          }
        },
        {
          "output_type": "display_data",
          "data": {
            "text/plain": [
              "mean   NaN\n",
              "Name: %ad_1, dtype: float64"
            ]
          },
          "metadata": {
            "tags": []
          }
        },
        {
          "output_type": "display_data",
          "data": {
            "text/plain": [
              "'Free Cash Flow RUB Mil'"
            ]
          },
          "metadata": {
            "tags": []
          }
        },
        {
          "output_type": "display_data",
          "data": {
            "text/plain": [
              "mean   NaN\n",
              "Name: %ad_1, dtype: float64"
            ]
          },
          "metadata": {
            "tags": []
          }
        },
        {
          "output_type": "display_data",
          "data": {
            "text/plain": [
              "'Free Cash Flow THB Mil'"
            ]
          },
          "metadata": {
            "tags": []
          }
        },
        {
          "output_type": "display_data",
          "data": {
            "text/plain": [
              "mean   NaN\n",
              "Name: %ad_1, dtype: float64"
            ]
          },
          "metadata": {
            "tags": []
          }
        },
        {
          "output_type": "display_data",
          "data": {
            "text/plain": [
              "'Free Cash Flow USD Mil'"
            ]
          },
          "metadata": {
            "tags": []
          }
        },
        {
          "output_type": "display_data",
          "data": {
            "text/plain": [
              "mean    3.45\n",
              "Name: %ad_1, dtype: float64"
            ]
          },
          "metadata": {
            "tags": []
          }
        },
        {
          "output_type": "display_data",
          "data": {
            "text/plain": [
              "'Free Cash Flow/Net Income'"
            ]
          },
          "metadata": {
            "tags": []
          }
        },
        {
          "output_type": "display_data",
          "data": {
            "text/plain": [
              "mean    4.27\n",
              "Name: %ad_1, dtype: float64"
            ]
          },
          "metadata": {
            "tags": []
          }
        },
        {
          "output_type": "display_data",
          "data": {
            "text/plain": [
              "'Free Cash Flow/Sales %'"
            ]
          },
          "metadata": {
            "tags": []
          }
        },
        {
          "output_type": "display_data",
          "data": {
            "text/plain": [
              "mean   -0.07\n",
              "Name: %ad_1, dtype: float64"
            ]
          },
          "metadata": {
            "tags": []
          }
        },
        {
          "output_type": "display_data",
          "data": {
            "text/plain": [
              "'Gross Margin'"
            ]
          },
          "metadata": {
            "tags": []
          }
        },
        {
          "output_type": "display_data",
          "data": {
            "text/plain": [
              "mean   -1.47\n",
              "Name: %ad_1, dtype: float64"
            ]
          },
          "metadata": {
            "tags": []
          }
        },
        {
          "output_type": "display_data",
          "data": {
            "text/plain": [
              "'Gross Margin %'"
            ]
          },
          "metadata": {
            "tags": []
          }
        },
        {
          "output_type": "display_data",
          "data": {
            "text/plain": [
              "mean   -1.35\n",
              "Name: %ad_1, dtype: float64"
            ]
          },
          "metadata": {
            "tags": []
          }
        },
        {
          "output_type": "display_data",
          "data": {
            "text/plain": [
              "'Intangibles'"
            ]
          },
          "metadata": {
            "tags": []
          }
        },
        {
          "output_type": "display_data",
          "data": {
            "text/plain": [
              "mean    2.71\n",
              "Name: %ad_1, dtype: float64"
            ]
          },
          "metadata": {
            "tags": []
          }
        },
        {
          "output_type": "display_data",
          "data": {
            "text/plain": [
              "'Interest Coverage'"
            ]
          },
          "metadata": {
            "tags": []
          }
        },
        {
          "output_type": "display_data",
          "data": {
            "text/plain": [
              "mean   -3.65\n",
              "Name: %ad_1, dtype: float64"
            ]
          },
          "metadata": {
            "tags": []
          }
        },
        {
          "output_type": "display_data",
          "data": {
            "text/plain": [
              "'Inventory'"
            ]
          },
          "metadata": {
            "tags": []
          }
        },
        {
          "output_type": "display_data",
          "data": {
            "text/plain": [
              "mean    5.52\n",
              "Name: %ad_1, dtype: float64"
            ]
          },
          "metadata": {
            "tags": []
          }
        },
        {
          "output_type": "display_data",
          "data": {
            "text/plain": [
              "'Inventory Turnover'"
            ]
          },
          "metadata": {
            "tags": []
          }
        },
        {
          "output_type": "display_data",
          "data": {
            "text/plain": [
              "mean    19.21\n",
              "Name: %ad_1, dtype: float64"
            ]
          },
          "metadata": {
            "tags": []
          }
        },
        {
          "output_type": "display_data",
          "data": {
            "text/plain": [
              "'Long-Term Debt'"
            ]
          },
          "metadata": {
            "tags": []
          }
        },
        {
          "output_type": "display_data",
          "data": {
            "text/plain": [
              "mean    0.23\n",
              "Name: %ad_1, dtype: float64"
            ]
          },
          "metadata": {
            "tags": []
          }
        },
        {
          "output_type": "display_data",
          "data": {
            "text/plain": [
              "'Net Income AUD Mil'"
            ]
          },
          "metadata": {
            "tags": []
          }
        },
        {
          "output_type": "display_data",
          "data": {
            "text/plain": [
              "mean   NaN\n",
              "Name: %ad_1, dtype: float64"
            ]
          },
          "metadata": {
            "tags": []
          }
        },
        {
          "output_type": "display_data",
          "data": {
            "text/plain": [
              "'Net Income EUR Mil'"
            ]
          },
          "metadata": {
            "tags": []
          }
        },
        {
          "output_type": "display_data",
          "data": {
            "text/plain": [
              "mean   NaN\n",
              "Name: %ad_1, dtype: float64"
            ]
          },
          "metadata": {
            "tags": []
          }
        },
        {
          "output_type": "display_data",
          "data": {
            "text/plain": [
              "'Net Income RUB Mil'"
            ]
          },
          "metadata": {
            "tags": []
          }
        },
        {
          "output_type": "display_data",
          "data": {
            "text/plain": [
              "mean   NaN\n",
              "Name: %ad_1, dtype: float64"
            ]
          },
          "metadata": {
            "tags": []
          }
        },
        {
          "output_type": "display_data",
          "data": {
            "text/plain": [
              "'Net Income THB Mil'"
            ]
          },
          "metadata": {
            "tags": []
          }
        },
        {
          "output_type": "display_data",
          "data": {
            "text/plain": [
              "mean   NaN\n",
              "Name: %ad_1, dtype: float64"
            ]
          },
          "metadata": {
            "tags": []
          }
        },
        {
          "output_type": "display_data",
          "data": {
            "text/plain": [
              "'Net Income USD Mil'"
            ]
          },
          "metadata": {
            "tags": []
          }
        },
        {
          "output_type": "display_data",
          "data": {
            "text/plain": [
              "mean   -1.8\n",
              "Name: %ad_1, dtype: float64"
            ]
          },
          "metadata": {
            "tags": []
          }
        },
        {
          "output_type": "display_data",
          "data": {
            "text/plain": [
              "'Net Int Inc & Other'"
            ]
          },
          "metadata": {
            "tags": []
          }
        },
        {
          "output_type": "display_data",
          "data": {
            "text/plain": [
              "mean   -0.55\n",
              "Name: %ad_1, dtype: float64"
            ]
          },
          "metadata": {
            "tags": []
          }
        },
        {
          "output_type": "display_data",
          "data": {
            "text/plain": [
              "'Net Margin %'"
            ]
          },
          "metadata": {
            "tags": []
          }
        },
        {
          "output_type": "display_data",
          "data": {
            "text/plain": [
              "mean   -2.62\n",
              "Name: %ad_1, dtype: float64"
            ]
          },
          "metadata": {
            "tags": []
          }
        },
        {
          "output_type": "display_data",
          "data": {
            "text/plain": [
              "'Net PP&E'"
            ]
          },
          "metadata": {
            "tags": []
          }
        },
        {
          "output_type": "display_data",
          "data": {
            "text/plain": [
              "mean   -2.83\n",
              "Name: %ad_1, dtype: float64"
            ]
          },
          "metadata": {
            "tags": []
          }
        },
        {
          "output_type": "display_data",
          "data": {
            "text/plain": [
              "'Operating Cash Flow EUR Mil'"
            ]
          },
          "metadata": {
            "tags": []
          }
        },
        {
          "output_type": "display_data",
          "data": {
            "text/plain": [
              "mean   NaN\n",
              "Name: %ad_1, dtype: float64"
            ]
          },
          "metadata": {
            "tags": []
          }
        },
        {
          "output_type": "display_data",
          "data": {
            "text/plain": [
              "'Operating Cash Flow RUB Mil'"
            ]
          },
          "metadata": {
            "tags": []
          }
        },
        {
          "output_type": "display_data",
          "data": {
            "text/plain": [
              "mean   NaN\n",
              "Name: %ad_1, dtype: float64"
            ]
          },
          "metadata": {
            "tags": []
          }
        },
        {
          "output_type": "display_data",
          "data": {
            "text/plain": [
              "'Operating Cash Flow THB Mil'"
            ]
          },
          "metadata": {
            "tags": []
          }
        },
        {
          "output_type": "display_data",
          "data": {
            "text/plain": [
              "mean   NaN\n",
              "Name: %ad_1, dtype: float64"
            ]
          },
          "metadata": {
            "tags": []
          }
        },
        {
          "output_type": "display_data",
          "data": {
            "text/plain": [
              "'Operating Cash Flow USD Mil'"
            ]
          },
          "metadata": {
            "tags": []
          }
        },
        {
          "output_type": "display_data",
          "data": {
            "text/plain": [
              "mean    5.29\n",
              "Name: %ad_1, dtype: float64"
            ]
          },
          "metadata": {
            "tags": []
          }
        },
        {
          "output_type": "display_data",
          "data": {
            "text/plain": [
              "'Operating Income AUD Mil'"
            ]
          },
          "metadata": {
            "tags": []
          }
        },
        {
          "output_type": "display_data",
          "data": {
            "text/plain": [
              "mean   NaN\n",
              "Name: %ad_1, dtype: float64"
            ]
          },
          "metadata": {
            "tags": []
          }
        },
        {
          "output_type": "display_data",
          "data": {
            "text/plain": [
              "'Operating Income EUR Mil'"
            ]
          },
          "metadata": {
            "tags": []
          }
        },
        {
          "output_type": "display_data",
          "data": {
            "text/plain": [
              "mean   NaN\n",
              "Name: %ad_1, dtype: float64"
            ]
          },
          "metadata": {
            "tags": []
          }
        },
        {
          "output_type": "display_data",
          "data": {
            "text/plain": [
              "'Operating Income RUB Mil'"
            ]
          },
          "metadata": {
            "tags": []
          }
        },
        {
          "output_type": "display_data",
          "data": {
            "text/plain": [
              "mean   NaN\n",
              "Name: %ad_1, dtype: float64"
            ]
          },
          "metadata": {
            "tags": []
          }
        },
        {
          "output_type": "display_data",
          "data": {
            "text/plain": [
              "'Operating Income THB Mil'"
            ]
          },
          "metadata": {
            "tags": []
          }
        },
        {
          "output_type": "display_data",
          "data": {
            "text/plain": [
              "mean   NaN\n",
              "Name: %ad_1, dtype: float64"
            ]
          },
          "metadata": {
            "tags": []
          }
        },
        {
          "output_type": "display_data",
          "data": {
            "text/plain": [
              "'Operating Income USD Mil'"
            ]
          },
          "metadata": {
            "tags": []
          }
        },
        {
          "output_type": "display_data",
          "data": {
            "text/plain": [
              "mean    1.69\n",
              "Name: %ad_1, dtype: float64"
            ]
          },
          "metadata": {
            "tags": []
          }
        },
        {
          "output_type": "display_data",
          "data": {
            "text/plain": [
              "'Operating Margin'"
            ]
          },
          "metadata": {
            "tags": []
          }
        },
        {
          "output_type": "display_data",
          "data": {
            "text/plain": [
              "mean    1.72\n",
              "Name: %ad_1, dtype: float64"
            ]
          },
          "metadata": {
            "tags": []
          }
        },
        {
          "output_type": "display_data",
          "data": {
            "text/plain": [
              "'Operating Margin %'"
            ]
          },
          "metadata": {
            "tags": []
          }
        },
        {
          "output_type": "display_data",
          "data": {
            "text/plain": [
              "mean    1.81\n",
              "Name: %ad_1, dtype: float64"
            ]
          },
          "metadata": {
            "tags": []
          }
        },
        {
          "output_type": "display_data",
          "data": {
            "text/plain": [
              "'Other'"
            ]
          },
          "metadata": {
            "tags": []
          }
        },
        {
          "output_type": "display_data",
          "data": {
            "text/plain": [
              "mean   -2.38\n",
              "Name: %ad_1, dtype: float64"
            ]
          },
          "metadata": {
            "tags": []
          }
        },
        {
          "output_type": "display_data",
          "data": {
            "text/plain": [
              "'Other Current Assets'"
            ]
          },
          "metadata": {
            "tags": []
          }
        },
        {
          "output_type": "display_data",
          "data": {
            "text/plain": [
              "mean    9.23\n",
              "Name: %ad_1, dtype: float64"
            ]
          },
          "metadata": {
            "tags": []
          }
        },
        {
          "output_type": "display_data",
          "data": {
            "text/plain": [
              "'Other Long-Term Assets'"
            ]
          },
          "metadata": {
            "tags": []
          }
        },
        {
          "output_type": "display_data",
          "data": {
            "text/plain": [
              "mean   -2.24\n",
              "Name: %ad_1, dtype: float64"
            ]
          },
          "metadata": {
            "tags": []
          }
        },
        {
          "output_type": "display_data",
          "data": {
            "text/plain": [
              "'Other Long-Term Liabilities'"
            ]
          },
          "metadata": {
            "tags": []
          }
        },
        {
          "output_type": "display_data",
          "data": {
            "text/plain": [
              "mean    3.66\n",
              "Name: %ad_1, dtype: float64"
            ]
          },
          "metadata": {
            "tags": []
          }
        },
        {
          "output_type": "display_data",
          "data": {
            "text/plain": [
              "'Other Short-Term Liabilities'"
            ]
          },
          "metadata": {
            "tags": []
          }
        },
        {
          "output_type": "display_data",
          "data": {
            "text/plain": [
              "mean    4.86\n",
              "Name: %ad_1, dtype: float64"
            ]
          },
          "metadata": {
            "tags": []
          }
        },
        {
          "output_type": "display_data",
          "data": {
            "text/plain": [
              "'Payables Period'"
            ]
          },
          "metadata": {
            "tags": []
          }
        },
        {
          "output_type": "display_data",
          "data": {
            "text/plain": [
              "mean   -0.15\n",
              "Name: %ad_1, dtype: float64"
            ]
          },
          "metadata": {
            "tags": []
          }
        },
        {
          "output_type": "display_data",
          "data": {
            "text/plain": [
              "'Payout Ratio % *'"
            ]
          },
          "metadata": {
            "tags": []
          }
        },
        {
          "output_type": "display_data",
          "data": {
            "text/plain": [
              "mean    2.71\n",
              "Name: %ad_1, dtype: float64"
            ]
          },
          "metadata": {
            "tags": []
          }
        },
        {
          "output_type": "display_data",
          "data": {
            "text/plain": [
              "'Quick Ratio'"
            ]
          },
          "metadata": {
            "tags": []
          }
        },
        {
          "output_type": "display_data",
          "data": {
            "text/plain": [
              "mean   -0.7\n",
              "Name: %ad_1, dtype: float64"
            ]
          },
          "metadata": {
            "tags": []
          }
        },
        {
          "output_type": "display_data",
          "data": {
            "text/plain": [
              "'R&D'"
            ]
          },
          "metadata": {
            "tags": []
          }
        },
        {
          "output_type": "display_data",
          "data": {
            "text/plain": [
              "mean    15.4\n",
              "Name: %ad_1, dtype: float64"
            ]
          },
          "metadata": {
            "tags": []
          }
        },
        {
          "output_type": "display_data",
          "data": {
            "text/plain": [
              "'Receivables Turnover'"
            ]
          },
          "metadata": {
            "tags": []
          }
        },
        {
          "output_type": "display_data",
          "data": {
            "text/plain": [
              "mean    3.75\n",
              "Name: %ad_1, dtype: float64"
            ]
          },
          "metadata": {
            "tags": []
          }
        },
        {
          "output_type": "display_data",
          "data": {
            "text/plain": [
              "'Return on Assets %'"
            ]
          },
          "metadata": {
            "tags": []
          }
        },
        {
          "output_type": "display_data",
          "data": {
            "text/plain": [
              "mean    1.67\n",
              "Name: %ad_1, dtype: float64"
            ]
          },
          "metadata": {
            "tags": []
          }
        },
        {
          "output_type": "display_data",
          "data": {
            "text/plain": [
              "'Return on Equity %'"
            ]
          },
          "metadata": {
            "tags": []
          }
        },
        {
          "output_type": "display_data",
          "data": {
            "text/plain": [
              "mean    3.23\n",
              "Name: %ad_1, dtype: float64"
            ]
          },
          "metadata": {
            "tags": []
          }
        },
        {
          "output_type": "display_data",
          "data": {
            "text/plain": [
              "'Return on Invested Capital %'"
            ]
          },
          "metadata": {
            "tags": []
          }
        },
        {
          "output_type": "display_data",
          "data": {
            "text/plain": [
              "mean    1.24\n",
              "Name: %ad_1, dtype: float64"
            ]
          },
          "metadata": {
            "tags": []
          }
        },
        {
          "output_type": "display_data",
          "data": {
            "text/plain": [
              "'Revenue'"
            ]
          },
          "metadata": {
            "tags": []
          }
        },
        {
          "output_type": "display_data",
          "data": {
            "text/plain": [
              "mean   NaN\n",
              "Name: %ad_1, dtype: float64"
            ]
          },
          "metadata": {
            "tags": []
          }
        },
        {
          "output_type": "display_data",
          "data": {
            "text/plain": [
              "'Revenue AUD Mil'"
            ]
          },
          "metadata": {
            "tags": []
          }
        },
        {
          "output_type": "display_data",
          "data": {
            "text/plain": [
              "mean   NaN\n",
              "Name: %ad_1, dtype: float64"
            ]
          },
          "metadata": {
            "tags": []
          }
        },
        {
          "output_type": "display_data",
          "data": {
            "text/plain": [
              "'Revenue EUR Mil'"
            ]
          },
          "metadata": {
            "tags": []
          }
        },
        {
          "output_type": "display_data",
          "data": {
            "text/plain": [
              "mean   NaN\n",
              "Name: %ad_1, dtype: float64"
            ]
          },
          "metadata": {
            "tags": []
          }
        },
        {
          "output_type": "display_data",
          "data": {
            "text/plain": [
              "'Revenue RUB Mil'"
            ]
          },
          "metadata": {
            "tags": []
          }
        },
        {
          "output_type": "display_data",
          "data": {
            "text/plain": [
              "mean   NaN\n",
              "Name: %ad_1, dtype: float64"
            ]
          },
          "metadata": {
            "tags": []
          }
        },
        {
          "output_type": "display_data",
          "data": {
            "text/plain": [
              "'Revenue THB Mil'"
            ]
          },
          "metadata": {
            "tags": []
          }
        },
        {
          "output_type": "display_data",
          "data": {
            "text/plain": [
              "mean   NaN\n",
              "Name: %ad_1, dtype: float64"
            ]
          },
          "metadata": {
            "tags": []
          }
        },
        {
          "output_type": "display_data",
          "data": {
            "text/plain": [
              "'Revenue USD Mil'"
            ]
          },
          "metadata": {
            "tags": []
          }
        },
        {
          "output_type": "display_data",
          "data": {
            "text/plain": [
              "mean    3.59\n",
              "Name: %ad_1, dtype: float64"
            ]
          },
          "metadata": {
            "tags": []
          }
        },
        {
          "output_type": "display_data",
          "data": {
            "text/plain": [
              "'SG&A'"
            ]
          },
          "metadata": {
            "tags": []
          }
        },
        {
          "output_type": "display_data",
          "data": {
            "text/plain": [
              "mean    4.05\n",
              "Name: %ad_1, dtype: float64"
            ]
          },
          "metadata": {
            "tags": []
          }
        },
        {
          "output_type": "display_data",
          "data": {
            "text/plain": [
              "'Shares Mil'"
            ]
          },
          "metadata": {
            "tags": []
          }
        },
        {
          "output_type": "display_data",
          "data": {
            "text/plain": [
              "mean   -0.74\n",
              "Name: %ad_1, dtype: float64"
            ]
          },
          "metadata": {
            "tags": []
          }
        },
        {
          "output_type": "display_data",
          "data": {
            "text/plain": [
              "'Short-Term Debt'"
            ]
          },
          "metadata": {
            "tags": []
          }
        },
        {
          "output_type": "display_data",
          "data": {
            "text/plain": [
              "mean   -0.84\n",
              "Name: %ad_1, dtype: float64"
            ]
          },
          "metadata": {
            "tags": []
          }
        },
        {
          "output_type": "display_data",
          "data": {
            "text/plain": [
              "'Tax Rate %'"
            ]
          },
          "metadata": {
            "tags": []
          }
        },
        {
          "output_type": "display_data",
          "data": {
            "text/plain": [
              "mean    7.99\n",
              "Name: %ad_1, dtype: float64"
            ]
          },
          "metadata": {
            "tags": []
          }
        },
        {
          "output_type": "display_data",
          "data": {
            "text/plain": [
              "'Taxes Payable'"
            ]
          },
          "metadata": {
            "tags": []
          }
        },
        {
          "output_type": "display_data",
          "data": {
            "text/plain": [
              "mean   -1.55\n",
              "Name: %ad_1, dtype: float64"
            ]
          },
          "metadata": {
            "tags": []
          }
        },
        {
          "output_type": "display_data",
          "data": {
            "text/plain": [
              "'Total Assets'"
            ]
          },
          "metadata": {
            "tags": []
          }
        },
        {
          "output_type": "display_data",
          "data": {
            "text/plain": [
              "mean   NaN\n",
              "Name: %ad_1, dtype: float64"
            ]
          },
          "metadata": {
            "tags": []
          }
        },
        {
          "output_type": "display_data",
          "data": {
            "text/plain": [
              "'Total Current Assets'"
            ]
          },
          "metadata": {
            "tags": []
          }
        },
        {
          "output_type": "display_data",
          "data": {
            "text/plain": [
              "mean    11.2\n",
              "Name: %ad_1, dtype: float64"
            ]
          },
          "metadata": {
            "tags": []
          }
        },
        {
          "output_type": "display_data",
          "data": {
            "text/plain": [
              "'Total Current Liabilities'"
            ]
          },
          "metadata": {
            "tags": []
          }
        },
        {
          "output_type": "display_data",
          "data": {
            "text/plain": [
              "mean    10.32\n",
              "Name: %ad_1, dtype: float64"
            ]
          },
          "metadata": {
            "tags": []
          }
        },
        {
          "output_type": "display_data",
          "data": {
            "text/plain": [
              "'Total Liabilities'"
            ]
          },
          "metadata": {
            "tags": []
          }
        },
        {
          "output_type": "display_data",
          "data": {
            "text/plain": [
              "mean    5.66\n",
              "Name: %ad_1, dtype: float64"
            ]
          },
          "metadata": {
            "tags": []
          }
        },
        {
          "output_type": "display_data",
          "data": {
            "text/plain": [
              "'Total Liabilities & Equity'"
            ]
          },
          "metadata": {
            "tags": []
          }
        },
        {
          "output_type": "display_data",
          "data": {
            "text/plain": [
              "mean   NaN\n",
              "Name: %ad_1, dtype: float64"
            ]
          },
          "metadata": {
            "tags": []
          }
        },
        {
          "output_type": "display_data",
          "data": {
            "text/plain": [
              "\"Total Stockholders' Equity\""
            ]
          },
          "metadata": {
            "tags": []
          }
        },
        {
          "output_type": "display_data",
          "data": {
            "text/plain": [
              "mean    1.07\n",
              "Name: %ad_1, dtype: float64"
            ]
          },
          "metadata": {
            "tags": []
          }
        }
      ]
    },
    {
      "cell_type": "code",
      "metadata": {
        "colab": {
          "base_uri": "https://localhost:8080/",
          "height": 204
        },
        "id": "0xlKsxuJ8x0g",
        "outputId": "825f3cc9-dfa3-41e9-a917-0d7e11d07390"
      },
      "source": [
        "dd = str('Inventory Turnover')\n",
        "pd.pivot_table(result_all[(result_all['Days Inventory_L'] == 0.1)\n",
        "                          &(result_all[dd  + '_L'] == 0.15)\n",
        "                          &(~result_[dd].isnull())\n",
        "                          ],\n",
        "               index = 'Year',\n",
        "               values = ['%_1', '%ad_1', '%_1mnth', '%_0'],\n",
        "               aggfunc=['count', 'mean'],\n",
        "               margins=True\n",
        " )#.agg(['mean', 'count']).round(2)"
      ],
      "execution_count": 217,
      "outputs": [
        {
          "output_type": "execute_result",
          "data": {
            "text/plain": [
              "       count                         mean                                \n",
              "         %_0 %_1 %_1mnth %ad_1        %_0        %_1   %_1mnth      %ad_1\n",
              "Year                                                                     \n",
              "2017.0     1   1       1     1 -30.767316  34.184040 -5.118204  38.345831\n",
              "2019.0     1   1       1     1  23.144924  -6.511493 -5.357702  -5.830189\n",
              "All        2   2       2     2  -3.811196  13.836274 -5.237953  16.257821"
            ],
            "text/html": [
              "<div>\n",
              "<style scoped>\n",
              "    .dataframe tbody tr th:only-of-type {\n",
              "        vertical-align: middle;\n",
              "    }\n",
              "\n",
              "    .dataframe tbody tr th {\n",
              "        vertical-align: top;\n",
              "    }\n",
              "\n",
              "    .dataframe thead tr th {\n",
              "        text-align: left;\n",
              "    }\n",
              "\n",
              "    .dataframe thead tr:last-of-type th {\n",
              "        text-align: right;\n",
              "    }\n",
              "</style>\n",
              "<table border=\"1\" class=\"dataframe\">\n",
              "  <thead>\n",
              "    <tr>\n",
              "      <th></th>\n",
              "      <th colspan=\"4\" halign=\"left\">count</th>\n",
              "      <th colspan=\"4\" halign=\"left\">mean</th>\n",
              "    </tr>\n",
              "    <tr>\n",
              "      <th></th>\n",
              "      <th>%_0</th>\n",
              "      <th>%_1</th>\n",
              "      <th>%_1mnth</th>\n",
              "      <th>%ad_1</th>\n",
              "      <th>%_0</th>\n",
              "      <th>%_1</th>\n",
              "      <th>%_1mnth</th>\n",
              "      <th>%ad_1</th>\n",
              "    </tr>\n",
              "    <tr>\n",
              "      <th>Year</th>\n",
              "      <th></th>\n",
              "      <th></th>\n",
              "      <th></th>\n",
              "      <th></th>\n",
              "      <th></th>\n",
              "      <th></th>\n",
              "      <th></th>\n",
              "      <th></th>\n",
              "    </tr>\n",
              "  </thead>\n",
              "  <tbody>\n",
              "    <tr>\n",
              "      <th>2017.0</th>\n",
              "      <td>1</td>\n",
              "      <td>1</td>\n",
              "      <td>1</td>\n",
              "      <td>1</td>\n",
              "      <td>-30.767316</td>\n",
              "      <td>34.184040</td>\n",
              "      <td>-5.118204</td>\n",
              "      <td>38.345831</td>\n",
              "    </tr>\n",
              "    <tr>\n",
              "      <th>2019.0</th>\n",
              "      <td>1</td>\n",
              "      <td>1</td>\n",
              "      <td>1</td>\n",
              "      <td>1</td>\n",
              "      <td>23.144924</td>\n",
              "      <td>-6.511493</td>\n",
              "      <td>-5.357702</td>\n",
              "      <td>-5.830189</td>\n",
              "    </tr>\n",
              "    <tr>\n",
              "      <th>All</th>\n",
              "      <td>2</td>\n",
              "      <td>2</td>\n",
              "      <td>2</td>\n",
              "      <td>2</td>\n",
              "      <td>-3.811196</td>\n",
              "      <td>13.836274</td>\n",
              "      <td>-5.237953</td>\n",
              "      <td>16.257821</td>\n",
              "    </tr>\n",
              "  </tbody>\n",
              "</table>\n",
              "</div>"
            ]
          },
          "metadata": {
            "tags": []
          },
          "execution_count": 217
        }
      ]
    },
    {
      "cell_type": "code",
      "metadata": {
        "colab": {
          "base_uri": "https://localhost:8080/"
        },
        "id": "3iXbb9JtOqYp",
        "outputId": "bed5e946-2f14-4261-be20-82c0fd31a3d6"
      },
      "source": [
        "ii"
      ],
      "execution_count": 198,
      "outputs": [
        {
          "output_type": "execute_result",
          "data": {
            "text/plain": [
              "'Cash Conversion Cycle'"
            ]
          },
          "metadata": {
            "tags": []
          },
          "execution_count": 198
        }
      ]
    },
    {
      "cell_type": "code",
      "metadata": {
        "colab": {
          "base_uri": "https://localhost:8080/",
          "height": 452
        },
        "id": "Zaoq2Tpd6URg",
        "outputId": "280ed782-cdfe-4a0a-a31e-d502cd11256a"
      },
      "source": [
        "pd.pivot_table(result_all[(result_all['Days Inventory_L'] == 0.2)\n",
        "                          &(result_all[dd  + '_L'] != 0.2)\n",
        "                          &(~result_[dd].isnull())\n",
        "                        ],\n",
        "               index = [\n",
        "                        'Year',\n",
        "                        # dd\n",
        "                        ],\n",
        "               values = ['%_1', '%ad_1', '%_1mnth', '%_0'],\n",
        "               aggfunc=['count', 'mean'],\n",
        "               margins=True\n",
        " )#.agg(['mean', 'count']).round(2)"
      ],
      "execution_count": 203,
      "outputs": [
        {
          "output_type": "execute_result",
          "data": {
            "text/plain": [
              "       count                          mean                                 \n",
              "         %_0  %_1 %_1mnth %ad_1        %_0        %_1    %_1mnth      %ad_1\n",
              "Year                                                                       \n",
              "2011.0    17   17      17    17  21.987627  15.949767   6.386777  28.403189\n",
              "2012.0    16   16      16    16  39.246624   3.045277   1.819337   7.715755\n",
              "2013.0    19   19      19    19   2.381330 -12.833923   8.180334  -9.008862\n",
              "2014.0    17   17      17    17 -12.234945  16.065620   7.024640  25.400037\n",
              "2015.0    21   21      21    21  49.619379  39.033094   2.913426  17.591881\n",
              "2016.0    25   25      25    25  16.430261  -9.208601   1.026629  -6.895029\n",
              "2017.0    18   17      18    17  -3.351607  11.284478  -6.565770  14.219974\n",
              "2018.0    21   21      21    21  16.048913 -10.137149   3.501609   1.347679\n",
              "2019.0    26   26      26    26   1.484680   9.288775 -10.357702   9.805727\n",
              "2020.0    29    0      29     0  10.822949        NaN   7.432657        NaN\n",
              "All      179  179     179   179  14.415342   6.475338   1.055211   8.876995"
            ],
            "text/html": [
              "<div>\n",
              "<style scoped>\n",
              "    .dataframe tbody tr th:only-of-type {\n",
              "        vertical-align: middle;\n",
              "    }\n",
              "\n",
              "    .dataframe tbody tr th {\n",
              "        vertical-align: top;\n",
              "    }\n",
              "\n",
              "    .dataframe thead tr th {\n",
              "        text-align: left;\n",
              "    }\n",
              "\n",
              "    .dataframe thead tr:last-of-type th {\n",
              "        text-align: right;\n",
              "    }\n",
              "</style>\n",
              "<table border=\"1\" class=\"dataframe\">\n",
              "  <thead>\n",
              "    <tr>\n",
              "      <th></th>\n",
              "      <th colspan=\"4\" halign=\"left\">count</th>\n",
              "      <th colspan=\"4\" halign=\"left\">mean</th>\n",
              "    </tr>\n",
              "    <tr>\n",
              "      <th></th>\n",
              "      <th>%_0</th>\n",
              "      <th>%_1</th>\n",
              "      <th>%_1mnth</th>\n",
              "      <th>%ad_1</th>\n",
              "      <th>%_0</th>\n",
              "      <th>%_1</th>\n",
              "      <th>%_1mnth</th>\n",
              "      <th>%ad_1</th>\n",
              "    </tr>\n",
              "    <tr>\n",
              "      <th>Year</th>\n",
              "      <th></th>\n",
              "      <th></th>\n",
              "      <th></th>\n",
              "      <th></th>\n",
              "      <th></th>\n",
              "      <th></th>\n",
              "      <th></th>\n",
              "      <th></th>\n",
              "    </tr>\n",
              "  </thead>\n",
              "  <tbody>\n",
              "    <tr>\n",
              "      <th>2011.0</th>\n",
              "      <td>17</td>\n",
              "      <td>17</td>\n",
              "      <td>17</td>\n",
              "      <td>17</td>\n",
              "      <td>21.987627</td>\n",
              "      <td>15.949767</td>\n",
              "      <td>6.386777</td>\n",
              "      <td>28.403189</td>\n",
              "    </tr>\n",
              "    <tr>\n",
              "      <th>2012.0</th>\n",
              "      <td>16</td>\n",
              "      <td>16</td>\n",
              "      <td>16</td>\n",
              "      <td>16</td>\n",
              "      <td>39.246624</td>\n",
              "      <td>3.045277</td>\n",
              "      <td>1.819337</td>\n",
              "      <td>7.715755</td>\n",
              "    </tr>\n",
              "    <tr>\n",
              "      <th>2013.0</th>\n",
              "      <td>19</td>\n",
              "      <td>19</td>\n",
              "      <td>19</td>\n",
              "      <td>19</td>\n",
              "      <td>2.381330</td>\n",
              "      <td>-12.833923</td>\n",
              "      <td>8.180334</td>\n",
              "      <td>-9.008862</td>\n",
              "    </tr>\n",
              "    <tr>\n",
              "      <th>2014.0</th>\n",
              "      <td>17</td>\n",
              "      <td>17</td>\n",
              "      <td>17</td>\n",
              "      <td>17</td>\n",
              "      <td>-12.234945</td>\n",
              "      <td>16.065620</td>\n",
              "      <td>7.024640</td>\n",
              "      <td>25.400037</td>\n",
              "    </tr>\n",
              "    <tr>\n",
              "      <th>2015.0</th>\n",
              "      <td>21</td>\n",
              "      <td>21</td>\n",
              "      <td>21</td>\n",
              "      <td>21</td>\n",
              "      <td>49.619379</td>\n",
              "      <td>39.033094</td>\n",
              "      <td>2.913426</td>\n",
              "      <td>17.591881</td>\n",
              "    </tr>\n",
              "    <tr>\n",
              "      <th>2016.0</th>\n",
              "      <td>25</td>\n",
              "      <td>25</td>\n",
              "      <td>25</td>\n",
              "      <td>25</td>\n",
              "      <td>16.430261</td>\n",
              "      <td>-9.208601</td>\n",
              "      <td>1.026629</td>\n",
              "      <td>-6.895029</td>\n",
              "    </tr>\n",
              "    <tr>\n",
              "      <th>2017.0</th>\n",
              "      <td>18</td>\n",
              "      <td>17</td>\n",
              "      <td>18</td>\n",
              "      <td>17</td>\n",
              "      <td>-3.351607</td>\n",
              "      <td>11.284478</td>\n",
              "      <td>-6.565770</td>\n",
              "      <td>14.219974</td>\n",
              "    </tr>\n",
              "    <tr>\n",
              "      <th>2018.0</th>\n",
              "      <td>21</td>\n",
              "      <td>21</td>\n",
              "      <td>21</td>\n",
              "      <td>21</td>\n",
              "      <td>16.048913</td>\n",
              "      <td>-10.137149</td>\n",
              "      <td>3.501609</td>\n",
              "      <td>1.347679</td>\n",
              "    </tr>\n",
              "    <tr>\n",
              "      <th>2019.0</th>\n",
              "      <td>26</td>\n",
              "      <td>26</td>\n",
              "      <td>26</td>\n",
              "      <td>26</td>\n",
              "      <td>1.484680</td>\n",
              "      <td>9.288775</td>\n",
              "      <td>-10.357702</td>\n",
              "      <td>9.805727</td>\n",
              "    </tr>\n",
              "    <tr>\n",
              "      <th>2020.0</th>\n",
              "      <td>29</td>\n",
              "      <td>0</td>\n",
              "      <td>29</td>\n",
              "      <td>0</td>\n",
              "      <td>10.822949</td>\n",
              "      <td>NaN</td>\n",
              "      <td>7.432657</td>\n",
              "      <td>NaN</td>\n",
              "    </tr>\n",
              "    <tr>\n",
              "      <th>All</th>\n",
              "      <td>179</td>\n",
              "      <td>179</td>\n",
              "      <td>179</td>\n",
              "      <td>179</td>\n",
              "      <td>14.415342</td>\n",
              "      <td>6.475338</td>\n",
              "      <td>1.055211</td>\n",
              "      <td>8.876995</td>\n",
              "    </tr>\n",
              "  </tbody>\n",
              "</table>\n",
              "</div>"
            ]
          },
          "metadata": {
            "tags": []
          },
          "execution_count": 203
        }
      ]
    },
    {
      "cell_type": "code",
      "metadata": {
        "id": "VCYk3lPiaCVD"
      },
      "source": [
        ""
      ],
      "execution_count": null,
      "outputs": []
    },
    {
      "cell_type": "code",
      "metadata": {
        "id": "aBsBzXIXmfQl",
        "colab": {
          "base_uri": "https://localhost:8080/",
          "height": 323
        },
        "outputId": "ff42f539-5cfd-4e7d-9448-4a7d605d4c4c"
      },
      "source": [
        "quan_ = mt\n",
        "result_ = result_all.copy()\n",
        "# result_ = merg.copy()\n",
        "\n",
        "# for i, ii in zip(quan[:], quan_[:]):\n",
        "for i, ii in zip(['Cash Conversion Cycle_L'],['Cash Conversion Cycle']):\n",
        "# for i, ii in zip(['numb_aff_L'],['numb_aff']):\n",
        "# for i, ii in zip(['negative_L', 'negative_exp_L'],['negative', 'negative_exp']):\n",
        "    # for ye in list(range(2019,2000,-1)):\n",
        "    for ye in ['___']:\n",
        "    # for ye in result_all['Industry'].unique():\n",
        "        # display(i, ye)\n",
        "        piv = pd.pivot_table(result_[~result_[ii].isnull()\n",
        "                            # &(result_['Symbol'].isin(not_in_2020))\n",
        "                            # &(result_['len_exp_7_L'] != 0.1)\n",
        "                            # &(result_['Industry'] == ye)        \n",
        "                            # &(result_['Year'] == ye)\n",
        "                            # &(result_['Date'].dt.month.isin([1,2,3]))\n",
        "                          ]\n",
        "                             ,\n",
        "                      index=[\n",
        "                          # 'Industry',\n",
        "    #                       'Year',\n",
        "    #                       'Symbol',\n",
        "\n",
        "    #                       'Mont',\n",
        "    #                       'surprise_L',\n",
        "    #                       'fear_L',\n",
        "                          i,\n",
        "    #                       'Lengh_L'\n",
        "                      ],\n",
        "                       values = ['%_1', '%ad_1', '%_1mnth', '%ad_1mnth', '%_0', ii],\n",
        "                       aggfunc=['count', 'mean'],\n",
        "                       margins=True\n",
        "\n",
        "                      )\n",
        "        c_name = []\n",
        "        for zz in range(len(piv.columns)):\n",
        "            c_name.append(piv.columns[zz][0] + '_' + piv.columns[zz][1])\n",
        "        piv.columns = c_name\n",
        "    #     piv = piv[:-1]\n",
        "        piv = piv.T.drop_duplicates().T\n",
        "\n",
        "    #     piv = piv.sort_values('mean_negative')\n",
        "        # display(piv[-10:].mean())\n",
        "        # display(piv[: 10].mean())\n",
        "#         display(piv.sort_values('mean_' + str(ii)))\n",
        "\n",
        "        try:\n",
        "          if abs(piv.loc[0.2, 'mean_%_1'] - piv.loc[0.1, 'mean_%_1']) > -5:\n",
        "            display(ii, piv, piv.loc[0.2, 'mean_%_1'] - piv.loc[0.1, 'mean_%_1'])\n",
        "            print(f\"***\\n****\")\n",
        "        except:\n",
        "          continue\n",
        "        # display(piv)"
      ],
      "execution_count": 193,
      "outputs": [
        {
          "output_type": "display_data",
          "data": {
            "text/plain": [
              "'Cash Conversion Cycle'"
            ]
          },
          "metadata": {
            "tags": []
          }
        },
        {
          "output_type": "display_data",
          "data": {
            "text/plain": [
              "                         count_%_0  count_%_1  count_%_1mnth  \\\n",
              "Cash Conversion Cycle_L                                        \n",
              "0.1                          785.0      709.0          786.0   \n",
              "0.15                         786.0      719.0          787.0   \n",
              "0.2                          792.0      707.0          792.0   \n",
              "All                         2123.0     2123.0         2123.0   \n",
              "\n",
              "                         count_Cash Conversion Cycle   mean_%_0   mean_%_1  \\\n",
              "Cash Conversion Cycle_L                                                      \n",
              "0.1                                            791.0  12.896721  10.608267   \n",
              "0.15                                           790.0  17.120844  20.156219   \n",
              "0.2                                            794.0  11.383818   8.646655   \n",
              "All                                           2123.0  14.062601  13.019489   \n",
              "\n",
              "                         mean_%_1mnth  mean_%ad_1  mean_%ad_1mnth  \\\n",
              "Cash Conversion Cycle_L                                             \n",
              "0.1                          0.693938   12.819236        1.001421   \n",
              "0.15                         2.409931   17.895356        2.667757   \n",
              "0.2                          1.810575   11.764613        1.706991   \n",
              "All                          1.099250   14.019490        1.236347   \n",
              "\n",
              "                         mean_Cash Conversion Cycle  \n",
              "Cash Conversion Cycle_L                              \n",
              "0.1                                       -3.781871  \n",
              "0.15                                      52.174291  \n",
              "0.2                                      126.318388  \n",
              "All                                       58.352567  "
            ],
            "text/html": [
              "<div>\n",
              "<style scoped>\n",
              "    .dataframe tbody tr th:only-of-type {\n",
              "        vertical-align: middle;\n",
              "    }\n",
              "\n",
              "    .dataframe tbody tr th {\n",
              "        vertical-align: top;\n",
              "    }\n",
              "\n",
              "    .dataframe thead th {\n",
              "        text-align: right;\n",
              "    }\n",
              "</style>\n",
              "<table border=\"1\" class=\"dataframe\">\n",
              "  <thead>\n",
              "    <tr style=\"text-align: right;\">\n",
              "      <th></th>\n",
              "      <th>count_%_0</th>\n",
              "      <th>count_%_1</th>\n",
              "      <th>count_%_1mnth</th>\n",
              "      <th>count_Cash Conversion Cycle</th>\n",
              "      <th>mean_%_0</th>\n",
              "      <th>mean_%_1</th>\n",
              "      <th>mean_%_1mnth</th>\n",
              "      <th>mean_%ad_1</th>\n",
              "      <th>mean_%ad_1mnth</th>\n",
              "      <th>mean_Cash Conversion Cycle</th>\n",
              "    </tr>\n",
              "    <tr>\n",
              "      <th>Cash Conversion Cycle_L</th>\n",
              "      <th></th>\n",
              "      <th></th>\n",
              "      <th></th>\n",
              "      <th></th>\n",
              "      <th></th>\n",
              "      <th></th>\n",
              "      <th></th>\n",
              "      <th></th>\n",
              "      <th></th>\n",
              "      <th></th>\n",
              "    </tr>\n",
              "  </thead>\n",
              "  <tbody>\n",
              "    <tr>\n",
              "      <th>0.1</th>\n",
              "      <td>785.0</td>\n",
              "      <td>709.0</td>\n",
              "      <td>786.0</td>\n",
              "      <td>791.0</td>\n",
              "      <td>12.896721</td>\n",
              "      <td>10.608267</td>\n",
              "      <td>0.693938</td>\n",
              "      <td>12.819236</td>\n",
              "      <td>1.001421</td>\n",
              "      <td>-3.781871</td>\n",
              "    </tr>\n",
              "    <tr>\n",
              "      <th>0.15</th>\n",
              "      <td>786.0</td>\n",
              "      <td>719.0</td>\n",
              "      <td>787.0</td>\n",
              "      <td>790.0</td>\n",
              "      <td>17.120844</td>\n",
              "      <td>20.156219</td>\n",
              "      <td>2.409931</td>\n",
              "      <td>17.895356</td>\n",
              "      <td>2.667757</td>\n",
              "      <td>52.174291</td>\n",
              "    </tr>\n",
              "    <tr>\n",
              "      <th>0.2</th>\n",
              "      <td>792.0</td>\n",
              "      <td>707.0</td>\n",
              "      <td>792.0</td>\n",
              "      <td>794.0</td>\n",
              "      <td>11.383818</td>\n",
              "      <td>8.646655</td>\n",
              "      <td>1.810575</td>\n",
              "      <td>11.764613</td>\n",
              "      <td>1.706991</td>\n",
              "      <td>126.318388</td>\n",
              "    </tr>\n",
              "    <tr>\n",
              "      <th>All</th>\n",
              "      <td>2123.0</td>\n",
              "      <td>2123.0</td>\n",
              "      <td>2123.0</td>\n",
              "      <td>2123.0</td>\n",
              "      <td>14.062601</td>\n",
              "      <td>13.019489</td>\n",
              "      <td>1.099250</td>\n",
              "      <td>14.019490</td>\n",
              "      <td>1.236347</td>\n",
              "      <td>58.352567</td>\n",
              "    </tr>\n",
              "  </tbody>\n",
              "</table>\n",
              "</div>"
            ]
          },
          "metadata": {
            "tags": []
          }
        },
        {
          "output_type": "display_data",
          "data": {
            "text/plain": [
              "-1.9616118157632876"
            ]
          },
          "metadata": {
            "tags": []
          }
        },
        {
          "output_type": "stream",
          "text": [
            "***\n",
            "****\n"
          ],
          "name": "stdout"
        }
      ]
    },
    {
      "cell_type": "code",
      "metadata": {
        "id": "W5I89AOcmfZp"
      },
      "source": [
        "merg.columns"
      ],
      "execution_count": null,
      "outputs": []
    },
    {
      "cell_type": "markdown",
      "metadata": {
        "id": "Yj5c8W5SeL4Z"
      },
      "source": [
        "## Check resample"
      ]
    },
    {
      "cell_type": "code",
      "metadata": {
        "colab": {
          "base_uri": "https://localhost:8080/",
          "height": 51
        },
        "id": "nzM1RdQQp11X",
        "outputId": "3d9c90ca-9ec2-4650-8000-5e0e92d6d3cf"
      },
      "source": [
        "%%time\n",
        "ts = TimeSeries(key='ELR8VABLOI4PH098', output_format='pandas')\n",
        "stockM = pd.DataFrame()\n",
        "# for ticker in cik_lookup.keys():\n",
        "# for ticker in [d for d in cik_lookup.keys() if d != 'BF.B']:    ### ДОКАЧАТЬ\n",
        "for ticker in ['MSFT']:\n",
        "    time.sleep(10)\n",
        "#     try:\n",
        "    display(ticker)\n",
        "    # s1, meta_data = ts.get_daily_adjusted(symbol=ticker, outputsize='full')\n",
        "    s1, meta_data = ts.get_monthly_adjusted(symbol=ticker)\n",
        "    # s1 = s1[['5. adjusted close']]\n",
        "    s1['Symbol'] = ticker\n",
        "    s1['Date'] = s1.index\n",
        "    s1 = s1.drop_duplicates('Date')\n",
        "    s1 = s1.sort_index()\n",
        "    # for ii in range(50, 350, 100):\n",
        "    #     s1[str(ii) + '_%'] = (s1['5. adjusted close'].shift(-ii)/s1['5. adjusted close'] - 1)*100 \n",
        "\n",
        "    stockM = stockM.append(s1)\n",
        "#     except:\n",
        "#         continue\n",
        "# stock"
      ],
      "execution_count": null,
      "outputs": [
        {
          "output_type": "display_data",
          "data": {
            "text/plain": [
              "'MSFT'"
            ]
          },
          "metadata": {
            "tags": []
          }
        },
        {
          "output_type": "stream",
          "text": [
            "Wall time: 11 s\n"
          ],
          "name": "stdout"
        }
      ]
    },
    {
      "cell_type": "code",
      "metadata": {
        "id": "I5RqeRcxtbxA",
        "colab": {
          "base_uri": "https://localhost:8080/",
          "height": 450
        },
        "outputId": "4bed2afa-c0d2-44ed-be6f-ac9f5c8d1ee5"
      },
      "source": [
        "stock"
      ],
      "execution_count": null,
      "outputs": [
        {
          "output_type": "execute_result",
          "data": {
            "text/plain": [
              "            1. open  2. high   3. low  4. close  5. adjusted close  \\\n",
              "date                                                                 \n",
              "1999-12-31    94.69   100.80   91.880     97.88            28.6154   \n",
              "2000-01-31    96.06   103.80   90.250     93.63            27.3729   \n",
              "2000-02-29    94.38    96.19   81.310     88.19            25.9445   \n",
              "2000-03-31    87.19    94.63   78.190     88.56            26.0534   \n",
              "2000-04-28    89.38    98.31   85.310     86.63            25.4856   \n",
              "...             ...      ...      ...       ...                ...   \n",
              "2020-11-30   149.49   164.08  142.590    147.70           147.2697   \n",
              "2020-12-31   149.07   163.70  147.500    157.51           157.2960   \n",
              "2021-01-29   157.90   177.92  143.150    149.14           148.9373   \n",
              "2021-02-26   151.13   169.41  150.031    160.35           160.1321   \n",
              "2021-03-25   162.13   187.33  161.190    185.65           185.6500   \n",
              "\n",
              "             6. volume  7. dividend amount Symbol       Date  \n",
              "date                                                          \n",
              "1999-12-31  23581100.0                0.00    MMM 1999-12-31  \n",
              "2000-01-31  34253500.0                0.00    MMM 2000-01-31  \n",
              "2000-02-29  33435200.0                0.58    MMM 2000-02-29  \n",
              "2000-03-31  43561100.0                0.00    MMM 2000-03-31  \n",
              "2000-04-28  34480000.0                0.00    MMM 2000-04-28  \n",
              "...                ...                 ...    ...        ...  \n",
              "2020-11-30  22095055.0                0.00    AAP 2020-11-30  \n",
              "2020-12-31  20575103.0                0.25    AAP 2020-12-31  \n",
              "2021-01-29  21411807.0                0.00    AAP 2021-01-29  \n",
              "2021-02-26  21840428.0                0.00    AAP 2021-02-26  \n",
              "2021-03-25  18346379.0                0.25    AAP 2021-03-25  \n",
              "\n",
              "[2102 rows x 9 columns]"
            ],
            "text/html": [
              "<div>\n",
              "<style scoped>\n",
              "    .dataframe tbody tr th:only-of-type {\n",
              "        vertical-align: middle;\n",
              "    }\n",
              "\n",
              "    .dataframe tbody tr th {\n",
              "        vertical-align: top;\n",
              "    }\n",
              "\n",
              "    .dataframe thead th {\n",
              "        text-align: right;\n",
              "    }\n",
              "</style>\n",
              "<table border=\"1\" class=\"dataframe\">\n",
              "  <thead>\n",
              "    <tr style=\"text-align: right;\">\n",
              "      <th></th>\n",
              "      <th>1. open</th>\n",
              "      <th>2. high</th>\n",
              "      <th>3. low</th>\n",
              "      <th>4. close</th>\n",
              "      <th>5. adjusted close</th>\n",
              "      <th>6. volume</th>\n",
              "      <th>7. dividend amount</th>\n",
              "      <th>Symbol</th>\n",
              "      <th>Date</th>\n",
              "    </tr>\n",
              "    <tr>\n",
              "      <th>date</th>\n",
              "      <th></th>\n",
              "      <th></th>\n",
              "      <th></th>\n",
              "      <th></th>\n",
              "      <th></th>\n",
              "      <th></th>\n",
              "      <th></th>\n",
              "      <th></th>\n",
              "      <th></th>\n",
              "    </tr>\n",
              "  </thead>\n",
              "  <tbody>\n",
              "    <tr>\n",
              "      <th>1999-12-31</th>\n",
              "      <td>94.69</td>\n",
              "      <td>100.80</td>\n",
              "      <td>91.880</td>\n",
              "      <td>97.88</td>\n",
              "      <td>28.6154</td>\n",
              "      <td>23581100.0</td>\n",
              "      <td>0.00</td>\n",
              "      <td>MMM</td>\n",
              "      <td>1999-12-31</td>\n",
              "    </tr>\n",
              "    <tr>\n",
              "      <th>2000-01-31</th>\n",
              "      <td>96.06</td>\n",
              "      <td>103.80</td>\n",
              "      <td>90.250</td>\n",
              "      <td>93.63</td>\n",
              "      <td>27.3729</td>\n",
              "      <td>34253500.0</td>\n",
              "      <td>0.00</td>\n",
              "      <td>MMM</td>\n",
              "      <td>2000-01-31</td>\n",
              "    </tr>\n",
              "    <tr>\n",
              "      <th>2000-02-29</th>\n",
              "      <td>94.38</td>\n",
              "      <td>96.19</td>\n",
              "      <td>81.310</td>\n",
              "      <td>88.19</td>\n",
              "      <td>25.9445</td>\n",
              "      <td>33435200.0</td>\n",
              "      <td>0.58</td>\n",
              "      <td>MMM</td>\n",
              "      <td>2000-02-29</td>\n",
              "    </tr>\n",
              "    <tr>\n",
              "      <th>2000-03-31</th>\n",
              "      <td>87.19</td>\n",
              "      <td>94.63</td>\n",
              "      <td>78.190</td>\n",
              "      <td>88.56</td>\n",
              "      <td>26.0534</td>\n",
              "      <td>43561100.0</td>\n",
              "      <td>0.00</td>\n",
              "      <td>MMM</td>\n",
              "      <td>2000-03-31</td>\n",
              "    </tr>\n",
              "    <tr>\n",
              "      <th>2000-04-28</th>\n",
              "      <td>89.38</td>\n",
              "      <td>98.31</td>\n",
              "      <td>85.310</td>\n",
              "      <td>86.63</td>\n",
              "      <td>25.4856</td>\n",
              "      <td>34480000.0</td>\n",
              "      <td>0.00</td>\n",
              "      <td>MMM</td>\n",
              "      <td>2000-04-28</td>\n",
              "    </tr>\n",
              "    <tr>\n",
              "      <th>...</th>\n",
              "      <td>...</td>\n",
              "      <td>...</td>\n",
              "      <td>...</td>\n",
              "      <td>...</td>\n",
              "      <td>...</td>\n",
              "      <td>...</td>\n",
              "      <td>...</td>\n",
              "      <td>...</td>\n",
              "      <td>...</td>\n",
              "    </tr>\n",
              "    <tr>\n",
              "      <th>2020-11-30</th>\n",
              "      <td>149.49</td>\n",
              "      <td>164.08</td>\n",
              "      <td>142.590</td>\n",
              "      <td>147.70</td>\n",
              "      <td>147.2697</td>\n",
              "      <td>22095055.0</td>\n",
              "      <td>0.00</td>\n",
              "      <td>AAP</td>\n",
              "      <td>2020-11-30</td>\n",
              "    </tr>\n",
              "    <tr>\n",
              "      <th>2020-12-31</th>\n",
              "      <td>149.07</td>\n",
              "      <td>163.70</td>\n",
              "      <td>147.500</td>\n",
              "      <td>157.51</td>\n",
              "      <td>157.2960</td>\n",
              "      <td>20575103.0</td>\n",
              "      <td>0.25</td>\n",
              "      <td>AAP</td>\n",
              "      <td>2020-12-31</td>\n",
              "    </tr>\n",
              "    <tr>\n",
              "      <th>2021-01-29</th>\n",
              "      <td>157.90</td>\n",
              "      <td>177.92</td>\n",
              "      <td>143.150</td>\n",
              "      <td>149.14</td>\n",
              "      <td>148.9373</td>\n",
              "      <td>21411807.0</td>\n",
              "      <td>0.00</td>\n",
              "      <td>AAP</td>\n",
              "      <td>2021-01-29</td>\n",
              "    </tr>\n",
              "    <tr>\n",
              "      <th>2021-02-26</th>\n",
              "      <td>151.13</td>\n",
              "      <td>169.41</td>\n",
              "      <td>150.031</td>\n",
              "      <td>160.35</td>\n",
              "      <td>160.1321</td>\n",
              "      <td>21840428.0</td>\n",
              "      <td>0.00</td>\n",
              "      <td>AAP</td>\n",
              "      <td>2021-02-26</td>\n",
              "    </tr>\n",
              "    <tr>\n",
              "      <th>2021-03-25</th>\n",
              "      <td>162.13</td>\n",
              "      <td>187.33</td>\n",
              "      <td>161.190</td>\n",
              "      <td>185.65</td>\n",
              "      <td>185.6500</td>\n",
              "      <td>18346379.0</td>\n",
              "      <td>0.25</td>\n",
              "      <td>AAP</td>\n",
              "      <td>2021-03-25</td>\n",
              "    </tr>\n",
              "  </tbody>\n",
              "</table>\n",
              "<p>2102 rows × 9 columns</p>\n",
              "</div>"
            ]
          },
          "metadata": {
            "tags": []
          },
          "execution_count": 115
        }
      ]
    },
    {
      "cell_type": "code",
      "metadata": {
        "colab": {
          "base_uri": "https://localhost:8080/",
          "height": 1000
        },
        "id": "oRQNZQc3k9og",
        "outputId": "8a4d82a8-8a44-49bb-bb28-d3a29c5cffb1"
      },
      "source": [
        "df_for_analyze_year"
      ],
      "execution_count": null,
      "outputs": [
        {
          "output_type": "execute_result",
          "data": {
            "text/plain": [
              "             1. open  2. high    3. low  4. close     6. volume Symbol  \\\n",
              "Date                                                                     \n",
              "1998-12-31   95.1300   103.40   91.8800     96.38  4.665280e+07    MMM   \n",
              "1999-12-31   96.8100   122.90   78.1900    120.50  4.196171e+08    MMM   \n",
              "2000-12-31  118.1000   127.00   85.8600    119.90  4.961653e+08    MMM   \n",
              "2001-12-31  119.9000   131.60  100.0000    123.00  6.103754e+08    MMM   \n",
              "2002-12-31  123.2000   145.70   68.9400     84.28  6.101812e+08    MMM   \n",
              "2003-12-31   84.4800    90.29   73.3100     82.75  7.564031e+08    MMM   \n",
              "2004-12-31   82.7300    87.45   69.7100     77.50  7.615712e+08    MMM   \n",
              "2005-12-31   77.7600    88.35   67.0500     77.93  8.291155e+08    MMM   \n",
              "2006-12-31   77.5300    97.00   72.9000     85.09  9.673842e+08    MMM   \n",
              "2007-12-31   84.8000    85.21   50.0100     57.17  1.373666e+09    MMM   \n",
              "2008-12-31   57.2300    84.32   40.8700     83.90  1.186762e+09    MMM   \n",
              "2009-12-31   83.7900    91.49   67.9800     86.54  1.034800e+09    MMM   \n",
              "2010-12-31   86.5300    98.19   68.6300     81.73  1.059755e+09    MMM   \n",
              "2011-12-31   83.7600    95.46   81.9850     91.78  7.216841e+08    MMM   \n",
              "2012-12-31   91.5500   139.65   91.4000    139.42  6.675831e+08    MMM   \n",
              "2013-12-31  140.0000   168.16  123.6100    165.84  6.317165e+08    MMM   \n",
              "2014-12-31  166.0000   170.50  134.0000    151.91  6.217631e+08    MMM   \n",
              "2015-12-31  151.7300   182.27  134.6442    178.57  5.213972e+08    MMM   \n",
              "2016-12-31  178.8300   244.23  173.5500    235.37  4.584118e+08    MMM   \n",
              "2017-12-31  235.7800   259.77  176.8700    189.37  6.525552e+08    MMM   \n",
              "2018-12-31  190.3400   219.75  150.5800    175.83  6.941342e+08    MMM   \n",
              "2019-12-31  175.2300   182.55  114.0400    174.11  8.434345e+08    MMM   \n",
              "2020-12-31  174.1200   192.09  163.3800    188.33  1.634051e+08    MMM   \n",
              "1998-12-31   40.5000    41.13   33.0000     36.69  5.248194e+08    ABT   \n",
              "1999-12-31   36.4400    56.25   29.3800     48.44  2.123465e+09    ABT   \n",
              "2000-12-31   48.1300    57.17   42.0000     56.48  1.914375e+09    ABT   \n",
              "2001-12-31   56.2500    58.00   29.8000     37.10  2.641471e+09    ABT   \n",
              "2002-12-31   37.1000    47.15   33.7500     46.57  2.169666e+09    ABT   \n",
              "2003-12-31   46.7000    47.63   38.2600     46.92  2.155078e+09    ABT   \n",
              "2004-12-31   46.8900    50.00   37.5000     39.43  2.230449e+09    ABT   \n",
              "2005-12-31   39.5500    49.87   39.1800     48.71  2.594777e+09    ABT   \n",
              "2006-12-31   48.8300    59.50   48.7500     57.23  3.301416e+09    ABT   \n",
              "2007-12-31   56.8200    61.09   45.7500     53.16  4.126745e+09    ABT   \n",
              "2008-12-31   53.2500    57.39   41.2700     54.54  4.801649e+09    ABT   \n",
              "2009-12-31   54.4700    56.79   45.2600     47.57  4.080456e+09    ABT   \n",
              "2010-12-31   47.4400    56.44   45.0700     56.23  4.480763e+09    ABT   \n",
              "2011-12-31   56.5800    72.47   53.9600     64.42  3.604048e+09    ABT   \n",
              "2012-12-31   64.1300    65.53   31.6400     38.41  2.046995e+09    ABT   \n",
              "2013-12-31   38.3800    46.50   35.6500     45.69  1.494521e+09    ABT   \n",
              "2014-12-31   45.7000    51.74   39.0000     45.27  1.467951e+09    ABT   \n",
              "2015-12-31   45.1100    45.79   36.0000     38.41  2.289874e+09    ABT   \n",
              "2016-12-31   38.6334    57.77   38.3400     57.07  1.645674e+09    ABT   \n",
              "2017-12-31   58.2000    74.92   55.5800     71.09  1.558892e+09    ABT   \n",
              "2018-12-31   71.5700    89.24   65.5000     86.80  1.310354e+09    ABT   \n",
              "2019-12-31   86.5000   115.14   61.6100    108.44  1.694420e+09    ABT   \n",
              "2020-12-31  108.1700   128.54  107.2551    120.49  2.918554e+08    ABT   \n",
              "\n",
              "                  %_1  \n",
              "Date                   \n",
              "1998-12-31  25.025939  \n",
              "1999-12-31  -0.497925  \n",
              "2000-12-31   2.585488  \n",
              "2001-12-31 -31.479675  \n",
              "2002-12-31  -1.815377  \n",
              "2003-12-31  -6.344411  \n",
              "2004-12-31   0.554839  \n",
              "2005-12-31   9.187733  \n",
              "2006-12-31 -32.812316  \n",
              "2007-12-31  46.755291  \n",
              "2008-12-31   3.146603  \n",
              "2009-12-31  -5.558123  \n",
              "2010-12-31  12.296586  \n",
              "2011-12-31  51.906733  \n",
              "2012-12-31  18.949935  \n",
              "2013-12-31  -8.399662  \n",
              "2014-12-31  17.549865  \n",
              "2015-12-31  31.808254  \n",
              "2016-12-31 -19.543697  \n",
              "2017-12-31  -7.150024  \n",
              "2018-12-31  -0.978218  \n",
              "2019-12-31   8.167251  \n",
              "2020-12-31        NaN  \n",
              "1998-12-31  32.025075  \n",
              "1999-12-31  16.597853  \n",
              "2000-12-31 -34.313031  \n",
              "2001-12-31  25.525606  \n",
              "2002-12-31   0.751557  \n",
              "2003-12-31 -15.963342  \n",
              "2004-12-31  23.535379  \n",
              "2005-12-31  17.491275  \n",
              "2006-12-31  -7.111655  \n",
              "2007-12-31   2.595937  \n",
              "2008-12-31 -12.779611  \n",
              "2009-12-31  18.204751  \n",
              "2010-12-31  14.565179  \n",
              "2011-12-31 -40.375660  \n",
              "2012-12-31  18.953398  \n",
              "2013-12-31  -0.919238  \n",
              "2014-12-31 -15.153523  \n",
              "2015-12-31  48.581099  \n",
              "2016-12-31  24.566322  \n",
              "2017-12-31  22.098748  \n",
              "2018-12-31  24.930876  \n",
              "2019-12-31  11.112136  \n",
              "2020-12-31        NaN  "
            ],
            "text/html": [
              "<div>\n",
              "<style scoped>\n",
              "    .dataframe tbody tr th:only-of-type {\n",
              "        vertical-align: middle;\n",
              "    }\n",
              "\n",
              "    .dataframe tbody tr th {\n",
              "        vertical-align: top;\n",
              "    }\n",
              "\n",
              "    .dataframe thead th {\n",
              "        text-align: right;\n",
              "    }\n",
              "</style>\n",
              "<table border=\"1\" class=\"dataframe\">\n",
              "  <thead>\n",
              "    <tr style=\"text-align: right;\">\n",
              "      <th></th>\n",
              "      <th>1. open</th>\n",
              "      <th>2. high</th>\n",
              "      <th>3. low</th>\n",
              "      <th>4. close</th>\n",
              "      <th>6. volume</th>\n",
              "      <th>Symbol</th>\n",
              "      <th>%_1</th>\n",
              "    </tr>\n",
              "    <tr>\n",
              "      <th>Date</th>\n",
              "      <th></th>\n",
              "      <th></th>\n",
              "      <th></th>\n",
              "      <th></th>\n",
              "      <th></th>\n",
              "      <th></th>\n",
              "      <th></th>\n",
              "    </tr>\n",
              "  </thead>\n",
              "  <tbody>\n",
              "    <tr>\n",
              "      <th>1998-12-31</th>\n",
              "      <td>95.1300</td>\n",
              "      <td>103.40</td>\n",
              "      <td>91.8800</td>\n",
              "      <td>96.38</td>\n",
              "      <td>4.665280e+07</td>\n",
              "      <td>MMM</td>\n",
              "      <td>25.025939</td>\n",
              "    </tr>\n",
              "    <tr>\n",
              "      <th>1999-12-31</th>\n",
              "      <td>96.8100</td>\n",
              "      <td>122.90</td>\n",
              "      <td>78.1900</td>\n",
              "      <td>120.50</td>\n",
              "      <td>4.196171e+08</td>\n",
              "      <td>MMM</td>\n",
              "      <td>-0.497925</td>\n",
              "    </tr>\n",
              "    <tr>\n",
              "      <th>2000-12-31</th>\n",
              "      <td>118.1000</td>\n",
              "      <td>127.00</td>\n",
              "      <td>85.8600</td>\n",
              "      <td>119.90</td>\n",
              "      <td>4.961653e+08</td>\n",
              "      <td>MMM</td>\n",
              "      <td>2.585488</td>\n",
              "    </tr>\n",
              "    <tr>\n",
              "      <th>2001-12-31</th>\n",
              "      <td>119.9000</td>\n",
              "      <td>131.60</td>\n",
              "      <td>100.0000</td>\n",
              "      <td>123.00</td>\n",
              "      <td>6.103754e+08</td>\n",
              "      <td>MMM</td>\n",
              "      <td>-31.479675</td>\n",
              "    </tr>\n",
              "    <tr>\n",
              "      <th>2002-12-31</th>\n",
              "      <td>123.2000</td>\n",
              "      <td>145.70</td>\n",
              "      <td>68.9400</td>\n",
              "      <td>84.28</td>\n",
              "      <td>6.101812e+08</td>\n",
              "      <td>MMM</td>\n",
              "      <td>-1.815377</td>\n",
              "    </tr>\n",
              "    <tr>\n",
              "      <th>2003-12-31</th>\n",
              "      <td>84.4800</td>\n",
              "      <td>90.29</td>\n",
              "      <td>73.3100</td>\n",
              "      <td>82.75</td>\n",
              "      <td>7.564031e+08</td>\n",
              "      <td>MMM</td>\n",
              "      <td>-6.344411</td>\n",
              "    </tr>\n",
              "    <tr>\n",
              "      <th>2004-12-31</th>\n",
              "      <td>82.7300</td>\n",
              "      <td>87.45</td>\n",
              "      <td>69.7100</td>\n",
              "      <td>77.50</td>\n",
              "      <td>7.615712e+08</td>\n",
              "      <td>MMM</td>\n",
              "      <td>0.554839</td>\n",
              "    </tr>\n",
              "    <tr>\n",
              "      <th>2005-12-31</th>\n",
              "      <td>77.7600</td>\n",
              "      <td>88.35</td>\n",
              "      <td>67.0500</td>\n",
              "      <td>77.93</td>\n",
              "      <td>8.291155e+08</td>\n",
              "      <td>MMM</td>\n",
              "      <td>9.187733</td>\n",
              "    </tr>\n",
              "    <tr>\n",
              "      <th>2006-12-31</th>\n",
              "      <td>77.5300</td>\n",
              "      <td>97.00</td>\n",
              "      <td>72.9000</td>\n",
              "      <td>85.09</td>\n",
              "      <td>9.673842e+08</td>\n",
              "      <td>MMM</td>\n",
              "      <td>-32.812316</td>\n",
              "    </tr>\n",
              "    <tr>\n",
              "      <th>2007-12-31</th>\n",
              "      <td>84.8000</td>\n",
              "      <td>85.21</td>\n",
              "      <td>50.0100</td>\n",
              "      <td>57.17</td>\n",
              "      <td>1.373666e+09</td>\n",
              "      <td>MMM</td>\n",
              "      <td>46.755291</td>\n",
              "    </tr>\n",
              "    <tr>\n",
              "      <th>2008-12-31</th>\n",
              "      <td>57.2300</td>\n",
              "      <td>84.32</td>\n",
              "      <td>40.8700</td>\n",
              "      <td>83.90</td>\n",
              "      <td>1.186762e+09</td>\n",
              "      <td>MMM</td>\n",
              "      <td>3.146603</td>\n",
              "    </tr>\n",
              "    <tr>\n",
              "      <th>2009-12-31</th>\n",
              "      <td>83.7900</td>\n",
              "      <td>91.49</td>\n",
              "      <td>67.9800</td>\n",
              "      <td>86.54</td>\n",
              "      <td>1.034800e+09</td>\n",
              "      <td>MMM</td>\n",
              "      <td>-5.558123</td>\n",
              "    </tr>\n",
              "    <tr>\n",
              "      <th>2010-12-31</th>\n",
              "      <td>86.5300</td>\n",
              "      <td>98.19</td>\n",
              "      <td>68.6300</td>\n",
              "      <td>81.73</td>\n",
              "      <td>1.059755e+09</td>\n",
              "      <td>MMM</td>\n",
              "      <td>12.296586</td>\n",
              "    </tr>\n",
              "    <tr>\n",
              "      <th>2011-12-31</th>\n",
              "      <td>83.7600</td>\n",
              "      <td>95.46</td>\n",
              "      <td>81.9850</td>\n",
              "      <td>91.78</td>\n",
              "      <td>7.216841e+08</td>\n",
              "      <td>MMM</td>\n",
              "      <td>51.906733</td>\n",
              "    </tr>\n",
              "    <tr>\n",
              "      <th>2012-12-31</th>\n",
              "      <td>91.5500</td>\n",
              "      <td>139.65</td>\n",
              "      <td>91.4000</td>\n",
              "      <td>139.42</td>\n",
              "      <td>6.675831e+08</td>\n",
              "      <td>MMM</td>\n",
              "      <td>18.949935</td>\n",
              "    </tr>\n",
              "    <tr>\n",
              "      <th>2013-12-31</th>\n",
              "      <td>140.0000</td>\n",
              "      <td>168.16</td>\n",
              "      <td>123.6100</td>\n",
              "      <td>165.84</td>\n",
              "      <td>6.317165e+08</td>\n",
              "      <td>MMM</td>\n",
              "      <td>-8.399662</td>\n",
              "    </tr>\n",
              "    <tr>\n",
              "      <th>2014-12-31</th>\n",
              "      <td>166.0000</td>\n",
              "      <td>170.50</td>\n",
              "      <td>134.0000</td>\n",
              "      <td>151.91</td>\n",
              "      <td>6.217631e+08</td>\n",
              "      <td>MMM</td>\n",
              "      <td>17.549865</td>\n",
              "    </tr>\n",
              "    <tr>\n",
              "      <th>2015-12-31</th>\n",
              "      <td>151.7300</td>\n",
              "      <td>182.27</td>\n",
              "      <td>134.6442</td>\n",
              "      <td>178.57</td>\n",
              "      <td>5.213972e+08</td>\n",
              "      <td>MMM</td>\n",
              "      <td>31.808254</td>\n",
              "    </tr>\n",
              "    <tr>\n",
              "      <th>2016-12-31</th>\n",
              "      <td>178.8300</td>\n",
              "      <td>244.23</td>\n",
              "      <td>173.5500</td>\n",
              "      <td>235.37</td>\n",
              "      <td>4.584118e+08</td>\n",
              "      <td>MMM</td>\n",
              "      <td>-19.543697</td>\n",
              "    </tr>\n",
              "    <tr>\n",
              "      <th>2017-12-31</th>\n",
              "      <td>235.7800</td>\n",
              "      <td>259.77</td>\n",
              "      <td>176.8700</td>\n",
              "      <td>189.37</td>\n",
              "      <td>6.525552e+08</td>\n",
              "      <td>MMM</td>\n",
              "      <td>-7.150024</td>\n",
              "    </tr>\n",
              "    <tr>\n",
              "      <th>2018-12-31</th>\n",
              "      <td>190.3400</td>\n",
              "      <td>219.75</td>\n",
              "      <td>150.5800</td>\n",
              "      <td>175.83</td>\n",
              "      <td>6.941342e+08</td>\n",
              "      <td>MMM</td>\n",
              "      <td>-0.978218</td>\n",
              "    </tr>\n",
              "    <tr>\n",
              "      <th>2019-12-31</th>\n",
              "      <td>175.2300</td>\n",
              "      <td>182.55</td>\n",
              "      <td>114.0400</td>\n",
              "      <td>174.11</td>\n",
              "      <td>8.434345e+08</td>\n",
              "      <td>MMM</td>\n",
              "      <td>8.167251</td>\n",
              "    </tr>\n",
              "    <tr>\n",
              "      <th>2020-12-31</th>\n",
              "      <td>174.1200</td>\n",
              "      <td>192.09</td>\n",
              "      <td>163.3800</td>\n",
              "      <td>188.33</td>\n",
              "      <td>1.634051e+08</td>\n",
              "      <td>MMM</td>\n",
              "      <td>NaN</td>\n",
              "    </tr>\n",
              "    <tr>\n",
              "      <th>1998-12-31</th>\n",
              "      <td>40.5000</td>\n",
              "      <td>41.13</td>\n",
              "      <td>33.0000</td>\n",
              "      <td>36.69</td>\n",
              "      <td>5.248194e+08</td>\n",
              "      <td>ABT</td>\n",
              "      <td>32.025075</td>\n",
              "    </tr>\n",
              "    <tr>\n",
              "      <th>1999-12-31</th>\n",
              "      <td>36.4400</td>\n",
              "      <td>56.25</td>\n",
              "      <td>29.3800</td>\n",
              "      <td>48.44</td>\n",
              "      <td>2.123465e+09</td>\n",
              "      <td>ABT</td>\n",
              "      <td>16.597853</td>\n",
              "    </tr>\n",
              "    <tr>\n",
              "      <th>2000-12-31</th>\n",
              "      <td>48.1300</td>\n",
              "      <td>57.17</td>\n",
              "      <td>42.0000</td>\n",
              "      <td>56.48</td>\n",
              "      <td>1.914375e+09</td>\n",
              "      <td>ABT</td>\n",
              "      <td>-34.313031</td>\n",
              "    </tr>\n",
              "    <tr>\n",
              "      <th>2001-12-31</th>\n",
              "      <td>56.2500</td>\n",
              "      <td>58.00</td>\n",
              "      <td>29.8000</td>\n",
              "      <td>37.10</td>\n",
              "      <td>2.641471e+09</td>\n",
              "      <td>ABT</td>\n",
              "      <td>25.525606</td>\n",
              "    </tr>\n",
              "    <tr>\n",
              "      <th>2002-12-31</th>\n",
              "      <td>37.1000</td>\n",
              "      <td>47.15</td>\n",
              "      <td>33.7500</td>\n",
              "      <td>46.57</td>\n",
              "      <td>2.169666e+09</td>\n",
              "      <td>ABT</td>\n",
              "      <td>0.751557</td>\n",
              "    </tr>\n",
              "    <tr>\n",
              "      <th>2003-12-31</th>\n",
              "      <td>46.7000</td>\n",
              "      <td>47.63</td>\n",
              "      <td>38.2600</td>\n",
              "      <td>46.92</td>\n",
              "      <td>2.155078e+09</td>\n",
              "      <td>ABT</td>\n",
              "      <td>-15.963342</td>\n",
              "    </tr>\n",
              "    <tr>\n",
              "      <th>2004-12-31</th>\n",
              "      <td>46.8900</td>\n",
              "      <td>50.00</td>\n",
              "      <td>37.5000</td>\n",
              "      <td>39.43</td>\n",
              "      <td>2.230449e+09</td>\n",
              "      <td>ABT</td>\n",
              "      <td>23.535379</td>\n",
              "    </tr>\n",
              "    <tr>\n",
              "      <th>2005-12-31</th>\n",
              "      <td>39.5500</td>\n",
              "      <td>49.87</td>\n",
              "      <td>39.1800</td>\n",
              "      <td>48.71</td>\n",
              "      <td>2.594777e+09</td>\n",
              "      <td>ABT</td>\n",
              "      <td>17.491275</td>\n",
              "    </tr>\n",
              "    <tr>\n",
              "      <th>2006-12-31</th>\n",
              "      <td>48.8300</td>\n",
              "      <td>59.50</td>\n",
              "      <td>48.7500</td>\n",
              "      <td>57.23</td>\n",
              "      <td>3.301416e+09</td>\n",
              "      <td>ABT</td>\n",
              "      <td>-7.111655</td>\n",
              "    </tr>\n",
              "    <tr>\n",
              "      <th>2007-12-31</th>\n",
              "      <td>56.8200</td>\n",
              "      <td>61.09</td>\n",
              "      <td>45.7500</td>\n",
              "      <td>53.16</td>\n",
              "      <td>4.126745e+09</td>\n",
              "      <td>ABT</td>\n",
              "      <td>2.595937</td>\n",
              "    </tr>\n",
              "    <tr>\n",
              "      <th>2008-12-31</th>\n",
              "      <td>53.2500</td>\n",
              "      <td>57.39</td>\n",
              "      <td>41.2700</td>\n",
              "      <td>54.54</td>\n",
              "      <td>4.801649e+09</td>\n",
              "      <td>ABT</td>\n",
              "      <td>-12.779611</td>\n",
              "    </tr>\n",
              "    <tr>\n",
              "      <th>2009-12-31</th>\n",
              "      <td>54.4700</td>\n",
              "      <td>56.79</td>\n",
              "      <td>45.2600</td>\n",
              "      <td>47.57</td>\n",
              "      <td>4.080456e+09</td>\n",
              "      <td>ABT</td>\n",
              "      <td>18.204751</td>\n",
              "    </tr>\n",
              "    <tr>\n",
              "      <th>2010-12-31</th>\n",
              "      <td>47.4400</td>\n",
              "      <td>56.44</td>\n",
              "      <td>45.0700</td>\n",
              "      <td>56.23</td>\n",
              "      <td>4.480763e+09</td>\n",
              "      <td>ABT</td>\n",
              "      <td>14.565179</td>\n",
              "    </tr>\n",
              "    <tr>\n",
              "      <th>2011-12-31</th>\n",
              "      <td>56.5800</td>\n",
              "      <td>72.47</td>\n",
              "      <td>53.9600</td>\n",
              "      <td>64.42</td>\n",
              "      <td>3.604048e+09</td>\n",
              "      <td>ABT</td>\n",
              "      <td>-40.375660</td>\n",
              "    </tr>\n",
              "    <tr>\n",
              "      <th>2012-12-31</th>\n",
              "      <td>64.1300</td>\n",
              "      <td>65.53</td>\n",
              "      <td>31.6400</td>\n",
              "      <td>38.41</td>\n",
              "      <td>2.046995e+09</td>\n",
              "      <td>ABT</td>\n",
              "      <td>18.953398</td>\n",
              "    </tr>\n",
              "    <tr>\n",
              "      <th>2013-12-31</th>\n",
              "      <td>38.3800</td>\n",
              "      <td>46.50</td>\n",
              "      <td>35.6500</td>\n",
              "      <td>45.69</td>\n",
              "      <td>1.494521e+09</td>\n",
              "      <td>ABT</td>\n",
              "      <td>-0.919238</td>\n",
              "    </tr>\n",
              "    <tr>\n",
              "      <th>2014-12-31</th>\n",
              "      <td>45.7000</td>\n",
              "      <td>51.74</td>\n",
              "      <td>39.0000</td>\n",
              "      <td>45.27</td>\n",
              "      <td>1.467951e+09</td>\n",
              "      <td>ABT</td>\n",
              "      <td>-15.153523</td>\n",
              "    </tr>\n",
              "    <tr>\n",
              "      <th>2015-12-31</th>\n",
              "      <td>45.1100</td>\n",
              "      <td>45.79</td>\n",
              "      <td>36.0000</td>\n",
              "      <td>38.41</td>\n",
              "      <td>2.289874e+09</td>\n",
              "      <td>ABT</td>\n",
              "      <td>48.581099</td>\n",
              "    </tr>\n",
              "    <tr>\n",
              "      <th>2016-12-31</th>\n",
              "      <td>38.6334</td>\n",
              "      <td>57.77</td>\n",
              "      <td>38.3400</td>\n",
              "      <td>57.07</td>\n",
              "      <td>1.645674e+09</td>\n",
              "      <td>ABT</td>\n",
              "      <td>24.566322</td>\n",
              "    </tr>\n",
              "    <tr>\n",
              "      <th>2017-12-31</th>\n",
              "      <td>58.2000</td>\n",
              "      <td>74.92</td>\n",
              "      <td>55.5800</td>\n",
              "      <td>71.09</td>\n",
              "      <td>1.558892e+09</td>\n",
              "      <td>ABT</td>\n",
              "      <td>22.098748</td>\n",
              "    </tr>\n",
              "    <tr>\n",
              "      <th>2018-12-31</th>\n",
              "      <td>71.5700</td>\n",
              "      <td>89.24</td>\n",
              "      <td>65.5000</td>\n",
              "      <td>86.80</td>\n",
              "      <td>1.310354e+09</td>\n",
              "      <td>ABT</td>\n",
              "      <td>24.930876</td>\n",
              "    </tr>\n",
              "    <tr>\n",
              "      <th>2019-12-31</th>\n",
              "      <td>86.5000</td>\n",
              "      <td>115.14</td>\n",
              "      <td>61.6100</td>\n",
              "      <td>108.44</td>\n",
              "      <td>1.694420e+09</td>\n",
              "      <td>ABT</td>\n",
              "      <td>11.112136</td>\n",
              "    </tr>\n",
              "    <tr>\n",
              "      <th>2020-12-31</th>\n",
              "      <td>108.1700</td>\n",
              "      <td>128.54</td>\n",
              "      <td>107.2551</td>\n",
              "      <td>120.49</td>\n",
              "      <td>2.918554e+08</td>\n",
              "      <td>ABT</td>\n",
              "      <td>NaN</td>\n",
              "    </tr>\n",
              "  </tbody>\n",
              "</table>\n",
              "</div>"
            ]
          },
          "metadata": {
            "tags": []
          },
          "execution_count": 103
        }
      ]
    },
    {
      "cell_type": "code",
      "metadata": {
        "colab": {
          "base_uri": "https://localhost:8080/"
        },
        "id": "vnwqlMLHhmYF",
        "outputId": "f7cd62f4-5ea0-4db9-975b-c1b141948c6c"
      },
      "source": [
        "index = pd.date_range('1/1/2000', periods=9, freq='T')\n",
        "series = pd.Series(range(9), index=index)\n",
        "series"
      ],
      "execution_count": null,
      "outputs": [
        {
          "output_type": "execute_result",
          "data": {
            "text/plain": [
              "2000-01-01 00:00:00    0\n",
              "2000-01-01 00:01:00    1\n",
              "2000-01-01 00:02:00    2\n",
              "2000-01-01 00:03:00    3\n",
              "2000-01-01 00:04:00    4\n",
              "2000-01-01 00:05:00    5\n",
              "2000-01-01 00:06:00    6\n",
              "2000-01-01 00:07:00    7\n",
              "2000-01-01 00:08:00    8\n",
              "Freq: T, dtype: int64"
            ]
          },
          "metadata": {
            "tags": []
          },
          "execution_count": 77
        }
      ]
    },
    {
      "cell_type": "code",
      "metadata": {
        "colab": {
          "base_uri": "https://localhost:8080/"
        },
        "id": "ppq3f8Yih2KQ",
        "outputId": "f9aa9dc5-68ff-4144-b7e5-111ba8a89817"
      },
      "source": [
        "series.resample('3T').sum()"
      ],
      "execution_count": null,
      "outputs": [
        {
          "output_type": "execute_result",
          "data": {
            "text/plain": [
              "2000-01-01 00:00:00     3\n",
              "2000-01-01 00:03:00    12\n",
              "2000-01-01 00:06:00    21\n",
              "Freq: 3T, dtype: int64"
            ]
          },
          "metadata": {
            "tags": []
          },
          "execution_count": 78
        }
      ]
    },
    {
      "cell_type": "code",
      "metadata": {
        "colab": {
          "base_uri": "https://localhost:8080/"
        },
        "id": "lDloHn9gh4xo",
        "outputId": "2921ef82-6337-445f-88f3-1396a25d6bdc"
      },
      "source": [
        "series.resample('3T', label='right').sum()"
      ],
      "execution_count": null,
      "outputs": [
        {
          "output_type": "execute_result",
          "data": {
            "text/plain": [
              "2000-01-01 00:03:00     3\n",
              "2000-01-01 00:06:00    12\n",
              "2000-01-01 00:09:00    21\n",
              "Freq: 3T, dtype: int64"
            ]
          },
          "metadata": {
            "tags": []
          },
          "execution_count": 79
        }
      ]
    },
    {
      "cell_type": "code",
      "metadata": {
        "colab": {
          "base_uri": "https://localhost:8080/"
        },
        "id": "auV3IDHciFkp",
        "outputId": "aa23802a-0f58-432f-cd41-6c0467691018"
      },
      "source": [
        "series.resample('3T', label='right', closed='right').sum()"
      ],
      "execution_count": null,
      "outputs": [
        {
          "output_type": "execute_result",
          "data": {
            "text/plain": [
              "2000-01-01 00:00:00     0\n",
              "2000-01-01 00:03:00     6\n",
              "2000-01-01 00:06:00    15\n",
              "2000-01-01 00:09:00    15\n",
              "Freq: 3T, dtype: int64"
            ]
          },
          "metadata": {
            "tags": []
          },
          "execution_count": 80
        }
      ]
    },
    {
      "cell_type": "code",
      "metadata": {
        "colab": {
          "base_uri": "https://localhost:8080/"
        },
        "id": "xANy4fzqiJ65",
        "outputId": "030b4535-a49f-483b-c952-8cfceb3353a5"
      },
      "source": [
        "series.resample('3T', label='right', closed='left').sum()"
      ],
      "execution_count": null,
      "outputs": [
        {
          "output_type": "execute_result",
          "data": {
            "text/plain": [
              "2000-01-01 00:03:00     3\n",
              "2000-01-01 00:06:00    12\n",
              "2000-01-01 00:09:00    21\n",
              "Freq: 3T, dtype: int64"
            ]
          },
          "metadata": {
            "tags": []
          },
          "execution_count": 81
        }
      ]
    },
    {
      "cell_type": "markdown",
      "metadata": {
        "id": "a9_AZMU6WFgV"
      },
      "source": [
        "# CIK"
      ]
    },
    {
      "cell_type": "code",
      "metadata": {
        "id": "l6JAXRmyiYtx"
      },
      "source": [
        "import requests\n",
        "import bs4 as bs\n",
        "\n",
        "resp = requests.get('http://en.wikipedia.org/wiki/List_of_S%26P_500_companies')\n",
        "soup = bs.BeautifulSoup(resp.text, 'lxml')\n",
        "table = soup.find('table', {'class': 'wikitable sortable'})\n",
        "\n",
        "tickers = []\n",
        "industries = []\n",
        "sectors = []\n",
        "\n",
        "for row in table.findAll('tr')[1:]:\n",
        "        ticker = row.findAll('td')[0].text\n",
        "        industry = row.findAll('td')[7].text\n",
        "        sector = row.findAll('td')[3].text\n",
        "\n",
        "        tickers.append(ticker)\n",
        "        industries.append(industry)\n",
        "        sectors.append(sector)\n",
        "\n",
        "tickers    = list(map(lambda s: s.strip(), tickers))\n",
        "industries = list(map(lambda s: s.strip(), industries))\n",
        "sectors     = list(map(lambda s: s.strip(), sectors))\n",
        "\n",
        "tickerdf = pd.DataFrame(tickers,columns=['ticker'])\n",
        "sectordf = pd.DataFrame(industries,columns=['SEC'])\n",
        "sector2df = pd.DataFrame(sectors,columns=['industry'])\n",
        "\n",
        "tickerandsector = pd.concat([tickerdf, sectordf, sector2df], axis=1)\n",
        "\n",
        "cik_lookup = dict(tickerandsector[['ticker', 'SEC']].values)"
      ],
      "execution_count": 9,
      "outputs": []
    },
    {
      "cell_type": "code",
      "metadata": {
        "id": "pGVX91lxWF4p"
      },
      "source": [
        ""
      ],
      "execution_count": null,
      "outputs": []
    }
  ]
}