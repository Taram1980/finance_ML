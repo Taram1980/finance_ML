{
  "nbformat": 4,
  "nbformat_minor": 0,
  "metadata": {
    "colab": {
      "name": "Copy_my_script_sycle(Santiment).ipynb",
      "provenance": [],
      "collapsed_sections": [
        "dxGbnCJktXuG",
        "mcrjIJkroUVm",
        "s9ZfwaNNJ-Eu",
        "iNTEfTaKKEGw",
        "EF_5AYWBursN",
        "hTH1YZRbX_8d",
        "98eVlov42Rzk",
        "PHaUSxpIkbcv",
        "56Wdg011Lyc-",
        "eqeJubx1_5Aj",
        "_Jxc_KURzsKp",
        "XsBJEUAG6Ml_",
        "cmHlwMRdX_8m",
        "Fd7RIUpxYLOX",
        "JR3fE7mNYXyi",
        "WsTWsJS2X_8v"
      ],
      "toc_visible": true,
      "include_colab_link": true
    },
    "kernelspec": {
      "display_name": "Python 3",
      "language": "python",
      "name": "python3"
    },
    "language_info": {
      "codemirror_mode": {
        "name": "ipython",
        "version": 3
      },
      "file_extension": ".py",
      "mimetype": "text/x-python",
      "name": "python",
      "nbconvert_exporter": "python",
      "pygments_lexer": "ipython3",
      "version": "3.7.8"
    },
    "accelerator": "GPU"
  },
  "cells": [
    {
      "cell_type": "markdown",
      "metadata": {
        "id": "view-in-github",
        "colab_type": "text"
      },
      "source": [
        "<a href=\"https://colab.research.google.com/github/Taram1980/finance_ML/blob/master/Copy_my_script_sycle(Santiment).ipynb\" target=\"_parent\"><img src=\"https://colab.research.google.com/assets/colab-badge.svg\" alt=\"Open In Colab\"/></a>"
      ]
    },
    {
      "cell_type": "markdown",
      "metadata": {
        "id": "dxGbnCJktXuG"
      },
      "source": [
        "# PIP"
      ]
    },
    {
      "cell_type": "code",
      "metadata": {
        "colab": {
          "base_uri": "https://localhost:8080/"
        },
        "id": "SVVcPYrflwiV",
        "outputId": "25c44a95-7aee-4829-cb67-e2c46cb6a36a"
      },
      "source": [
        "! pip install NRCLex\n",
        "! pip install transformers\n",
        "! pip install pytorch_pretrained_bert\n",
        "! pip install yfinance\n",
        "! pip install alpha_vantage"
      ],
      "execution_count": 1,
      "outputs": [
        {
          "output_type": "stream",
          "text": [
            "Collecting NRCLex\n",
            "\u001b[?25l  Downloading https://files.pythonhosted.org/packages/41/1c/0097ee39d456c8a92b2eb5dfd59f581a09a6bafede184a058fb0f19bb6ea/NRCLex-3.0.0.tar.gz (396kB)\n",
            "\r\u001b[K     |▉                               | 10kB 23.2MB/s eta 0:00:01\r\u001b[K     |█▋                              | 20kB 16.2MB/s eta 0:00:01\r\u001b[K     |██▌                             | 30kB 13.7MB/s eta 0:00:01\r\u001b[K     |███▎                            | 40kB 13.1MB/s eta 0:00:01\r\u001b[K     |████▏                           | 51kB 8.7MB/s eta 0:00:01\r\u001b[K     |█████                           | 61kB 9.0MB/s eta 0:00:01\r\u001b[K     |█████▉                          | 71kB 9.4MB/s eta 0:00:01\r\u001b[K     |██████▋                         | 81kB 10.5MB/s eta 0:00:01\r\u001b[K     |███████▍                        | 92kB 9.8MB/s eta 0:00:01\r\u001b[K     |████████▎                       | 102kB 8.4MB/s eta 0:00:01\r\u001b[K     |█████████                       | 112kB 8.4MB/s eta 0:00:01\r\u001b[K     |██████████                      | 122kB 8.4MB/s eta 0:00:01\r\u001b[K     |██████████▊                     | 133kB 8.4MB/s eta 0:00:01\r\u001b[K     |███████████▋                    | 143kB 8.4MB/s eta 0:00:01\r\u001b[K     |████████████▍                   | 153kB 8.4MB/s eta 0:00:01\r\u001b[K     |█████████████▎                  | 163kB 8.4MB/s eta 0:00:01\r\u001b[K     |██████████████                  | 174kB 8.4MB/s eta 0:00:01\r\u001b[K     |██████████████▉                 | 184kB 8.4MB/s eta 0:00:01\r\u001b[K     |███████████████▊                | 194kB 8.4MB/s eta 0:00:01\r\u001b[K     |████████████████▌               | 204kB 8.4MB/s eta 0:00:01\r\u001b[K     |█████████████████▍              | 215kB 8.4MB/s eta 0:00:01\r\u001b[K     |██████████████████▏             | 225kB 8.4MB/s eta 0:00:01\r\u001b[K     |███████████████████             | 235kB 8.4MB/s eta 0:00:01\r\u001b[K     |███████████████████▉            | 245kB 8.4MB/s eta 0:00:01\r\u001b[K     |████████████████████▊           | 256kB 8.4MB/s eta 0:00:01\r\u001b[K     |█████████████████████▌          | 266kB 8.4MB/s eta 0:00:01\r\u001b[K     |██████████████████████▎         | 276kB 8.4MB/s eta 0:00:01\r\u001b[K     |███████████████████████▏        | 286kB 8.4MB/s eta 0:00:01\r\u001b[K     |████████████████████████        | 296kB 8.4MB/s eta 0:00:01\r\u001b[K     |████████████████████████▉       | 307kB 8.4MB/s eta 0:00:01\r\u001b[K     |█████████████████████████▋      | 317kB 8.4MB/s eta 0:00:01\r\u001b[K     |██████████████████████████▌     | 327kB 8.4MB/s eta 0:00:01\r\u001b[K     |███████████████████████████▎    | 337kB 8.4MB/s eta 0:00:01\r\u001b[K     |████████████████████████████    | 348kB 8.4MB/s eta 0:00:01\r\u001b[K     |█████████████████████████████   | 358kB 8.4MB/s eta 0:00:01\r\u001b[K     |█████████████████████████████▊  | 368kB 8.4MB/s eta 0:00:01\r\u001b[K     |██████████████████████████████▋ | 378kB 8.4MB/s eta 0:00:01\r\u001b[K     |███████████████████████████████▍| 389kB 8.4MB/s eta 0:00:01\r\u001b[K     |████████████████████████████████| 399kB 8.4MB/s \n",
            "\u001b[?25hRequirement already satisfied: textblob in /usr/local/lib/python3.7/dist-packages (from NRCLex) (0.15.3)\n",
            "Requirement already satisfied: nltk>=3.1 in /usr/local/lib/python3.7/dist-packages (from textblob->NRCLex) (3.2.5)\n",
            "Requirement already satisfied: six in /usr/local/lib/python3.7/dist-packages (from nltk>=3.1->textblob->NRCLex) (1.15.0)\n",
            "Building wheels for collected packages: NRCLex\n",
            "  Building wheel for NRCLex (setup.py) ... \u001b[?25l\u001b[?25hdone\n",
            "  Created wheel for NRCLex: filename=NRCLex-3.0.0-cp37-none-any.whl size=43310 sha256=ac9f8d1ab796d715eb6e9e810bbbb1202232800a25cf174b7b291566c8adef0d\n",
            "  Stored in directory: /root/.cache/pip/wheels/17/31/64/035a8d245b4c217aeb8e8a2702d05dc91544b9c2334db72414\n",
            "Successfully built NRCLex\n",
            "Installing collected packages: NRCLex\n",
            "Successfully installed NRCLex-3.0.0\n",
            "Collecting transformers\n",
            "\u001b[?25l  Downloading https://files.pythonhosted.org/packages/2c/d8/5144b0712f7f82229a8da5983a8fbb8d30cec5fbd5f8d12ffe1854dcea67/transformers-4.4.1-py3-none-any.whl (2.1MB)\n",
            "\u001b[K     |████████████████████████████████| 2.1MB 7.4MB/s \n",
            "\u001b[?25hRequirement already satisfied: regex!=2019.12.17 in /usr/local/lib/python3.7/dist-packages (from transformers) (2019.12.20)\n",
            "Requirement already satisfied: importlib-metadata; python_version < \"3.8\" in /usr/local/lib/python3.7/dist-packages (from transformers) (3.7.2)\n",
            "Requirement already satisfied: requests in /usr/local/lib/python3.7/dist-packages (from transformers) (2.23.0)\n",
            "Collecting sacremoses\n",
            "\u001b[?25l  Downloading https://files.pythonhosted.org/packages/7d/34/09d19aff26edcc8eb2a01bed8e98f13a1537005d31e95233fd48216eed10/sacremoses-0.0.43.tar.gz (883kB)\n",
            "\u001b[K     |████████████████████████████████| 890kB 36.5MB/s \n",
            "\u001b[?25hRequirement already satisfied: numpy>=1.17 in /usr/local/lib/python3.7/dist-packages (from transformers) (1.19.5)\n",
            "Requirement already satisfied: filelock in /usr/local/lib/python3.7/dist-packages (from transformers) (3.0.12)\n",
            "Requirement already satisfied: tqdm>=4.27 in /usr/local/lib/python3.7/dist-packages (from transformers) (4.41.1)\n",
            "Collecting tokenizers<0.11,>=0.10.1\n",
            "\u001b[?25l  Downloading https://files.pythonhosted.org/packages/71/23/2ddc317b2121117bf34dd00f5b0de194158f2a44ee2bf5e47c7166878a97/tokenizers-0.10.1-cp37-cp37m-manylinux2010_x86_64.whl (3.2MB)\n",
            "\u001b[K     |████████████████████████████████| 3.2MB 46.8MB/s \n",
            "\u001b[?25hRequirement already satisfied: packaging in /usr/local/lib/python3.7/dist-packages (from transformers) (20.9)\n",
            "Requirement already satisfied: typing-extensions>=3.6.4; python_version < \"3.8\" in /usr/local/lib/python3.7/dist-packages (from importlib-metadata; python_version < \"3.8\"->transformers) (3.7.4.3)\n",
            "Requirement already satisfied: zipp>=0.5 in /usr/local/lib/python3.7/dist-packages (from importlib-metadata; python_version < \"3.8\"->transformers) (3.4.1)\n",
            "Requirement already satisfied: chardet<4,>=3.0.2 in /usr/local/lib/python3.7/dist-packages (from requests->transformers) (3.0.4)\n",
            "Requirement already satisfied: certifi>=2017.4.17 in /usr/local/lib/python3.7/dist-packages (from requests->transformers) (2020.12.5)\n",
            "Requirement already satisfied: urllib3!=1.25.0,!=1.25.1,<1.26,>=1.21.1 in /usr/local/lib/python3.7/dist-packages (from requests->transformers) (1.24.3)\n",
            "Requirement already satisfied: idna<3,>=2.5 in /usr/local/lib/python3.7/dist-packages (from requests->transformers) (2.10)\n",
            "Requirement already satisfied: six in /usr/local/lib/python3.7/dist-packages (from sacremoses->transformers) (1.15.0)\n",
            "Requirement already satisfied: click in /usr/local/lib/python3.7/dist-packages (from sacremoses->transformers) (7.1.2)\n",
            "Requirement already satisfied: joblib in /usr/local/lib/python3.7/dist-packages (from sacremoses->transformers) (1.0.1)\n",
            "Requirement already satisfied: pyparsing>=2.0.2 in /usr/local/lib/python3.7/dist-packages (from packaging->transformers) (2.4.7)\n",
            "Building wheels for collected packages: sacremoses\n",
            "  Building wheel for sacremoses (setup.py) ... \u001b[?25l\u001b[?25hdone\n",
            "  Created wheel for sacremoses: filename=sacremoses-0.0.43-cp37-none-any.whl size=893262 sha256=1a7bbe3d90b09de7295b82a545355b8a82abc6608f2c68682e6c97b9f278a2c0\n",
            "  Stored in directory: /root/.cache/pip/wheels/29/3c/fd/7ce5c3f0666dab31a50123635e6fb5e19ceb42ce38d4e58f45\n",
            "Successfully built sacremoses\n",
            "Installing collected packages: sacremoses, tokenizers, transformers\n",
            "Successfully installed sacremoses-0.0.43 tokenizers-0.10.1 transformers-4.4.1\n",
            "Collecting pytorch_pretrained_bert\n",
            "\u001b[?25l  Downloading https://files.pythonhosted.org/packages/d7/e0/c08d5553b89973d9a240605b9c12404bcf8227590de62bae27acbcfe076b/pytorch_pretrained_bert-0.6.2-py3-none-any.whl (123kB)\n",
            "\u001b[K     |████████████████████████████████| 133kB 9.8MB/s \n",
            "\u001b[?25hRequirement already satisfied: torch>=0.4.1 in /usr/local/lib/python3.7/dist-packages (from pytorch_pretrained_bert) (1.8.0+cu101)\n",
            "Collecting boto3\n",
            "\u001b[?25l  Downloading https://files.pythonhosted.org/packages/0b/3e/1649fa2b98a71635f721b00fd45477f7e2ecb4d5416d768abfa992ba771c/boto3-1.17.29-py2.py3-none-any.whl (131kB)\n",
            "\u001b[K     |████████████████████████████████| 133kB 16.3MB/s \n",
            "\u001b[?25hRequirement already satisfied: regex in /usr/local/lib/python3.7/dist-packages (from pytorch_pretrained_bert) (2019.12.20)\n",
            "Requirement already satisfied: requests in /usr/local/lib/python3.7/dist-packages (from pytorch_pretrained_bert) (2.23.0)\n",
            "Requirement already satisfied: tqdm in /usr/local/lib/python3.7/dist-packages (from pytorch_pretrained_bert) (4.41.1)\n",
            "Requirement already satisfied: numpy in /usr/local/lib/python3.7/dist-packages (from pytorch_pretrained_bert) (1.19.5)\n",
            "Requirement already satisfied: typing-extensions in /usr/local/lib/python3.7/dist-packages (from torch>=0.4.1->pytorch_pretrained_bert) (3.7.4.3)\n",
            "Collecting s3transfer<0.4.0,>=0.3.0\n",
            "\u001b[?25l  Downloading https://files.pythonhosted.org/packages/ea/43/4b4a1b26eb03a429a4c37ca7fdf369d938bd60018fc194e94b8379b0c77c/s3transfer-0.3.4-py2.py3-none-any.whl (69kB)\n",
            "\u001b[K     |████████████████████████████████| 71kB 8.7MB/s \n",
            "\u001b[?25hCollecting jmespath<1.0.0,>=0.7.1\n",
            "  Downloading https://files.pythonhosted.org/packages/07/cb/5f001272b6faeb23c1c9e0acc04d48eaaf5c862c17709d20e3469c6e0139/jmespath-0.10.0-py2.py3-none-any.whl\n",
            "Collecting botocore<1.21.0,>=1.20.29\n",
            "\u001b[?25l  Downloading https://files.pythonhosted.org/packages/ec/d0/b14d6bff655a0d24a2035480ac31d806844ae549c0db114acc450e4db8b8/botocore-1.20.29-py2.py3-none-any.whl (7.3MB)\n",
            "\u001b[K     |████████████████████████████████| 7.3MB 15.5MB/s \n",
            "\u001b[?25hRequirement already satisfied: chardet<4,>=3.0.2 in /usr/local/lib/python3.7/dist-packages (from requests->pytorch_pretrained_bert) (3.0.4)\n",
            "Requirement already satisfied: idna<3,>=2.5 in /usr/local/lib/python3.7/dist-packages (from requests->pytorch_pretrained_bert) (2.10)\n",
            "Requirement already satisfied: urllib3!=1.25.0,!=1.25.1,<1.26,>=1.21.1 in /usr/local/lib/python3.7/dist-packages (from requests->pytorch_pretrained_bert) (1.24.3)\n",
            "Requirement already satisfied: certifi>=2017.4.17 in /usr/local/lib/python3.7/dist-packages (from requests->pytorch_pretrained_bert) (2020.12.5)\n",
            "Requirement already satisfied: python-dateutil<3.0.0,>=2.1 in /usr/local/lib/python3.7/dist-packages (from botocore<1.21.0,>=1.20.29->boto3->pytorch_pretrained_bert) (2.8.1)\n",
            "Requirement already satisfied: six>=1.5 in /usr/local/lib/python3.7/dist-packages (from python-dateutil<3.0.0,>=2.1->botocore<1.21.0,>=1.20.29->boto3->pytorch_pretrained_bert) (1.15.0)\n",
            "\u001b[31mERROR: botocore 1.20.29 has requirement urllib3<1.27,>=1.25.4, but you'll have urllib3 1.24.3 which is incompatible.\u001b[0m\n",
            "Installing collected packages: jmespath, botocore, s3transfer, boto3, pytorch-pretrained-bert\n",
            "Successfully installed boto3-1.17.29 botocore-1.20.29 jmespath-0.10.0 pytorch-pretrained-bert-0.6.2 s3transfer-0.3.4\n",
            "Collecting yfinance\n",
            "  Downloading https://files.pythonhosted.org/packages/7a/e8/b9d7104d3a4bf39924799067592d9e59119fcfc900a425a12e80a3123ec8/yfinance-0.1.55.tar.gz\n",
            "Requirement already satisfied: pandas>=0.24 in /usr/local/lib/python3.7/dist-packages (from yfinance) (1.1.5)\n",
            "Requirement already satisfied: numpy>=1.15 in /usr/local/lib/python3.7/dist-packages (from yfinance) (1.19.5)\n",
            "Requirement already satisfied: requests>=2.20 in /usr/local/lib/python3.7/dist-packages (from yfinance) (2.23.0)\n",
            "Requirement already satisfied: multitasking>=0.0.7 in /usr/local/lib/python3.7/dist-packages (from yfinance) (0.0.9)\n",
            "Collecting lxml>=4.5.1\n",
            "\u001b[?25l  Downloading https://files.pythonhosted.org/packages/d2/88/b25778f17e5320c1c58f8c5060fb5b037288e162bd7554c30799e9ea90db/lxml-4.6.2-cp37-cp37m-manylinux1_x86_64.whl (5.5MB)\n",
            "\u001b[K     |████████████████████████████████| 5.5MB 11.9MB/s \n",
            "\u001b[?25hRequirement already satisfied: pytz>=2017.2 in /usr/local/lib/python3.7/dist-packages (from pandas>=0.24->yfinance) (2018.9)\n",
            "Requirement already satisfied: python-dateutil>=2.7.3 in /usr/local/lib/python3.7/dist-packages (from pandas>=0.24->yfinance) (2.8.1)\n",
            "Requirement already satisfied: chardet<4,>=3.0.2 in /usr/local/lib/python3.7/dist-packages (from requests>=2.20->yfinance) (3.0.4)\n",
            "Requirement already satisfied: certifi>=2017.4.17 in /usr/local/lib/python3.7/dist-packages (from requests>=2.20->yfinance) (2020.12.5)\n",
            "Requirement already satisfied: idna<3,>=2.5 in /usr/local/lib/python3.7/dist-packages (from requests>=2.20->yfinance) (2.10)\n",
            "Requirement already satisfied: urllib3!=1.25.0,!=1.25.1,<1.26,>=1.21.1 in /usr/local/lib/python3.7/dist-packages (from requests>=2.20->yfinance) (1.24.3)\n",
            "Requirement already satisfied: six>=1.5 in /usr/local/lib/python3.7/dist-packages (from python-dateutil>=2.7.3->pandas>=0.24->yfinance) (1.15.0)\n",
            "Building wheels for collected packages: yfinance\n",
            "  Building wheel for yfinance (setup.py) ... \u001b[?25l\u001b[?25hdone\n",
            "  Created wheel for yfinance: filename=yfinance-0.1.55-py2.py3-none-any.whl size=22616 sha256=e58522e6ce13c572a10d193c2f5de9b07592f8ebb03322032ad7cc04f72d386e\n",
            "  Stored in directory: /root/.cache/pip/wheels/04/98/cc/2702a4242d60bdc14f48b4557c427ded1fe92aedf257d4565c\n",
            "Successfully built yfinance\n",
            "Installing collected packages: lxml, yfinance\n",
            "  Found existing installation: lxml 4.2.6\n",
            "    Uninstalling lxml-4.2.6:\n",
            "      Successfully uninstalled lxml-4.2.6\n",
            "Successfully installed lxml-4.6.2 yfinance-0.1.55\n",
            "Collecting alpha_vantage\n",
            "  Downloading https://files.pythonhosted.org/packages/ba/b4/d95f9e0eccea6732bab5a079772d453a4f0b68a9f63740d9cf320f92beaa/alpha_vantage-2.3.1-py3-none-any.whl\n",
            "Requirement already satisfied: requests in /usr/local/lib/python3.7/dist-packages (from alpha_vantage) (2.23.0)\n",
            "Collecting aiohttp\n",
            "\u001b[?25l  Downloading https://files.pythonhosted.org/packages/88/c0/5890b4c8b04a79b7360e8fe4490feb0bb3ab179743f199f0e6220cebd568/aiohttp-3.7.4.post0-cp37-cp37m-manylinux2014_x86_64.whl (1.3MB)\n",
            "\u001b[K     |████████████████████████████████| 1.3MB 15.7MB/s \n",
            "\u001b[?25hRequirement already satisfied: certifi>=2017.4.17 in /usr/local/lib/python3.7/dist-packages (from requests->alpha_vantage) (2020.12.5)\n",
            "Requirement already satisfied: chardet<4,>=3.0.2 in /usr/local/lib/python3.7/dist-packages (from requests->alpha_vantage) (3.0.4)\n",
            "Requirement already satisfied: urllib3!=1.25.0,!=1.25.1,<1.26,>=1.21.1 in /usr/local/lib/python3.7/dist-packages (from requests->alpha_vantage) (1.24.3)\n",
            "Requirement already satisfied: idna<3,>=2.5 in /usr/local/lib/python3.7/dist-packages (from requests->alpha_vantage) (2.10)\n",
            "Collecting async-timeout<4.0,>=3.0\n",
            "  Downloading https://files.pythonhosted.org/packages/e1/1e/5a4441be21b0726c4464f3f23c8b19628372f606755a9d2e46c187e65ec4/async_timeout-3.0.1-py3-none-any.whl\n",
            "Requirement already satisfied: attrs>=17.3.0 in /usr/local/lib/python3.7/dist-packages (from aiohttp->alpha_vantage) (20.3.0)\n",
            "Requirement already satisfied: typing-extensions>=3.6.5 in /usr/local/lib/python3.7/dist-packages (from aiohttp->alpha_vantage) (3.7.4.3)\n",
            "Collecting multidict<7.0,>=4.5\n",
            "\u001b[?25l  Downloading https://files.pythonhosted.org/packages/7c/a6/4123b8165acbe773d1a8dc8e3f0d1edea16d29f7de018eda769abb56bd30/multidict-5.1.0-cp37-cp37m-manylinux2014_x86_64.whl (142kB)\n",
            "\u001b[K     |████████████████████████████████| 143kB 54.6MB/s \n",
            "\u001b[?25hCollecting yarl<2.0,>=1.0\n",
            "\u001b[?25l  Downloading https://files.pythonhosted.org/packages/f1/62/046834c5fc998c88ab2ef722f5d42122230a632212c8afa76418324f53ff/yarl-1.6.3-cp37-cp37m-manylinux2014_x86_64.whl (294kB)\n",
            "\u001b[K     |████████████████████████████████| 296kB 54.6MB/s \n",
            "\u001b[?25hInstalling collected packages: async-timeout, multidict, yarl, aiohttp, alpha-vantage\n",
            "Successfully installed aiohttp-3.7.4.post0 alpha-vantage-2.3.1 async-timeout-3.0.1 multidict-5.1.0 yarl-1.6.3\n"
          ],
          "name": "stdout"
        }
      ]
    },
    {
      "cell_type": "markdown",
      "metadata": {
        "id": "3bJsZhz_00CF"
      },
      "source": [
        "# Check cuda:"
      ]
    },
    {
      "cell_type": "code",
      "metadata": {
        "colab": {
          "base_uri": "https://localhost:8080/",
          "height": 34
        },
        "id": "YszfkM_n0zZH",
        "outputId": "203cc2ee-730b-4c08-e375-2d8ae2b16917"
      },
      "source": [
        "import torch\r\n",
        "display(torch.cuda.is_available())"
      ],
      "execution_count": 2,
      "outputs": [
        {
          "output_type": "display_data",
          "data": {
            "text/plain": [
              "True"
            ]
          },
          "metadata": {
            "tags": []
          }
        }
      ]
    },
    {
      "cell_type": "markdown",
      "metadata": {
        "id": "mcrjIJkroUVm"
      },
      "source": [
        "# Library"
      ]
    },
    {
      "cell_type": "code",
      "metadata": {
        "colab": {
          "base_uri": "https://localhost:8080/"
        },
        "id": "9RY2_l2bX_8O",
        "outputId": "2ae2184f-00eb-4b86-8a1e-2718cf362162"
      },
      "source": [
        "import re\n",
        "import requests\n",
        "import unicodedata\n",
        "from bs4 import BeautifulSoup\n",
        "import requests\n",
        "from nrclex import NRCLex\n",
        "import pandas as pd\n",
        "import pickle\n",
        "# import yfinance as yf\n",
        "import time\n",
        "import matplotlib.pyplot as plt\n",
        "from alpha_vantage.timeseries import TimeSeries\n",
        "import numpy as np\n",
        "from tqdm import tqdm\n",
        " \n",
        "import bs4 as bs\n",
        "import requests\n",
        "import pandas as pd\n",
        " \n",
        "from transformers import pipeline\n",
        "import pandas as pd\n",
        "from tqdm import tqdm\n",
        " \n",
        "import sys\n",
        " \n",
        "import nltk\n",
        "nltk.download('punkt')\n",
        " \n",
        "import os\n",
        "import copy\n",
        "import numpy as np\n",
        "import time\n",
        "import torch\n",
        "import torch.nn as nn\n",
        "import torch.nn.functional as F\n",
        "from torch.optim import lr_scheduler\n",
        "from torch.utils.data import Dataset, DataLoader\n",
        "from pytorch_pretrained_bert import BertTokenizer, BertModel, BertForMaskedLM, BertConfig\n",
        "# from bertModel import BertClassification, dense_opt\n",
        "# from datasets import text_dataset, financialPhraseBankDataset\n",
        "import argparse\n",
        "from sklearn.metrics import f1_score\n",
        " \n",
        "from transformers import pipeline\n",
        "\n",
        "from sklearn.feature_extraction.text import TfidfTransformer, CountVectorizer, TfidfVectorizer\n",
        "from sklearn.metrics import confusion_matrix, accuracy_score, classification_report\n",
        "from sklearn.naive_bayes import MultinomialNB\n",
        "from sklearn.pipeline import Pipeline\n",
        "from sklearn.model_selection import GridSearchCV, train_test_split\n",
        "\n",
        "from sklearn.metrics.pairwise import cosine_similarity\n",
        "from sklearn.metrics import jaccard_score\n",
        "\n",
        "from statistics import mean\n",
        "\n",
        "import matplotlib.pyplot as plt\n",
        "import seaborn as sns\n",
        "\n",
        "\n",
        "pd.options.mode.chained_assignment = None  # default='warn'"
      ],
      "execution_count": 3,
      "outputs": [
        {
          "output_type": "stream",
          "text": [
            "[nltk_data] Downloading package punkt to /root/nltk_data...\n",
            "[nltk_data]   Unzipping tokenizers/punkt.zip.\n"
          ],
          "name": "stdout"
        }
      ]
    },
    {
      "cell_type": "markdown",
      "metadata": {
        "id": "BR1d2CVk_rOt"
      },
      "source": [
        "## DEL Library for finBert from dataset and bertModel"
      ]
    },
    {
      "cell_type": "code",
      "metadata": {
        "id": "QI--xEvh_Sz5"
      },
      "source": [
        "from __future__ import print_function, division\r\n",
        "import torch\r\n",
        "import torch.nn as nn\r\n",
        "import torch.optim as optim\r\n",
        "from pytorch_pretrained_bert import BertTokenizer, BertModel, BertForMaskedLM, BertConfig\r\n",
        "\r\n",
        "class BertClassification(nn.Module):\r\n",
        "   \r\n",
        "    def __init__(self, weight_path, num_labels=2, vocab=\"base-cased\"):\r\n",
        "        super(BertClassification, self).__init__()\r\n",
        "        self.num_labels = num_labels\r\n",
        "        self.vocab = vocab \r\n",
        "        if self.vocab == \"base-cased\":\r\n",
        "            self.bert = BertModel.from_pretrained(weight_path)\r\n",
        "            self.config = BertConfig(vocab_size_or_config_json_file=28996, hidden_size=768, num_hidden_layers=12, num_attention_heads=12, intermediate_size=3072)\r\n",
        "\r\n",
        "        elif self.vocab == \"base-uncased\":\r\n",
        "            self.bert = BertModel.from_pretrained(weight_path)\r\n",
        "            self.config = BertConfig(vocab_size_or_config_json_file=30522, hidden_size=768, num_hidden_layers=12, num_attention_heads=12, intermediate_size=3072)\r\n",
        "            \r\n",
        "        elif self.vocab == \"finance-cased\":\r\n",
        "            self.bert = BertModel.from_pretrained(weight_path)\r\n",
        "            self.config = BertConfig(vocab_size_or_config_json_file=28573, hidden_size=768, num_hidden_layers=12, num_attention_heads=12, intermediate_size=3072)\r\n",
        "\r\n",
        "        elif self.vocab ==\"finance-uncased\":\r\n",
        "            self.bert = BertModel.from_pretrained(weight_path)\r\n",
        "            self.config = BertConfig(vocab_size_or_config_json_file=30873, hidden_size=768, num_hidden_layers=12, num_attention_heads=12, intermediate_size=3072)\r\n",
        "\r\n",
        "        self.dropout = nn.Dropout(self.config.hidden_dropout_prob)\r\n",
        "        self.classifier = nn.Linear(self.config.hidden_size, num_labels)\r\n",
        "        nn.init.xavier_normal(self.classifier.weight)\r\n",
        "    \r\n",
        "    def forward(self, input_ids, token_type_ids=None, attention_mask=None, labels=None, graphEmbeddings=None):\r\n",
        "        _, pooled_output = self.bert(input_ids, token_type_ids, attention_mask)\r\n",
        "        pooled_output = self.dropout(pooled_output)\r\n",
        "       \r\n",
        "        logits = self.classifier(pooled_output)\r\n",
        "            \r\n",
        "        return logits\r\n",
        "\r\n",
        "class dense_opt():\r\n",
        "    def __init__(self, model):\r\n",
        "        super(dense_opt, self).__init__()\r\n",
        "        self.lrlast = .001\r\n",
        "        self.lrmain = .00001\r\n",
        "        self.optim = optim.Adam(\r\n",
        "        [ {\"params\":model.bert.parameters(),\"lr\": self.lrmain},\r\n",
        "          {\"params\":model.classifier.parameters(), \"lr\": self.lrlast},\r\n",
        "       ])\r\n",
        "    \r\n",
        "    def get_optim(self):\r\n",
        "        return self.optim\r\n",
        "import os \r\n",
        "import json \r\n",
        "import numpy as np \r\n",
        "from sklearn.model_selection import train_test_split\r\n",
        "import torch\r\n",
        "from torch.utils.data import Dataset, DataLoader\r\n",
        "from pytorch_pretrained_bert import BertTokenizer, BertModel, BertForMaskedLM\r\n",
        "import pandas as pd\r\n",
        "\r\n",
        "class text_dataset(Dataset):\r\n",
        "    def __init__(self, x_y_list, vocab_path, max_seq_length=256, vocab = 'base-cased', transform=None):\r\n",
        "        self.max_seq_length = max_seq_length\r\n",
        "        self.x_y_list = x_y_list\r\n",
        "        self.vocab = vocab\r\n",
        "        if self.vocab == 'base-cased':\r\n",
        "            self.tokenizer = BertTokenizer.from_pretrained('bert-base-cased', do_lower_case=False, do_basic_tokenize=True)\r\n",
        "        elif self.vocab == 'finance-cased':\r\n",
        "            self.tokenizer = BertTokenizer(vocab_file = vocab_path, do_lower_case = False, do_basic_tokenize = True)\r\n",
        "        elif self.vocab == 'base-uncased':\r\n",
        "            self.tokenizer = BertTokenizer.from_pretrained('bert-base-uncased', do_lower_case=True, do_basic_tokenize=True) \r\n",
        "        elif self.vocab == 'finance-uncased':\r\n",
        "            self.tokenizer = BertTokenizer(vocab_file = vocab_path, do_lower_case = True, do_basic_tokenize = True)\r\n",
        "    \r\n",
        "    def __getitem__(self,index):\r\n",
        "        tokenized_review = self.tokenizer.tokenize(self.x_y_list[0][index])\r\n",
        "        \r\n",
        "        if len(tokenized_review) > self.max_seq_length:\r\n",
        "            tokenized_review = tokenized_review[:self.max_seq_length]\r\n",
        "            \r\n",
        "        ids_review  = self.tokenizer.convert_tokens_to_ids(tokenized_review)\r\n",
        "        \r\n",
        "        mask_input = [1]*len(ids_review)\r\n",
        "        \r\n",
        "        padding = [0] * (self.max_seq_length - len(ids_review))\r\n",
        "        ids_review += padding\r\n",
        "        mask_input += padding\r\n",
        "        \r\n",
        "        input_type = [0]*self.max_seq_length  \r\n",
        "        \r\n",
        "        assert len(ids_review) == self.max_seq_length\r\n",
        "        assert len(mask_input) == self.max_seq_length\r\n",
        "        assert len(input_type) == self.max_seq_length \r\n",
        "        \r\n",
        "        ids_review = torch.tensor(ids_review)\r\n",
        "        mask_input =  torch.tensor(mask_input)\r\n",
        "        input_type = torch.tensor(input_type)\r\n",
        "        \r\n",
        "        sentiment = self.x_y_list[1][index] \r\n",
        "        list_of_labels = [torch.from_numpy(np.array(sentiment))]\r\n",
        "        \r\n",
        "        input_feature = {\"token_type_ids\": input_type, \"attention_mask\":mask_input, \"input_ids\":ids_review}\r\n",
        "        \r\n",
        "        return input_feature, list_of_labels[0]\r\n",
        "    \r\n",
        "    def __len__(self):\r\n",
        "        return len(self.x_y_list[0])\r\n",
        "\r\n",
        "\r\n",
        "def transform_labels(x_y_list):\r\n",
        "    dict_labels = {'positive': 0, 'neutral':1, 'negative':2}\r\n",
        "    x_y_list_transformed = [[item[0], dict_labels[item[1]]] for item in x_y_list]\r\n",
        "    X = np.asarray([item[0] for item in x_y_list_transformed])\r\n",
        "    y = np.asarray([item[1] for item in x_y_list_transformed])\r\n",
        "    return X, y\r\n",
        "\r\n",
        "def financialPhraseBankDataset(dir_):\r\n",
        "    fb_path = os.path.join(dir_, 'FinancialPhraseBank-v1.0')\r\n",
        "    data_50 = os.path.join(fb_path, 'Sentences_50Agree.txt')\r\n",
        "    sent_50 = []\r\n",
        "    rand_idx = 45\r\n",
        "    \r\n",
        "    with open(data_50, 'rb') as fi:\r\n",
        "        for l in fi:\r\n",
        "            l = l.decode('utf-8', 'replace')\r\n",
        "            sent_50.append(l.strip())\r\n",
        "    \r\n",
        "    x_y_list_50 = [sent.split(\"@\") for sent in sent_50]\r\n",
        "    x50, y50 = transform_labels(x_y_list_50)\r\n",
        "    \r\n",
        "    data = [x50, y50]\r\n",
        "    X_train, X_test, y_train, y_test = train_test_split(data[0], data[1], test_size=0.1, random_state=rand_idx, stratify=data[1])\r\n",
        "\r\n",
        "    y_train = pd.get_dummies(y_train).values.tolist()\r\n",
        "    y_test = pd.get_dummies(y_test).values.tolist()\r\n",
        "    X_train = X_train.tolist()\r\n",
        "    X_test = X_test.tolist()\r\n",
        "            \r\n",
        "    final_data = [X_train, X_test, y_train, y_test] \r\n",
        "     \r\n",
        "    return final_data"
      ],
      "execution_count": 4,
      "outputs": []
    },
    {
      "cell_type": "markdown",
      "metadata": {
        "id": "-r9UyphZ0fce"
      },
      "source": [
        "## Library McDonald"
      ]
    },
    {
      "cell_type": "code",
      "metadata": {
        "id": "3fCIQTn90e_H"
      },
      "source": [
        "def load_finphrase(filename):\r\n",
        "    ''' Clean FinancialPhrasebank data\r\n",
        "        Input:\r\n",
        "            - filename\r\n",
        "        Output:\r\n",
        "            - a dataframe for the loaded financial phase bank data\r\n",
        "    '''\r\n",
        "    df = pd.read_csv(finphrase_dir + filename,\r\n",
        "                     sep='\\@',\r\n",
        "                     engine='python',\r\n",
        "                     encoding='latin-1',\r\n",
        "                     header=None,\r\n",
        "                     names=['sentence','label'])\r\n",
        "    print('Total number of record in the file: ', df.shape[0])\r\n",
        "    df.drop_duplicates(inplace=True)\r\n",
        "    print('Total number of record after dropping duplicates: ', df.shape[0])\r\n",
        "    print('Missing label: ', df['label'].isnull().sum())\r\n",
        "    df.reset_index(inplace=True, drop=True)\r\n",
        "    # df = pd.get_dummies(df, columns=['label'])\r\n",
        "    return df\r\n",
        "\r\n",
        "\r\n",
        "# Consider Negation\r\n",
        "negate = [\"aint\", \"arent\", \"cannot\", \"cant\", \"couldnt\", \"darent\", \"didnt\", \"doesnt\", \"ain't\", \"aren't\", \"can't\",\r\n",
        "          \"couldn't\", \"daren't\", \"didn't\", \"doesn't\", \"dont\", \"hadnt\", \"hasnt\", \"havent\", \"isnt\", \"mightnt\", \"mustnt\",\r\n",
        "          \"neither\", \"don't\", \"hadn't\", \"hasn't\", \"haven't\", \"isn't\", \"mightn't\", \"mustn't\", \"neednt\", \"needn't\",\r\n",
        "          \"never\", \"none\", \"nope\", \"nor\", \"not\", \"nothing\", \"nowhere\", \"oughtnt\", \"shant\", \"shouldnt\", \"wasnt\",\r\n",
        "          \"werent\", \"oughtn't\", \"shan't\", \"shouldn't\", \"wasn't\", \"weren't\", \"without\", \"wont\", \"wouldnt\", \"won't\",\r\n",
        "          \"wouldn't\", \"rarely\", \"seldom\", \"despite\", \"no\", \"nobody\"]\r\n",
        "\r\n",
        "def negated(word):\r\n",
        "    \"\"\"\r\n",
        "    Determine if preceding word is a negation word\r\n",
        "    \"\"\"\r\n",
        "    if word.lower() in negate:\r\n",
        "        return True\r\n",
        "    else:\r\n",
        "        return False\r\n",
        "\r\n",
        "def tone_count_with_negation_check(dict, article):\r\n",
        "    \"\"\"\r\n",
        "    Count positive and negative words with negation check. Account for simple negation only for positive words.\r\n",
        "    Simple negation is taken to be observations of one of negate words occurring within three words\r\n",
        "    preceding a positive words.\r\n",
        "    \"\"\"\r\n",
        "    pos_count = 0\r\n",
        "    neg_count = 0\r\n",
        "    tone_score = 0\r\n",
        "\r\n",
        "    pos_words = []\r\n",
        "    neg_words = []\r\n",
        " \r\n",
        "    input_words = re.findall(r'\\b([a-zA-Z]+n\\'t|[a-zA-Z]+\\'s|[a-zA-Z]+)\\b', article.lower())\r\n",
        "    word_count = len(input_words)\r\n",
        "     \r\n",
        "    for i in range(0, word_count):\r\n",
        "        if input_words[i] in dict['Negative']:\r\n",
        "            neg_count += 1\r\n",
        "            neg_words.append(input_words[i])\r\n",
        "        if input_words[i] in dict['Positive']:\r\n",
        "            if i >= 3:\r\n",
        "                if negated(input_words[i - 1]) or negated(input_words[i - 2]) or negated(input_words[i - 3]):\r\n",
        "                    neg_count += 1\r\n",
        "                    neg_words.append(input_words[i] + ' (with negation)')\r\n",
        "                else:\r\n",
        "                    pos_count += 1\r\n",
        "                    pos_words.append(input_words[i])\r\n",
        "            elif i == 2:\r\n",
        "                if negated(input_words[i - 1]) or negated(input_words[i - 2]):\r\n",
        "                    neg_count += 1\r\n",
        "                    neg_words.append(input_words[i] + ' (with negation)')\r\n",
        "                else:\r\n",
        "                    pos_count += 1\r\n",
        "                    pos_words.append(input_words[i])\r\n",
        "            elif i == 1:\r\n",
        "                if negated(input_words[i - 1]):\r\n",
        "                    neg_count += 1\r\n",
        "                    neg_words.append(input_words[i] + ' (with negation)')\r\n",
        "                else:\r\n",
        "                    pos_count += 1\r\n",
        "                    pos_words.append(input_words[i])\r\n",
        "            elif i == 0:\r\n",
        "                pos_count += 1\r\n",
        "                pos_words.append(input_words[i])\r\n",
        " \r\n",
        "    if word_count > 0:\r\n",
        "        tone_score = 100 * (pos_count - neg_count) / word_count\r\n",
        "    else:\r\n",
        "        tone_score = 0\r\n",
        "    \r\n",
        "    # results = [tone_score, word_count, pos_count, neg_count, pos_words, neg_words]\r\n",
        "    results = [tone_score]\r\n",
        "    return results\r\n",
        "\r\n",
        "# columns = ['tone_score', 'word_count', 'n_pos_words', 'n_neg_words', 'pos_words', 'neg_words']\r\n",
        "columns = ['tone_score']"
      ],
      "execution_count": 5,
      "outputs": []
    },
    {
      "cell_type": "markdown",
      "metadata": {
        "id": "wHlNG2iFOaNp"
      },
      "source": [
        "## my_Defs for finBert"
      ]
    },
    {
      "cell_type": "code",
      "metadata": {
        "id": "vglI8tMaOZRS"
      },
      "source": [
        "def bert(sentences):\r\n",
        "  l_all = []\r\n",
        "  p_all = []\r\n",
        "  model.eval()\r\n",
        "  for sent in (sentences): \r\n",
        "      tokenized_sent = tokenizer.tokenize(sent)\r\n",
        "      label = []\r\n",
        "      perse = []\r\n",
        "      if len(tokenized_sent) > max_seq_length:\r\n",
        "          tokenized_sent = tokenized_sent[:max_seq_length]\r\n",
        "      \r\n",
        "      ids_review  = tokenizer.convert_tokens_to_ids(tokenized_sent)\r\n",
        "      mask_input = [1]*len(ids_review)        \r\n",
        "      padding = [0] * (max_seq_length - len(ids_review))\r\n",
        "      ids_review += padding\r\n",
        "      mask_input += padding\r\n",
        "      input_type = [0]*max_seq_length\r\n",
        "      \r\n",
        "      input_ids      = torch.tensor(ids_review).to(device).reshape(-1, 256)\r\n",
        "      attention_mask = torch.tensor(mask_input).to(device).reshape(-1, 256)\r\n",
        "      token_type_ids = torch.tensor(input_type).to(device).reshape(-1, 256)\r\n",
        "      \r\n",
        "      with torch.set_grad_enabled(False):\r\n",
        "          outputs = model(input_ids, token_type_ids, attention_mask)\r\n",
        "          outputs = F.softmax(outputs,dim=1)\r\n",
        "          # print(sent, '\\nFinBERT predicted sentiment: ', labels[torch.argmax(outputs).item()], '\\n', outputs.max(0)[0].max(), '\\n')\r\n",
        "          label.append(labels[torch.argmax(outputs).item()])\r\n",
        "          perse.append(outputs.max(0)[0].max())\r\n",
        "\r\n",
        "      l_all.append(label)\r\n",
        "      p_all.append(perse)    \r\n",
        "  return l_all, p_all\r\n",
        "\r\n",
        "def Average(lst):\r\n",
        "    return mean(lst)"
      ],
      "execution_count": 6,
      "outputs": []
    },
    {
      "cell_type": "code",
      "metadata": {
        "colab": {
          "base_uri": "https://localhost:8080/",
          "height": 17
        },
        "id": "HRVLaqrS5irt",
        "outputId": "e15b00ef-e492-405a-a69b-79bee4499c1b"
      },
      "source": [
        "from IPython.core.display import display, HTML\r\n",
        "display(HTML(\"<style>.container { width:100% !important; }</style>\"))"
      ],
      "execution_count": 7,
      "outputs": [
        {
          "output_type": "display_data",
          "data": {
            "text/html": [
              "<style>.container { width:100% !important; }</style>"
            ],
            "text/plain": [
              "<IPython.core.display.HTML object>"
            ]
          },
          "metadata": {
            "tags": []
          }
        }
      ]
    },
    {
      "cell_type": "markdown",
      "metadata": {
        "id": "ajuSa43Ux_92"
      },
      "source": [
        "# Mount GDrive and my_dir\r\n"
      ]
    },
    {
      "cell_type": "code",
      "metadata": {
        "id": "Pd7oQLKxzQJO",
        "colab": {
          "base_uri": "https://localhost:8080/"
        },
        "outputId": "ad16f4d7-9a3f-4641-9cb8-685a8385133b"
      },
      "source": [
        "if 'google.colab' in sys.modules:\n",
        "  from google.colab import drive\n",
        "  drive.mount('/content/drive')\n",
        "  my_dir = '/content/drive/MyDrive/Marat/'\n",
        "  my_dir_yuki = '/content/drive/MyDrive/Yuki/financial-phrase-bert-master/'\n",
        "  finphrase_dir = my_dir_yuki + 'FinancialPhraseBank-v1.0/'\n",
        "  lmdict_dir = my_dir_yuki + '/LoughranMcDonald/'\n",
        "else:\n",
        "  my_dir = u'F:/Мой диск/Marat/'"
      ],
      "execution_count": 8,
      "outputs": [
        {
          "output_type": "stream",
          "text": [
            "Mounted at /content/drive\n"
          ],
          "name": "stdout"
        }
      ]
    },
    {
      "cell_type": "markdown",
      "metadata": {
        "id": "s9ZfwaNNJ-Eu"
      },
      "source": [
        "# Usefull utility"
      ]
    },
    {
      "cell_type": "markdown",
      "metadata": {
        "id": "iNTEfTaKKEGw"
      },
      "source": [
        "## Структура document"
      ]
    },
    {
      "cell_type": "code",
      "metadata": {
        "colab": {
          "base_uri": "https://localhost:8080/",
          "height": 122
        },
        "id": "jkxGhitFKCcC",
        "outputId": "e76f2eb6-efcf-4c05-d500-eff37d7fa83b"
      },
      "source": [
        "display(document.keys())\r\n",
        "# display(document['MMM'].keys())\r\n",
        "display(document['MMM']['10Q'].keys())\r\n",
        "display(document['MMM']['10Q']['2019-10-25'].keys())\r\n",
        "display(document['MMM']['10Q']['2019-10-25']['len_2item'])\r\n",
        "display(document['MMM']['10Q']['2019-10-25']['numb_aff'])\r\n",
        "# display(document['MMM']['2019-02-07']['len_ex_7'])\r\n",
        "# display(document['MMM']['2019-02-07']['expect_7'])"
      ],
      "execution_count": null,
      "outputs": [
        {
          "output_type": "display_data",
          "data": {
            "text/plain": [
              "dict_keys(['MMM', 'ABT', 'ABBV', 'ABMD', 'ACN', 'ATVI', 'ADBE', 'AMD', 'AAP', 'AES', 'AFL', 'A', 'APD', 'AKAM', 'ALK', 'ALB', 'ARE', 'ALXN', 'ALGN', 'ALLE', 'LNT', 'ALL', 'GOOGL', 'GOOG', 'MO', 'AMZN', 'AMCR', 'AEE', 'AAL', 'AEP', 'AXP', 'AIG', 'AMT', 'AWK', 'AMP', 'ABC', 'AME', 'AMGN', 'APH', 'ADI', 'ANSS', 'ANTM', 'AON', 'AOS', 'APA', 'AAPL', 'AMAT', 'APTV', 'ADM', 'ANET', 'AJG', 'AIZ', 'T', 'ATO', 'ADSK', 'ADP', 'AZO', 'AVB', 'AVY', 'BKR', 'BLL', 'BAC', 'BK', 'BAX', 'BDX', 'BRK.B', 'BBY', 'BIO', 'BIIB', 'BLK', 'BA', 'BKNG', 'BWA', 'BXP', 'BSX', 'BMY', 'AVGO', 'BR', 'BF.B', 'CHRW', 'COG', 'CDNS', 'CPB', 'COF', 'CAH', 'KMX', 'CCL', 'CARR', 'CTLT', 'CAT', 'CBOE', 'CBRE', 'CDW', 'CE', 'CNC', 'CNP', 'CERN', 'CF', 'SCHW', 'CHTR', 'CVX', 'CMG', 'CB', 'CHD', 'CI', 'CINF', 'CTAS', 'CSCO', 'C', 'CFG', 'CTXS', 'CLX', 'CME', 'CMS', 'KO', 'CTSH', 'CL', 'CMCSA', 'CMA', 'CAG', 'COP', 'ED', 'STZ', 'COO', 'CPRT', 'GLW', 'CTVA', 'COST', 'CCI', 'CSX', 'CMI', 'CVS', 'DHI', 'DHR', 'DRI', 'DVA', 'DE', 'DAL', 'XRAY', 'DVN', 'DXCM', 'FANG', 'DLR', 'DFS', 'DISCA', 'DISCK', 'DISH', 'DG', 'DLTR', 'D', 'DPZ', 'DOV', 'DOW', 'DTE', 'DUK', 'DRE', 'DD', 'DXC', 'EMN', 'ETN', 'EBAY', 'ECL', 'EIX', 'EW', 'EA', 'EMR', 'ENPH', 'ETR', 'EOG', 'EFX', 'EQIX', 'EQR', 'ESS', 'EL', 'ETSY', 'EVRG', 'ES', 'RE', 'EXC', 'EXPE', 'EXPD', 'EXR', 'XOM', 'FFIV', 'FB', 'FAST', 'FRT', 'FDX', 'FIS', 'FITB', 'FE', 'FRC', 'FISV', 'FLT', 'FLIR', 'FLS', 'FMC', 'F', 'FTNT', 'FTV', 'FBHS', 'FOXA', 'FOX', 'BEN', 'FCX', 'GPS', 'GRMN', 'IT', 'GD', 'GE', 'GIS', 'GM', 'GPC', 'GILD', 'GL', 'GPN', 'GS', 'GWW', 'HAL', 'HBI', 'HIG', 'HAS', 'HCA', 'PEAK', 'HSIC', 'HSY', 'HES', 'HPE', 'HLT', 'HFC', 'HOLX', 'HD', 'HON', 'HRL', 'HST', 'HWM', 'HPQ', 'HUM', 'HBAN', 'HII', 'IEX', 'IDXX', 'INFO', 'ITW', 'ILMN', 'INCY', 'IR', 'INTC', 'ICE', 'IBM', 'IP', 'IPG', 'IFF', 'INTU', 'ISRG', 'IVZ', 'IPGP', 'IQV', 'IRM', 'JKHY', 'J', 'JBHT', 'SJM', 'JNJ', 'JCI', 'JPM', 'JNPR', 'KSU', 'K', 'KEY', 'KEYS', 'KMB', 'KIM', 'KMI', 'KLAC', 'KHC', 'KR', 'LB', 'LHX', 'LH', 'LRCX', 'LW', 'LVS', 'LEG', 'LDOS', 'LEN', 'LLY', 'LNC', 'LIN', 'LYV', 'LKQ', 'LMT', 'L', 'LOW', 'LUMN', 'LYB', 'MTB', 'MRO', 'MPC', 'MKTX', 'MAR', 'MMC', 'MLM', 'MAS', 'MA', 'MKC', 'MXIM', 'MCD', 'MCK', 'MDT', 'MRK', 'MET', 'MTD', 'MGM', 'MCHP', 'MU', 'MSFT', 'MAA', 'MHK', 'TAP', 'MDLZ', 'MPWR', 'MNST', 'MCO', 'MS', 'MOS', 'MSI', 'MSCI', 'NDAQ', 'NTAP', 'NFLX', 'NWL', 'NEM', 'NWSA', 'NWS', 'NEE', 'NLSN', 'NKE', 'NI', 'NSC', 'NTRS', 'NOC', 'NLOK', 'NCLH', 'NOV', 'NRG', 'NUE', 'NVDA', 'NVR', 'ORLY', 'OXY', 'ODFL', 'OMC', 'OKE', 'ORCL', 'OTIS', 'PCAR', 'PKG', 'PH', 'PAYX', 'PAYC', 'PYPL', 'PNR', 'PBCT', 'PEP', 'PKI', 'PRGO', 'PFE', 'PM', 'PSX', 'PNW', 'PXD', 'PNC', 'POOL', 'PPG', 'PPL', 'PFG', 'PG', 'PGR', 'PLD', 'PRU', 'PEG', 'PSA', 'PHM', 'PVH', 'QRVO', 'PWR', 'QCOM', 'DGX', 'RL', 'RJF', 'RTX', 'O', 'REG', 'REGN', 'RF', 'RSG', 'RMD', 'RHI', 'ROK', 'ROL', 'ROP', 'ROST', 'RCL', 'SPGI', 'CRM', 'SBAC', 'SLB', 'STX', 'SEE', 'SRE', 'NOW', 'SHW', 'SPG', 'SWKS', 'SLG', 'SNA', 'SO', 'LUV', 'SWK', 'SBUX', 'STT', 'STE', 'SYK', 'SIVB', 'SYF', 'SNPS', 'SYY', 'TMUS', 'TROW', 'TTWO', 'TPR', 'TGT', 'TEL', 'TDY', 'TFX', 'TER', 'TSLA', 'TXN', 'TXT', 'TMO', 'TJX', 'TSCO', 'TT', 'TDG', 'TRV', 'TRMB', 'TFC', 'TWTR', 'TYL', 'TSN', 'UDR', 'ULTA', 'USB', 'UAA', 'UA', 'UNP', 'UAL', 'UNH', 'UPS', 'URI', 'UHS', 'UNM', 'VLO', 'VAR', 'VTR', 'VRSN', 'VRSK', 'VZ', 'VRTX', 'VFC', 'VIAC', 'VTRS', 'V', 'VNT', 'VNO', 'VMC', 'WRB', 'WAB', 'WMT', 'WBA', 'DIS', 'WM', 'WAT', 'WEC', 'WFC', 'WELL', 'WST', 'WDC', 'WU', 'WRK', 'WY', 'WHR', 'WMB', 'WLTW', 'WYNN', 'XEL', 'XRX', 'XLNX', 'XYL', 'YUM', 'ZBRA', 'ZBH', 'ZION', 'ZTS'])"
            ]
          },
          "metadata": {
            "tags": []
          }
        },
        {
          "output_type": "display_data",
          "data": {
            "text/plain": [
              "dict_keys(['2020-10-27', '2020-07-28', '2020-04-28', '2019-10-25', '2019-07-26', '2019-04-26', '2018-10-25', '2018-07-26', '2018-05-08', '2017-10-31', '2017-08-01', '2017-05-03', '2016-11-01', '2016-08-02', '2016-05-03', '2015-10-29', '2015-07-30', '2015-04-30', '2014-10-30', '2014-07-31', '2014-05-01', '2013-10-31', '2013-08-01', '2013-05-02', '2012-11-01', '2012-08-02', '2012-05-03', '2011-11-03', '2011-08-04', '2011-05-05', '2010-11-05', '2010-08-04', '2010-05-05', '2009-10-30', '2009-07-31', '2009-05-01', '2008-10-31', '2008-08-01', '2008-05-02', '2007-10-29'])"
            ]
          },
          "metadata": {
            "tags": []
          }
        },
        {
          "output_type": "display_data",
          "data": {
            "text/plain": [
              "dict_keys(['item_2_raw', 'affect', 'len_2item', 'numb_aff'])"
            ]
          },
          "metadata": {
            "tags": []
          }
        },
        {
          "output_type": "display_data",
          "data": {
            "text/plain": [
              "89578"
            ]
          },
          "metadata": {
            "tags": []
          }
        },
        {
          "output_type": "display_data",
          "data": {
            "text/plain": [
              "0.1957785255429795"
            ]
          },
          "metadata": {
            "tags": []
          }
        }
      ]
    },
    {
      "cell_type": "code",
      "metadata": {
        "colab": {
          "base_uri": "https://localhost:8080/",
          "height": 187
        },
        "id": "s8fbckQiKeqj",
        "outputId": "9e98ff33-61fc-40a8-c8bc-a46499aedd24"
      },
      "source": [
        "n0 = 0\r\n",
        "n1 = 0\r\n",
        "n2 = 0\r\n",
        "n3 = 0\r\n",
        "n4 = 0\r\n",
        "n5 = 0\r\n",
        "n6 = 0\r\n",
        "n7 = 0\r\n",
        "n8 = 0\r\n",
        "s = 0\r\n",
        "\r\n",
        "for i in document.keys():\r\n",
        "  for ii in document[i]['10Q'].keys():\r\n",
        "    s+=1\r\n",
        "    # display(document[i][ii].keys())\r\n",
        "    if len(document[i]['10Q'][ii].keys()) == 0:\r\n",
        "      n0+=1\r\n",
        "    elif len(document[i]['10Q'][ii].keys()) == 1:\r\n",
        "      n1+=1\r\n",
        "    elif len(document[i]['10Q'][ii].keys()) == 2:\r\n",
        "      n2+=1\r\n",
        "    elif len(document[i]['10Q'][ii].keys()) == 3:\r\n",
        "      n3+=1\r\n",
        "    elif len(document[i]['10Q'][ii].keys()) == 4:\r\n",
        "      n4+=1\r\n",
        "    elif len(document[i]['10Q'][ii].keys()) >= 5:\r\n",
        "      n5+=1  \r\n",
        "    # elif len(document[i][ii].keys()) == 6:\r\n",
        "    #   n6+=1\r\n",
        "    # elif len(document[i][ii].keys()) == 7:\r\n",
        "    #   n7+=1\r\n",
        "    # elif len(document[i][ii].keys()) == 8:\r\n",
        "    #   n8+=1\r\n",
        "\r\n",
        "\r\n",
        "display(n0, n1, n2, n3, n4, n5, n6, n7, n8, s)"
      ],
      "execution_count": null,
      "outputs": [
        {
          "output_type": "display_data",
          "data": {
            "text/plain": [
              "0"
            ]
          },
          "metadata": {
            "tags": []
          }
        },
        {
          "output_type": "display_data",
          "data": {
            "text/plain": [
              "6314"
            ]
          },
          "metadata": {
            "tags": []
          }
        },
        {
          "output_type": "display_data",
          "data": {
            "text/plain": [
              "0"
            ]
          },
          "metadata": {
            "tags": []
          }
        },
        {
          "output_type": "display_data",
          "data": {
            "text/plain": [
              "0"
            ]
          },
          "metadata": {
            "tags": []
          }
        },
        {
          "output_type": "display_data",
          "data": {
            "text/plain": [
              "12270"
            ]
          },
          "metadata": {
            "tags": []
          }
        },
        {
          "output_type": "display_data",
          "data": {
            "text/plain": [
              "0"
            ]
          },
          "metadata": {
            "tags": []
          }
        },
        {
          "output_type": "display_data",
          "data": {
            "text/plain": [
              "0"
            ]
          },
          "metadata": {
            "tags": []
          }
        },
        {
          "output_type": "display_data",
          "data": {
            "text/plain": [
              "0"
            ]
          },
          "metadata": {
            "tags": []
          }
        },
        {
          "output_type": "display_data",
          "data": {
            "text/plain": [
              "0"
            ]
          },
          "metadata": {
            "tags": []
          }
        },
        {
          "output_type": "display_data",
          "data": {
            "text/plain": [
              "18584"
            ]
          },
          "metadata": {
            "tags": []
          }
        }
      ]
    },
    {
      "cell_type": "markdown",
      "metadata": {
        "id": "EF_5AYWBursN"
      },
      "source": [
        "# CIK_Lookup\r\n"
      ]
    },
    {
      "cell_type": "code",
      "metadata": {
        "id": "15DTEhgcZT6a"
      },
      "source": [
        "resp = requests.get('http://en.wikipedia.org/wiki/List_of_S%26P_500_companies')\r\n",
        "soup = bs.BeautifulSoup(resp.text, 'lxml')\r\n",
        "table = soup.find('table', {'class': 'wikitable sortable'})\r\n",
        "\r\n",
        "tickers = []\r\n",
        "industries = []\r\n",
        "sectors = []\r\n",
        "\r\n",
        "for row in table.findAll('tr')[1:]:\r\n",
        "        ticker = row.findAll('td')[0].text\r\n",
        "        industry = row.findAll('td')[7].text\r\n",
        "        sector = row.findAll('td')[3].text\r\n",
        "\r\n",
        "        tickers.append(ticker)\r\n",
        "        industries.append(industry)\r\n",
        "        sectors.append(sector)\r\n",
        "\r\n",
        "tickers    = list(map(lambda s: s.strip(), tickers))\r\n",
        "industries = list(map(lambda s: s.strip(), industries))\r\n",
        "sectors     = list(map(lambda s: s.strip(), sectors))\r\n",
        "\r\n",
        "tickerdf = pd.DataFrame(tickers,columns=['ticker'])\r\n",
        "sectordf = pd.DataFrame(industries,columns=['SEC'])\r\n",
        "sector2df = pd.DataFrame(sectors,columns=['industry'])\r\n",
        "\r\n",
        "tickerandsector = pd.concat([tickerdf, sectordf, sector2df], axis=1)\r\n",
        "\r\n",
        "cik_lookup = dict(tickerandsector[['ticker', 'SEC']].values)"
      ],
      "execution_count": 9,
      "outputs": []
    },
    {
      "cell_type": "code",
      "metadata": {
        "id": "VT5KhFOkZZfT"
      },
      "source": [
        "# cut cik_lookup\r\n",
        "\r\n",
        "# n = 0\r\n",
        "# a = []\r\n",
        "# b = []\r\n",
        "\r\n",
        "# for k, v in cik_lookup.items():\r\n",
        "#   if n < 5:\r\n",
        "#     a.append(k)\r\n",
        "#     b.append(v)\r\n",
        "#     n+=1\r\n",
        "#     display(n)\r\n",
        "#   else:\r\n",
        "#     break\r\n",
        "\r\n",
        "# cik_lookup = {a1:b1 for a1, b1 in zip(a,b)}\r\n",
        "# cik_lookup"
      ],
      "execution_count": 10,
      "outputs": []
    },
    {
      "cell_type": "markdown",
      "metadata": {
        "id": "J_P6PFiMu2e5"
      },
      "source": [
        "# Качаем котировки"
      ]
    },
    {
      "cell_type": "code",
      "metadata": {
        "id": "g7Qy6-MIX_8c",
        "scrolled": true,
        "colab": {
          "base_uri": "https://localhost:8080/",
          "height": 141
        },
        "outputId": "789dac54-0c1c-4a88-e989-93cc8b3f0548"
      },
      "source": [
        "%%time\n",
        "ts = TimeSeries(key='you code', output_format='pandas')\n",
        "stock = pd.DataFrame()\n",
        "# for ticker in list(cik_lookup.keys())[496:]:    ### ДОКАЧАТЬ\n",
        "for ticker in ['AAPL', 'AMZN', 'FB', 'GOOGL', 'NFLX']:\n",
        "    time.sleep(10)\n",
        "#     try:\n",
        "    display(ticker)\n",
        "    s1, meta_data = ts.get_daily_adjusted(symbol=ticker, outputsize='full')\n",
        "    # s1 = s1[['5. adjusted close']]\n",
        "    s1['Symbol'] = ticker\n",
        "    s1['Date'] = s1.index\n",
        "    s1 = s1.drop_duplicates('Date')\n",
        "    s1 = s1.sort_index()\n",
        "    # for ii in range(50, 350, 100):\n",
        "    #     s1[str(ii) + '_%'] = (s1['5. adjusted close'].shift(-ii)/s1['5. adjusted close'] - 1)*100 \n",
        "\n",
        "    stock = stock.append(s1)\n",
        "#     except:\n",
        "#         continue\n",
        "# stock"
      ],
      "execution_count": 11,
      "outputs": [
        {
          "output_type": "display_data",
          "data": {
            "application/vnd.google.colaboratory.intrinsic+json": {
              "type": "string"
            },
            "text/plain": [
              "'AAPL'"
            ]
          },
          "metadata": {
            "tags": []
          }
        },
        {
          "output_type": "display_data",
          "data": {
            "application/vnd.google.colaboratory.intrinsic+json": {
              "type": "string"
            },
            "text/plain": [
              "'AMZN'"
            ]
          },
          "metadata": {
            "tags": []
          }
        },
        {
          "output_type": "display_data",
          "data": {
            "application/vnd.google.colaboratory.intrinsic+json": {
              "type": "string"
            },
            "text/plain": [
              "'FB'"
            ]
          },
          "metadata": {
            "tags": []
          }
        },
        {
          "output_type": "display_data",
          "data": {
            "application/vnd.google.colaboratory.intrinsic+json": {
              "type": "string"
            },
            "text/plain": [
              "'GOOGL'"
            ]
          },
          "metadata": {
            "tags": []
          }
        },
        {
          "output_type": "display_data",
          "data": {
            "application/vnd.google.colaboratory.intrinsic+json": {
              "type": "string"
            },
            "text/plain": [
              "'NFLX'"
            ]
          },
          "metadata": {
            "tags": []
          }
        },
        {
          "output_type": "stream",
          "text": [
            "CPU times: user 255 ms, sys: 24.4 ms, total: 279 ms\n",
            "Wall time: 59.6 s\n"
          ],
          "name": "stdout"
        }
      ]
    },
    {
      "cell_type": "code",
      "metadata": {
        "id": "iXVIKGcEsbLf"
      },
      "source": [
        "stock.to_csv('/content/drive/MyDrive/Marat/stock_for_Byes.csv')"
      ],
      "execution_count": 14,
      "outputs": []
    },
    {
      "cell_type": "code",
      "metadata": {
        "id": "tk58ojemX_8b"
      },
      "source": [
        "# new_ = pd.DataFrame()\n",
        "# for i in stock['Symbol'].unique():\n",
        "# # for i in ['TSN', 'WAT']:\n",
        "# #     display(i)\n",
        "#     s1 = stock[stock['Symbol'] == i]\n",
        "#     for ii in range(50, 350, 100):\n",
        "#         s1[str(ii) + '_%'] = (s1['5. adjusted close'].shift(-ii)/s1['5. adjusted close'] - 1)*100 \n",
        "#     new_ = new_.append(s1)\n",
        "    "
      ],
      "execution_count": null,
      "outputs": []
    },
    {
      "cell_type": "markdown",
      "metadata": {
        "id": "hTH1YZRbX_8d"
      },
      "source": [
        "# Сбор 10-k"
      ]
    },
    {
      "cell_type": "code",
      "metadata": {
        "id": "Cqk_UOM4X_8e"
      },
      "source": [
        "# display(document.keys())\n",
        "# display(document['AMZN'].keys())\n",
        "# display(document['AMZN']['2019-02-01'].keys())\n",
        "# display((document['AMZN']['2019-02-01']['affect_frequencies']))"
      ],
      "execution_count": null,
      "outputs": []
    },
    {
      "cell_type": "code",
      "metadata": {
        "colab": {
          "base_uri": "https://localhost:8080/"
        },
        "id": "dbJXJH0aX_8f",
        "outputId": "92068538-a1b0-426e-c37e-b65f8fa26a67"
      },
      "source": [
        "%%time\n",
        "\n",
        "def restore_windows_1252_characters(restore_string):\n",
        "    \"\"\"\n",
        "        Replace C1 control characters in the Unicode string s by the\n",
        "        characters at the corresponding code points in Windows-1252,\n",
        "        where possible.\n",
        "    \"\"\"\n",
        "\n",
        "    def to_windows_1252(match):\n",
        "        try:\n",
        "            return bytes([ord(match.group(0))]).decode('windows-1252')\n",
        "        except UnicodeDecodeError:\n",
        "            # No character at the corresponding code point: remove it.\n",
        "            return ''\n",
        "        \n",
        "    return re.sub(r'[\\u0080-\\u0099]', to_windows_1252, restore_string)\n"
      ],
      "execution_count": null,
      "outputs": [
        {
          "output_type": "stream",
          "text": [
            "CPU times: user 3 µs, sys: 0 ns, total: 3 µs\n",
            "Wall time: 5.48 µs\n"
          ],
          "name": "stdout"
        }
      ]
    },
    {
      "cell_type": "markdown",
      "metadata": {
        "id": "98eVlov42Rzk"
      },
      "source": [
        "## Список ссылок к SEC"
      ]
    },
    {
      "cell_type": "code",
      "metadata": {
        "colab": {
          "base_uri": "https://localhost:8080/"
        },
        "id": "TYlgRO9rX_8g",
        "scrolled": true,
        "outputId": "c057651a-a0d6-4111-e828-017b0a788698"
      },
      "source": [
        "%%time\n",
        "\n",
        "#создать 1 раз и не перезаписывать\n",
        "htm_list = {} \n",
        "text_object_dic = {} # поднять навез чтобы не перезаписывать\n",
        "\n",
        "\n",
        "# base URL for the SEC EDGAR browser\n",
        "endpoint = r\"https://www.sec.gov/cgi-bin/browse-edgar\"\n",
        "# CIK = '0001018724'\n",
        "# define our parameters dictionary\n",
        "for CIK in tqdm(cik_lookup.values()):\n",
        "# for CIK in list(cik_lookup.values())[100:120]:\n",
        "    # display(CIK)\n",
        "    param_dict = {'action':'getcompany',\n",
        "                  'CIK':CIK,\n",
        "                  'type':'10-K',\n",
        "                  'dateb':'20210101',\n",
        "                  'owner':'exclude',\n",
        "                  'start':'',\n",
        "                  'output':'',\n",
        "                  'count':'10'}\n",
        "    # request the url, and then parse the response.\n",
        "    response = requests.get(url = endpoint, params = param_dict)\n",
        "    # display('here')\n",
        "    if response.status_code == 429:\n",
        "      time.sleep(int(response.headers[\"Retry-After\"]))\n",
        "    else:\n",
        "      soup = BeautifulSoup(response.content, 'html.parser')\n",
        "      \n",
        "      # Let the user know it was successful.\n",
        "      # print('Request Successful')\n",
        "      # print(response.url)\n",
        "\n",
        "      doc_table = soup.find_all('table', class_='tableFile2')\n",
        "\n",
        "      # define a base url that will be used for link building.\n",
        "      base_url_sec = r\"https://www.sec.gov\"\n",
        "\n",
        "      master_list = []\n",
        "      filing_doc_links = []\n",
        "      \n",
        "      # loop through each row in the table.\n",
        "      for row in doc_table[0].find_all('tr')[1:]:\n",
        "          # display('here')\n",
        "          # find all the columns\n",
        "          cols = row.find_all('td')\n",
        "\n",
        "          # if there are no columns move on to the next row.\n",
        "          if len(cols) != 0:        \n",
        "\n",
        "              # grab the text\n",
        "              filing_type = cols[0].text.strip()                 \n",
        "              filing_date = cols[3].text.strip()\n",
        "              filing_numb = cols[4].text.strip()\n",
        "\n",
        "              # find the links\n",
        "              filing_doc_href = cols[1].find('a', {'href':True, 'id':'documentsbutton'})       \n",
        "              filing_int_href = cols[1].find('a', {'href':True, 'id':'interactiveDataBtn'})\n",
        "              filing_num_href = cols[4].find('a')\n",
        "\n",
        "              # grab the the first href\n",
        "              if filing_doc_href != None:\n",
        "                  filing_doc_link = base_url_sec + filing_doc_href['href'] \n",
        "              else:\n",
        "                  filing_doc_link = 'no link'\n",
        "\n",
        "              # grab the second href\n",
        "              if filing_int_href != None:\n",
        "                  filing_int_link = base_url_sec + filing_int_href['href'] \n",
        "              else:\n",
        "                  filing_int_link = 'no link'\n",
        "\n",
        "              # grab the third href\n",
        "              if filing_num_href != None:\n",
        "                  filing_num_link = base_url_sec + filing_num_href['href'] \n",
        "              else:\n",
        "                  filing_num_link = 'no link'\n",
        "\n",
        "              # create and store data in the dictionary\n",
        "              file_dict = {}\n",
        "              file_dict['file_type'] = filing_type\n",
        "              file_dict['file_number'] = filing_numb\n",
        "              file_dict['file_date'] = filing_date\n",
        "              file_dict['links'] = {}\n",
        "              file_dict['links']['documents'] = filing_doc_link\n",
        "              file_dict['links']['interactive_data'] = filing_int_link\n",
        "              file_dict['links']['filing_number'] = filing_num_link\n",
        "\n",
        "              # let the user know it's working\n",
        "      #         print('-'*100)        \n",
        "      #         print(\"Filing Type: \" + filing_type)\n",
        "      #         print(\"Filing Date: \" + filing_date)\n",
        "      #         print(\"Filing Number: \" + filing_numb)\n",
        "      #         print(\"Document Link: \" + filing_doc_link)\n",
        "      #         print(\"Filing Number Link: \" + filing_num_link)\n",
        "      #         print(\"Interactive Data Link: \" + filing_int_link)\n",
        "\n",
        "              # append dictionary to master list\n",
        "              master_list.append(file_dict)\n",
        "              filing_doc_links.append(filing_doc_link)\n",
        "\n",
        "\n",
        "      finals_list = []\n",
        "      data = []\n",
        "\n",
        "      # МОЯ ДОБАВКА. ВТОРОЙ ТАБЛИЦА ВСЕ ВЗЯТЬ И ПОУЛЧИТЬ ДОКУМЕНТЫ\n",
        "      for i in range(len(master_list)):\n",
        "          response1 = requests.get(url = master_list[i]['links']['documents'])\n",
        "          if response1.status_code == 429:\n",
        "            time.sleep(int(response.headers[\"Retry-After\"]))\n",
        "          else:\n",
        "          # https://www.sec.gov/Archives/edgar/data/1265107/000126510719000004/0001265107-19-000004-index.htm\n",
        "            soup1 = BeautifulSoup(response1.content, 'html.parser')\n",
        "            doc_table1 = soup1.find_all('table', class_='tableFile')\n",
        "\n",
        "        #     filing_doc_href1 = doc_table1[0].find_all('a', {'href':True})[-1] #for txt\n",
        "            filing_doc_href1 = doc_table1[0].find_all('a', {'href':True})[0] #for hml\n",
        "            finals_list.append(base_url_sec + filing_doc_href1['href'])\n",
        "            data.append(master_list[i]['file_date'])\n",
        "      finals_list\n",
        "\n",
        "      # СОЗДАЛИ СЛОВАРЬ С УКАЗАНИЕМ НА КОМПАНИЮ\n",
        "      htm_list[CIK] = [finals_list,data]\n",
        "  #     htm_list[CIK]\n"
      ],
      "execution_count": null,
      "outputs": [
        {
          "output_type": "stream",
          "text": [
            "100%|██████████| 505/505 [08:52<00:00,  1.05s/it]"
          ],
          "name": "stderr"
        },
        {
          "output_type": "stream",
          "text": [
            "CPU times: user 2min 32s, sys: 4.49 s, total: 2min 36s\n",
            "Wall time: 8min 52s\n"
          ],
          "name": "stdout"
        },
        {
          "output_type": "stream",
          "text": [
            "\n"
          ],
          "name": "stderr"
        }
      ]
    },
    {
      "cell_type": "markdown",
      "metadata": {
        "id": "PHaUSxpIkbcv"
      },
      "source": [
        "# Качаем htm_list"
      ]
    },
    {
      "cell_type": "code",
      "metadata": {
        "id": "aA_hNxUruObY"
      },
      "source": [
        "# pickle.dump(htm_list, open(my_dir + \"htm_list_colab.p\", \"wb\"))\r\n",
        "htm_list = pickle.load (open(my_dir + \"htm_list_colab.p\", \"rb\"))\r\n",
        "# htm_list = pickle.load (open(my_dir + \"htm_list_10Q_colab.p\", \"rb\"))   # 10Q"
      ],
      "execution_count": null,
      "outputs": []
    },
    {
      "cell_type": "markdown",
      "metadata": {
        "id": "83a6iEQkX_8j"
      },
      "source": [
        "# Pars re"
      ]
    },
    {
      "cell_type": "code",
      "metadata": {
        "colab": {
          "base_uri": "https://localhost:8080/"
        },
        "id": "-t3vX6EDQqRF",
        "outputId": "72bee218-61a4-4765-8f5e-0b69145166e3"
      },
      "source": [
        "%%time\r\n",
        "\r\n",
        "\r\n",
        "\r\n",
        "all = 0\r\n",
        "all300 = 0\r\n",
        "all50 = 0\r\n",
        "all2 = 0\r\n",
        "n = 0\r\n",
        "# document = {}\r\n",
        "\r\n",
        "for compony, CIK in tqdm(cik_lookup.items()):\r\n",
        "# for compony, CIK in tqdm([list(cik_lookup.items())[1]):\r\n",
        "    document[compony]['10Q'] = {}\r\n",
        "    # display(compony,CIK)\r\n",
        "    # document[compony] = {}        \r\n",
        "    \r\n",
        "    try:\r\n",
        "        for item in range(0, len(htm_list[CIK][0])):\r\n",
        " \r\n",
        "            # display('here')    \r\n",
        "            try:\r\n",
        "                # display(item)\r\n",
        "                # for item in [5]:\r\n",
        "                link_ = htm_list[CIK][0][item]\r\n",
        "                year  = htm_list[CIK][1][item]\r\n",
        "\r\n",
        "                \r\n",
        "\r\n",
        "                r = requests.get(link_.replace('ix?doc=/', ''))\r\n",
        "\r\n",
        "\r\n",
        "                # response = requests.get(htm_list[CIK][0][index].replace('ix?doc=', ''))\r\n",
        "                raw_10k = r.text\r\n",
        "\r\n",
        "                \r\n",
        "            #                 display(link_, year, CIK, compony)\r\n",
        "#COMMENT\r\n",
        "            #     # Regex to find <DOCUMENT> tags\r\n",
        "            #     doc_start_pattern = re.compile(r'<DOCUMENT>')\r\n",
        "            #     doc_end_pattern = re.compile(r'</DOCUMENT>')\r\n",
        "            #     # Regex to find <TYPE> tag prceeding any characters, terminating at new line\r\n",
        "            #     type_pattern = re.compile(r'<TYPE>[^\\n]+')\r\n",
        "\r\n",
        "            #     # Create 3 lists with the span idices for each regex\r\n",
        "            #     ### There are many <Document> Tags in this text file, each as specific exhibit like 10-K, EX-10.17 etc\r\n",
        "            #     ### First filter will give us document tag start <end> and document tag end's <start> \r\n",
        "            #     ### We will use this to later grab content in between these tags\r\n",
        "            #     doc_start_is = [x.end() for x in doc_start_pattern.finditer(raw_10k)]\r\n",
        "            #     doc_end_is = [x.start() for x in doc_end_pattern.finditer(raw_10k)]\r\n",
        "            #     ### Type filter is interesting, it looks for <TYPE> with Not flag as new line, ie terminare there, with + sign\r\n",
        "            #     ### to look for any char afterwards until new line \\n. This will give us <TYPE> followed Section Name like '10-K'\r\n",
        "            #     ### Once we have have this, it returns String Array, below line will with find content after <TYPE> ie, '10-K' \r\n",
        "            #     ### as section names\r\n",
        "            #     # doc_types = [x[len('<TYPE>'):] for x in type_pattern.findall(raw_10k)]\r\n",
        "\r\n",
        "            #     # document[compony][year]['raw_10k'] = {}\r\n",
        "            # #             document[compony][year]['item_7_row'] = {}\r\n",
        "\r\n",
        "            #     # Create a loop to go through each section type and save only the 10-K section in the dictionary\r\n",
        "            #     # for doc_type, doc_start, doc_end in zip(doc_types, doc_start_is, doc_end_is):\r\n",
        "            #         # if doc_type == '10-K':  # ИЗЗА ОТСУТСТВИЯ ЭТОЙ МЕТКИ НЕ ВЫВЕЛОСЬ 800 ДОКУМЕНТОВ\r\n",
        "            #         # document[compony][year]['raw_10k'] = raw_10k[doc_start_is:doc_end_is]\r\n",
        "            #     all += 1\r\n",
        "            # # ТУТ\r\n",
        "            #     # Write the regex\r\n",
        "            #     # regex = re.compile(r'(>Item(\\s|&#160;|&nbsp;)(7A|7|8)\\.{0,1})|(ITEM\\s(7A|7|8))')\r\n",
        "            # #                 regex = re.compile(r'(item\\s(7[\\.\\s]|8[\\.\\s])|'\r\n",
        "            # #                                      'discussion\\sand\\sanalysis\\sof\\s(consolidated\\sfinancial|financial)\\scondition|'\r\n",
        "            # #                                      '(consolidated\\sfinancial|financial)\\sstatements\\sand\\ssupplementary\\sdata)', re.IGNORECASE)\r\n",
        "            # #                 regex = re.compile(r'((>Item)(\\s|&#160;|&nbsp;)(7A.|7.|8.)(\\sManagement\\ss))|(ITEM\\s(7A|7|8))')\r\n",
        "            #     regex = re.compile(r'(>Item(\\s|&#160;|&nbsp;)(7A|7)\\.{0,1})|(ITEM\\s(7A|7))')\r\n",
        "            # #                 regex = re.compile(r'(>(Item|ITEM|item)(\\s|&#160;|&nbsp;)(1A|1B|7A|7|8)\\.{0,1})')\r\n",
        "            #     # Use finditer to math the regex\r\n",
        "            #     # matches = regex.finditer(document[compony][year]['raw_10k'])\r\n",
        "            #     # Write a for loop to print the matches\r\n",
        "            # #                 for match in matches:\r\n",
        "            # #                     print(match)\r\n",
        "               \r\n",
        "            #     # Matches\r\n",
        "            #     matches = regex.finditer(raw_10k[doc_start_is[0]:doc_end_is[0]])\r\n",
        "            # #             display(matches)\r\n",
        "               \r\n",
        "            #     # Create the dataframe\r\n",
        "            #     test_df = pd.DataFrame([(x.group(), x.start(), x.end()) for x in matches])\r\n",
        "            #     test_df.columns = ['item', 'start', 'end']\r\n",
        "            #     test_df['item'] = test_df.item.str.lower()\r\n",
        "   \r\n",
        "             \r\n",
        "            #     # Get rid of unnesesary charcters from the dataframe\r\n",
        "            #     test_df.replace('&#160;',' ',regex=True,inplace=True)\r\n",
        "            #     test_df.replace('&nbsp;',' ',regex=True,inplace=True)\r\n",
        "            #     test_df.replace(' ','',regex=True,inplace=True)\r\n",
        "            #     test_df.replace('\\.','',regex=True,inplace=True)\r\n",
        "            #     test_df.replace('>','',regex=True,inplace=True)\r\n",
        "\r\n",
        "            #     # Drop duplicates\r\n",
        "            #     pos_dat = test_df.sort_values('start', ascending=True).drop_duplicates(subset=['item'], keep='last')\r\n",
        "            #     # Set item as the dataframe index\r\n",
        "            #     pos_dat.set_index('item', inplace=True)\r\n",
        "\r\n",
        "            #     # Get Item 7\r\n",
        "\r\n",
        "            #     item_7_raw = raw_10k[doc_start_is[0]:doc_end_is[0]][pos_dat['start'].loc['item7']:pos_dat['start'].loc['item7a']]\r\n",
        "\r\n",
        "                ### First convert the raw text we have to exrtacted to BeautifulSoup object \r\n",
        "                # item_7_content = BeautifulSoup(item_7_raw, 'lxml')\r\n",
        "#COMMENT\r\n",
        "\r\n",
        "                # if len(item_7_content.get_text())  >= 20000000: # условие постави 30000 знаков после бютифулсупа!!!!!!!!!!!!!!!!!!!!!!!\r\n",
        "                #     all300 +=1\r\n",
        "                # elif len(item_7_content.get_text()) < 20: # условие постави 30000 знаков после бютифулсупа!!!!!!!!!!!!!!!!!!!!!!!\r\n",
        "                #     all2 +=1\r\n",
        "                # else:\r\n",
        "                # document[compony][year] = {}\r\n",
        "                # document[compony][year]['item_7_raw'] = item_7_content.get_text()                           # УБРАЛ\r\n",
        "                # all50 +=1\r\n",
        "\r\n",
        "      #for 10Q\r\n",
        "                # document[compony]['10Q'] = {}                                                              # перенес в начало чтобы ен перезаписывалось                                                              \r\n",
        "                document[compony]['10Q'][year] = {}                                                          # ДОБАВИЛ 3 СТРОКИ\r\n",
        "                # display(document[compony]['10Q'].keys())                                                   \r\n",
        "                document[compony]['10Q'][year]['item_2_raw'] = BeautifulSoup(raw_10k, 'lxml').get_text()             # 10q\r\n",
        "                # display(BeautifulSoup(raw_10k, 'lxml').get_text(), link_ )\r\n",
        "                \r\n",
        "            except:\r\n",
        "                continue\r\n",
        "    except:\r\n",
        "      continue\r\n",
        "          \r\n",
        "# ТУТ\r\n",
        "#                 display(document[compony].keys())\r\n",
        "#                 display('тут_' + str(len(item_7_content.get_text())))\r\n",
        "#                 display(10*'////')\r\n",
        "    # except:\r\n",
        "    #     continue"
      ],
      "execution_count": null,
      "outputs": [
        {
          "output_type": "stream",
          "text": [
            "100%|██████████| 505/505 [4:52:42<00:00, 34.78s/it]"
          ],
          "name": "stderr"
        },
        {
          "output_type": "stream",
          "text": [
            "CPU times: user 3h 47min 57s, sys: 50.6 s, total: 3h 48min 47s\n",
            "Wall time: 4h 52min 42s\n"
          ],
          "name": "stdout"
        },
        {
          "output_type": "stream",
          "text": [
            "\n"
          ],
          "name": "stderr"
        }
      ]
    },
    {
      "cell_type": "markdown",
      "metadata": {
        "id": "qfZTAmlI4vkE"
      },
      "source": [
        "ACN 2020-06-25 1 низ страницы много раз\r\n",
        "item2 без . или :"
      ]
    },
    {
      "cell_type": "markdown",
      "metadata": {
        "id": "vsJyL9_84usF"
      },
      "source": [
        ""
      ]
    },
    {
      "cell_type": "code",
      "metadata": {
        "colab": {
          "base_uri": "https://localhost:8080/",
          "height": 68
        },
        "id": "UsJs55YtOGnz",
        "outputId": "5c5aa1ac-433d-40c8-95a4-541980e9521b"
      },
      "source": [
        "id = 0\r\n",
        "all = 0\r\n",
        "for i in tqdm(list(document.keys())[:100]):\r\n",
        "  for ii in list(document[i]['10Q'].keys())[:]:\r\n",
        "    try:\r\n",
        "      all+=1\r\n",
        "      # display(i,ii)\r\n",
        "      if 'affect' in document[i]['10Q'][ii]:\r\n",
        "      # display(document[i]['10Q'][ii]['item_2_raw_only'])\r\n",
        "        id+=1\r\n",
        "    except:\r\n",
        "      continue\r\n",
        "display(id, all)"
      ],
      "execution_count": null,
      "outputs": [
        {
          "output_type": "stream",
          "text": [
            "100%|██████████| 100/100 [00:00<00:00, 20918.18it/s]\n"
          ],
          "name": "stderr"
        },
        {
          "output_type": "display_data",
          "data": {
            "text/plain": [
              "2549"
            ]
          },
          "metadata": {
            "tags": []
          }
        },
        {
          "output_type": "display_data",
          "data": {
            "text/plain": [
              "3704"
            ]
          },
          "metadata": {
            "tags": []
          }
        }
      ]
    },
    {
      "cell_type": "code",
      "metadata": {
        "colab": {
          "base_uri": "https://localhost:8080/",
          "height": 350
        },
        "id": "nDyjEvbe8jID",
        "outputId": "3e3cde4f-0d46-4ea9-dd41-4e82a3a2ba01"
      },
      "source": [
        "plt.hist(number, )"
      ],
      "execution_count": null,
      "outputs": [
        {
          "output_type": "execute_result",
          "data": {
            "text/plain": [
              "(array([1609.,  758.,  188.,   19.,    3.,    6.,   15.,   13.,   14.,\n",
              "          10.]),\n",
              " array([  4070.,  66180., 128290., 190400., 252510., 314620., 376730.,\n",
              "        438840., 500950., 563060., 625170.]),\n",
              " <a list of 10 Patch objects>)"
            ]
          },
          "metadata": {
            "tags": []
          },
          "execution_count": 62
        },
        {
          "output_type": "display_data",
          "data": {
            "image/png": "[encoded data removed]",
            "text/plain": [
              "<Figure size 432x288 with 1 Axes>"
            ]
          },
          "metadata": {
            "tags": []
          }
        }
      ]
    },
    {
      "cell_type": "markdown",
      "metadata": {
        "id": "O5DOg_nOINpU"
      },
      "source": [
        "# Pars 2 for 10Q + NRC"
      ]
    },
    {
      "cell_type": "code",
      "metadata": {
        "colab": {
          "base_uri": "https://localhost:8080/"
        },
        "id": "pevCDPguNTEG",
        "outputId": "4dc0e796-80af-4e00-9ff0-432bc49c56d6"
      },
      "source": [
        "document['MMM'].keys()"
      ],
      "execution_count": null,
      "outputs": [
        {
          "output_type": "execute_result",
          "data": {
            "text/plain": [
              "dict_keys(['2019-02-07', '2018-02-08', '2017-02-09', '2016-02-11', '2015-02-12', '2014-02-13', '2013-02-14', '2012-02-16', '2011-02-16'])"
            ]
          },
          "metadata": {
            "tags": []
          },
          "execution_count": 13
        }
      ]
    },
    {
      "cell_type": "code",
      "metadata": {
        "colab": {
          "base_uri": "https://localhost:8080/"
        },
        "id": "tXLmNGptgsri",
        "outputId": "cce43652-adac-4470-b3e8-b01d5c876786"
      },
      "source": [
        "%%time\r\n",
        "\r\n",
        "four = 0\r\n",
        "rightfour = 0\r\n",
        "notf = 0\r\n",
        "cto = 0\r\n",
        "necto = 0\r\n",
        "i = 0\r\n",
        "number = []\r\n",
        "for i in tqdm(list(document.keys())[:]):\r\n",
        "  for ii in list(document[i]['10Q'].keys())[:]:\r\n",
        "    for_ = document[i]['10Q'][ii]['item_2_raw']\r\n",
        "    regex = re.compile(r'(Item\\s*2\\s*[.:-–])(\\s*Management.s)|(Item\\s*3\\s*[.:-–])(\\s*Quantitative)|(Item555\\s*4\\s*\\.)(\\s*Control)', re.IGNORECASE)\r\n",
        "    matches = regex.finditer(for_)\r\n",
        "    test_df = pd.DataFrame([(x.group(), x.start(), x.end()) for x in matches])\r\n",
        "    \r\n",
        "    if len(test_df) == 4:\r\n",
        "\r\n",
        "      if test_df[0].str.contains('3')[3] and test_df[0].str.contains('2')[2]:\r\n",
        "        # display(i, ii, test_df, 'stop')\r\n",
        "        start = test_df[1][2]\r\n",
        "        stop  = test_df[1][3] \r\n",
        "          # if (stop - start) > 20000 and (stop - start) < 250000:\r\n",
        "        # document[i]['10Q'][ii]['affect'] = NRCLex(document[i]['10Q'][ii]['item_2_raw'][start:stop]).affect_frequencies\r\n",
        "        # document[i]['10Q'][ii]['numb_aff'] = len(NRCLex(document[i]['10Q'][ii]['item_2_raw'][start:stop]).affect_list)/(len((NRCLex(document[i]['10Q'][ii]['item_2_raw'][start:stop]).words)))\r\n",
        "        # document[i]['10Q'][ii]['len_2item'] = len(document[i]['10Q'][ii]['item_2_raw'][start:stop])\r\n",
        "          \r\n",
        "        #   # display(i, ii, test_df, 'stop')\r\n",
        "        #   cto+=1\r\n",
        "        # else:\r\n",
        "        #   necto+=1\r\n",
        "\r\n",
        "      # number.append(test_df[1][3] - test_df[1][2])\r\n",
        "\r\n",
        "        four+=1\r\n",
        "      else:\r\n",
        "        notf+=1\r\n",
        "\r\n",
        "# display(four, rightfour, notf)"
      ],
      "execution_count": null,
      "outputs": [
        {
          "output_type": "stream",
          "text": [
            "\n",
            "  0%|          | 0/505 [00:00<?, ?it/s]\u001b[A\n",
            "  0%|          | 1/505 [00:12<1:43:21, 12.31s/it]\u001b[A\n",
            "  0%|          | 2/505 [00:13<1:15:18,  8.98s/it]\u001b[A\n",
            "  1%|          | 3/505 [00:16<1:00:35,  7.24s/it]\u001b[A\n",
            "  1%|          | 4/505 [00:22<56:31,  6.77s/it]  \u001b[A\n",
            "  1%|          | 5/505 [00:28<55:03,  6.61s/it]\u001b[A\n",
            "  1%|          | 6/505 [00:39<1:04:53,  7.80s/it]\u001b[A\n",
            "  1%|▏         | 7/505 [00:46<1:04:41,  7.79s/it]\u001b[A\n",
            "  2%|▏         | 8/505 [00:53<1:01:06,  7.38s/it]\u001b[A\n",
            "  2%|▏         | 9/505 [00:59<58:33,  7.08s/it]  \u001b[A\n",
            "  2%|▏         | 10/505 [01:13<1:15:53,  9.20s/it]\u001b[A\n",
            "  2%|▏         | 11/505 [01:30<1:34:43, 11.50s/it]\u001b[A\n",
            "  2%|▏         | 12/505 [01:39<1:28:46, 10.80s/it]\u001b[A\n",
            "  3%|▎         | 13/505 [01:47<1:21:22,  9.92s/it]\u001b[A\n",
            "  3%|▎         | 14/505 [01:55<1:16:03,  9.29s/it]\u001b[A\n",
            "  3%|▎         | 15/505 [02:02<1:10:56,  8.69s/it]\u001b[A\n",
            "  3%|▎         | 16/505 [02:12<1:12:20,  8.88s/it]\u001b[A\n",
            "  3%|▎         | 17/505 [02:29<1:32:09, 11.33s/it]\u001b[A\n",
            "  4%|▎         | 18/505 [02:38<1:26:38, 10.67s/it]\u001b[A\n",
            "  4%|▍         | 19/505 [02:44<1:14:02,  9.14s/it]\u001b[A\n",
            "  4%|▍         | 20/505 [02:44<52:15,  6.47s/it]  \u001b[A\n",
            "  4%|▍         | 21/505 [02:56<1:06:24,  8.23s/it]\u001b[A\n",
            "  4%|▍         | 22/505 [02:57<49:01,  6.09s/it]  \u001b[A\n",
            "  5%|▍         | 23/505 [02:57<34:47,  4.33s/it]\u001b[A\n",
            "  5%|▍         | 24/505 [02:58<24:49,  3.10s/it]\u001b[A\n",
            "  5%|▍         | 25/505 [03:00<23:40,  2.96s/it]\u001b[A\n",
            "  5%|▌         | 26/505 [03:05<28:54,  3.62s/it]\u001b[A\n",
            "  5%|▌         | 27/505 [03:06<21:30,  2.70s/it]\u001b[A\n",
            "  6%|▌         | 28/505 [03:22<54:01,  6.79s/it]\u001b[A\n",
            "  6%|▌         | 29/505 [03:25<45:07,  5.69s/it]\u001b[A\n",
            "  6%|▌         | 30/505 [03:28<36:32,  4.62s/it]\u001b[A\n",
            "  6%|▌         | 31/505 [03:44<1:04:06,  8.12s/it]\u001b[A\n",
            "  6%|▋         | 32/505 [03:46<49:28,  6.28s/it]  \u001b[A\n",
            "  7%|▋         | 33/505 [03:57<1:01:29,  7.82s/it]\u001b[A\n",
            "  7%|▋         | 34/505 [04:01<51:17,  6.53s/it]  \u001b[A\n",
            "  7%|▋         | 35/505 [04:19<1:18:10,  9.98s/it]\u001b[A\n",
            "  7%|▋         | 36/505 [04:24<1:06:16,  8.48s/it]\u001b[A\n",
            "  7%|▋         | 37/505 [04:24<46:54,  6.01s/it]  \u001b[A\n",
            "  8%|▊         | 38/505 [04:27<40:29,  5.20s/it]\u001b[A\n",
            "  8%|▊         | 39/505 [04:31<37:14,  4.80s/it]\u001b[A\n",
            "  8%|▊         | 40/505 [04:33<31:19,  4.04s/it]\u001b[A\n",
            "  8%|▊         | 41/505 [04:41<39:20,  5.09s/it]\u001b[A\n",
            "  8%|▊         | 42/505 [04:53<54:23,  7.05s/it]\u001b[A\n",
            "  9%|▊         | 43/505 [04:56<45:39,  5.93s/it]\u001b[A\n",
            "  9%|▊         | 44/505 [04:57<33:14,  4.33s/it]\u001b[A\n",
            "  9%|▉         | 45/505 [04:59<29:53,  3.90s/it]\u001b[A\n",
            "  9%|▉         | 46/505 [05:03<30:05,  3.93s/it]\u001b[A\n",
            "  9%|▉         | 47/505 [05:12<40:21,  5.29s/it]\u001b[A\n",
            " 10%|▉         | 48/505 [05:20<45:59,  6.04s/it]\u001b[A\n",
            " 10%|▉         | 49/505 [05:20<33:05,  4.35s/it]\u001b[A\n",
            " 10%|▉         | 50/505 [05:23<30:07,  3.97s/it]\u001b[A\n",
            " 10%|█         | 51/505 [05:37<53:03,  7.01s/it]\u001b[A\n",
            " 10%|█         | 52/505 [05:38<38:38,  5.12s/it]\u001b[A\n",
            " 10%|█         | 53/505 [05:38<28:08,  3.74s/it]\u001b[A\n",
            " 11%|█         | 54/505 [05:42<28:26,  3.78s/it]\u001b[A\n",
            " 11%|█         | 55/505 [05:54<45:53,  6.12s/it]\u001b[A\n",
            " 11%|█         | 56/505 [05:54<33:00,  4.41s/it]\u001b[A\n",
            " 11%|█▏        | 57/505 [05:59<32:55,  4.41s/it]\u001b[A\n",
            " 11%|█▏        | 58/505 [06:12<53:10,  7.14s/it]\u001b[A\n",
            " 12%|█▏        | 59/505 [06:19<51:46,  6.96s/it]\u001b[A\n",
            " 12%|█▏        | 60/505 [06:20<39:46,  5.36s/it]\u001b[A\n",
            " 12%|█▏        | 61/505 [06:26<40:18,  5.45s/it]\u001b[A\n",
            " 12%|█▏        | 62/505 [07:21<2:29:53, 20.30s/it]\u001b[A\n",
            " 12%|█▏        | 63/505 [07:22<1:47:41, 14.62s/it]\u001b[A\n",
            " 13%|█▎        | 64/505 [07:29<1:29:39, 12.20s/it]\u001b[A\n",
            " 13%|█▎        | 65/505 [07:35<1:15:32, 10.30s/it]\u001b[A\n",
            " 13%|█▎        | 66/505 [07:35<54:02,  7.39s/it]  \u001b[A\n",
            " 13%|█▎        | 67/505 [07:44<56:40,  7.76s/it]\u001b[A\n",
            " 13%|█▎        | 68/505 [07:49<49:20,  6.77s/it]\u001b[A\n",
            " 14%|█▎        | 69/505 [07:57<53:17,  7.33s/it]\u001b[A\n",
            " 14%|█▍        | 70/505 [08:09<1:03:16,  8.73s/it]\u001b[A\n",
            " 14%|█▍        | 71/505 [08:17<1:00:08,  8.31s/it]\u001b[A\n",
            " 14%|█▍        | 72/505 [08:32<1:15:20, 10.44s/it]\u001b[A\n",
            " 14%|█▍        | 73/505 [08:38<1:05:25,  9.09s/it]\u001b[A\n",
            " 15%|█▍        | 74/505 [08:42<54:31,  7.59s/it]  \u001b[A\n",
            " 15%|█▍        | 75/505 [08:55<1:05:18,  9.11s/it]\u001b[A\n",
            " 15%|█▌        | 76/505 [09:03<1:04:30,  9.02s/it]\u001b[A\n",
            " 15%|█▌        | 77/505 [09:05<47:34,  6.67s/it]  \u001b[A\n",
            " 15%|█▌        | 78/505 [09:12<49:17,  6.93s/it]\u001b[A\n",
            " 16%|█▌        | 79/505 [09:17<44:21,  6.25s/it]\u001b[A\n",
            " 16%|█▌        | 80/505 [09:23<43:21,  6.12s/it]\u001b[A\n",
            " 16%|█▌        | 81/505 [09:28<41:33,  5.88s/it]\u001b[A\n",
            " 16%|█▌        | 82/505 [09:31<36:14,  5.14s/it]\u001b[A\n",
            " 16%|█▋        | 83/505 [09:35<32:08,  4.57s/it]\u001b[A\n",
            " 17%|█▋        | 84/505 [10:30<2:18:51, 19.79s/it]\u001b[A\n",
            " 17%|█▋        | 85/505 [10:32<1:42:08, 14.59s/it]\u001b[A\n",
            " 17%|█▋        | 86/505 [10:41<1:30:06, 12.90s/it]\u001b[A\n",
            " 17%|█▋        | 87/505 [10:46<1:13:31, 10.55s/it]\u001b[A\n",
            " 17%|█▋        | 88/505 [10:47<52:36,  7.57s/it]  \u001b[A\n",
            " 18%|█▊        | 89/505 [10:50<43:26,  6.27s/it]\u001b[A\n",
            " 18%|█▊        | 90/505 [11:08<1:07:03,  9.69s/it]\u001b[A\n",
            " 18%|█▊        | 91/505 [11:14<59:23,  8.61s/it]  \u001b[A\n",
            " 18%|█▊        | 92/505 [11:28<1:09:58, 10.17s/it]\u001b[A\n",
            " 18%|█▊        | 93/505 [11:35<1:04:02,  9.33s/it]\u001b[A\n",
            " 19%|█▊        | 94/505 [11:42<58:43,  8.57s/it]  \u001b[A\n",
            " 19%|█▉        | 95/505 [11:48<53:11,  7.78s/it]\u001b[A\n",
            " 19%|█▉        | 96/505 [11:58<57:10,  8.39s/it]\u001b[A\n",
            " 19%|█▉        | 97/505 [12:03<51:32,  7.58s/it]\u001b[A\n",
            " 19%|█▉        | 98/505 [12:15<59:45,  8.81s/it]\u001b[A\n",
            " 20%|█▉        | 99/505 [12:18<48:19,  7.14s/it]\u001b[A\n",
            " 20%|█▉        | 100/505 [12:24<44:17,  6.56s/it]\u001b[A\n",
            " 20%|██        | 101/505 [12:32<47:27,  7.05s/it]\u001b[A\n",
            " 20%|██        | 102/505 [12:35<39:15,  5.85s/it]\u001b[A\n",
            " 20%|██        | 103/505 [12:55<1:07:08, 10.02s/it]\u001b[A\n",
            " 21%|██        | 104/505 [12:55<47:34,  7.12s/it]  \u001b[A\n",
            " 21%|██        | 105/505 [12:57<36:45,  5.51s/it]\u001b[A\n",
            " 21%|██        | 106/505 [13:12<56:30,  8.50s/it]\u001b[A\n",
            " 21%|██        | 107/505 [13:17<48:41,  7.34s/it]\u001b[A\n",
            " 21%|██▏       | 108/505 [13:31<1:02:39,  9.47s/it]\u001b[A\n",
            " 22%|██▏       | 109/505 [13:34<48:18,  7.32s/it]  \u001b[A\n",
            " 22%|██▏       | 110/505 [13:53<1:12:13, 10.97s/it]\u001b[A\n",
            " 22%|██▏       | 111/505 [14:03<1:09:19, 10.56s/it]\u001b[A\n",
            " 22%|██▏       | 112/505 [14:06<55:33,  8.48s/it]  \u001b[A\n",
            " 22%|██▏       | 113/505 [14:12<49:48,  7.62s/it]\u001b[A\n",
            " 23%|██▎       | 114/505 [14:13<36:13,  5.56s/it]\u001b[A\n",
            " 23%|██▎       | 115/505 [14:27<53:01,  8.16s/it]\u001b[A\n",
            " 23%|██▎       | 116/505 [14:33<48:47,  7.53s/it]\u001b[A\n",
            " 23%|██▎       | 117/505 [14:33<34:50,  5.39s/it]\u001b[A\n",
            " 23%|██▎       | 118/505 [14:39<36:06,  5.60s/it]\u001b[A\n",
            " 24%|██▎       | 119/505 [14:40<26:43,  4.15s/it]\u001b[A\n",
            " 24%|██▍       | 120/505 [14:44<26:14,  4.09s/it]\u001b[A\n",
            " 24%|██▍       | 121/505 [14:54<36:55,  5.77s/it]\u001b[A\n",
            " 24%|██▍       | 122/505 [15:00<37:33,  5.88s/it]\u001b[A\n",
            " 24%|██▍       | 123/505 [15:05<36:28,  5.73s/it]\u001b[A\n",
            " 25%|██▍       | 124/505 [15:06<26:12,  4.13s/it]\u001b[A\n",
            " 25%|██▍       | 125/505 [15:09<25:22,  4.01s/it]\u001b[A\n",
            " 25%|██▍       | 126/505 [15:14<27:13,  4.31s/it]\u001b[A\n",
            " 25%|██▌       | 127/505 [15:16<22:12,  3.52s/it]\u001b[A\n",
            " 25%|██▌       | 128/505 [15:17<16:15,  2.59s/it]\u001b[A\n",
            " 26%|██▌       | 129/505 [15:17<12:05,  1.93s/it]\u001b[A\n",
            " 26%|██▌       | 130/505 [15:17<09:10,  1.47s/it]\u001b[A\n",
            " 26%|██▌       | 131/505 [15:27<25:02,  4.02s/it]\u001b[A\n",
            " 26%|██▌       | 132/505 [15:34<30:06,  4.84s/it]\u001b[A\n",
            " 26%|██▋       | 133/505 [15:41<34:21,  5.54s/it]\u001b[A\n",
            " 27%|██▋       | 134/505 [15:51<42:25,  6.86s/it]\u001b[A\n",
            " 27%|██▋       | 135/505 [15:56<39:02,  6.33s/it]\u001b[A\n",
            " 27%|██▋       | 136/505 [16:03<39:39,  6.45s/it]\u001b[A\n",
            " 27%|██▋       | 137/505 [16:03<28:40,  4.68s/it]\u001b[A\n",
            " 27%|██▋       | 138/505 [16:10<32:32,  5.32s/it]\u001b[A\n",
            " 28%|██▊       | 139/505 [16:11<23:37,  3.87s/it]\u001b[A\n",
            " 28%|██▊       | 140/505 [16:17<28:30,  4.69s/it]\u001b[A\n",
            " 28%|██▊       | 141/505 [16:24<32:09,  5.30s/it]\u001b[A\n",
            " 28%|██▊       | 142/505 [16:29<30:56,  5.12s/it]\u001b[A\n",
            " 28%|██▊       | 143/505 [16:37<36:43,  6.09s/it]\u001b[A\n",
            " 29%|██▊       | 144/505 [16:52<52:35,  8.74s/it]\u001b[A\n",
            " 29%|██▊       | 145/505 [17:02<54:17,  9.05s/it]\u001b[A\n",
            " 29%|██▉       | 146/505 [17:12<55:21,  9.25s/it]\u001b[A\n",
            " 29%|██▉       | 147/505 [17:14<42:47,  7.17s/it]\u001b[A\n",
            " 29%|██▉       | 148/505 [17:15<30:55,  5.20s/it]\u001b[A\n",
            " 30%|██▉       | 149/505 [17:17<26:20,  4.44s/it]\u001b[A\n",
            " 30%|██▉       | 150/505 [17:24<31:16,  5.29s/it]\u001b[A\n",
            " 30%|██▉       | 151/505 [17:30<31:03,  5.27s/it]\u001b[A\n",
            " 30%|███       | 152/505 [17:37<34:32,  5.87s/it]\u001b[A\n",
            " 30%|███       | 153/505 [17:39<27:28,  4.68s/it]\u001b[A\n",
            " 30%|███       | 154/505 [17:43<26:50,  4.59s/it]\u001b[A\n",
            " 31%|███       | 155/505 [17:54<37:02,  6.35s/it]\u001b[A\n",
            " 31%|███       | 156/505 [18:02<41:12,  7.08s/it]\u001b[A\n",
            " 31%|███       | 157/505 [18:06<34:54,  6.02s/it]\u001b[A\n",
            " 31%|███▏      | 158/505 [18:06<24:58,  4.32s/it]\u001b[A\n",
            " 31%|███▏      | 159/505 [18:07<18:20,  3.18s/it]\u001b[A\n",
            " 32%|███▏      | 160/505 [18:09<16:24,  2.85s/it]\u001b[A\n",
            " 32%|███▏      | 161/505 [18:10<13:38,  2.38s/it]\u001b[A\n",
            " 32%|███▏      | 162/505 [18:11<10:56,  1.91s/it]\u001b[A\n",
            " 32%|███▏      | 163/505 [18:21<25:14,  4.43s/it]\u001b[A\n",
            " 32%|███▏      | 164/505 [18:25<24:16,  4.27s/it]\u001b[A\n",
            " 33%|███▎      | 165/505 [18:38<39:20,  6.94s/it]\u001b[A\n",
            " 33%|███▎      | 166/505 [18:39<27:48,  4.92s/it]\u001b[A\n",
            " 33%|███▎      | 167/505 [18:42<24:56,  4.43s/it]\u001b[A\n",
            " 33%|███▎      | 168/505 [18:43<19:52,  3.54s/it]\u001b[A\n",
            " 33%|███▎      | 169/505 [18:50<25:45,  4.60s/it]\u001b[A\n",
            " 34%|███▎      | 170/505 [18:57<28:30,  5.10s/it]\u001b[A\n",
            " 34%|███▍      | 171/505 [19:09<40:59,  7.36s/it]\u001b[A\n",
            " 34%|███▍      | 172/505 [19:14<37:03,  6.68s/it]\u001b[A\n",
            " 34%|███▍      | 173/505 [19:20<35:50,  6.48s/it]\u001b[A\n",
            " 34%|███▍      | 174/505 [19:31<42:40,  7.74s/it]\u001b[A\n",
            " 35%|███▍      | 175/505 [19:34<35:15,  6.41s/it]\u001b[A\n",
            " 35%|███▍      | 176/505 [19:36<27:06,  4.94s/it]\u001b[A\n",
            " 35%|███▌      | 177/505 [19:37<20:19,  3.72s/it]\u001b[A\n",
            " 35%|███▌      | 178/505 [19:51<38:04,  6.99s/it]\u001b[A\n",
            " 35%|███▌      | 179/505 [19:56<34:07,  6.28s/it]\u001b[A\n",
            " 36%|███▌      | 180/505 [20:01<31:50,  5.88s/it]\u001b[A\n",
            " 36%|███▌      | 181/505 [20:01<22:42,  4.21s/it]\u001b[A\n",
            " 36%|███▌      | 182/505 [20:08<26:57,  5.01s/it]\u001b[A\n",
            " 36%|███▌      | 183/505 [20:11<24:05,  4.49s/it]\u001b[A\n",
            " 36%|███▋      | 184/505 [20:19<29:04,  5.43s/it]\u001b[A\n",
            " 37%|███▋      | 185/505 [20:23<26:58,  5.06s/it]\u001b[A\n",
            " 37%|███▋      | 186/505 [20:24<19:14,  3.62s/it]\u001b[A\n",
            " 37%|███▋      | 187/505 [20:31<25:44,  4.86s/it]\u001b[A\n",
            " 37%|███▋      | 188/505 [20:42<34:36,  6.55s/it]\u001b[A\n",
            " 37%|███▋      | 189/505 [20:47<32:22,  6.15s/it]\u001b[A\n",
            " 38%|███▊      | 190/505 [20:49<25:07,  4.79s/it]\u001b[A\n",
            " 38%|███▊      | 191/505 [21:11<53:23, 10.20s/it]\u001b[A\n",
            " 38%|███▊      | 193/505 [21:16<40:46,  7.84s/it]\u001b[A\n",
            " 38%|███▊      | 194/505 [21:25<41:31,  8.01s/it]\u001b[A\n",
            " 39%|███▊      | 195/505 [21:28<34:38,  6.71s/it]\u001b[A\n",
            " 39%|███▉      | 196/505 [21:32<29:47,  5.78s/it]\u001b[A\n",
            " 39%|███▉      | 197/505 [21:40<32:49,  6.39s/it]\u001b[A\n",
            " 39%|███▉      | 198/505 [21:40<23:56,  4.68s/it]\u001b[A\n",
            " 39%|███▉      | 199/505 [21:47<26:21,  5.17s/it]\u001b[A\n",
            " 40%|███▉      | 200/505 [21:50<22:45,  4.48s/it]\u001b[A\n",
            " 40%|███▉      | 201/505 [21:50<16:15,  3.21s/it]\u001b[A\n",
            " 40%|████      | 202/505 [21:51<12:41,  2.51s/it]\u001b[A\n",
            " 40%|████      | 203/505 [21:52<10:29,  2.08s/it]\u001b[A\n",
            " 40%|████      | 204/505 [22:01<21:15,  4.24s/it]\u001b[A\n",
            " 41%|████      | 205/505 [22:21<45:32,  9.11s/it]\u001b[A\n",
            " 41%|████      | 206/505 [22:25<37:21,  7.50s/it]\u001b[A\n",
            " 41%|████      | 207/505 [22:29<32:22,  6.52s/it]\u001b[A\n",
            " 41%|████      | 208/505 [22:36<32:47,  6.63s/it]\u001b[A\n",
            " 41%|████▏     | 209/505 [22:37<23:25,  4.75s/it]\u001b[A\n",
            " 42%|████▏     | 210/505 [22:44<27:18,  5.55s/it]\u001b[A\n",
            " 42%|████▏     | 211/505 [22:52<30:21,  6.20s/it]\u001b[A\n",
            " 42%|████▏     | 212/505 [23:02<36:11,  7.41s/it]\u001b[A\n",
            " 42%|████▏     | 213/505 [23:03<27:14,  5.60s/it]\u001b[A\n",
            " 42%|████▏     | 214/505 [23:09<27:27,  5.66s/it]\u001b[A\n",
            " 43%|████▎     | 215/505 [23:21<35:29,  7.34s/it]\u001b[A\n",
            " 43%|████▎     | 216/505 [23:23<28:17,  5.87s/it]\u001b[A\n",
            " 43%|████▎     | 217/505 [24:00<1:12:35, 15.12s/it]\u001b[A\n",
            " 43%|████▎     | 218/505 [24:02<54:39, 11.43s/it]  \u001b[A\n",
            " 43%|████▎     | 219/505 [24:10<48:14, 10.12s/it]\u001b[A\n",
            " 44%|████▎     | 220/505 [24:17<44:06,  9.29s/it]\u001b[A\n",
            " 44%|████▍     | 221/505 [24:18<32:53,  6.95s/it]\u001b[A\n",
            " 44%|████▍     | 222/505 [24:19<23:34,  5.00s/it]\u001b[A\n",
            " 44%|████▍     | 223/505 [24:19<17:12,  3.66s/it]\u001b[A\n",
            " 44%|████▍     | 224/505 [24:27<22:33,  4.82s/it]\u001b[A\n",
            " 45%|████▍     | 225/505 [24:37<29:43,  6.37s/it]\u001b[A\n",
            " 45%|████▍     | 226/505 [24:42<28:03,  6.04s/it]\u001b[A\n",
            " 45%|████▍     | 227/505 [24:44<22:25,  4.84s/it]\u001b[A\n",
            " 45%|████▌     | 228/505 [24:48<21:00,  4.55s/it]\u001b[A\n",
            " 45%|████▌     | 229/505 [24:51<19:09,  4.16s/it]\u001b[A\n",
            " 46%|████▌     | 230/505 [24:57<21:47,  4.76s/it]\u001b[A\n",
            " 46%|████▌     | 231/505 [25:08<30:04,  6.59s/it]\u001b[A\n",
            " 46%|████▌     | 232/505 [25:12<25:47,  5.67s/it]\u001b[A\n",
            " 46%|████▌     | 233/505 [25:16<23:43,  5.23s/it]\u001b[A\n",
            " 46%|████▋     | 234/505 [25:21<22:50,  5.06s/it]\u001b[A\n",
            " 47%|████▋     | 235/505 [25:34<33:23,  7.42s/it]\u001b[A\n",
            " 47%|████▋     | 236/505 [25:34<24:02,  5.36s/it]\u001b[A\n",
            " 47%|████▋     | 237/505 [25:44<29:30,  6.61s/it]\u001b[A\n",
            " 47%|████▋     | 238/505 [25:50<29:31,  6.64s/it]\u001b[A\n",
            " 47%|████▋     | 239/505 [26:43<1:31:01, 20.53s/it]\u001b[A\n",
            " 48%|████▊     | 240/505 [26:50<1:12:03, 16.32s/it]\u001b[A\n",
            " 48%|████▊     | 241/505 [26:55<57:41, 13.11s/it]  \u001b[A\n",
            " 48%|████▊     | 242/505 [27:02<48:36, 11.09s/it]\u001b[A\n",
            " 48%|████▊     | 243/505 [27:04<36:12,  8.29s/it]\u001b[A\n",
            " 48%|████▊     | 244/505 [27:04<25:37,  5.89s/it]\u001b[A\n",
            " 49%|████▊     | 245/505 [27:09<23:58,  5.53s/it]\u001b[A\n",
            " 49%|████▊     | 246/505 [27:19<30:08,  6.98s/it]\u001b[A\n",
            " 49%|████▉     | 247/505 [27:21<24:10,  5.62s/it]\u001b[A\n",
            " 49%|████▉     | 248/505 [27:22<17:54,  4.18s/it]\u001b[A\n",
            " 49%|████▉     | 249/505 [27:25<15:54,  3.73s/it]\u001b[A\n",
            " 50%|████▉     | 250/505 [27:27<13:54,  3.27s/it]\u001b[A\n",
            " 50%|████▉     | 251/505 [27:36<21:13,  5.02s/it]\u001b[A\n",
            " 50%|████▉     | 252/505 [27:44<24:16,  5.76s/it]\u001b[A\n",
            " 50%|█████     | 253/505 [27:45<18:19,  4.36s/it]\u001b[A\n",
            " 50%|█████     | 254/505 [27:45<13:29,  3.23s/it]\u001b[A\n",
            " 50%|█████     | 255/505 [27:55<21:16,  5.11s/it]\u001b[A\n",
            " 51%|█████     | 256/505 [28:13<36:58,  8.91s/it]\u001b[A\n",
            " 51%|█████     | 257/505 [28:18<32:53,  7.96s/it]\u001b[A\n",
            " 51%|█████     | 258/505 [28:22<27:47,  6.75s/it]\u001b[A\n",
            " 51%|█████▏    | 259/505 [28:23<20:31,  5.01s/it]\u001b[A\n",
            " 51%|█████▏    | 260/505 [28:25<16:09,  3.96s/it]\u001b[A\n",
            " 52%|█████▏    | 261/505 [28:30<18:10,  4.47s/it]\u001b[A\n",
            " 52%|█████▏    | 262/505 [28:35<17:59,  4.44s/it]\u001b[A\n",
            " 52%|█████▏    | 263/505 [28:38<16:27,  4.08s/it]\u001b[A\n",
            " 52%|█████▏    | 264/505 [28:40<13:31,  3.37s/it]\u001b[A\n",
            " 52%|█████▏    | 265/505 [28:49<20:41,  5.17s/it]\u001b[A\n",
            " 53%|█████▎    | 266/505 [28:51<17:03,  4.28s/it]\u001b[A\n",
            " 53%|█████▎    | 267/505 [29:00<21:37,  5.45s/it]\u001b[A\n",
            " 53%|█████▎    | 268/505 [29:06<22:13,  5.63s/it]\u001b[A\n",
            " 53%|█████▎    | 269/505 [29:13<24:46,  6.30s/it]\u001b[A\n",
            " 53%|█████▎    | 270/505 [29:53<1:03:48, 16.29s/it]\u001b[A\n",
            " 54%|█████▎    | 271/505 [29:56<48:05, 12.33s/it]  \u001b[A\n",
            " 54%|█████▍    | 272/505 [29:56<33:49,  8.71s/it]\u001b[A\n",
            " 54%|█████▍    | 273/505 [30:04<31:56,  8.26s/it]\u001b[A\n",
            " 54%|█████▍    | 274/505 [30:13<32:44,  8.50s/it]\u001b[A\n",
            " 54%|█████▍    | 275/505 [30:16<26:07,  6.82s/it]\u001b[A\n",
            " 55%|█████▍    | 276/505 [30:19<22:11,  5.81s/it]\u001b[A\n",
            " 55%|█████▍    | 277/505 [30:19<15:53,  4.18s/it]\u001b[A\n",
            " 55%|█████▌    | 278/505 [30:26<18:20,  4.85s/it]\u001b[A\n",
            " 55%|█████▌    | 279/505 [30:34<22:08,  5.88s/it]\u001b[A\n",
            " 55%|█████▌    | 280/505 [30:38<20:09,  5.37s/it]\u001b[A\n",
            " 56%|█████▌    | 281/505 [30:45<21:52,  5.86s/it]\u001b[A\n",
            " 56%|█████▌    | 282/505 [30:45<15:24,  4.14s/it]\u001b[A\n",
            " 56%|█████▌    | 283/505 [30:51<16:37,  4.49s/it]\u001b[A\n",
            " 56%|█████▌    | 284/505 [30:53<13:45,  3.73s/it]\u001b[A\n",
            " 56%|█████▋    | 285/505 [30:54<11:28,  3.13s/it]\u001b[A\n",
            " 57%|█████▋    | 286/505 [30:57<11:17,  3.09s/it]\u001b[A\n",
            " 57%|█████▋    | 287/505 [30:58<08:22,  2.31s/it]\u001b[A\n",
            " 57%|█████▋    | 288/505 [30:59<07:32,  2.09s/it]\u001b[A\n",
            " 57%|█████▋    | 289/505 [31:01<06:41,  1.86s/it]\u001b[A\n",
            " 57%|█████▋    | 290/505 [31:03<06:44,  1.88s/it]\u001b[A\n",
            " 58%|█████▊    | 291/505 [31:03<05:17,  1.48s/it]\u001b[A\n",
            " 58%|█████▊    | 292/505 [31:13<13:38,  3.84s/it]\u001b[A\n",
            " 58%|█████▊    | 293/505 [31:26<23:54,  6.76s/it]\u001b[A\n",
            " 58%|█████▊    | 294/505 [31:26<16:57,  4.82s/it]\u001b[A\n",
            " 58%|█████▊    | 295/505 [31:34<19:23,  5.54s/it]\u001b[A\n",
            " 59%|█████▊    | 296/505 [31:41<20:47,  5.97s/it]\u001b[A\n",
            " 59%|█████▉    | 297/505 [32:04<38:56, 11.23s/it]\u001b[A\n",
            " 59%|█████▉    | 298/505 [32:10<33:23,  9.68s/it]\u001b[A\n",
            " 59%|█████▉    | 299/505 [32:11<23:45,  6.92s/it]\u001b[A\n",
            " 59%|█████▉    | 300/505 [32:19<25:30,  7.46s/it]\u001b[A\n",
            " 60%|█████▉    | 301/505 [32:31<29:37,  8.71s/it]\u001b[A\n",
            " 60%|█████▉    | 302/505 [32:35<24:08,  7.14s/it]\u001b[A\n",
            " 60%|██████    | 303/505 [32:42<24:49,  7.37s/it]\u001b[A\n",
            " 60%|██████    | 304/505 [32:43<17:33,  5.24s/it]\u001b[A\n",
            " 60%|██████    | 305/505 [32:50<19:02,  5.71s/it]\u001b[A\n",
            " 61%|██████    | 306/505 [32:50<14:04,  4.25s/it]\u001b[A\n",
            " 61%|██████    | 307/505 [32:54<13:00,  3.94s/it]\u001b[A\n",
            " 61%|██████    | 308/505 [33:02<17:47,  5.42s/it]\u001b[A\n",
            " 61%|██████    | 309/505 [33:03<12:48,  3.92s/it]\u001b[A\n",
            " 61%|██████▏   | 310/505 [33:03<09:16,  2.85s/it]\u001b[A\n",
            " 62%|██████▏   | 311/505 [33:05<08:15,  2.55s/it]\u001b[A\n",
            " 62%|██████▏   | 312/505 [33:50<48:37, 15.12s/it]\u001b[A\n",
            " 62%|██████▏   | 313/505 [33:54<38:19, 11.98s/it]\u001b[A\n",
            " 62%|██████▏   | 314/505 [34:03<34:49, 10.94s/it]\u001b[A\n",
            " 62%|██████▏   | 315/505 [34:14<34:59, 11.05s/it]\u001b[A\n",
            " 63%|██████▎   | 316/505 [34:15<25:10,  7.99s/it]\u001b[A\n",
            " 63%|██████▎   | 317/505 [34:24<26:32,  8.47s/it]\u001b[A\n",
            " 63%|██████▎   | 318/505 [34:28<22:02,  7.07s/it]\u001b[A\n",
            " 63%|██████▎   | 319/505 [34:34<20:31,  6.62s/it]\u001b[A\n",
            " 63%|██████▎   | 320/505 [34:45<24:43,  8.02s/it]\u001b[A\n",
            " 64%|██████▎   | 321/505 [34:58<28:55,  9.43s/it]\u001b[A\n",
            " 64%|██████▍   | 322/505 [35:02<23:50,  7.82s/it]\u001b[A\n",
            " 64%|██████▍   | 323/505 [35:11<25:06,  8.28s/it]\u001b[A\n",
            " 64%|██████▍   | 324/505 [35:23<28:32,  9.46s/it]\u001b[A\n",
            " 64%|██████▍   | 325/505 [35:41<35:27, 11.82s/it]\u001b[A\n",
            " 65%|██████▍   | 326/505 [35:49<31:53, 10.69s/it]\u001b[A\n",
            " 65%|██████▍   | 327/505 [35:51<24:02,  8.11s/it]\u001b[A\n",
            " 65%|██████▍   | 328/505 [36:00<24:31,  8.31s/it]\u001b[A\n",
            " 65%|██████▌   | 329/505 [36:01<17:47,  6.07s/it]\u001b[A\n",
            " 65%|██████▌   | 330/505 [36:05<15:52,  5.45s/it]\u001b[A\n",
            " 66%|██████▌   | 331/505 [36:12<17:26,  6.02s/it]\u001b[A\n",
            " 66%|██████▌   | 332/505 [36:21<19:41,  6.83s/it]\u001b[A\n",
            " 66%|██████▌   | 333/505 [36:34<25:20,  8.84s/it]\u001b[A\n",
            " 66%|██████▌   | 334/505 [36:41<23:09,  8.13s/it]\u001b[A\n",
            " 66%|██████▋   | 335/505 [36:47<21:34,  7.62s/it]\u001b[A\n",
            " 67%|██████▋   | 336/505 [36:52<19:34,  6.95s/it]\u001b[A\n",
            " 67%|██████▋   | 337/505 [36:59<18:43,  6.69s/it]\u001b[A\n",
            " 67%|██████▋   | 338/505 [37:07<20:22,  7.32s/it]\u001b[A\n",
            " 67%|██████▋   | 339/505 [37:08<14:47,  5.35s/it]\u001b[A\n",
            " 67%|██████▋   | 340/505 [37:12<13:48,  5.02s/it]\u001b[A\n",
            " 68%|██████▊   | 341/505 [37:13<10:13,  3.74s/it]\u001b[A\n",
            " 68%|██████▊   | 342/505 [37:20<12:53,  4.74s/it]\u001b[A\n",
            " 68%|██████▊   | 343/505 [37:26<13:44,  5.09s/it]\u001b[A\n",
            " 68%|██████▊   | 344/505 [37:29<12:12,  4.55s/it]\u001b[A\n",
            " 68%|██████▊   | 345/505 [37:31<10:03,  3.77s/it]\u001b[A\n",
            " 69%|██████▊   | 346/505 [37:34<09:23,  3.55s/it]\u001b[A\n",
            " 69%|██████▊   | 347/505 [37:39<10:26,  3.96s/it]\u001b[A\n",
            " 69%|██████▉   | 348/505 [37:46<12:28,  4.77s/it]\u001b[A\n",
            " 69%|██████▉   | 349/505 [37:54<14:50,  5.71s/it]\u001b[A\n",
            " 69%|██████▉   | 350/505 [37:56<11:56,  4.62s/it]\u001b[A\n",
            " 70%|██████▉   | 351/505 [38:01<11:56,  4.65s/it]\u001b[A\n",
            " 70%|██████▉   | 352/505 [38:02<09:25,  3.70s/it]\u001b[A\n",
            " 70%|██████▉   | 353/505 [38:05<08:44,  3.45s/it]\u001b[A\n",
            " 70%|███████   | 354/505 [38:19<16:44,  6.66s/it]\u001b[A\n",
            " 70%|███████   | 355/505 [38:31<20:48,  8.32s/it]\u001b[A\n",
            " 70%|███████   | 356/505 [38:32<14:49,  5.97s/it]\u001b[A\n",
            " 71%|███████   | 357/505 [38:38<15:13,  6.17s/it]\u001b[A\n",
            " 71%|███████   | 358/505 [38:44<14:36,  5.96s/it]\u001b[A\n",
            " 71%|███████   | 359/505 [38:44<10:23,  4.27s/it]\u001b[A\n",
            " 71%|███████▏  | 360/505 [38:45<07:33,  3.12s/it]\u001b[A\n",
            " 71%|███████▏  | 361/505 [38:48<07:35,  3.16s/it]\u001b[A\n",
            " 72%|███████▏  | 362/505 [38:51<07:48,  3.28s/it]\u001b[A\n",
            " 72%|███████▏  | 363/505 [38:57<09:31,  4.02s/it]\u001b[A\n",
            " 72%|███████▏  | 364/505 [39:18<20:55,  8.91s/it]\u001b[A\n",
            " 72%|███████▏  | 365/505 [39:22<17:41,  7.58s/it]\u001b[A\n",
            " 72%|███████▏  | 366/505 [39:33<20:03,  8.66s/it]\u001b[A\n",
            " 73%|███████▎  | 367/505 [39:38<16:55,  7.36s/it]\u001b[A\n",
            " 73%|███████▎  | 368/505 [40:06<31:19, 13.72s/it]\u001b[A\n",
            " 73%|███████▎  | 369/505 [40:07<22:17,  9.84s/it]\u001b[A\n",
            " 73%|███████▎  | 370/505 [40:13<19:23,  8.62s/it]\u001b[A\n",
            " 73%|███████▎  | 371/505 [40:22<19:50,  8.89s/it]\u001b[A\n",
            " 74%|███████▎  | 372/505 [40:23<14:08,  6.38s/it]\u001b[A\n",
            " 74%|███████▍  | 373/505 [40:24<10:53,  4.95s/it]\u001b[A\n",
            " 74%|███████▍  | 374/505 [40:30<11:19,  5.18s/it]\u001b[A\n",
            " 74%|███████▍  | 375/505 [40:36<11:45,  5.42s/it]\u001b[A\n",
            " 74%|███████▍  | 376/505 [40:37<09:05,  4.23s/it]\u001b[A\n",
            " 75%|███████▍  | 377/505 [40:58<19:18,  9.05s/it]\u001b[A\n",
            " 75%|███████▍  | 378/505 [40:58<13:50,  6.54s/it]\u001b[A\n",
            " 75%|███████▌  | 379/505 [41:00<10:35,  5.05s/it]\u001b[A\n",
            " 75%|███████▌  | 380/505 [41:15<16:41,  8.01s/it]\u001b[A\n",
            " 75%|███████▌  | 381/505 [42:10<45:42, 22.11s/it]\u001b[A\n",
            " 76%|███████▌  | 382/505 [42:15<35:08, 17.14s/it]\u001b[A\n",
            " 76%|███████▌  | 383/505 [42:29<32:48, 16.14s/it]\u001b[A\n",
            " 76%|███████▌  | 384/505 [42:32<24:36, 12.20s/it]\u001b[A\n",
            " 76%|███████▌  | 385/505 [42:33<17:24,  8.71s/it]\u001b[A\n",
            " 76%|███████▋  | 386/505 [42:35<13:26,  6.78s/it]\u001b[A\n",
            " 77%|███████▋  | 387/505 [42:48<16:45,  8.52s/it]\u001b[A\n",
            " 77%|███████▋  | 388/505 [42:59<18:31,  9.50s/it]\u001b[A\n",
            " 77%|███████▋  | 389/505 [43:06<16:31,  8.55s/it]\u001b[A\n",
            " 77%|███████▋  | 390/505 [43:18<18:44,  9.78s/it]\u001b[A\n",
            " 77%|███████▋  | 391/505 [43:32<20:53, 10.99s/it]\u001b[A\n",
            " 78%|███████▊  | 392/505 [43:43<20:19, 10.79s/it]\u001b[A\n",
            " 78%|███████▊  | 393/505 [43:58<22:28, 12.04s/it]\u001b[A\n",
            " 78%|███████▊  | 394/505 [44:07<20:54, 11.30s/it]\u001b[A\n",
            " 78%|███████▊  | 395/505 [44:20<21:27, 11.70s/it]\u001b[A\n",
            " 78%|███████▊  | 396/505 [44:38<24:59, 13.76s/it]\u001b[A\n",
            " 79%|███████▊  | 397/505 [44:49<22:56, 12.75s/it]\u001b[A\n",
            " 79%|███████▉  | 398/505 [44:51<17:12,  9.65s/it]\u001b[A\n",
            " 79%|███████▉  | 399/505 [44:51<12:05,  6.84s/it]\u001b[A\n",
            " 79%|███████▉  | 400/505 [44:58<11:48,  6.74s/it]\u001b[A\n",
            " 79%|███████▉  | 401/505 [45:00<09:12,  5.31s/it]\u001b[A\n",
            " 80%|███████▉  | 402/505 [45:04<08:18,  4.84s/it]\u001b[A\n",
            " 80%|███████▉  | 403/505 [45:05<06:29,  3.82s/it]\u001b[A\n",
            " 80%|████████  | 404/505 [45:11<07:20,  4.36s/it]\u001b[A\n",
            " 80%|████████  | 405/505 [45:20<09:53,  5.93s/it]\u001b[A\n",
            " 80%|████████  | 406/505 [45:31<12:09,  7.37s/it]\u001b[A\n",
            " 81%|████████  | 407/505 [45:41<13:12,  8.08s/it]\u001b[A\n",
            " 81%|████████  | 408/505 [45:45<11:10,  6.91s/it]\u001b[A\n",
            " 81%|████████  | 409/505 [45:50<10:18,  6.44s/it]\u001b[A\n",
            " 81%|████████  | 410/505 [45:57<10:26,  6.59s/it]\u001b[A\n",
            " 81%|████████▏ | 411/505 [46:12<14:19,  9.14s/it]\u001b[A\n",
            " 82%|████████▏ | 412/505 [46:13<10:19,  6.67s/it]\u001b[A\n",
            " 82%|████████▏ | 413/505 [46:21<10:48,  7.05s/it]\u001b[A\n",
            " 82%|████████▏ | 414/505 [46:23<08:10,  5.39s/it]\u001b[A\n",
            " 82%|████████▏ | 415/505 [46:26<07:12,  4.81s/it]\u001b[A\n",
            " 82%|████████▏ | 416/505 [46:34<08:16,  5.58s/it]\u001b[A\n",
            " 83%|████████▎ | 417/505 [46:42<09:28,  6.46s/it]\u001b[A\n",
            " 83%|████████▎ | 418/505 [46:47<08:33,  5.90s/it]\u001b[A\n",
            " 83%|████████▎ | 419/505 [46:56<09:54,  6.91s/it]\u001b[A\n",
            " 83%|████████▎ | 420/505 [47:03<09:40,  6.83s/it]\u001b[A\n",
            " 83%|████████▎ | 421/505 [47:03<07:00,  5.00s/it]\u001b[A\n",
            " 84%|████████▎ | 422/505 [47:04<05:18,  3.84s/it]\u001b[A\n",
            " 84%|████████▍ | 423/505 [47:06<04:08,  3.03s/it]\u001b[A\n",
            " 84%|████████▍ | 424/505 [47:06<02:58,  2.20s/it]\u001b[A\n",
            " 84%|████████▍ | 425/505 [47:26<10:12,  7.65s/it]\u001b[A\n",
            " 84%|████████▍ | 426/505 [47:37<11:14,  8.54s/it]\u001b[A\n",
            " 85%|████████▍ | 427/505 [47:41<09:15,  7.12s/it]\u001b[A\n",
            " 85%|████████▍ | 428/505 [47:51<10:23,  8.10s/it]\u001b[A\n",
            " 85%|████████▍ | 429/505 [48:01<11:07,  8.79s/it]\u001b[A\n",
            " 85%|████████▌ | 430/505 [48:02<07:47,  6.24s/it]\u001b[A\n",
            " 85%|████████▌ | 431/505 [48:10<08:17,  6.73s/it]\u001b[A\n",
            " 86%|████████▌ | 432/505 [48:17<08:35,  7.06s/it]\u001b[A\n",
            " 86%|████████▌ | 433/505 [48:22<07:26,  6.20s/it]\u001b[A\n",
            " 86%|████████▌ | 434/505 [48:28<07:32,  6.37s/it]\u001b[A\n",
            " 86%|████████▌ | 435/505 [48:35<07:27,  6.39s/it]\u001b[A\n",
            " 86%|████████▋ | 436/505 [48:40<07:04,  6.15s/it]\u001b[A\n",
            " 87%|████████▋ | 437/505 [48:45<06:23,  5.64s/it]\u001b[A\n",
            " 87%|████████▋ | 438/505 [48:52<06:44,  6.04s/it]\u001b[A\n",
            " 87%|████████▋ | 439/505 [48:52<04:44,  4.31s/it]\u001b[A\n",
            " 87%|████████▋ | 440/505 [48:58<05:20,  4.94s/it]\u001b[A\n",
            " 87%|████████▋ | 441/505 [49:03<05:08,  4.81s/it]\u001b[A\n",
            " 88%|████████▊ | 442/505 [49:06<04:27,  4.25s/it]\u001b[A\n",
            " 88%|████████▊ | 443/505 [49:08<03:38,  3.53s/it]\u001b[A\n",
            " 88%|████████▊ | 444/505 [49:08<02:39,  2.62s/it]\u001b[A\n",
            " 88%|████████▊ | 445/505 [49:12<02:55,  2.93s/it]\u001b[A\n",
            " 88%|████████▊ | 446/505 [49:20<04:20,  4.42s/it]\u001b[A\n",
            " 89%|████████▊ | 447/505 [49:28<05:27,  5.65s/it]\u001b[A\n",
            " 89%|████████▊ | 448/505 [49:42<07:44,  8.16s/it]\u001b[A\n",
            " 89%|████████▉ | 449/505 [49:46<06:25,  6.88s/it]\u001b[A\n",
            " 89%|████████▉ | 450/505 [49:48<04:50,  5.28s/it]\u001b[A\n",
            " 89%|████████▉ | 451/505 [49:54<04:56,  5.48s/it]\u001b[A\n",
            " 90%|████████▉ | 452/505 [50:05<06:26,  7.30s/it]\u001b[A\n",
            " 90%|████████▉ | 453/505 [50:10<05:42,  6.58s/it]\u001b[A\n",
            " 90%|████████▉ | 454/505 [50:11<04:13,  4.97s/it]\u001b[A\n",
            " 90%|█████████ | 455/505 [50:18<04:34,  5.49s/it]\u001b[A\n",
            " 90%|█████████ | 456/505 [50:25<04:47,  5.87s/it]\u001b[A\n",
            " 90%|█████████ | 457/505 [50:32<05:04,  6.34s/it]\u001b[A\n",
            " 91%|█████████ | 458/505 [50:37<04:30,  5.76s/it]\u001b[A\n",
            " 91%|█████████ | 459/505 [50:43<04:33,  5.94s/it]\u001b[A\n",
            " 91%|█████████ | 460/505 [50:52<05:02,  6.73s/it]\u001b[A\n",
            " 91%|█████████▏| 461/505 [50:54<03:52,  5.28s/it]\u001b[A\n",
            " 91%|█████████▏| 462/505 [51:09<05:54,  8.25s/it]\u001b[A\n",
            " 92%|█████████▏| 463/505 [51:19<06:09,  8.81s/it]\u001b[A\n",
            " 92%|█████████▏| 464/505 [51:28<06:02,  8.84s/it]\u001b[A\n",
            " 92%|█████████▏| 465/505 [51:41<06:45, 10.13s/it]\u001b[A\n",
            " 92%|█████████▏| 466/505 [51:51<06:34, 10.11s/it]\u001b[A\n",
            " 92%|█████████▏| 467/505 [51:56<05:25,  8.56s/it]\u001b[A\n",
            " 93%|█████████▎| 468/505 [51:56<03:46,  6.12s/it]\u001b[A\n",
            " 93%|█████████▎| 469/505 [52:09<04:50,  8.07s/it]\u001b[A\n",
            " 93%|█████████▎| 470/505 [52:16<04:31,  7.75s/it]\u001b[A\n",
            " 93%|█████████▎| 471/505 [52:19<03:39,  6.45s/it]\u001b[A\n",
            " 93%|█████████▎| 472/505 [52:25<03:20,  6.08s/it]\u001b[A\n",
            " 94%|█████████▎| 473/505 [52:25<02:17,  4.30s/it]\u001b[A\n",
            " 94%|█████████▍| 474/505 [52:31<02:32,  4.92s/it]\u001b[A\n",
            " 94%|█████████▍| 476/505 [52:42<02:25,  5.01s/it]\u001b[A\n",
            " 94%|█████████▍| 477/505 [52:43<01:50,  3.96s/it]\u001b[A\n",
            " 95%|█████████▍| 478/505 [52:53<02:39,  5.90s/it]\u001b[A\n",
            " 95%|█████████▍| 479/505 [52:59<02:34,  5.93s/it]\u001b[A\n",
            " 95%|█████████▌| 480/505 [53:03<02:11,  5.27s/it]\u001b[A\n",
            " 95%|█████████▌| 481/505 [53:07<01:55,  4.80s/it]\u001b[A\n",
            " 95%|█████████▌| 482/505 [53:07<01:18,  3.40s/it]\u001b[A\n",
            " 96%|█████████▌| 483/505 [53:08<00:58,  2.65s/it]\u001b[A\n",
            " 96%|█████████▌| 484/505 [53:13<01:11,  3.42s/it]\u001b[A\n",
            " 96%|█████████▌| 485/505 [53:17<01:10,  3.53s/it]\u001b[A\n",
            " 96%|█████████▌| 486/505 [53:19<00:58,  3.06s/it]\u001b[A\n",
            " 96%|█████████▋| 487/505 [53:20<00:42,  2.35s/it]\u001b[A\n",
            " 97%|█████████▋| 488/505 [53:25<00:57,  3.36s/it]\u001b[A\n",
            " 97%|█████████▋| 489/505 [53:32<01:11,  4.45s/it]\u001b[A\n",
            " 97%|█████████▋| 490/505 [53:33<00:49,  3.32s/it]\u001b[A\n",
            " 97%|█████████▋| 491/505 [53:35<00:39,  2.82s/it]\u001b[A\n",
            " 97%|█████████▋| 492/505 [53:36<00:30,  2.32s/it]\u001b[A\n",
            " 98%|█████████▊| 493/505 [53:41<00:37,  3.09s/it]\u001b[A\n",
            " 98%|█████████▊| 494/505 [53:42<00:28,  2.63s/it]\u001b[A\n",
            " 98%|█████████▊| 495/505 [53:50<00:42,  4.25s/it]\u001b[A\n",
            " 98%|█████████▊| 496/505 [53:58<00:48,  5.33s/it]\u001b[A\n",
            " 98%|█████████▊| 497/505 [54:00<00:35,  4.43s/it]\u001b[A\n",
            " 99%|█████████▊| 498/505 [54:01<00:21,  3.14s/it]\u001b[A\n",
            " 99%|█████████▉| 499/505 [54:05<00:20,  3.40s/it]\u001b[A\n",
            " 99%|█████████▉| 500/505 [54:06<00:13,  2.66s/it]\u001b[A\n",
            " 99%|█████████▉| 501/505 [54:06<00:07,  2.00s/it]\u001b[A\n",
            " 99%|█████████▉| 502/505 [54:10<00:08,  2.72s/it]\u001b[A\n",
            "100%|█████████▉| 503/505 [54:17<00:07,  3.91s/it]\u001b[A\n",
            "100%|█████████▉| 504/505 [54:41<00:09,  9.97s/it]\u001b[A\n",
            "100%|██████████| 505/505 [54:49<00:00,  6.51s/it]"
          ],
          "name": "stderr"
        },
        {
          "output_type": "stream",
          "text": [
            "CPU times: user 54min 44s, sys: 3.39 s, total: 54min 48s\n",
            "Wall time: 54min 49s\n"
          ],
          "name": "stdout"
        },
        {
          "output_type": "stream",
          "text": [
            "\n"
          ],
          "name": "stderr"
        }
      ]
    },
    {
      "cell_type": "code",
      "metadata": {
        "colab": {
          "base_uri": "https://localhost:8080/",
          "height": 173
        },
        "id": "EY5dnJUYB_E5",
        "outputId": "ece4deaf-fa36-4d14-b273-22c168c8aa3f"
      },
      "source": [
        "dd = test_df.copy()\r\n",
        "dd"
      ],
      "execution_count": null,
      "outputs": [
        {
          "output_type": "execute_result",
          "data": {
            "text/html": [
              "<div>\n",
              "<style scoped>\n",
              "    .dataframe tbody tr th:only-of-type {\n",
              "        vertical-align: middle;\n",
              "    }\n",
              "\n",
              "    .dataframe tbody tr th {\n",
              "        vertical-align: top;\n",
              "    }\n",
              "\n",
              "    .dataframe thead th {\n",
              "        text-align: right;\n",
              "    }\n",
              "</style>\n",
              "<table border=\"1\" class=\"dataframe\">\n",
              "  <thead>\n",
              "    <tr style=\"text-align: right;\">\n",
              "      <th></th>\n",
              "      <th>0</th>\n",
              "      <th>1</th>\n",
              "      <th>2</th>\n",
              "    </tr>\n",
              "  </thead>\n",
              "  <tbody>\n",
              "    <tr>\n",
              "      <th>0</th>\n",
              "      <td>Item 2. Managements</td>\n",
              "      <td>3243</td>\n",
              "      <td>3263</td>\n",
              "    </tr>\n",
              "    <tr>\n",
              "      <th>1</th>\n",
              "      <td>Item 3. Quantitative</td>\n",
              "      <td>3361</td>\n",
              "      <td>3381</td>\n",
              "    </tr>\n",
              "    <tr>\n",
              "      <th>2</th>\n",
              "      <td>Item 2. Managements</td>\n",
              "      <td>54638</td>\n",
              "      <td>54658</td>\n",
              "    </tr>\n",
              "    <tr>\n",
              "      <th>3</th>\n",
              "      <td>Item 3. Quantitative</td>\n",
              "      <td>137441</td>\n",
              "      <td>137461</td>\n",
              "    </tr>\n",
              "  </tbody>\n",
              "</table>\n",
              "</div>"
            ],
            "text/plain": [
              "                      0       1       2\n",
              "0  Item 2. Managements    3243    3263\n",
              "1  Item 3. Quantitative    3361    3381\n",
              "2  Item 2. Managements   54638   54658\n",
              "3  Item 3. Quantitative  137441  137461"
            ]
          },
          "metadata": {
            "tags": []
          },
          "execution_count": 182
        }
      ]
    },
    {
      "cell_type": "markdown",
      "metadata": {
        "id": "56Wdg011Lyc-"
      },
      "source": [
        "# 'EXPECTS' EXTRACT"
      ]
    },
    {
      "cell_type": "code",
      "metadata": {
        "id": "DSchuzYl7Xby"
      },
      "source": [
        "def exp(diii):\r\n",
        "  sent_token = list(map(lambda x: \" \".join(x.split()), nltk.sent_tokenize(diii)))\r\n",
        "  word_to_analyze = 'expect'\r\n",
        "  # type(document['MMM']['2019-02-07']['item_7_raw'])\r\n",
        "  exp_ = (pd.DataFrame(sent_token)[pd.DataFrame(sent_token)[0].str.contains(word_to_analyze, flags=re.IGNORECASE, regex = True)]).drop_duplicates().reset_index(drop=True)\r\n",
        "  len_ = exp_.shape[0]\r\n",
        "  exp_ = ' '.join(exp_[0])\r\n",
        "  return(exp_, len_, sent_token)"
      ],
      "execution_count": null,
      "outputs": []
    },
    {
      "cell_type": "code",
      "metadata": {
        "colab": {
          "base_uri": "https://localhost:8080/"
        },
        "id": "9X6KIPzp8Zpk",
        "outputId": "ea072b37-4117-4f60-8a00-9791f86ae283"
      },
      "source": [
        "%%time\r\n",
        "exp_, len_, sent_token = exp(document['MMM']['10Q']['2020-07-28']['item_2_raw'])"
      ],
      "execution_count": null,
      "outputs": [
        {
          "output_type": "stream",
          "text": [
            "CPU times: user 48.4 s, sys: 127 ms, total: 48.5 s\n",
            "Wall time: 48.3 s\n"
          ],
          "name": "stdout"
        }
      ]
    },
    {
      "cell_type": "markdown",
      "metadata": {
        "id": "9xsb3djuNlf3"
      },
      "source": [
        "# Загрузка document"
      ]
    },
    {
      "cell_type": "code",
      "metadata": {
        "colab": {
          "base_uri": "https://localhost:8080/"
        },
        "id": "JZc2ca2_X_8l",
        "outputId": "ed6553cc-9231-4959-ed3f-2ea9cd8bb036"
      },
      "source": [
        "%%time\n",
        "# pickle.dump(document, open(my_dir + \"dic_all_last.p\", \"wb\"))  # save \n",
        "document = pickle.load (open(my_dir + \"dic_all.p\", \"rb\"))   # open \n",
        " "
      ],
      "execution_count": 15,
      "outputs": [
        {
          "output_type": "stream",
          "text": [
            "CPU times: user 1.1 s, sys: 318 ms, total: 1.42 s\n",
            "Wall time: 2.68 s\n"
          ],
          "name": "stdout"
        }
      ]
    },
    {
      "cell_type": "markdown",
      "metadata": {
        "id": "UGUOYrBw_MSE"
      },
      "source": [
        "# TDIF - Pipline - Bayes/RF/etc"
      ]
    },
    {
      "cell_type": "markdown",
      "metadata": {
        "id": "eqeJubx1_5Aj"
      },
      "source": [
        "### Training "
      ]
    },
    {
      "cell_type": "code",
      "metadata": {
        "colab": {
          "base_uri": "https://localhost:8080/"
        },
        "id": "1IO279Fj_9K1",
        "outputId": "be403e1f-e146-4cb3-9551-eefec27d2e84"
      },
      "source": [
        "all = [\"It is going to rain Today. today I am not going outside. I am Going to watch the season premiere.\"]\r\n",
        "Document1 = \"It is going to rain Today.\"\r\n",
        "Document2= \"today I am not going outside.\"\r\n",
        "Document3= \"I am Going to watch the season premiere.\"\r\n",
        "Doc = [Document1 ,\r\n",
        "       Document2 , \r\n",
        "       Document3\r\n",
        "       ]\r\n",
        "Doc1 = [Document1]\r\n",
        "Doc2 = [Document2]\r\n",
        "Doc3 = [Document3]\r\n",
        "print(Doc)  # Doc like "
      ],
      "execution_count": null,
      "outputs": [
        {
          "output_type": "stream",
          "text": [
            "['It is going to rain Today.', 'today I am not going outside.', 'I am Going to watch the season premiere.']\n"
          ],
          "name": "stdout"
        }
      ]
    },
    {
      "cell_type": "code",
      "metadata": {
        "colab": {
          "base_uri": "https://localhost:8080/"
        },
        "id": "q0zN_c-_OFmH",
        "outputId": "9ab4d65f-ddce-432c-a430-fcd137f1a5c0"
      },
      "source": [
        "vectorizer = TfidfVectorizer(stop_words='english', ngram_range=(1,1), )\r\n",
        "vectorizer.fit_transform(Doc)"
      ],
      "execution_count": null,
      "outputs": [
        {
          "output_type": "execute_result",
          "data": {
            "text/plain": [
              "<3x7 sparse matrix of type '<class 'numpy.float64'>'\n",
              "\twith 10 stored elements in Compressed Sparse Row format>"
            ]
          },
          "metadata": {
            "tags": []
          },
          "execution_count": 65
        }
      ]
    },
    {
      "cell_type": "markdown",
      "metadata": {
        "id": "s-8YcYdOWIiv"
      },
      "source": [
        "###### Cos"
      ]
    },
    {
      "cell_type": "code",
      "metadata": {
        "colab": {
          "base_uri": "https://localhost:8080/",
          "height": 85
        },
        "id": "vq81byNkNMpD",
        "outputId": "ba52a6e2-3063-465b-c34a-2a95b3704fdd"
      },
      "source": [
        "display(vectorizer.get_feature_names())\r\n",
        "pd.DataFrame(vectorizer.transform(Doc1).toarray(), columns = vectorizer.get_feature_names())\r\n",
        "display(Doc2, Doc1, cosine_similarity(vectorizer.transform(Doc2).toarray(), vectorizer.transform(Doc1).toarray()))"
      ],
      "execution_count": null,
      "outputs": [
        {
          "output_type": "display_data",
          "data": {
            "text/plain": [
              "['going', 'outside', 'premiere', 'rain', 'season', 'today', 'watch']"
            ]
          },
          "metadata": {
            "tags": []
          }
        },
        {
          "output_type": "display_data",
          "data": {
            "text/plain": [
              "['today I am not going outside.']"
            ]
          },
          "metadata": {
            "tags": []
          }
        },
        {
          "output_type": "display_data",
          "data": {
            "text/plain": [
              "['It is going to rain Today.']"
            ]
          },
          "metadata": {
            "tags": []
          }
        },
        {
          "output_type": "display_data",
          "data": {
            "text/plain": [
              "array([[0.48111972]])"
            ]
          },
          "metadata": {
            "tags": []
          }
        }
      ]
    },
    {
      "cell_type": "code",
      "metadata": {
        "colab": {
          "base_uri": "https://localhost:8080/",
          "height": 320
        },
        "id": "fiOQOTdh_9yp",
        "outputId": "542d083d-26ce-49ba-bdfc-0dead37d93c0"
      },
      "source": [
        "# cosine_similarity\r\n",
        "cos_sim = []\r\n",
        "cos_dat = []\r\n",
        "for i in range(len(document['MMM'].keys()) - 2):\r\n",
        "  # display(i)\r\n",
        "  ii = list(document['MMM'].keys())[i]\r\n",
        "  rr = list(document['MMM'].keys())[i+1]\r\n",
        "  # display(ii, rr)\r\n",
        "  cos_sim.append(cosine_similarity(document['MMM'][ii]['expect_7_TFID'], document['MMM'][rr]['expect_7_TFID']))\r\n",
        "  cos_dat.append(ii)\r\n",
        "  # display(document['MMM'][list(document['MMM'].keys())[i]]['expect_7_TFID'])\r\n",
        "plt.figure(figsize=(20,5))\r\n",
        "plt.plot(pd.Series(cos_sim, cos_dat))\r\n",
        "plt.show()"
      ],
      "execution_count": null,
      "outputs": [
        {
          "output_type": "display_data",
          "data": {
            "text/plain": [
              "<Figure size 1440x360 with 1 Axes>"
            ],
            "image/png": "[encoded data removed]"
          },
          "metadata": {
            "tags": [],
            "needs_background": "light"
          }
        }
      ]
    },
    {
      "cell_type": "markdown",
      "metadata": {
        "id": "qsHnOjRlWMlB"
      },
      "source": [
        "###### Jaccard"
      ]
    },
    {
      "cell_type": "code",
      "metadata": {
        "id": "uej_-PUCR3UE"
      },
      "source": [
        "# d = vectorizer.transform(Doc2).toarray()[0].round(2)\r\n",
        "# f = vectorizer.transform(Doc1).toarray()[0].round(2)\r\n",
        "# display(vectorizer.get_feature_names(), Doc2, Doc1, list(d),list(f), type([0,1]), type(list(d)))\r\n",
        "# jaccard_score(list(d),list(f))"
      ],
      "execution_count": null,
      "outputs": []
    },
    {
      "cell_type": "markdown",
      "metadata": {
        "id": "h8SkZ938O1W5"
      },
      "source": [
        "### My train"
      ]
    },
    {
      "cell_type": "code",
      "metadata": {
        "colab": {
          "base_uri": "https://localhost:8080/"
        },
        "id": "eQefmHRSEhnG",
        "outputId": "fe6cca5c-af45-4b79-e589-dbe49f44a2c2"
      },
      "source": [
        "%%time\r\n",
        "all = []\r\n",
        "for i in tqdm(list(document.keys())[:]):\r\n",
        "  for ii in [d for d in document[i].keys() if d != '10Q']:\r\n",
        "    all.append(document[i][ii]['expect_7'])\r\n",
        "vectorizer = TfidfVectorizer(stop_words='english', ngram_range=(1,2))\r\n",
        "dd = vectorizer.fit_transform(all)\r\n",
        "\r\n",
        "# my_data = {}\r\n",
        "for i in list(document.keys())[:]:\r\n",
        "  for ii in [d for d in document[i].keys() if d != '10Q']:\r\n",
        "    X = vectorizer.transform([document[i][ii]['expect_7']])\r\n",
        "    # document[i][ii]['expect_7_TFID'] = pd.DataFrame(X.toarray(), columns = vectorizer.get_feature_names())\r\n",
        "    document[i][ii]['expect_7_TFID'] = X.toarray()\r\n"
      ],
      "execution_count": null,
      "outputs": [
        {
          "output_type": "stream",
          "text": [
            "Wall time: 30 s\n"
          ],
          "name": "stdout"
        }
      ]
    },
    {
      "cell_type": "code",
      "metadata": {
        "colab": {
          "base_uri": "https://localhost:8080/"
        },
        "id": "icLzd1W7dVVD",
        "outputId": "7c7c2a71-0624-4876-d602-766861bc5694"
      },
      "source": [
        "document[i][ii]['expect_7_TFID'].shape"
      ],
      "execution_count": null,
      "outputs": [
        {
          "output_type": "execute_result",
          "data": {
            "text/plain": [
              "(1, 319184)"
            ]
          },
          "metadata": {
            "tags": []
          },
          "execution_count": 233
        }
      ]
    },
    {
      "cell_type": "markdown",
      "metadata": {
        "id": "1QUP6BcJBSfm"
      },
      "source": [
        "## Pipline"
      ]
    },
    {
      "cell_type": "markdown",
      "metadata": {
        "id": "ekbyS18hEiIG"
      },
      "source": [
        "##### Data = StockTwit. Достаем лебелы с помощью stock"
      ]
    },
    {
      "cell_type": "code",
      "metadata": {
        "id": "XsZY5df5ExXv",
        "colab": {
          "base_uri": "https://localhost:8080/",
          "height": 136
        },
        "outputId": "c7e82908-3c97-4fca-d198-94f34e71f3f3"
      },
      "source": [
        "%%time\r\n",
        "# df = pd.read_csv(u'F:/Мой диск/' +       'NLP-of-StockTwits-data-for-predicting-stocks-master/Data/Combined_FAANG_binary_previous.csv', sep=',')\r\n",
        "df = pd.read_csv(u'/content/drive/MyDrive/NLP-of-StockTwits-data-for-predicting-stocks-master/Data/Combined_FAANG_binary_previous.csv', sep=',')\r\n",
        "df['Date'] = pd.to_datetime(df['Date'])\r\n",
        "df['Year'] = df['Date'].dt.year\r\n",
        "df = df.rename(columns={'symbol':'Symbol'})\r\n",
        "df = df[df['message'].notna()]\r\n",
        "display(df.shape)\r\n",
        "# df.drop(df[df['Date'] <= '2019-07-20'].index, inplace = True) \r\n",
        "display(df.shape,  df[\"label\"].value_counts())"
      ],
      "execution_count": 17,
      "outputs": [
        {
          "output_type": "display_data",
          "data": {
            "text/plain": [
              "(2566858, 9)"
            ]
          },
          "metadata": {
            "tags": []
          }
        },
        {
          "output_type": "display_data",
          "data": {
            "text/plain": [
              "(2566858, 9)"
            ]
          },
          "metadata": {
            "tags": []
          }
        },
        {
          "output_type": "display_data",
          "data": {
            "text/plain": [
              "1    1357115\n",
              "0    1209743\n",
              "Name: label, dtype: int64"
            ]
          },
          "metadata": {
            "tags": []
          }
        },
        {
          "output_type": "stream",
          "text": [
            "CPU times: user 6.56 s, sys: 607 ms, total: 7.17 s\n",
            "Wall time: 9.56 s\n"
          ],
          "name": "stdout"
        }
      ]
    },
    {
      "cell_type": "code",
      "metadata": {
        "id": "bN1iO0qsR_XZ"
      },
      "source": [
        "# достаем юзеров\r\n",
        "\r\n",
        "# dd = pd.pivot_table(df,\r\n",
        "#                index = ['user'],\r\n",
        "#                values = 'message',\r\n",
        "#                aggfunc = ['count']\r\n",
        "#                )\r\n",
        "# # dd.sort_values([('count', 'message')], ascending=False)\r\n",
        "# good_user = list(dd[dd[('count', 'message')] > 5000].index)\r\n",
        "\r\n",
        "# pivo1 = pd.pivot_table(df,\r\n",
        "#                index = ['user', 'Year'],\r\n",
        "#                values = 'message',\r\n",
        "#                aggfunc = ['count']\r\n",
        "#                )\r\n",
        "# pivo1.reset_index(inplace=True)\r\n",
        "# pivo1.columns = ['user', 'Year', 'count']\r\n",
        "\r\n",
        "# pd.pivot_table(pivo1[pivo1['user'].isin(good_user)],\r\n",
        "#                index = ['user'],\r\n",
        "#                values = 'count',\r\n",
        "#                aggfunc = ['sum', 'count']\r\n",
        "              #  )"
      ],
      "execution_count": null,
      "outputs": []
    },
    {
      "cell_type": "code",
      "metadata": {
        "id": "p9eE0o78Osa2"
      },
      "source": [
        "stock['%_today']   = (stock['4. close']/stock['1. open'] - 1)*100\r\n",
        "stock['%_today_1'] = np.where(stock['Symbol'].shift(-1) == stock['Symbol'].shift(0), stock['%_today'].shift(-1), 0)\r\n",
        "\r\n",
        "# create little stock\r\n",
        "stock_for_tweet = stock[stock['Symbol'].isin(df['Symbol'].unique())]\r\n",
        "\r\n",
        "# # shift(-1)\r\n",
        "# t_stock_all = pd.DataFrame()\r\n",
        "# for i in stock_for_tweet['Symbol'].unique():\r\n",
        "#   t_stock = stock_for_tweet[stock_for_tweet['Symbol'] == i][['5. adjusted close']]\r\n",
        "#   t_stock['%_1'] = (t_stock['5. adjusted close'].shift(-1)/t_stock['5. adjusted close'].shift(0)-1)*100\r\n",
        "#   t_stock['%_5'] = (t_stock['5. adjusted close'].shift(-5)/t_stock['5. adjusted close'].shift(0)-1)*100\r\n",
        "#   t_stock['%_-1'] = (t_stock['5. adjusted close'].shift(0)/t_stock['5. adjusted close'].shift(1)-1)*100\r\n",
        "#   t_stock_all = t_stock_all.append(t_stock)\r\n",
        "\r\n",
        "# stock_for_tweet = pd.merge(t_stock_all, stock_for_tweet, left_index=True, right_index=True)\r\n",
        "\r\n",
        "#labeling\r\n",
        "stock_for_tweet['label_today']    = np.where(stock_for_tweet['%_today'] > 0, 1, 0)\r\n",
        "stock_for_tweet['label_tomorrow'] = np.where(stock_for_tweet['%_today_1'] > 0, 1, 0)\r\n",
        "# stock_for_tweet['label-1'] = np.where(stock_for_tweet['%_-1'] > 0, 1, 0)\r\n",
        "# stock_for_tweet['label5'] = np.where(stock_for_tweet['%_5'] > 0, 1, 0)"
      ],
      "execution_count": 22,
      "outputs": []
    },
    {
      "cell_type": "code",
      "metadata": {
        "id": "f4kRzKxDQ4gC",
        "colab": {
          "base_uri": "https://localhost:8080/",
          "height": 1000
        },
        "outputId": "db496483-3834-4d2f-94f2-74d7f67f9b42"
      },
      "source": [
        "df_new = pd.merge(df, stock_for_tweet, on = ['Date', 'Symbol'], how = 'inner')\r\n",
        "df_new"
      ],
      "execution_count": 24,
      "outputs": [
        {
          "output_type": "execute_result",
          "data": {
            "text/html": [
              "<div>\n",
              "<style scoped>\n",
              "    .dataframe tbody tr th:only-of-type {\n",
              "        vertical-align: middle;\n",
              "    }\n",
              "\n",
              "    .dataframe tbody tr th {\n",
              "        vertical-align: top;\n",
              "    }\n",
              "\n",
              "    .dataframe thead th {\n",
              "        text-align: right;\n",
              "    }\n",
              "</style>\n",
              "<table border=\"1\" class=\"dataframe\">\n",
              "  <thead>\n",
              "    <tr style=\"text-align: right;\">\n",
              "      <th></th>\n",
              "      <th>Symbol</th>\n",
              "      <th>message</th>\n",
              "      <th>datetime</th>\n",
              "      <th>user</th>\n",
              "      <th>message_id</th>\n",
              "      <th>Date</th>\n",
              "      <th>Time</th>\n",
              "      <th>label</th>\n",
              "      <th>Year</th>\n",
              "      <th>1. open</th>\n",
              "      <th>2. high</th>\n",
              "      <th>3. low</th>\n",
              "      <th>4. close</th>\n",
              "      <th>5. adjusted close</th>\n",
              "      <th>6. volume</th>\n",
              "      <th>7. dividend amount</th>\n",
              "      <th>8. split coefficient</th>\n",
              "      <th>%_today</th>\n",
              "      <th>%_today_1</th>\n",
              "      <th>label_today</th>\n",
              "      <th>label_tomorrow</th>\n",
              "    </tr>\n",
              "  </thead>\n",
              "  <tbody>\n",
              "    <tr>\n",
              "      <th>0</th>\n",
              "      <td>AAPL</td>\n",
              "      <td>qq next 60min confirm start rally aapl coming ...</td>\n",
              "      <td>2015-12-21 18:37:24</td>\n",
              "      <td>191996.0</td>\n",
              "      <td>47148173.0</td>\n",
              "      <td>2015-12-21</td>\n",
              "      <td>18:37:24</td>\n",
              "      <td>1</td>\n",
              "      <td>2015</td>\n",
              "      <td>107.28</td>\n",
              "      <td>107.37</td>\n",
              "      <td>105.57</td>\n",
              "      <td>107.33</td>\n",
              "      <td>24.819199</td>\n",
              "      <td>47590610.0</td>\n",
              "      <td>0.0</td>\n",
              "      <td>1.0</td>\n",
              "      <td>0.046607</td>\n",
              "      <td>-0.158287</td>\n",
              "      <td>1</td>\n",
              "      <td>0</td>\n",
              "    </tr>\n",
              "    <tr>\n",
              "      <th>1</th>\n",
              "      <td>AAPL</td>\n",
              "      <td>aapl apple going act like market bad run</td>\n",
              "      <td>2015-12-21 15:52:02</td>\n",
              "      <td>417174.0</td>\n",
              "      <td>47135188.0</td>\n",
              "      <td>2015-12-21</td>\n",
              "      <td>15:52:02</td>\n",
              "      <td>1</td>\n",
              "      <td>2015</td>\n",
              "      <td>107.28</td>\n",
              "      <td>107.37</td>\n",
              "      <td>105.57</td>\n",
              "      <td>107.33</td>\n",
              "      <td>24.819199</td>\n",
              "      <td>47590610.0</td>\n",
              "      <td>0.0</td>\n",
              "      <td>1.0</td>\n",
              "      <td>0.046607</td>\n",
              "      <td>-0.158287</td>\n",
              "      <td>1</td>\n",
              "      <td>0</td>\n",
              "    </tr>\n",
              "    <tr>\n",
              "      <th>2</th>\n",
              "      <td>AAPL</td>\n",
              "      <td>spy vix messenger positing aapl</td>\n",
              "      <td>2015-12-21 17:21:25</td>\n",
              "      <td>228682.0</td>\n",
              "      <td>47142702.0</td>\n",
              "      <td>2015-12-21</td>\n",
              "      <td>17:21:25</td>\n",
              "      <td>1</td>\n",
              "      <td>2015</td>\n",
              "      <td>107.28</td>\n",
              "      <td>107.37</td>\n",
              "      <td>105.57</td>\n",
              "      <td>107.33</td>\n",
              "      <td>24.819199</td>\n",
              "      <td>47590610.0</td>\n",
              "      <td>0.0</td>\n",
              "      <td>1.0</td>\n",
              "      <td>0.046607</td>\n",
              "      <td>-0.158287</td>\n",
              "      <td>1</td>\n",
              "      <td>0</td>\n",
              "    </tr>\n",
              "    <tr>\n",
              "      <th>3</th>\n",
              "      <td>AAPL</td>\n",
              "      <td>aapl 106 67 get fast flush covering</td>\n",
              "      <td>2015-12-21 19:23:10</td>\n",
              "      <td>596943.0</td>\n",
              "      <td>47151096.0</td>\n",
              "      <td>2015-12-21</td>\n",
              "      <td>19:23:10</td>\n",
              "      <td>1</td>\n",
              "      <td>2015</td>\n",
              "      <td>107.28</td>\n",
              "      <td>107.37</td>\n",
              "      <td>105.57</td>\n",
              "      <td>107.33</td>\n",
              "      <td>24.819199</td>\n",
              "      <td>47590610.0</td>\n",
              "      <td>0.0</td>\n",
              "      <td>1.0</td>\n",
              "      <td>0.046607</td>\n",
              "      <td>-0.158287</td>\n",
              "      <td>1</td>\n",
              "      <td>0</td>\n",
              "    </tr>\n",
              "    <tr>\n",
              "      <th>4</th>\n",
              "      <td>AAPL</td>\n",
              "      <td>aapl flash buying calls small position shall see</td>\n",
              "      <td>2015-12-21 16:16:45</td>\n",
              "      <td>508999.0</td>\n",
              "      <td>47137277.0</td>\n",
              "      <td>2015-12-21</td>\n",
              "      <td>16:16:45</td>\n",
              "      <td>1</td>\n",
              "      <td>2015</td>\n",
              "      <td>107.28</td>\n",
              "      <td>107.37</td>\n",
              "      <td>105.57</td>\n",
              "      <td>107.33</td>\n",
              "      <td>24.819199</td>\n",
              "      <td>47590610.0</td>\n",
              "      <td>0.0</td>\n",
              "      <td>1.0</td>\n",
              "      <td>0.046607</td>\n",
              "      <td>-0.158287</td>\n",
              "      <td>1</td>\n",
              "      <td>0</td>\n",
              "    </tr>\n",
              "    <tr>\n",
              "      <th>...</th>\n",
              "      <td>...</td>\n",
              "      <td>...</td>\n",
              "      <td>...</td>\n",
              "      <td>...</td>\n",
              "      <td>...</td>\n",
              "      <td>...</td>\n",
              "      <td>...</td>\n",
              "      <td>...</td>\n",
              "      <td>...</td>\n",
              "      <td>...</td>\n",
              "      <td>...</td>\n",
              "      <td>...</td>\n",
              "      <td>...</td>\n",
              "      <td>...</td>\n",
              "      <td>...</td>\n",
              "      <td>...</td>\n",
              "      <td>...</td>\n",
              "      <td>...</td>\n",
              "      <td>...</td>\n",
              "      <td>...</td>\n",
              "      <td>...</td>\n",
              "    </tr>\n",
              "    <tr>\n",
              "      <th>2391348</th>\n",
              "      <td>NFLX</td>\n",
              "      <td>snhy v nflx withing shouting distance even dry...</td>\n",
              "      <td>2009-09-24 19:47:35</td>\n",
              "      <td>78.0</td>\n",
              "      <td>604077.0</td>\n",
              "      <td>2009-09-24</td>\n",
              "      <td>19:47:35</td>\n",
              "      <td>0</td>\n",
              "      <td>2009</td>\n",
              "      <td>47.15</td>\n",
              "      <td>47.15</td>\n",
              "      <td>46.18</td>\n",
              "      <td>46.62</td>\n",
              "      <td>6.659993</td>\n",
              "      <td>533400.0</td>\n",
              "      <td>0.0</td>\n",
              "      <td>1.0</td>\n",
              "      <td>-1.124072</td>\n",
              "      <td>-0.086393</td>\n",
              "      <td>0</td>\n",
              "      <td>0</td>\n",
              "    </tr>\n",
              "    <tr>\n",
              "      <th>2391349</th>\n",
              "      <td>NFLX</td>\n",
              "      <td>nflx may go dtv news</td>\n",
              "      <td>2010-04-19 17:18:09</td>\n",
              "      <td>13327.0</td>\n",
              "      <td>1289251.0</td>\n",
              "      <td>2010-04-19</td>\n",
              "      <td>17:18:09</td>\n",
              "      <td>0</td>\n",
              "      <td>2010</td>\n",
              "      <td>85.25</td>\n",
              "      <td>86.60</td>\n",
              "      <td>82.77</td>\n",
              "      <td>84.80</td>\n",
              "      <td>12.114274</td>\n",
              "      <td>1924400.0</td>\n",
              "      <td>0.0</td>\n",
              "      <td>1.0</td>\n",
              "      <td>-0.527859</td>\n",
              "      <td>2.338975</td>\n",
              "      <td>0</td>\n",
              "      <td>1</td>\n",
              "    </tr>\n",
              "    <tr>\n",
              "      <th>2391350</th>\n",
              "      <td>NFLX</td>\n",
              "      <td>nflx june 100 calls</td>\n",
              "      <td>2010-05-24 14:15:38</td>\n",
              "      <td>9825.0</td>\n",
              "      <td>1423650.0</td>\n",
              "      <td>2010-05-24</td>\n",
              "      <td>14:15:38</td>\n",
              "      <td>1</td>\n",
              "      <td>2010</td>\n",
              "      <td>101.38</td>\n",
              "      <td>104.36</td>\n",
              "      <td>100.01</td>\n",
              "      <td>101.62</td>\n",
              "      <td>14.517128</td>\n",
              "      <td>2633300.0</td>\n",
              "      <td>0.0</td>\n",
              "      <td>1.0</td>\n",
              "      <td>0.236733</td>\n",
              "      <td>7.692308</td>\n",
              "      <td>1</td>\n",
              "      <td>1</td>\n",
              "    </tr>\n",
              "    <tr>\n",
              "      <th>2391351</th>\n",
              "      <td>NFLX</td>\n",
              "      <td>day aapl goog pcln nflx amzn nicely 39 think m...</td>\n",
              "      <td>2010-05-24 16:50:39</td>\n",
              "      <td>7399.0</td>\n",
              "      <td>1424532.0</td>\n",
              "      <td>2010-05-24</td>\n",
              "      <td>16:50:39</td>\n",
              "      <td>1</td>\n",
              "      <td>2010</td>\n",
              "      <td>101.38</td>\n",
              "      <td>104.36</td>\n",
              "      <td>100.01</td>\n",
              "      <td>101.62</td>\n",
              "      <td>14.517128</td>\n",
              "      <td>2633300.0</td>\n",
              "      <td>0.0</td>\n",
              "      <td>1.0</td>\n",
              "      <td>0.236733</td>\n",
              "      <td>7.692308</td>\n",
              "      <td>1</td>\n",
              "      <td>1</td>\n",
              "    </tr>\n",
              "    <tr>\n",
              "      <th>2391352</th>\n",
              "      <td>NFLX</td>\n",
              "      <td>nice divergence nflx stochastics 39 long stop ...</td>\n",
              "      <td>2010-01-11 04:21:34</td>\n",
              "      <td>78.0</td>\n",
              "      <td>945528.0</td>\n",
              "      <td>2010-01-11</td>\n",
              "      <td>04:21:34</td>\n",
              "      <td>0</td>\n",
              "      <td>2010</td>\n",
              "      <td>53.62</td>\n",
              "      <td>53.93</td>\n",
              "      <td>52.70</td>\n",
              "      <td>53.23</td>\n",
              "      <td>7.604278</td>\n",
              "      <td>969100.0</td>\n",
              "      <td>0.0</td>\n",
              "      <td>1.0</td>\n",
              "      <td>-0.727341</td>\n",
              "      <td>-0.626186</td>\n",
              "      <td>0</td>\n",
              "      <td>0</td>\n",
              "    </tr>\n",
              "  </tbody>\n",
              "</table>\n",
              "<p>2391353 rows × 21 columns</p>\n",
              "</div>"
            ],
            "text/plain": [
              "        Symbol  ... label_tomorrow\n",
              "0         AAPL  ...              0\n",
              "1         AAPL  ...              0\n",
              "2         AAPL  ...              0\n",
              "3         AAPL  ...              0\n",
              "4         AAPL  ...              0\n",
              "...        ...  ...            ...\n",
              "2391348   NFLX  ...              0\n",
              "2391349   NFLX  ...              1\n",
              "2391350   NFLX  ...              1\n",
              "2391351   NFLX  ...              1\n",
              "2391352   NFLX  ...              0\n",
              "\n",
              "[2391353 rows x 21 columns]"
            ]
          },
          "metadata": {
            "tags": []
          },
          "execution_count": 24
        }
      ]
    },
    {
      "cell_type": "code",
      "metadata": {
        "id": "TxfjPelrF1ij"
      },
      "source": [
        "\r\n",
        "# df.drop(df[df['label']==0].index, inplace= True)\r\n",
        "# df['label'].replace({-1:0}, inplace = True)\r\n",
        "x_train, x_test, y_train, y_test, pr_train, pr_test, s_train, s_test, date_train, date_test = train_test_split(df_new['message'], df_new['label_tomorrow'], df_new['%_today_1'], df_new['Symbol'], df_new['Date'], test_size=0.1, random_state=42)"
      ],
      "execution_count": 34,
      "outputs": []
    },
    {
      "cell_type": "markdown",
      "metadata": {
        "id": "8Z4cgY3hMwiS"
      },
      "source": [
        "#### Data = document. Создать свою базу данных DataSeries вытаскивая их в цикле из Document?"
      ]
    },
    {
      "cell_type": "code",
      "metadata": {
        "id": "i7kCVAIhdBHc"
      },
      "source": [
        "# x_train, x_test, y_train, y_test, pr_train, pr_test, s_train, s_test, indust_train, indust_test = train_test_split \\\r\n",
        "# (result_byes['message'], result_byes['label'], result_byes['250_%'], result_byes['Symbol'], result_byes['Industry'], test_size=0.1, random_state=42)"
      ],
      "execution_count": null,
      "outputs": []
    },
    {
      "cell_type": "markdown",
      "metadata": {
        "id": "Lgir4-WAx44o"
      },
      "source": [
        "#### Model Byes"
      ]
    },
    {
      "cell_type": "code",
      "metadata": {
        "id": "tIPMliLlDqO-"
      },
      "source": [
        "text_pipe = Pipeline([('vect', CountVectorizer(ngram_range=(1,2))),\r\n",
        "                     ('tfidf', TfidfTransformer(use_idf=True, norm='l2')),\r\n",
        "                     ('clf', MultinomialNB(alpha=0.2))])\r\n",
        "\r\n",
        "tuning_param = {\r\n",
        "     'vect__ngram_range': [(1, 1), (1, 2)],\r\n",
        "     'tfidf__use_idf': (True, False),\r\n",
        "     'tfidf__norm': ('l1', 'l2'),\r\n",
        "     'clf__alpha': [1, 0.1,0.2,0.3,0.4,0.5]\r\n",
        "}\r\n",
        "\r\n",
        "best_param = {\r\n",
        "    'vect__ngram_range': [(1, 1)],\r\n",
        "    'tfidf__use_idf': ([True]),\r\n",
        "    'tfidf__norm': (['l2']),\r\n",
        "    'clf__alpha': [0.2]\r\n",
        "}\r\n",
        "\r\n",
        "# score = 'f1_macro'\r\n",
        "# model = GridSearchCV(text_pipe, tuning_param, cv=5, scoring=score)\r\n"
      ],
      "execution_count": 26,
      "outputs": []
    },
    {
      "cell_type": "code",
      "metadata": {
        "id": "vn5_ySs5Ba1H",
        "colab": {
          "base_uri": "https://localhost:8080/"
        },
        "outputId": "17d4df29-f434-4810-e898-1b5423686666"
      },
      "source": [
        "%%time\r\n",
        "# model.fit(x_train, y_train)\r\n",
        "\r\n",
        "# OR\r\n",
        "\r\n",
        "text_pipe.fit(x_train, y_train)"
      ],
      "execution_count": 27,
      "outputs": [
        {
          "output_type": "stream",
          "text": [
            "CPU times: user 1min 21s, sys: 1.53 s, total: 1min 22s\n",
            "Wall time: 1min 22s\n"
          ],
          "name": "stdout"
        },
        {
          "output_type": "execute_result",
          "data": {
            "text/plain": [
              "Pipeline(memory=None,\n",
              "         steps=[('vect',\n",
              "                 CountVectorizer(analyzer='word', binary=False,\n",
              "                                 decode_error='strict',\n",
              "                                 dtype=<class 'numpy.int64'>, encoding='utf-8',\n",
              "                                 input='content', lowercase=True, max_df=1.0,\n",
              "                                 max_features=None, min_df=1,\n",
              "                                 ngram_range=(1, 2), preprocessor=None,\n",
              "                                 stop_words=None, strip_accents=None,\n",
              "                                 token_pattern='(?u)\\\\b\\\\w\\\\w+\\\\b',\n",
              "                                 tokenizer=None, vocabulary=None)),\n",
              "                ('tfidf',\n",
              "                 TfidfTransformer(norm='l2', smooth_idf=True,\n",
              "                                  sublinear_tf=False, use_idf=True)),\n",
              "                ('clf',\n",
              "                 MultinomialNB(alpha=0.2, class_prior=None, fit_prior=True))],\n",
              "         verbose=False)"
            ]
          },
          "metadata": {
            "tags": []
          },
          "execution_count": 27
        }
      ]
    },
    {
      "cell_type": "code",
      "metadata": {
        "id": "GVEXKfZo80Yn",
        "colab": {
          "base_uri": "https://localhost:8080/"
        },
        "outputId": "d9ecf9f3-28d7-4ee4-b7cf-af119094c2d3"
      },
      "source": [
        "%%time\r\n",
        "pred_proba_te = text_pipe.predict_proba(x_test)\r\n",
        "pred_proba_tr = text_pipe.predict_proba(x_train)\r\n",
        "pred          = text_pipe.predict(x_test)\r\n",
        "pred_train    = text_pipe.predict(x_train)\r\n",
        "\r\n",
        "# OR\r\n",
        "\r\n",
        "# pred_proba_te = model.predict_proba(x_test)\r\n",
        "# pred_proba_tr = model.predict_proba(x_train)\r\n",
        "# pred          = model.predict(x_test)\r\n",
        "# pred_train    = model.predict(x_train)\r\n"
      ],
      "execution_count": 28,
      "outputs": [
        {
          "output_type": "stream",
          "text": [
            "CPU times: user 2min 9s, sys: 215 ms, total: 2min 9s\n",
            "Wall time: 2min 9s\n"
          ],
          "name": "stdout"
        }
      ]
    },
    {
      "cell_type": "code",
      "metadata": {
        "id": "o9JH9iOBY0k9"
      },
      "source": [
        "# model.best_estimator_\r\n",
        "# model.best_params_\r\n",
        "\r\n",
        "# # save best and load\r\n",
        "# joblib.dump(grid.best_params_, 'best_tfidf.pkl', compress = 1) # Only best parameters\r\n",
        "\r\n",
        "# # Load best parameters\r\n",
        "# tfidf_params = joblib.load('best_tfidf.pkl')\r\n",
        "\r\n",
        "# text_pipe.set_params(**tfidf_params)"
      ],
      "execution_count": null,
      "outputs": []
    },
    {
      "cell_type": "code",
      "metadata": {
        "colab": {
          "base_uri": "https://localhost:8080/"
        },
        "id": "PrzIM2q7vtiy",
        "outputId": "ae3766d0-c519-4f4f-8f1c-3e83237ae236"
      },
      "source": [
        "print(classification_report(y_test, pred, digits=4))"
      ],
      "execution_count": 29,
      "outputs": [
        {
          "output_type": "stream",
          "text": [
            "              precision    recall  f1-score   support\n",
            "\n",
            "           0     0.5549    0.5588    0.5568    119768\n",
            "           1     0.5541    0.5502    0.5522    119368\n",
            "\n",
            "    accuracy                         0.5545    239136\n",
            "   macro avg     0.5545    0.5545    0.5545    239136\n",
            "weighted avg     0.5545    0.5545    0.5545    239136\n",
            "\n"
          ],
          "name": "stdout"
        }
      ]
    },
    {
      "cell_type": "code",
      "metadata": {
        "colab": {
          "base_uri": "https://localhost:8080/",
          "height": 306
        },
        "id": "u7pt2Yd-vfri",
        "outputId": "e808ec94-187c-4d61-ff8d-59f2eac660e0"
      },
      "source": [
        "plt.figure(dpi=75)\r\n",
        "mat = confusion_matrix(y_test, pred)\r\n",
        "sns.heatmap(mat, annot=True, fmt='d', cbar=False)\r\n",
        "\r\n",
        "plt.title('Confusion Matrix for Naive Bayes')\r\n",
        "plt.ylabel('true label')\r\n",
        "plt.xlabel('predicted label')\r\n",
        "# plt.savefig(\"assets/confusion_matrix.png\")\r\n",
        "plt.show()"
      ],
      "execution_count": 30,
      "outputs": [
        {
          "output_type": "display_data",
          "data": {
            "image/png": "[encoded data removed]",
            "text/plain": [
              "<Figure size 450x300 with 1 Axes>"
            ]
          },
          "metadata": {
            "tags": [],
            "needs_background": "light"
          }
        }
      ]
    },
    {
      "cell_type": "code",
      "metadata": {
        "colab": {
          "base_uri": "https://localhost:8080/"
        },
        "id": "xM4nL7bjdx3e",
        "outputId": "df401114-1060-4a6b-addc-4e27fb2f523f"
      },
      "source": [
        ""
      ],
      "execution_count": null,
      "outputs": [
        {
          "output_type": "stream",
          "text": [
            "              precision    recall  f1-score   support\n",
            "\n",
            "           0     0.5673    0.4778    0.5187    114423\n",
            "           1     0.5815    0.6656    0.6207    124713\n",
            "\n",
            "    accuracy                         0.5758    239136\n",
            "   macro avg     0.5744    0.5717    0.5697    239136\n",
            "weighted avg     0.5747    0.5758    0.5719    239136\n",
            "\n"
          ],
          "name": "stdout"
        }
      ]
    },
    {
      "cell_type": "code",
      "metadata": {
        "colab": {
          "base_uri": "https://localhost:8080/",
          "height": 306
        },
        "id": "w9s6u6qL4l0-",
        "outputId": "2157f3b6-f755-46cc-9840-3f95344f46f6"
      },
      "source": [
        ""
      ],
      "execution_count": null,
      "outputs": [
        {
          "output_type": "display_data",
          "data": {
            "text/plain": [
              "<Figure size 450x300 with 1 Axes>"
            ],
            "image/png": "[encoded data removed]"
          },
          "metadata": {
            "tags": [],
            "needs_background": "light"
          }
        }
      ]
    },
    {
      "cell_type": "code",
      "metadata": {
        "colab": {
          "base_uri": "https://localhost:8080/",
          "height": 306
        },
        "id": "oGX-jRkp3lZ9",
        "outputId": "ac58d67a-185a-4037-e305-4432d8eaffbe"
      },
      "source": [
        ""
      ],
      "execution_count": null,
      "outputs": [
        {
          "output_type": "display_data",
          "data": {
            "image/png": "[encoded data removed]",
            "text/plain": [
              "<Figure size 450x300 with 1 Axes>"
            ]
          },
          "metadata": {
            "tags": [],
            "needs_background": "light"
          }
        }
      ]
    },
    {
      "cell_type": "code",
      "metadata": {
        "colab": {
          "base_uri": "https://localhost:8080/",
          "height": 419
        },
        "id": "lAKEiqZTy5dr",
        "outputId": "30542f13-2906-4243-fc60-ca1a7d6b9bd1"
      },
      "source": [
        "test_df"
      ],
      "execution_count": 43,
      "outputs": [
        {
          "output_type": "execute_result",
          "data": {
            "text/html": [
              "<div>\n",
              "<style scoped>\n",
              "    .dataframe tbody tr th:only-of-type {\n",
              "        vertical-align: middle;\n",
              "    }\n",
              "\n",
              "    .dataframe tbody tr th {\n",
              "        vertical-align: top;\n",
              "    }\n",
              "\n",
              "    .dataframe thead th {\n",
              "        text-align: right;\n",
              "    }\n",
              "</style>\n",
              "<table border=\"1\" class=\"dataframe\">\n",
              "  <thead>\n",
              "    <tr style=\"text-align: right;\">\n",
              "      <th></th>\n",
              "      <th>label</th>\n",
              "      <th>pred</th>\n",
              "      <th>%_today</th>\n",
              "      <th>Symbol</th>\n",
              "      <th>Date</th>\n",
              "      <th>sign</th>\n",
              "    </tr>\n",
              "  </thead>\n",
              "  <tbody>\n",
              "    <tr>\n",
              "      <th>408700</th>\n",
              "      <td>0</td>\n",
              "      <td>0</td>\n",
              "      <td>-1.292901</td>\n",
              "      <td>AAPL</td>\n",
              "      <td>2018-01-26</td>\n",
              "      <td>test</td>\n",
              "    </tr>\n",
              "    <tr>\n",
              "      <th>2095222</th>\n",
              "      <td>0</td>\n",
              "      <td>1</td>\n",
              "      <td>-2.459698</td>\n",
              "      <td>NFLX</td>\n",
              "      <td>2020-04-20</td>\n",
              "      <td>test</td>\n",
              "    </tr>\n",
              "    <tr>\n",
              "      <th>2255034</th>\n",
              "      <td>0</td>\n",
              "      <td>0</td>\n",
              "      <td>-1.107839</td>\n",
              "      <td>NFLX</td>\n",
              "      <td>2019-07-15</td>\n",
              "      <td>test</td>\n",
              "    </tr>\n",
              "    <tr>\n",
              "      <th>897617</th>\n",
              "      <td>0</td>\n",
              "      <td>1</td>\n",
              "      <td>-0.912662</td>\n",
              "      <td>AAPL</td>\n",
              "      <td>2018-12-14</td>\n",
              "      <td>test</td>\n",
              "    </tr>\n",
              "    <tr>\n",
              "      <th>250739</th>\n",
              "      <td>0</td>\n",
              "      <td>0</td>\n",
              "      <td>-0.342418</td>\n",
              "      <td>AAPL</td>\n",
              "      <td>2019-08-21</td>\n",
              "      <td>test</td>\n",
              "    </tr>\n",
              "    <tr>\n",
              "      <th>...</th>\n",
              "      <td>...</td>\n",
              "      <td>...</td>\n",
              "      <td>...</td>\n",
              "      <td>...</td>\n",
              "      <td>...</td>\n",
              "      <td>...</td>\n",
              "    </tr>\n",
              "    <tr>\n",
              "      <th>531404</th>\n",
              "      <td>1</td>\n",
              "      <td>1</td>\n",
              "      <td>0.895916</td>\n",
              "      <td>AAPL</td>\n",
              "      <td>2018-07-16</td>\n",
              "      <td>test</td>\n",
              "    </tr>\n",
              "    <tr>\n",
              "      <th>1558899</th>\n",
              "      <td>1</td>\n",
              "      <td>1</td>\n",
              "      <td>0.026583</td>\n",
              "      <td>FB</td>\n",
              "      <td>2019-09-17</td>\n",
              "      <td>test</td>\n",
              "    </tr>\n",
              "    <tr>\n",
              "      <th>1514336</th>\n",
              "      <td>0</td>\n",
              "      <td>0</td>\n",
              "      <td>-2.397959</td>\n",
              "      <td>AMZN</td>\n",
              "      <td>2015-01-14</td>\n",
              "      <td>test</td>\n",
              "    </tr>\n",
              "    <tr>\n",
              "      <th>330524</th>\n",
              "      <td>0</td>\n",
              "      <td>1</td>\n",
              "      <td>-0.018880</td>\n",
              "      <td>AAPL</td>\n",
              "      <td>2016-03-18</td>\n",
              "      <td>test</td>\n",
              "    </tr>\n",
              "    <tr>\n",
              "      <th>971731</th>\n",
              "      <td>1</td>\n",
              "      <td>0</td>\n",
              "      <td>0.009580</td>\n",
              "      <td>AAPL</td>\n",
              "      <td>2019-07-29</td>\n",
              "      <td>test</td>\n",
              "    </tr>\n",
              "  </tbody>\n",
              "</table>\n",
              "<p>239136 rows × 6 columns</p>\n",
              "</div>"
            ],
            "text/plain": [
              "         label  pred   %_today Symbol       Date  sign\n",
              "408700       0     0 -1.292901   AAPL 2018-01-26  test\n",
              "2095222      0     1 -2.459698   NFLX 2020-04-20  test\n",
              "2255034      0     0 -1.107839   NFLX 2019-07-15  test\n",
              "897617       0     1 -0.912662   AAPL 2018-12-14  test\n",
              "250739       0     0 -0.342418   AAPL 2019-08-21  test\n",
              "...        ...   ...       ...    ...        ...   ...\n",
              "531404       1     1  0.895916   AAPL 2018-07-16  test\n",
              "1558899      1     1  0.026583     FB 2019-09-17  test\n",
              "1514336      0     0 -2.397959   AMZN 2015-01-14  test\n",
              "330524       0     1 -0.018880   AAPL 2016-03-18  test\n",
              "971731       1     0  0.009580   AAPL 2019-07-29  test\n",
              "\n",
              "[239136 rows x 6 columns]"
            ]
          },
          "metadata": {
            "tags": []
          },
          "execution_count": 43
        }
      ]
    },
    {
      "cell_type": "code",
      "metadata": {
        "colab": {
          "base_uri": "https://localhost:8080/",
          "height": 481
        },
        "id": "VRMvq9E_w5Hf",
        "outputId": "d8349872-bf4d-443d-8dc9-1e975a086830"
      },
      "source": [
        "ff = pd.pivot_table(test_df,\r\n",
        "              index = ['Symbol', 'Date'],\r\n",
        "              values = ['pred', 'label','%_today'],\r\n",
        "              aggfunc = ['count', 'mean'])\r\n",
        "ff.reset_index().to_excel(my_dir + '1703.xlsx')\r\n",
        "ff"
      ],
      "execution_count": 57,
      "outputs": [
        {
          "output_type": "execute_result",
          "data": {
            "text/html": [
              "<div>\n",
              "<style scoped>\n",
              "    .dataframe tbody tr th:only-of-type {\n",
              "        vertical-align: middle;\n",
              "    }\n",
              "\n",
              "    .dataframe tbody tr th {\n",
              "        vertical-align: top;\n",
              "    }\n",
              "\n",
              "    .dataframe thead tr th {\n",
              "        text-align: left;\n",
              "    }\n",
              "\n",
              "    .dataframe thead tr:last-of-type th {\n",
              "        text-align: right;\n",
              "    }\n",
              "</style>\n",
              "<table border=\"1\" class=\"dataframe\">\n",
              "  <thead>\n",
              "    <tr>\n",
              "      <th></th>\n",
              "      <th></th>\n",
              "      <th colspan=\"3\" halign=\"left\">count</th>\n",
              "      <th colspan=\"3\" halign=\"left\">mean</th>\n",
              "    </tr>\n",
              "    <tr>\n",
              "      <th></th>\n",
              "      <th></th>\n",
              "      <th>%_today</th>\n",
              "      <th>label</th>\n",
              "      <th>pred</th>\n",
              "      <th>%_today</th>\n",
              "      <th>label</th>\n",
              "      <th>pred</th>\n",
              "    </tr>\n",
              "    <tr>\n",
              "      <th>Symbol</th>\n",
              "      <th>Date</th>\n",
              "      <th></th>\n",
              "      <th></th>\n",
              "      <th></th>\n",
              "      <th></th>\n",
              "      <th></th>\n",
              "      <th></th>\n",
              "    </tr>\n",
              "  </thead>\n",
              "  <tbody>\n",
              "    <tr>\n",
              "      <th rowspan=\"5\" valign=\"top\">AAPL</th>\n",
              "      <th>2009-07-30</th>\n",
              "      <td>1</td>\n",
              "      <td>1</td>\n",
              "      <td>1</td>\n",
              "      <td>0.246582</td>\n",
              "      <td>1</td>\n",
              "      <td>1.000000</td>\n",
              "    </tr>\n",
              "    <tr>\n",
              "      <th>2009-08-24</th>\n",
              "      <td>1</td>\n",
              "      <td>1</td>\n",
              "      <td>1</td>\n",
              "      <td>-0.035348</td>\n",
              "      <td>0</td>\n",
              "      <td>0.000000</td>\n",
              "    </tr>\n",
              "    <tr>\n",
              "      <th>2009-09-03</th>\n",
              "      <td>1</td>\n",
              "      <td>1</td>\n",
              "      <td>1</td>\n",
              "      <td>1.813951</td>\n",
              "      <td>1</td>\n",
              "      <td>0.000000</td>\n",
              "    </tr>\n",
              "    <tr>\n",
              "      <th>2009-09-04</th>\n",
              "      <td>2</td>\n",
              "      <td>2</td>\n",
              "      <td>2</td>\n",
              "      <td>-0.028905</td>\n",
              "      <td>0</td>\n",
              "      <td>0.500000</td>\n",
              "    </tr>\n",
              "    <tr>\n",
              "      <th>2009-09-08</th>\n",
              "      <td>1</td>\n",
              "      <td>1</td>\n",
              "      <td>1</td>\n",
              "      <td>-0.949184</td>\n",
              "      <td>0</td>\n",
              "      <td>0.000000</td>\n",
              "    </tr>\n",
              "    <tr>\n",
              "      <th>...</th>\n",
              "      <th>...</th>\n",
              "      <td>...</td>\n",
              "      <td>...</td>\n",
              "      <td>...</td>\n",
              "      <td>...</td>\n",
              "      <td>...</td>\n",
              "      <td>...</td>\n",
              "    </tr>\n",
              "    <tr>\n",
              "      <th rowspan=\"5\" valign=\"top\">NFLX</th>\n",
              "      <th>2020-07-16</th>\n",
              "      <td>530</td>\n",
              "      <td>530</td>\n",
              "      <td>530</td>\n",
              "      <td>-0.379898</td>\n",
              "      <td>0</td>\n",
              "      <td>0.362264</td>\n",
              "    </tr>\n",
              "    <tr>\n",
              "      <th>2020-07-17</th>\n",
              "      <td>226</td>\n",
              "      <td>226</td>\n",
              "      <td>226</td>\n",
              "      <td>2.712925</td>\n",
              "      <td>1</td>\n",
              "      <td>0.442478</td>\n",
              "    </tr>\n",
              "    <tr>\n",
              "      <th>2020-07-20</th>\n",
              "      <td>56</td>\n",
              "      <td>56</td>\n",
              "      <td>56</td>\n",
              "      <td>-3.142292</td>\n",
              "      <td>0</td>\n",
              "      <td>0.464286</td>\n",
              "    </tr>\n",
              "    <tr>\n",
              "      <th>2020-07-21</th>\n",
              "      <td>41</td>\n",
              "      <td>41</td>\n",
              "      <td>41</td>\n",
              "      <td>-0.481521</td>\n",
              "      <td>0</td>\n",
              "      <td>0.512195</td>\n",
              "    </tr>\n",
              "    <tr>\n",
              "      <th>2020-07-22</th>\n",
              "      <td>3</td>\n",
              "      <td>3</td>\n",
              "      <td>3</td>\n",
              "      <td>-2.758944</td>\n",
              "      <td>0</td>\n",
              "      <td>0.666667</td>\n",
              "    </tr>\n",
              "  </tbody>\n",
              "</table>\n",
              "<p>9718 rows × 6 columns</p>\n",
              "</div>"
            ],
            "text/plain": [
              "                    count                 mean                \n",
              "                  %_today label pred   %_today label      pred\n",
              "Symbol Date                                                   \n",
              "AAPL   2009-07-30       1     1    1  0.246582     1  1.000000\n",
              "       2009-08-24       1     1    1 -0.035348     0  0.000000\n",
              "       2009-09-03       1     1    1  1.813951     1  0.000000\n",
              "       2009-09-04       2     2    2 -0.028905     0  0.500000\n",
              "       2009-09-08       1     1    1 -0.949184     0  0.000000\n",
              "...                   ...   ...  ...       ...   ...       ...\n",
              "NFLX   2020-07-16     530   530  530 -0.379898     0  0.362264\n",
              "       2020-07-17     226   226  226  2.712925     1  0.442478\n",
              "       2020-07-20      56    56   56 -3.142292     0  0.464286\n",
              "       2020-07-21      41    41   41 -0.481521     0  0.512195\n",
              "       2020-07-22       3     3    3 -2.758944     0  0.666667\n",
              "\n",
              "[9718 rows x 6 columns]"
            ]
          },
          "metadata": {
            "tags": []
          },
          "execution_count": 57
        }
      ]
    },
    {
      "cell_type": "code",
      "metadata": {
        "colab": {
          "base_uri": "https://localhost:8080/",
          "height": 594
        },
        "id": "vtZ-OC2C2P4Q",
        "outputId": "ee8150af-d1bd-4678-8b6f-46d87faefcc5"
      },
      "source": [
        "stock_for_tweet[(stock_for_tweet['Date'] == '23.01.2017')|(stock_for_tweet['Date'] == '24.01.2017')]"
      ],
      "execution_count": 61,
      "outputs": [
        {
          "output_type": "execute_result",
          "data": {
            "text/html": [
              "<div>\n",
              "<style scoped>\n",
              "    .dataframe tbody tr th:only-of-type {\n",
              "        vertical-align: middle;\n",
              "    }\n",
              "\n",
              "    .dataframe tbody tr th {\n",
              "        vertical-align: top;\n",
              "    }\n",
              "\n",
              "    .dataframe thead th {\n",
              "        text-align: right;\n",
              "    }\n",
              "</style>\n",
              "<table border=\"1\" class=\"dataframe\">\n",
              "  <thead>\n",
              "    <tr style=\"text-align: right;\">\n",
              "      <th></th>\n",
              "      <th>1. open</th>\n",
              "      <th>2. high</th>\n",
              "      <th>3. low</th>\n",
              "      <th>4. close</th>\n",
              "      <th>5. adjusted close</th>\n",
              "      <th>6. volume</th>\n",
              "      <th>7. dividend amount</th>\n",
              "      <th>8. split coefficient</th>\n",
              "      <th>Symbol</th>\n",
              "      <th>Date</th>\n",
              "      <th>%_today</th>\n",
              "      <th>%_today_1</th>\n",
              "      <th>label_today</th>\n",
              "      <th>label_tomorrow</th>\n",
              "    </tr>\n",
              "    <tr>\n",
              "      <th>date</th>\n",
              "      <th></th>\n",
              "      <th></th>\n",
              "      <th></th>\n",
              "      <th></th>\n",
              "      <th></th>\n",
              "      <th></th>\n",
              "      <th></th>\n",
              "      <th></th>\n",
              "      <th></th>\n",
              "      <th></th>\n",
              "      <th></th>\n",
              "      <th></th>\n",
              "      <th></th>\n",
              "      <th></th>\n",
              "    </tr>\n",
              "  </thead>\n",
              "  <tbody>\n",
              "    <tr>\n",
              "      <th>2017-01-23</th>\n",
              "      <td>120.00</td>\n",
              "      <td>120.8100</td>\n",
              "      <td>119.77</td>\n",
              "      <td>120.08</td>\n",
              "      <td>28.385449</td>\n",
              "      <td>22050218.0</td>\n",
              "      <td>0.0</td>\n",
              "      <td>1.0</td>\n",
              "      <td>AAPL</td>\n",
              "      <td>2017-01-23</td>\n",
              "      <td>0.066667</td>\n",
              "      <td>0.351317</td>\n",
              "      <td>1</td>\n",
              "      <td>1</td>\n",
              "    </tr>\n",
              "    <tr>\n",
              "      <th>2017-01-24</th>\n",
              "      <td>119.55</td>\n",
              "      <td>120.1000</td>\n",
              "      <td>119.50</td>\n",
              "      <td>119.97</td>\n",
              "      <td>28.359447</td>\n",
              "      <td>23211038.0</td>\n",
              "      <td>0.0</td>\n",
              "      <td>1.0</td>\n",
              "      <td>AAPL</td>\n",
              "      <td>2017-01-24</td>\n",
              "      <td>0.351317</td>\n",
              "      <td>1.212423</td>\n",
              "      <td>1</td>\n",
              "      <td>1</td>\n",
              "    </tr>\n",
              "    <tr>\n",
              "      <th>2017-01-23</th>\n",
              "      <td>806.80</td>\n",
              "      <td>818.5000</td>\n",
              "      <td>805.08</td>\n",
              "      <td>817.88</td>\n",
              "      <td>817.880000</td>\n",
              "      <td>2797474.0</td>\n",
              "      <td>0.0</td>\n",
              "      <td>1.0</td>\n",
              "      <td>AMZN</td>\n",
              "      <td>2017-01-23</td>\n",
              "      <td>1.373327</td>\n",
              "      <td>0.053528</td>\n",
              "      <td>1</td>\n",
              "      <td>1</td>\n",
              "    </tr>\n",
              "    <tr>\n",
              "      <th>2017-01-24</th>\n",
              "      <td>822.00</td>\n",
              "      <td>823.9900</td>\n",
              "      <td>814.50</td>\n",
              "      <td>822.44</td>\n",
              "      <td>822.440000</td>\n",
              "      <td>2971740.0</td>\n",
              "      <td>0.0</td>\n",
              "      <td>1.0</td>\n",
              "      <td>AMZN</td>\n",
              "      <td>2017-01-24</td>\n",
              "      <td>0.053528</td>\n",
              "      <td>1.299362</td>\n",
              "      <td>1</td>\n",
              "      <td>1</td>\n",
              "    </tr>\n",
              "    <tr>\n",
              "      <th>2017-01-23</th>\n",
              "      <td>127.31</td>\n",
              "      <td>129.2500</td>\n",
              "      <td>126.95</td>\n",
              "      <td>128.93</td>\n",
              "      <td>128.930000</td>\n",
              "      <td>16593563.0</td>\n",
              "      <td>0.0</td>\n",
              "      <td>1.0</td>\n",
              "      <td>FB</td>\n",
              "      <td>2017-01-23</td>\n",
              "      <td>1.272484</td>\n",
              "      <td>-0.007729</td>\n",
              "      <td>1</td>\n",
              "      <td>0</td>\n",
              "    </tr>\n",
              "    <tr>\n",
              "      <th>2017-01-24</th>\n",
              "      <td>129.38</td>\n",
              "      <td>129.9000</td>\n",
              "      <td>128.38</td>\n",
              "      <td>129.37</td>\n",
              "      <td>129.370000</td>\n",
              "      <td>15162724.0</td>\n",
              "      <td>0.0</td>\n",
              "      <td>1.0</td>\n",
              "      <td>FB</td>\n",
              "      <td>2017-01-24</td>\n",
              "      <td>-0.007729</td>\n",
              "      <td>1.138462</td>\n",
              "      <td>0</td>\n",
              "      <td>1</td>\n",
              "    </tr>\n",
              "    <tr>\n",
              "      <th>2017-01-23</th>\n",
              "      <td>831.61</td>\n",
              "      <td>845.5428</td>\n",
              "      <td>828.70</td>\n",
              "      <td>844.43</td>\n",
              "      <td>844.430000</td>\n",
              "      <td>2457377.0</td>\n",
              "      <td>0.0</td>\n",
              "      <td>1.0</td>\n",
              "      <td>GOOGL</td>\n",
              "      <td>2017-01-23</td>\n",
              "      <td>1.541588</td>\n",
              "      <td>0.301070</td>\n",
              "      <td>1</td>\n",
              "      <td>1</td>\n",
              "    </tr>\n",
              "    <tr>\n",
              "      <th>2017-01-24</th>\n",
              "      <td>846.98</td>\n",
              "      <td>851.5200</td>\n",
              "      <td>842.28</td>\n",
              "      <td>849.53</td>\n",
              "      <td>849.530000</td>\n",
              "      <td>1688375.0</td>\n",
              "      <td>0.0</td>\n",
              "      <td>1.0</td>\n",
              "      <td>GOOGL</td>\n",
              "      <td>2017-01-24</td>\n",
              "      <td>0.301070</td>\n",
              "      <td>0.574073</td>\n",
              "      <td>1</td>\n",
              "      <td>1</td>\n",
              "    </tr>\n",
              "    <tr>\n",
              "      <th>2017-01-23</th>\n",
              "      <td>138.65</td>\n",
              "      <td>139.4900</td>\n",
              "      <td>137.31</td>\n",
              "      <td>137.39</td>\n",
              "      <td>137.390000</td>\n",
              "      <td>7433896.0</td>\n",
              "      <td>0.0</td>\n",
              "      <td>1.0</td>\n",
              "      <td>NFLX</td>\n",
              "      <td>2017-01-23</td>\n",
              "      <td>-0.908763</td>\n",
              "      <td>1.448121</td>\n",
              "      <td>0</td>\n",
              "      <td>1</td>\n",
              "    </tr>\n",
              "    <tr>\n",
              "      <th>2017-01-24</th>\n",
              "      <td>138.11</td>\n",
              "      <td>140.9300</td>\n",
              "      <td>137.03</td>\n",
              "      <td>140.11</td>\n",
              "      <td>140.110000</td>\n",
              "      <td>7754673.0</td>\n",
              "      <td>0.0</td>\n",
              "      <td>1.0</td>\n",
              "      <td>NFLX</td>\n",
              "      <td>2017-01-24</td>\n",
              "      <td>1.448121</td>\n",
              "      <td>-0.909091</td>\n",
              "      <td>1</td>\n",
              "      <td>0</td>\n",
              "    </tr>\n",
              "  </tbody>\n",
              "</table>\n",
              "</div>"
            ],
            "text/plain": [
              "            1. open   2. high  3. low  ...  %_today_1  label_today  label_tomorrow\n",
              "date                                   ...                                        \n",
              "2017-01-23   120.00  120.8100  119.77  ...   0.351317            1               1\n",
              "2017-01-24   119.55  120.1000  119.50  ...   1.212423            1               1\n",
              "2017-01-23   806.80  818.5000  805.08  ...   0.053528            1               1\n",
              "2017-01-24   822.00  823.9900  814.50  ...   1.299362            1               1\n",
              "2017-01-23   127.31  129.2500  126.95  ...  -0.007729            1               0\n",
              "2017-01-24   129.38  129.9000  128.38  ...   1.138462            0               1\n",
              "2017-01-23   831.61  845.5428  828.70  ...   0.301070            1               1\n",
              "2017-01-24   846.98  851.5200  842.28  ...   0.574073            1               1\n",
              "2017-01-23   138.65  139.4900  137.31  ...   1.448121            0               1\n",
              "2017-01-24   138.11  140.9300  137.03  ...  -0.909091            1               0\n",
              "\n",
              "[10 rows x 14 columns]"
            ]
          },
          "metadata": {
            "tags": []
          },
          "execution_count": 61
        }
      ]
    },
    {
      "cell_type": "code",
      "metadata": {
        "id": "n0rAQmGe2QNu"
      },
      "source": [
        ""
      ],
      "execution_count": null,
      "outputs": []
    },
    {
      "cell_type": "code",
      "metadata": {
        "colab": {
          "base_uri": "https://localhost:8080/",
          "height": 450
        },
        "id": "w7_P4D6Hz2TP",
        "outputId": "ed43c1ed-d6c0-46de-a826-7006432c37bf"
      },
      "source": [
        ""
      ],
      "execution_count": 56,
      "outputs": [
        {
          "output_type": "execute_result",
          "data": {
            "text/html": [
              "<div>\n",
              "<style scoped>\n",
              "    .dataframe tbody tr th:only-of-type {\n",
              "        vertical-align: middle;\n",
              "    }\n",
              "\n",
              "    .dataframe tbody tr th {\n",
              "        vertical-align: top;\n",
              "    }\n",
              "\n",
              "    .dataframe thead tr th {\n",
              "        text-align: left;\n",
              "    }\n",
              "</style>\n",
              "<table border=\"1\" class=\"dataframe\">\n",
              "  <thead>\n",
              "    <tr>\n",
              "      <th></th>\n",
              "      <th>Symbol</th>\n",
              "      <th>Date</th>\n",
              "      <th colspan=\"3\" halign=\"left\">count</th>\n",
              "      <th colspan=\"3\" halign=\"left\">mean</th>\n",
              "    </tr>\n",
              "    <tr>\n",
              "      <th></th>\n",
              "      <th></th>\n",
              "      <th></th>\n",
              "      <th>%_today</th>\n",
              "      <th>label</th>\n",
              "      <th>pred</th>\n",
              "      <th>%_today</th>\n",
              "      <th>label</th>\n",
              "      <th>pred</th>\n",
              "    </tr>\n",
              "  </thead>\n",
              "  <tbody>\n",
              "    <tr>\n",
              "      <th>0</th>\n",
              "      <td>AAPL</td>\n",
              "      <td>2009-07-30</td>\n",
              "      <td>1</td>\n",
              "      <td>1</td>\n",
              "      <td>1</td>\n",
              "      <td>0.246582</td>\n",
              "      <td>1</td>\n",
              "      <td>1.000000</td>\n",
              "    </tr>\n",
              "    <tr>\n",
              "      <th>1</th>\n",
              "      <td>AAPL</td>\n",
              "      <td>2009-08-24</td>\n",
              "      <td>1</td>\n",
              "      <td>1</td>\n",
              "      <td>1</td>\n",
              "      <td>-0.035348</td>\n",
              "      <td>0</td>\n",
              "      <td>0.000000</td>\n",
              "    </tr>\n",
              "    <tr>\n",
              "      <th>2</th>\n",
              "      <td>AAPL</td>\n",
              "      <td>2009-09-03</td>\n",
              "      <td>1</td>\n",
              "      <td>1</td>\n",
              "      <td>1</td>\n",
              "      <td>1.813951</td>\n",
              "      <td>1</td>\n",
              "      <td>0.000000</td>\n",
              "    </tr>\n",
              "    <tr>\n",
              "      <th>3</th>\n",
              "      <td>AAPL</td>\n",
              "      <td>2009-09-04</td>\n",
              "      <td>2</td>\n",
              "      <td>2</td>\n",
              "      <td>2</td>\n",
              "      <td>-0.028905</td>\n",
              "      <td>0</td>\n",
              "      <td>0.500000</td>\n",
              "    </tr>\n",
              "    <tr>\n",
              "      <th>4</th>\n",
              "      <td>AAPL</td>\n",
              "      <td>2009-09-08</td>\n",
              "      <td>1</td>\n",
              "      <td>1</td>\n",
              "      <td>1</td>\n",
              "      <td>-0.949184</td>\n",
              "      <td>0</td>\n",
              "      <td>0.000000</td>\n",
              "    </tr>\n",
              "    <tr>\n",
              "      <th>...</th>\n",
              "      <td>...</td>\n",
              "      <td>...</td>\n",
              "      <td>...</td>\n",
              "      <td>...</td>\n",
              "      <td>...</td>\n",
              "      <td>...</td>\n",
              "      <td>...</td>\n",
              "      <td>...</td>\n",
              "    </tr>\n",
              "    <tr>\n",
              "      <th>9713</th>\n",
              "      <td>NFLX</td>\n",
              "      <td>2020-07-16</td>\n",
              "      <td>530</td>\n",
              "      <td>530</td>\n",
              "      <td>530</td>\n",
              "      <td>-0.379898</td>\n",
              "      <td>0</td>\n",
              "      <td>0.362264</td>\n",
              "    </tr>\n",
              "    <tr>\n",
              "      <th>9714</th>\n",
              "      <td>NFLX</td>\n",
              "      <td>2020-07-17</td>\n",
              "      <td>226</td>\n",
              "      <td>226</td>\n",
              "      <td>226</td>\n",
              "      <td>2.712925</td>\n",
              "      <td>1</td>\n",
              "      <td>0.442478</td>\n",
              "    </tr>\n",
              "    <tr>\n",
              "      <th>9715</th>\n",
              "      <td>NFLX</td>\n",
              "      <td>2020-07-20</td>\n",
              "      <td>56</td>\n",
              "      <td>56</td>\n",
              "      <td>56</td>\n",
              "      <td>-3.142292</td>\n",
              "      <td>0</td>\n",
              "      <td>0.464286</td>\n",
              "    </tr>\n",
              "    <tr>\n",
              "      <th>9716</th>\n",
              "      <td>NFLX</td>\n",
              "      <td>2020-07-21</td>\n",
              "      <td>41</td>\n",
              "      <td>41</td>\n",
              "      <td>41</td>\n",
              "      <td>-0.481521</td>\n",
              "      <td>0</td>\n",
              "      <td>0.512195</td>\n",
              "    </tr>\n",
              "    <tr>\n",
              "      <th>9717</th>\n",
              "      <td>NFLX</td>\n",
              "      <td>2020-07-22</td>\n",
              "      <td>3</td>\n",
              "      <td>3</td>\n",
              "      <td>3</td>\n",
              "      <td>-2.758944</td>\n",
              "      <td>0</td>\n",
              "      <td>0.666667</td>\n",
              "    </tr>\n",
              "  </tbody>\n",
              "</table>\n",
              "<p>9718 rows × 8 columns</p>\n",
              "</div>"
            ],
            "text/plain": [
              "     Symbol       Date   count                 mean                \n",
              "                       %_today label pred   %_today label      pred\n",
              "0      AAPL 2009-07-30       1     1    1  0.246582     1  1.000000\n",
              "1      AAPL 2009-08-24       1     1    1 -0.035348     0  0.000000\n",
              "2      AAPL 2009-09-03       1     1    1  1.813951     1  0.000000\n",
              "3      AAPL 2009-09-04       2     2    2 -0.028905     0  0.500000\n",
              "4      AAPL 2009-09-08       1     1    1 -0.949184     0  0.000000\n",
              "...     ...        ...     ...   ...  ...       ...   ...       ...\n",
              "9713   NFLX 2020-07-16     530   530  530 -0.379898     0  0.362264\n",
              "9714   NFLX 2020-07-17     226   226  226  2.712925     1  0.442478\n",
              "9715   NFLX 2020-07-20      56    56   56 -3.142292     0  0.464286\n",
              "9716   NFLX 2020-07-21      41    41   41 -0.481521     0  0.512195\n",
              "9717   NFLX 2020-07-22       3     3    3 -2.758944     0  0.666667\n",
              "\n",
              "[9718 rows x 8 columns]"
            ]
          },
          "metadata": {
            "tags": []
          },
          "execution_count": 56
        }
      ]
    },
    {
      "cell_type": "code",
      "metadata": {
        "colab": {
          "base_uri": "https://localhost:8080/",
          "height": 419
        },
        "id": "_oZDl4UyGIyH",
        "outputId": "2a769d8a-aa29-4e73-a8e0-d9cbdde083cc"
      },
      "source": [
        "train_df = pd.DataFrame({'label': y_train, 'pred': pred_train, '%_today': pr_train, \\\r\n",
        "                         'Symbol': s_train, 'Date': date_train})\r\n",
        "train_df['sign'] = 'train'\r\n",
        "test_df = pd.DataFrame({'label': y_test, 'pred': pred, '%_today': pr_test, \\\r\n",
        "                         'Symbol': s_test, 'Date': date_test})\r\n",
        "test_df['sign'] = 'test'\r\n",
        "all_df = test_df.append(train_df)\r\n",
        "# all_df['proba_55'] = np.where(all_df['proba_1'] > 0.525, 1, np.where(all_df['proba_1'] < 0.475, -1, 0))\r\n",
        "all_df"
      ],
      "execution_count": 35,
      "outputs": [
        {
          "output_type": "execute_result",
          "data": {
            "text/html": [
              "<div>\n",
              "<style scoped>\n",
              "    .dataframe tbody tr th:only-of-type {\n",
              "        vertical-align: middle;\n",
              "    }\n",
              "\n",
              "    .dataframe tbody tr th {\n",
              "        vertical-align: top;\n",
              "    }\n",
              "\n",
              "    .dataframe thead th {\n",
              "        text-align: right;\n",
              "    }\n",
              "</style>\n",
              "<table border=\"1\" class=\"dataframe\">\n",
              "  <thead>\n",
              "    <tr style=\"text-align: right;\">\n",
              "      <th></th>\n",
              "      <th>label</th>\n",
              "      <th>pred</th>\n",
              "      <th>%_today</th>\n",
              "      <th>Symbol</th>\n",
              "      <th>Date</th>\n",
              "      <th>sign</th>\n",
              "    </tr>\n",
              "  </thead>\n",
              "  <tbody>\n",
              "    <tr>\n",
              "      <th>408700</th>\n",
              "      <td>0</td>\n",
              "      <td>0</td>\n",
              "      <td>-1.292901</td>\n",
              "      <td>AAPL</td>\n",
              "      <td>2018-01-26</td>\n",
              "      <td>test</td>\n",
              "    </tr>\n",
              "    <tr>\n",
              "      <th>2095222</th>\n",
              "      <td>0</td>\n",
              "      <td>1</td>\n",
              "      <td>-2.459698</td>\n",
              "      <td>NFLX</td>\n",
              "      <td>2020-04-20</td>\n",
              "      <td>test</td>\n",
              "    </tr>\n",
              "    <tr>\n",
              "      <th>2255034</th>\n",
              "      <td>0</td>\n",
              "      <td>0</td>\n",
              "      <td>-1.107839</td>\n",
              "      <td>NFLX</td>\n",
              "      <td>2019-07-15</td>\n",
              "      <td>test</td>\n",
              "    </tr>\n",
              "    <tr>\n",
              "      <th>897617</th>\n",
              "      <td>0</td>\n",
              "      <td>1</td>\n",
              "      <td>-0.912662</td>\n",
              "      <td>AAPL</td>\n",
              "      <td>2018-12-14</td>\n",
              "      <td>test</td>\n",
              "    </tr>\n",
              "    <tr>\n",
              "      <th>250739</th>\n",
              "      <td>0</td>\n",
              "      <td>0</td>\n",
              "      <td>-0.342418</td>\n",
              "      <td>AAPL</td>\n",
              "      <td>2019-08-21</td>\n",
              "      <td>test</td>\n",
              "    </tr>\n",
              "    <tr>\n",
              "      <th>...</th>\n",
              "      <td>...</td>\n",
              "      <td>...</td>\n",
              "      <td>...</td>\n",
              "      <td>...</td>\n",
              "      <td>...</td>\n",
              "      <td>...</td>\n",
              "    </tr>\n",
              "    <tr>\n",
              "      <th>110268</th>\n",
              "      <td>0</td>\n",
              "      <td>0</td>\n",
              "      <td>-0.006958</td>\n",
              "      <td>AAPL</td>\n",
              "      <td>2017-03-31</td>\n",
              "      <td>train</td>\n",
              "    </tr>\n",
              "    <tr>\n",
              "      <th>1692743</th>\n",
              "      <td>0</td>\n",
              "      <td>0</td>\n",
              "      <td>-1.546132</td>\n",
              "      <td>GOOGL</td>\n",
              "      <td>2019-07-18</td>\n",
              "      <td>train</td>\n",
              "    </tr>\n",
              "    <tr>\n",
              "      <th>2356330</th>\n",
              "      <td>0</td>\n",
              "      <td>1</td>\n",
              "      <td>-1.491283</td>\n",
              "      <td>NFLX</td>\n",
              "      <td>2016-06-17</td>\n",
              "      <td>train</td>\n",
              "    </tr>\n",
              "    <tr>\n",
              "      <th>2229084</th>\n",
              "      <td>1</td>\n",
              "      <td>1</td>\n",
              "      <td>2.846639</td>\n",
              "      <td>NFLX</td>\n",
              "      <td>2016-07-01</td>\n",
              "      <td>train</td>\n",
              "    </tr>\n",
              "    <tr>\n",
              "      <th>2219110</th>\n",
              "      <td>0</td>\n",
              "      <td>0</td>\n",
              "      <td>-0.274000</td>\n",
              "      <td>NFLX</td>\n",
              "      <td>2012-11-13</td>\n",
              "      <td>train</td>\n",
              "    </tr>\n",
              "  </tbody>\n",
              "</table>\n",
              "<p>2391353 rows × 6 columns</p>\n",
              "</div>"
            ],
            "text/plain": [
              "         label  pred   %_today Symbol       Date   sign\n",
              "408700       0     0 -1.292901   AAPL 2018-01-26   test\n",
              "2095222      0     1 -2.459698   NFLX 2020-04-20   test\n",
              "2255034      0     0 -1.107839   NFLX 2019-07-15   test\n",
              "897617       0     1 -0.912662   AAPL 2018-12-14   test\n",
              "250739       0     0 -0.342418   AAPL 2019-08-21   test\n",
              "...        ...   ...       ...    ...        ...    ...\n",
              "110268       0     0 -0.006958   AAPL 2017-03-31  train\n",
              "1692743      0     0 -1.546132  GOOGL 2019-07-18  train\n",
              "2356330      0     1 -1.491283   NFLX 2016-06-17  train\n",
              "2229084      1     1  2.846639   NFLX 2016-07-01  train\n",
              "2219110      0     0 -0.274000   NFLX 2012-11-13  train\n",
              "\n",
              "[2391353 rows x 6 columns]"
            ]
          },
          "metadata": {
            "tags": []
          },
          "execution_count": 35
        }
      ]
    },
    {
      "cell_type": "code",
      "metadata": {
        "colab": {
          "base_uri": "https://localhost:8080/",
          "height": 235
        },
        "id": "9CUG5gLUH_V5",
        "outputId": "cf68a9f3-8333-445e-d17a-1e97abb119d0"
      },
      "source": [
        "pd.pivot_table(all_df,\r\n",
        "               index= ['sign', 'pred'],\r\n",
        "               values = ['%_today'],\r\n",
        "               aggfunc=['count', 'mean']\r\n",
        "               )"
      ],
      "execution_count": 36,
      "outputs": [
        {
          "output_type": "execute_result",
          "data": {
            "text/html": [
              "<div>\n",
              "<style scoped>\n",
              "    .dataframe tbody tr th:only-of-type {\n",
              "        vertical-align: middle;\n",
              "    }\n",
              "\n",
              "    .dataframe tbody tr th {\n",
              "        vertical-align: top;\n",
              "    }\n",
              "\n",
              "    .dataframe thead tr th {\n",
              "        text-align: left;\n",
              "    }\n",
              "\n",
              "    .dataframe thead tr:last-of-type th {\n",
              "        text-align: right;\n",
              "    }\n",
              "</style>\n",
              "<table border=\"1\" class=\"dataframe\">\n",
              "  <thead>\n",
              "    <tr>\n",
              "      <th></th>\n",
              "      <th></th>\n",
              "      <th>count</th>\n",
              "      <th>mean</th>\n",
              "    </tr>\n",
              "    <tr>\n",
              "      <th></th>\n",
              "      <th></th>\n",
              "      <th>%_today</th>\n",
              "      <th>%_today</th>\n",
              "    </tr>\n",
              "    <tr>\n",
              "      <th>sign</th>\n",
              "      <th>pred</th>\n",
              "      <th></th>\n",
              "      <th></th>\n",
              "    </tr>\n",
              "  </thead>\n",
              "  <tbody>\n",
              "    <tr>\n",
              "      <th rowspan=\"2\" valign=\"top\">test</th>\n",
              "      <th>0</th>\n",
              "      <td>120623</td>\n",
              "      <td>-0.137406</td>\n",
              "    </tr>\n",
              "    <tr>\n",
              "      <th>1</th>\n",
              "      <td>118513</td>\n",
              "      <td>0.172712</td>\n",
              "    </tr>\n",
              "    <tr>\n",
              "      <th rowspan=\"2\" valign=\"top\">train</th>\n",
              "      <th>0</th>\n",
              "      <td>1084354</td>\n",
              "      <td>-1.010358</td>\n",
              "    </tr>\n",
              "    <tr>\n",
              "      <th>1</th>\n",
              "      <td>1067863</td>\n",
              "      <td>1.055086</td>\n",
              "    </tr>\n",
              "  </tbody>\n",
              "</table>\n",
              "</div>"
            ],
            "text/plain": [
              "              count      mean\n",
              "            %_today   %_today\n",
              "sign  pred                   \n",
              "test  0      120623 -0.137406\n",
              "      1      118513  0.172712\n",
              "train 0     1084354 -1.010358\n",
              "      1     1067863  1.055086"
            ]
          },
          "metadata": {
            "tags": []
          },
          "execution_count": 36
        }
      ]
    },
    {
      "cell_type": "code",
      "metadata": {
        "id": "bP8jVYxChnSG"
      },
      "source": [
        "# train_df = pd.DataFrame({'label': y_train, 'pred': pred_train, '250_%': pr_train, 'proba_1':pd.DataFrame(pred_proba_tr, index=pr_train.index)[1], \\\r\n",
        "#                          'Symbol': s_train, 'Industry': indust_train})\r\n",
        "# train_df['sign'] = 'train'\r\n",
        "# test_df = pd.DataFrame({'label': y_test, 'pred': pred, '250_%': pr_test, 'proba_1':pd.DataFrame(pred_proba_te, index = y_test.index)[1], \\\r\n",
        "#                          'Symbol': s_test, 'Industry': indust_test})\r\n",
        "# test_df['sign'] = 'test'\r\n",
        "# all_df = test_df.append(train_df)\r\n",
        "# all_df['proba_55'] = np.where(all_df['proba_1'] > 0.525, 1, np.where(all_df['proba_1'] < 0.475, -1, 0))\r\n",
        "# all_df"
      ],
      "execution_count": null,
      "outputs": []
    },
    {
      "cell_type": "markdown",
      "metadata": {
        "id": "Qe87T1JjxlH-"
      },
      "source": [
        "##### Разбивка в цикле по годам"
      ]
    },
    {
      "cell_type": "code",
      "metadata": {
        "colab": {
          "base_uri": "https://localhost:8080/"
        },
        "id": "K0L3U30e6cxU",
        "outputId": "baf598bb-9960-4a6d-8e3e-362a771b9b60"
      },
      "source": [
        "%%time\r\n",
        "# All in sycles\r\n",
        "Pred_all = pd.DataFrame()\r\n",
        "for year in list(range(2012,2020)):\r\n",
        "\r\n",
        "  Train = result_byes.loc[result['Year'] < year]\r\n",
        "  Test  = result_byes.loc[result['Year'] == year]\r\n",
        "  \r\n",
        "  text_pipe.fit(Train['message'], Train['label'])\r\n",
        "\r\n",
        "  # pred_proba_te = text_pipe.predict_proba(x_test)\r\n",
        "  pred_proba = pd.DataFrame(text_pipe.predict_proba(Test['message']))[1]\r\n",
        "  pred                    = text_pipe.predict(Test['message'])\r\n",
        "  # pred_train= text_pipe.predict(x_train)\r\n",
        "\r\n",
        "  Test['Forecast'] = pred\r\n",
        "  Test['proba_1']  = np.array(pred_proba)\r\n",
        "\r\n",
        "  Pred_all = Pred_all.append(Test)\r\n"
      ],
      "execution_count": null,
      "outputs": [
        {
          "output_type": "stream",
          "text": [
            "CPU times: user 5min, sys: 632 ms, total: 5min\n",
            "Wall time: 5min\n"
          ],
          "name": "stdout"
        }
      ]
    },
    {
      "cell_type": "code",
      "metadata": {
        "colab": {
          "base_uri": "https://localhost:8080/",
          "height": 793
        },
        "id": "I7a82akwf-qY",
        "outputId": "34b6675c-df2b-40c9-99d0-e60405320669"
      },
      "source": [
        "Pred_all['proba_55'] = np.where(Pred_all['proba_1'] > 0.60, 1, np.where(Pred_all['proba_1'] < 0.4, -1, 0))\r\n",
        "\r\n",
        "pd.pivot_table(Pred_all[Pred_all['proba_55'] != 100],\r\n",
        "               index = [\r\n",
        "                        # 'Year', \r\n",
        "                        'Industry',\r\n",
        "                        'Forecast', \r\n",
        "                        # 'proba_55'\r\n",
        "                        ],\r\n",
        "               values = '250_%',\r\n",
        "               aggfunc=['count', 'mean']\r\n",
        "\r\n",
        "               )"
      ],
      "execution_count": null,
      "outputs": [
        {
          "output_type": "execute_result",
          "data": {
            "text/html": [
              "<div>\n",
              "<style scoped>\n",
              "    .dataframe tbody tr th:only-of-type {\n",
              "        vertical-align: middle;\n",
              "    }\n",
              "\n",
              "    .dataframe tbody tr th {\n",
              "        vertical-align: top;\n",
              "    }\n",
              "\n",
              "    .dataframe thead tr th {\n",
              "        text-align: left;\n",
              "    }\n",
              "\n",
              "    .dataframe thead tr:last-of-type th {\n",
              "        text-align: right;\n",
              "    }\n",
              "</style>\n",
              "<table border=\"1\" class=\"dataframe\">\n",
              "  <thead>\n",
              "    <tr>\n",
              "      <th></th>\n",
              "      <th></th>\n",
              "      <th>count</th>\n",
              "      <th>mean</th>\n",
              "    </tr>\n",
              "    <tr>\n",
              "      <th></th>\n",
              "      <th></th>\n",
              "      <th>250_%</th>\n",
              "      <th>250_%</th>\n",
              "    </tr>\n",
              "    <tr>\n",
              "      <th>Industry</th>\n",
              "      <th>Forecast</th>\n",
              "      <th></th>\n",
              "      <th></th>\n",
              "    </tr>\n",
              "  </thead>\n",
              "  <tbody>\n",
              "    <tr>\n",
              "      <th rowspan=\"2\" valign=\"top\">Communication Services</th>\n",
              "      <th>0</th>\n",
              "      <td>34</td>\n",
              "      <td>20.196494</td>\n",
              "    </tr>\n",
              "    <tr>\n",
              "      <th>1</th>\n",
              "      <td>52</td>\n",
              "      <td>23.719007</td>\n",
              "    </tr>\n",
              "    <tr>\n",
              "      <th rowspan=\"2\" valign=\"top\">Consumer Discretionary</th>\n",
              "      <th>0</th>\n",
              "      <td>136</td>\n",
              "      <td>17.531416</td>\n",
              "    </tr>\n",
              "    <tr>\n",
              "      <th>1</th>\n",
              "      <td>144</td>\n",
              "      <td>14.673101</td>\n",
              "    </tr>\n",
              "    <tr>\n",
              "      <th rowspan=\"2\" valign=\"top\">Consumer Staples</th>\n",
              "      <th>0</th>\n",
              "      <td>88</td>\n",
              "      <td>10.649886</td>\n",
              "    </tr>\n",
              "    <tr>\n",
              "      <th>1</th>\n",
              "      <td>33</td>\n",
              "      <td>16.251092</td>\n",
              "    </tr>\n",
              "    <tr>\n",
              "      <th rowspan=\"2\" valign=\"top\">Energy</th>\n",
              "      <th>0</th>\n",
              "      <td>107</td>\n",
              "      <td>10.080509</td>\n",
              "    </tr>\n",
              "    <tr>\n",
              "      <th>1</th>\n",
              "      <td>4</td>\n",
              "      <td>25.899257</td>\n",
              "    </tr>\n",
              "    <tr>\n",
              "      <th rowspan=\"2\" valign=\"top\">Financials</th>\n",
              "      <th>0</th>\n",
              "      <td>98</td>\n",
              "      <td>17.329724</td>\n",
              "    </tr>\n",
              "    <tr>\n",
              "      <th>1</th>\n",
              "      <td>50</td>\n",
              "      <td>15.538070</td>\n",
              "    </tr>\n",
              "    <tr>\n",
              "      <th rowspan=\"2\" valign=\"top\">Health Care</th>\n",
              "      <th>0</th>\n",
              "      <td>138</td>\n",
              "      <td>18.935527</td>\n",
              "    </tr>\n",
              "    <tr>\n",
              "      <th>1</th>\n",
              "      <td>160</td>\n",
              "      <td>19.724157</td>\n",
              "    </tr>\n",
              "    <tr>\n",
              "      <th rowspan=\"2\" valign=\"top\">Industrials</th>\n",
              "      <th>0</th>\n",
              "      <td>223</td>\n",
              "      <td>20.759493</td>\n",
              "    </tr>\n",
              "    <tr>\n",
              "      <th>1</th>\n",
              "      <td>92</td>\n",
              "      <td>17.239437</td>\n",
              "    </tr>\n",
              "    <tr>\n",
              "      <th rowspan=\"2\" valign=\"top\">Information Technology</th>\n",
              "      <th>0</th>\n",
              "      <td>231</td>\n",
              "      <td>22.795013</td>\n",
              "    </tr>\n",
              "    <tr>\n",
              "      <th>1</th>\n",
              "      <td>142</td>\n",
              "      <td>24.862590</td>\n",
              "    </tr>\n",
              "    <tr>\n",
              "      <th rowspan=\"2\" valign=\"top\">Materials</th>\n",
              "      <th>0</th>\n",
              "      <td>68</td>\n",
              "      <td>12.934549</td>\n",
              "    </tr>\n",
              "    <tr>\n",
              "      <th>1</th>\n",
              "      <td>14</td>\n",
              "      <td>18.659048</td>\n",
              "    </tr>\n",
              "    <tr>\n",
              "      <th rowspan=\"2\" valign=\"top\">Real Estate</th>\n",
              "      <th>0</th>\n",
              "      <td>115</td>\n",
              "      <td>15.162821</td>\n",
              "    </tr>\n",
              "    <tr>\n",
              "      <th>1</th>\n",
              "      <td>24</td>\n",
              "      <td>10.695681</td>\n",
              "    </tr>\n",
              "    <tr>\n",
              "      <th rowspan=\"2\" valign=\"top\">Utilities</th>\n",
              "      <th>0</th>\n",
              "      <td>69</td>\n",
              "      <td>15.082919</td>\n",
              "    </tr>\n",
              "    <tr>\n",
              "      <th>1</th>\n",
              "      <td>25</td>\n",
              "      <td>17.043065</td>\n",
              "    </tr>\n",
              "  </tbody>\n",
              "</table>\n",
              "</div>"
            ],
            "text/plain": [
              "                                count       mean\n",
              "                                250_%      250_%\n",
              "Industry               Forecast                 \n",
              "Communication Services 0           34  20.196494\n",
              "                       1           52  23.719007\n",
              "Consumer Discretionary 0          136  17.531416\n",
              "                       1          144  14.673101\n",
              "Consumer Staples       0           88  10.649886\n",
              "                       1           33  16.251092\n",
              "Energy                 0          107  10.080509\n",
              "                       1            4  25.899257\n",
              "Financials             0           98  17.329724\n",
              "                       1           50  15.538070\n",
              "Health Care            0          138  18.935527\n",
              "                       1          160  19.724157\n",
              "Industrials            0          223  20.759493\n",
              "                       1           92  17.239437\n",
              "Information Technology 0          231  22.795013\n",
              "                       1          142  24.862590\n",
              "Materials              0           68  12.934549\n",
              "                       1           14  18.659048\n",
              "Real Estate            0          115  15.162821\n",
              "                       1           24  10.695681\n",
              "Utilities              0           69  15.082919\n",
              "                       1           25  17.043065"
            ]
          },
          "metadata": {
            "tags": []
          },
          "execution_count": 213
        }
      ]
    },
    {
      "cell_type": "code",
      "metadata": {
        "colab": {
          "base_uri": "https://localhost:8080/",
          "height": 607
        },
        "id": "00l0jxMafbS-",
        "outputId": "3b9cafd9-fa30-44f5-a7db-1369cff5d627"
      },
      "source": [
        ""
      ],
      "execution_count": null,
      "outputs": [
        {
          "output_type": "execute_result",
          "data": {
            "text/html": [
              "<div>\n",
              "<style scoped>\n",
              "    .dataframe tbody tr th:only-of-type {\n",
              "        vertical-align: middle;\n",
              "    }\n",
              "\n",
              "    .dataframe tbody tr th {\n",
              "        vertical-align: top;\n",
              "    }\n",
              "\n",
              "    .dataframe thead tr th {\n",
              "        text-align: left;\n",
              "    }\n",
              "\n",
              "    .dataframe thead tr:last-of-type th {\n",
              "        text-align: right;\n",
              "    }\n",
              "</style>\n",
              "<table border=\"1\" class=\"dataframe\">\n",
              "  <thead>\n",
              "    <tr>\n",
              "      <th></th>\n",
              "      <th></th>\n",
              "      <th>count</th>\n",
              "      <th>mean</th>\n",
              "    </tr>\n",
              "    <tr>\n",
              "      <th></th>\n",
              "      <th></th>\n",
              "      <th>250_%</th>\n",
              "      <th>250_%</th>\n",
              "    </tr>\n",
              "    <tr>\n",
              "      <th>Year</th>\n",
              "      <th>Forecast</th>\n",
              "      <th></th>\n",
              "      <th></th>\n",
              "    </tr>\n",
              "  </thead>\n",
              "  <tbody>\n",
              "    <tr>\n",
              "      <th rowspan=\"2\" valign=\"top\">2012</th>\n",
              "      <th>0</th>\n",
              "      <td>125</td>\n",
              "      <td>23.127761</td>\n",
              "    </tr>\n",
              "    <tr>\n",
              "      <th>1</th>\n",
              "      <td>78</td>\n",
              "      <td>21.776567</td>\n",
              "    </tr>\n",
              "    <tr>\n",
              "      <th rowspan=\"2\" valign=\"top\">2013</th>\n",
              "      <th>0</th>\n",
              "      <td>136</td>\n",
              "      <td>31.935673</td>\n",
              "    </tr>\n",
              "    <tr>\n",
              "      <th>1</th>\n",
              "      <td>97</td>\n",
              "      <td>31.382158</td>\n",
              "    </tr>\n",
              "    <tr>\n",
              "      <th rowspan=\"2\" valign=\"top\">2014</th>\n",
              "      <th>0</th>\n",
              "      <td>149</td>\n",
              "      <td>20.520784</td>\n",
              "    </tr>\n",
              "    <tr>\n",
              "      <th>1</th>\n",
              "      <td>100</td>\n",
              "      <td>16.046740</td>\n",
              "    </tr>\n",
              "    <tr>\n",
              "      <th rowspan=\"2\" valign=\"top\">2015</th>\n",
              "      <th>0</th>\n",
              "      <td>165</td>\n",
              "      <td>-2.875285</td>\n",
              "    </tr>\n",
              "    <tr>\n",
              "      <th>1</th>\n",
              "      <td>98</td>\n",
              "      <td>-2.097718</td>\n",
              "    </tr>\n",
              "    <tr>\n",
              "      <th rowspan=\"2\" valign=\"top\">2016</th>\n",
              "      <th>0</th>\n",
              "      <td>156</td>\n",
              "      <td>32.538365</td>\n",
              "    </tr>\n",
              "    <tr>\n",
              "      <th>1</th>\n",
              "      <td>120</td>\n",
              "      <td>25.989495</td>\n",
              "    </tr>\n",
              "    <tr>\n",
              "      <th rowspan=\"2\" valign=\"top\">2017</th>\n",
              "      <th>0</th>\n",
              "      <td>164</td>\n",
              "      <td>19.740595</td>\n",
              "    </tr>\n",
              "    <tr>\n",
              "      <th>1</th>\n",
              "      <td>119</td>\n",
              "      <td>22.008771</td>\n",
              "    </tr>\n",
              "    <tr>\n",
              "      <th rowspan=\"2\" valign=\"top\">2018</th>\n",
              "      <th>0</th>\n",
              "      <td>184</td>\n",
              "      <td>7.401366</td>\n",
              "    </tr>\n",
              "    <tr>\n",
              "      <th>1</th>\n",
              "      <td>115</td>\n",
              "      <td>16.048414</td>\n",
              "    </tr>\n",
              "    <tr>\n",
              "      <th rowspan=\"2\" valign=\"top\">2019</th>\n",
              "      <th>0</th>\n",
              "      <td>150</td>\n",
              "      <td>9.667895</td>\n",
              "    </tr>\n",
              "    <tr>\n",
              "      <th>1</th>\n",
              "      <td>91</td>\n",
              "      <td>24.930784</td>\n",
              "    </tr>\n",
              "  </tbody>\n",
              "</table>\n",
              "</div>"
            ],
            "text/plain": [
              "              count       mean\n",
              "              250_%      250_%\n",
              "Year Forecast                 \n",
              "2012 0          125  23.127761\n",
              "     1           78  21.776567\n",
              "2013 0          136  31.935673\n",
              "     1           97  31.382158\n",
              "2014 0          149  20.520784\n",
              "     1          100  16.046740\n",
              "2015 0          165  -2.875285\n",
              "     1           98  -2.097718\n",
              "2016 0          156  32.538365\n",
              "     1          120  25.989495\n",
              "2017 0          164  19.740595\n",
              "     1          119  22.008771\n",
              "2018 0          184   7.401366\n",
              "     1          115  16.048414\n",
              "2019 0          150   9.667895\n",
              "     1           91  24.930784"
            ]
          },
          "metadata": {
            "tags": []
          },
          "execution_count": 208
        }
      ]
    },
    {
      "cell_type": "code",
      "metadata": {
        "colab": {
          "base_uri": "https://localhost:8080/",
          "height": 793
        },
        "id": "Qoh8-IOh6otQ",
        "outputId": "2973f458-ff5a-46f0-89b4-c6058dbc7734"
      },
      "source": [
        "pd.pivot_table(all_df[all_df['sign'] == 'train'],\r\n",
        "               index = ['sign', 'Industry', 'pred' ],\r\n",
        "               values = '250_%',\r\n",
        "               aggfunc=['count', 'mean']\r\n",
        "\r\n",
        "               )"
      ],
      "execution_count": null,
      "outputs": [
        {
          "output_type": "execute_result",
          "data": {
            "text/html": [
              "<div>\n",
              "<style scoped>\n",
              "    .dataframe tbody tr th:only-of-type {\n",
              "        vertical-align: middle;\n",
              "    }\n",
              "\n",
              "    .dataframe tbody tr th {\n",
              "        vertical-align: top;\n",
              "    }\n",
              "\n",
              "    .dataframe thead tr th {\n",
              "        text-align: left;\n",
              "    }\n",
              "\n",
              "    .dataframe thead tr:last-of-type th {\n",
              "        text-align: right;\n",
              "    }\n",
              "</style>\n",
              "<table border=\"1\" class=\"dataframe\">\n",
              "  <thead>\n",
              "    <tr>\n",
              "      <th></th>\n",
              "      <th></th>\n",
              "      <th></th>\n",
              "      <th>count</th>\n",
              "      <th>mean</th>\n",
              "    </tr>\n",
              "    <tr>\n",
              "      <th></th>\n",
              "      <th></th>\n",
              "      <th></th>\n",
              "      <th>250_%</th>\n",
              "      <th>250_%</th>\n",
              "    </tr>\n",
              "    <tr>\n",
              "      <th>sign</th>\n",
              "      <th>Industry</th>\n",
              "      <th>pred</th>\n",
              "      <th></th>\n",
              "      <th></th>\n",
              "    </tr>\n",
              "  </thead>\n",
              "  <tbody>\n",
              "    <tr>\n",
              "      <th rowspan=\"22\" valign=\"top\">train</th>\n",
              "      <th rowspan=\"2\" valign=\"top\">Communication Services</th>\n",
              "      <th>0</th>\n",
              "      <td>28</td>\n",
              "      <td>1.679296</td>\n",
              "    </tr>\n",
              "    <tr>\n",
              "      <th>1</th>\n",
              "      <td>59</td>\n",
              "      <td>32.917197</td>\n",
              "    </tr>\n",
              "    <tr>\n",
              "      <th rowspan=\"2\" valign=\"top\">Consumer Discretionary</th>\n",
              "      <th>0</th>\n",
              "      <td>157</td>\n",
              "      <td>6.137659</td>\n",
              "    </tr>\n",
              "    <tr>\n",
              "      <th>1</th>\n",
              "      <td>120</td>\n",
              "      <td>31.192262</td>\n",
              "    </tr>\n",
              "    <tr>\n",
              "      <th rowspan=\"2\" valign=\"top\">Consumer Staples</th>\n",
              "      <th>0</th>\n",
              "      <td>93</td>\n",
              "      <td>7.861142</td>\n",
              "    </tr>\n",
              "    <tr>\n",
              "      <th>1</th>\n",
              "      <td>20</td>\n",
              "      <td>35.238089</td>\n",
              "    </tr>\n",
              "    <tr>\n",
              "      <th rowspan=\"2\" valign=\"top\">Energy</th>\n",
              "      <th>0</th>\n",
              "      <td>102</td>\n",
              "      <td>8.321885</td>\n",
              "    </tr>\n",
              "    <tr>\n",
              "      <th>1</th>\n",
              "      <td>2</td>\n",
              "      <td>28.513925</td>\n",
              "    </tr>\n",
              "    <tr>\n",
              "      <th rowspan=\"2\" valign=\"top\">Financials</th>\n",
              "      <th>0</th>\n",
              "      <td>89</td>\n",
              "      <td>9.496505</td>\n",
              "    </tr>\n",
              "    <tr>\n",
              "      <th>1</th>\n",
              "      <td>47</td>\n",
              "      <td>29.150229</td>\n",
              "    </tr>\n",
              "    <tr>\n",
              "      <th rowspan=\"2\" valign=\"top\">Health Care</th>\n",
              "      <th>0</th>\n",
              "      <td>87</td>\n",
              "      <td>3.267181</td>\n",
              "    </tr>\n",
              "    <tr>\n",
              "      <th>1</th>\n",
              "      <td>195</td>\n",
              "      <td>27.982509</td>\n",
              "    </tr>\n",
              "    <tr>\n",
              "      <th rowspan=\"2\" valign=\"top\">Industrials</th>\n",
              "      <th>0</th>\n",
              "      <td>169</td>\n",
              "      <td>12.664734</td>\n",
              "    </tr>\n",
              "    <tr>\n",
              "      <th>1</th>\n",
              "      <td>134</td>\n",
              "      <td>28.183837</td>\n",
              "    </tr>\n",
              "    <tr>\n",
              "      <th rowspan=\"2\" valign=\"top\">Information Technology</th>\n",
              "      <th>0</th>\n",
              "      <td>129</td>\n",
              "      <td>3.338030</td>\n",
              "    </tr>\n",
              "    <tr>\n",
              "      <th>1</th>\n",
              "      <td>229</td>\n",
              "      <td>32.968988</td>\n",
              "    </tr>\n",
              "    <tr>\n",
              "      <th rowspan=\"2\" valign=\"top\">Materials</th>\n",
              "      <th>0</th>\n",
              "      <td>65</td>\n",
              "      <td>10.796674</td>\n",
              "    </tr>\n",
              "    <tr>\n",
              "      <th>1</th>\n",
              "      <td>12</td>\n",
              "      <td>38.833266</td>\n",
              "    </tr>\n",
              "    <tr>\n",
              "      <th rowspan=\"2\" valign=\"top\">Real Estate</th>\n",
              "      <th>0</th>\n",
              "      <td>75</td>\n",
              "      <td>7.969533</td>\n",
              "    </tr>\n",
              "    <tr>\n",
              "      <th>1</th>\n",
              "      <td>60</td>\n",
              "      <td>21.761598</td>\n",
              "    </tr>\n",
              "    <tr>\n",
              "      <th rowspan=\"2\" valign=\"top\">Utilities</th>\n",
              "      <th>0</th>\n",
              "      <td>54</td>\n",
              "      <td>10.152457</td>\n",
              "    </tr>\n",
              "    <tr>\n",
              "      <th>1</th>\n",
              "      <td>39</td>\n",
              "      <td>25.711673</td>\n",
              "    </tr>\n",
              "  </tbody>\n",
              "</table>\n",
              "</div>"
            ],
            "text/plain": [
              "                                  count       mean\n",
              "                                  250_%      250_%\n",
              "sign  Industry               pred                 \n",
              "train Communication Services 0       28   1.679296\n",
              "                             1       59  32.917197\n",
              "      Consumer Discretionary 0      157   6.137659\n",
              "                             1      120  31.192262\n",
              "      Consumer Staples       0       93   7.861142\n",
              "                             1       20  35.238089\n",
              "      Energy                 0      102   8.321885\n",
              "                             1        2  28.513925\n",
              "      Financials             0       89   9.496505\n",
              "                             1       47  29.150229\n",
              "      Health Care            0       87   3.267181\n",
              "                             1      195  27.982509\n",
              "      Industrials            0      169  12.664734\n",
              "                             1      134  28.183837\n",
              "      Information Technology 0      129   3.338030\n",
              "                             1      229  32.968988\n",
              "      Materials              0       65  10.796674\n",
              "                             1       12  38.833266\n",
              "      Real Estate            0       75   7.969533\n",
              "                             1       60  21.761598\n",
              "      Utilities              0       54  10.152457\n",
              "                             1       39  25.711673"
            ]
          },
          "metadata": {
            "tags": []
          },
          "execution_count": 87
        }
      ]
    },
    {
      "cell_type": "code",
      "metadata": {
        "colab": {
          "base_uri": "https://localhost:8080/",
          "height": 235
        },
        "id": "Hre6PeBQi4sQ",
        "outputId": "d5a56e96-a8c8-4207-8dc0-0e9a46fa69b2"
      },
      "source": [
        ""
      ],
      "execution_count": null,
      "outputs": [
        {
          "output_type": "execute_result",
          "data": {
            "text/plain": [
              "           count       mean\n",
              "           250_%      250_%\n",
              "sign  pred                 \n",
              "test  0       94  12.531752\n",
              "      1      123  23.839261\n",
              "train 0      748   9.096155\n",
              "      1     1201  23.161663"
            ],
            "text/html": [
              "<div>\n",
              "<style scoped>\n",
              "    .dataframe tbody tr th:only-of-type {\n",
              "        vertical-align: middle;\n",
              "    }\n",
              "\n",
              "    .dataframe tbody tr th {\n",
              "        vertical-align: top;\n",
              "    }\n",
              "\n",
              "    .dataframe thead tr th {\n",
              "        text-align: left;\n",
              "    }\n",
              "\n",
              "    .dataframe thead tr:last-of-type th {\n",
              "        text-align: right;\n",
              "    }\n",
              "</style>\n",
              "<table border=\"1\" class=\"dataframe\">\n",
              "  <thead>\n",
              "    <tr>\n",
              "      <th></th>\n",
              "      <th></th>\n",
              "      <th>count</th>\n",
              "      <th>mean</th>\n",
              "    </tr>\n",
              "    <tr>\n",
              "      <th></th>\n",
              "      <th></th>\n",
              "      <th>250_%</th>\n",
              "      <th>250_%</th>\n",
              "    </tr>\n",
              "    <tr>\n",
              "      <th>sign</th>\n",
              "      <th>pred</th>\n",
              "      <th></th>\n",
              "      <th></th>\n",
              "    </tr>\n",
              "  </thead>\n",
              "  <tbody>\n",
              "    <tr>\n",
              "      <th rowspan=\"2\" valign=\"top\">test</th>\n",
              "      <th>0</th>\n",
              "      <td>94</td>\n",
              "      <td>12.531752</td>\n",
              "    </tr>\n",
              "    <tr>\n",
              "      <th>1</th>\n",
              "      <td>123</td>\n",
              "      <td>23.839261</td>\n",
              "    </tr>\n",
              "    <tr>\n",
              "      <th rowspan=\"2\" valign=\"top\">train</th>\n",
              "      <th>0</th>\n",
              "      <td>748</td>\n",
              "      <td>9.096155</td>\n",
              "    </tr>\n",
              "    <tr>\n",
              "      <th>1</th>\n",
              "      <td>1201</td>\n",
              "      <td>23.161663</td>\n",
              "    </tr>\n",
              "  </tbody>\n",
              "</table>\n",
              "</div>"
            ]
          },
          "metadata": {
            "tags": []
          },
          "execution_count": 150
        }
      ]
    },
    {
      "cell_type": "code",
      "metadata": {
        "colab": {
          "base_uri": "https://localhost:8080/",
          "height": 594
        },
        "id": "hRl5W5dweb6E",
        "outputId": "ec1eb438-8238-42d8-b253-6f5a44fa1d8c"
      },
      "source": [
        ""
      ],
      "execution_count": null,
      "outputs": [
        {
          "output_type": "display_data",
          "data": {
            "text/plain": [
              "<Figure size 900x600 with 1 Axes>"
            ],
            "image/png": "[encoded data removed]"
          },
          "metadata": {
            "tags": [],
            "needs_background": "light"
          }
        }
      ]
    },
    {
      "cell_type": "markdown",
      "metadata": {
        "id": "_Jxc_KURzsKp"
      },
      "source": [
        "# -Lexicon Loughran and McDonald"
      ]
    },
    {
      "cell_type": "markdown",
      "metadata": {
        "id": "L-KlSQdxvmJd"
      },
      "source": [
        "#### Load sentiment data"
      ]
    },
    {
      "cell_type": "code",
      "metadata": {
        "colab": {
          "base_uri": "https://localhost:8080/",
          "height": 297
        },
        "id": "GHitcCCez9e7",
        "outputId": "e956127a-cac7-45be-f837-7e91a6b4277d"
      },
      "source": [
        "sentiment_df = pd.read_csv(lmdict_dir + 'LoughranMcDonald_SentimentWordLists_2018.csv', sep = ';')\r\n",
        "# sentiment_df = pd.read_excel(lmdict_dir + 'LoughranMcDonald_SentimentWordLists_2018.xlsx')\r\n",
        "\r\n",
        "sentiment_df['word'] = sentiment_df['word'].str.lower()\r\n",
        "sentiments = sentiment_df['sentiment'].unique()\r\n",
        "sentiment_df.groupby(by=['sentiment']).count()\r\n"
      ],
      "execution_count": null,
      "outputs": [
        {
          "output_type": "execute_result",
          "data": {
            "text/html": [
              "<div>\n",
              "<style scoped>\n",
              "    .dataframe tbody tr th:only-of-type {\n",
              "        vertical-align: middle;\n",
              "    }\n",
              "\n",
              "    .dataframe tbody tr th {\n",
              "        vertical-align: top;\n",
              "    }\n",
              "\n",
              "    .dataframe thead th {\n",
              "        text-align: right;\n",
              "    }\n",
              "</style>\n",
              "<table border=\"1\" class=\"dataframe\">\n",
              "  <thead>\n",
              "    <tr style=\"text-align: right;\">\n",
              "      <th></th>\n",
              "      <th>word</th>\n",
              "    </tr>\n",
              "    <tr>\n",
              "      <th>sentiment</th>\n",
              "      <th></th>\n",
              "    </tr>\n",
              "  </thead>\n",
              "  <tbody>\n",
              "    <tr>\n",
              "      <th>Constraining</th>\n",
              "      <td>184</td>\n",
              "    </tr>\n",
              "    <tr>\n",
              "      <th>Litigious</th>\n",
              "      <td>904</td>\n",
              "    </tr>\n",
              "    <tr>\n",
              "      <th>Negative</th>\n",
              "      <td>2353</td>\n",
              "    </tr>\n",
              "    <tr>\n",
              "      <th>Positive</th>\n",
              "      <td>352</td>\n",
              "    </tr>\n",
              "    <tr>\n",
              "      <th>StrongModal</th>\n",
              "      <td>19</td>\n",
              "    </tr>\n",
              "    <tr>\n",
              "      <th>Uncertainty</th>\n",
              "      <td>297</td>\n",
              "    </tr>\n",
              "    <tr>\n",
              "      <th>WeakModal</th>\n",
              "      <td>27</td>\n",
              "    </tr>\n",
              "  </tbody>\n",
              "</table>\n",
              "</div>"
            ],
            "text/plain": [
              "              word\n",
              "sentiment         \n",
              "Constraining   184\n",
              "Litigious      904\n",
              "Negative      2353\n",
              "Positive       352\n",
              "StrongModal     19\n",
              "Uncertainty    297\n",
              "WeakModal       27"
            ]
          },
          "metadata": {
            "tags": []
          },
          "execution_count": 13
        }
      ]
    },
    {
      "cell_type": "markdown",
      "metadata": {
        "id": "sfdNiwEOvf7M"
      },
      "source": [
        "#### Создали словарь sentiment_dict"
      ]
    },
    {
      "cell_type": "code",
      "metadata": {
        "id": "CRTgOxHbz9k4"
      },
      "source": [
        "sentiment_dict = { sentiment: sentiment_df.loc[sentiment_df['sentiment']==sentiment]['word'].values.tolist() for sentiment in sentiments}"
      ],
      "execution_count": null,
      "outputs": []
    },
    {
      "cell_type": "code",
      "metadata": {
        "id": "scsmtmlwxT7K"
      },
      "source": [
        "document.keys()\r\n",
        "document['MMM'].keys()\r\n",
        "document['MMM']['2019-02-07'].keys()\r\n",
        "nltk.sent_tokenize(document['MMM']['2019-02-07']['item_7_raw'])"
      ],
      "execution_count": null,
      "outputs": []
    },
    {
      "cell_type": "markdown",
      "metadata": {
        "id": "m9P_wHh1wLra"
      },
      "source": [
        "#### Тот самый McDonald"
      ]
    },
    {
      "cell_type": "code",
      "metadata": {
        "colab": {
          "base_uri": "https://localhost:8080/"
        },
        "id": "BkL47K6t0DFS",
        "outputId": "740f272c-e198-49a9-b391-d77d3bf9ddd3"
      },
      "source": [
        "%%time\r\n",
        "\r\n",
        "l_all = []\r\n",
        "p_all = []\r\n",
        "\r\n",
        "# for i in tqdm(document.keys()):\r\n",
        "  # display(i)\r\n",
        "  # for ii in document[i].keys():\r\n",
        "for i in tqdm(list(document.keys())[:]):\r\n",
        "  for ii in list(document[i].keys())[:]:\r\n",
        "\r\n",
        "      if 'item_7_raw' in document[i][ii].keys() and (len(document[i][ii]['item_7_raw']) > 20000 and len(document[i][ii]['item_7_raw']) < 200000):\r\n",
        "        document[i][ii]['McDonald'] = {}\r\n",
        "      \r\n",
        "      # display(len(document[i][ii].keys()), (document[i][ii].keys()), len(document[i][ii]['item_7_raw']))\r\n",
        "        text = (document[i][ii]['item_7_raw'])\r\n",
        "        sentences = nltk.sent_tokenize(text)\r\n",
        "        \r\n",
        "        tone_lmdict = [tone_count_with_negation_check(sentiment_dict, x.lower()) for x in (sentences)]\r\n",
        "        tone_lmdict_df = pd.DataFrame(tone_lmdict, columns=columns)\r\n",
        "        document[i][ii]['McDonald'] = tone_lmdict_df.mean()\r\n"
      ],
      "execution_count": null,
      "outputs": [
        {
          "output_type": "stream",
          "text": [
            "100%|██████████| 505/505 [17:24<00:00,  2.07s/it]"
          ],
          "name": "stderr"
        },
        {
          "output_type": "stream",
          "text": [
            "CPU times: user 17min 24s, sys: 427 ms, total: 17min 24s\n",
            "Wall time: 17min 25s\n"
          ],
          "name": "stdout"
        },
        {
          "output_type": "stream",
          "text": [
            "\n"
          ],
          "name": "stderr"
        }
      ]
    },
    {
      "cell_type": "code",
      "metadata": {
        "id": "E2LGczyd3Rok"
      },
      "source": [
        "for i in tqdm(list(document.keys())[:]):\r\n",
        "  for ii in list(document[i].keys())[:]:\r\n",
        "    if 'item_7_raw' in document[i][ii].keys() and (len(document[i][ii]['item_7_raw']) > 20000 and len(document[i][ii]['item_7_raw']) < 200000):\r\n",
        "    #   display(document[i][ii]['McDonald'])\r\n",
        "      # display(document[i][ii].keys())#, len(document[i][ii]['item_7_raw']()))\r\n",
        "      display((document[i][ii]['McDonald']))\r\n",
        "      # display((document[i][ii]['affect_frequencies_7_row']['trust']))"
      ],
      "execution_count": null,
      "outputs": []
    },
    {
      "cell_type": "markdown",
      "metadata": {
        "id": "XsBJEUAG6Ml_"
      },
      "source": [
        "# -finBERT\r\n",
        " "
      ]
    },
    {
      "cell_type": "code",
      "metadata": {
        "colab": {
          "base_uri": "https://localhost:8080/",
          "height": 34
        },
        "id": "T0trBqO16Vq1",
        "outputId": "ade37c8a-3866-4ad0-a79e-d194ab557ad2"
      },
      "source": [
        "labels = {0:'neutral', 1:'positive',2:'negative'}\n",
        "num_labels= len(labels)\n",
        "vocab = \"finance-uncased\"\n",
        "#vocab_path = \"/home/root/new_bert_vocab_uncased_8000\"\n",
        "vocab_path = '/content/drive/MyDrive/Marat/analyst_tone/vocab'\n",
        "pretrained_weights_path = \"/content/drive/MyDrive/Marat/analyst_tone/pretrained_weights\" # this is pre-trained FinBERT weights\n",
        "fine_tuned_weight_path = \"/content/drive/MyDrive/Marat/analyst_tone/fine_tuned.pth\"      # this is fine-tuned FinBERT weights\n",
        "max_seq_length=256\n",
        "device = torch.device('cuda') if torch.cuda.is_available() else torch.device('cpu')\n",
        "# device='cpu'\n",
        "display(torch.cuda.is_available())"
      ],
      "execution_count": null,
      "outputs": [
        {
          "output_type": "display_data",
          "data": {
            "text/plain": [
              "True"
            ]
          },
          "metadata": {
            "tags": []
          }
        }
      ]
    },
    {
      "cell_type": "code",
      "metadata": {
        "colab": {
          "base_uri": "https://localhost:8080/",
          "height": 357
        },
        "id": "o5dkPCfk6V1y",
        "outputId": "56d5e380-e414-4a37-fc3f-e179e395cef8"
      },
      "source": [
        "model = BertClassification(weight_path= pretrained_weights_path, num_labels=num_labels, vocab=vocab)\r\n",
        "model.load_state_dict(torch.load(fine_tuned_weight_path, map_location=torch.device(device)))\r\n",
        "model.to(device)"
      ],
      "execution_count": null,
      "outputs": [
        {
          "output_type": "stream",
          "text": [
            "/usr/local/lib/python3.7/dist-packages/ipykernel_launcher.py:31: UserWarning: nn.init.xavier_normal is now deprecated in favor of nn.init.xavier_normal_.\n"
          ],
          "name": "stderr"
        },
        {
          "output_type": "error",
          "ename": "KeyboardInterrupt",
          "evalue": "ignored",
          "traceback": [
            "\u001b[0;31m---------------------------------------------------------------------------\u001b[0m",
            "\u001b[0;31mKeyboardInterrupt\u001b[0m                         Traceback (most recent call last)",
            "\u001b[0;32m<ipython-input-13-290535dd73b4>\u001b[0m in \u001b[0;36m<module>\u001b[0;34m()\u001b[0m\n\u001b[1;32m      1\u001b[0m \u001b[0mmodel\u001b[0m \u001b[0;34m=\u001b[0m \u001b[0mBertClassification\u001b[0m\u001b[0;34m(\u001b[0m\u001b[0mweight_path\u001b[0m\u001b[0;34m=\u001b[0m \u001b[0mpretrained_weights_path\u001b[0m\u001b[0;34m,\u001b[0m \u001b[0mnum_labels\u001b[0m\u001b[0;34m=\u001b[0m\u001b[0mnum_labels\u001b[0m\u001b[0;34m,\u001b[0m \u001b[0mvocab\u001b[0m\u001b[0;34m=\u001b[0m\u001b[0mvocab\u001b[0m\u001b[0;34m)\u001b[0m\u001b[0;34m\u001b[0m\u001b[0;34m\u001b[0m\u001b[0m\n\u001b[0;32m----> 2\u001b[0;31m \u001b[0mmodel\u001b[0m\u001b[0;34m.\u001b[0m\u001b[0mload_state_dict\u001b[0m\u001b[0;34m(\u001b[0m\u001b[0mtorch\u001b[0m\u001b[0;34m.\u001b[0m\u001b[0mload\u001b[0m\u001b[0;34m(\u001b[0m\u001b[0mfine_tuned_weight_path\u001b[0m\u001b[0;34m,\u001b[0m \u001b[0mmap_location\u001b[0m\u001b[0;34m=\u001b[0m\u001b[0mtorch\u001b[0m\u001b[0;34m.\u001b[0m\u001b[0mdevice\u001b[0m\u001b[0;34m(\u001b[0m\u001b[0mdevice\u001b[0m\u001b[0;34m)\u001b[0m\u001b[0;34m)\u001b[0m\u001b[0;34m)\u001b[0m\u001b[0;34m\u001b[0m\u001b[0;34m\u001b[0m\u001b[0m\n\u001b[0m\u001b[1;32m      3\u001b[0m \u001b[0mmodel\u001b[0m\u001b[0;34m.\u001b[0m\u001b[0mto\u001b[0m\u001b[0;34m(\u001b[0m\u001b[0mdevice\u001b[0m\u001b[0;34m)\u001b[0m\u001b[0;34m\u001b[0m\u001b[0;34m\u001b[0m\u001b[0m\n",
            "\u001b[0;32m/usr/local/lib/python3.7/dist-packages/torch/serialization.py\u001b[0m in \u001b[0;36mload\u001b[0;34m(f, map_location, pickle_module, **pickle_load_args)\u001b[0m\n\u001b[1;32m    593\u001b[0m                     \u001b[0;32mreturn\u001b[0m \u001b[0mtorch\u001b[0m\u001b[0;34m.\u001b[0m\u001b[0mjit\u001b[0m\u001b[0;34m.\u001b[0m\u001b[0mload\u001b[0m\u001b[0;34m(\u001b[0m\u001b[0mopened_file\u001b[0m\u001b[0;34m)\u001b[0m\u001b[0;34m\u001b[0m\u001b[0;34m\u001b[0m\u001b[0m\n\u001b[1;32m    594\u001b[0m                 \u001b[0;32mreturn\u001b[0m \u001b[0m_load\u001b[0m\u001b[0;34m(\u001b[0m\u001b[0mopened_zipfile\u001b[0m\u001b[0;34m,\u001b[0m \u001b[0mmap_location\u001b[0m\u001b[0;34m,\u001b[0m \u001b[0mpickle_module\u001b[0m\u001b[0;34m,\u001b[0m \u001b[0;34m**\u001b[0m\u001b[0mpickle_load_args\u001b[0m\u001b[0;34m)\u001b[0m\u001b[0;34m\u001b[0m\u001b[0;34m\u001b[0m\u001b[0m\n\u001b[0;32m--> 595\u001b[0;31m         \u001b[0;32mreturn\u001b[0m \u001b[0m_legacy_load\u001b[0m\u001b[0;34m(\u001b[0m\u001b[0mopened_file\u001b[0m\u001b[0;34m,\u001b[0m \u001b[0mmap_location\u001b[0m\u001b[0;34m,\u001b[0m \u001b[0mpickle_module\u001b[0m\u001b[0;34m,\u001b[0m \u001b[0;34m**\u001b[0m\u001b[0mpickle_load_args\u001b[0m\u001b[0;34m)\u001b[0m\u001b[0;34m\u001b[0m\u001b[0;34m\u001b[0m\u001b[0m\n\u001b[0m\u001b[1;32m    596\u001b[0m \u001b[0;34m\u001b[0m\u001b[0m\n\u001b[1;32m    597\u001b[0m \u001b[0;34m\u001b[0m\u001b[0m\n",
            "\u001b[0;32m/usr/local/lib/python3.7/dist-packages/torch/serialization.py\u001b[0m in \u001b[0;36m_legacy_load\u001b[0;34m(f, map_location, pickle_module, **pickle_load_args)\u001b[0m\n\u001b[1;32m    772\u001b[0m     \u001b[0munpickler\u001b[0m \u001b[0;34m=\u001b[0m \u001b[0mpickle_module\u001b[0m\u001b[0;34m.\u001b[0m\u001b[0mUnpickler\u001b[0m\u001b[0;34m(\u001b[0m\u001b[0mf\u001b[0m\u001b[0;34m,\u001b[0m \u001b[0;34m**\u001b[0m\u001b[0mpickle_load_args\u001b[0m\u001b[0;34m)\u001b[0m\u001b[0;34m\u001b[0m\u001b[0;34m\u001b[0m\u001b[0m\n\u001b[1;32m    773\u001b[0m     \u001b[0munpickler\u001b[0m\u001b[0;34m.\u001b[0m\u001b[0mpersistent_load\u001b[0m \u001b[0;34m=\u001b[0m \u001b[0mpersistent_load\u001b[0m\u001b[0;34m\u001b[0m\u001b[0;34m\u001b[0m\u001b[0m\n\u001b[0;32m--> 774\u001b[0;31m     \u001b[0mresult\u001b[0m \u001b[0;34m=\u001b[0m \u001b[0munpickler\u001b[0m\u001b[0;34m.\u001b[0m\u001b[0mload\u001b[0m\u001b[0;34m(\u001b[0m\u001b[0;34m)\u001b[0m\u001b[0;34m\u001b[0m\u001b[0;34m\u001b[0m\u001b[0m\n\u001b[0m\u001b[1;32m    775\u001b[0m \u001b[0;34m\u001b[0m\u001b[0m\n\u001b[1;32m    776\u001b[0m     \u001b[0mdeserialized_storage_keys\u001b[0m \u001b[0;34m=\u001b[0m \u001b[0mpickle_module\u001b[0m\u001b[0;34m.\u001b[0m\u001b[0mload\u001b[0m\u001b[0;34m(\u001b[0m\u001b[0mf\u001b[0m\u001b[0;34m,\u001b[0m \u001b[0;34m**\u001b[0m\u001b[0mpickle_load_args\u001b[0m\u001b[0;34m)\u001b[0m\u001b[0;34m\u001b[0m\u001b[0;34m\u001b[0m\u001b[0m\n",
            "\u001b[0;32m/usr/local/lib/python3.7/dist-packages/torch/serialization.py\u001b[0m in \u001b[0;36mpersistent_load\u001b[0;34m(saved_id)\u001b[0m\n\u001b[1;32m    728\u001b[0m                 \u001b[0mobj\u001b[0m \u001b[0;34m=\u001b[0m \u001b[0mdata_type\u001b[0m\u001b[0;34m(\u001b[0m\u001b[0msize\u001b[0m\u001b[0;34m)\u001b[0m\u001b[0;34m\u001b[0m\u001b[0;34m\u001b[0m\u001b[0m\n\u001b[1;32m    729\u001b[0m                 \u001b[0mobj\u001b[0m\u001b[0;34m.\u001b[0m\u001b[0m_torch_load_uninitialized\u001b[0m \u001b[0;34m=\u001b[0m \u001b[0;32mTrue\u001b[0m\u001b[0;34m\u001b[0m\u001b[0;34m\u001b[0m\u001b[0m\n\u001b[0;32m--> 730\u001b[0;31m                 \u001b[0mdeserialized_objects\u001b[0m\u001b[0;34m[\u001b[0m\u001b[0mroot_key\u001b[0m\u001b[0;34m]\u001b[0m \u001b[0;34m=\u001b[0m \u001b[0mrestore_location\u001b[0m\u001b[0;34m(\u001b[0m\u001b[0mobj\u001b[0m\u001b[0;34m,\u001b[0m \u001b[0mlocation\u001b[0m\u001b[0;34m)\u001b[0m\u001b[0;34m\u001b[0m\u001b[0;34m\u001b[0m\u001b[0m\n\u001b[0m\u001b[1;32m    731\u001b[0m             \u001b[0mstorage\u001b[0m \u001b[0;34m=\u001b[0m \u001b[0mdeserialized_objects\u001b[0m\u001b[0;34m[\u001b[0m\u001b[0mroot_key\u001b[0m\u001b[0;34m]\u001b[0m\u001b[0;34m\u001b[0m\u001b[0;34m\u001b[0m\u001b[0m\n\u001b[1;32m    732\u001b[0m             \u001b[0;32mif\u001b[0m \u001b[0mview_metadata\u001b[0m \u001b[0;32mis\u001b[0m \u001b[0;32mnot\u001b[0m \u001b[0;32mNone\u001b[0m\u001b[0;34m:\u001b[0m\u001b[0;34m\u001b[0m\u001b[0;34m\u001b[0m\u001b[0m\n",
            "\u001b[0;32m/usr/local/lib/python3.7/dist-packages/torch/serialization.py\u001b[0m in \u001b[0;36mrestore_location\u001b[0;34m(storage, location)\u001b[0m\n\u001b[1;32m    812\u001b[0m     \u001b[0;32melif\u001b[0m \u001b[0misinstance\u001b[0m\u001b[0;34m(\u001b[0m\u001b[0mmap_location\u001b[0m\u001b[0;34m,\u001b[0m \u001b[0mtorch\u001b[0m\u001b[0;34m.\u001b[0m\u001b[0mdevice\u001b[0m\u001b[0;34m)\u001b[0m\u001b[0;34m:\u001b[0m\u001b[0;34m\u001b[0m\u001b[0;34m\u001b[0m\u001b[0m\n\u001b[1;32m    813\u001b[0m         \u001b[0;32mdef\u001b[0m \u001b[0mrestore_location\u001b[0m\u001b[0;34m(\u001b[0m\u001b[0mstorage\u001b[0m\u001b[0;34m,\u001b[0m \u001b[0mlocation\u001b[0m\u001b[0;34m)\u001b[0m\u001b[0;34m:\u001b[0m\u001b[0;34m\u001b[0m\u001b[0;34m\u001b[0m\u001b[0m\n\u001b[0;32m--> 814\u001b[0;31m             \u001b[0;32mreturn\u001b[0m \u001b[0mdefault_restore_location\u001b[0m\u001b[0;34m(\u001b[0m\u001b[0mstorage\u001b[0m\u001b[0;34m,\u001b[0m \u001b[0mstr\u001b[0m\u001b[0;34m(\u001b[0m\u001b[0mmap_location\u001b[0m\u001b[0;34m)\u001b[0m\u001b[0;34m)\u001b[0m\u001b[0;34m\u001b[0m\u001b[0;34m\u001b[0m\u001b[0m\n\u001b[0m\u001b[1;32m    815\u001b[0m     \u001b[0;32melse\u001b[0m\u001b[0;34m:\u001b[0m\u001b[0;34m\u001b[0m\u001b[0;34m\u001b[0m\u001b[0m\n\u001b[1;32m    816\u001b[0m         \u001b[0;32mdef\u001b[0m \u001b[0mrestore_location\u001b[0m\u001b[0;34m(\u001b[0m\u001b[0mstorage\u001b[0m\u001b[0;34m,\u001b[0m \u001b[0mlocation\u001b[0m\u001b[0;34m)\u001b[0m\u001b[0;34m:\u001b[0m\u001b[0;34m\u001b[0m\u001b[0;34m\u001b[0m\u001b[0m\n",
            "\u001b[0;32m/usr/local/lib/python3.7/dist-packages/torch/serialization.py\u001b[0m in \u001b[0;36mdefault_restore_location\u001b[0;34m(storage, location)\u001b[0m\n\u001b[1;32m    173\u001b[0m \u001b[0;32mdef\u001b[0m \u001b[0mdefault_restore_location\u001b[0m\u001b[0;34m(\u001b[0m\u001b[0mstorage\u001b[0m\u001b[0;34m,\u001b[0m \u001b[0mlocation\u001b[0m\u001b[0;34m)\u001b[0m\u001b[0;34m:\u001b[0m\u001b[0;34m\u001b[0m\u001b[0;34m\u001b[0m\u001b[0m\n\u001b[1;32m    174\u001b[0m     \u001b[0;32mfor\u001b[0m \u001b[0m_\u001b[0m\u001b[0;34m,\u001b[0m \u001b[0m_\u001b[0m\u001b[0;34m,\u001b[0m \u001b[0mfn\u001b[0m \u001b[0;32min\u001b[0m \u001b[0m_package_registry\u001b[0m\u001b[0;34m:\u001b[0m\u001b[0;34m\u001b[0m\u001b[0;34m\u001b[0m\u001b[0m\n\u001b[0;32m--> 175\u001b[0;31m         \u001b[0mresult\u001b[0m \u001b[0;34m=\u001b[0m \u001b[0mfn\u001b[0m\u001b[0;34m(\u001b[0m\u001b[0mstorage\u001b[0m\u001b[0;34m,\u001b[0m \u001b[0mlocation\u001b[0m\u001b[0;34m)\u001b[0m\u001b[0;34m\u001b[0m\u001b[0;34m\u001b[0m\u001b[0m\n\u001b[0m\u001b[1;32m    176\u001b[0m         \u001b[0;32mif\u001b[0m \u001b[0mresult\u001b[0m \u001b[0;32mis\u001b[0m \u001b[0;32mnot\u001b[0m \u001b[0;32mNone\u001b[0m\u001b[0;34m:\u001b[0m\u001b[0;34m\u001b[0m\u001b[0;34m\u001b[0m\u001b[0m\n\u001b[1;32m    177\u001b[0m             \u001b[0;32mreturn\u001b[0m \u001b[0mresult\u001b[0m\u001b[0;34m\u001b[0m\u001b[0;34m\u001b[0m\u001b[0m\n",
            "\u001b[0;32m/usr/local/lib/python3.7/dist-packages/torch/serialization.py\u001b[0m in \u001b[0;36m_cuda_deserialize\u001b[0;34m(obj, location)\u001b[0m\n\u001b[1;32m    153\u001b[0m             \u001b[0mstorage_type\u001b[0m \u001b[0;34m=\u001b[0m \u001b[0mgetattr\u001b[0m\u001b[0;34m(\u001b[0m\u001b[0mtorch\u001b[0m\u001b[0;34m.\u001b[0m\u001b[0mcuda\u001b[0m\u001b[0;34m,\u001b[0m \u001b[0mtype\u001b[0m\u001b[0;34m(\u001b[0m\u001b[0mobj\u001b[0m\u001b[0;34m)\u001b[0m\u001b[0;34m.\u001b[0m\u001b[0m__name__\u001b[0m\u001b[0;34m)\u001b[0m\u001b[0;34m\u001b[0m\u001b[0;34m\u001b[0m\u001b[0m\n\u001b[1;32m    154\u001b[0m             \u001b[0;32mwith\u001b[0m \u001b[0mtorch\u001b[0m\u001b[0;34m.\u001b[0m\u001b[0mcuda\u001b[0m\u001b[0;34m.\u001b[0m\u001b[0mdevice\u001b[0m\u001b[0;34m(\u001b[0m\u001b[0mdevice\u001b[0m\u001b[0;34m)\u001b[0m\u001b[0;34m:\u001b[0m\u001b[0;34m\u001b[0m\u001b[0;34m\u001b[0m\u001b[0m\n\u001b[0;32m--> 155\u001b[0;31m                 \u001b[0;32mreturn\u001b[0m \u001b[0mstorage_type\u001b[0m\u001b[0;34m(\u001b[0m\u001b[0mobj\u001b[0m\u001b[0;34m.\u001b[0m\u001b[0msize\u001b[0m\u001b[0;34m(\u001b[0m\u001b[0;34m)\u001b[0m\u001b[0;34m)\u001b[0m\u001b[0;34m\u001b[0m\u001b[0;34m\u001b[0m\u001b[0m\n\u001b[0m\u001b[1;32m    156\u001b[0m         \u001b[0;32melse\u001b[0m\u001b[0;34m:\u001b[0m\u001b[0;34m\u001b[0m\u001b[0;34m\u001b[0m\u001b[0m\n\u001b[1;32m    157\u001b[0m             \u001b[0;32mreturn\u001b[0m \u001b[0mobj\u001b[0m\u001b[0;34m.\u001b[0m\u001b[0mcuda\u001b[0m\u001b[0;34m(\u001b[0m\u001b[0mdevice\u001b[0m\u001b[0;34m)\u001b[0m\u001b[0;34m\u001b[0m\u001b[0;34m\u001b[0m\u001b[0m\n",
            "\u001b[0;32m/usr/local/lib/python3.7/dist-packages/torch/cuda/__init__.py\u001b[0m in \u001b[0;36m_lazy_new\u001b[0;34m(cls, *args, **kwargs)\u001b[0m\n\u001b[1;32m    460\u001b[0m     \u001b[0;31m# We may need to call lazy init again if we are a forked child\u001b[0m\u001b[0;34m\u001b[0m\u001b[0;34m\u001b[0m\u001b[0;34m\u001b[0m\u001b[0m\n\u001b[1;32m    461\u001b[0m     \u001b[0;31m# del _CudaBase.__new__\u001b[0m\u001b[0;34m\u001b[0m\u001b[0;34m\u001b[0m\u001b[0;34m\u001b[0m\u001b[0m\n\u001b[0;32m--> 462\u001b[0;31m     \u001b[0;32mreturn\u001b[0m \u001b[0msuper\u001b[0m\u001b[0;34m(\u001b[0m\u001b[0m_CudaBase\u001b[0m\u001b[0;34m,\u001b[0m \u001b[0mcls\u001b[0m\u001b[0;34m)\u001b[0m\u001b[0;34m.\u001b[0m\u001b[0m__new__\u001b[0m\u001b[0;34m(\u001b[0m\u001b[0mcls\u001b[0m\u001b[0;34m,\u001b[0m \u001b[0;34m*\u001b[0m\u001b[0margs\u001b[0m\u001b[0;34m,\u001b[0m \u001b[0;34m**\u001b[0m\u001b[0mkwargs\u001b[0m\u001b[0;34m)\u001b[0m\u001b[0;34m\u001b[0m\u001b[0;34m\u001b[0m\u001b[0m\n\u001b[0m\u001b[1;32m    463\u001b[0m \u001b[0;34m\u001b[0m\u001b[0m\n\u001b[1;32m    464\u001b[0m \u001b[0;34m\u001b[0m\u001b[0m\n",
            "\u001b[0;31mKeyboardInterrupt\u001b[0m: "
          ]
        }
      ]
    },
    {
      "cell_type": "code",
      "metadata": {
        "id": "zkYFMh_iDR_G"
      },
      "source": [
        "# sentences = ['there is a shortage of capital, and we need extra financing', \"growth is strong and we have plenty of liquidity\", \"there are doubts about our finances\", \"profits are flat\"]\r\n",
        "tokenizer = BertTokenizer(vocab_file = vocab_path, do_lower_case = True, do_basic_tokenize = True)"
      ],
      "execution_count": null,
      "outputs": []
    },
    {
      "cell_type": "markdown",
      "metadata": {
        "id": "QGaTR2E5MiCU"
      },
      "source": [
        "##### Тот самый finBert"
      ]
    },
    {
      "cell_type": "code",
      "metadata": {
        "colab": {
          "base_uri": "https://localhost:8080/"
        },
        "id": "V9FDoOA9PiCa",
        "outputId": "ecf1dd4c-1a47-4905-8f56-b16a980dab46"
      },
      "source": [
        "%%time\r\n",
        "\r\n",
        "l_all = []\r\n",
        "p_all = []\r\n",
        "\r\n",
        "# for i in tqdm(document.keys()):\r\n",
        "#   display(i)\r\n",
        "#   for ii in document[i].keys():\r\n",
        "for i in tqdm(list(document.keys())[300:]):\r\n",
        "  for ii in list(document[i].keys())[:]:\r\n",
        "    # \r\n",
        "    # try:\r\n",
        "      if 'item_7_raw' in document[i][ii].keys() and (len(document[i][ii]['item_7_raw']) > 20000 and len(document[i][ii]['item_7_raw']) < 200000):\r\n",
        "        document[i][ii]['finBert'] = {}\r\n",
        "      \r\n",
        "      # display(len(document[i][ii].keys()), (document[i][ii].keys()), len(document[i][ii]['item_7_raw']))\r\n",
        "        text = (document[i][ii]['item_7_raw'])\r\n",
        "\r\n",
        "        sentences = nltk.sent_tokenize(text)\r\n",
        "        \r\n",
        "        l, p = bert(sentences)\r\n",
        "        document[i][ii]['finBert'] = np.where(pd.DataFrame(l)[0] == 'negative', -1, np.where(pd.DataFrame(l)[0] == 'positive', 1, 0)).mean()\r\n",
        "    # except:\r\n",
        "    #   continue"
      ],
      "execution_count": null,
      "outputs": [
        {
          "output_type": "stream",
          "text": [
            "100%|██████████| 205/205 [2:18:27<00:00, 40.52s/it]"
          ],
          "name": "stderr"
        },
        {
          "output_type": "stream",
          "text": [
            "CPU times: user 2h 18min 23s, sys: 6.1 s, total: 2h 18min 29s\n",
            "Wall time: 2h 18min 27s\n"
          ],
          "name": "stdout"
        },
        {
          "output_type": "stream",
          "text": [
            "\n"
          ],
          "name": "stderr"
        }
      ]
    },
    {
      "cell_type": "markdown",
      "metadata": {
        "id": "cmHlwMRdX_8m"
      },
      "source": [
        "# -BERT pipline\r\n"
      ]
    },
    {
      "cell_type": "code",
      "metadata": {
        "id": "5wfTDR0FX_8m"
      },
      "source": [
        "nlp = pipeline(\"sentiment-analysis\")"
      ],
      "execution_count": null,
      "outputs": []
    },
    {
      "cell_type": "markdown",
      "metadata": {
        "id": "lZgBzMuJOkKL"
      },
      "source": [
        "## Тот самый pipline basicBert"
      ]
    },
    {
      "cell_type": "code",
      "metadata": {
        "colab": {
          "base_uri": "https://localhost:8080/"
        },
        "id": "nYD5oeqJ_JeL",
        "outputId": "a169dbba-ef4b-45cf-d1bb-cb60c7f42cf5"
      },
      "source": [
        "%%time\r\n",
        "\r\n",
        "# for i in tqdm(document.keys()):\r\n",
        "for i in tqdm(list(document.keys())[:]):\r\n",
        "  for ii in list(document[i].keys())[:]:\r\n",
        "    # display(i, ii)\r\n",
        "    document[i][ii]['bert_negative'] = {}\r\n",
        "\r\n",
        "    # if len(document[i][ii])>2:                                                                                 # КЛЮЧ НЕ???\r\n",
        "\r\n",
        "    text = (document[i][ii]['item_7_raw'])\r\n",
        "    # display(len(text))\r\n",
        "    max_ = 0\r\n",
        "    label    = []\r\n",
        "    score    = []\r\n",
        "    my_text  = []\r\n",
        "\r\n",
        "    sentences = nltk.sent_tokenize(text)\r\n",
        "    for sentence in (sentences):\r\n",
        "        # print(sentence)\r\n",
        "        if len(sentence) < 100 and len(sentence) > 3:\r\n",
        "        # max_ = max(len_, max_)\r\n",
        "        \r\n",
        "          # if 'item_7_raw' in document[i][ii].keys() and (len(document[i][ii]['item_7_raw']) > 20000 and len(document[i][ii]['item_7_raw']) < 200000):\r\n",
        "            result = nlp(sentence)\r\n",
        "            label.append(result[0]['label'])\r\n",
        "              # score.append(result[0]['score'])\r\n",
        "              # my_text.append(sentence)\r\n",
        "              # display('yes')\r\n",
        "        # else:\r\n",
        "        #   # display(len_, sentence)\r\n",
        "        #   continue\r\n",
        "    est = np.where(pd.Series(label) == 'NEGATIVE', 0, 1).mean()\r\n",
        "    document[i][ii]['bert_negative'] = est\r\n",
        "\r\n",
        "    # else:\r\n",
        "    #     document[i][ii]['bert_negative'] = 0    \r\n",
        "    # ...........\r\n",
        "    \r\n"
      ],
      "execution_count": null,
      "outputs": [
        {
          "output_type": "stream",
          "text": [
            "100%|██████████| 505/505 [1:32:24<00:00, 10.98s/it]"
          ],
          "name": "stderr"
        },
        {
          "output_type": "stream",
          "text": [
            "CPU times: user 1h 32min 14s, sys: 12.5 s, total: 1h 32min 26s\n",
            "Wall time: 1h 32min 24s\n"
          ],
          "name": "stdout"
        },
        {
          "output_type": "stream",
          "text": [
            "\n"
          ],
          "name": "stderr"
        }
      ]
    },
    {
      "cell_type": "markdown",
      "metadata": {
        "id": "7__WYQ0iX_8n"
      },
      "source": [
        "# -NRCLex\n",
        "# Запись эмоций в document[CIK][year]['affect_frequencies'])"
      ]
    },
    {
      "cell_type": "code",
      "metadata": {
        "id": "qLD5gWIMX_8n"
      },
      "source": [
        "%%time\n",
        "# text_object = NRCLex(raw_10k[doc_start:doc_end])\n",
        "# .words\n",
        "# text_object.sentences\n",
        "# text_object.affect_list\n",
        "# text_object.affect_dict\n",
        "# text_object.raw_emotion_scores\n",
        "# text_object.top_emotions\n",
        "# text_object.affect_frequencies"
      ],
      "execution_count": null,
      "outputs": []
    },
    {
      "cell_type": "code",
      "metadata": {
        "colab": {
          "base_uri": "https://localhost:8080/",
          "height": 450
        },
        "id": "yZ2k2fJrEg42",
        "outputId": "0c27a3f0-542f-4ab0-e97f-6eb1255e5db5"
      },
      "source": [
        "# pi['su'] = pi.sum(axis=1)\r\n",
        "pi[(pi['su'] == 5)&(pi['trust'] == 1)]"
      ],
      "execution_count": null,
      "outputs": [
        {
          "output_type": "execute_result",
          "data": {
            "text/html": [
              "<div>\n",
              "<style scoped>\n",
              "    .dataframe tbody tr th:only-of-type {\n",
              "        vertical-align: middle;\n",
              "    }\n",
              "\n",
              "    .dataframe tbody tr th {\n",
              "        vertical-align: top;\n",
              "    }\n",
              "\n",
              "    .dataframe thead th {\n",
              "        text-align: right;\n",
              "    }\n",
              "</style>\n",
              "<table border=\"1\" class=\"dataframe\">\n",
              "  <thead>\n",
              "    <tr style=\"text-align: right;\">\n",
              "      <th>emotion</th>\n",
              "      <th>anger</th>\n",
              "      <th>anticipation</th>\n",
              "      <th>disgust</th>\n",
              "      <th>fear</th>\n",
              "      <th>joy</th>\n",
              "      <th>negative</th>\n",
              "      <th>positive</th>\n",
              "      <th>sadness</th>\n",
              "      <th>surprise</th>\n",
              "      <th>trust</th>\n",
              "      <th>su</th>\n",
              "    </tr>\n",
              "    <tr>\n",
              "      <th>word</th>\n",
              "      <th></th>\n",
              "      <th></th>\n",
              "      <th></th>\n",
              "      <th></th>\n",
              "      <th></th>\n",
              "      <th></th>\n",
              "      <th></th>\n",
              "      <th></th>\n",
              "      <th></th>\n",
              "      <th></th>\n",
              "      <th></th>\n",
              "    </tr>\n",
              "  </thead>\n",
              "  <tbody>\n",
              "    <tr>\n",
              "      <th>accolade</th>\n",
              "      <td>0.0</td>\n",
              "      <td>1.0</td>\n",
              "      <td>0.0</td>\n",
              "      <td>0.0</td>\n",
              "      <td>1.0</td>\n",
              "      <td>0.0</td>\n",
              "      <td>1.0</td>\n",
              "      <td>0.0</td>\n",
              "      <td>1.0</td>\n",
              "      <td>1.0</td>\n",
              "      <td>5.0</td>\n",
              "    </tr>\n",
              "    <tr>\n",
              "      <th>advocacy</th>\n",
              "      <td>1.0</td>\n",
              "      <td>1.0</td>\n",
              "      <td>0.0</td>\n",
              "      <td>0.0</td>\n",
              "      <td>1.0</td>\n",
              "      <td>0.0</td>\n",
              "      <td>1.0</td>\n",
              "      <td>0.0</td>\n",
              "      <td>0.0</td>\n",
              "      <td>1.0</td>\n",
              "      <td>5.0</td>\n",
              "    </tr>\n",
              "    <tr>\n",
              "      <th>angel</th>\n",
              "      <td>0.0</td>\n",
              "      <td>1.0</td>\n",
              "      <td>0.0</td>\n",
              "      <td>0.0</td>\n",
              "      <td>1.0</td>\n",
              "      <td>0.0</td>\n",
              "      <td>1.0</td>\n",
              "      <td>0.0</td>\n",
              "      <td>1.0</td>\n",
              "      <td>1.0</td>\n",
              "      <td>5.0</td>\n",
              "    </tr>\n",
              "    <tr>\n",
              "      <th>aspiration</th>\n",
              "      <td>0.0</td>\n",
              "      <td>1.0</td>\n",
              "      <td>0.0</td>\n",
              "      <td>0.0</td>\n",
              "      <td>1.0</td>\n",
              "      <td>0.0</td>\n",
              "      <td>1.0</td>\n",
              "      <td>0.0</td>\n",
              "      <td>1.0</td>\n",
              "      <td>1.0</td>\n",
              "      <td>5.0</td>\n",
              "    </tr>\n",
              "    <tr>\n",
              "      <th>award</th>\n",
              "      <td>0.0</td>\n",
              "      <td>1.0</td>\n",
              "      <td>0.0</td>\n",
              "      <td>0.0</td>\n",
              "      <td>1.0</td>\n",
              "      <td>0.0</td>\n",
              "      <td>1.0</td>\n",
              "      <td>0.0</td>\n",
              "      <td>1.0</td>\n",
              "      <td>1.0</td>\n",
              "      <td>5.0</td>\n",
              "    </tr>\n",
              "    <tr>\n",
              "      <th>...</th>\n",
              "      <td>...</td>\n",
              "      <td>...</td>\n",
              "      <td>...</td>\n",
              "      <td>...</td>\n",
              "      <td>...</td>\n",
              "      <td>...</td>\n",
              "      <td>...</td>\n",
              "      <td>...</td>\n",
              "      <td>...</td>\n",
              "      <td>...</td>\n",
              "      <td>...</td>\n",
              "    </tr>\n",
              "    <tr>\n",
              "      <th>volunteer</th>\n",
              "      <td>0.0</td>\n",
              "      <td>1.0</td>\n",
              "      <td>0.0</td>\n",
              "      <td>1.0</td>\n",
              "      <td>1.0</td>\n",
              "      <td>0.0</td>\n",
              "      <td>1.0</td>\n",
              "      <td>0.0</td>\n",
              "      <td>0.0</td>\n",
              "      <td>1.0</td>\n",
              "      <td>5.0</td>\n",
              "    </tr>\n",
              "    <tr>\n",
              "      <th>warn</th>\n",
              "      <td>0.0</td>\n",
              "      <td>1.0</td>\n",
              "      <td>0.0</td>\n",
              "      <td>1.0</td>\n",
              "      <td>0.0</td>\n",
              "      <td>1.0</td>\n",
              "      <td>0.0</td>\n",
              "      <td>0.0</td>\n",
              "      <td>1.0</td>\n",
              "      <td>1.0</td>\n",
              "      <td>5.0</td>\n",
              "    </tr>\n",
              "    <tr>\n",
              "      <th>worship</th>\n",
              "      <td>0.0</td>\n",
              "      <td>1.0</td>\n",
              "      <td>0.0</td>\n",
              "      <td>1.0</td>\n",
              "      <td>1.0</td>\n",
              "      <td>0.0</td>\n",
              "      <td>1.0</td>\n",
              "      <td>0.0</td>\n",
              "      <td>0.0</td>\n",
              "      <td>1.0</td>\n",
              "      <td>5.0</td>\n",
              "    </tr>\n",
              "    <tr>\n",
              "      <th>yearning</th>\n",
              "      <td>0.0</td>\n",
              "      <td>1.0</td>\n",
              "      <td>0.0</td>\n",
              "      <td>0.0</td>\n",
              "      <td>1.0</td>\n",
              "      <td>1.0</td>\n",
              "      <td>1.0</td>\n",
              "      <td>0.0</td>\n",
              "      <td>0.0</td>\n",
              "      <td>1.0</td>\n",
              "      <td>5.0</td>\n",
              "    </tr>\n",
              "    <tr>\n",
              "      <th>zeal</th>\n",
              "      <td>0.0</td>\n",
              "      <td>1.0</td>\n",
              "      <td>0.0</td>\n",
              "      <td>0.0</td>\n",
              "      <td>1.0</td>\n",
              "      <td>0.0</td>\n",
              "      <td>1.0</td>\n",
              "      <td>0.0</td>\n",
              "      <td>1.0</td>\n",
              "      <td>1.0</td>\n",
              "      <td>5.0</td>\n",
              "    </tr>\n",
              "  </tbody>\n",
              "</table>\n",
              "<p>111 rows × 11 columns</p>\n",
              "</div>"
            ],
            "text/plain": [
              "emotion     anger  anticipation  disgust  fear  joy  negative  positive  \\\n",
              "word                                                                      \n",
              "accolade      0.0           1.0      0.0   0.0  1.0       0.0       1.0   \n",
              "advocacy      1.0           1.0      0.0   0.0  1.0       0.0       1.0   \n",
              "angel         0.0           1.0      0.0   0.0  1.0       0.0       1.0   \n",
              "aspiration    0.0           1.0      0.0   0.0  1.0       0.0       1.0   \n",
              "award         0.0           1.0      0.0   0.0  1.0       0.0       1.0   \n",
              "...           ...           ...      ...   ...  ...       ...       ...   \n",
              "volunteer     0.0           1.0      0.0   1.0  1.0       0.0       1.0   \n",
              "warn          0.0           1.0      0.0   1.0  0.0       1.0       0.0   \n",
              "worship       0.0           1.0      0.0   1.0  1.0       0.0       1.0   \n",
              "yearning      0.0           1.0      0.0   0.0  1.0       1.0       1.0   \n",
              "zeal          0.0           1.0      0.0   0.0  1.0       0.0       1.0   \n",
              "\n",
              "emotion     sadness  surprise  trust   su  \n",
              "word                                       \n",
              "accolade        0.0       1.0    1.0  5.0  \n",
              "advocacy        0.0       0.0    1.0  5.0  \n",
              "angel           0.0       1.0    1.0  5.0  \n",
              "aspiration      0.0       1.0    1.0  5.0  \n",
              "award           0.0       1.0    1.0  5.0  \n",
              "...             ...       ...    ...  ...  \n",
              "volunteer       0.0       0.0    1.0  5.0  \n",
              "warn            0.0       1.0    1.0  5.0  \n",
              "worship         0.0       0.0    1.0  5.0  \n",
              "yearning        0.0       0.0    1.0  5.0  \n",
              "zeal            0.0       1.0    1.0  5.0  \n",
              "\n",
              "[111 rows x 11 columns]"
            ]
          },
          "metadata": {
            "tags": []
          },
          "execution_count": 25
        }
      ]
    },
    {
      "cell_type": "code",
      "metadata": {
        "colab": {
          "base_uri": "https://localhost:8080/",
          "height": 450
        },
        "id": "Q6hA07RZDvTq",
        "outputId": "4fa75cdf-ee88-4918-9e44-776ac4b0d2ab"
      },
      "source": [
        "# pi = pd.pivot_table(emolex_df,\r\n",
        "#                index = 'word',\r\n",
        "#                columns = 'emotion',\r\n",
        "#                values = 'association'\r\n",
        "#                )\r\n",
        "pi"
      ],
      "execution_count": null,
      "outputs": [
        {
          "output_type": "execute_result",
          "data": {
            "text/html": [
              "<div>\n",
              "<style scoped>\n",
              "    .dataframe tbody tr th:only-of-type {\n",
              "        vertical-align: middle;\n",
              "    }\n",
              "\n",
              "    .dataframe tbody tr th {\n",
              "        vertical-align: top;\n",
              "    }\n",
              "\n",
              "    .dataframe thead th {\n",
              "        text-align: right;\n",
              "    }\n",
              "</style>\n",
              "<table border=\"1\" class=\"dataframe\">\n",
              "  <thead>\n",
              "    <tr style=\"text-align: right;\">\n",
              "      <th>emotion</th>\n",
              "      <th>anger</th>\n",
              "      <th>anticipation</th>\n",
              "      <th>disgust</th>\n",
              "      <th>fear</th>\n",
              "      <th>joy</th>\n",
              "      <th>negative</th>\n",
              "      <th>positive</th>\n",
              "      <th>sadness</th>\n",
              "      <th>surprise</th>\n",
              "      <th>trust</th>\n",
              "      <th>su</th>\n",
              "    </tr>\n",
              "    <tr>\n",
              "      <th>word</th>\n",
              "      <th></th>\n",
              "      <th></th>\n",
              "      <th></th>\n",
              "      <th></th>\n",
              "      <th></th>\n",
              "      <th></th>\n",
              "      <th></th>\n",
              "      <th></th>\n",
              "      <th></th>\n",
              "      <th></th>\n",
              "      <th></th>\n",
              "    </tr>\n",
              "  </thead>\n",
              "  <tbody>\n",
              "    <tr>\n",
              "      <th>abacus</th>\n",
              "      <td>NaN</td>\n",
              "      <td>NaN</td>\n",
              "      <td>NaN</td>\n",
              "      <td>NaN</td>\n",
              "      <td>NaN</td>\n",
              "      <td>NaN</td>\n",
              "      <td>NaN</td>\n",
              "      <td>0.0</td>\n",
              "      <td>0.0</td>\n",
              "      <td>1.0</td>\n",
              "      <td>1.0</td>\n",
              "    </tr>\n",
              "    <tr>\n",
              "      <th>abandon</th>\n",
              "      <td>0.0</td>\n",
              "      <td>0.0</td>\n",
              "      <td>0.0</td>\n",
              "      <td>1.0</td>\n",
              "      <td>0.0</td>\n",
              "      <td>1.0</td>\n",
              "      <td>0.0</td>\n",
              "      <td>1.0</td>\n",
              "      <td>0.0</td>\n",
              "      <td>0.0</td>\n",
              "      <td>3.0</td>\n",
              "    </tr>\n",
              "    <tr>\n",
              "      <th>abandoned</th>\n",
              "      <td>1.0</td>\n",
              "      <td>0.0</td>\n",
              "      <td>0.0</td>\n",
              "      <td>1.0</td>\n",
              "      <td>0.0</td>\n",
              "      <td>1.0</td>\n",
              "      <td>0.0</td>\n",
              "      <td>1.0</td>\n",
              "      <td>0.0</td>\n",
              "      <td>0.0</td>\n",
              "      <td>4.0</td>\n",
              "    </tr>\n",
              "    <tr>\n",
              "      <th>abandonment</th>\n",
              "      <td>1.0</td>\n",
              "      <td>0.0</td>\n",
              "      <td>0.0</td>\n",
              "      <td>1.0</td>\n",
              "      <td>0.0</td>\n",
              "      <td>1.0</td>\n",
              "      <td>0.0</td>\n",
              "      <td>1.0</td>\n",
              "      <td>1.0</td>\n",
              "      <td>0.0</td>\n",
              "      <td>5.0</td>\n",
              "    </tr>\n",
              "    <tr>\n",
              "      <th>abate</th>\n",
              "      <td>0.0</td>\n",
              "      <td>0.0</td>\n",
              "      <td>0.0</td>\n",
              "      <td>0.0</td>\n",
              "      <td>0.0</td>\n",
              "      <td>0.0</td>\n",
              "      <td>0.0</td>\n",
              "      <td>0.0</td>\n",
              "      <td>0.0</td>\n",
              "      <td>0.0</td>\n",
              "      <td>0.0</td>\n",
              "    </tr>\n",
              "    <tr>\n",
              "      <th>...</th>\n",
              "      <td>...</td>\n",
              "      <td>...</td>\n",
              "      <td>...</td>\n",
              "      <td>...</td>\n",
              "      <td>...</td>\n",
              "      <td>...</td>\n",
              "      <td>...</td>\n",
              "      <td>...</td>\n",
              "      <td>...</td>\n",
              "      <td>...</td>\n",
              "      <td>...</td>\n",
              "    </tr>\n",
              "    <tr>\n",
              "      <th>zone</th>\n",
              "      <td>0.0</td>\n",
              "      <td>0.0</td>\n",
              "      <td>0.0</td>\n",
              "      <td>0.0</td>\n",
              "      <td>0.0</td>\n",
              "      <td>0.0</td>\n",
              "      <td>0.0</td>\n",
              "      <td>0.0</td>\n",
              "      <td>0.0</td>\n",
              "      <td>0.0</td>\n",
              "      <td>0.0</td>\n",
              "    </tr>\n",
              "    <tr>\n",
              "      <th>zoo</th>\n",
              "      <td>0.0</td>\n",
              "      <td>0.0</td>\n",
              "      <td>0.0</td>\n",
              "      <td>0.0</td>\n",
              "      <td>0.0</td>\n",
              "      <td>0.0</td>\n",
              "      <td>0.0</td>\n",
              "      <td>0.0</td>\n",
              "      <td>0.0</td>\n",
              "      <td>0.0</td>\n",
              "      <td>0.0</td>\n",
              "    </tr>\n",
              "    <tr>\n",
              "      <th>zoological</th>\n",
              "      <td>0.0</td>\n",
              "      <td>0.0</td>\n",
              "      <td>0.0</td>\n",
              "      <td>0.0</td>\n",
              "      <td>0.0</td>\n",
              "      <td>0.0</td>\n",
              "      <td>0.0</td>\n",
              "      <td>0.0</td>\n",
              "      <td>0.0</td>\n",
              "      <td>0.0</td>\n",
              "      <td>0.0</td>\n",
              "    </tr>\n",
              "    <tr>\n",
              "      <th>zoology</th>\n",
              "      <td>0.0</td>\n",
              "      <td>0.0</td>\n",
              "      <td>0.0</td>\n",
              "      <td>0.0</td>\n",
              "      <td>0.0</td>\n",
              "      <td>0.0</td>\n",
              "      <td>0.0</td>\n",
              "      <td>0.0</td>\n",
              "      <td>0.0</td>\n",
              "      <td>0.0</td>\n",
              "      <td>0.0</td>\n",
              "    </tr>\n",
              "    <tr>\n",
              "      <th>zoom</th>\n",
              "      <td>0.0</td>\n",
              "      <td>0.0</td>\n",
              "      <td>0.0</td>\n",
              "      <td>0.0</td>\n",
              "      <td>0.0</td>\n",
              "      <td>0.0</td>\n",
              "      <td>0.0</td>\n",
              "      <td>0.0</td>\n",
              "      <td>0.0</td>\n",
              "      <td>0.0</td>\n",
              "      <td>0.0</td>\n",
              "    </tr>\n",
              "  </tbody>\n",
              "</table>\n",
              "<p>14180 rows × 11 columns</p>\n",
              "</div>"
            ],
            "text/plain": [
              "emotion      anger  anticipation  disgust  fear  joy  negative  positive  \\\n",
              "word                                                                       \n",
              "abacus         NaN           NaN      NaN   NaN  NaN       NaN       NaN   \n",
              "abandon        0.0           0.0      0.0   1.0  0.0       1.0       0.0   \n",
              "abandoned      1.0           0.0      0.0   1.0  0.0       1.0       0.0   \n",
              "abandonment    1.0           0.0      0.0   1.0  0.0       1.0       0.0   \n",
              "abate          0.0           0.0      0.0   0.0  0.0       0.0       0.0   \n",
              "...            ...           ...      ...   ...  ...       ...       ...   \n",
              "zone           0.0           0.0      0.0   0.0  0.0       0.0       0.0   \n",
              "zoo            0.0           0.0      0.0   0.0  0.0       0.0       0.0   \n",
              "zoological     0.0           0.0      0.0   0.0  0.0       0.0       0.0   \n",
              "zoology        0.0           0.0      0.0   0.0  0.0       0.0       0.0   \n",
              "zoom           0.0           0.0      0.0   0.0  0.0       0.0       0.0   \n",
              "\n",
              "emotion      sadness  surprise  trust   su  \n",
              "word                                        \n",
              "abacus           0.0       0.0    1.0  1.0  \n",
              "abandon          1.0       0.0    0.0  3.0  \n",
              "abandoned        1.0       0.0    0.0  4.0  \n",
              "abandonment      1.0       1.0    0.0  5.0  \n",
              "abate            0.0       0.0    0.0  0.0  \n",
              "...              ...       ...    ...  ...  \n",
              "zone             0.0       0.0    0.0  0.0  \n",
              "zoo              0.0       0.0    0.0  0.0  \n",
              "zoological       0.0       0.0    0.0  0.0  \n",
              "zoology          0.0       0.0    0.0  0.0  \n",
              "zoom             0.0       0.0    0.0  0.0  \n",
              "\n",
              "[14180 rows x 11 columns]"
            ]
          },
          "metadata": {
            "tags": []
          },
          "execution_count": 21
        }
      ]
    },
    {
      "cell_type": "code",
      "metadata": {
        "colab": {
          "base_uri": "https://localhost:8080/",
          "height": 421
        },
        "id": "fgw0G_lbX_8n",
        "outputId": "a6d401d2-c0e7-4e57-8e34-6c8a45a4a3b6"
      },
      "source": [
        "#Аанлиз текстовой библиотеки Мухамеда\n",
        "\n",
        "# filepath = my_dir + \"NRC-emotion-lexicon-wordlevel-alphabetized-v0.92.txt\"\n",
        "# emolex_df = pd.read_csv(filepath,  names=[\"word\", \"emotion\", \"association\"], skiprows=45, sep='\\t')\n",
        "emolex_df.head(12)\n",
        "# emolex_df[(emolex_df['emotion'] == 'trust')&(emolex_df['association'] == 1)]['word']"
      ],
      "execution_count": null,
      "outputs": [
        {
          "output_type": "execute_result",
          "data": {
            "text/html": [
              "<div>\n",
              "<style scoped>\n",
              "    .dataframe tbody tr th:only-of-type {\n",
              "        vertical-align: middle;\n",
              "    }\n",
              "\n",
              "    .dataframe tbody tr th {\n",
              "        vertical-align: top;\n",
              "    }\n",
              "\n",
              "    .dataframe thead th {\n",
              "        text-align: right;\n",
              "    }\n",
              "</style>\n",
              "<table border=\"1\" class=\"dataframe\">\n",
              "  <thead>\n",
              "    <tr style=\"text-align: right;\">\n",
              "      <th></th>\n",
              "      <th>word</th>\n",
              "      <th>emotion</th>\n",
              "      <th>association</th>\n",
              "    </tr>\n",
              "  </thead>\n",
              "  <tbody>\n",
              "    <tr>\n",
              "      <th>0</th>\n",
              "      <td>abacus</td>\n",
              "      <td>sadness</td>\n",
              "      <td>0</td>\n",
              "    </tr>\n",
              "    <tr>\n",
              "      <th>1</th>\n",
              "      <td>abacus</td>\n",
              "      <td>surprise</td>\n",
              "      <td>0</td>\n",
              "    </tr>\n",
              "    <tr>\n",
              "      <th>2</th>\n",
              "      <td>abacus</td>\n",
              "      <td>trust</td>\n",
              "      <td>1</td>\n",
              "    </tr>\n",
              "    <tr>\n",
              "      <th>3</th>\n",
              "      <td>abandon</td>\n",
              "      <td>anger</td>\n",
              "      <td>0</td>\n",
              "    </tr>\n",
              "    <tr>\n",
              "      <th>4</th>\n",
              "      <td>abandon</td>\n",
              "      <td>anticipation</td>\n",
              "      <td>0</td>\n",
              "    </tr>\n",
              "    <tr>\n",
              "      <th>5</th>\n",
              "      <td>abandon</td>\n",
              "      <td>disgust</td>\n",
              "      <td>0</td>\n",
              "    </tr>\n",
              "    <tr>\n",
              "      <th>6</th>\n",
              "      <td>abandon</td>\n",
              "      <td>fear</td>\n",
              "      <td>1</td>\n",
              "    </tr>\n",
              "    <tr>\n",
              "      <th>7</th>\n",
              "      <td>abandon</td>\n",
              "      <td>joy</td>\n",
              "      <td>0</td>\n",
              "    </tr>\n",
              "    <tr>\n",
              "      <th>8</th>\n",
              "      <td>abandon</td>\n",
              "      <td>negative</td>\n",
              "      <td>1</td>\n",
              "    </tr>\n",
              "    <tr>\n",
              "      <th>9</th>\n",
              "      <td>abandon</td>\n",
              "      <td>positive</td>\n",
              "      <td>0</td>\n",
              "    </tr>\n",
              "    <tr>\n",
              "      <th>10</th>\n",
              "      <td>abandon</td>\n",
              "      <td>sadness</td>\n",
              "      <td>1</td>\n",
              "    </tr>\n",
              "    <tr>\n",
              "      <th>11</th>\n",
              "      <td>abandon</td>\n",
              "      <td>surprise</td>\n",
              "      <td>0</td>\n",
              "    </tr>\n",
              "  </tbody>\n",
              "</table>\n",
              "</div>"
            ],
            "text/plain": [
              "       word       emotion  association\n",
              "0    abacus       sadness            0\n",
              "1    abacus      surprise            0\n",
              "2    abacus         trust            1\n",
              "3   abandon         anger            0\n",
              "4   abandon  anticipation            0\n",
              "5   abandon       disgust            0\n",
              "6   abandon          fear            1\n",
              "7   abandon           joy            0\n",
              "8   abandon      negative            1\n",
              "9   abandon      positive            0\n",
              "10  abandon       sadness            1\n",
              "11  abandon      surprise            0"
            ]
          },
          "metadata": {
            "tags": []
          },
          "execution_count": 12
        }
      ]
    },
    {
      "cell_type": "code",
      "metadata": {
        "id": "rq0IMtDuX_8o"
      },
      "source": [
        "# COMAND FOU NRC\n",
        "\n",
        "# text_object = NRCLex('Fine dog. Fine cat')\n",
        "# text_object = NRCLex(text)\n",
        "# text_object.words\n",
        "# text_object.sentences\n",
        "# text_object.affect_list\n",
        "# text_object.affect_dict\n",
        "# text_object.raw_emotion_scores\n",
        "# text_object.top_emotions\n",
        "# text_object.affect_frequencies"
      ],
      "execution_count": null,
      "outputs": []
    },
    {
      "cell_type": "code",
      "metadata": {
        "colab": {
          "base_uri": "https://localhost:8080/",
          "height": 102
        },
        "id": "xXqPMaBaX_8o",
        "outputId": "864c5602-68a3-4e8a-c5f5-3ede487fe1bf"
      },
      "source": [
        "# n=0\n",
        "# m=0\n",
        "# k=0\n",
        "# v=0\n",
        "# # for ii in document.keys():\n",
        "# for ii in tqdm(list(document.keys())[:25]):\n",
        "# # for ii in ['AMZN']:\n",
        "#     for i in document[ii].keys():\n",
        "#         if document[ii][i]['affect_frequencies_7_row'] == 1000:\n",
        "#             v+=1\n",
        "#         elif len(document[ii][i]['affect_frequencies_7_row']) == 11:\n",
        "#             # display((document[ii][i]['affect_frequencies_7_row']))\n",
        "#             n+=1\n",
        "#         elif len(document[ii][i]['affect_frequencies_7_row']) == 0:\n",
        "#             m+=1\n",
        "\n",
        "#         else:\n",
        "#             continue\n",
        "# display(n, m, k, v)"
      ],
      "execution_count": null,
      "outputs": [
        {
          "output_type": "stream",
          "text": [
            "100%|██████████| 25/25 [00:00<00:00, 7819.36it/s]\n"
          ],
          "name": "stderr"
        },
        {
          "output_type": "display_data",
          "data": {
            "text/plain": [
              "110"
            ]
          },
          "metadata": {
            "tags": []
          }
        },
        {
          "output_type": "display_data",
          "data": {
            "text/plain": [
              "0"
            ]
          },
          "metadata": {
            "tags": []
          }
        },
        {
          "output_type": "display_data",
          "data": {
            "text/plain": [
              "0"
            ]
          },
          "metadata": {
            "tags": []
          }
        },
        {
          "output_type": "display_data",
          "data": {
            "text/plain": [
              "76"
            ]
          },
          "metadata": {
            "tags": []
          }
        }
      ]
    },
    {
      "cell_type": "markdown",
      "metadata": {
        "id": "IpyScqKW5qW9"
      },
      "source": [
        "## Та самая affect_frequencies_7_row"
      ]
    },
    {
      "cell_type": "code",
      "metadata": {
        "colab": {
          "base_uri": "https://localhost:8080/",
          "height": 107
        },
        "id": "aFoDPBKEXYIp",
        "outputId": "5ddccd27-27fd-406e-ca6d-81b3e2e4afca"
      },
      "source": [
        "display(i,ii)\r\n",
        "document[i]['10Q'][ii]['item_2_raw']\r\n",
        "# NRCLex(document[i]['10Q'][ii]['expect_2']).affect_frequencies\r\n",
        "exp(document[i]['10Q'][ii]['item_2_raw'])"
      ],
      "execution_count": null,
      "outputs": [
        {
          "output_type": "display_data",
          "data": {
            "application/vnd.google.colaboratory.intrinsic+json": {
              "type": "string"
            },
            "text/plain": [
              "'MMM'"
            ]
          },
          "metadata": {
            "tags": []
          }
        },
        {
          "output_type": "display_data",
          "data": {
            "application/vnd.google.colaboratory.intrinsic+json": {
              "type": "string"
            },
            "text/plain": [
              "'2020-10-27'"
            ]
          },
          "metadata": {
            "tags": []
          }
        },
        {
          "output_type": "execute_result",
          "data": {
            "text/plain": [
              "('The allowances for bad debts and cash discounts are based on the best estimate of the amount of expected credit losses in existing accounts receivable and anticipated cash discounts. The Company determines the allowances based on historical write-off experience by industry and regional economic data, current expectations of future credit losses, and historical cash discounts. When a credit loss exists, the Company compares the present value of cash flows expected to be collected from the debt security with the amortized cost basis of the security to determine what allowance amount, if any, should be recorded. In light of circumstances, including the country’s unstable environment and heightened unrest leading to sustained lack of demand, and expectation that these circumstances will continue for the foreseeable future, during May 2019, 3M concluded it no longer met the criteria of control in order to continue consolidating its Venezuelan operations. 2018-19, 2019-04, 2019-05, 2019-11, and 2020-03)Introduces an approach, based on expected losses, to estimate credit losses on certain types of financial instruments and modifies the impairment model for available-for-sale debt securities.\\u200bAmends the current other-than-temporary impairment model for available-for-sale debt securities. Adoption of this ASU did not have a material impact due to the nature and extent of 3M’s financial instruments in scope for this ASU (primarily accounts receivable) and the historical, current and expected credit quality of its customers as of the date of adoption.\\u200bSee Note 1 Significant Accounting Policies for updated applicable accounting policies.ASU No. 2019-12, Simplifying the Accounting for Income Taxes (Topic 740)Eliminates certain existing exceptions related to the general approach in ASC 740 relating to franchise taxes, reducing complexity in the interim-period accounting for year-to-date loss limitations and changes in tax laws, and clarifying the accounting for transactions outside of business combination that result in a step-up in the tax basis of goodwill.January 1, 20213M previously disclosed it does not expect this ASU to have a material impact on its consolidated results of operations and financial condition.ASU No. 2020-01, Clarifying the Interactions between Topic 321, Investments—Equity Securities, Topic 323, Investments—Equity Method and Joint Ventures, and Topic 815, Derivatives and HedgingClarifies when accounting for certain equity securities, a Company should consider observable transactions before applying or upon discontinuing the equity method of accounting for the purposes of applying the measurement alternative.\\u200bIndicates when determining the accounting for certain derivatives, a Company should not consider if the underlying securities would be accounted for under the equity method or fair value option.January 1, 20213M previously disclosed it does not expect this ASU to have a material impact on its consolidated results of operations and financial condition, but will apply such guidance, where applicable, to future circumstances.\\u200b\\u200b\\u200b\\u200b\\u200bRelevant New Standards Issued Subsequent to Most Recent Annual Report\\u200bIn March 2020, the FASB issued ASU No. Goodwill resulting from business combinations is largely attributable to the existing workforce of the acquired businesses and synergies expected to arise after 3M’s acquisition of these businesses.\\u200b2020 acquisitions:\\u200bThere were no acquisitions that closed during the nine months ended September 30, 2020.\\u200b2019 acquisitions:\\u200bIn February 2019, 3M completed the acquisition of the technology business of M*Modal for $0.7 billion of cash, net of cash acquired, and assumption of $0.3 billion of M*Modal’s debt. In conjunction with the change in segment reporting, 3M completed an assessment indicating no goodwill impairment existed as a result of this new segment structure.\\u200bAcquired Intangible Assets\\u200bThe carrying amount and accumulated amortization of acquired finite-lived intangible assets, in addition to the balance of non-amortizable intangible assets, as of September 30, 2020, and December 31, 2019, follow:\\u200b\\u200b\\u200b\\u200b\\u200b\\u200b\\u200b\\u200b\\u200b\\u200b September 30, December 31, (Millions) 2020 2019 Customer related intangible assets\\u200b$ 4,232\\u200b$ 4,316\\u200bPatents\\u200b 530\\u200b 538\\u200bOther technology-based intangible assets\\u200b 2,099\\u200b 2,124\\u200bDefinite-lived tradenames\\u200b 1,175\\u200b 1,158\\u200bOther amortizable intangible assets\\u200b 121\\u200b 125\\u200bTotal gross carrying amount \\u200b$ 8,157\\u200b$ 8,261\\u200b\\u200b\\u200b\\u200b\\u200b\\u200b\\u200b\\u200b\\u200bAccumulated amortization — customer related\\u200b (1,337)\\u200b (1,180)\\u200bAccumulated amortization — patents \\u200b (502)\\u200b (499)\\u200bAccumulated amortization — other technology-based\\u200b (576)\\u200b (435)\\u200bAccumulated amortization — definite-lived tradenames\\u200b (367)\\u200b (316)\\u200bAccumulated amortization — other \\u200b (87)\\u200b (90)\\u200bTotal accumulated amortization \\u200b$ (2,869)\\u200b$ (2,520)\\u200b\\u200b\\u200b\\u200b\\u200b\\u200b\\u200b\\u200b\\u200bTotal finite-lived intangible assets — net \\u200b$ 5,288\\u200b$ 5,741\\u200b\\u200b\\u200b\\u200b\\u200b\\u200b\\u200b\\u200b\\u200bNon-amortizable intangible assets (primarily tradenames)\\u200b 638\\u200b 638\\u200bTotal intangible assets — net\\u200b$ 5,926\\u200b$ 6,379\\u200b\\u200bCertain tradenames acquired by 3M are not amortized because they have been in existence for over 60 years, have a history of leading-market share positions, have been and are intended to be continuously renewed, and the associated products of which are expected to generate cash flows for 3M for an indefinite period of time. As discussed in Note 13, 3M reflected an immaterial charge related to impairment of certain indefinite-lived assets in the first quarter of 2020.\\u200bAmortization expense for the three and nine months ended September 30, 2020 and 2019 follows:\\u200b\\u200b\\u200b\\u200b\\u200b\\u200b\\u200b\\u200b\\u200b\\u200b\\u200b\\u200b\\u200b\\u200b\\u200b\\u200b Three months ended Nine months ended \\u200b\\u200bSeptember 30, \\u200bSeptember 30, \\u200b(Millions) 2020 2019 2020\\u200b2019 Amortization expense \\u200b$ 137\\u200b$ 69\\u200b$ 405\\u200b$ 208\\u200b\\u200bExpected amortization expense for acquired amortizable intangible assets recorded as of September 30, 2020:\\u200b\\u200b\\u200b\\u200b\\u200b\\u200b\\u200b\\u200b\\u200b\\u200b\\u200b\\u200b\\u200b\\u200b\\u200b\\u200b\\u200b\\u200b\\u200b\\u200b\\u200b\\u200b\\u200b\\u200b\\u200b\\u200bRemainder of\\u200b\\u200b\\u200b\\u200b\\u200b\\u200b\\u200b\\u200b\\u200b\\u200b\\u200b\\u200b\\u200b\\u200b\\u200b\\u200bAfter (Millions)\\u200b2020\\u200b2021\\u200b2022\\u200b2023\\u200b2024\\u200b2025\\u200b2025 Amortization expense\\u200b$ 132\\u200b$ 524\\u200b$ 511\\u200b$ 485\\u200b$ 460\\u200b$ 428\\u200b$ 2,748\\u200b\\u200b15 Table of ContentsThe preceding expected amortization expense is an estimate. The divestiture-related restructuring actions were recorded in the income statement as follows:\\u200b\\u200b\\u200b\\u200b\\u200b\\u200b(Millions) Second Quarter 2020 Cost of sales\\u200b$ 42\\u200bSelling, general and administrative expenses\\u200b 12\\u200bResearch, development and related expenses\\u200b 1\\u200bTotal operating income impact\\u200b$ 55\\u200b\\u200bDivestiture-related restructuring actions, including cash and non-cash impacts, follow:\\u200b\\u200b\\u200b\\u200b\\u200b\\u200b\\u200b\\u200b\\u200b\\u200b\\u200b\\u200b(Millions) Employee-Related Asset-Related and Other Total Expense incurred in the second quarter of 2020\\u200b$ 32\\u200b$ 23\\u200b$ 55\\u200bNon-cash changes\\u200b\\u200b —\\u200b\\u200b (14)\\u200b\\u200b (14)\\u200bCash payments\\u200b (7)\\u200b —\\u200b (7)\\u200bAccrued divestiture-related restructuring action balances as of September 30, 2020\\u200b$ 25\\u200b$ 9\\u200b$ 34\\u200b\\u200bRemaining activities related to this divestiture-related restructuring are expected to be largely completed through the second quarter of 2021.\\u200bOther Restructuring\\u200bAdditionally, in the second quarter of 2020, management approved and committed to undertake certain restructuring actions addressing structural enterprise costs and operations in certain end markets as a result of the COVID-19 pandemic and related economic impacts. The restructuring charges were recorded in the income statement as follows:\\u200b\\u200b\\u200b\\u200b\\u200b\\u200b(Millions) Second Quarter 2020 Cost of sales\\u200b$ 13\\u200bSelling, general and administrative expenses\\u200b 37\\u200bResearch, development and related expenses\\u200b 8\\u200bTotal operating income impact\\u200b$ 58\\u200b\\u200b\\u200b16 Table of ContentsThe business segment operating income impact of these restructuring charges are summarized by business segment as follows:\\u200b\\u200b\\u200b\\u200b\\u200b\\u200b\\u200b\\u200b\\u200b\\u200b\\u200b\\u200b\\u200b\\u200bSecond Quarter 2020\\u200b(Millions) Employee-Related Asset-Related Total Safety and Industrial\\u200b$ 7\\u200b$ —\\u200b$ 7\\u200bTransportation and Electronics\\u200b\\u200b 11\\u200b\\u200b —\\u200b\\u200b 11\\u200bHealth Care\\u200b\\u200b 12\\u200b\\u200b —\\u200b\\u200b 12\\u200bConsumer\\u200b\\u200b 5\\u200b\\u200b —\\u200b\\u200b 5\\u200bCorporate and Unallocated\\u200b —\\u200b 23\\u200b 23\\u200bTotal Operating Expense\\u200b$ 35\\u200b$ 23\\u200b$ 58\\u200b\\u200bRestructuring actions, including cash and non-cash impacts, follow:\\u200b\\u200b\\u200b\\u200b\\u200b\\u200b\\u200b\\u200b\\u200b\\u200b\\u200b\\u200b(Millions) Employee-Related Asset-Related Total Expense incurred in the second quarter of 2020\\u200b$ 35\\u200b$ 23\\u200b$ 58\\u200bNon-cash changes\\u200b\\u200b —\\u200b\\u200b (23)\\u200b\\u200b (23)\\u200bAdjustments\\u200b\\u200b (9)\\u200b\\u200b —\\u200b\\u200b (9)\\u200bAccrued restructuring action balances as of September 30, 2020\\u200b$ 26\\u200b$ —\\u200b$ 26\\u200b\\u200bRemaining activities related to this restructuring are expected to be largely completed through the second quarter of 2021.\\u200b2019 Restructuring Actions:\\u200bAs described in Note 5 in 3M’s 2019 Annual Report on Form 10-K, during the second quarter of 2019, in light of slower than expected 2019 sales, management approved and committed to undertake certain restructuring actions. Remaining activities related to this restructuring are expected to be completed largely through early 2021.\\u200bNOTE 6. Components of net periodic benefit cost and other supplemental information for the three and nine months ended September 30, 2020 and 2019 follow:\\u200bBenefit Plan Information\\u200b\\u200b\\u200b\\u200b\\u200b\\u200b\\u200b\\u200b\\u200b\\u200b\\u200b\\u200b\\u200b\\u200b\\u200b\\u200b\\u200b\\u200b\\u200b\\u200b\\u200b\\u200b\\u200bThree months ended September 30, \\u200b\\u200bQualified and Non-qualified\\u200b\\u200b\\u200b\\u200b\\u200b\\u200b \\u200b\\u200bPension Benefits\\u200bPostretirement \\u200b\\u200bUnited StatesInternational\\u200bBenefits (Millions) 2020 2019 2020 2019 2020 2019 Net periodic benefit cost (benefit)\\u200b\\u200b\\u200b\\u200b\\u200b\\u200b\\u200b\\u200b\\u200b\\u200b\\u200b\\u200b\\u200b\\u200b\\u200b\\u200b\\u200b\\u200b\\u200bOperating expense\\u200b\\u200b\\u200b\\u200b\\u200b\\u200b\\u200b\\u200b\\u200b\\u200b\\u200b\\u200b\\u200b\\u200b\\u200b\\u200b\\u200b\\u200b\\u200bService cost \\u200b$ 66\\u200b$ 63\\u200b$ 39\\u200b$ 32\\u200b$ 11\\u200b$ 10\\u200bNon-operating expense\\u200b\\u200b\\u200b\\u200b\\u200b\\u200b\\u200b\\u200b\\u200b\\u200b\\u200b\\u200b\\u200b\\u200b\\u200b\\u200b\\u200b\\u200b\\u200bInterest cost \\u200b$ 124\\u200b$ 155\\u200b$ 31\\u200b$ 40\\u200b$ 16\\u200b$ 20\\u200bExpected return on plan assets \\u200b (255)\\u200b (260)\\u200b (77)\\u200b (75)\\u200b (20)\\u200b (20)\\u200bAmortization of transition asset\\u200b —\\u200b —\\u200b 1\\u200b —\\u200b —\\u200b —\\u200bAmortization of prior service benefit\\u200b (6)\\u200b (6)\\u200b (1)\\u200b (3)\\u200b (8)\\u200b (9)\\u200bAmortization of net actuarial loss \\u200b\\u200b 134\\u200b\\u200b 91\\u200b\\u200b 30\\u200b\\u200b 20\\u200b\\u200b 12\\u200b\\u200b 8\\u200bSettlements, curtailments, special termination benefits and other \\u200b —\\u200b —\\u200b —\\u200b —\\u200b 1\\u200b —\\u200bTotal non-operating expense (benefit)\\u200b\\u200b (3)\\u200b\\u200b (20)\\u200b\\u200b (16)\\u200b\\u200b (18)\\u200b\\u200b 1\\u200b\\u200b (1)\\u200bTotal net periodic benefit cost (benefit) \\u200b$ 63\\u200b$ 43\\u200b$ 23\\u200b$ 14\\u200b$ 12\\u200b$ 9\\u200b\\u200b\\u200b25 Table of Contents\\u200b\\u200b\\u200b\\u200b\\u200b\\u200b\\u200b\\u200b\\u200b\\u200b\\u200b\\u200b\\u200b\\u200b\\u200b\\u200b\\u200b\\u200b\\u200b\\u200b\\u200b\\u200b\\u200bNine months ended September 30, \\u200b\\u200bQualified and Non-qualified\\u200b\\u200b\\u200b\\u200b\\u200b\\u200b \\u200b\\u200bPension Benefits\\u200bPostretirement \\u200b\\u200bUnited StatesInternational\\u200bBenefits (Millions) 2020 2019 2020 2019 2020 2019 Net periodic benefit cost (benefit)\\u200b\\u200b\\u200b\\u200b\\u200b\\u200b\\u200b\\u200b\\u200b\\u200b\\u200b\\u200b\\u200b\\u200b\\u200b\\u200b\\u200b\\u200b\\u200bOperating expense\\u200b\\u200b\\u200b\\u200b\\u200b\\u200b\\u200b\\u200b\\u200b\\u200b\\u200b\\u200b\\u200b\\u200b\\u200b\\u200b\\u200b\\u200b\\u200bService cost \\u200b$ 197\\u200b$ 188\\u200b$ 115\\u200b$ 98\\u200b$ 33\\u200b$ 32\\u200bNon-operating expense\\u200b\\u200b\\u200b\\u200b\\u200b\\u200b\\u200b\\u200b\\u200b\\u200b\\u200b\\u200b\\u200b\\u200b\\u200b\\u200b\\u200b\\u200b\\u200bInterest cost \\u200b$ 374\\u200b$ 466\\u200b$ 95\\u200b$ 118\\u200b$ 48\\u200b$ 62\\u200bExpected return on plan assets \\u200b (765)\\u200b (780)\\u200b (231)\\u200b (225)\\u200b (60)\\u200b (61)\\u200bAmortization of transition asset\\u200b —\\u200b —\\u200b 2\\u200b —\\u200b —\\u200b —\\u200bAmortization of prior service benefit\\u200b (18)\\u200b (18)\\u200b (4)\\u200b (9)\\u200b (24)\\u200b (23)\\u200bAmortization of net actuarial loss \\u200b\\u200b 402\\u200b\\u200b 274\\u200b\\u200b 92\\u200b\\u200b 59\\u200b\\u200b 36\\u200b\\u200b 25\\u200bSettlements, curtailments, special termination benefits and other \\u200b —\\u200b 35\\u200b —\\u200b 1\\u200b 3\\u200b —\\u200bTotal non-operating expense (benefit)\\u200b\\u200b (7)\\u200b\\u200b (23)\\u200b\\u200b (46)\\u200b\\u200b (56)\\u200b\\u200b 3\\u200b\\u200b 3\\u200bTotal net periodic benefit cost (benefit) \\u200b$ 190\\u200b$ 165\\u200b$ 69\\u200b$ 42\\u200b$ 36\\u200b$ 35\\u200b\\u200bFor the nine months ended September 30, 2020 contributions totaling $119 million were made to the Company’s U.S. and international pension plans and $3 million to its postretirement plans. For total year 2020, the Company expects to contribute approximately $200 million of cash to its global defined benefit pension and postretirement plans. Based on exchange rates as of September 30, 2020, 3M expects to reclassify approximately $7 million, $3 million, and $4 million of the after-tax net unrealized cash flow hedging gains to earnings over the next 12 months, over the remainder of 2020, and in 2021, respectively, in addition to reclassifying approximately $98 million of the after-tax net unrealized cash flow hedging losses to earnings after 2021 (with the impact offset by earnings/losses from underlying hedged items).\\u200b27 Table of ContentsThe location in the consolidated statements of income and comprehensive income and amounts of gains and losses related to derivative instruments designated as cash flow hedges are provided in the following table. The Company expects that filing of claims by unimpaired claimants in the future will continue to be at much lower levels than in the past. These developments include, but are not limited to, significant changes in (i) the key assumptions underlying the Company’s accrual, including, the number of future claims, the nature and mix of those claims, the average cost of defending and resolving claims, and in maintaining trial readiness (ii) trial and appellate outcomes, (iii) the law and procedure applicable to these claims, and (iv) the financial viability of other co-defendants and insurers.\\u200bAs a result of its review of its respirator mask/asbestos liabilities, of pending and expected lawsuits and of the cost of resolving claims of persons who claim more serious injuries, including mesothelioma, other malignancies, and black lung disease, the Company increased its accruals in the first nine months of 2020 for respirator mask/asbestos liabilities by $23 million. During the first quarter of 2019, the Company recorded a pre-tax charge of $313 million in conjunction with an increase in the accrual as a result of the March and April 2019 settlements-in-principle of the coal mine dust lawsuits mentioned above and the Company’s assessment of other current and expected coal mine dust lawsuits (including the costs to resolve all current and expected coal mine dust lawsuits in Kentucky and West Virginia). The accrual reflects the Company’s assessment of pending and expected lawsuits, its review of its respirator mask/asbestos liabilities, and the cost of resolving claims of persons who claim more serious injuries. Lifetime health advisories, which are non-enforceable and non-regulatory, provide information about concentrations of drinking water contaminants at which adverse health effects are not expected to occur over the specified exposure duration. The state is seeking compensatory and punitive damages, and injunctive and equitable relief in the form of a monetary fund for the State’s reasonably expected future damages, and/or requiring defendants to perform investigative and remedial work.\\u200bOhio. The Company does not expect them to have a material impact on its consolidated results of operations or financial position. The Company expects that it will pay the amounts recorded over the periods of remediation for the applicable sites, currently ranging up to 20 years.\\u200bIt is difficult to estimate the cost of environmental compliance and remediation given the uncertainties regarding the interpretation and enforcement of applicable environmental laws and regulations, the extent of environmental contamination and the existence of alternative cleanup methods. Various factors could affect the timing and amount of recovery of this and future expected increases in the receivable, including (i) delays in or avoidance of payment by insurers; (ii) the extent to which insurers may become insolvent in the future, (iii) the outcome of negotiations with insurers, and (iv) the scope of the insurers’ purported defenses and exclusions to avoid coverage.\\u200bProduct Liability Litigation\\u200bAs of September 30, 2020, the Company was a named defendant in 22 lawsuits in the United States involving 25 plaintiffs and one Canadian putative class action with a single named plaintiff, alleging that the Bair Hugger™ patient warming system caused a surgical site infection. This expense is expected to be recognized over the remaining weighted-average vesting period of 21 months. \\u200bStock Option Assumptions\\u200b\\u200b\\u200b\\u200b\\u200b\\u200b\\u200b\\u200bAnnual\\u200b\\u200b 2020\\u200bExercise price\\u200b$ 157.24\\u200bRisk-free interest rate\\u200b 1.5%Dividend yield\\u200b 2.7%Expected volatility\\u200b 19.7%Expected life (months)\\u200b 78\\u200bBlack-Scholes fair value\\u200b$ 21.58\\u200b\\u200bExpected volatility is a statistical measure of the amount by which a stock price is expected to fluctuate during a period. For the 2020 annual grant date, the Company estimated the expected volatility based upon the following three volatilities of 3M stock: the median of the term of the expected life rolling volatility; the median of the most recent term of the expected life volatility; and the implied volatility on the grant date. The expected term assumption is based on the weighted average of historical grants.\\u200b\\u200b53 Table of ContentsRestricted Stock and Restricted Stock Units\\u200bThe following table summarizes restricted stock and restricted stock unit activity during the nine months ended September 30, 2020:\\u200b\\u200b\\u200b\\u200b\\u200b\\u200b\\u200b\\u200b\\u200b\\u200b\\u200b \\u200b Weighted \\u200b\\u200b\\u200b\\u200bAverage \\u200b\\u200bNumber of\\u200bGrant Date (Shares in thousands)\\u200bShares\\u200bFair Value Nonvested balance —\\u200b\\u200b\\u200b\\u200b\\u200b\\u200bAs of January 1 1,573\\u200b$ 201.11\\u200bGranted\\u200b\\u200b\\u200b\\u200b\\u200b\\u200bAnnual 733\\u200b 157.29\\u200bOther 41\\u200b 158.91\\u200bVested (560)\\u200b 176.21\\u200bForfeited (52)\\u200b 198.48\\u200bAs of September 30 1,735\\u200b$ 189.72\\u200b\\u200bAs of September 30, 2020, there was $96 million of compensation expense that has yet to be recognized related to non-vested restricted stock and restricted stock units. This expense is expected to be recognized over the remaining weighted-average vesting period of 24 months. This expense is expected to be recognized over the remaining weighted-average earnings period of 20 months. While it is not feasible to identify or quantify all the other direct and indirect implications on 3M’s results of operations, below are factors that 3M believes have also impacted its operating income for the third quarter and first nine months of 2020:\\u200bFactors contributing to charges:●Period expenses of unabsorbed manufacturing costs and increased expected credit losses on customer receivables.●Restructuring actions addressing structural enterprise costs and operations in certain end markets as a result of the COVID-19 pandemic and related economic impact resulting in a second quarter 2020 charge of $58 million (as further discussed in Note 5).●Committed financial support to various COVID-relief and medical research initiatives.●Charge of $22 million related to equity securities as discussed in the “Assets and Liabilities that are Measured at Fair Value on a Nonrecurring Basis” section of Note 13 that use the measurement alternative described therein in addition to an immaterial pre-tax charge related to impairment of certain indefinite lived tradenames in the first quarter of 2020. The Company generates significant ongoing cash flow and has proven access to capital markets funding throughout business cycles.\\u200b3M expects to contribute approximately $200 million of cash to its global defined benefit pension and postretirement plans in 2020. \\u200bRESULTS OF OPERATIONS\\u200bNet Sales:\\u200bRefer to the preceding “Overview” section and the “Performance by Business Segment” section later in MD&A for additional discussion of sales change.\\u200bOperating Expenses:\\u200b\\u200b\\u200b\\u200b\\u200b\\u200b\\u200b\\u200b\\u200b\\u200b\\u200b\\u200b\\u200b\\u200b\\u200b\\u200b Three months ended Nine months ended \\u200b\\u200bSeptember 30, \\u200bSeptember 30, \\u200b(Percent of net sales)\\u200b2020\\u200b2019\\u200bChange\\u200b2020\\u200b2019 Change Cost of sales 51.5% 52.4% (0.9)% 51.7% 53.3% (1.6)%Selling, general and administrative expenses 20.1\\u200b 18.2\\u200b 1.9\\u200b 21.4\\u200b 21.2\\u200b 0.2\\u200bResearch, development and related expenses 5.5\\u200b 5.5\\u200b —\\u200b 6.0\\u200b 5.8\\u200b 0.2\\u200bGain on sale of businesses\\u200b —\\u200b (1.3)\\u200b 1.3\\u200b (1.6)\\u200b (0.5)\\u200b (1.1)\\u200bOperating income margin 22.9% 25.2% (2.3)% 22.5% 20.2% 2.3%\\u200b3M expects global defined benefit pension and postretirement service cost expense in 2020 to increase by approximately $34 million pre-tax when compared to 2019, which impacts cost of sales; selling, general and administrative expenses (SG&A); and research, development and related expenses (R&D). Balance changes in current liabilities increased working capital by $1.8 billion, primarily due to decreases in short-term borrowing and the current portion of long-term debt.\\u200bAccounts receivable decreased $168 million compared to December 31, 2019, primarily due to lower sales in 2020 in relation to sales in the fourth quarter 2019 and increased expected credit losses on customer receivables related to COVID-19 uncertainty. The Company expects full-year 2020 estimated capital spending to be approximately $1.4 billion to $1.5 billion (which was further updated in the third quarter of 2020 versus original guidance of $1.6 billion to $1.8 billion) as 3M 80 Table of Contentsreduces overall spending in light of uncertainty regarding COVID-19, but continues to invest in expanding the Company’s ability to increase production of respiratory products to meet worldwide demand.\\u200b3M invests in renewal and maintenance programs, which pertain to cost reduction, cycle time, maintaining and renewing current capacity, eliminating pollution, and compliance. In addition, the Company’s representatives may from time to time make oral forward-looking statements.\\u200bForward-looking statements relate to future events and typically address the Company’s expected future business and financial performance. Words such as “plan,” “expect,” “aim,” “believe,” “project,” “target,” “anticipate,” “intend,” “estimate,” “will,” “should,” “could,” “forecast” and other words and terms of similar meaning, typically identify such forward-looking statements. In particular, these include, among others, statements relating to:●worldwide economic, political, regulatory, capital markets and other external conditions, such as interest rates, foreign currency exchange rates, financial conditions of our suppliers and customers, trade restrictions such as tariffs in addition to retaliatory counter measures, and natural and other disasters or climate change affecting the operations of the Company or our suppliers and customers,●risks related to public health crises such as the global pandemic associated with the coronavirus (COVID-19),●liabilities related to certain fluorochemicals and the outcome of contingencies, such as legal and regulatory proceedings,●the Company’s strategy for growth, future revenues, earnings, cash flow, uses of cash and other measures of financial performance, and market position,●competitive conditions and customer preferences,●foreign currency exchange rates and fluctuations in those rates,●new business opportunities, product development, and future performance or results of current or anticipated products,●fluctuations in the costs and availability of purchased components, compounds, raw materials and energy,●Information technology systems including ERP system roll-out and implementations,●Security breaches and other disruptions to information technology infrastructure,●the scope, nature or impact of acquisition, strategic alliance and divestiture activities,●Operational execution, including inability to generate productivity improvements as estimated,●future levels of indebtedness, common stock repurchases and capital spending,●future availability of and access to credit markets,●pension and postretirement obligation assumptions and future contributions, ●asset impairments, ●tax liabilities, and●the effects of changes in tax (including the Tax Cuts and Jobs Act), environmental and other laws and regulations in the United States and other countries in which we operate.\\u200bThe Company assumes no obligation to update or revise any forward-looking statements.\\u200bForward-looking statements are based on certain assumptions and expectations of future events and trends that are subject to risks and uncertainties. There was no change in the Company’s internal control over financial reporting that occurred during the Company’s most recently completed fiscal quarter that has materially affected, or is reasonably likely to materially affect, the Company’s internal control over financial reporting.\\u200bThe Company is implementing an enterprise resource planning (“ERP”) system on a worldwide basis, which is expected to improve the efficiency of certain financial and related transaction processes. The gradual implementation is expected to occur in phases over the next several years. Legal compliance risks also include third-party risks where the Company’s suppliers, vendors or channel partners have business practices that are inconsistent with 3M’s Supplier Responsibility Code, 3M performance requirements or with legal requirements.86 Table of ContentsThe outcome of these legal proceedings may differ from the Company’s expectations because the outcomes of litigation, including regulatory matters, are often difficult to reliably predict. While we have experienced, and expect to continue to experience, threats and disruptions to the Company’s information technology infrastructure, none of them to date has had a material impact to the Company. In addition, ability to adapt to business model and other changes and agility to respond to customer needs and service expectations are important, which, if not done successfully, could negatively impact the Company’s ability to win new business and enhance revenue and 3M’s brand.',\n",
              " 45)"
            ]
          },
          "metadata": {
            "tags": []
          },
          "execution_count": 27
        }
      ]
    },
    {
      "cell_type": "code",
      "metadata": {
        "id": "MtrZQPFvWdHF"
      },
      "source": [
        ""
      ],
      "execution_count": null,
      "outputs": []
    },
    {
      "cell_type": "code",
      "metadata": {
        "colab": {
          "base_uri": "https://localhost:8080/",
          "height": 510
        },
        "id": "9gdvxLN-X_8o",
        "scrolled": true,
        "outputId": "e88dad96-05db-4a4a-e31c-b10c47e532da"
      },
      "source": [
        "%%time\n",
        "\n",
        "# for i in tqdm(document.keys()):\n",
        "  # for ii in (document[i].keys()): \n",
        "  # for ii in (document[i]['10Q'].keys()):                                      # переделал под 10Q\n",
        "for i in tqdm(list(document.keys())[:100]):\n",
        "  for ii in list(document[i]['10Q'].keys())[:]:                                  # Добавил 10Q\n",
        "    \n",
        "    # if 'item_7_raw' in document[i][ii].keys() and (len(document[i][ii]['item_7_raw']) > 20000 and len(document[i][ii]['item_7_raw']) < 200000):\n",
        "    if 'item_2_raw' in document[i]['10Q'][ii].keys(): #and (len(document[i][ii]['item_7_raw']) > 20000 and len(document[i][ii]['item_7_raw']) < 200000):  \n",
        "      e, l = exp(document[i]['10Q'][ii]['item_2_raw'])\n",
        "      document[i]['10Q'][ii]['expect_2'] = e\n",
        "      document[i]['10Q'][ii]['len_ex_2'] = l\n",
        "      # document[i][ii]['affect_frequencies_7_row'] = {}\n",
        "      # document[i][ii]['aff_frequencies_7_row'] = NRCLex(document[i][ii]['item_7_raw']).affect_frequencies\n",
        "      document[i]['10Q'][ii]['aff_expOF7'] = NRCLex(document[i]['10Q'][ii]['expect_2']).affect_frequencies\n",
        "\n",
        "      # document[i]['10Q'][ii]['affect_frequencies_2_row'] = {}\n",
        "      # document[i]['10Q'][ii]['affect_frequencies_2_row'] = NRCLex(document[i]['10Q'][ii]['item_2_raw']).affect_frequencies\n",
        "\n",
        "\n",
        "\n"
      ],
      "execution_count": null,
      "outputs": [
        {
          "output_type": "error",
          "ename": "NameError",
          "evalue": "ignored",
          "traceback": [
            "\u001b[0;31m---------------------------------------------------------------------------\u001b[0m",
            "\u001b[0;31mNameError\u001b[0m                                 Traceback (most recent call last)",
            "\u001b[0;32m<ipython-input-1-66638ff4590c>\u001b[0m in \u001b[0;36m<module>\u001b[0;34m()\u001b[0m\n\u001b[0;32m----> 1\u001b[0;31m \u001b[0mget_ipython\u001b[0m\u001b[0;34m(\u001b[0m\u001b[0;34m)\u001b[0m\u001b[0;34m.\u001b[0m\u001b[0mrun_cell_magic\u001b[0m\u001b[0;34m(\u001b[0m\u001b[0;34m'time'\u001b[0m\u001b[0;34m,\u001b[0m \u001b[0;34m''\u001b[0m\u001b[0;34m,\u001b[0m \u001b[0;34m\"\\n# for i in tqdm(document.keys()):\\n  # for ii in (document[i].keys()): \\n  # for ii in (document[i]['10Q'].keys()):                                      # переделал под 10Q\\nfor i in tqdm(list(document.keys())[:100]):\\n  for ii in list(document[i]['10Q'].keys())[:]:                                  # Добавил 10Q\\n    \\n    # if 'item_7_raw' in document[i][ii].keys() and (len(document[i][ii]['item_7_raw']) > 20000 and len(document[i][ii]['item_7_raw']) < 200000):\\n    if 'item_2_raw' in document[i]['10Q'][ii].keys(): #and (len(document[i][ii]['item_7_raw']) > 20000 and len(document[i][ii]['item_7_raw']) < 200000):  \\n      e, l = exp(document[i]['10Q'][ii]['item_2_raw'])\\n      document[i]['10Q'][ii]['expect_2'] = e\\n      document[i]['10Q'][ii]['len_ex_2'] = l\\n      # document[i][ii]['affect_frequencies_7_row'] = {}\\n      # document[i][ii]['aff_frequencies_7_row'] = NRCLex(document[i][ii]['item_7_raw']).affect_frequencies\\n      document[i]['10Q'][ii]['aff_expOF7'] = NRCLex(document[i]['10Q'][ii]['expect_2']).affect_frequencies\\n\\n      # document[i]['10Q'][ii]['affect_frequencies_2_row'] = {}\\n      # document[i]['10Q'][ii]['affect_frequencies_2_row'] = NRCLex(document[i]['10Q'][ii]['item_2_raw']).affect_frequencies\\n\\n\\n\"\u001b[0m\u001b[0;34m)\u001b[0m\u001b[0;34m\u001b[0m\u001b[0;34m\u001b[0m\u001b[0m\n\u001b[0m",
            "\u001b[0;32m/usr/local/lib/python3.7/dist-packages/IPython/core/interactiveshell.py\u001b[0m in \u001b[0;36mrun_cell_magic\u001b[0;34m(self, magic_name, line, cell)\u001b[0m\n\u001b[1;32m   2115\u001b[0m             \u001b[0mmagic_arg_s\u001b[0m \u001b[0;34m=\u001b[0m \u001b[0mself\u001b[0m\u001b[0;34m.\u001b[0m\u001b[0mvar_expand\u001b[0m\u001b[0;34m(\u001b[0m\u001b[0mline\u001b[0m\u001b[0;34m,\u001b[0m \u001b[0mstack_depth\u001b[0m\u001b[0;34m)\u001b[0m\u001b[0;34m\u001b[0m\u001b[0;34m\u001b[0m\u001b[0m\n\u001b[1;32m   2116\u001b[0m             \u001b[0;32mwith\u001b[0m \u001b[0mself\u001b[0m\u001b[0;34m.\u001b[0m\u001b[0mbuiltin_trap\u001b[0m\u001b[0;34m:\u001b[0m\u001b[0;34m\u001b[0m\u001b[0;34m\u001b[0m\u001b[0m\n\u001b[0;32m-> 2117\u001b[0;31m                 \u001b[0mresult\u001b[0m \u001b[0;34m=\u001b[0m \u001b[0mfn\u001b[0m\u001b[0;34m(\u001b[0m\u001b[0mmagic_arg_s\u001b[0m\u001b[0;34m,\u001b[0m \u001b[0mcell\u001b[0m\u001b[0;34m)\u001b[0m\u001b[0;34m\u001b[0m\u001b[0;34m\u001b[0m\u001b[0m\n\u001b[0m\u001b[1;32m   2118\u001b[0m             \u001b[0;32mreturn\u001b[0m \u001b[0mresult\u001b[0m\u001b[0;34m\u001b[0m\u001b[0;34m\u001b[0m\u001b[0m\n\u001b[1;32m   2119\u001b[0m \u001b[0;34m\u001b[0m\u001b[0m\n",
            "\u001b[0;32m<decorator-gen-53>\u001b[0m in \u001b[0;36mtime\u001b[0;34m(self, line, cell, local_ns)\u001b[0m\n",
            "\u001b[0;32m/usr/local/lib/python3.7/dist-packages/IPython/core/magic.py\u001b[0m in \u001b[0;36m<lambda>\u001b[0;34m(f, *a, **k)\u001b[0m\n\u001b[1;32m    186\u001b[0m     \u001b[0;31m# but it's overkill for just that one bit of state.\u001b[0m\u001b[0;34m\u001b[0m\u001b[0;34m\u001b[0m\u001b[0;34m\u001b[0m\u001b[0m\n\u001b[1;32m    187\u001b[0m     \u001b[0;32mdef\u001b[0m \u001b[0mmagic_deco\u001b[0m\u001b[0;34m(\u001b[0m\u001b[0marg\u001b[0m\u001b[0;34m)\u001b[0m\u001b[0;34m:\u001b[0m\u001b[0;34m\u001b[0m\u001b[0;34m\u001b[0m\u001b[0m\n\u001b[0;32m--> 188\u001b[0;31m         \u001b[0mcall\u001b[0m \u001b[0;34m=\u001b[0m \u001b[0;32mlambda\u001b[0m \u001b[0mf\u001b[0m\u001b[0;34m,\u001b[0m \u001b[0;34m*\u001b[0m\u001b[0ma\u001b[0m\u001b[0;34m,\u001b[0m \u001b[0;34m**\u001b[0m\u001b[0mk\u001b[0m\u001b[0;34m:\u001b[0m \u001b[0mf\u001b[0m\u001b[0;34m(\u001b[0m\u001b[0;34m*\u001b[0m\u001b[0ma\u001b[0m\u001b[0;34m,\u001b[0m \u001b[0;34m**\u001b[0m\u001b[0mk\u001b[0m\u001b[0;34m)\u001b[0m\u001b[0;34m\u001b[0m\u001b[0;34m\u001b[0m\u001b[0m\n\u001b[0m\u001b[1;32m    189\u001b[0m \u001b[0;34m\u001b[0m\u001b[0m\n\u001b[1;32m    190\u001b[0m         \u001b[0;32mif\u001b[0m \u001b[0mcallable\u001b[0m\u001b[0;34m(\u001b[0m\u001b[0marg\u001b[0m\u001b[0;34m)\u001b[0m\u001b[0;34m:\u001b[0m\u001b[0;34m\u001b[0m\u001b[0;34m\u001b[0m\u001b[0m\n",
            "\u001b[0;32m/usr/local/lib/python3.7/dist-packages/IPython/core/magics/execution.py\u001b[0m in \u001b[0;36mtime\u001b[0;34m(self, line, cell, local_ns)\u001b[0m\n\u001b[1;32m   1191\u001b[0m         \u001b[0;32melse\u001b[0m\u001b[0;34m:\u001b[0m\u001b[0;34m\u001b[0m\u001b[0;34m\u001b[0m\u001b[0m\n\u001b[1;32m   1192\u001b[0m             \u001b[0mst\u001b[0m \u001b[0;34m=\u001b[0m \u001b[0mclock2\u001b[0m\u001b[0;34m(\u001b[0m\u001b[0;34m)\u001b[0m\u001b[0;34m\u001b[0m\u001b[0;34m\u001b[0m\u001b[0m\n\u001b[0;32m-> 1193\u001b[0;31m             \u001b[0mexec\u001b[0m\u001b[0;34m(\u001b[0m\u001b[0mcode\u001b[0m\u001b[0;34m,\u001b[0m \u001b[0mglob\u001b[0m\u001b[0;34m,\u001b[0m \u001b[0mlocal_ns\u001b[0m\u001b[0;34m)\u001b[0m\u001b[0;34m\u001b[0m\u001b[0;34m\u001b[0m\u001b[0m\n\u001b[0m\u001b[1;32m   1194\u001b[0m             \u001b[0mend\u001b[0m \u001b[0;34m=\u001b[0m \u001b[0mclock2\u001b[0m\u001b[0;34m(\u001b[0m\u001b[0;34m)\u001b[0m\u001b[0;34m\u001b[0m\u001b[0;34m\u001b[0m\u001b[0m\n\u001b[1;32m   1195\u001b[0m             \u001b[0mout\u001b[0m \u001b[0;34m=\u001b[0m \u001b[0;32mNone\u001b[0m\u001b[0;34m\u001b[0m\u001b[0;34m\u001b[0m\u001b[0m\n",
            "\u001b[0;32m<timed exec>\u001b[0m in \u001b[0;36m<module>\u001b[0;34m()\u001b[0m\n",
            "\u001b[0;31mNameError\u001b[0m: name 'tqdm' is not defined"
          ]
        }
      ]
    },
    {
      "cell_type": "markdown",
      "metadata": {
        "id": "HelnoO1-X_8p"
      },
      "source": [
        "# Сбор информации в датафрейм\n",
        "##  БЕРЕМ DOCUMENT И ИЗ НЕГО ВЫЬТАСКИВАЕМ ДАТЫ И СИМБОЛЫ.\n",
        "\n"
      ]
    },
    {
      "cell_type": "code",
      "metadata": {
        "colab": {
          "base_uri": "https://localhost:8080/"
        },
        "id": "56hO3IfcX_8p",
        "scrolled": true,
        "outputId": "bf8516d0-4013-4a01-8512-15cc800b576c"
      },
      "source": [
        "%%time\n",
        "\n",
        "n = 0\n",
        "nn= 0\n",
        "affe = []\n",
        "plot_1 = []\n",
        "date = []\n",
        "symb = []\n",
        "len7 = []\n",
        "dona = []\n",
        "bert = []\n",
        "fin_bert = []\n",
        "pip_bert = []\n",
        "len_10k = []\n",
        "exp_7 = []\n",
        "len_exp_7 = []\n",
        "\n",
        "\n",
        "# for ii in ['AMZN']: # БЕРЕМ STOCK_FOR ПОТОМУ ЧТО ТОЛЬКО ТАМ ITEM7=50K \n",
        "for ii in tqdm(list(document.keys())[:]): \n",
        "    # display(ii)\n",
        "    for i in [d for d in document[ii].keys() if d != '10Q']:  #['2020-02-24', '2019-02-25', '2018-02-13', '2017-02-21']:\n",
        "      n+=1\n",
        "      date.append(i)\n",
        "      symb.append(ii)\n",
        "      affe.append((document[ii][i]['affect_frequencies_7_row']))\n",
        "      dona.append((document[ii][i]['McDonald']))\n",
        "      # bert.append((document[ii][i]['bert_negative']))\n",
        "      fin_bert.append((document[ii][i]['finBert']))\n",
        "      pip_bert.append((document[ii][i]['bert_negative']))\n",
        "      len7.append(len(document[ii][i]['item_7_raw']))\n",
        "      exp_7.append((document[ii][i]['aff_expOF7']))\n",
        "      len_exp_7.append((document[ii][i]['len_ex_7']))\n",
        "\n",
        "\n",
        "\n"
      ],
      "execution_count": null,
      "outputs": [
        {
          "output_type": "stream",
          "text": [
            "100%|██████████| 505/505 [00:00<00:00, 59678.90it/s]"
          ],
          "name": "stderr"
        },
        {
          "output_type": "stream",
          "text": [
            "CPU times: user 11.6 ms, sys: 0 ns, total: 11.6 ms\n",
            "Wall time: 13.9 ms\n"
          ],
          "name": "stdout"
        },
        {
          "output_type": "stream",
          "text": [
            "\n"
          ],
          "name": "stderr"
        }
      ]
    },
    {
      "cell_type": "code",
      "metadata": {
        "colab": {
          "base_uri": "https://localhost:8080/",
          "height": 102
        },
        "id": "-x3E_voCxTsl",
        "outputId": "f05a4133-3663-4035-ff89-d339304d9204"
      },
      "source": [
        "# for 10Q\r\n",
        "len_item_2 = []\r\n",
        "affe_item_2 = []\r\n",
        "date2 = []\r\n",
        "symb2 = []\r\n",
        "numb_aff = []\r\n",
        "\r\n",
        "n = 0\r\n",
        "d = 0\r\n",
        "# for ii in ['AMZN']: # БЕРЕМ STOCK_FOR ПОТОМУ ЧТО ТОЛЬКО ТАМ ITEM7=50K \r\n",
        "for ii in tqdm(list(document.keys())[:]): \r\n",
        "    # display(ii)\r\n",
        "    for i in document[ii]['10Q'].keys():\r\n",
        "      n+=1\r\n",
        "      if 'affect' in document[ii]['10Q'][i]:\r\n",
        "        d+=1\r\n",
        "        affe_item_2.append((document[ii]['10Q'][i]['affect']))\r\n",
        "        len_item_2.append ((document[ii]['10Q'][i]['len_2item']))\r\n",
        "        numb_aff.append ((document[ii]['10Q'][i]['numb_aff']))\r\n",
        "        date2.append(i)\r\n",
        "        symb2.append(ii)\r\n",
        "display(n,d, pd.Series(date2).size)"
      ],
      "execution_count": null,
      "outputs": [
        {
          "output_type": "stream",
          "text": [
            "\n",
            "100%|██████████| 505/505 [00:00<00:00, 21171.71it/s]\n"
          ],
          "name": "stderr"
        },
        {
          "output_type": "display_data",
          "data": {
            "text/plain": [
              "18584"
            ]
          },
          "metadata": {
            "tags": []
          }
        },
        {
          "output_type": "display_data",
          "data": {
            "text/plain": [
              "12270"
            ]
          },
          "metadata": {
            "tags": []
          }
        },
        {
          "output_type": "display_data",
          "data": {
            "text/plain": [
              "12270"
            ]
          },
          "metadata": {
            "tags": []
          }
        }
      ]
    },
    {
      "cell_type": "code",
      "metadata": {
        "colab": {
          "base_uri": "https://localhost:8080/",
          "height": 85
        },
        "id": "eDNCuA2HQMZ5",
        "outputId": "12ad0f42-6dca-4943-a33b-7d62437b5a07"
      },
      "source": [
        "# for Byes\r\n",
        "\r\n",
        "dateb = []\r\n",
        "symbb = []\r\n",
        "item7 = []\r\n",
        "\r\n",
        "\r\n",
        "n = 0\r\n",
        "d = 0\r\n",
        "# for ii in ['AMZN']: # БЕРЕМ STOCK_FOR ПОТОМУ ЧТО ТОЛЬКО ТАМ ITEM7=50K \r\n",
        "for ii in tqdm(list(document.keys())[:]): \r\n",
        "    # display(ii)\r\n",
        "    for i in document[ii].keys():\r\n",
        "      n+=1\r\n",
        "      if 'item_7_raw' in document[ii][i]:\r\n",
        "        d+=1\r\n",
        "        item7.append((document[ii][i]['item_7_raw']))\r\n",
        "        dateb.append(i)\r\n",
        "        symbb.append(ii)\r\n",
        "display(n,d, pd.Series(dateb).size)"
      ],
      "execution_count": null,
      "outputs": [
        {
          "output_type": "stream",
          "text": [
            "100%|██████████| 505/505 [00:00<00:00, 80347.60it/s]\n"
          ],
          "name": "stderr"
        },
        {
          "output_type": "display_data",
          "data": {
            "text/plain": [
              "2211"
            ]
          },
          "metadata": {
            "tags": []
          }
        },
        {
          "output_type": "display_data",
          "data": {
            "text/plain": [
              "2211"
            ]
          },
          "metadata": {
            "tags": []
          }
        },
        {
          "output_type": "display_data",
          "data": {
            "text/plain": [
              "2211"
            ]
          },
          "metadata": {
            "tags": []
          }
        }
      ]
    },
    {
      "cell_type": "code",
      "metadata": {
        "colab": {
          "base_uri": "https://localhost:8080/"
        },
        "id": "TJ3iBk3lX_8p",
        "outputId": "b6b03215-9602-4d23-ed9b-76707e84f59e"
      },
      "source": [
        "print('affect_frequencies_7_row: {0} \\r\\nbert: {1} \\r\\ndate: {2} \\r\\nMcDonald: {3} \\r\\nlen7: {4} \\r\\nfin_bert: {5} \\r\\npip_bert: {6} \\r\\nexp_7: {7}'.format(\\\r\n",
        "pd.Series(affe).size,pd.Series(bert, dtype=float).size, \\\r\n",
        "pd.Series(date).size,pd.Series(dona).size,pd.Series(len7).size, pd.Series(fin_bert).size, pd.Series(pip_bert).size, pd.Series(exp_7).size))"
      ],
      "execution_count": null,
      "outputs": [
        {
          "output_type": "stream",
          "text": [
            "affect_frequencies_7_row: 2211 \r\n",
            "bert: 0 \r\n",
            "date: 2211 \r\n",
            "McDonald: 2211 \r\n",
            "len7: 2211 \r\n",
            "fin_bert: 2211 \r\n",
            "pip_bert: 2211 \r\n",
            "exp_7: 2211\n"
          ],
          "name": "stdout"
        }
      ]
    },
    {
      "cell_type": "markdown",
      "metadata": {
        "id": "07aKbpwLX_8q"
      },
      "source": [
        "# СОздали общие стобцы и смерджили plot  and stock\n"
      ]
    },
    {
      "cell_type": "markdown",
      "metadata": {
        "id": "fWNIPdR40nqK"
      },
      "source": [
        "#### Группировка для БАйеса"
      ]
    },
    {
      "cell_type": "markdown",
      "metadata": {
        "id": "Fd7RIUpxYLOX"
      },
      "source": [
        "###### 1 attempt"
      ]
    },
    {
      "cell_type": "code",
      "metadata": {
        "colab": {
          "base_uri": "https://localhost:8080/",
          "height": 1000
        },
        "id": "VZgQbrHjZ9p5",
        "outputId": "433cbec2-48eb-4c1d-a59d-e0a92a424ff4"
      },
      "source": [
        "pivo = pd.pivot_table(stock,\r\n",
        "               index  = ['Date', 'Symbol'],\r\n",
        "               values = '250_%'\r\n",
        "               )\r\n",
        "# pivo.sort_values(by = '250_%')\r\n",
        "pivo = pivo.reset_index().sort_values(['Date','250_%'], ascending=[1,0])\r\n",
        "      # .set_index(['month','country'])\r\n",
        "pivo"
      ],
      "execution_count": null,
      "outputs": [
        {
          "output_type": "error",
          "ename": "KeyboardInterrupt",
          "evalue": "ignored",
          "traceback": [
            "\u001b[1;31m---------------------------------------------------------------------------\u001b[0m",
            "\u001b[1;31mKeyboardInterrupt\u001b[0m                         Traceback (most recent call last)",
            "\u001b[1;32m<ipython-input-70-d844bcca6ffe>\u001b[0m in \u001b[0;36m<module>\u001b[1;34m\u001b[0m\n\u001b[0;32m      4\u001b[0m                )\n\u001b[0;32m      5\u001b[0m \u001b[1;31m# pivo.sort_values(by = '250_%')\u001b[0m\u001b[1;33m\u001b[0m\u001b[1;33m\u001b[0m\u001b[1;33m\u001b[0m\u001b[0m\n\u001b[1;32m----> 6\u001b[1;33m \u001b[0mpivo\u001b[0m \u001b[1;33m=\u001b[0m \u001b[0mpivo\u001b[0m\u001b[1;33m.\u001b[0m\u001b[0mreset_index\u001b[0m\u001b[1;33m(\u001b[0m\u001b[1;33m)\u001b[0m\u001b[1;33m.\u001b[0m\u001b[0msort_values\u001b[0m\u001b[1;33m(\u001b[0m\u001b[1;33m[\u001b[0m\u001b[1;34m'Date'\u001b[0m\u001b[1;33m,\u001b[0m\u001b[1;34m'250_%'\u001b[0m\u001b[1;33m]\u001b[0m\u001b[1;33m,\u001b[0m \u001b[0mascending\u001b[0m\u001b[1;33m=\u001b[0m\u001b[1;33m[\u001b[0m\u001b[1;36m1\u001b[0m\u001b[1;33m,\u001b[0m\u001b[1;36m0\u001b[0m\u001b[1;33m]\u001b[0m\u001b[1;33m)\u001b[0m\u001b[1;33m\u001b[0m\u001b[1;33m\u001b[0m\u001b[0m\n\u001b[0m\u001b[0;32m      7\u001b[0m       \u001b[1;31m# .set_index(['month','country'])\u001b[0m\u001b[1;33m\u001b[0m\u001b[1;33m\u001b[0m\u001b[1;33m\u001b[0m\u001b[0m\n\u001b[0;32m      8\u001b[0m \u001b[0mpivo\u001b[0m\u001b[1;33m\u001b[0m\u001b[1;33m\u001b[0m\u001b[0m\n",
            "\u001b[1;32m~\\anaconda3.1\\envs\\ml\\lib\\site-packages\\pandas\\core\\frame.py\u001b[0m in \u001b[0;36msort_values\u001b[1;34m(self, by, axis, ascending, inplace, kind, na_position, ignore_index)\u001b[0m\n\u001b[0;32m   4919\u001b[0m \u001b[1;33m\u001b[0m\u001b[0m\n\u001b[0;32m   4920\u001b[0m             \u001b[0mkeys\u001b[0m \u001b[1;33m=\u001b[0m \u001b[1;33m[\u001b[0m\u001b[0mself\u001b[0m\u001b[1;33m.\u001b[0m\u001b[0m_get_label_or_level_values\u001b[0m\u001b[1;33m(\u001b[0m\u001b[0mx\u001b[0m\u001b[1;33m,\u001b[0m \u001b[0maxis\u001b[0m\u001b[1;33m=\u001b[0m\u001b[0maxis\u001b[0m\u001b[1;33m)\u001b[0m \u001b[1;32mfor\u001b[0m \u001b[0mx\u001b[0m \u001b[1;32min\u001b[0m \u001b[0mby\u001b[0m\u001b[1;33m]\u001b[0m\u001b[1;33m\u001b[0m\u001b[1;33m\u001b[0m\u001b[0m\n\u001b[1;32m-> 4921\u001b[1;33m             \u001b[0mindexer\u001b[0m \u001b[1;33m=\u001b[0m \u001b[0mlexsort_indexer\u001b[0m\u001b[1;33m(\u001b[0m\u001b[0mkeys\u001b[0m\u001b[1;33m,\u001b[0m \u001b[0morders\u001b[0m\u001b[1;33m=\u001b[0m\u001b[0mascending\u001b[0m\u001b[1;33m,\u001b[0m \u001b[0mna_position\u001b[0m\u001b[1;33m=\u001b[0m\u001b[0mna_position\u001b[0m\u001b[1;33m)\u001b[0m\u001b[1;33m\u001b[0m\u001b[1;33m\u001b[0m\u001b[0m\n\u001b[0m\u001b[0;32m   4922\u001b[0m             \u001b[0mindexer\u001b[0m \u001b[1;33m=\u001b[0m \u001b[0mensure_platform_int\u001b[0m\u001b[1;33m(\u001b[0m\u001b[0mindexer\u001b[0m\u001b[1;33m)\u001b[0m\u001b[1;33m\u001b[0m\u001b[1;33m\u001b[0m\u001b[0m\n\u001b[0;32m   4923\u001b[0m         \u001b[1;32melse\u001b[0m\u001b[1;33m:\u001b[0m\u001b[1;33m\u001b[0m\u001b[1;33m\u001b[0m\u001b[0m\n",
            "\u001b[1;32m~\\anaconda3.1\\envs\\ml\\lib\\site-packages\\pandas\\core\\sorting.py\u001b[0m in \u001b[0;36mlexsort_indexer\u001b[1;34m(keys, orders, na_position)\u001b[0m\n\u001b[0;32m    213\u001b[0m         \u001b[1;31m# create the Categorical\u001b[0m\u001b[1;33m\u001b[0m\u001b[1;33m\u001b[0m\u001b[1;33m\u001b[0m\u001b[0m\n\u001b[0;32m    214\u001b[0m         \u001b[1;32melse\u001b[0m\u001b[1;33m:\u001b[0m\u001b[1;33m\u001b[0m\u001b[1;33m\u001b[0m\u001b[0m\n\u001b[1;32m--> 215\u001b[1;33m             \u001b[0mcat\u001b[0m \u001b[1;33m=\u001b[0m \u001b[0mCategorical\u001b[0m\u001b[1;33m(\u001b[0m\u001b[0mkey\u001b[0m\u001b[1;33m,\u001b[0m \u001b[0mordered\u001b[0m\u001b[1;33m=\u001b[0m\u001b[1;32mTrue\u001b[0m\u001b[1;33m)\u001b[0m\u001b[1;33m\u001b[0m\u001b[1;33m\u001b[0m\u001b[0m\n\u001b[0m\u001b[0;32m    216\u001b[0m \u001b[1;33m\u001b[0m\u001b[0m\n\u001b[0;32m    217\u001b[0m         \u001b[1;32mif\u001b[0m \u001b[0mna_position\u001b[0m \u001b[1;32mnot\u001b[0m \u001b[1;32min\u001b[0m \u001b[1;33m[\u001b[0m\u001b[1;34m\"last\"\u001b[0m\u001b[1;33m,\u001b[0m \u001b[1;34m\"first\"\u001b[0m\u001b[1;33m]\u001b[0m\u001b[1;33m:\u001b[0m\u001b[1;33m\u001b[0m\u001b[1;33m\u001b[0m\u001b[0m\n",
            "\u001b[1;32m~\\anaconda3.1\\envs\\ml\\lib\\site-packages\\pandas\\core\\arrays\\categorical.py\u001b[0m in \u001b[0;36m__init__\u001b[1;34m(self, values, categories, ordered, dtype, fastpath)\u001b[0m\n\u001b[0;32m    353\u001b[0m         \u001b[1;32mif\u001b[0m \u001b[0mdtype\u001b[0m\u001b[1;33m.\u001b[0m\u001b[0mcategories\u001b[0m \u001b[1;32mis\u001b[0m \u001b[1;32mNone\u001b[0m\u001b[1;33m:\u001b[0m\u001b[1;33m\u001b[0m\u001b[1;33m\u001b[0m\u001b[0m\n\u001b[0;32m    354\u001b[0m             \u001b[1;32mtry\u001b[0m\u001b[1;33m:\u001b[0m\u001b[1;33m\u001b[0m\u001b[1;33m\u001b[0m\u001b[0m\n\u001b[1;32m--> 355\u001b[1;33m                 \u001b[0mcodes\u001b[0m\u001b[1;33m,\u001b[0m \u001b[0mcategories\u001b[0m \u001b[1;33m=\u001b[0m \u001b[0mfactorize\u001b[0m\u001b[1;33m(\u001b[0m\u001b[0mvalues\u001b[0m\u001b[1;33m,\u001b[0m \u001b[0msort\u001b[0m\u001b[1;33m=\u001b[0m\u001b[1;32mTrue\u001b[0m\u001b[1;33m)\u001b[0m\u001b[1;33m\u001b[0m\u001b[1;33m\u001b[0m\u001b[0m\n\u001b[0m\u001b[0;32m    356\u001b[0m             \u001b[1;32mexcept\u001b[0m \u001b[0mTypeError\u001b[0m\u001b[1;33m:\u001b[0m\u001b[1;33m\u001b[0m\u001b[1;33m\u001b[0m\u001b[0m\n\u001b[0;32m    357\u001b[0m                 \u001b[0mcodes\u001b[0m\u001b[1;33m,\u001b[0m \u001b[0mcategories\u001b[0m \u001b[1;33m=\u001b[0m \u001b[0mfactorize\u001b[0m\u001b[1;33m(\u001b[0m\u001b[0mvalues\u001b[0m\u001b[1;33m,\u001b[0m \u001b[0msort\u001b[0m\u001b[1;33m=\u001b[0m\u001b[1;32mFalse\u001b[0m\u001b[1;33m)\u001b[0m\u001b[1;33m\u001b[0m\u001b[1;33m\u001b[0m\u001b[0m\n",
            "\u001b[1;32m~\\anaconda3.1\\envs\\ml\\lib\\site-packages\\pandas\\core\\algorithms.py\u001b[0m in \u001b[0;36mfactorize\u001b[1;34m(values, sort, na_sentinel, size_hint)\u001b[0m\n\u001b[0;32m    634\u001b[0m \u001b[1;33m\u001b[0m\u001b[0m\n\u001b[0;32m    635\u001b[0m         codes, uniques = _factorize_array(\n\u001b[1;32m--> 636\u001b[1;33m             \u001b[0mvalues\u001b[0m\u001b[1;33m,\u001b[0m \u001b[0mna_sentinel\u001b[0m\u001b[1;33m=\u001b[0m\u001b[0mna_sentinel\u001b[0m\u001b[1;33m,\u001b[0m \u001b[0msize_hint\u001b[0m\u001b[1;33m=\u001b[0m\u001b[0msize_hint\u001b[0m\u001b[1;33m,\u001b[0m \u001b[0mna_value\u001b[0m\u001b[1;33m=\u001b[0m\u001b[0mna_value\u001b[0m\u001b[1;33m\u001b[0m\u001b[1;33m\u001b[0m\u001b[0m\n\u001b[0m\u001b[0;32m    637\u001b[0m         )\n\u001b[0;32m    638\u001b[0m \u001b[1;33m\u001b[0m\u001b[0m\n",
            "\u001b[1;32m~\\anaconda3.1\\envs\\ml\\lib\\site-packages\\pandas\\core\\algorithms.py\u001b[0m in \u001b[0;36m_factorize_array\u001b[1;34m(values, na_sentinel, size_hint, na_value)\u001b[0m\n\u001b[0;32m    482\u001b[0m \u001b[1;33m\u001b[0m\u001b[0m\n\u001b[0;32m    483\u001b[0m     \u001b[0mtable\u001b[0m \u001b[1;33m=\u001b[0m \u001b[0mhash_klass\u001b[0m\u001b[1;33m(\u001b[0m\u001b[0msize_hint\u001b[0m \u001b[1;32mor\u001b[0m \u001b[0mlen\u001b[0m\u001b[1;33m(\u001b[0m\u001b[0mvalues\u001b[0m\u001b[1;33m)\u001b[0m\u001b[1;33m)\u001b[0m\u001b[1;33m\u001b[0m\u001b[1;33m\u001b[0m\u001b[0m\n\u001b[1;32m--> 484\u001b[1;33m     \u001b[0muniques\u001b[0m\u001b[1;33m,\u001b[0m \u001b[0mcodes\u001b[0m \u001b[1;33m=\u001b[0m \u001b[0mtable\u001b[0m\u001b[1;33m.\u001b[0m\u001b[0mfactorize\u001b[0m\u001b[1;33m(\u001b[0m\u001b[0mvalues\u001b[0m\u001b[1;33m,\u001b[0m \u001b[0mna_sentinel\u001b[0m\u001b[1;33m=\u001b[0m\u001b[0mna_sentinel\u001b[0m\u001b[1;33m,\u001b[0m \u001b[0mna_value\u001b[0m\u001b[1;33m=\u001b[0m\u001b[0mna_value\u001b[0m\u001b[1;33m)\u001b[0m\u001b[1;33m\u001b[0m\u001b[1;33m\u001b[0m\u001b[0m\n\u001b[0m\u001b[0;32m    485\u001b[0m \u001b[1;33m\u001b[0m\u001b[0m\n\u001b[0;32m    486\u001b[0m     \u001b[0mcodes\u001b[0m \u001b[1;33m=\u001b[0m \u001b[0mensure_platform_int\u001b[0m\u001b[1;33m(\u001b[0m\u001b[0mcodes\u001b[0m\u001b[1;33m)\u001b[0m\u001b[1;33m\u001b[0m\u001b[1;33m\u001b[0m\u001b[0m\n",
            "\u001b[1;32mpandas\\_libs\\hashtable_class_helper.pxi\u001b[0m in \u001b[0;36mpandas._libs.hashtable.Float64HashTable.factorize\u001b[1;34m()\u001b[0m\n",
            "\u001b[1;32mpandas\\_libs\\hashtable_class_helper.pxi\u001b[0m in \u001b[0;36mpandas._libs.hashtable.Float64HashTable._unique\u001b[1;34m()\u001b[0m\n",
            "\u001b[1;32m~\\anaconda3.1\\envs\\ml\\lib\\site-packages\\numpy\\core\\_asarray.py\u001b[0m in \u001b[0;36masarray\u001b[1;34m(a, dtype, order)\u001b[0m\n\u001b[0;32m     12\u001b[0m ]\n\u001b[0;32m     13\u001b[0m \u001b[1;33m\u001b[0m\u001b[0m\n\u001b[1;32m---> 14\u001b[1;33m \u001b[1;33m@\u001b[0m\u001b[0mset_module\u001b[0m\u001b[1;33m(\u001b[0m\u001b[1;34m'numpy'\u001b[0m\u001b[1;33m)\u001b[0m\u001b[1;33m\u001b[0m\u001b[1;33m\u001b[0m\u001b[0m\n\u001b[0m\u001b[0;32m     15\u001b[0m \u001b[1;32mdef\u001b[0m \u001b[0masarray\u001b[0m\u001b[1;33m(\u001b[0m\u001b[0ma\u001b[0m\u001b[1;33m,\u001b[0m \u001b[0mdtype\u001b[0m\u001b[1;33m=\u001b[0m\u001b[1;32mNone\u001b[0m\u001b[1;33m,\u001b[0m \u001b[0morder\u001b[0m\u001b[1;33m=\u001b[0m\u001b[1;32mNone\u001b[0m\u001b[1;33m)\u001b[0m\u001b[1;33m:\u001b[0m\u001b[1;33m\u001b[0m\u001b[1;33m\u001b[0m\u001b[0m\n\u001b[0;32m     16\u001b[0m     \"\"\"Convert the input to an array.\n",
            "\u001b[1;31mKeyboardInterrupt\u001b[0m: "
          ]
        }
      ]
    },
    {
      "cell_type": "code",
      "metadata": {
        "id": "8-jEGtbKYu9x"
      },
      "source": [
        "stock[stock['Date'] == '2020-02-21'].to_excel(my_dir + 'dfdfdf.xlsx')\t"
      ],
      "execution_count": null,
      "outputs": []
    },
    {
      "cell_type": "code",
      "metadata": {
        "colab": {
          "base_uri": "https://localhost:8080/",
          "height": 51
        },
        "id": "UY2wHTG6Z1a9",
        "outputId": "ca1c475c-9cf2-4f37-ae03-f3d4851f6635"
      },
      "source": [
        "# pivo[pivo['Date'] == '2020-02-21']\r\n",
        "display(pivo.shape, stock.shape)\t"
      ],
      "execution_count": null,
      "outputs": [
        {
          "output_type": "display_data",
          "data": {
            "text/plain": [
              "(2243603, 3)"
            ]
          },
          "metadata": {
            "tags": []
          }
        },
        {
          "output_type": "display_data",
          "data": {
            "text/plain": [
              "(2368209, 8)"
            ]
          },
          "metadata": {
            "tags": []
          }
        }
      ]
    },
    {
      "cell_type": "code",
      "metadata": {
        "colab": {
          "base_uri": "https://localhost:8080/"
        },
        "id": "x92QN3C1Zh2E",
        "outputId": "f50d1f1b-02e8-45bf-a8d4-0a941e5510a9"
      },
      "source": [
        "k_all[-10:]"
      ],
      "execution_count": null,
      "outputs": [
        {
          "output_type": "execute_result",
          "data": {
            "text/plain": [
              "[9, 1, 2, 3, 4, 5, 6, 7, 8, 9]"
            ]
          },
          "metadata": {
            "tags": []
          },
          "execution_count": 212
        }
      ]
    },
    {
      "cell_type": "code",
      "metadata": {
        "colab": {
          "base_uri": "https://localhost:8080/",
          "height": 146
        },
        "id": "Sff-FmxRdmvj",
        "outputId": "8f9a2bce-f863-4f6a-b9d4-2aedd7dae9e7"
      },
      "source": [
        "%%time\r\n",
        "k = 0\r\n",
        "k_all = []\r\n",
        "# for i in pivo.Date.unique():\r\n",
        "date = np.array(pivo['Date'])\r\n",
        "for i in range(len(date)):\r\n",
        "  # display('d')\r\n",
        "  if date[i] == date[i+1]:\r\n",
        "    # display('dfd')\r\n",
        "    k+=1\r\n",
        "\r\n",
        "  else:\r\n",
        "    k=1\r\n",
        "  k_all.append(k)\r\n",
        "  "
      ],
      "execution_count": null,
      "outputs": [
        {
          "output_type": "error",
          "ename": "IndexError",
          "evalue": "ignored",
          "traceback": [
            "\u001b[1;31m---------------------------------------------------------------------------\u001b[0m",
            "\u001b[1;31mIndexError\u001b[0m                                Traceback (most recent call last)",
            "\u001b[1;32m<timed exec>\u001b[0m in \u001b[0;36m<module>\u001b[1;34m\u001b[0m\n",
            "\u001b[1;31mIndexError\u001b[0m: index 2243603 is out of bounds for axis 0 with size 2243603"
          ]
        }
      ]
    },
    {
      "cell_type": "code",
      "metadata": {
        "id": "TAherSKEXzkS"
      },
      "source": [
        "k_all.append(10)"
      ],
      "execution_count": null,
      "outputs": []
    },
    {
      "cell_type": "code",
      "metadata": {
        "colab": {
          "base_uri": "https://localhost:8080/",
          "height": 419
        },
        "id": "L5BGUHgAe7vI",
        "outputId": "388e839d-3015-42a0-abbf-cc37a519f048"
      },
      "source": [
        "pivo['rank'] = k_all\r\n",
        "pivo"
      ],
      "execution_count": null,
      "outputs": [
        {
          "output_type": "execute_result",
          "data": {
            "text/plain": [
              "               Date Symbol       250_%  rank\n",
              "18       1999-11-01   ALXN  650.864012     1\n",
              "340      1999-11-01   VRTX  618.154312     2\n",
              "235      1999-11-01   NTAP  531.351351     3\n",
              "238      1999-11-01   NVDA  433.531915     4\n",
              "186      1999-11-01    KSU  402.942193     5\n",
              "...             ...    ...         ...   ...\n",
              "2243597  2020-02-21    XYL   10.792446     6\n",
              "2243598  2020-02-21    YUM    3.762412     7\n",
              "2243599  2020-02-21    ZBH    0.417497     8\n",
              "2243594  2020-02-21    XEL   -9.668182     9\n",
              "2243596  2020-02-21    XRX  -32.286619    10\n",
              "\n",
              "[2243603 rows x 4 columns]"
            ],
            "text/html": [
              "<div>\n",
              "<style scoped>\n",
              "    .dataframe tbody tr th:only-of-type {\n",
              "        vertical-align: middle;\n",
              "    }\n",
              "\n",
              "    .dataframe tbody tr th {\n",
              "        vertical-align: top;\n",
              "    }\n",
              "\n",
              "    .dataframe thead th {\n",
              "        text-align: right;\n",
              "    }\n",
              "</style>\n",
              "<table border=\"1\" class=\"dataframe\">\n",
              "  <thead>\n",
              "    <tr style=\"text-align: right;\">\n",
              "      <th></th>\n",
              "      <th>Date</th>\n",
              "      <th>Symbol</th>\n",
              "      <th>250_%</th>\n",
              "      <th>rank</th>\n",
              "    </tr>\n",
              "  </thead>\n",
              "  <tbody>\n",
              "    <tr>\n",
              "      <th>18</th>\n",
              "      <td>1999-11-01</td>\n",
              "      <td>ALXN</td>\n",
              "      <td>650.864012</td>\n",
              "      <td>1</td>\n",
              "    </tr>\n",
              "    <tr>\n",
              "      <th>340</th>\n",
              "      <td>1999-11-01</td>\n",
              "      <td>VRTX</td>\n",
              "      <td>618.154312</td>\n",
              "      <td>2</td>\n",
              "    </tr>\n",
              "    <tr>\n",
              "      <th>235</th>\n",
              "      <td>1999-11-01</td>\n",
              "      <td>NTAP</td>\n",
              "      <td>531.351351</td>\n",
              "      <td>3</td>\n",
              "    </tr>\n",
              "    <tr>\n",
              "      <th>238</th>\n",
              "      <td>1999-11-01</td>\n",
              "      <td>NVDA</td>\n",
              "      <td>433.531915</td>\n",
              "      <td>4</td>\n",
              "    </tr>\n",
              "    <tr>\n",
              "      <th>186</th>\n",
              "      <td>1999-11-01</td>\n",
              "      <td>KSU</td>\n",
              "      <td>402.942193</td>\n",
              "      <td>5</td>\n",
              "    </tr>\n",
              "    <tr>\n",
              "      <th>...</th>\n",
              "      <td>...</td>\n",
              "      <td>...</td>\n",
              "      <td>...</td>\n",
              "      <td>...</td>\n",
              "    </tr>\n",
              "    <tr>\n",
              "      <th>2243597</th>\n",
              "      <td>2020-02-21</td>\n",
              "      <td>XYL</td>\n",
              "      <td>10.792446</td>\n",
              "      <td>6</td>\n",
              "    </tr>\n",
              "    <tr>\n",
              "      <th>2243598</th>\n",
              "      <td>2020-02-21</td>\n",
              "      <td>YUM</td>\n",
              "      <td>3.762412</td>\n",
              "      <td>7</td>\n",
              "    </tr>\n",
              "    <tr>\n",
              "      <th>2243599</th>\n",
              "      <td>2020-02-21</td>\n",
              "      <td>ZBH</td>\n",
              "      <td>0.417497</td>\n",
              "      <td>8</td>\n",
              "    </tr>\n",
              "    <tr>\n",
              "      <th>2243594</th>\n",
              "      <td>2020-02-21</td>\n",
              "      <td>XEL</td>\n",
              "      <td>-9.668182</td>\n",
              "      <td>9</td>\n",
              "    </tr>\n",
              "    <tr>\n",
              "      <th>2243596</th>\n",
              "      <td>2020-02-21</td>\n",
              "      <td>XRX</td>\n",
              "      <td>-32.286619</td>\n",
              "      <td>10</td>\n",
              "    </tr>\n",
              "  </tbody>\n",
              "</table>\n",
              "<p>2243603 rows × 4 columns</p>\n",
              "</div>"
            ]
          },
          "metadata": {
            "tags": []
          },
          "execution_count": 223
        }
      ]
    },
    {
      "cell_type": "markdown",
      "metadata": {
        "id": "JR3fE7mNYXyi"
      },
      "source": [
        "###### 2 attempt quantile"
      ]
    },
    {
      "cell_type": "code",
      "metadata": {
        "id": "mWBljmUOYhgE"
      },
      "source": [
        "result_byes = pd.DataFrame()\r\n",
        "for ie in result['Year'].unique():\r\n",
        "    # display(ie)\r\n",
        "    result_9999 = result[result['Year'] == ie].copy()\r\n",
        "    \r\n",
        "    for item in ['250_%']:\r\n",
        "      # display(result_9999[item].quantile([1/2]).values[0])\r\n",
        "        result_9999['label'] =  np.where(result_9999[item] > result_9999[item].quantile([1/2]).values[0], 1, 0)\r\n",
        "    #     quan.append(str(item) + '_L')\r\n",
        "    result_byes = result_byes.append(result_9999)\r\n",
        "#     result_9999 = pd.DataFrame()"
      ],
      "execution_count": null,
      "outputs": []
    },
    {
      "cell_type": "code",
      "metadata": {
        "colab": {
          "base_uri": "https://localhost:8080/",
          "height": 538
        },
        "id": "9tyimcy1aCQr",
        "outputId": "b7a986a7-2cc7-4bcd-db5f-84e8306035d9"
      },
      "source": [
        "result_byes"
      ],
      "execution_count": null,
      "outputs": [
        {
          "output_type": "execute_result",
          "data": {
            "text/plain": [
              "     Unnamed: 0        date  5. adjusted close Symbol       Date       50_%  \\\n",
              "0       1633837  2012-02-24          88.560000    WAT 2012-02-24  -5.397471   \n",
              "16       389632  2012-02-27          34.475953   CTSH 2012-02-27 -16.250000   \n",
              "24       347953  2012-02-21          41.488805    COP 2012-02-21  -3.783620   \n",
              "32       488939  2012-05-25          14.201027     EA 2012-05-25 -10.056259   \n",
              "46      1153975  2012-02-22         699.070000    NVR 2012-02-22  13.972850   \n",
              "...         ...         ...                ...    ...        ...        ...   \n",
              "1951    1551990  2011-03-30          48.166240   ULTA 2011-03-30  15.294601   \n",
              "1972    1612167  2011-02-28          31.919901   VRSK 2011-02-28   6.367852   \n",
              "1981     415203  2011-03-22          28.879579     DG 2011-03-22   3.664073   \n",
              "1986     289333  2011-03-01          46.930000   CHTR 2011-03-01  25.015981   \n",
              "1995     957838  2011-03-18          18.604894    LYB 2011-03-18  14.344518   \n",
              "\n",
              "          150_%      250_%                                            message  \\\n",
              "0     -5.013550   2.100271  >Item 7:    Managements\\nDiscussion and Analy...   \n",
              "16    -2.930556   5.361111  >Item 7.\\nManagements Discussion and Analysis...   \n",
              "24     4.684713   7.770263  >Item 7.\\nMANAGEMENTS DISCUSSION AND ANALYSIS...   \n",
              "32     2.303094  63.572433  >Item 7:\\nManagements Discussion and Analysis...   \n",
              "46    23.275208  40.389374  >Item 7.\\nManagements Discussion and Analysis...   \n",
              "...         ...        ...                                                ...   \n",
              "1951  44.385137  95.095153  >Item 7.  \\n\\nManagements\\n    Discussion and...   \n",
              "1972   7.480680  29.829985  >Item 7.  \\n\\n    \\nManagements\\n    Discussi...   \n",
              "1981  29.734112  45.103761  ITEM 7. MANAGEMENTS DISCUSSION AND ANALYSIS O...   \n",
              "1986  -6.946516  35.457064  >Item 7.  Management’s Discussion and Analysis...   \n",
              "1995 -28.090577  30.782431  >Item 7.  \\n\\nMANAGEMENTS\\n    DISCUSSION AND...   \n",
              "\n",
              "      Year  label  \n",
              "0     2012      0  \n",
              "16    2012      0  \n",
              "24    2012      0  \n",
              "32    2012      1  \n",
              "46    2012      1  \n",
              "...    ...    ...  \n",
              "1951  2011      1  \n",
              "1972  2011      1  \n",
              "1981  2011      1  \n",
              "1986  2011      1  \n",
              "1995  2011      1  \n",
              "\n",
              "[2166 rows x 11 columns]"
            ],
            "text/html": [
              "<div>\n",
              "<style scoped>\n",
              "    .dataframe tbody tr th:only-of-type {\n",
              "        vertical-align: middle;\n",
              "    }\n",
              "\n",
              "    .dataframe tbody tr th {\n",
              "        vertical-align: top;\n",
              "    }\n",
              "\n",
              "    .dataframe thead th {\n",
              "        text-align: right;\n",
              "    }\n",
              "</style>\n",
              "<table border=\"1\" class=\"dataframe\">\n",
              "  <thead>\n",
              "    <tr style=\"text-align: right;\">\n",
              "      <th></th>\n",
              "      <th>Unnamed: 0</th>\n",
              "      <th>date</th>\n",
              "      <th>5. adjusted close</th>\n",
              "      <th>Symbol</th>\n",
              "      <th>Date</th>\n",
              "      <th>50_%</th>\n",
              "      <th>150_%</th>\n",
              "      <th>250_%</th>\n",
              "      <th>message</th>\n",
              "      <th>Year</th>\n",
              "      <th>label</th>\n",
              "    </tr>\n",
              "  </thead>\n",
              "  <tbody>\n",
              "    <tr>\n",
              "      <th>0</th>\n",
              "      <td>1633837</td>\n",
              "      <td>2012-02-24</td>\n",
              "      <td>88.560000</td>\n",
              "      <td>WAT</td>\n",
              "      <td>2012-02-24</td>\n",
              "      <td>-5.397471</td>\n",
              "      <td>-5.013550</td>\n",
              "      <td>2.100271</td>\n",
              "      <td>&gt;Item 7:    Managements\\nDiscussion and Analy...</td>\n",
              "      <td>2012</td>\n",
              "      <td>0</td>\n",
              "    </tr>\n",
              "    <tr>\n",
              "      <th>16</th>\n",
              "      <td>389632</td>\n",
              "      <td>2012-02-27</td>\n",
              "      <td>34.475953</td>\n",
              "      <td>CTSH</td>\n",
              "      <td>2012-02-27</td>\n",
              "      <td>-16.250000</td>\n",
              "      <td>-2.930556</td>\n",
              "      <td>5.361111</td>\n",
              "      <td>&gt;Item 7.\\nManagements Discussion and Analysis...</td>\n",
              "      <td>2012</td>\n",
              "      <td>0</td>\n",
              "    </tr>\n",
              "    <tr>\n",
              "      <th>24</th>\n",
              "      <td>347953</td>\n",
              "      <td>2012-02-21</td>\n",
              "      <td>41.488805</td>\n",
              "      <td>COP</td>\n",
              "      <td>2012-02-21</td>\n",
              "      <td>-3.783620</td>\n",
              "      <td>4.684713</td>\n",
              "      <td>7.770263</td>\n",
              "      <td>&gt;Item 7.\\nMANAGEMENTS DISCUSSION AND ANALYSIS...</td>\n",
              "      <td>2012</td>\n",
              "      <td>0</td>\n",
              "    </tr>\n",
              "    <tr>\n",
              "      <th>32</th>\n",
              "      <td>488939</td>\n",
              "      <td>2012-05-25</td>\n",
              "      <td>14.201027</td>\n",
              "      <td>EA</td>\n",
              "      <td>2012-05-25</td>\n",
              "      <td>-10.056259</td>\n",
              "      <td>2.303094</td>\n",
              "      <td>63.572433</td>\n",
              "      <td>&gt;Item 7:\\nManagements Discussion and Analysis...</td>\n",
              "      <td>2012</td>\n",
              "      <td>1</td>\n",
              "    </tr>\n",
              "    <tr>\n",
              "      <th>46</th>\n",
              "      <td>1153975</td>\n",
              "      <td>2012-02-22</td>\n",
              "      <td>699.070000</td>\n",
              "      <td>NVR</td>\n",
              "      <td>2012-02-22</td>\n",
              "      <td>13.972850</td>\n",
              "      <td>23.275208</td>\n",
              "      <td>40.389374</td>\n",
              "      <td>&gt;Item 7.\\nManagements Discussion and Analysis...</td>\n",
              "      <td>2012</td>\n",
              "      <td>1</td>\n",
              "    </tr>\n",
              "    <tr>\n",
              "      <th>...</th>\n",
              "      <td>...</td>\n",
              "      <td>...</td>\n",
              "      <td>...</td>\n",
              "      <td>...</td>\n",
              "      <td>...</td>\n",
              "      <td>...</td>\n",
              "      <td>...</td>\n",
              "      <td>...</td>\n",
              "      <td>...</td>\n",
              "      <td>...</td>\n",
              "      <td>...</td>\n",
              "    </tr>\n",
              "    <tr>\n",
              "      <th>1951</th>\n",
              "      <td>1551990</td>\n",
              "      <td>2011-03-30</td>\n",
              "      <td>48.166240</td>\n",
              "      <td>ULTA</td>\n",
              "      <td>2011-03-30</td>\n",
              "      <td>15.294601</td>\n",
              "      <td>44.385137</td>\n",
              "      <td>95.095153</td>\n",
              "      <td>&gt;Item 7.  \\n\\nManagements\\n    Discussion and...</td>\n",
              "      <td>2011</td>\n",
              "      <td>1</td>\n",
              "    </tr>\n",
              "    <tr>\n",
              "      <th>1972</th>\n",
              "      <td>1612167</td>\n",
              "      <td>2011-02-28</td>\n",
              "      <td>31.919901</td>\n",
              "      <td>VRSK</td>\n",
              "      <td>2011-02-28</td>\n",
              "      <td>6.367852</td>\n",
              "      <td>7.480680</td>\n",
              "      <td>29.829985</td>\n",
              "      <td>&gt;Item 7.  \\n\\n    \\nManagements\\n    Discussi...</td>\n",
              "      <td>2011</td>\n",
              "      <td>1</td>\n",
              "    </tr>\n",
              "    <tr>\n",
              "      <th>1981</th>\n",
              "      <td>415203</td>\n",
              "      <td>2011-03-22</td>\n",
              "      <td>28.879579</td>\n",
              "      <td>DG</td>\n",
              "      <td>2011-03-22</td>\n",
              "      <td>3.664073</td>\n",
              "      <td>29.734112</td>\n",
              "      <td>45.103761</td>\n",
              "      <td>ITEM 7. MANAGEMENTS DISCUSSION AND ANALYSIS O...</td>\n",
              "      <td>2011</td>\n",
              "      <td>1</td>\n",
              "    </tr>\n",
              "    <tr>\n",
              "      <th>1986</th>\n",
              "      <td>289333</td>\n",
              "      <td>2011-03-01</td>\n",
              "      <td>46.930000</td>\n",
              "      <td>CHTR</td>\n",
              "      <td>2011-03-01</td>\n",
              "      <td>25.015981</td>\n",
              "      <td>-6.946516</td>\n",
              "      <td>35.457064</td>\n",
              "      <td>&gt;Item 7.  Management’s Discussion and Analysis...</td>\n",
              "      <td>2011</td>\n",
              "      <td>1</td>\n",
              "    </tr>\n",
              "    <tr>\n",
              "      <th>1995</th>\n",
              "      <td>957838</td>\n",
              "      <td>2011-03-18</td>\n",
              "      <td>18.604894</td>\n",
              "      <td>LYB</td>\n",
              "      <td>2011-03-18</td>\n",
              "      <td>14.344518</td>\n",
              "      <td>-28.090577</td>\n",
              "      <td>30.782431</td>\n",
              "      <td>&gt;Item 7.  \\n\\nMANAGEMENTS\\n    DISCUSSION AND...</td>\n",
              "      <td>2011</td>\n",
              "      <td>1</td>\n",
              "    </tr>\n",
              "  </tbody>\n",
              "</table>\n",
              "<p>2166 rows × 11 columns</p>\n",
              "</div>"
            ]
          },
          "metadata": {
            "tags": []
          },
          "execution_count": 93
        }
      ]
    },
    {
      "cell_type": "code",
      "metadata": {
        "id": "hiQB8fnlYumn"
      },
      "source": [
        ""
      ],
      "execution_count": null,
      "outputs": []
    },
    {
      "cell_type": "markdown",
      "metadata": {
        "id": "s0QPcghY0wi0"
      },
      "source": [
        "## Качнули plot_df и stock"
      ]
    },
    {
      "cell_type": "code",
      "metadata": {
        "id": "3im4VVFLz3c_"
      },
      "source": [
        "# pickle.dump(stock, open(my_dir + \"dic_all_last.p\", \"wb\"))  # save \r\n",
        "stock   = pd.read_csv(my_dir + 'all_stocks.csv')           #open\r\n",
        "# plot_df = pd.read_csv('/content/drive/MyDrive/Marat/plot_df_affect_frequencies_7_item.csv')"
      ],
      "execution_count": null,
      "outputs": []
    },
    {
      "cell_type": "code",
      "metadata": {
        "id": "B5oL9LQUTuzk"
      },
      "source": [
        "# for Byes\r\n",
        "\r\n",
        "plot_b = pd.DataFrame(zip(symbb, dateb, item7), columns=['Symbol', 'Date', 'message'])\r\n",
        "stock['Date'] = pd.to_datetime(stock['Date'])\r\n",
        "plot_b['Date'] = pd.to_datetime(plot_b['Date'])\r\n",
        "\r\n",
        "result = pd.merge(stock, plot_b, how = 'right', on = ['Date', 'Symbol'])\r\n",
        "result['Year'] = result['Date'].dt.year"
      ],
      "execution_count": null,
      "outputs": []
    },
    {
      "cell_type": "code",
      "metadata": {
        "colab": {
          "base_uri": "https://localhost:8080/",
          "height": 419
        },
        "id": "Rh_8I51WUmLw",
        "outputId": "4dedcc18-0f36-4cee-8ca6-3836a7a094f1"
      },
      "source": [
        "# result.dropna(inplace=True)\r\n",
        "result"
      ],
      "execution_count": null,
      "outputs": [
        {
          "output_type": "execute_result",
          "data": {
            "text/html": [
              "<div>\n",
              "<style scoped>\n",
              "    .dataframe tbody tr th:only-of-type {\n",
              "        vertical-align: middle;\n",
              "    }\n",
              "\n",
              "    .dataframe tbody tr th {\n",
              "        vertical-align: top;\n",
              "    }\n",
              "\n",
              "    .dataframe thead th {\n",
              "        text-align: right;\n",
              "    }\n",
              "</style>\n",
              "<table border=\"1\" class=\"dataframe\">\n",
              "  <thead>\n",
              "    <tr style=\"text-align: right;\">\n",
              "      <th></th>\n",
              "      <th>Unnamed: 0</th>\n",
              "      <th>date</th>\n",
              "      <th>5. adjusted close</th>\n",
              "      <th>Symbol</th>\n",
              "      <th>Date</th>\n",
              "      <th>50_%</th>\n",
              "      <th>150_%</th>\n",
              "      <th>250_%</th>\n",
              "      <th>message</th>\n",
              "      <th>Year</th>\n",
              "    </tr>\n",
              "  </thead>\n",
              "  <tbody>\n",
              "    <tr>\n",
              "      <th>0</th>\n",
              "      <td>1029932</td>\n",
              "      <td>2019-02-07</td>\n",
              "      <td>184.742544</td>\n",
              "      <td>MMM</td>\n",
              "      <td>2019-02-07</td>\n",
              "      <td>10.125918</td>\n",
              "      <td>-12.499613</td>\n",
              "      <td>-16.005426</td>\n",
              "      <td>&gt;Item 7. Management’s Discussion and Analysis ...</td>\n",
              "      <td>2019</td>\n",
              "    </tr>\n",
              "    <tr>\n",
              "      <th>1</th>\n",
              "      <td>1029682</td>\n",
              "      <td>2018-02-08</td>\n",
              "      <td>200.753755</td>\n",
              "      <td>MMM</td>\n",
              "      <td>2018-02-08</td>\n",
              "      <td>-2.584217</td>\n",
              "      <td>-4.388871</td>\n",
              "      <td>-7.975548</td>\n",
              "      <td>&gt;Item 7. Management’s Discussion and Analysis ...</td>\n",
              "      <td>2018</td>\n",
              "    </tr>\n",
              "    <tr>\n",
              "      <th>2</th>\n",
              "      <td>1029431</td>\n",
              "      <td>2017-02-09</td>\n",
              "      <td>156.788023</td>\n",
              "      <td>MMM</td>\n",
              "      <td>2017-02-09</td>\n",
              "      <td>9.712666</td>\n",
              "      <td>20.845045</td>\n",
              "      <td>33.958455</td>\n",
              "      <td>&gt;Item 7. Management’s Discussion and Analysis ...</td>\n",
              "      <td>2017</td>\n",
              "    </tr>\n",
              "    <tr>\n",
              "      <th>3</th>\n",
              "      <td>1029180</td>\n",
              "      <td>2016-02-11</td>\n",
              "      <td>130.057425</td>\n",
              "      <td>MMM</td>\n",
              "      <td>2016-02-11</td>\n",
              "      <td>11.754165</td>\n",
              "      <td>18.711103</td>\n",
              "      <td>19.801917</td>\n",
              "      <td>&gt;Item 7. Management’s Discussion and Analysis ...</td>\n",
              "      <td>2016</td>\n",
              "    </tr>\n",
              "    <tr>\n",
              "      <th>4</th>\n",
              "      <td>1028929</td>\n",
              "      <td>2015-02-12</td>\n",
              "      <td>139.389215</td>\n",
              "      <td>MMM</td>\n",
              "      <td>2015-02-12</td>\n",
              "      <td>-4.779700</td>\n",
              "      <td>-12.684065</td>\n",
              "      <td>-5.592474</td>\n",
              "      <td>&gt;Item 7. Managements Discussion and Analysis ...</td>\n",
              "      <td>2015</td>\n",
              "    </tr>\n",
              "    <tr>\n",
              "      <th>...</th>\n",
              "      <td>...</td>\n",
              "      <td>...</td>\n",
              "      <td>...</td>\n",
              "      <td>...</td>\n",
              "      <td>...</td>\n",
              "      <td>...</td>\n",
              "      <td>...</td>\n",
              "      <td>...</td>\n",
              "      <td>...</td>\n",
              "      <td>...</td>\n",
              "    </tr>\n",
              "    <tr>\n",
              "      <th>2206</th>\n",
              "      <td>2017-02-16 00:00:00</td>\n",
              "      <td>NaN</td>\n",
              "      <td>51.491336</td>\n",
              "      <td>ZTS</td>\n",
              "      <td>2017-02-16</td>\n",
              "      <td>6.843955</td>\n",
              "      <td>22.162173</td>\n",
              "      <td>42.045048</td>\n",
              "      <td>&gt;Item 7. Management’s Discussion and Analysis ...</td>\n",
              "      <td>2017</td>\n",
              "    </tr>\n",
              "    <tr>\n",
              "      <th>2207</th>\n",
              "      <td>1718710</td>\n",
              "      <td>2016-02-24</td>\n",
              "      <td>41.002413</td>\n",
              "      <td>ZTS</td>\n",
              "      <td>2016-02-24</td>\n",
              "      <td>14.090045</td>\n",
              "      <td>22.926237</td>\n",
              "      <td>27.222974</td>\n",
              "      <td>&gt;Item 7. Management’s Discussion and Analysis ...</td>\n",
              "      <td>2016</td>\n",
              "    </tr>\n",
              "    <tr>\n",
              "      <th>2208</th>\n",
              "      <td>1718461</td>\n",
              "      <td>2015-02-27</td>\n",
              "      <td>44.269763</td>\n",
              "      <td>ZTS</td>\n",
              "      <td>2015-02-27</td>\n",
              "      <td>0.179034</td>\n",
              "      <td>-10.099508</td>\n",
              "      <td>-6.221985</td>\n",
              "      <td>&gt;Item 7. Management’s Discussion and Analysis ...</td>\n",
              "      <td>2015</td>\n",
              "    </tr>\n",
              "    <tr>\n",
              "      <th>2209</th>\n",
              "      <td>1718228</td>\n",
              "      <td>2014-03-26</td>\n",
              "      <td>27.755330</td>\n",
              "      <td>ZTS</td>\n",
              "      <td>2014-03-26</td>\n",
              "      <td>9.190661</td>\n",
              "      <td>27.590477</td>\n",
              "      <td>62.718420</td>\n",
              "      <td>&gt;Item 7. Management’s Discussion and Analysis ...</td>\n",
              "      <td>2014</td>\n",
              "    </tr>\n",
              "    <tr>\n",
              "      <th>2210</th>\n",
              "      <td>2013-03-28 00:00:00</td>\n",
              "      <td>NaN</td>\n",
              "      <td>31.469228</td>\n",
              "      <td>ZTS</td>\n",
              "      <td>2013-03-28</td>\n",
              "      <td>-3.970939</td>\n",
              "      <td>-3.417410</td>\n",
              "      <td>-11.801679</td>\n",
              "      <td>&gt;Item 7. Management’s Discussion and Analysis ...</td>\n",
              "      <td>2013</td>\n",
              "    </tr>\n",
              "  </tbody>\n",
              "</table>\n",
              "<p>2211 rows × 10 columns</p>\n",
              "</div>"
            ],
            "text/plain": [
              "               Unnamed: 0  ...  Year\n",
              "0                 1029932  ...  2019\n",
              "1                 1029682  ...  2018\n",
              "2                 1029431  ...  2017\n",
              "3                 1029180  ...  2016\n",
              "4                 1028929  ...  2015\n",
              "...                   ...  ...   ...\n",
              "2206  2017-02-16 00:00:00  ...  2017\n",
              "2207              1718710  ...  2016\n",
              "2208              1718461  ...  2015\n",
              "2209              1718228  ...  2014\n",
              "2210  2013-03-28 00:00:00  ...  2013\n",
              "\n",
              "[2211 rows x 10 columns]"
            ]
          },
          "metadata": {
            "tags": []
          },
          "execution_count": 11
        }
      ]
    },
    {
      "cell_type": "code",
      "metadata": {
        "colab": {
          "base_uri": "https://localhost:8080/",
          "height": 694
        },
        "id": "LXqxkAPiz0hW",
        "outputId": "cfa5ebd5-5967-4a06-b771-f35b0848dc8f"
      },
      "source": [
        "# for 10Q\r\n",
        "plot_df2 = pd.DataFrame(zip(symb2, date2, len_item_2, numb_aff), columns=['Symbol', 'Date', 'len_item_2', 'numb_aff'])\r\n",
        "plot_df2 = pd.concat([plot_df2, pd.DataFrame(affe_item_2)], axis=1)\r\n",
        "# plot_df2 = pd.merge(plot_df, pd.DataFrame(exp_7), left_index=True, right_index=True, how = 'inner', suffixes=('', '_exp'))\r\n",
        "stock['Date'] = pd.to_datetime(stock['Date'])\r\n",
        "plot_df2['Date'] = pd.to_datetime(plot_df2['Date'])\r\n",
        "result = pd.merge(stock, plot_df2, how = 'right', on = ['Date', 'Symbol'])\r\n",
        "\r\n",
        "result\r\n"
      ],
      "execution_count": null,
      "outputs": [
        {
          "output_type": "execute_result",
          "data": {
            "text/html": [
              "<div>\n",
              "<style scoped>\n",
              "    .dataframe tbody tr th:only-of-type {\n",
              "        vertical-align: middle;\n",
              "    }\n",
              "\n",
              "    .dataframe tbody tr th {\n",
              "        vertical-align: top;\n",
              "    }\n",
              "\n",
              "    .dataframe thead th {\n",
              "        text-align: right;\n",
              "    }\n",
              "</style>\n",
              "<table border=\"1\" class=\"dataframe\">\n",
              "  <thead>\n",
              "    <tr style=\"text-align: right;\">\n",
              "      <th></th>\n",
              "      <th>Unnamed: 0</th>\n",
              "      <th>date</th>\n",
              "      <th>5. adjusted close</th>\n",
              "      <th>Symbol</th>\n",
              "      <th>Date</th>\n",
              "      <th>50_%</th>\n",
              "      <th>150_%</th>\n",
              "      <th>250_%</th>\n",
              "      <th>len_item_2</th>\n",
              "      <th>numb_aff</th>\n",
              "      <th>fear</th>\n",
              "      <th>anger</th>\n",
              "      <th>anticip</th>\n",
              "      <th>trust</th>\n",
              "      <th>surprise</th>\n",
              "      <th>positive</th>\n",
              "      <th>negative</th>\n",
              "      <th>sadness</th>\n",
              "      <th>disgust</th>\n",
              "      <th>joy</th>\n",
              "      <th>anticipation</th>\n",
              "    </tr>\n",
              "  </thead>\n",
              "  <tbody>\n",
              "    <tr>\n",
              "      <th>0</th>\n",
              "      <td>1030366</td>\n",
              "      <td>2020-10-27</td>\n",
              "      <td>158.339939</td>\n",
              "      <td>MMM</td>\n",
              "      <td>2020-10-27</td>\n",
              "      <td>4.357732</td>\n",
              "      <td>NaN</td>\n",
              "      <td>NaN</td>\n",
              "      <td>94696</td>\n",
              "      <td>0.204371</td>\n",
              "      <td>0.058741</td>\n",
              "      <td>0.037285</td>\n",
              "      <td>0.0</td>\n",
              "      <td>0.180091</td>\n",
              "      <td>0.003517</td>\n",
              "      <td>0.283152</td>\n",
              "      <td>0.129792</td>\n",
              "      <td>0.083363</td>\n",
              "      <td>0.002110</td>\n",
              "      <td>0.097081</td>\n",
              "      <td>0.124868</td>\n",
              "    </tr>\n",
              "    <tr>\n",
              "      <th>1</th>\n",
              "      <td>1030302</td>\n",
              "      <td>2020-07-28</td>\n",
              "      <td>151.359252</td>\n",
              "      <td>MMM</td>\n",
              "      <td>2020-07-28</td>\n",
              "      <td>8.159050</td>\n",
              "      <td>NaN</td>\n",
              "      <td>NaN</td>\n",
              "      <td>92027</td>\n",
              "      <td>0.204931</td>\n",
              "      <td>0.060879</td>\n",
              "      <td>0.039625</td>\n",
              "      <td>0.0</td>\n",
              "      <td>0.177594</td>\n",
              "      <td>0.004323</td>\n",
              "      <td>0.274135</td>\n",
              "      <td>0.136167</td>\n",
              "      <td>0.086816</td>\n",
              "      <td>0.003242</td>\n",
              "      <td>0.096902</td>\n",
              "      <td>0.120317</td>\n",
              "    </tr>\n",
              "    <tr>\n",
              "      <th>2</th>\n",
              "      <td>1030239</td>\n",
              "      <td>2020-04-28</td>\n",
              "      <td>152.048078</td>\n",
              "      <td>MMM</td>\n",
              "      <td>2020-04-28</td>\n",
              "      <td>-2.939623</td>\n",
              "      <td>12.661315</td>\n",
              "      <td>NaN</td>\n",
              "      <td>70988</td>\n",
              "      <td>0.222339</td>\n",
              "      <td>0.062419</td>\n",
              "      <td>0.047783</td>\n",
              "      <td>0.0</td>\n",
              "      <td>0.170469</td>\n",
              "      <td>0.004305</td>\n",
              "      <td>0.273784</td>\n",
              "      <td>0.133018</td>\n",
              "      <td>0.087387</td>\n",
              "      <td>0.003013</td>\n",
              "      <td>0.101593</td>\n",
              "      <td>0.116229</td>\n",
              "    </tr>\n",
              "    <tr>\n",
              "      <th>3</th>\n",
              "      <td>1030113</td>\n",
              "      <td>2019-10-25</td>\n",
              "      <td>157.395485</td>\n",
              "      <td>MMM</td>\n",
              "      <td>2019-10-25</td>\n",
              "      <td>9.702614</td>\n",
              "      <td>-2.404951</td>\n",
              "      <td>6.647425</td>\n",
              "      <td>89578</td>\n",
              "      <td>0.195779</td>\n",
              "      <td>0.054688</td>\n",
              "      <td>0.038281</td>\n",
              "      <td>0.0</td>\n",
              "      <td>0.189844</td>\n",
              "      <td>0.004687</td>\n",
              "      <td>0.279687</td>\n",
              "      <td>0.122266</td>\n",
              "      <td>0.079297</td>\n",
              "      <td>0.002344</td>\n",
              "      <td>0.102734</td>\n",
              "      <td>0.126172</td>\n",
              "    </tr>\n",
              "    <tr>\n",
              "      <th>4</th>\n",
              "      <td>1030049</td>\n",
              "      <td>2019-07-26</td>\n",
              "      <td>163.372481</td>\n",
              "      <td>MMM</td>\n",
              "      <td>2019-07-26</td>\n",
              "      <td>-10.949811</td>\n",
              "      <td>-9.642031</td>\n",
              "      <td>-4.991330</td>\n",
              "      <td>85821</td>\n",
              "      <td>0.187139</td>\n",
              "      <td>0.050557</td>\n",
              "      <td>0.034276</td>\n",
              "      <td>0.0</td>\n",
              "      <td>0.192374</td>\n",
              "      <td>0.002999</td>\n",
              "      <td>0.277207</td>\n",
              "      <td>0.132391</td>\n",
              "      <td>0.086547</td>\n",
              "      <td>0.002571</td>\n",
              "      <td>0.098543</td>\n",
              "      <td>0.122536</td>\n",
              "    </tr>\n",
              "    <tr>\n",
              "      <th>...</th>\n",
              "      <td>...</td>\n",
              "      <td>...</td>\n",
              "      <td>...</td>\n",
              "      <td>...</td>\n",
              "      <td>...</td>\n",
              "      <td>...</td>\n",
              "      <td>...</td>\n",
              "      <td>...</td>\n",
              "      <td>...</td>\n",
              "      <td>...</td>\n",
              "      <td>...</td>\n",
              "      <td>...</td>\n",
              "      <td>...</td>\n",
              "      <td>...</td>\n",
              "      <td>...</td>\n",
              "      <td>...</td>\n",
              "      <td>...</td>\n",
              "      <td>...</td>\n",
              "      <td>...</td>\n",
              "      <td>...</td>\n",
              "      <td>...</td>\n",
              "    </tr>\n",
              "    <tr>\n",
              "      <th>12265</th>\n",
              "      <td>1718324</td>\n",
              "      <td>2014-08-12</td>\n",
              "      <td>30.984156</td>\n",
              "      <td>ZTS</td>\n",
              "      <td>2014-08-12</td>\n",
              "      <td>10.835621</td>\n",
              "      <td>47.280703</td>\n",
              "      <td>50.277264</td>\n",
              "      <td>104087</td>\n",
              "      <td>0.185047</td>\n",
              "      <td>0.039550</td>\n",
              "      <td>0.031367</td>\n",
              "      <td>0.0</td>\n",
              "      <td>0.177634</td>\n",
              "      <td>0.010228</td>\n",
              "      <td>0.301739</td>\n",
              "      <td>0.156495</td>\n",
              "      <td>0.076031</td>\n",
              "      <td>0.015343</td>\n",
              "      <td>0.075349</td>\n",
              "      <td>0.116263</td>\n",
              "    </tr>\n",
              "    <tr>\n",
              "      <th>12266</th>\n",
              "      <td>2014-05-13 00:00:00</td>\n",
              "      <td>NaN</td>\n",
              "      <td>29.341853</td>\n",
              "      <td>ZTS</td>\n",
              "      <td>2014-05-13</td>\n",
              "      <td>7.028962</td>\n",
              "      <td>36.376230</td>\n",
              "      <td>51.145947</td>\n",
              "      <td>88646</td>\n",
              "      <td>0.206837</td>\n",
              "      <td>0.044874</td>\n",
              "      <td>0.037578</td>\n",
              "      <td>0.0</td>\n",
              "      <td>0.182050</td>\n",
              "      <td>0.010215</td>\n",
              "      <td>0.289675</td>\n",
              "      <td>0.155053</td>\n",
              "      <td>0.075885</td>\n",
              "      <td>0.014228</td>\n",
              "      <td>0.078074</td>\n",
              "      <td>0.112368</td>\n",
              "    </tr>\n",
              "    <tr>\n",
              "      <th>12267</th>\n",
              "      <td>2013-11-13 00:00:00</td>\n",
              "      <td>NaN</td>\n",
              "      <td>30.071465</td>\n",
              "      <td>ZTS</td>\n",
              "      <td>2013-11-13</td>\n",
              "      <td>-0.655738</td>\n",
              "      <td>3.066825</td>\n",
              "      <td>39.379637</td>\n",
              "      <td>110873</td>\n",
              "      <td>0.201358</td>\n",
              "      <td>0.041766</td>\n",
              "      <td>0.039081</td>\n",
              "      <td>0.0</td>\n",
              "      <td>0.174523</td>\n",
              "      <td>0.010442</td>\n",
              "      <td>0.292959</td>\n",
              "      <td>0.150955</td>\n",
              "      <td>0.078461</td>\n",
              "      <td>0.013425</td>\n",
              "      <td>0.079356</td>\n",
              "      <td>0.119033</td>\n",
              "    </tr>\n",
              "    <tr>\n",
              "      <th>12268</th>\n",
              "      <td>1718074</td>\n",
              "      <td>2013-08-14</td>\n",
              "      <td>28.515766</td>\n",
              "      <td>ZTS</td>\n",
              "      <td>2013-08-14</td>\n",
              "      <td>8.626410</td>\n",
              "      <td>0.265607</td>\n",
              "      <td>8.656230</td>\n",
              "      <td>109383</td>\n",
              "      <td>0.203487</td>\n",
              "      <td>0.041210</td>\n",
              "      <td>0.038838</td>\n",
              "      <td>0.0</td>\n",
              "      <td>0.174622</td>\n",
              "      <td>0.010377</td>\n",
              "      <td>0.293211</td>\n",
              "      <td>0.152387</td>\n",
              "      <td>0.075897</td>\n",
              "      <td>0.014527</td>\n",
              "      <td>0.077972</td>\n",
              "      <td>0.120961</td>\n",
              "    </tr>\n",
              "    <tr>\n",
              "      <th>12269</th>\n",
              "      <td>2013-05-15 00:00:00</td>\n",
              "      <td>NaN</td>\n",
              "      <td>30.955976</td>\n",
              "      <td>ZTS</td>\n",
              "      <td>2013-05-15</td>\n",
              "      <td>-7.197316</td>\n",
              "      <td>-3.102320</td>\n",
              "      <td>-5.214255</td>\n",
              "      <td>85443</td>\n",
              "      <td>0.210063</td>\n",
              "      <td>0.045284</td>\n",
              "      <td>0.042290</td>\n",
              "      <td>0.0</td>\n",
              "      <td>0.180015</td>\n",
              "      <td>0.008982</td>\n",
              "      <td>0.288174</td>\n",
              "      <td>0.151572</td>\n",
              "      <td>0.075599</td>\n",
              "      <td>0.014222</td>\n",
              "      <td>0.077096</td>\n",
              "      <td>0.116766</td>\n",
              "    </tr>\n",
              "  </tbody>\n",
              "</table>\n",
              "<p>12270 rows × 21 columns</p>\n",
              "</div>"
            ],
            "text/plain": [
              "                Unnamed: 0        date  ...       joy anticipation\n",
              "0                  1030366  2020-10-27  ...  0.097081     0.124868\n",
              "1                  1030302  2020-07-28  ...  0.096902     0.120317\n",
              "2                  1030239  2020-04-28  ...  0.101593     0.116229\n",
              "3                  1030113  2019-10-25  ...  0.102734     0.126172\n",
              "4                  1030049  2019-07-26  ...  0.098543     0.122536\n",
              "...                    ...         ...  ...       ...          ...\n",
              "12265              1718324  2014-08-12  ...  0.075349     0.116263\n",
              "12266  2014-05-13 00:00:00         NaN  ...  0.078074     0.112368\n",
              "12267  2013-11-13 00:00:00         NaN  ...  0.079356     0.119033\n",
              "12268              1718074  2013-08-14  ...  0.077972     0.120961\n",
              "12269  2013-05-15 00:00:00         NaN  ...  0.077096     0.116766\n",
              "\n",
              "[12270 rows x 21 columns]"
            ]
          },
          "metadata": {
            "tags": []
          },
          "execution_count": 122
        }
      ]
    },
    {
      "cell_type": "code",
      "metadata": {
        "colab": {
          "base_uri": "https://localhost:8080/",
          "height": 677
        },
        "id": "lEvoyd_cX_8q",
        "outputId": "9c5d6e0d-d0e5-450e-a429-a588db625e03"
      },
      "source": [
        "# for not 10Q\n",
        "plot_df = pd.DataFrame(zip(symb, date, len7, fin_bert, pip_bert, len_exp_7), columns=['Symbol', 'Date', 'len_7', 'finBert', 'pip_bert', 'len_exp_7'])\n",
        "plot_df = pd.concat([plot_df, pd.DataFrame(dona), pd.DataFrame(affe)], axis=1)\n",
        "plot_df = pd.merge(plot_df, pd.DataFrame(exp_7), left_index=True, right_index=True, how = 'inner', suffixes=('', '_exp'))\n",
        "stock['Date'] = pd.to_datetime(stock['Date'])\n",
        "plot_df['Date'] = pd.to_datetime(plot_df['Date'])\n",
        "result = pd.merge(stock, plot_df, how = 'right', on = ['Date', 'Symbol'])\n",
        "\n",
        "result\n",
        "# plot_df"
      ],
      "execution_count": null,
      "outputs": [
        {
          "output_type": "execute_result",
          "data": {
            "text/html": [
              "<div>\n",
              "<style scoped>\n",
              "    .dataframe tbody tr th:only-of-type {\n",
              "        vertical-align: middle;\n",
              "    }\n",
              "\n",
              "    .dataframe tbody tr th {\n",
              "        vertical-align: top;\n",
              "    }\n",
              "\n",
              "    .dataframe thead th {\n",
              "        text-align: right;\n",
              "    }\n",
              "</style>\n",
              "<table border=\"1\" class=\"dataframe\">\n",
              "  <thead>\n",
              "    <tr style=\"text-align: right;\">\n",
              "      <th></th>\n",
              "      <th>Unnamed: 0</th>\n",
              "      <th>date</th>\n",
              "      <th>5. adjusted close</th>\n",
              "      <th>Symbol</th>\n",
              "      <th>Date</th>\n",
              "      <th>50_%</th>\n",
              "      <th>150_%</th>\n",
              "      <th>250_%</th>\n",
              "      <th>len_7</th>\n",
              "      <th>finBert</th>\n",
              "      <th>pip_bert</th>\n",
              "      <th>len_exp_7</th>\n",
              "      <th>tone_score</th>\n",
              "      <th>fear</th>\n",
              "      <th>anger</th>\n",
              "      <th>anticip</th>\n",
              "      <th>trust</th>\n",
              "      <th>surprise</th>\n",
              "      <th>positive</th>\n",
              "      <th>negative</th>\n",
              "      <th>sadness</th>\n",
              "      <th>disgust</th>\n",
              "      <th>joy</th>\n",
              "      <th>anticipation</th>\n",
              "      <th>fear_exp</th>\n",
              "      <th>anger_exp</th>\n",
              "      <th>anticip_exp</th>\n",
              "      <th>trust_exp</th>\n",
              "      <th>surprise_exp</th>\n",
              "      <th>positive_exp</th>\n",
              "      <th>negative_exp</th>\n",
              "      <th>sadness_exp</th>\n",
              "      <th>disgust_exp</th>\n",
              "      <th>joy_exp</th>\n",
              "      <th>anticipation_exp</th>\n",
              "    </tr>\n",
              "  </thead>\n",
              "  <tbody>\n",
              "    <tr>\n",
              "      <th>0</th>\n",
              "      <td>1029932</td>\n",
              "      <td>2019-02-07</td>\n",
              "      <td>184.742544</td>\n",
              "      <td>MMM</td>\n",
              "      <td>2019-02-07</td>\n",
              "      <td>10.125918</td>\n",
              "      <td>-12.499613</td>\n",
              "      <td>-16.005426</td>\n",
              "      <td>161273</td>\n",
              "      <td>0.097744</td>\n",
              "      <td>0.392308</td>\n",
              "      <td>20</td>\n",
              "      <td>-0.283460</td>\n",
              "      <td>0.042995</td>\n",
              "      <td>0.031159</td>\n",
              "      <td>0.0</td>\n",
              "      <td>0.180676</td>\n",
              "      <td>0.003865</td>\n",
              "      <td>0.298309</td>\n",
              "      <td>0.138647</td>\n",
              "      <td>0.090821</td>\n",
              "      <td>0.002657</td>\n",
              "      <td>0.092995</td>\n",
              "      <td>0.117874</td>\n",
              "      <td>0.055556</td>\n",
              "      <td>0.046296</td>\n",
              "      <td>0.0</td>\n",
              "      <td>0.129630</td>\n",
              "      <td>0.018519</td>\n",
              "      <td>0.305556</td>\n",
              "      <td>0.092593</td>\n",
              "      <td>0.018519</td>\n",
              "      <td>0.018519</td>\n",
              "      <td>0.055556</td>\n",
              "      <td>0.259259</td>\n",
              "    </tr>\n",
              "    <tr>\n",
              "      <th>1</th>\n",
              "      <td>1029682</td>\n",
              "      <td>2018-02-08</td>\n",
              "      <td>200.753755</td>\n",
              "      <td>MMM</td>\n",
              "      <td>2018-02-08</td>\n",
              "      <td>-2.584217</td>\n",
              "      <td>-4.388871</td>\n",
              "      <td>-7.975548</td>\n",
              "      <td>155820</td>\n",
              "      <td>0.106383</td>\n",
              "      <td>0.437500</td>\n",
              "      <td>25</td>\n",
              "      <td>-0.233704</td>\n",
              "      <td>0.045418</td>\n",
              "      <td>0.036334</td>\n",
              "      <td>0.0</td>\n",
              "      <td>0.175795</td>\n",
              "      <td>0.005076</td>\n",
              "      <td>0.318194</td>\n",
              "      <td>0.133583</td>\n",
              "      <td>0.080951</td>\n",
              "      <td>0.003473</td>\n",
              "      <td>0.086027</td>\n",
              "      <td>0.115148</td>\n",
              "      <td>0.046154</td>\n",
              "      <td>0.038462</td>\n",
              "      <td>0.0</td>\n",
              "      <td>0.138462</td>\n",
              "      <td>0.015385</td>\n",
              "      <td>0.300000</td>\n",
              "      <td>0.061538</td>\n",
              "      <td>0.015385</td>\n",
              "      <td>0.015385</td>\n",
              "      <td>0.076923</td>\n",
              "      <td>0.292308</td>\n",
              "    </tr>\n",
              "    <tr>\n",
              "      <th>2</th>\n",
              "      <td>1029431</td>\n",
              "      <td>2017-02-09</td>\n",
              "      <td>156.788023</td>\n",
              "      <td>MMM</td>\n",
              "      <td>2017-02-09</td>\n",
              "      <td>9.712666</td>\n",
              "      <td>20.845045</td>\n",
              "      <td>33.958455</td>\n",
              "      <td>141554</td>\n",
              "      <td>0.070588</td>\n",
              "      <td>0.380000</td>\n",
              "      <td>24</td>\n",
              "      <td>-0.502304</td>\n",
              "      <td>0.045786</td>\n",
              "      <td>0.035287</td>\n",
              "      <td>0.0</td>\n",
              "      <td>0.179353</td>\n",
              "      <td>0.005249</td>\n",
              "      <td>0.332167</td>\n",
              "      <td>0.125693</td>\n",
              "      <td>0.078449</td>\n",
              "      <td>0.003791</td>\n",
              "      <td>0.081948</td>\n",
              "      <td>0.112278</td>\n",
              "      <td>0.052174</td>\n",
              "      <td>0.043478</td>\n",
              "      <td>0.0</td>\n",
              "      <td>0.130435</td>\n",
              "      <td>0.017391</td>\n",
              "      <td>0.295652</td>\n",
              "      <td>0.086957</td>\n",
              "      <td>0.034783</td>\n",
              "      <td>0.017391</td>\n",
              "      <td>0.060870</td>\n",
              "      <td>0.260870</td>\n",
              "    </tr>\n",
              "    <tr>\n",
              "      <th>3</th>\n",
              "      <td>1029180</td>\n",
              "      <td>2016-02-11</td>\n",
              "      <td>130.057425</td>\n",
              "      <td>MMM</td>\n",
              "      <td>2016-02-11</td>\n",
              "      <td>11.754165</td>\n",
              "      <td>18.711103</td>\n",
              "      <td>19.801917</td>\n",
              "      <td>135635</td>\n",
              "      <td>0.093290</td>\n",
              "      <td>0.438017</td>\n",
              "      <td>23</td>\n",
              "      <td>-0.121946</td>\n",
              "      <td>0.047044</td>\n",
              "      <td>0.034045</td>\n",
              "      <td>0.0</td>\n",
              "      <td>0.182297</td>\n",
              "      <td>0.004333</td>\n",
              "      <td>0.330238</td>\n",
              "      <td>0.123491</td>\n",
              "      <td>0.077375</td>\n",
              "      <td>0.003405</td>\n",
              "      <td>0.083565</td>\n",
              "      <td>0.114206</td>\n",
              "      <td>0.058333</td>\n",
              "      <td>0.041667</td>\n",
              "      <td>0.0</td>\n",
              "      <td>0.116667</td>\n",
              "      <td>0.016667</td>\n",
              "      <td>0.300000</td>\n",
              "      <td>0.116667</td>\n",
              "      <td>0.041667</td>\n",
              "      <td>0.016667</td>\n",
              "      <td>0.058333</td>\n",
              "      <td>0.233333</td>\n",
              "    </tr>\n",
              "    <tr>\n",
              "      <th>4</th>\n",
              "      <td>1028929</td>\n",
              "      <td>2015-02-12</td>\n",
              "      <td>139.389215</td>\n",
              "      <td>MMM</td>\n",
              "      <td>2015-02-12</td>\n",
              "      <td>-4.779700</td>\n",
              "      <td>-12.684065</td>\n",
              "      <td>-5.592474</td>\n",
              "      <td>116835</td>\n",
              "      <td>0.167742</td>\n",
              "      <td>0.460317</td>\n",
              "      <td>23</td>\n",
              "      <td>0.077165</td>\n",
              "      <td>0.047809</td>\n",
              "      <td>0.033098</td>\n",
              "      <td>0.0</td>\n",
              "      <td>0.178670</td>\n",
              "      <td>0.003984</td>\n",
              "      <td>0.331597</td>\n",
              "      <td>0.126877</td>\n",
              "      <td>0.082133</td>\n",
              "      <td>0.003065</td>\n",
              "      <td>0.080601</td>\n",
              "      <td>0.112167</td>\n",
              "      <td>0.050847</td>\n",
              "      <td>0.042373</td>\n",
              "      <td>0.0</td>\n",
              "      <td>0.152542</td>\n",
              "      <td>0.016949</td>\n",
              "      <td>0.322034</td>\n",
              "      <td>0.084746</td>\n",
              "      <td>0.033898</td>\n",
              "      <td>0.016949</td>\n",
              "      <td>0.050847</td>\n",
              "      <td>0.228814</td>\n",
              "    </tr>\n",
              "    <tr>\n",
              "      <th>...</th>\n",
              "      <td>...</td>\n",
              "      <td>...</td>\n",
              "      <td>...</td>\n",
              "      <td>...</td>\n",
              "      <td>...</td>\n",
              "      <td>...</td>\n",
              "      <td>...</td>\n",
              "      <td>...</td>\n",
              "      <td>...</td>\n",
              "      <td>...</td>\n",
              "      <td>...</td>\n",
              "      <td>...</td>\n",
              "      <td>...</td>\n",
              "      <td>...</td>\n",
              "      <td>...</td>\n",
              "      <td>...</td>\n",
              "      <td>...</td>\n",
              "      <td>...</td>\n",
              "      <td>...</td>\n",
              "      <td>...</td>\n",
              "      <td>...</td>\n",
              "      <td>...</td>\n",
              "      <td>...</td>\n",
              "      <td>...</td>\n",
              "      <td>...</td>\n",
              "      <td>...</td>\n",
              "      <td>...</td>\n",
              "      <td>...</td>\n",
              "      <td>...</td>\n",
              "      <td>...</td>\n",
              "      <td>...</td>\n",
              "      <td>...</td>\n",
              "      <td>...</td>\n",
              "      <td>...</td>\n",
              "      <td>...</td>\n",
              "    </tr>\n",
              "    <tr>\n",
              "      <th>2206</th>\n",
              "      <td>2017-02-16 00:00:00</td>\n",
              "      <td>NaN</td>\n",
              "      <td>51.491336</td>\n",
              "      <td>ZTS</td>\n",
              "      <td>2017-02-16</td>\n",
              "      <td>6.843955</td>\n",
              "      <td>22.162173</td>\n",
              "      <td>42.045048</td>\n",
              "      <td>126800</td>\n",
              "      <td>0.013807</td>\n",
              "      <td>0.421053</td>\n",
              "      <td>21</td>\n",
              "      <td>-0.668815</td>\n",
              "      <td>0.047836</td>\n",
              "      <td>0.036700</td>\n",
              "      <td>0.0</td>\n",
              "      <td>0.166034</td>\n",
              "      <td>0.013414</td>\n",
              "      <td>0.293597</td>\n",
              "      <td>0.164009</td>\n",
              "      <td>0.077955</td>\n",
              "      <td>0.013414</td>\n",
              "      <td>0.065553</td>\n",
              "      <td>0.121488</td>\n",
              "      <td>0.049451</td>\n",
              "      <td>0.041209</td>\n",
              "      <td>0.0</td>\n",
              "      <td>0.140110</td>\n",
              "      <td>0.038462</td>\n",
              "      <td>0.258242</td>\n",
              "      <td>0.142857</td>\n",
              "      <td>0.076923</td>\n",
              "      <td>0.010989</td>\n",
              "      <td>0.043956</td>\n",
              "      <td>0.197802</td>\n",
              "    </tr>\n",
              "    <tr>\n",
              "      <th>2207</th>\n",
              "      <td>1718710</td>\n",
              "      <td>2016-02-24</td>\n",
              "      <td>41.002413</td>\n",
              "      <td>ZTS</td>\n",
              "      <td>2016-02-24</td>\n",
              "      <td>14.090045</td>\n",
              "      <td>22.926237</td>\n",
              "      <td>27.222974</td>\n",
              "      <td>140133</td>\n",
              "      <td>0.043619</td>\n",
              "      <td>0.389706</td>\n",
              "      <td>23</td>\n",
              "      <td>-0.767853</td>\n",
              "      <td>0.047045</td>\n",
              "      <td>0.036385</td>\n",
              "      <td>0.0</td>\n",
              "      <td>0.175898</td>\n",
              "      <td>0.014600</td>\n",
              "      <td>0.299652</td>\n",
              "      <td>0.154345</td>\n",
              "      <td>0.069988</td>\n",
              "      <td>0.012051</td>\n",
              "      <td>0.069293</td>\n",
              "      <td>0.120742</td>\n",
              "      <td>0.061404</td>\n",
              "      <td>0.049708</td>\n",
              "      <td>0.0</td>\n",
              "      <td>0.175439</td>\n",
              "      <td>0.040936</td>\n",
              "      <td>0.271930</td>\n",
              "      <td>0.099415</td>\n",
              "      <td>0.038012</td>\n",
              "      <td>0.002924</td>\n",
              "      <td>0.055556</td>\n",
              "      <td>0.204678</td>\n",
              "    </tr>\n",
              "    <tr>\n",
              "      <th>2208</th>\n",
              "      <td>1718461</td>\n",
              "      <td>2015-02-27</td>\n",
              "      <td>44.269763</td>\n",
              "      <td>ZTS</td>\n",
              "      <td>2015-02-27</td>\n",
              "      <td>0.179034</td>\n",
              "      <td>-10.099508</td>\n",
              "      <td>-6.221985</td>\n",
              "      <td>147707</td>\n",
              "      <td>0.058730</td>\n",
              "      <td>0.384000</td>\n",
              "      <td>17</td>\n",
              "      <td>-0.389656</td>\n",
              "      <td>0.042950</td>\n",
              "      <td>0.034707</td>\n",
              "      <td>0.0</td>\n",
              "      <td>0.175271</td>\n",
              "      <td>0.012364</td>\n",
              "      <td>0.302386</td>\n",
              "      <td>0.153579</td>\n",
              "      <td>0.070933</td>\n",
              "      <td>0.014100</td>\n",
              "      <td>0.075271</td>\n",
              "      <td>0.118438</td>\n",
              "      <td>0.068670</td>\n",
              "      <td>0.047210</td>\n",
              "      <td>0.0</td>\n",
              "      <td>0.167382</td>\n",
              "      <td>0.025751</td>\n",
              "      <td>0.309013</td>\n",
              "      <td>0.085837</td>\n",
              "      <td>0.025751</td>\n",
              "      <td>0.000000</td>\n",
              "      <td>0.068670</td>\n",
              "      <td>0.201717</td>\n",
              "    </tr>\n",
              "    <tr>\n",
              "      <th>2209</th>\n",
              "      <td>1718228</td>\n",
              "      <td>2014-03-26</td>\n",
              "      <td>27.755330</td>\n",
              "      <td>ZTS</td>\n",
              "      <td>2014-03-26</td>\n",
              "      <td>9.190661</td>\n",
              "      <td>27.590477</td>\n",
              "      <td>62.718420</td>\n",
              "      <td>140915</td>\n",
              "      <td>0.062185</td>\n",
              "      <td>0.390244</td>\n",
              "      <td>19</td>\n",
              "      <td>-0.557251</td>\n",
              "      <td>0.044058</td>\n",
              "      <td>0.037506</td>\n",
              "      <td>0.0</td>\n",
              "      <td>0.168324</td>\n",
              "      <td>0.012878</td>\n",
              "      <td>0.293945</td>\n",
              "      <td>0.159060</td>\n",
              "      <td>0.077723</td>\n",
              "      <td>0.014234</td>\n",
              "      <td>0.072978</td>\n",
              "      <td>0.119295</td>\n",
              "      <td>0.065217</td>\n",
              "      <td>0.047826</td>\n",
              "      <td>0.0</td>\n",
              "      <td>0.178261</td>\n",
              "      <td>0.047826</td>\n",
              "      <td>0.282609</td>\n",
              "      <td>0.082609</td>\n",
              "      <td>0.026087</td>\n",
              "      <td>0.000000</td>\n",
              "      <td>0.052174</td>\n",
              "      <td>0.217391</td>\n",
              "    </tr>\n",
              "    <tr>\n",
              "      <th>2210</th>\n",
              "      <td>2013-03-28 00:00:00</td>\n",
              "      <td>NaN</td>\n",
              "      <td>31.469228</td>\n",
              "      <td>ZTS</td>\n",
              "      <td>2013-03-28</td>\n",
              "      <td>-3.970939</td>\n",
              "      <td>-3.417410</td>\n",
              "      <td>-11.801679</td>\n",
              "      <td>113423</td>\n",
              "      <td>0.073171</td>\n",
              "      <td>0.375940</td>\n",
              "      <td>22</td>\n",
              "      <td>-0.866807</td>\n",
              "      <td>0.043430</td>\n",
              "      <td>0.039281</td>\n",
              "      <td>0.0</td>\n",
              "      <td>0.162102</td>\n",
              "      <td>0.013555</td>\n",
              "      <td>0.294606</td>\n",
              "      <td>0.154080</td>\n",
              "      <td>0.075519</td>\n",
              "      <td>0.013001</td>\n",
              "      <td>0.078838</td>\n",
              "      <td>0.125588</td>\n",
              "      <td>0.056962</td>\n",
              "      <td>0.044304</td>\n",
              "      <td>0.0</td>\n",
              "      <td>0.170886</td>\n",
              "      <td>0.037975</td>\n",
              "      <td>0.262658</td>\n",
              "      <td>0.104430</td>\n",
              "      <td>0.060127</td>\n",
              "      <td>0.009494</td>\n",
              "      <td>0.053797</td>\n",
              "      <td>0.199367</td>\n",
              "    </tr>\n",
              "  </tbody>\n",
              "</table>\n",
              "<p>2211 rows × 35 columns</p>\n",
              "</div>"
            ],
            "text/plain": [
              "               Unnamed: 0        date  ...   joy_exp anticipation_exp\n",
              "0                 1029932  2019-02-07  ...  0.055556         0.259259\n",
              "1                 1029682  2018-02-08  ...  0.076923         0.292308\n",
              "2                 1029431  2017-02-09  ...  0.060870         0.260870\n",
              "3                 1029180  2016-02-11  ...  0.058333         0.233333\n",
              "4                 1028929  2015-02-12  ...  0.050847         0.228814\n",
              "...                   ...         ...  ...       ...              ...\n",
              "2206  2017-02-16 00:00:00         NaN  ...  0.043956         0.197802\n",
              "2207              1718710  2016-02-24  ...  0.055556         0.204678\n",
              "2208              1718461  2015-02-27  ...  0.068670         0.201717\n",
              "2209              1718228  2014-03-26  ...  0.052174         0.217391\n",
              "2210  2013-03-28 00:00:00         NaN  ...  0.053797         0.199367\n",
              "\n",
              "[2211 rows x 35 columns]"
            ]
          },
          "metadata": {
            "tags": []
          },
          "execution_count": 51
        }
      ]
    },
    {
      "cell_type": "code",
      "metadata": {
        "id": "yJeUdV1MzzKW"
      },
      "source": [
        ""
      ],
      "execution_count": null,
      "outputs": []
    },
    {
      "cell_type": "markdown",
      "metadata": {
        "id": "A2zfgxnvX_8r"
      },
      "source": [
        "## Создаем сводную для анализа, работаем с result"
      ]
    },
    {
      "cell_type": "code",
      "metadata": {
        "colab": {
          "base_uri": "https://localhost:8080/",
          "height": 80
        },
        "id": "aUmr34dXiriV",
        "outputId": "27ded30a-affa-4c4c-f411-f038c8e35f0e"
      },
      "source": [
        "tickerandsector[tickerandsector['ticker'] == 'WAT']"
      ],
      "execution_count": null,
      "outputs": [
        {
          "output_type": "execute_result",
          "data": {
            "text/plain": [
              "    ticker         SEC     industry\n",
              "483    WAT  0001000697  Health Care"
            ],
            "text/html": [
              "<div>\n",
              "<style scoped>\n",
              "    .dataframe tbody tr th:only-of-type {\n",
              "        vertical-align: middle;\n",
              "    }\n",
              "\n",
              "    .dataframe tbody tr th {\n",
              "        vertical-align: top;\n",
              "    }\n",
              "\n",
              "    .dataframe thead th {\n",
              "        text-align: right;\n",
              "    }\n",
              "</style>\n",
              "<table border=\"1\" class=\"dataframe\">\n",
              "  <thead>\n",
              "    <tr style=\"text-align: right;\">\n",
              "      <th></th>\n",
              "      <th>ticker</th>\n",
              "      <th>SEC</th>\n",
              "      <th>industry</th>\n",
              "    </tr>\n",
              "  </thead>\n",
              "  <tbody>\n",
              "    <tr>\n",
              "      <th>483</th>\n",
              "      <td>WAT</td>\n",
              "      <td>0001000697</td>\n",
              "      <td>Health Care</td>\n",
              "    </tr>\n",
              "  </tbody>\n",
              "</table>\n",
              "</div>"
            ]
          },
          "metadata": {
            "tags": []
          },
          "execution_count": 209
        }
      ]
    },
    {
      "cell_type": "code",
      "metadata": {
        "colab": {
          "base_uri": "https://localhost:8080/"
        },
        "id": "i3gnlf2skiaS",
        "outputId": "cac1801a-181a-4fc0-f351-3e9aed0b74c0"
      },
      "source": [
        ""
      ],
      "execution_count": null,
      "outputs": [
        {
          "output_type": "execute_result",
          "data": {
            "text/plain": [
              "2184    none\n",
              "Name: Industry, dtype: object"
            ]
          },
          "metadata": {
            "tags": []
          },
          "execution_count": 213
        }
      ]
    },
    {
      "cell_type": "code",
      "metadata": {
        "colab": {
          "base_uri": "https://localhost:8080/",
          "height": 606
        },
        "id": "dphBFtTNiffh",
        "outputId": "d0bd0923-6ae6-41dc-a9c6-07f286b15faf"
      },
      "source": [
        "result\r\n",
        "# dict(tickerandsector[['ticker', 'industry']].values)[s]"
      ],
      "execution_count": null,
      "outputs": [
        {
          "output_type": "execute_result",
          "data": {
            "text/html": [
              "<div>\n",
              "<style scoped>\n",
              "    .dataframe tbody tr th:only-of-type {\n",
              "        vertical-align: middle;\n",
              "    }\n",
              "\n",
              "    .dataframe tbody tr th {\n",
              "        vertical-align: top;\n",
              "    }\n",
              "\n",
              "    .dataframe thead th {\n",
              "        text-align: right;\n",
              "    }\n",
              "</style>\n",
              "<table border=\"1\" class=\"dataframe\">\n",
              "  <thead>\n",
              "    <tr style=\"text-align: right;\">\n",
              "      <th></th>\n",
              "      <th>Unnamed: 0</th>\n",
              "      <th>date</th>\n",
              "      <th>5. adjusted close</th>\n",
              "      <th>Symbol</th>\n",
              "      <th>Date</th>\n",
              "      <th>50_%</th>\n",
              "      <th>150_%</th>\n",
              "      <th>250_%</th>\n",
              "      <th>message</th>\n",
              "      <th>Year</th>\n",
              "      <th>Industry</th>\n",
              "    </tr>\n",
              "  </thead>\n",
              "  <tbody>\n",
              "    <tr>\n",
              "      <th>0</th>\n",
              "      <td>1029932</td>\n",
              "      <td>2019-02-07</td>\n",
              "      <td>184.742544</td>\n",
              "      <td>MMM</td>\n",
              "      <td>2019-02-07</td>\n",
              "      <td>10.125918</td>\n",
              "      <td>-12.499613</td>\n",
              "      <td>-16.005426</td>\n",
              "      <td>&gt;Item 7. Management’s Discussion and Analysis ...</td>\n",
              "      <td>2019</td>\n",
              "      <td>Industrials</td>\n",
              "    </tr>\n",
              "    <tr>\n",
              "      <th>1</th>\n",
              "      <td>1029682</td>\n",
              "      <td>2018-02-08</td>\n",
              "      <td>200.753755</td>\n",
              "      <td>MMM</td>\n",
              "      <td>2018-02-08</td>\n",
              "      <td>-2.584217</td>\n",
              "      <td>-4.388871</td>\n",
              "      <td>-7.975548</td>\n",
              "      <td>&gt;Item 7. Management’s Discussion and Analysis ...</td>\n",
              "      <td>2018</td>\n",
              "      <td>Industrials</td>\n",
              "    </tr>\n",
              "    <tr>\n",
              "      <th>2</th>\n",
              "      <td>1029431</td>\n",
              "      <td>2017-02-09</td>\n",
              "      <td>156.788023</td>\n",
              "      <td>MMM</td>\n",
              "      <td>2017-02-09</td>\n",
              "      <td>9.712666</td>\n",
              "      <td>20.845045</td>\n",
              "      <td>33.958455</td>\n",
              "      <td>&gt;Item 7. Management’s Discussion and Analysis ...</td>\n",
              "      <td>2017</td>\n",
              "      <td>Industrials</td>\n",
              "    </tr>\n",
              "    <tr>\n",
              "      <th>3</th>\n",
              "      <td>1029180</td>\n",
              "      <td>2016-02-11</td>\n",
              "      <td>130.057425</td>\n",
              "      <td>MMM</td>\n",
              "      <td>2016-02-11</td>\n",
              "      <td>11.754165</td>\n",
              "      <td>18.711103</td>\n",
              "      <td>19.801917</td>\n",
              "      <td>&gt;Item 7. Management’s Discussion and Analysis ...</td>\n",
              "      <td>2016</td>\n",
              "      <td>Industrials</td>\n",
              "    </tr>\n",
              "    <tr>\n",
              "      <th>4</th>\n",
              "      <td>1028929</td>\n",
              "      <td>2015-02-12</td>\n",
              "      <td>139.389215</td>\n",
              "      <td>MMM</td>\n",
              "      <td>2015-02-12</td>\n",
              "      <td>-4.779700</td>\n",
              "      <td>-12.684065</td>\n",
              "      <td>-5.592474</td>\n",
              "      <td>&gt;Item 7. Managements Discussion and Analysis ...</td>\n",
              "      <td>2015</td>\n",
              "      <td>Industrials</td>\n",
              "    </tr>\n",
              "    <tr>\n",
              "      <th>...</th>\n",
              "      <td>...</td>\n",
              "      <td>...</td>\n",
              "      <td>...</td>\n",
              "      <td>...</td>\n",
              "      <td>...</td>\n",
              "      <td>...</td>\n",
              "      <td>...</td>\n",
              "      <td>...</td>\n",
              "      <td>...</td>\n",
              "      <td>...</td>\n",
              "      <td>...</td>\n",
              "    </tr>\n",
              "    <tr>\n",
              "      <th>2206</th>\n",
              "      <td>2017-02-16 00:00:00</td>\n",
              "      <td>NaN</td>\n",
              "      <td>51.491336</td>\n",
              "      <td>ZTS</td>\n",
              "      <td>2017-02-16</td>\n",
              "      <td>6.843955</td>\n",
              "      <td>22.162173</td>\n",
              "      <td>42.045048</td>\n",
              "      <td>&gt;Item 7. Management’s Discussion and Analysis ...</td>\n",
              "      <td>2017</td>\n",
              "      <td>Health Care</td>\n",
              "    </tr>\n",
              "    <tr>\n",
              "      <th>2207</th>\n",
              "      <td>1718710</td>\n",
              "      <td>2016-02-24</td>\n",
              "      <td>41.002413</td>\n",
              "      <td>ZTS</td>\n",
              "      <td>2016-02-24</td>\n",
              "      <td>14.090045</td>\n",
              "      <td>22.926237</td>\n",
              "      <td>27.222974</td>\n",
              "      <td>&gt;Item 7. Management’s Discussion and Analysis ...</td>\n",
              "      <td>2016</td>\n",
              "      <td>Health Care</td>\n",
              "    </tr>\n",
              "    <tr>\n",
              "      <th>2208</th>\n",
              "      <td>1718461</td>\n",
              "      <td>2015-02-27</td>\n",
              "      <td>44.269763</td>\n",
              "      <td>ZTS</td>\n",
              "      <td>2015-02-27</td>\n",
              "      <td>0.179034</td>\n",
              "      <td>-10.099508</td>\n",
              "      <td>-6.221985</td>\n",
              "      <td>&gt;Item 7. Management’s Discussion and Analysis ...</td>\n",
              "      <td>2015</td>\n",
              "      <td>Health Care</td>\n",
              "    </tr>\n",
              "    <tr>\n",
              "      <th>2209</th>\n",
              "      <td>1718228</td>\n",
              "      <td>2014-03-26</td>\n",
              "      <td>27.755330</td>\n",
              "      <td>ZTS</td>\n",
              "      <td>2014-03-26</td>\n",
              "      <td>9.190661</td>\n",
              "      <td>27.590477</td>\n",
              "      <td>62.718420</td>\n",
              "      <td>&gt;Item 7. Management’s Discussion and Analysis ...</td>\n",
              "      <td>2014</td>\n",
              "      <td>Health Care</td>\n",
              "    </tr>\n",
              "    <tr>\n",
              "      <th>2210</th>\n",
              "      <td>2013-03-28 00:00:00</td>\n",
              "      <td>NaN</td>\n",
              "      <td>31.469228</td>\n",
              "      <td>ZTS</td>\n",
              "      <td>2013-03-28</td>\n",
              "      <td>-3.970939</td>\n",
              "      <td>-3.417410</td>\n",
              "      <td>-11.801679</td>\n",
              "      <td>&gt;Item 7. Management’s Discussion and Analysis ...</td>\n",
              "      <td>2013</td>\n",
              "      <td>Health Care</td>\n",
              "    </tr>\n",
              "  </tbody>\n",
              "</table>\n",
              "<p>2211 rows × 11 columns</p>\n",
              "</div>"
            ],
            "text/plain": [
              "               Unnamed: 0        date  ...  Year     Industry\n",
              "0                 1029932  2019-02-07  ...  2019  Industrials\n",
              "1                 1029682  2018-02-08  ...  2018  Industrials\n",
              "2                 1029431  2017-02-09  ...  2017  Industrials\n",
              "3                 1029180  2016-02-11  ...  2016  Industrials\n",
              "4                 1028929  2015-02-12  ...  2015  Industrials\n",
              "...                   ...         ...  ...   ...          ...\n",
              "2206  2017-02-16 00:00:00         NaN  ...  2017  Health Care\n",
              "2207              1718710  2016-02-24  ...  2016  Health Care\n",
              "2208              1718461  2015-02-27  ...  2015  Health Care\n",
              "2209              1718228  2014-03-26  ...  2014  Health Care\n",
              "2210  2013-03-28 00:00:00         NaN  ...  2013  Health Care\n",
              "\n",
              "[2211 rows x 11 columns]"
            ]
          },
          "metadata": {
            "tags": []
          },
          "execution_count": 17
        }
      ]
    },
    {
      "cell_type": "code",
      "metadata": {
        "colab": {
          "base_uri": "https://localhost:8080/"
        },
        "id": "WHbv7Tnnjc7Q",
        "outputId": "0b7cdd94-7179-4e85-e703-636e3b83e051"
      },
      "source": [
        "# result.iloc[i:i+1]['Industry'] = dict(tickerandsector[['ticker', 'industry']].values)[s]\r\n",
        "result.loc[100]['Industry'] = 100 \r\n",
        "result.loc[100]['Industry']"
      ],
      "execution_count": null,
      "outputs": [
        {
          "output_type": "stream",
          "text": [
            "C:\\Users\\afecn\\anaconda3.1\\envs\\ml\\lib\\site-packages\\ipykernel_launcher.py:2: SettingWithCopyWarning: \n",
            "A value is trying to be set on a copy of a slice from a DataFrame\n",
            "\n",
            "See the caveats in the documentation: https://pandas.pydata.org/pandas-docs/stable/user_guide/indexing.html#returning-a-view-versus-a-copy\n",
            "  \n"
          ],
          "name": "stderr"
        },
        {
          "output_type": "execute_result",
          "data": {
            "text/plain": [
              "'none'"
            ]
          },
          "metadata": {
            "tags": []
          },
          "execution_count": 224
        }
      ]
    },
    {
      "cell_type": "code",
      "metadata": {
        "colab": {
          "base_uri": "https://localhost:8080/"
        },
        "id": "X6p5dPMHX_8r",
        "scrolled": true,
        "outputId": "dece939f-f55b-45de-b806-731337dc21bb"
      },
      "source": [
        "result['Industry'] = \"\"\n",
        "for i, s in zip(list(range(len(result))), result['Symbol']):\n",
        "    # try:\n",
        "  # display(i,s)\n",
        "  result.iloc[i:i+1]['Industry'] = dict(tickerandsector[['ticker', 'industry']].values)[s]\n",
        "    #     result.iloc[i:i+1]['Industry']\n",
        "    #     display(result.iloc[i:i+1]['Symbol'])\n",
        "#         display(i,s, dict(tickerandsector[['ticker', 'industry']].values)[s])\n",
        "    # except:\n",
        "    #     continue\n",
        "\n",
        "# result['Date'] = pd.to_datetime(result['Date'])\n",
        "# result['sum_em'] = result['fear'] + result['anger'] + result['anticipation'] + result['trust'] + result['surprise'] + \\\n",
        "# result['positive'] + result['negative'] + result['sadness'] + result['disgust'] + result['joy']\n",
        "# result['Year'] = result['Date'].dt.year\n",
        "# result['Mont'] = result['Date'].dt.month"
      ],
      "execution_count": null,
      "outputs": [
        {
          "output_type": "stream",
          "text": [
            "/usr/local/lib/python3.7/dist-packages/ipykernel_launcher.py:5: SettingWithCopyWarning: \n",
            "A value is trying to be set on a copy of a slice from a DataFrame.\n",
            "Try using .loc[row_indexer,col_indexer] = value instead\n",
            "\n",
            "See the caveats in the documentation: https://pandas.pydata.org/pandas-docs/stable/user_guide/indexing.html#returning-a-view-versus-a-copy\n",
            "  \"\"\"\n"
          ],
          "name": "stderr"
        }
      ]
    },
    {
      "cell_type": "code",
      "metadata": {
        "colab": {
          "base_uri": "https://localhost:8080/",
          "height": 452
        },
        "id": "OpkHL1MCX_8s",
        "outputId": "75d7ef70-f7de-40b1-b3cd-15569eec0a80"
      },
      "source": [
        "import seaborn as sns\n",
        "# sns.figure(figsize = (20,10))\n",
        "result[[\\\n",
        "        'negative', 'fear', 'trust', 'surprise', 'positive', 'sadness', 'joy', 'anticipation', 'disgust', 'anger',\\\n",
        "        '50_%', '250_%',\n",
        "        'numb_aff'\n",
        "        # 'len_7', 'tone_score', 'finBert', 'pip_bert',\\\n",
        "# 'negative_exp', 'fear_exp', 'trust_exp', 'surprise_exp', 'positive_exp', 'sadness_exp', 'joy_exp', 'anticipation_exp', 'disgust_exp', 'anger_exp'\n",
        "#         'negative_n', 'fear_n', 'trust_n', 'surprise_n', 'positive_n', 'sadness_n', 'joy_n', 'anticipation_n', 'disgust_n', 'anger_n',\\\n",
        "#         'Lengh_10','Share','Volumt'\n",
        "       ]].corr()\n",
        "# sns.heatmap(result[['negative', 'fear', 'trust', 'surprise', 'positive', 'sadness', 'joy', 'anticipation', 'disgust', 'anger']].corr())"
      ],
      "execution_count": null,
      "outputs": [
        {
          "output_type": "execute_result",
          "data": {
            "text/html": [
              "<div>\n",
              "<style scoped>\n",
              "    .dataframe tbody tr th:only-of-type {\n",
              "        vertical-align: middle;\n",
              "    }\n",
              "\n",
              "    .dataframe tbody tr th {\n",
              "        vertical-align: top;\n",
              "    }\n",
              "\n",
              "    .dataframe thead th {\n",
              "        text-align: right;\n",
              "    }\n",
              "</style>\n",
              "<table border=\"1\" class=\"dataframe\">\n",
              "  <thead>\n",
              "    <tr style=\"text-align: right;\">\n",
              "      <th></th>\n",
              "      <th>negative</th>\n",
              "      <th>fear</th>\n",
              "      <th>trust</th>\n",
              "      <th>surprise</th>\n",
              "      <th>positive</th>\n",
              "      <th>sadness</th>\n",
              "      <th>joy</th>\n",
              "      <th>anticipation</th>\n",
              "      <th>disgust</th>\n",
              "      <th>anger</th>\n",
              "      <th>50_%</th>\n",
              "      <th>250_%</th>\n",
              "      <th>numb_aff</th>\n",
              "    </tr>\n",
              "  </thead>\n",
              "  <tbody>\n",
              "    <tr>\n",
              "      <th>negative</th>\n",
              "      <td>1.000000</td>\n",
              "      <td>-0.009925</td>\n",
              "      <td>-0.393995</td>\n",
              "      <td>-0.079427</td>\n",
              "      <td>-0.578120</td>\n",
              "      <td>0.679144</td>\n",
              "      <td>-0.315013</td>\n",
              "      <td>-0.305188</td>\n",
              "      <td>0.429190</td>\n",
              "      <td>0.042018</td>\n",
              "      <td>0.031451</td>\n",
              "      <td>0.004624</td>\n",
              "      <td>0.067829</td>\n",
              "    </tr>\n",
              "    <tr>\n",
              "      <th>fear</th>\n",
              "      <td>-0.009925</td>\n",
              "      <td>1.000000</td>\n",
              "      <td>-0.162035</td>\n",
              "      <td>0.151283</td>\n",
              "      <td>-0.300014</td>\n",
              "      <td>-0.009707</td>\n",
              "      <td>-0.271613</td>\n",
              "      <td>-0.207856</td>\n",
              "      <td>0.115668</td>\n",
              "      <td>0.513631</td>\n",
              "      <td>0.038672</td>\n",
              "      <td>-0.007529</td>\n",
              "      <td>0.215948</td>\n",
              "    </tr>\n",
              "    <tr>\n",
              "      <th>trust</th>\n",
              "      <td>-0.393995</td>\n",
              "      <td>-0.162035</td>\n",
              "      <td>1.000000</td>\n",
              "      <td>-0.127286</td>\n",
              "      <td>0.081996</td>\n",
              "      <td>-0.368167</td>\n",
              "      <td>0.164847</td>\n",
              "      <td>-0.215843</td>\n",
              "      <td>-0.410194</td>\n",
              "      <td>-0.194036</td>\n",
              "      <td>-0.010911</td>\n",
              "      <td>0.039507</td>\n",
              "      <td>0.038049</td>\n",
              "    </tr>\n",
              "    <tr>\n",
              "      <th>surprise</th>\n",
              "      <td>-0.079427</td>\n",
              "      <td>0.151283</td>\n",
              "      <td>-0.127286</td>\n",
              "      <td>1.000000</td>\n",
              "      <td>-0.086121</td>\n",
              "      <td>-0.092260</td>\n",
              "      <td>-0.064348</td>\n",
              "      <td>-0.033905</td>\n",
              "      <td>0.065117</td>\n",
              "      <td>0.057790</td>\n",
              "      <td>-0.006716</td>\n",
              "      <td>0.021325</td>\n",
              "      <td>0.128889</td>\n",
              "    </tr>\n",
              "    <tr>\n",
              "      <th>positive</th>\n",
              "      <td>-0.578120</td>\n",
              "      <td>-0.300014</td>\n",
              "      <td>0.081996</td>\n",
              "      <td>-0.086121</td>\n",
              "      <td>1.000000</td>\n",
              "      <td>-0.574575</td>\n",
              "      <td>-0.156264</td>\n",
              "      <td>0.037963</td>\n",
              "      <td>-0.249303</td>\n",
              "      <td>-0.374395</td>\n",
              "      <td>-0.042210</td>\n",
              "      <td>-0.009061</td>\n",
              "      <td>-0.420463</td>\n",
              "    </tr>\n",
              "    <tr>\n",
              "      <th>sadness</th>\n",
              "      <td>0.679144</td>\n",
              "      <td>-0.009707</td>\n",
              "      <td>-0.368167</td>\n",
              "      <td>-0.092260</td>\n",
              "      <td>-0.574575</td>\n",
              "      <td>1.000000</td>\n",
              "      <td>-0.033672</td>\n",
              "      <td>-0.255524</td>\n",
              "      <td>0.179402</td>\n",
              "      <td>-0.049404</td>\n",
              "      <td>0.019270</td>\n",
              "      <td>-0.042028</td>\n",
              "      <td>0.244084</td>\n",
              "    </tr>\n",
              "    <tr>\n",
              "      <th>joy</th>\n",
              "      <td>-0.315013</td>\n",
              "      <td>-0.271613</td>\n",
              "      <td>0.164847</td>\n",
              "      <td>-0.064348</td>\n",
              "      <td>-0.156264</td>\n",
              "      <td>-0.033672</td>\n",
              "      <td>1.000000</td>\n",
              "      <td>0.289225</td>\n",
              "      <td>-0.339111</td>\n",
              "      <td>-0.064676</td>\n",
              "      <td>-0.013865</td>\n",
              "      <td>-0.019732</td>\n",
              "      <td>0.254035</td>\n",
              "    </tr>\n",
              "    <tr>\n",
              "      <th>anticipation</th>\n",
              "      <td>-0.305188</td>\n",
              "      <td>-0.207856</td>\n",
              "      <td>-0.215843</td>\n",
              "      <td>-0.033905</td>\n",
              "      <td>0.037963</td>\n",
              "      <td>-0.255524</td>\n",
              "      <td>0.289225</td>\n",
              "      <td>1.000000</td>\n",
              "      <td>-0.101001</td>\n",
              "      <td>-0.036274</td>\n",
              "      <td>-0.005724</td>\n",
              "      <td>0.002513</td>\n",
              "      <td>-0.059886</td>\n",
              "    </tr>\n",
              "    <tr>\n",
              "      <th>disgust</th>\n",
              "      <td>0.429190</td>\n",
              "      <td>0.115668</td>\n",
              "      <td>-0.410194</td>\n",
              "      <td>0.065117</td>\n",
              "      <td>-0.249303</td>\n",
              "      <td>0.179402</td>\n",
              "      <td>-0.339111</td>\n",
              "      <td>-0.101001</td>\n",
              "      <td>1.000000</td>\n",
              "      <td>0.072123</td>\n",
              "      <td>-0.000567</td>\n",
              "      <td>-0.005881</td>\n",
              "      <td>0.031350</td>\n",
              "    </tr>\n",
              "    <tr>\n",
              "      <th>anger</th>\n",
              "      <td>0.042018</td>\n",
              "      <td>0.513631</td>\n",
              "      <td>-0.194036</td>\n",
              "      <td>0.057790</td>\n",
              "      <td>-0.374395</td>\n",
              "      <td>-0.049404</td>\n",
              "      <td>-0.064676</td>\n",
              "      <td>-0.036274</td>\n",
              "      <td>0.072123</td>\n",
              "      <td>1.000000</td>\n",
              "      <td>0.042130</td>\n",
              "      <td>0.035770</td>\n",
              "      <td>0.174528</td>\n",
              "    </tr>\n",
              "    <tr>\n",
              "      <th>50_%</th>\n",
              "      <td>0.031451</td>\n",
              "      <td>0.038672</td>\n",
              "      <td>-0.010911</td>\n",
              "      <td>-0.006716</td>\n",
              "      <td>-0.042210</td>\n",
              "      <td>0.019270</td>\n",
              "      <td>-0.013865</td>\n",
              "      <td>-0.005724</td>\n",
              "      <td>-0.000567</td>\n",
              "      <td>0.042130</td>\n",
              "      <td>1.000000</td>\n",
              "      <td>0.404943</td>\n",
              "      <td>0.030483</td>\n",
              "    </tr>\n",
              "    <tr>\n",
              "      <th>250_%</th>\n",
              "      <td>0.004624</td>\n",
              "      <td>-0.007529</td>\n",
              "      <td>0.039507</td>\n",
              "      <td>0.021325</td>\n",
              "      <td>-0.009061</td>\n",
              "      <td>-0.042028</td>\n",
              "      <td>-0.019732</td>\n",
              "      <td>0.002513</td>\n",
              "      <td>-0.005881</td>\n",
              "      <td>0.035770</td>\n",
              "      <td>0.404943</td>\n",
              "      <td>1.000000</td>\n",
              "      <td>0.021107</td>\n",
              "    </tr>\n",
              "    <tr>\n",
              "      <th>numb_aff</th>\n",
              "      <td>0.067829</td>\n",
              "      <td>0.215948</td>\n",
              "      <td>0.038049</td>\n",
              "      <td>0.128889</td>\n",
              "      <td>-0.420463</td>\n",
              "      <td>0.244084</td>\n",
              "      <td>0.254035</td>\n",
              "      <td>-0.059886</td>\n",
              "      <td>0.031350</td>\n",
              "      <td>0.174528</td>\n",
              "      <td>0.030483</td>\n",
              "      <td>0.021107</td>\n",
              "      <td>1.000000</td>\n",
              "    </tr>\n",
              "  </tbody>\n",
              "</table>\n",
              "</div>"
            ],
            "text/plain": [
              "              negative      fear     trust  ...      50_%     250_%  numb_aff\n",
              "negative      1.000000 -0.009925 -0.393995  ...  0.031451  0.004624  0.067829\n",
              "fear         -0.009925  1.000000 -0.162035  ...  0.038672 -0.007529  0.215948\n",
              "trust        -0.393995 -0.162035  1.000000  ... -0.010911  0.039507  0.038049\n",
              "surprise     -0.079427  0.151283 -0.127286  ... -0.006716  0.021325  0.128889\n",
              "positive     -0.578120 -0.300014  0.081996  ... -0.042210 -0.009061 -0.420463\n",
              "sadness       0.679144 -0.009707 -0.368167  ...  0.019270 -0.042028  0.244084\n",
              "joy          -0.315013 -0.271613  0.164847  ... -0.013865 -0.019732  0.254035\n",
              "anticipation -0.305188 -0.207856 -0.215843  ... -0.005724  0.002513 -0.059886\n",
              "disgust       0.429190  0.115668 -0.410194  ... -0.000567 -0.005881  0.031350\n",
              "anger         0.042018  0.513631 -0.194036  ...  0.042130  0.035770  0.174528\n",
              "50_%          0.031451  0.038672 -0.010911  ...  1.000000  0.404943  0.030483\n",
              "250_%         0.004624 -0.007529  0.039507  ...  0.404943  1.000000  0.021107\n",
              "numb_aff      0.067829  0.215948  0.038049  ...  0.030483  0.021107  1.000000\n",
              "\n",
              "[13 rows x 13 columns]"
            ]
          },
          "metadata": {
            "tags": []
          },
          "execution_count": 124
        }
      ]
    },
    {
      "cell_type": "markdown",
      "metadata": {
        "id": "R3hCyWHE3Qfd"
      },
      "source": [
        "### Качнули result"
      ]
    },
    {
      "cell_type": "code",
      "metadata": {
        "id": "-VJ1syFl3UuV"
      },
      "source": [
        "# result.to_csv('/content/drive/MyDrive/Marat/result.csv')\r\n",
        "# result = pd.read_csv('/content/drive/MyDrive/Marat/result.csv', parse_dates=['Date'])"
      ],
      "execution_count": null,
      "outputs": []
    },
    {
      "cell_type": "markdown",
      "metadata": {
        "id": "Er_wzpSt2_8y"
      },
      "source": [
        "### СОздали result_all тут лебелим фичи или профиты"
      ]
    },
    {
      "cell_type": "code",
      "metadata": {
        "collapsed": true,
        "id": "yVirBk7vX_8t"
      },
      "source": [
        "mt = [\\\n",
        "      'negative', 'fear', 'trust', 'surprise', 'positive', 'sadness', 'joy', 'anticipation', 'disgust', 'anger', \\\n",
        "      'numb_aff',\n",
        "      # 'len_7',\\\n",
        "      # 'len_item_2',\n",
        "      # 'negative_exp', 'fear_exp', 'trust_exp', 'surprise_exp', 'positive_exp', 'sadness_exp', 'joy_exp', 'anticipation_exp', 'disgust_exp', 'anger_exp', 'len_exp_7',\n",
        "#     'negative_n', 'fear_n', 'trust_n', 'surprise_n', 'positive_n', 'sadness_n', 'joy_n', 'anticipation_n', 'disgust_n', 'anger_n',\\\n",
        "#      'Share', 'Volumt',\n",
        "# 'bert',\n",
        "# 'tone_score',\n",
        "# 'finBert',\n",
        "# 'pip_bert'\n",
        "     ]\n",
        "quan = []\n",
        "for item in mt:\n",
        "    # result[str(item) + '_L'] =  np.where(result[item] < result[item].quantile([1/3]).values[0], 0.1, \\\n",
        "    #         np.where(result[item] > result[item].quantile([2/3]).values[0], 0.2, 0.15))\n",
        "    result[str(item) + '_L'] =  np.where(result[item] < result[item].quantile([1/3]).values[0], 0.1, \\\n",
        "            np.where(result[item] > result[item].quantile([2/3]).values[0], 0.2, 0.15))\n",
        "    quan.append(str(item) + '_L')"
      ],
      "execution_count": null,
      "outputs": []
    },
    {
      "cell_type": "code",
      "metadata": {
        "colab": {
          "base_uri": "https://localhost:8080/",
          "height": 402
        },
        "id": "Nw3KbAgBX_8s",
        "outputId": "7a319ef1-e0aa-4b41-fa9f-7bd0d0a23dc7"
      },
      "source": [
        "result_all = pd.DataFrame()\n",
        "for ie in result['Industry'].unique():\n",
        "    display(ie)\n",
        "    result_9999 = result[result['Industry'] == ie].copy()\n",
        "    display((result_9999).shape)\n",
        "    for item in mt:\n",
        "        result_9999[str(item) + '_L'] =  np.where(result_9999[item] < result_9999[(result_9999['sum_em'] > 0)][item].quantile([1/3]).values[0], 0.1, \\\n",
        "                np.where(result_9999[item] > result_9999[(result_9999['sum_em'] > 0)][item].quantile([2/3]).values[0], 0.2, 0.15))\n",
        "        quan.append(str(item) + '_L')\n",
        "    result_all = result_all.append(result_9999)\n",
        "#     result_9999 = pd.DataFrame()"
      ],
      "execution_count": null,
      "outputs": [
        {
          "output_type": "display_data",
          "data": {
            "application/vnd.google.colaboratory.intrinsic+json": {
              "type": "string"
            },
            "text/plain": [
              "'Industrials'"
            ]
          },
          "metadata": {
            "tags": []
          }
        },
        {
          "output_type": "display_data",
          "data": {
            "text/plain": [
              "(1672, 36)"
            ]
          },
          "metadata": {
            "tags": []
          }
        },
        {
          "output_type": "display_data",
          "data": {
            "application/vnd.google.colaboratory.intrinsic+json": {
              "type": "string"
            },
            "text/plain": [
              "'Health Care'"
            ]
          },
          "metadata": {
            "tags": []
          }
        },
        {
          "output_type": "display_data",
          "data": {
            "text/plain": [
              "(1686, 36)"
            ]
          },
          "metadata": {
            "tags": []
          }
        },
        {
          "output_type": "display_data",
          "data": {
            "application/vnd.google.colaboratory.intrinsic+json": {
              "type": "string"
            },
            "text/plain": [
              "'Information Technology'"
            ]
          },
          "metadata": {
            "tags": []
          }
        },
        {
          "output_type": "display_data",
          "data": {
            "text/plain": [
              "(1899, 36)"
            ]
          },
          "metadata": {
            "tags": []
          }
        },
        {
          "output_type": "display_data",
          "data": {
            "application/vnd.google.colaboratory.intrinsic+json": {
              "type": "string"
            },
            "text/plain": [
              "'Communication Services'"
            ]
          },
          "metadata": {
            "tags": []
          }
        },
        {
          "output_type": "display_data",
          "data": {
            "text/plain": [
              "(583, 36)"
            ]
          },
          "metadata": {
            "tags": []
          }
        },
        {
          "output_type": "display_data",
          "data": {
            "application/vnd.google.colaboratory.intrinsic+json": {
              "type": "string"
            },
            "text/plain": [
              "'Consumer Discretionary'"
            ]
          },
          "metadata": {
            "tags": []
          }
        },
        {
          "output_type": "display_data",
          "data": {
            "text/plain": [
              "(1607, 36)"
            ]
          },
          "metadata": {
            "tags": []
          }
        },
        {
          "output_type": "display_data",
          "data": {
            "application/vnd.google.colaboratory.intrinsic+json": {
              "type": "string"
            },
            "text/plain": [
              "'Utilities'"
            ]
          },
          "metadata": {
            "tags": []
          }
        },
        {
          "output_type": "display_data",
          "data": {
            "text/plain": [
              "(502, 36)"
            ]
          },
          "metadata": {
            "tags": []
          }
        },
        {
          "output_type": "display_data",
          "data": {
            "application/vnd.google.colaboratory.intrinsic+json": {
              "type": "string"
            },
            "text/plain": [
              "'Financials'"
            ]
          },
          "metadata": {
            "tags": []
          }
        },
        {
          "output_type": "display_data",
          "data": {
            "text/plain": [
              "(1472, 36)"
            ]
          },
          "metadata": {
            "tags": []
          }
        },
        {
          "output_type": "display_data",
          "data": {
            "application/vnd.google.colaboratory.intrinsic+json": {
              "type": "string"
            },
            "text/plain": [
              "'Materials'"
            ]
          },
          "metadata": {
            "tags": []
          }
        },
        {
          "output_type": "display_data",
          "data": {
            "text/plain": [
              "(730, 36)"
            ]
          },
          "metadata": {
            "tags": []
          }
        },
        {
          "output_type": "display_data",
          "data": {
            "application/vnd.google.colaboratory.intrinsic+json": {
              "type": "string"
            },
            "text/plain": [
              "'Real Estate'"
            ]
          },
          "metadata": {
            "tags": []
          }
        },
        {
          "output_type": "display_data",
          "data": {
            "text/plain": [
              "(842, 36)"
            ]
          },
          "metadata": {
            "tags": []
          }
        },
        {
          "output_type": "display_data",
          "data": {
            "application/vnd.google.colaboratory.intrinsic+json": {
              "type": "string"
            },
            "text/plain": [
              "'Consumer Staples'"
            ]
          },
          "metadata": {
            "tags": []
          }
        },
        {
          "output_type": "display_data",
          "data": {
            "text/plain": [
              "(656, 36)"
            ]
          },
          "metadata": {
            "tags": []
          }
        },
        {
          "output_type": "display_data",
          "data": {
            "application/vnd.google.colaboratory.intrinsic+json": {
              "type": "string"
            },
            "text/plain": [
              "'Energy'"
            ]
          },
          "metadata": {
            "tags": []
          }
        },
        {
          "output_type": "display_data",
          "data": {
            "text/plain": [
              "(621, 36)"
            ]
          },
          "metadata": {
            "tags": []
          }
        }
      ]
    },
    {
      "cell_type": "code",
      "metadata": {
        "id": "XIRXrwW0cGBu"
      },
      "source": [
        "# for Byes labeling Profit\r\n",
        "result_byes = pd.DataFrame()\r\n",
        "for ie in result['Year'].unique():\r\n",
        "    # display(ie)\r\n",
        "    result_9999 = result[result['Year'] == ie].copy()\r\n",
        "    \r\n",
        "    for item in ['250_%']:\r\n",
        "      # display(result_9999[item].quantile([1/2]).values[0])\r\n",
        "        result_9999['label'] =  np.where(result_9999[item] > result_9999[item].quantile([1/2]).values[0], 1, 0)\r\n",
        "    #     quan.append(str(item) + '_L')\r\n",
        "    result_byes = result_byes.append(result_9999)\r\n",
        "#     result_9999 = pd.DataFrame()"
      ],
      "execution_count": null,
      "outputs": []
    },
    {
      "cell_type": "markdown",
      "metadata": {
        "id": "ovK17Kk63Hvt"
      },
      "source": [
        "### Сводная!"
      ]
    },
    {
      "cell_type": "code",
      "metadata": {
        "colab": {
          "base_uri": "https://localhost:8080/",
          "height": 240
        },
        "id": "FkRLfzRBX_8t",
        "scrolled": false,
        "outputId": "658e002d-28e5-40ab-fd58-7b9ce5928a84"
      },
      "source": [
        "quan_ = mt\n",
        "result_ = result_all.copy()\n",
        "\n",
        "# for i, ii in zip(quan, quan_):\n",
        "# for i, ii in zip(['trust_L', 'trust_exp_L'],['trust', 'trust_exp']):\n",
        "for i, ii in zip(['numb_aff_L'],['numb_aff']):\n",
        "# for i, ii in zip(['negative_L', 'negative_exp_L'],['negative', 'negative_exp']):\n",
        "    # for ye in list(range(2019,2000,-1)):\n",
        "    for ye in ['___']:\n",
        "    # for ye in result_all['Industry'].unique():\n",
        "        display(i, ye)\n",
        "        piv = pd.pivot_table(result_[(result_['sum_em'].notnull())\n",
        "                            # &(result_['250_%'].notnull())\n",
        "                            &(result_['Industry'] != 'none')\n",
        "                            # &(result_['finBert'] != 1000)\n",
        "                            # &(result['len_exp_7_L'] != 0.1)\n",
        "                            # &(result_['Industry'] == ye)        \n",
        "                            # &(result_['Year'] == ye)\n",
        "                            # &(result_['Date'].dt.month.isin([1,2,3]))\n",
        "#                             &(result_['Lengh'] < 150000)\n",
        "                             ],\n",
        "                      index=[\n",
        "                          # 'Industry',\n",
        "    #                       'Year',\n",
        "    #                       'Symbol',\n",
        "\n",
        "    #                       'Mont',\n",
        "    #                       'surprise_L',\n",
        "    #                       'fear_L',\n",
        "                          i,\n",
        "    #                       'Lengh_L'\n",
        "                      ],\n",
        "                       values = ['50_%', '150_%', '250_%', ii],\n",
        "                       aggfunc=['count', 'mean'],\n",
        "                       margins=True\n",
        "\n",
        "                      )\n",
        "        c_name = []\n",
        "        for zz in range(len(piv.columns)):\n",
        "            c_name.append(piv.columns[zz][0] + '_' + piv.columns[zz][1])\n",
        "        piv.columns = c_name\n",
        "    #     piv = piv[:-1]\n",
        "        piv = piv.T.drop_duplicates().T\n",
        "\n",
        "    #     piv = piv.sort_values('mean_negative')\n",
        "        # display(piv[-10:].mean())\n",
        "        # display(piv[: 10].mean())\n",
        "#         display(piv.sort_values('mean_' + str(ii)))\n",
        "        display(piv)"
      ],
      "execution_count": null,
      "outputs": [
        {
          "output_type": "display_data",
          "data": {
            "application/vnd.google.colaboratory.intrinsic+json": {
              "type": "string"
            },
            "text/plain": [
              "'numb_aff_L'"
            ]
          },
          "metadata": {
            "tags": []
          }
        },
        {
          "output_type": "display_data",
          "data": {
            "application/vnd.google.colaboratory.intrinsic+json": {
              "type": "string"
            },
            "text/plain": [
              "'___'"
            ]
          },
          "metadata": {
            "tags": []
          }
        },
        {
          "output_type": "display_data",
          "data": {
            "text/html": [
              "<div>\n",
              "<style scoped>\n",
              "    .dataframe tbody tr th:only-of-type {\n",
              "        vertical-align: middle;\n",
              "    }\n",
              "\n",
              "    .dataframe tbody tr th {\n",
              "        vertical-align: top;\n",
              "    }\n",
              "\n",
              "    .dataframe thead th {\n",
              "        text-align: right;\n",
              "    }\n",
              "</style>\n",
              "<table border=\"1\" class=\"dataframe\">\n",
              "  <thead>\n",
              "    <tr style=\"text-align: right;\">\n",
              "      <th></th>\n",
              "      <th>count_150_%</th>\n",
              "      <th>count_250_%</th>\n",
              "      <th>count_50_%</th>\n",
              "      <th>count_numb_aff</th>\n",
              "      <th>mean_150_%</th>\n",
              "      <th>mean_250_%</th>\n",
              "      <th>mean_50_%</th>\n",
              "      <th>mean_numb_aff</th>\n",
              "    </tr>\n",
              "    <tr>\n",
              "      <th>numb_aff_L</th>\n",
              "      <th></th>\n",
              "      <th></th>\n",
              "      <th></th>\n",
              "      <th></th>\n",
              "      <th></th>\n",
              "      <th></th>\n",
              "      <th></th>\n",
              "      <th></th>\n",
              "    </tr>\n",
              "  </thead>\n",
              "  <tbody>\n",
              "    <tr>\n",
              "      <th>0.1</th>\n",
              "      <td>3929.0</td>\n",
              "      <td>3873.0</td>\n",
              "      <td>4041.0</td>\n",
              "      <td>4085.0</td>\n",
              "      <td>9.223859</td>\n",
              "      <td>16.616603</td>\n",
              "      <td>2.172784</td>\n",
              "      <td>0.158282</td>\n",
              "    </tr>\n",
              "    <tr>\n",
              "      <th>0.15</th>\n",
              "      <td>3844.0</td>\n",
              "      <td>3745.0</td>\n",
              "      <td>4042.0</td>\n",
              "      <td>4083.0</td>\n",
              "      <td>8.894787</td>\n",
              "      <td>15.169403</td>\n",
              "      <td>2.659072</td>\n",
              "      <td>0.183076</td>\n",
              "    </tr>\n",
              "    <tr>\n",
              "      <th>0.2</th>\n",
              "      <td>3697.0</td>\n",
              "      <td>3508.0</td>\n",
              "      <td>3991.0</td>\n",
              "      <td>4086.0</td>\n",
              "      <td>10.426135</td>\n",
              "      <td>17.313610</td>\n",
              "      <td>3.113084</td>\n",
              "      <td>0.209744</td>\n",
              "    </tr>\n",
              "    <tr>\n",
              "      <th>All</th>\n",
              "      <td>11126.0</td>\n",
              "      <td>11126.0</td>\n",
              "      <td>11126.0</td>\n",
              "      <td>11126.0</td>\n",
              "      <td>8.686053</td>\n",
              "      <td>16.349242</td>\n",
              "      <td>1.835534</td>\n",
              "      <td>0.182693</td>\n",
              "    </tr>\n",
              "  </tbody>\n",
              "</table>\n",
              "</div>"
            ],
            "text/plain": [
              "            count_150_%  count_250_%  ...  mean_50_%  mean_numb_aff\n",
              "numb_aff_L                            ...                          \n",
              "0.1              3929.0       3873.0  ...   2.172784       0.158282\n",
              "0.15             3844.0       3745.0  ...   2.659072       0.183076\n",
              "0.2              3697.0       3508.0  ...   3.113084       0.209744\n",
              "All             11126.0      11126.0  ...   1.835534       0.182693\n",
              "\n",
              "[4 rows x 8 columns]"
            ]
          },
          "metadata": {
            "tags": []
          }
        }
      ]
    },
    {
      "cell_type": "markdown",
      "metadata": {
        "id": "rgE2h-w1wzGh"
      },
      "source": [
        "# Балуемся графиками"
      ]
    },
    {
      "cell_type": "code",
      "metadata": {
        "id": "p86WM09VX_8u"
      },
      "source": [
        "b = result[(result['sum_em'] > 0)]['250_%']\n",
        "w = result[(result['sum_em'] > 0)]['250_%']"
      ],
      "execution_count": null,
      "outputs": []
    },
    {
      "cell_type": "code",
      "metadata": {
        "id": "NzXeRFykX_8u",
        "outputId": "82e9fce3-7046-4ab5-c8c6-640b6bf64ee0"
      },
      "source": [
        "plt.figure(figsize = (20, 10))\n",
        "# plt.xlim(-100,100)\n",
        "sns.distplot(b, hist = False, kde = True, \n",
        "                 kde_kws = {'linewidth': 3},\n",
        "                 label = 'best'\n",
        "            )\n",
        "sns.distplot(w, hist = False, kde = True, \n",
        "                 kde_kws = {'linewidth': 3},\n",
        "                 label = 'worse'\n",
        "            )\n",
        "plt.legend(prop={'size': 10}, title = 'Line')\n",
        "\n"
      ],
      "execution_count": null,
      "outputs": [
        {
          "output_type": "stream",
          "text": [
            "C:\\Users\\afecn\\anaconda3.1\\envs\\ml\\lib\\site-packages\\seaborn\\distributions.py:2551: FutureWarning: `distplot` is a deprecated function and will be removed in a future version. Please adapt your code to use either `displot` (a figure-level function with similar flexibility) or `kdeplot` (an axes-level function for kernel density plots).\n",
            "  warnings.warn(msg, FutureWarning)\n",
            "C:\\Users\\afecn\\anaconda3.1\\envs\\ml\\lib\\site-packages\\seaborn\\distributions.py:2551: FutureWarning: `distplot` is a deprecated function and will be removed in a future version. Please adapt your code to use either `displot` (a figure-level function with similar flexibility) or `kdeplot` (an axes-level function for kernel density plots).\n",
            "  warnings.warn(msg, FutureWarning)\n"
          ],
          "name": "stderr"
        },
        {
          "output_type": "execute_result",
          "data": {
            "text/plain": [
              "<matplotlib.legend.Legend at 0x1958e204a88>"
            ]
          },
          "metadata": {
            "tags": []
          },
          "execution_count": 196
        },
        {
          "output_type": "display_data",
          "data": {
            "image/png": "[encoded data removed]",
            "text/plain": [
              "<Figure size 1440x720 with 1 Axes>"
            ]
          },
          "metadata": {
            "tags": []
          }
        }
      ]
    },
    {
      "cell_type": "code",
      "metadata": {
        "id": "L2Bo0jKxX_8v",
        "scrolled": true
      },
      "source": [
        "\n",
        "# plt.figure(figsize = (20, 10))\n",
        "# plt.plot(plot_df['fear'])"
      ],
      "execution_count": null,
      "outputs": []
    },
    {
      "cell_type": "markdown",
      "metadata": {
        "id": "WsTWsJS2X_8v"
      },
      "source": [
        "# Парсер работает слабо через заголовок"
      ]
    },
    {
      "cell_type": "code",
      "metadata": {
        "id": "dO6tbLUTX_8v",
        "outputId": "983058e9-4850-451a-ef6a-d3c05fb340d8"
      },
      "source": [
        "%%time\n",
        "# index = 0\n",
        "# year = data[index]\n",
        "\n",
        "text_object_dic[CIK] = {}  # тут нельяз перезаписывать\n",
        "display(CIK)\n",
        "# for index in range(len(htm_list[CIK][0])):\n",
        "for index in [0]:   \n",
        "    display(htm_list[CIK][1][index])\n",
        " ##   directory_7item[param_dict['CIK']][data[index]] = {}\n",
        "    # grab the response\n",
        "    response = requests.get(htm_list[CIK][0][index].replace('ix?doc=', ''))\n",
        "    # pass it through the parser, in this case let's just use lxml because the tags seem to follow xml.\n",
        "    soup = BeautifulSoup(response.content, 'lxml')\n",
        "    \n",
        "    page_text = soup.html.body.get_text(' ',strip = True)\n",
        "    # normalize the text, remove messy characters. Additionally, restore missing window characters.\n",
        "    page_text_norm = restore_windows_1252_characters(unicodedata.normalize('NFKD', page_text)) \n",
        "    # Additional cleaning steps, removing double spaces, and new line breaks.\n",
        "    page_text_norm = page_text_norm.replace('  ', ' ').replace('\\n',' ').replace('''''', '').replace('\"', '').replace(\"'\", '').replace(\"’\", '')\n",
        "    \n",
        "    #СОЗДАЕМ ТЕКСТ 7\n",
        "    str1 = page_text_norm[:].lower().rfind('Item 7. managements discussion and analysis of financial condition and results of operation')\n",
        "    # str1 \n",
        "    str2 = page_text_norm[:].lower().rfind('item 8. financial statements and supplementary data')\n",
        "    # str2 \n",
        "    text_7 = page_text_norm[str1:str2]\n",
        "    \n",
        "    if len(text_7) != 0:\n",
        "#         \n",
        "        display(len(text_7))\n",
        "        #Считаем словечки\n",
        "        text_object = NRCLex(text_7).affect_frequencies\n",
        "        #Записали в словарь\n",
        "        \n",
        "        year = htm_list[CIK][1][index]\n",
        "        text_object_dic[CIK][year] = {}\n",
        "#         text_object_dic[CIK][year]['affect_frequencies'] = {}\n",
        "        text_object_dic[CIK][year]['affect_frequencies'] = NRCLex(text_7).affect_frequencies\n",
        "        text_object_dic[CIK][year]['text_7'] = text_7\n",
        "    else:\n",
        "        display('no data')\n",
        "        continue\n",
        "    \n",
        "    display(\"количество слов в документе: {}\".format(len(text_object_dic[CIK][year]['text_7'])))\n",
        "display(text_object_dic[CIK].keys())\n"
      ],
      "execution_count": null,
      "outputs": [
        {
          "output_type": "display_data",
          "data": {
            "text/plain": [
              "'0001018724'"
            ]
          },
          "metadata": {
            "tags": []
          }
        },
        {
          "output_type": "display_data",
          "data": {
            "text/plain": [
              "'2020-01-31'"
            ]
          },
          "metadata": {
            "tags": []
          }
        },
        {
          "output_type": "display_data",
          "data": {
            "text/plain": [
              "'no data'"
            ]
          },
          "metadata": {
            "tags": []
          }
        },
        {
          "output_type": "display_data",
          "data": {
            "text/plain": [
              "dict_keys([])"
            ]
          },
          "metadata": {
            "tags": []
          }
        },
        {
          "output_type": "stream",
          "text": [
            "Wall time: 1.53 s\n"
          ],
          "name": "stdout"
        }
      ]
    }
  ]
}