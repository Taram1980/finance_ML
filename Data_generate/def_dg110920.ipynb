{
 "cells": [
  {
   "cell_type": "code",
   "execution_count": 1,
   "metadata": {},
   "outputs": [],
   "source": [
    "def date_generate(stock, N, TIME):    \n",
    "\n",
    "\n",
    "    import pandas as pd\n",
    "    import numpy  as np\n",
    "#    N_close = 'Close12:00:00' #тут выбираем от какого фрейма считаем профиты\n",
    "#    N = 16 #ЧИСЛО БАРОВ ДО TIME\n",
    "#    TIME = '12:00' # ОТ КАКОГО ВРЕМЕНИ СЧИТАЕМ N БАРОВ НАЗАД\n",
    "\n",
    "    N_close = 'Close' + TIME # ЭТО ЧТОБЫ ПРОФИТЫ СЧИТАТЬ\n",
    "\n",
    "    df = pd.read_excel(\"E:/Host/Data/Database/from_Wealth/{}.xlsx\".format(pp), decimal='.', sep = ',', encoding='latin-1', parse_dates=['Date', 'Time'])\n",
    "\n",
    "    #СОЗДАЕМ 1 БЛОК (ВЫТАСКИВАЕМ ПРОМЕЖУТКИ ВРЕМЕНИ)\n",
    "\n",
    "    # создали словарь с df по часам и первому-последнему бару\n",
    "    history_all = {}\n",
    "    for tt in ['11:00:00','12:00:00','13:00:00','14:00:00','15:00:00','16:00:00','17:00:00']:\n",
    "        history_all[f'{tt}'] = df[df['Time'] == tt]\n",
    "    history_all['last_bar']   = df[df['Date'] != df['Date'].shift(-1)]  \n",
    "    history_all['first_bar']  = df[df['Date'] != df['Date'].shift( 1)]   \n",
    "\n",
    "    #смержили все в одну таблицу\n",
    "    merg_all = pd.DataFrame(df['Date'])\n",
    "    merg_all.drop_duplicates('Date', inplace = True)\n",
    "    for i in ['first_bar', '11:00:00','12:00:00','13:00:00','14:00:00','15:00:00','16:00:00','17:00:00', 'last_bar']:\n",
    "        #display(history_all[i].shape)\n",
    "        #print('drop')\n",
    "        history_all[i].drop_duplicates('Date', inplace = True)\n",
    "        #display(history_all[i].shape)\n",
    "        #display(history_all[i])\n",
    "        merg_all = pd.merge(merg_all, history_all[i][['Date','Close']], on='Date', how='right', suffixes=('', i))\n",
    "\n",
    "    merg_all.dropna(inplace=True)\n",
    "    merg_all.sort_values(by = ['Date'], inplace = True)\n",
    "\n",
    "    merg_all['Proft1000'] = (merg_all['Close']        .shift(-1)/merg_all[N_close]-1)*100\n",
    "    merg_all['Proft1300'] = (merg_all['Close13:00:00'].shift(-1)/merg_all[N_close]-1)*100\n",
    "    merg_all['Proft1830'] = (merg_all['Closelast_bar'].shift(-1)/merg_all[N_close]-1)*100\n",
    "\n",
    "    merg_all['Min10']          = (merg_all[N_close]/merg_all['Closelast_bar'].shift(1)-1)*100\n",
    "    merg_all['Min10_1300']     = (merg_all[N_close]/merg_all['Close13:00:00'].shift(1)-1)*100\n",
    "    merg_all['Min10_1000']     = (merg_all[N_close]/merg_all['Close']        .shift(1)-1)*100\n",
    "    merg_all['GEP']            = (merg_all['Close']/merg_all['Closelast_bar'].shift(1)-1)*100\n",
    "\n",
    "    merg_all.dropna(inplace=True)    #дропаем ибо косяки при мерже с 16 рядами\n",
    "\n",
    "\n",
    "\n",
    "    # СОЗДАЕМ 2 БЛОК ЭТО ПОСЛЕДНИЕ N БАРОВ ОТ КАКОГО ТО ВРЕМЕНИ\n",
    "\n",
    "    # Создаем блоки утра namber = 16 \n",
    "    all_N = pd.DataFrame()\n",
    "\n",
    "    df[TIME] = np.where(df.Time == TIME, 1, 0) #СОЗДАЛИ СТОЛБЕЦ ГДЕ 1 ЕСЛИ ВРЕМЯ СОВПАЛО С TIME \n",
    "    for i in range(N-1, len(df)):\n",
    "         if df.loc[i][TIME] == 1:\n",
    "            df_N = df.loc[i-(N-1):i]\n",
    "            all_N = all_N.append(df_N)\n",
    "    display(all_N.shape)        \n",
    "    display(len(all_N)/(N))  \n",
    "\n",
    "    #create data+16close_morning for DATA\n",
    "    #cобираем по N reshape Close\n",
    "    W = \"Close\" #что берем close high low...можно все но нужно 3 мерный нампай\n",
    "    close = np.array(all_N[W])\n",
    "    close = np.reshape(close, (int(len(all_N)/N), N))\n",
    "    #cобираем по N reshape Date\n",
    "    data = np.array(all_N['Date'])\n",
    "    data = np.reshape(data, (int(len(all_N)/N), N))\n",
    "    #cобираем по N reshape Time\n",
    "    time = np.array(all_N['Time'])\n",
    "    time = np.reshape(time, (int(len(all_N)/N), N))\n",
    "\n",
    "\n",
    "    #дата time последняя в ряду\n",
    "    data = data[:,-1]\n",
    "    time = time[:,-1]\n",
    "\n",
    "    #Обьединяем date and close\n",
    "    data_close = pd.concat([pd.DataFrame(data, columns=['Date']), pd.DataFrame(time, columns=['Time']), pd.DataFrame(close)], axis=1)\n",
    "    data_close.shape\n",
    "\n",
    "    ## оке но как насчет своих индикаторов для ряда в 16 последних?\n",
    "\n",
    "    #add some things\n",
    "    #ОТДЕЛЬНЫЙ БЛОК КАК ИЗ РЯДА В 16  ВЫТАЩИТЬ КОЕ ЧТО\n",
    "\n",
    "    from sklearn.preprocessing import MinMaxScaler\n",
    "\n",
    "    series = data_close.iloc[:,-N:] #ОБЯЗАТЕЛЬНО ЗАДАТЬ ТОЛЬКО ГОЛЫЕ date without time and date \n",
    "    series['mean'] = series.iloc[:,0:N].mean(axis=1)\n",
    "    series['max']  = series.iloc[:,0:N].max(axis=1)\n",
    "    series['min']  = series.iloc[:,0:N].min(axis=1)\n",
    "\n",
    "    scaler = MinMaxScaler(feature_range=(-1, 1))\n",
    "    a = series.iloc[:, :-3]\n",
    "    a = scaler.fit_transform(a.T)\n",
    "\n",
    "    #ДОБАВИЛИ НОВЫЕ ФИЧИ\n",
    "    series['MinMaxScaler'] = a[-1]\n",
    "    series['Range'] = (series['max']/series['min']-1)*100\n",
    "    series['CltoMax'] = (series[15]/series['max']-1)*100\n",
    "    series['CltoMin'] = (series[15]/series['min']-1)*100\n",
    "\n",
    "    #ДОБАBИЛИ В DATE\n",
    "    data_close   = pd.concat([data_close,   series.iloc[:,-4:]], axis=1)\n",
    "\n",
    "    #4 блок\n",
    "    df4 = pd.read_excel(\"E:/Host/Data/Database/from_Wealth/{}.xlsx\".format(pp), decimal='.', sep = ',', encoding='latin-1', parse_dates=['Date', 'Time'])\n",
    "\n",
    "    #может стоит убрать первый бар или брать по клозу, ибо зай и лоу 1 бара слишком волатильны\n",
    "    #Long\n",
    "\n",
    "    k1 = []\n",
    "    for i in range(len(df4)):\n",
    "        if df4.iloc[i,0].date() != df4.iloc[i-1,0].date():\n",
    "            k = 1\n",
    "        else:\n",
    "            k += 1\n",
    "        k1.append(k)\n",
    "    df4['Long'] = k1\n",
    "\n",
    "    #Min\n",
    "\n",
    "    min_all = []\n",
    "    for i in range(len(df4)):    \n",
    "\n",
    "        f = df4['Long'][i]\n",
    "        min = (df4['Low'][i+1-f:i+1]).min()\n",
    "        min_all.append(min)\n",
    "    df4['min_day'] = min_all\n",
    "\n",
    "\n",
    "    #Max\n",
    "    max_all = []\n",
    "    for i in range(len(df4)):    \n",
    "\n",
    "        f = df4['Long'][i]\n",
    "        max = (df4['High'][i+1-f:i+1]).max()\n",
    "        max_all.append(max)\n",
    "    df4['max_day'] = max_all\n",
    "\n",
    "    df4['Cl/min_day']      = (df4['Close']/df4['min_day']-1)*100\n",
    "    df4['Cl/max_day']      = (df4['Close']/df4['max_day']-1)*100\n",
    "    df4['max_day-min_day'] = ((df4['max_day']-df4['min_day'])/df4['Close'])*100\n",
    "\n",
    "\n",
    "    #####мердж пока без TA\n",
    "\n",
    "    df_merg_1 = pd.merge(data_close, merg_all, how='inner', on=['Date'])\n",
    "    df4_for_merg = df4[df4['Time'] == TIME]\n",
    "    df_merg_2 = pd.merge(df_merg_1, df4_for_merg, how='inner', on=['Date'])\n",
    "\n",
    "    display(merg_all.shape)\n",
    "    display(data_close.shape)\n",
    "    #display(TA.shape)\n",
    "    display(df4.shape)\n",
    "    print(100*'**')\n",
    "    display(df_merg_1.shape)\n",
    "    df_merg_2.drop_duplicates('Date')\n",
    "    display(df_merg_1.shape)\n",
    "    display(df_merg_2.shape)\n",
    "    df_merg_2.drop_duplicates('Date', inplace=True)\n",
    "    display(df_merg_2.shape)\n",
    "    df_merg_2.dropna(inplace=True)\n",
    "    display(df_merg_2.shape)\n",
    "    \n",
    "    print('df_merg_2, data_close, merg_all')\n",
    "    return(df_merg_2, data_close, merg_all)"
   ]
  },
  {
   "cell_type": "code",
   "execution_count": null,
   "metadata": {},
   "outputs": [],
   "source": []
  },
  {
   "cell_type": "code",
   "execution_count": 33,
   "metadata": {},
   "outputs": [
    {
     "name": "stderr",
     "output_type": "stream",
     "text": [
      "C:\\Users\\afecn\\anaconda3.1\\lib\\site-packages\\ipykernel_launcher.py:27: SettingWithCopyWarning: \n",
      "A value is trying to be set on a copy of a slice from a DataFrame\n",
      "\n",
      "See the caveats in the documentation: https://pandas.pydata.org/pandas-docs/stable/user_guide/indexing.html#returning-a-view-versus-a-copy\n"
     ]
    },
    {
     "data": {
      "text/plain": [
       "(48752, 8)"
      ]
     },
     "metadata": {},
     "output_type": "display_data"
    },
    {
     "data": {
      "text/plain": [
       "3047.0"
      ]
     },
     "metadata": {},
     "output_type": "display_data"
    },
    {
     "data": {
      "text/plain": [
       "(3015, 10)"
      ]
     },
     "metadata": {},
     "output_type": "display_data"
    },
    {
     "data": {
      "text/plain": [
       "(3047, 22)"
      ]
     },
     "metadata": {},
     "output_type": "display_data"
    },
    {
     "data": {
      "text/plain": [
       "(103196, 13)"
      ]
     },
     "metadata": {},
     "output_type": "display_data"
    },
    {
     "name": "stdout",
     "output_type": "stream",
     "text": [
      "********************************************************************************************************************************************************************************************************\n"
     ]
    },
    {
     "data": {
      "text/plain": [
       "(3022, 31)"
      ]
     },
     "metadata": {},
     "output_type": "display_data"
    },
    {
     "data": {
      "text/plain": [
       "(3022, 31)"
      ]
     },
     "metadata": {},
     "output_type": "display_data"
    },
    {
     "data": {
      "text/plain": [
       "(3038, 43)"
      ]
     },
     "metadata": {},
     "output_type": "display_data"
    },
    {
     "data": {
      "text/plain": [
       "(3014, 43)"
      ]
     },
     "metadata": {},
     "output_type": "display_data"
    },
    {
     "data": {
      "text/plain": [
       "(3014, 43)"
      ]
     },
     "metadata": {},
     "output_type": "display_data"
    },
    {
     "name": "stdout",
     "output_type": "stream",
     "text": [
      "df_merg_2, data_close, merg_all\n"
     ]
    },
    {
     "name": "stderr",
     "output_type": "stream",
     "text": [
      "C:\\Users\\afecn\\anaconda3.1\\lib\\site-packages\\ipykernel_launcher.py:27: SettingWithCopyWarning: \n",
      "A value is trying to be set on a copy of a slice from a DataFrame\n",
      "\n",
      "See the caveats in the documentation: https://pandas.pydata.org/pandas-docs/stable/user_guide/indexing.html#returning-a-view-versus-a-copy\n"
     ]
    },
    {
     "data": {
      "text/plain": [
       "(48864, 8)"
      ]
     },
     "metadata": {},
     "output_type": "display_data"
    },
    {
     "data": {
      "text/plain": [
       "3054.0"
      ]
     },
     "metadata": {},
     "output_type": "display_data"
    },
    {
     "data": {
      "text/plain": [
       "(3022, 10)"
      ]
     },
     "metadata": {},
     "output_type": "display_data"
    },
    {
     "data": {
      "text/plain": [
       "(3054, 22)"
      ]
     },
     "metadata": {},
     "output_type": "display_data"
    },
    {
     "data": {
      "text/plain": [
       "(103431, 13)"
      ]
     },
     "metadata": {},
     "output_type": "display_data"
    },
    {
     "name": "stdout",
     "output_type": "stream",
     "text": [
      "********************************************************************************************************************************************************************************************************\n"
     ]
    },
    {
     "data": {
      "text/plain": [
       "(3026, 31)"
      ]
     },
     "metadata": {},
     "output_type": "display_data"
    },
    {
     "data": {
      "text/plain": [
       "(3026, 31)"
      ]
     },
     "metadata": {},
     "output_type": "display_data"
    },
    {
     "data": {
      "text/plain": [
       "(3036, 43)"
      ]
     },
     "metadata": {},
     "output_type": "display_data"
    },
    {
     "data": {
      "text/plain": [
       "(3021, 43)"
      ]
     },
     "metadata": {},
     "output_type": "display_data"
    },
    {
     "data": {
      "text/plain": [
       "(3021, 43)"
      ]
     },
     "metadata": {},
     "output_type": "display_data"
    },
    {
     "name": "stdout",
     "output_type": "stream",
     "text": [
      "df_merg_2, data_close, merg_all\n"
     ]
    },
    {
     "name": "stderr",
     "output_type": "stream",
     "text": [
      "C:\\Users\\afecn\\anaconda3.1\\lib\\site-packages\\ipykernel_launcher.py:27: SettingWithCopyWarning: \n",
      "A value is trying to be set on a copy of a slice from a DataFrame\n",
      "\n",
      "See the caveats in the documentation: https://pandas.pydata.org/pandas-docs/stable/user_guide/indexing.html#returning-a-view-versus-a-copy\n"
     ]
    },
    {
     "data": {
      "text/plain": [
       "(48896, 8)"
      ]
     },
     "metadata": {},
     "output_type": "display_data"
    },
    {
     "data": {
      "text/plain": [
       "3056.0"
      ]
     },
     "metadata": {},
     "output_type": "display_data"
    },
    {
     "data": {
      "text/plain": [
       "(3026, 10)"
      ]
     },
     "metadata": {},
     "output_type": "display_data"
    },
    {
     "data": {
      "text/plain": [
       "(3056, 22)"
      ]
     },
     "metadata": {},
     "output_type": "display_data"
    },
    {
     "data": {
      "text/plain": [
       "(103460, 13)"
      ]
     },
     "metadata": {},
     "output_type": "display_data"
    },
    {
     "name": "stdout",
     "output_type": "stream",
     "text": [
      "********************************************************************************************************************************************************************************************************\n"
     ]
    },
    {
     "data": {
      "text/plain": [
       "(3029, 31)"
      ]
     },
     "metadata": {},
     "output_type": "display_data"
    },
    {
     "data": {
      "text/plain": [
       "(3029, 31)"
      ]
     },
     "metadata": {},
     "output_type": "display_data"
    },
    {
     "data": {
      "text/plain": [
       "(3037, 43)"
      ]
     },
     "metadata": {},
     "output_type": "display_data"
    },
    {
     "data": {
      "text/plain": [
       "(3025, 43)"
      ]
     },
     "metadata": {},
     "output_type": "display_data"
    },
    {
     "data": {
      "text/plain": [
       "(3025, 43)"
      ]
     },
     "metadata": {},
     "output_type": "display_data"
    },
    {
     "name": "stdout",
     "output_type": "stream",
     "text": [
      "df_merg_2, data_close, merg_all\n"
     ]
    },
    {
     "name": "stderr",
     "output_type": "stream",
     "text": [
      "C:\\Users\\afecn\\anaconda3.1\\lib\\site-packages\\ipykernel_launcher.py:27: SettingWithCopyWarning: \n",
      "A value is trying to be set on a copy of a slice from a DataFrame\n",
      "\n",
      "See the caveats in the documentation: https://pandas.pydata.org/pandas-docs/stable/user_guide/indexing.html#returning-a-view-versus-a-copy\n"
     ]
    },
    {
     "data": {
      "text/plain": [
       "(46784, 8)"
      ]
     },
     "metadata": {},
     "output_type": "display_data"
    },
    {
     "data": {
      "text/plain": [
       "2924.0"
      ]
     },
     "metadata": {},
     "output_type": "display_data"
    },
    {
     "data": {
      "text/plain": [
       "(2885, 10)"
      ]
     },
     "metadata": {},
     "output_type": "display_data"
    },
    {
     "data": {
      "text/plain": [
       "(2924, 22)"
      ]
     },
     "metadata": {},
     "output_type": "display_data"
    },
    {
     "data": {
      "text/plain": [
       "(99079, 13)"
      ]
     },
     "metadata": {},
     "output_type": "display_data"
    },
    {
     "name": "stdout",
     "output_type": "stream",
     "text": [
      "********************************************************************************************************************************************************************************************************\n"
     ]
    },
    {
     "data": {
      "text/plain": [
       "(2893, 31)"
      ]
     },
     "metadata": {},
     "output_type": "display_data"
    },
    {
     "data": {
      "text/plain": [
       "(2893, 31)"
      ]
     },
     "metadata": {},
     "output_type": "display_data"
    },
    {
     "data": {
      "text/plain": [
       "(2909, 43)"
      ]
     },
     "metadata": {},
     "output_type": "display_data"
    },
    {
     "data": {
      "text/plain": [
       "(2885, 43)"
      ]
     },
     "metadata": {},
     "output_type": "display_data"
    },
    {
     "data": {
      "text/plain": [
       "(2885, 43)"
      ]
     },
     "metadata": {},
     "output_type": "display_data"
    },
    {
     "name": "stdout",
     "output_type": "stream",
     "text": [
      "df_merg_2, data_close, merg_all\n"
     ]
    },
    {
     "name": "stderr",
     "output_type": "stream",
     "text": [
      "C:\\Users\\afecn\\anaconda3.1\\lib\\site-packages\\ipykernel_launcher.py:27: SettingWithCopyWarning: \n",
      "A value is trying to be set on a copy of a slice from a DataFrame\n",
      "\n",
      "See the caveats in the documentation: https://pandas.pydata.org/pandas-docs/stable/user_guide/indexing.html#returning-a-view-versus-a-copy\n"
     ]
    },
    {
     "data": {
      "text/plain": [
       "(48656, 8)"
      ]
     },
     "metadata": {},
     "output_type": "display_data"
    },
    {
     "data": {
      "text/plain": [
       "3041.0"
      ]
     },
     "metadata": {},
     "output_type": "display_data"
    },
    {
     "data": {
      "text/plain": [
       "(3007, 10)"
      ]
     },
     "metadata": {},
     "output_type": "display_data"
    },
    {
     "data": {
      "text/plain": [
       "(3041, 22)"
      ]
     },
     "metadata": {},
     "output_type": "display_data"
    },
    {
     "data": {
      "text/plain": [
       "(102991, 13)"
      ]
     },
     "metadata": {},
     "output_type": "display_data"
    },
    {
     "name": "stdout",
     "output_type": "stream",
     "text": [
      "********************************************************************************************************************************************************************************************************\n"
     ]
    },
    {
     "data": {
      "text/plain": [
       "(3010, 31)"
      ]
     },
     "metadata": {},
     "output_type": "display_data"
    },
    {
     "data": {
      "text/plain": [
       "(3010, 31)"
      ]
     },
     "metadata": {},
     "output_type": "display_data"
    },
    {
     "data": {
      "text/plain": [
       "(3018, 43)"
      ]
     },
     "metadata": {},
     "output_type": "display_data"
    },
    {
     "data": {
      "text/plain": [
       "(3006, 43)"
      ]
     },
     "metadata": {},
     "output_type": "display_data"
    },
    {
     "data": {
      "text/plain": [
       "(3006, 43)"
      ]
     },
     "metadata": {},
     "output_type": "display_data"
    },
    {
     "name": "stdout",
     "output_type": "stream",
     "text": [
      "df_merg_2, data_close, merg_all\n"
     ]
    },
    {
     "name": "stderr",
     "output_type": "stream",
     "text": [
      "C:\\Users\\afecn\\anaconda3.1\\lib\\site-packages\\ipykernel_launcher.py:27: SettingWithCopyWarning: \n",
      "A value is trying to be set on a copy of a slice from a DataFrame\n",
      "\n",
      "See the caveats in the documentation: https://pandas.pydata.org/pandas-docs/stable/user_guide/indexing.html#returning-a-view-versus-a-copy\n"
     ]
    },
    {
     "data": {
      "text/plain": [
       "(43376, 8)"
      ]
     },
     "metadata": {},
     "output_type": "display_data"
    },
    {
     "data": {
      "text/plain": [
       "2711.0"
      ]
     },
     "metadata": {},
     "output_type": "display_data"
    },
    {
     "data": {
      "text/plain": [
       "(2685, 10)"
      ]
     },
     "metadata": {},
     "output_type": "display_data"
    },
    {
     "data": {
      "text/plain": [
       "(2711, 22)"
      ]
     },
     "metadata": {},
     "output_type": "display_data"
    },
    {
     "data": {
      "text/plain": [
       "(92281, 13)"
      ]
     },
     "metadata": {},
     "output_type": "display_data"
    },
    {
     "name": "stdout",
     "output_type": "stream",
     "text": [
      "********************************************************************************************************************************************************************************************************\n"
     ]
    },
    {
     "data": {
      "text/plain": [
       "(2686, 31)"
      ]
     },
     "metadata": {},
     "output_type": "display_data"
    },
    {
     "data": {
      "text/plain": [
       "(2686, 31)"
      ]
     },
     "metadata": {},
     "output_type": "display_data"
    },
    {
     "data": {
      "text/plain": [
       "(2690, 43)"
      ]
     },
     "metadata": {},
     "output_type": "display_data"
    },
    {
     "data": {
      "text/plain": [
       "(2684, 43)"
      ]
     },
     "metadata": {},
     "output_type": "display_data"
    },
    {
     "data": {
      "text/plain": [
       "(2684, 43)"
      ]
     },
     "metadata": {},
     "output_type": "display_data"
    },
    {
     "name": "stdout",
     "output_type": "stream",
     "text": [
      "df_merg_2, data_close, merg_all\n",
      "Wall time: 7min 20s\n"
     ]
    }
   ],
   "source": [
    "%%time\n",
    "\n",
    "df_all = pd.DataFrame()\n",
    "for pp in ['GAZP', 'GMKN', 'LKOH', 'ROSN', 'SBER', 'VTBR']:\n",
    "    date_generate(pp, 16, '12:30') # date_generate(stock, N, TIME)\n",
    "    df_merg_2['Symbol'] = pp\n",
    "    df_all = df_all.append(df_merg_2)"
   ]
  },
  {
   "cell_type": "code",
   "execution_count": 39,
   "metadata": {},
   "outputs": [
    {
     "data": {
      "text/html": [
       "<div>\n",
       "<style scoped>\n",
       "    .dataframe tbody tr th:only-of-type {\n",
       "        vertical-align: middle;\n",
       "    }\n",
       "\n",
       "    .dataframe tbody tr th {\n",
       "        vertical-align: top;\n",
       "    }\n",
       "\n",
       "    .dataframe thead th {\n",
       "        text-align: right;\n",
       "    }\n",
       "</style>\n",
       "<table border=\"1\" class=\"dataframe\">\n",
       "  <thead>\n",
       "    <tr style=\"text-align: right;\">\n",
       "      <th></th>\n",
       "      <th>Date</th>\n",
       "      <th>Time_x</th>\n",
       "      <th>0</th>\n",
       "      <th>1</th>\n",
       "      <th>2</th>\n",
       "      <th>3</th>\n",
       "      <th>4</th>\n",
       "      <th>5</th>\n",
       "      <th>6</th>\n",
       "      <th>7</th>\n",
       "      <th>...</th>\n",
       "      <th>Close_y</th>\n",
       "      <th>Volume</th>\n",
       "      <th>Long</th>\n",
       "      <th>min_day</th>\n",
       "      <th>max_day</th>\n",
       "      <th>Cl/min_day</th>\n",
       "      <th>Cl/max_day</th>\n",
       "      <th>max_day-min_day</th>\n",
       "      <th>symbol</th>\n",
       "      <th>Symbol</th>\n",
       "    </tr>\n",
       "  </thead>\n",
       "  <tbody>\n",
       "    <tr>\n",
       "      <th>0</th>\n",
       "      <td>2006-01-24</td>\n",
       "      <td>2020-09-11 12:00:00</td>\n",
       "      <td>220.250000</td>\n",
       "      <td>220.440002</td>\n",
       "      <td>219.449997</td>\n",
       "      <td>219.399994</td>\n",
       "      <td>219.610001</td>\n",
       "      <td>219.490005</td>\n",
       "      <td>220.000000</td>\n",
       "      <td>218.960007</td>\n",
       "      <td>...</td>\n",
       "      <td>220.250000</td>\n",
       "      <td>149187</td>\n",
       "      <td>7</td>\n",
       "      <td>219.660004</td>\n",
       "      <td>220.869995</td>\n",
       "      <td>0.268595</td>\n",
       "      <td>-0.280706</td>\n",
       "      <td>0.549372</td>\n",
       "      <td>VTBR</td>\n",
       "      <td>GAZP</td>\n",
       "    </tr>\n",
       "    <tr>\n",
       "      <th>1</th>\n",
       "      <td>2006-01-25</td>\n",
       "      <td>2020-09-11 12:00:00</td>\n",
       "      <td>222.199997</td>\n",
       "      <td>222.199997</td>\n",
       "      <td>222.600006</td>\n",
       "      <td>222.449997</td>\n",
       "      <td>222.869995</td>\n",
       "      <td>222.899994</td>\n",
       "      <td>223.000000</td>\n",
       "      <td>223.889999</td>\n",
       "      <td>...</td>\n",
       "      <td>226.110001</td>\n",
       "      <td>796537</td>\n",
       "      <td>7</td>\n",
       "      <td>225.000000</td>\n",
       "      <td>231.000000</td>\n",
       "      <td>0.493334</td>\n",
       "      <td>-2.116883</td>\n",
       "      <td>2.653576</td>\n",
       "      <td>VTBR</td>\n",
       "      <td>GAZP</td>\n",
       "    </tr>\n",
       "    <tr>\n",
       "      <th>2</th>\n",
       "      <td>2006-01-26</td>\n",
       "      <td>2020-09-11 12:00:00</td>\n",
       "      <td>228.080002</td>\n",
       "      <td>228.789993</td>\n",
       "      <td>228.729996</td>\n",
       "      <td>228.500000</td>\n",
       "      <td>228.600006</td>\n",
       "      <td>228.449997</td>\n",
       "      <td>228.770004</td>\n",
       "      <td>228.699997</td>\n",
       "      <td>...</td>\n",
       "      <td>227.880005</td>\n",
       "      <td>171180</td>\n",
       "      <td>7</td>\n",
       "      <td>226.449997</td>\n",
       "      <td>229.410004</td>\n",
       "      <td>0.631489</td>\n",
       "      <td>-0.666928</td>\n",
       "      <td>1.298932</td>\n",
       "      <td>VTBR</td>\n",
       "      <td>GAZP</td>\n",
       "    </tr>\n",
       "    <tr>\n",
       "      <th>3</th>\n",
       "      <td>2006-01-27</td>\n",
       "      <td>2020-09-11 12:00:00</td>\n",
       "      <td>227.250000</td>\n",
       "      <td>226.699997</td>\n",
       "      <td>225.710007</td>\n",
       "      <td>224.500000</td>\n",
       "      <td>225.500000</td>\n",
       "      <td>225.160004</td>\n",
       "      <td>225.389999</td>\n",
       "      <td>225.160004</td>\n",
       "      <td>...</td>\n",
       "      <td>225.800003</td>\n",
       "      <td>116330</td>\n",
       "      <td>7</td>\n",
       "      <td>225.000000</td>\n",
       "      <td>227.199997</td>\n",
       "      <td>0.355557</td>\n",
       "      <td>-0.616195</td>\n",
       "      <td>0.974312</td>\n",
       "      <td>VTBR</td>\n",
       "      <td>GAZP</td>\n",
       "    </tr>\n",
       "    <tr>\n",
       "      <th>4</th>\n",
       "      <td>2006-01-30</td>\n",
       "      <td>2020-09-11 12:00:00</td>\n",
       "      <td>227.550003</td>\n",
       "      <td>227.000000</td>\n",
       "      <td>226.759995</td>\n",
       "      <td>227.899994</td>\n",
       "      <td>227.399994</td>\n",
       "      <td>227.449997</td>\n",
       "      <td>227.500000</td>\n",
       "      <td>227.729996</td>\n",
       "      <td>...</td>\n",
       "      <td>228.000000</td>\n",
       "      <td>333261</td>\n",
       "      <td>7</td>\n",
       "      <td>227.000000</td>\n",
       "      <td>231.070007</td>\n",
       "      <td>0.440529</td>\n",
       "      <td>-1.328605</td>\n",
       "      <td>1.785091</td>\n",
       "      <td>VTBR</td>\n",
       "      <td>GAZP</td>\n",
       "    </tr>\n",
       "    <tr>\n",
       "      <th>...</th>\n",
       "      <td>...</td>\n",
       "      <td>...</td>\n",
       "      <td>...</td>\n",
       "      <td>...</td>\n",
       "      <td>...</td>\n",
       "      <td>...</td>\n",
       "      <td>...</td>\n",
       "      <td>...</td>\n",
       "      <td>...</td>\n",
       "      <td>...</td>\n",
       "      <td>...</td>\n",
       "      <td>...</td>\n",
       "      <td>...</td>\n",
       "      <td>...</td>\n",
       "      <td>...</td>\n",
       "      <td>...</td>\n",
       "      <td>...</td>\n",
       "      <td>...</td>\n",
       "      <td>...</td>\n",
       "      <td>...</td>\n",
       "      <td>...</td>\n",
       "    </tr>\n",
       "    <tr>\n",
       "      <th>3033</th>\n",
       "      <td>2018-04-03</td>\n",
       "      <td>2020-09-11 12:00:00</td>\n",
       "      <td>141.210007</td>\n",
       "      <td>141.199997</td>\n",
       "      <td>140.899994</td>\n",
       "      <td>140.600006</td>\n",
       "      <td>141.360001</td>\n",
       "      <td>140.910004</td>\n",
       "      <td>140.320007</td>\n",
       "      <td>140.860001</td>\n",
       "      <td>...</td>\n",
       "      <td>140.490005</td>\n",
       "      <td>255620</td>\n",
       "      <td>9</td>\n",
       "      <td>139.809998</td>\n",
       "      <td>140.990005</td>\n",
       "      <td>0.486380</td>\n",
       "      <td>-0.354635</td>\n",
       "      <td>0.839923</td>\n",
       "      <td>VTBR</td>\n",
       "      <td>VTBR</td>\n",
       "    </tr>\n",
       "    <tr>\n",
       "      <th>3034</th>\n",
       "      <td>2018-04-04</td>\n",
       "      <td>2020-09-11 12:00:00</td>\n",
       "      <td>140.460007</td>\n",
       "      <td>140.539993</td>\n",
       "      <td>140.699997</td>\n",
       "      <td>140.699997</td>\n",
       "      <td>140.610001</td>\n",
       "      <td>140.660004</td>\n",
       "      <td>141.130005</td>\n",
       "      <td>140.669998</td>\n",
       "      <td>...</td>\n",
       "      <td>139.520004</td>\n",
       "      <td>1352580</td>\n",
       "      <td>9</td>\n",
       "      <td>139.500000</td>\n",
       "      <td>141.520004</td>\n",
       "      <td>0.014340</td>\n",
       "      <td>-1.413228</td>\n",
       "      <td>1.447824</td>\n",
       "      <td>VTBR</td>\n",
       "      <td>VTBR</td>\n",
       "    </tr>\n",
       "    <tr>\n",
       "      <th>3035</th>\n",
       "      <td>2018-04-05</td>\n",
       "      <td>2020-09-11 12:00:00</td>\n",
       "      <td>139.820007</td>\n",
       "      <td>139.570007</td>\n",
       "      <td>139.710007</td>\n",
       "      <td>139.740005</td>\n",
       "      <td>140.070007</td>\n",
       "      <td>140.190002</td>\n",
       "      <td>140.179993</td>\n",
       "      <td>141.199997</td>\n",
       "      <td>...</td>\n",
       "      <td>140.720001</td>\n",
       "      <td>175790</td>\n",
       "      <td>9</td>\n",
       "      <td>140.149994</td>\n",
       "      <td>141.350006</td>\n",
       "      <td>0.406712</td>\n",
       "      <td>-0.445706</td>\n",
       "      <td>0.852766</td>\n",
       "      <td>VTBR</td>\n",
       "      <td>VTBR</td>\n",
       "    </tr>\n",
       "    <tr>\n",
       "      <th>3036</th>\n",
       "      <td>2018-04-06</td>\n",
       "      <td>2020-09-11 12:00:00</td>\n",
       "      <td>140.600006</td>\n",
       "      <td>140.190002</td>\n",
       "      <td>140.149994</td>\n",
       "      <td>140.610001</td>\n",
       "      <td>140.309998</td>\n",
       "      <td>140.250000</td>\n",
       "      <td>140.500000</td>\n",
       "      <td>140.139999</td>\n",
       "      <td>...</td>\n",
       "      <td>141.330002</td>\n",
       "      <td>192740</td>\n",
       "      <td>9</td>\n",
       "      <td>139.449997</td>\n",
       "      <td>141.399994</td>\n",
       "      <td>1.348157</td>\n",
       "      <td>-0.049499</td>\n",
       "      <td>1.379747</td>\n",
       "      <td>VTBR</td>\n",
       "      <td>VTBR</td>\n",
       "    </tr>\n",
       "    <tr>\n",
       "      <th>3037</th>\n",
       "      <td>2018-04-09</td>\n",
       "      <td>2020-09-11 12:00:00</td>\n",
       "      <td>141.910004</td>\n",
       "      <td>141.460007</td>\n",
       "      <td>141.059998</td>\n",
       "      <td>140.990005</td>\n",
       "      <td>140.979996</td>\n",
       "      <td>141.179993</td>\n",
       "      <td>141.500000</td>\n",
       "      <td>139.440002</td>\n",
       "      <td>...</td>\n",
       "      <td>135.500000</td>\n",
       "      <td>5124010</td>\n",
       "      <td>9</td>\n",
       "      <td>134.509995</td>\n",
       "      <td>141.220001</td>\n",
       "      <td>0.736009</td>\n",
       "      <td>-4.050419</td>\n",
       "      <td>4.952034</td>\n",
       "      <td>VTBR</td>\n",
       "      <td>VTBR</td>\n",
       "    </tr>\n",
       "  </tbody>\n",
       "</table>\n",
       "<p>18084 rows × 45 columns</p>\n",
       "</div>"
      ],
      "text/plain": [
       "           Date              Time_x           0           1           2  \\\n",
       "0    2006-01-24 2020-09-11 12:00:00  220.250000  220.440002  219.449997   \n",
       "1    2006-01-25 2020-09-11 12:00:00  222.199997  222.199997  222.600006   \n",
       "2    2006-01-26 2020-09-11 12:00:00  228.080002  228.789993  228.729996   \n",
       "3    2006-01-27 2020-09-11 12:00:00  227.250000  226.699997  225.710007   \n",
       "4    2006-01-30 2020-09-11 12:00:00  227.550003  227.000000  226.759995   \n",
       "...         ...                 ...         ...         ...         ...   \n",
       "3033 2018-04-03 2020-09-11 12:00:00  141.210007  141.199997  140.899994   \n",
       "3034 2018-04-04 2020-09-11 12:00:00  140.460007  140.539993  140.699997   \n",
       "3035 2018-04-05 2020-09-11 12:00:00  139.820007  139.570007  139.710007   \n",
       "3036 2018-04-06 2020-09-11 12:00:00  140.600006  140.190002  140.149994   \n",
       "3037 2018-04-09 2020-09-11 12:00:00  141.910004  141.460007  141.059998   \n",
       "\n",
       "               3           4           5           6           7  ...  \\\n",
       "0     219.399994  219.610001  219.490005  220.000000  218.960007  ...   \n",
       "1     222.449997  222.869995  222.899994  223.000000  223.889999  ...   \n",
       "2     228.500000  228.600006  228.449997  228.770004  228.699997  ...   \n",
       "3     224.500000  225.500000  225.160004  225.389999  225.160004  ...   \n",
       "4     227.899994  227.399994  227.449997  227.500000  227.729996  ...   \n",
       "...          ...         ...         ...         ...         ...  ...   \n",
       "3033  140.600006  141.360001  140.910004  140.320007  140.860001  ...   \n",
       "3034  140.699997  140.610001  140.660004  141.130005  140.669998  ...   \n",
       "3035  139.740005  140.070007  140.190002  140.179993  141.199997  ...   \n",
       "3036  140.610001  140.309998  140.250000  140.500000  140.139999  ...   \n",
       "3037  140.990005  140.979996  141.179993  141.500000  139.440002  ...   \n",
       "\n",
       "         Close_y   Volume  Long     min_day     max_day  Cl/min_day  \\\n",
       "0     220.250000   149187     7  219.660004  220.869995    0.268595   \n",
       "1     226.110001   796537     7  225.000000  231.000000    0.493334   \n",
       "2     227.880005   171180     7  226.449997  229.410004    0.631489   \n",
       "3     225.800003   116330     7  225.000000  227.199997    0.355557   \n",
       "4     228.000000   333261     7  227.000000  231.070007    0.440529   \n",
       "...          ...      ...   ...         ...         ...         ...   \n",
       "3033  140.490005   255620     9  139.809998  140.990005    0.486380   \n",
       "3034  139.520004  1352580     9  139.500000  141.520004    0.014340   \n",
       "3035  140.720001   175790     9  140.149994  141.350006    0.406712   \n",
       "3036  141.330002   192740     9  139.449997  141.399994    1.348157   \n",
       "3037  135.500000  5124010     9  134.509995  141.220001    0.736009   \n",
       "\n",
       "      Cl/max_day  max_day-min_day  symbol  Symbol  \n",
       "0      -0.280706         0.549372    VTBR    GAZP  \n",
       "1      -2.116883         2.653576    VTBR    GAZP  \n",
       "2      -0.666928         1.298932    VTBR    GAZP  \n",
       "3      -0.616195         0.974312    VTBR    GAZP  \n",
       "4      -1.328605         1.785091    VTBR    GAZP  \n",
       "...          ...              ...     ...     ...  \n",
       "3033   -0.354635         0.839923    VTBR    VTBR  \n",
       "3034   -1.413228         1.447824    VTBR    VTBR  \n",
       "3035   -0.445706         0.852766    VTBR    VTBR  \n",
       "3036   -0.049499         1.379747    VTBR    VTBR  \n",
       "3037   -4.050419         4.952034    VTBR    VTBR  \n",
       "\n",
       "[18084 rows x 45 columns]"
      ]
     },
     "execution_count": 39,
     "metadata": {},
     "output_type": "execute_result"
    }
   ],
   "source": [
    "df_all"
   ]
  },
  {
   "cell_type": "code",
   "execution_count": 25,
   "metadata": {},
   "outputs": [],
   "source": [
    "TA = pd.read_csv('df3.csv', parse_dates=['Date', 'Time'])"
   ]
  },
  {
   "cell_type": "code",
   "execution_count": null,
   "metadata": {},
   "outputs": [],
   "source": []
  },
  {
   "cell_type": "code",
   "execution_count": 29,
   "metadata": {
    "scrolled": true
   },
   "outputs": [
    {
     "data": {
      "text/html": [
       "<div>\n",
       "<style scoped>\n",
       "    .dataframe tbody tr th:only-of-type {\n",
       "        vertical-align: middle;\n",
       "    }\n",
       "\n",
       "    .dataframe tbody tr th {\n",
       "        vertical-align: top;\n",
       "    }\n",
       "\n",
       "    .dataframe thead th {\n",
       "        text-align: right;\n",
       "    }\n",
       "</style>\n",
       "<table border=\"1\" class=\"dataframe\">\n",
       "  <thead>\n",
       "    <tr style=\"text-align: right;\">\n",
       "      <th></th>\n",
       "      <th>Unnamed: 0</th>\n",
       "      <th>Date</th>\n",
       "      <th>Time</th>\n",
       "      <th>Open</th>\n",
       "      <th>High</th>\n",
       "      <th>Low</th>\n",
       "      <th>Close</th>\n",
       "      <th>Volume</th>\n",
       "      <th>Symbol</th>\n",
       "      <th>ADX_16</th>\n",
       "      <th>...</th>\n",
       "      <th>HT_PHASOR_inphase</th>\n",
       "      <th>HT_PHASOR_quadrature</th>\n",
       "      <th>HT_SINE_sine</th>\n",
       "      <th>HT_SINE_leadsine</th>\n",
       "      <th>BBANDS_upperband</th>\n",
       "      <th>BBANDS_middleband</th>\n",
       "      <th>BBANDS_lowerband</th>\n",
       "      <th>MAMA_mama</th>\n",
       "      <th>MAMA_fama</th>\n",
       "      <th>12:00</th>\n",
       "    </tr>\n",
       "  </thead>\n",
       "  <tbody>\n",
       "    <tr>\n",
       "      <th>17</th>\n",
       "      <td>107</td>\n",
       "      <td>2006-01-26</td>\n",
       "      <td>2020-09-06 12:30:00</td>\n",
       "      <td>227.789993</td>\n",
       "      <td>228.259994</td>\n",
       "      <td>227.539993</td>\n",
       "      <td>228.000000</td>\n",
       "      <td>150271</td>\n",
       "      <td>GAZP</td>\n",
       "      <td>-0.485807</td>\n",
       "      <td>...</td>\n",
       "      <td>-0.221780</td>\n",
       "      <td>0.001705</td>\n",
       "      <td>-0.127640</td>\n",
       "      <td>0.611068</td>\n",
       "      <td>-0.998263</td>\n",
       "      <td>-0.105057</td>\n",
       "      <td>0.990218</td>\n",
       "      <td>-0.339370</td>\n",
       "      <td>-0.341736</td>\n",
       "      <td>1</td>\n",
       "    </tr>\n",
       "    <tr>\n",
       "      <th>50</th>\n",
       "      <td>140</td>\n",
       "      <td>2006-01-27</td>\n",
       "      <td>2020-09-06 12:30:00</td>\n",
       "      <td>225.350006</td>\n",
       "      <td>225.690002</td>\n",
       "      <td>225.330002</td>\n",
       "      <td>225.550003</td>\n",
       "      <td>65461</td>\n",
       "      <td>GAZP</td>\n",
       "      <td>-0.187867</td>\n",
       "      <td>...</td>\n",
       "      <td>-0.220212</td>\n",
       "      <td>0.001557</td>\n",
       "      <td>0.949671</td>\n",
       "      <td>0.893019</td>\n",
       "      <td>-0.993943</td>\n",
       "      <td>-0.099638</td>\n",
       "      <td>0.995750</td>\n",
       "      <td>-0.336626</td>\n",
       "      <td>-0.338516</td>\n",
       "      <td>1</td>\n",
       "    </tr>\n",
       "    <tr>\n",
       "      <th>83</th>\n",
       "      <td>173</td>\n",
       "      <td>2006-01-30</td>\n",
       "      <td>2020-09-06 12:30:00</td>\n",
       "      <td>227.500000</td>\n",
       "      <td>227.500000</td>\n",
       "      <td>225.110001</td>\n",
       "      <td>225.350006</td>\n",
       "      <td>864927</td>\n",
       "      <td>GAZP</td>\n",
       "      <td>-0.736092</td>\n",
       "      <td>...</td>\n",
       "      <td>-0.221298</td>\n",
       "      <td>0.000484</td>\n",
       "      <td>-0.445184</td>\n",
       "      <td>-0.947964</td>\n",
       "      <td>-0.928022</td>\n",
       "      <td>-0.060391</td>\n",
       "      <td>0.997307</td>\n",
       "      <td>-0.313257</td>\n",
       "      <td>-0.314104</td>\n",
       "      <td>1</td>\n",
       "    </tr>\n",
       "    <tr>\n",
       "      <th>116</th>\n",
       "      <td>206</td>\n",
       "      <td>2006-01-31</td>\n",
       "      <td>2020-09-06 12:30:00</td>\n",
       "      <td>222.369995</td>\n",
       "      <td>222.699997</td>\n",
       "      <td>221.690002</td>\n",
       "      <td>222.399994</td>\n",
       "      <td>221180</td>\n",
       "      <td>GAZP</td>\n",
       "      <td>-0.328318</td>\n",
       "      <td>...</td>\n",
       "      <td>-0.218428</td>\n",
       "      <td>0.004453</td>\n",
       "      <td>0.821992</td>\n",
       "      <td>0.983933</td>\n",
       "      <td>-0.952900</td>\n",
       "      <td>-0.124511</td>\n",
       "      <td>0.902667</td>\n",
       "      <td>-0.352053</td>\n",
       "      <td>-0.358310</td>\n",
       "      <td>1</td>\n",
       "    </tr>\n",
       "    <tr>\n",
       "      <th>149</th>\n",
       "      <td>239</td>\n",
       "      <td>2006-02-01</td>\n",
       "      <td>2020-09-06 12:30:00</td>\n",
       "      <td>220.729996</td>\n",
       "      <td>222.199997</td>\n",
       "      <td>220.729996</td>\n",
       "      <td>222.000000</td>\n",
       "      <td>282701</td>\n",
       "      <td>GAZP</td>\n",
       "      <td>-0.702989</td>\n",
       "      <td>...</td>\n",
       "      <td>-0.219458</td>\n",
       "      <td>0.004226</td>\n",
       "      <td>0.227375</td>\n",
       "      <td>-0.527807</td>\n",
       "      <td>-0.993386</td>\n",
       "      <td>-0.124212</td>\n",
       "      <td>0.948258</td>\n",
       "      <td>-0.362655</td>\n",
       "      <td>-0.369229</td>\n",
       "      <td>1</td>\n",
       "    </tr>\n",
       "    <tr>\n",
       "      <th>...</th>\n",
       "      <td>...</td>\n",
       "      <td>...</td>\n",
       "      <td>...</td>\n",
       "      <td>...</td>\n",
       "      <td>...</td>\n",
       "      <td>...</td>\n",
       "      <td>...</td>\n",
       "      <td>...</td>\n",
       "      <td>...</td>\n",
       "      <td>...</td>\n",
       "      <td>...</td>\n",
       "      <td>...</td>\n",
       "      <td>...</td>\n",
       "      <td>...</td>\n",
       "      <td>...</td>\n",
       "      <td>...</td>\n",
       "      <td>...</td>\n",
       "      <td>...</td>\n",
       "      <td>...</td>\n",
       "      <td>...</td>\n",
       "      <td>...</td>\n",
       "    </tr>\n",
       "    <tr>\n",
       "      <th>603728</th>\n",
       "      <td>92111</td>\n",
       "      <td>2018-04-03</td>\n",
       "      <td>2020-09-06 12:30:00</td>\n",
       "      <td>0.052410</td>\n",
       "      <td>0.053100</td>\n",
       "      <td>0.052240</td>\n",
       "      <td>0.052640</td>\n",
       "      <td>6506640</td>\n",
       "      <td>VTBR</td>\n",
       "      <td>-0.486078</td>\n",
       "      <td>...</td>\n",
       "      <td>-0.220899</td>\n",
       "      <td>0.001737</td>\n",
       "      <td>0.587424</td>\n",
       "      <td>0.987618</td>\n",
       "      <td>-0.966202</td>\n",
       "      <td>-0.189899</td>\n",
       "      <td>0.792737</td>\n",
       "      <td>-0.432547</td>\n",
       "      <td>-0.410370</td>\n",
       "      <td>1</td>\n",
       "    </tr>\n",
       "    <tr>\n",
       "      <th>603764</th>\n",
       "      <td>92147</td>\n",
       "      <td>2018-04-04</td>\n",
       "      <td>2020-09-06 12:30:00</td>\n",
       "      <td>0.052260</td>\n",
       "      <td>0.052380</td>\n",
       "      <td>0.052250</td>\n",
       "      <td>0.052270</td>\n",
       "      <td>282960</td>\n",
       "      <td>VTBR</td>\n",
       "      <td>-0.300991</td>\n",
       "      <td>...</td>\n",
       "      <td>-0.220899</td>\n",
       "      <td>0.001737</td>\n",
       "      <td>-0.505436</td>\n",
       "      <td>-0.967534</td>\n",
       "      <td>-0.999066</td>\n",
       "      <td>-0.101304</td>\n",
       "      <td>0.998270</td>\n",
       "      <td>-0.333469</td>\n",
       "      <td>-0.340800</td>\n",
       "      <td>1</td>\n",
       "    </tr>\n",
       "    <tr>\n",
       "      <th>603800</th>\n",
       "      <td>92183</td>\n",
       "      <td>2018-04-05</td>\n",
       "      <td>2020-09-06 12:30:00</td>\n",
       "      <td>0.053160</td>\n",
       "      <td>0.053160</td>\n",
       "      <td>0.052970</td>\n",
       "      <td>0.053050</td>\n",
       "      <td>1688240</td>\n",
       "      <td>VTBR</td>\n",
       "      <td>-0.364812</td>\n",
       "      <td>...</td>\n",
       "      <td>-0.220899</td>\n",
       "      <td>0.001736</td>\n",
       "      <td>-0.001487</td>\n",
       "      <td>-0.708157</td>\n",
       "      <td>-0.982879</td>\n",
       "      <td>-0.099869</td>\n",
       "      <td>0.983007</td>\n",
       "      <td>-0.337527</td>\n",
       "      <td>-0.355005</td>\n",
       "      <td>1</td>\n",
       "    </tr>\n",
       "    <tr>\n",
       "      <th>603836</th>\n",
       "      <td>92219</td>\n",
       "      <td>2018-04-06</td>\n",
       "      <td>2020-09-06 12:30:00</td>\n",
       "      <td>0.054840</td>\n",
       "      <td>0.054860</td>\n",
       "      <td>0.054800</td>\n",
       "      <td>0.054840</td>\n",
       "      <td>624090</td>\n",
       "      <td>VTBR</td>\n",
       "      <td>0.169943</td>\n",
       "      <td>...</td>\n",
       "      <td>-0.220899</td>\n",
       "      <td>0.001737</td>\n",
       "      <td>0.195733</td>\n",
       "      <td>-0.555025</td>\n",
       "      <td>-0.987067</td>\n",
       "      <td>-0.097657</td>\n",
       "      <td>0.991884</td>\n",
       "      <td>-0.344180</td>\n",
       "      <td>-0.372558</td>\n",
       "      <td>1</td>\n",
       "    </tr>\n",
       "    <tr>\n",
       "      <th>603872</th>\n",
       "      <td>92255</td>\n",
       "      <td>2018-04-09</td>\n",
       "      <td>2020-09-06 12:30:00</td>\n",
       "      <td>0.051690</td>\n",
       "      <td>0.051750</td>\n",
       "      <td>0.050050</td>\n",
       "      <td>0.050190</td>\n",
       "      <td>6776180</td>\n",
       "      <td>VTBR</td>\n",
       "      <td>-0.052120</td>\n",
       "      <td>...</td>\n",
       "      <td>-0.220900</td>\n",
       "      <td>0.001739</td>\n",
       "      <td>-0.190536</td>\n",
       "      <td>0.559424</td>\n",
       "      <td>-0.779864</td>\n",
       "      <td>0.025412</td>\n",
       "      <td>0.996218</td>\n",
       "      <td>-0.171237</td>\n",
       "      <td>-0.145320</td>\n",
       "      <td>1</td>\n",
       "    </tr>\n",
       "  </tbody>\n",
       "</table>\n",
       "<p>17820 rows × 81 columns</p>\n",
       "</div>"
      ],
      "text/plain": [
       "        Unnamed: 0       Date                Time        Open        High  \\\n",
       "17             107 2006-01-26 2020-09-06 12:30:00  227.789993  228.259994   \n",
       "50             140 2006-01-27 2020-09-06 12:30:00  225.350006  225.690002   \n",
       "83             173 2006-01-30 2020-09-06 12:30:00  227.500000  227.500000   \n",
       "116            206 2006-01-31 2020-09-06 12:30:00  222.369995  222.699997   \n",
       "149            239 2006-02-01 2020-09-06 12:30:00  220.729996  222.199997   \n",
       "...            ...        ...                 ...         ...         ...   \n",
       "603728       92111 2018-04-03 2020-09-06 12:30:00    0.052410    0.053100   \n",
       "603764       92147 2018-04-04 2020-09-06 12:30:00    0.052260    0.052380   \n",
       "603800       92183 2018-04-05 2020-09-06 12:30:00    0.053160    0.053160   \n",
       "603836       92219 2018-04-06 2020-09-06 12:30:00    0.054840    0.054860   \n",
       "603872       92255 2018-04-09 2020-09-06 12:30:00    0.051690    0.051750   \n",
       "\n",
       "               Low       Close   Volume Symbol    ADX_16  ...  \\\n",
       "17      227.539993  228.000000   150271   GAZP -0.485807  ...   \n",
       "50      225.330002  225.550003    65461   GAZP -0.187867  ...   \n",
       "83      225.110001  225.350006   864927   GAZP -0.736092  ...   \n",
       "116     221.690002  222.399994   221180   GAZP -0.328318  ...   \n",
       "149     220.729996  222.000000   282701   GAZP -0.702989  ...   \n",
       "...            ...         ...      ...    ...       ...  ...   \n",
       "603728    0.052240    0.052640  6506640   VTBR -0.486078  ...   \n",
       "603764    0.052250    0.052270   282960   VTBR -0.300991  ...   \n",
       "603800    0.052970    0.053050  1688240   VTBR -0.364812  ...   \n",
       "603836    0.054800    0.054840   624090   VTBR  0.169943  ...   \n",
       "603872    0.050050    0.050190  6776180   VTBR -0.052120  ...   \n",
       "\n",
       "        HT_PHASOR_inphase  HT_PHASOR_quadrature  HT_SINE_sine  \\\n",
       "17              -0.221780              0.001705     -0.127640   \n",
       "50              -0.220212              0.001557      0.949671   \n",
       "83              -0.221298              0.000484     -0.445184   \n",
       "116             -0.218428              0.004453      0.821992   \n",
       "149             -0.219458              0.004226      0.227375   \n",
       "...                   ...                   ...           ...   \n",
       "603728          -0.220899              0.001737      0.587424   \n",
       "603764          -0.220899              0.001737     -0.505436   \n",
       "603800          -0.220899              0.001736     -0.001487   \n",
       "603836          -0.220899              0.001737      0.195733   \n",
       "603872          -0.220900              0.001739     -0.190536   \n",
       "\n",
       "        HT_SINE_leadsine  BBANDS_upperband  BBANDS_middleband  \\\n",
       "17              0.611068         -0.998263          -0.105057   \n",
       "50              0.893019         -0.993943          -0.099638   \n",
       "83             -0.947964         -0.928022          -0.060391   \n",
       "116             0.983933         -0.952900          -0.124511   \n",
       "149            -0.527807         -0.993386          -0.124212   \n",
       "...                  ...               ...                ...   \n",
       "603728          0.987618         -0.966202          -0.189899   \n",
       "603764         -0.967534         -0.999066          -0.101304   \n",
       "603800         -0.708157         -0.982879          -0.099869   \n",
       "603836         -0.555025         -0.987067          -0.097657   \n",
       "603872          0.559424         -0.779864           0.025412   \n",
       "\n",
       "        BBANDS_lowerband  MAMA_mama  MAMA_fama  12:00  \n",
       "17              0.990218  -0.339370  -0.341736      1  \n",
       "50              0.995750  -0.336626  -0.338516      1  \n",
       "83              0.997307  -0.313257  -0.314104      1  \n",
       "116             0.902667  -0.352053  -0.358310      1  \n",
       "149             0.948258  -0.362655  -0.369229      1  \n",
       "...                  ...        ...        ...    ...  \n",
       "603728          0.792737  -0.432547  -0.410370      1  \n",
       "603764          0.998270  -0.333469  -0.340800      1  \n",
       "603800          0.983007  -0.337527  -0.355005      1  \n",
       "603836          0.991884  -0.344180  -0.372558      1  \n",
       "603872          0.996218  -0.171237  -0.145320      1  \n",
       "\n",
       "[17820 rows x 81 columns]"
      ]
     },
     "execution_count": 29,
     "metadata": {},
     "output_type": "execute_result"
    }
   ],
   "source": [
    "#corection with TA\n",
    "\n",
    "TA[TIME] = np.where(TA.Time == '2020-09-06 12:30:00', 1, 0) #СОЗДАЛИ СТОЛБЕЦ ГДЕ 1 ЕСЛИ ВРЕМЯ СОВПАЛО С TIME\n",
    "TA_for_merg = TA[TA[TIME] == 1]\n",
    "TA_for_merg"
   ]
  },
  {
   "cell_type": "code",
   "execution_count": 42,
   "metadata": {},
   "outputs": [],
   "source": [
    "merg_with_TA = pd.merge(TA_for_merg, df_all, on = ['Date', 'Symbol'], how='inner')"
   ]
  },
  {
   "cell_type": "code",
   "execution_count": 43,
   "metadata": {},
   "outputs": [
    {
     "data": {
      "text/plain": [
       "(18084, 45)"
      ]
     },
     "metadata": {},
     "output_type": "display_data"
    },
    {
     "data": {
      "text/plain": [
       "(17621, 124)"
      ]
     },
     "metadata": {},
     "output_type": "display_data"
    },
    {
     "data": {
      "text/plain": [
       "(17590, 124)"
      ]
     },
     "metadata": {},
     "output_type": "display_data"
    }
   ],
   "source": [
    "display(df_all.shape)\n",
    "display(merg_with_TA.shape)\n",
    "merg_with_TA.drop_duplicates(['Date', 'Symbol'], inplace=True)\n",
    "display(merg_with_TA.shape)"
   ]
  },
  {
   "cell_type": "code",
   "execution_count": 45,
   "metadata": {},
   "outputs": [
    {
     "data": {
      "text/plain": [
       "['Unnamed: 0',\n",
       " 'Date',\n",
       " 'Time',\n",
       " 'Open_x',\n",
       " 'High_x',\n",
       " 'Low_x',\n",
       " 'Close',\n",
       " 'Volume_x',\n",
       " 'Symbol',\n",
       " 'ADX_16',\n",
       " 'ADXR_16',\n",
       " 'APO_16',\n",
       " 'AROONOSC_16',\n",
       " 'BOP_16',\n",
       " 'CCI_16',\n",
       " 'CMO_16',\n",
       " 'DX_16',\n",
       " 'MFI_16',\n",
       " 'MINUS_DI_16',\n",
       " 'MINUS_DM_16',\n",
       " 'MOM_16',\n",
       " 'PLUS_DI_16',\n",
       " 'PLUS_DM_16',\n",
       " 'PPO_16',\n",
       " 'ROC_16',\n",
       " 'ROCP_16',\n",
       " 'ROCR_16',\n",
       " 'ROCR100_16',\n",
       " 'RSI_16',\n",
       " 'TRIX_16',\n",
       " 'ULTOSC_16',\n",
       " 'WILLR_16',\n",
       " 'HT_DCPERIOD_16',\n",
       " 'HT_DCPHASE_16',\n",
       " 'HT_TRENDMODE_16',\n",
       " 'DEMA_16',\n",
       " 'EMA_16',\n",
       " 'HT_TRENDLINE_16',\n",
       " 'KAMA_16',\n",
       " 'MA_16',\n",
       " 'MIDPOINT_16',\n",
       " 'MIDPRICE_16',\n",
       " 'SMA_16',\n",
       " 'T3_16',\n",
       " 'TEMA_16',\n",
       " 'TRIMA_16',\n",
       " 'WMA_16',\n",
       " 'ATR_16',\n",
       " 'NATR_16',\n",
       " 'TRANGE_16',\n",
       " 'AD_16',\n",
       " 'ADOSC_16',\n",
       " 'OBV_16',\n",
       " 'Symbol.1',\n",
       " 'AROON_aroondown',\n",
       " 'AROON_aroonup',\n",
       " 'MACD_macd',\n",
       " 'MACD_macdsignal',\n",
       " 'MACD_macdhist',\n",
       " 'MACDEXT_macd',\n",
       " 'MACDEXT_macdsignal',\n",
       " 'MACDEXT_macdhist',\n",
       " 'MACDFIX_macd',\n",
       " 'MACDFIX_macdsignal',\n",
       " 'MACDFIX_macdhist',\n",
       " 'STOCH_slowk',\n",
       " 'STOCH_slowd',\n",
       " 'STOCHF_fastk',\n",
       " 'STOCHF_fastd',\n",
       " 'STOCHRSI_fastk',\n",
       " 'STOCHRSI_fastd',\n",
       " 'HT_PHASOR_inphase',\n",
       " 'HT_PHASOR_quadrature',\n",
       " 'HT_SINE_sine',\n",
       " 'HT_SINE_leadsine',\n",
       " 'BBANDS_upperband',\n",
       " 'BBANDS_middleband',\n",
       " 'BBANDS_lowerband',\n",
       " 'MAMA_mama',\n",
       " 'MAMA_fama',\n",
       " '12:00',\n",
       " 'Time_x',\n",
       " 0,\n",
       " 1,\n",
       " 2,\n",
       " 3,\n",
       " 4,\n",
       " 5,\n",
       " 6,\n",
       " 7,\n",
       " 8,\n",
       " 9,\n",
       " 10,\n",
       " 11,\n",
       " 12,\n",
       " 13,\n",
       " 14,\n",
       " 15,\n",
       " 'MinMaxScaler',\n",
       " 'Range',\n",
       " 'CltoMax',\n",
       " 'CltoMin',\n",
       " 'Close_x',\n",
       " 'Close11:00:00',\n",
       " 'Close12:00:00',\n",
       " 'Close13:00:00',\n",
       " 'Close14:00:00',\n",
       " 'Close15:00:00',\n",
       " 'Close16:00:00',\n",
       " 'Close17:00:00',\n",
       " 'Closelast_bar',\n",
       " 'Time_y',\n",
       " 'Open_y',\n",
       " 'High_y',\n",
       " 'Low_y',\n",
       " 'Close_y',\n",
       " 'Volume_y',\n",
       " 'Long',\n",
       " 'min_day',\n",
       " 'max_day',\n",
       " 'Cl/min_day',\n",
       " 'Cl/max_day',\n",
       " 'max_day-min_day',\n",
       " 'symbol']"
      ]
     },
     "execution_count": 45,
     "metadata": {},
     "output_type": "execute_result"
    }
   ],
   "source": [
    "list(merg_with_TA)"
   ]
  },
  {
   "cell_type": "code",
   "execution_count": null,
   "metadata": {},
   "outputs": [],
   "source": []
  }
 ],
 "metadata": {
  "kernelspec": {
   "display_name": "Python 3",
   "language": "python",
   "name": "python3"
  },
  "language_info": {
   "codemirror_mode": {
    "name": "ipython",
    "version": 3
   },
   "file_extension": ".py",
   "mimetype": "text/x-python",
   "name": "python",
   "nbconvert_exporter": "python",
   "pygments_lexer": "ipython3",
   "version": "3.7.6"
  }
 },
 "nbformat": 4,
 "nbformat_minor": 4
}
