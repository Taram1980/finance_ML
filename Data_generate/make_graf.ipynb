{
 "cells": [
  {
   "cell_type": "code",
   "execution_count": 5,
   "metadata": {},
   "outputs": [
    {
     "data": {
      "text/html": [
       "<style>.container { width:100% !important; }</style>"
      ],
      "text/plain": [
       "<IPython.core.display.HTML object>"
      ]
     },
     "metadata": {},
     "output_type": "display_data"
    }
   ],
   "source": [
    "from IPython.core.display import display, HTML\n",
    "display(HTML(\"<style>.container { width:100% !important; }</style>\"))\n",
    "import matplotlib.pyplot as plt"
   ]
  },
  {
   "cell_type": "code",
   "execution_count": 3,
   "metadata": {},
   "outputs": [],
   "source": [
    "def buy_hold():\n",
    "    dic = {}\n",
    "    for_ = ['GAZP','GMKN','LKOH','ROSN','SBER','VTBR']\n",
    "    graf = pd.pivot_table(profit_TIME,\n",
    "                         index=['Date'],\n",
    "                          columns = 'Symbol',\n",
    "                          values  = 'Closelast_bar'\n",
    "                         )\n",
    "    graf = graf.dropna()\n",
    "\n",
    "    for dd in for_:    \n",
    "        dic[f'{dd}_pr'] = (graf[dd]/graf[dd].shift(1)-1)*100\n",
    "\n",
    "    #display(graf)\n",
    "\n",
    "    graf = pd.concat([graf, pd.DataFrame(dic)], axis=1)\n",
    "    graf['mean']   = pd.DataFrame(dic).mean(axis=1)\n",
    "    graf = graf[graf.index.year >= 2010]\n",
    "    graf = graf.reset_index()\n",
    "    return(graf)"
   ]
  },
  {
   "cell_type": "code",
   "execution_count": 7,
   "metadata": {},
   "outputs": [],
   "source": [
    "#for_ = 'Proft1830'\n",
    "\n",
    "def my_graf(for_):\n",
    "    #создфем график\n",
    "    #СОРТИРОВКА ПО ВЕРОЯТНОСТИ\n",
    "\n",
    "    proba_all  = [for_]\n",
    "    tresh  = 0.55\n",
    "    time_  = datetime.time(12,45,0)\n",
    "    con = pd.DataFrame()\n",
    "    \n",
    "\n",
    "    for proba in proba_all:\n",
    "        pivo_max_ver_sort = pivo3[(pivo3[proba] >=tresh)&(pivo3['date_time'].dt.year.isin([2010,2011,2012,2013,2014,2015,2016,2017,2018,2019,2020]))&(pivo3['time'].dt.time >=time_)]\n",
    "        pivo_max_ver_sort = pd.pivot_table(pivo_max_ver_sort, index=['date_time', 'Symbol'])\n",
    "        pivo_max_ver_sort = pivo_max_ver_sort.reset_index().sort_values(['date_time', proba], ascending=[1,0]).set_index(['date_time', 'Symbol'])\n",
    "        pivo_max_ver_sort['proba1'] = pivo_max_ver_sort['2proba_Proft1000'] + pivo_max_ver_sort['2proba_Proft1300'] + pivo_max_ver_sort['2proba_Proft1830'] + pivo_max_ver_sort['2proba_ProftLaBa']\n",
    "\n",
    "\n",
    "    #   display(pivo_max_ver_sort[[proba]])\n",
    "\n",
    "        k1 = []\n",
    "        for oo in range(len(pivo_max_ver_sort)):\n",
    "            if pivo_max_ver_sort.index[oo][0].date() != pivo_max_ver_sort.index[oo-1][0].date():\n",
    "                k = 1\n",
    "            else:\n",
    "                k+=1\n",
    "            k1.append(k)\n",
    "        k1        \n",
    "        pivo_max_ver_sort['long'] = k1\n",
    "\n",
    "        pivo_max_ver_sort['Date'] = pivo_max_ver_sort.index.get_level_values(level = 0).date\n",
    "        pivo_max_ver_sort         = pivo_max_ver_sort[pivo_max_ver_sort['long'] == 1]\n",
    "        pivo_max_ver_sort['Date'] = pd.to_datetime(pivo_max_ver_sort['Date'])\n",
    "        pivo_max_ver_sort = pivo_max_ver_sort.dropna()\n",
    "    \n",
    "#     graf_my = pd.pivot_table(plot,\n",
    "#                          index=['Date'],\n",
    "#                           values  = for_\n",
    "#                          )\n",
    "#     graf_my = graf_my.dropna()\n",
    "\n",
    "#     #display(graf)\n",
    "\n",
    "#     graf_my = graf_my.reset_index()\n",
    "#     graf_my['Date'] = pd.to_datetime(graf_my['Date'])\n",
    "# #    graf_my['Date'].dt.year\n",
    "\n",
    "# #    display(graf_my.agg(['mean', 'count']))\n",
    "    return(pivo_max_ver_sort)"
   ]
  },
  {
   "cell_type": "code",
   "execution_count": null,
   "metadata": {},
   "outputs": [],
   "source": []
  }
 ],
 "metadata": {
  "kernelspec": {
   "display_name": "Python 3",
   "language": "python",
   "name": "python3"
  },
  "language_info": {
   "codemirror_mode": {
    "name": "ipython",
    "version": 3
   },
   "file_extension": ".py",
   "mimetype": "text/x-python",
   "name": "python",
   "nbconvert_exporter": "python",
   "pygments_lexer": "ipython3",
   "version": "3.7.6"
  }
 },
 "nbformat": 4,
 "nbformat_minor": 4
}
