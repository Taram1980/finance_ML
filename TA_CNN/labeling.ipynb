{
 "cells": [
  {
   "cell_type": "code",
   "execution_count": 5,
   "metadata": {},
   "outputs": [],
   "source": [
    "window_size=11\n",
    "#col_name='close'\n",
    "def create_labels(df, col_name):\n",
    "    row_counter = 0\n",
    "    total_rows = len(df)\n",
    "    labels = np.zeros(total_rows)\n",
    "    labels[:] = np.nan\n",
    "    print(\"Calculating labels\")\n",
    "    pbar = tqdm(total=total_rows)\n",
    "\n",
    "    while row_counter < total_rows:\n",
    "        if row_counter >= window_size - 1:\n",
    "            window_begin = row_counter - (window_size - 1)\n",
    "            window_end = row_counter\n",
    "            window_middle = (window_begin + window_end) / 2\n",
    "\n",
    "            min_ = np.inf\n",
    "            min_index = -1\n",
    "            max_ = -np.inf\n",
    "            max_index = -1\n",
    "            for i in range(window_begin, window_end + 1):\n",
    "                price = df.iloc[i][col_name]\n",
    "                if price < min_:\n",
    "                    min_ = price\n",
    "                    min_index = i\n",
    "                if price > max_:\n",
    "                    max_ = price\n",
    "                    max_index = i\n",
    "\n",
    "            if max_index == window_middle:\n",
    "                labels[int(window_middle)] = 0\n",
    "            elif min_index == window_middle:\n",
    "                labels[int(window_middle)] = 1\n",
    "            else:\n",
    "                labels[int(window_middle)] = 2\n",
    "\n",
    "        row_counter = row_counter + 1\n",
    "        pbar.update(1)\n",
    "\n",
    "    pbar.close()\n",
    "    shape = labels.shape\n",
    "    return labels, shape"
   ]
  },
  {
   "cell_type": "code",
   "execution_count": null,
   "metadata": {},
   "outputs": [],
   "source": []
  }
 ],
 "metadata": {
  "kernelspec": {
   "display_name": "Python 3",
   "language": "python",
   "name": "python3"
  },
  "language_info": {
   "codemirror_mode": {
    "name": "ipython",
    "version": 3
   },
   "file_extension": ".py",
   "mimetype": "text/x-python",
   "name": "python",
   "nbconvert_exporter": "python",
   "pygments_lexer": "ipython3",
   "version": "3.7.6"
  }
 },
 "nbformat": 4,
 "nbformat_minor": 4
}
